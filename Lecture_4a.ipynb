{
 "cells": [
  {
   "cell_type": "markdown",
   "metadata": {
    "colab_type": "text",
    "id": "view-in-github"
   },
   "source": [
    "<a href=\"https://colab.research.google.com/github/TAMIDSpiyalong/Introduction-to-Machine-Learning-for-Energy/blob/main/Lecture_4a.ipynb\" target=\"_parent\"><img src=\"https://colab.research.google.com/assets/colab-badge.svg\" alt=\"Open In Colab\"/></a>"
   ]
  },
  {
   "cell_type": "markdown",
   "metadata": {
    "id": "JDqRHsHmYH_A"
   },
   "source": [
    "# Text Tokenziation and Vectorization"
   ]
  },
  {
   "cell_type": "markdown",
   "metadata": {
    "id": "QgoqZrZLYPlS"
   },
   "source": [
    "Text tokenization is a crucial step in NLP that involves reformatting a piece of text into smaller units called “tokens.” These tokens serve as the building blocks for text vectorization, which converts text into numerical representations (vectors) that machine learning models can work with."
   ]
  },
  {
   "cell_type": "markdown",
   "metadata": {
    "id": "htkT3qqsZCoB"
   },
   "source": [
    "## Objectives"
   ]
  },
  {
   "cell_type": "markdown",
   "metadata": {
    "id": "JL1mg86kb4Ax"
   },
   "source": [
    "1. Use the bag of words method to process text and compare the difference between texts.\n",
    "2. Learn about TF-IDF (Term Frequency-Inverse Document Frequency) and use it to search texts.\n",
    "3. Use pretrained models to vectorize texts."
   ]
  },
  {
   "cell_type": "markdown",
   "metadata": {
    "id": "t81VT9JboTzt"
   },
   "source": [
    "## Basic Bag-of-Words (BOW)"
   ]
  },
  {
   "cell_type": "markdown",
   "metadata": {
    "id": "ILvS020Zzm6F"
   },
   "source": [
    "We want to build a basic bag-of-words (BOW) representation of our corpus. You can probably do this from scratch using dictionaries and lists (and maybe that's a good exercise). Fortunately, there are robust libraries which make it easy. We can use the scikit-learn **CountVectorizer** which takes a collection of text documents and creates a matrix of token counts:<br>\n",
    "https://scikit-learn.org/stable/index.html<br>"
   ]
  },
  {
   "cell_type": "code",
   "execution_count": 190,
   "metadata": {
    "id": "u_EAof8njfHz"
   },
   "outputs": [],
   "source": [
    "import spacy\n",
    "from scipy import spatial\n",
    "from sklearn.feature_extraction.text import CountVectorizer\n",
    "from sklearn.metrics.pairwise import cosine_similarity\n",
    "import pandas as pd\n"
   ]
  },
  {
   "cell_type": "code",
   "execution_count": 191,
   "metadata": {
    "id": "2fwfWQDVyJpY"
   },
   "outputs": [],
   "source": [
    "# A corpus of sentences.\n",
    "corpus = [\n",
    "  \"Red Bull drops hint on F1 engine.\",\n",
    "  \"Honda exits F1, leaving F1 partner Red Bull.\",\n",
    "  \"Hamilton eyes record eighth F1 title.\",\n",
    "  \"Aston Martin announces sponsor.\"\n",
    "]"
   ]
  },
  {
   "cell_type": "code",
   "execution_count": 192,
   "metadata": {
    "id": "IRhJPxbHwuj_"
   },
   "outputs": [],
   "source": [
    "vectorizer = CountVectorizer()"
   ]
  },
  {
   "cell_type": "markdown",
   "metadata": {
    "id": "iAphZMVPBX9P"
   },
   "source": [
    "The *fit_transform* method does two things:\n",
    "1. It learns a vocabulary dictionary from the corpus.\n",
    "2. It returns a matrix where each row represents a document and each column represents a token (i.e. term).<br>"
   ]
  },
  {
   "cell_type": "code",
   "execution_count": 193,
   "metadata": {
    "id": "-5wi4_C7BAWv"
   },
   "outputs": [],
   "source": [
    "bow = vectorizer.fit_transform(corpus)"
   ]
  },
  {
   "cell_type": "markdown",
   "metadata": {
    "id": "z3Bp1XNcF1FQ"
   },
   "source": [
    "We can take a look at the features and vocabulary dictionary. Notice the **CountVectorizer** took care of tokenization for us. It also removed punctuation and lower-cased everything."
   ]
  },
  {
   "cell_type": "code",
   "execution_count": 194,
   "metadata": {
    "id": "qlTKj8GPbQpD"
   },
   "outputs": [
    {
     "data": {
      "text/plain": [
       "array(['announces', 'aston', 'bull', 'drops', 'eighth', 'engine', 'exits',\n",
       "       'eyes', 'f1', 'hamilton', 'hint', 'honda', 'leaving', 'martin',\n",
       "       'on', 'partner', 'record', 'red', 'sponsor', 'title'], dtype=object)"
      ]
     },
     "execution_count": 194,
     "metadata": {},
     "output_type": "execute_result"
    }
   ],
   "source": [
    "vectorizer.get_feature_names_out()"
   ]
  },
  {
   "cell_type": "code",
   "execution_count": 195,
   "metadata": {},
   "outputs": [
    {
     "data": {
      "text/html": [
       "<div>\n",
       "<style scoped>\n",
       "    .dataframe tbody tr th:only-of-type {\n",
       "        vertical-align: middle;\n",
       "    }\n",
       "\n",
       "    .dataframe tbody tr th {\n",
       "        vertical-align: top;\n",
       "    }\n",
       "\n",
       "    .dataframe thead th {\n",
       "        text-align: right;\n",
       "    }\n",
       "</style>\n",
       "<table border=\"1\" class=\"dataframe\">\n",
       "  <thead>\n",
       "    <tr style=\"text-align: right;\">\n",
       "      <th></th>\n",
       "      <th>announces</th>\n",
       "      <th>aston</th>\n",
       "      <th>bull</th>\n",
       "      <th>drops</th>\n",
       "      <th>eighth</th>\n",
       "      <th>engine</th>\n",
       "      <th>exits</th>\n",
       "      <th>eyes</th>\n",
       "      <th>f1</th>\n",
       "      <th>hamilton</th>\n",
       "      <th>hint</th>\n",
       "      <th>honda</th>\n",
       "      <th>leaving</th>\n",
       "      <th>martin</th>\n",
       "      <th>on</th>\n",
       "      <th>partner</th>\n",
       "      <th>record</th>\n",
       "      <th>red</th>\n",
       "      <th>sponsor</th>\n",
       "      <th>title</th>\n",
       "    </tr>\n",
       "  </thead>\n",
       "  <tbody>\n",
       "    <tr>\n",
       "      <th>0</th>\n",
       "      <td>0</td>\n",
       "      <td>0</td>\n",
       "      <td>1</td>\n",
       "      <td>1</td>\n",
       "      <td>0</td>\n",
       "      <td>1</td>\n",
       "      <td>0</td>\n",
       "      <td>0</td>\n",
       "      <td>1</td>\n",
       "      <td>0</td>\n",
       "      <td>1</td>\n",
       "      <td>0</td>\n",
       "      <td>0</td>\n",
       "      <td>0</td>\n",
       "      <td>1</td>\n",
       "      <td>0</td>\n",
       "      <td>0</td>\n",
       "      <td>1</td>\n",
       "      <td>0</td>\n",
       "      <td>0</td>\n",
       "    </tr>\n",
       "    <tr>\n",
       "      <th>1</th>\n",
       "      <td>0</td>\n",
       "      <td>0</td>\n",
       "      <td>1</td>\n",
       "      <td>0</td>\n",
       "      <td>0</td>\n",
       "      <td>0</td>\n",
       "      <td>1</td>\n",
       "      <td>0</td>\n",
       "      <td>2</td>\n",
       "      <td>0</td>\n",
       "      <td>0</td>\n",
       "      <td>1</td>\n",
       "      <td>1</td>\n",
       "      <td>0</td>\n",
       "      <td>0</td>\n",
       "      <td>1</td>\n",
       "      <td>0</td>\n",
       "      <td>1</td>\n",
       "      <td>0</td>\n",
       "      <td>0</td>\n",
       "    </tr>\n",
       "    <tr>\n",
       "      <th>2</th>\n",
       "      <td>0</td>\n",
       "      <td>0</td>\n",
       "      <td>0</td>\n",
       "      <td>0</td>\n",
       "      <td>1</td>\n",
       "      <td>0</td>\n",
       "      <td>0</td>\n",
       "      <td>1</td>\n",
       "      <td>1</td>\n",
       "      <td>1</td>\n",
       "      <td>0</td>\n",
       "      <td>0</td>\n",
       "      <td>0</td>\n",
       "      <td>0</td>\n",
       "      <td>0</td>\n",
       "      <td>0</td>\n",
       "      <td>1</td>\n",
       "      <td>0</td>\n",
       "      <td>0</td>\n",
       "      <td>1</td>\n",
       "    </tr>\n",
       "    <tr>\n",
       "      <th>3</th>\n",
       "      <td>1</td>\n",
       "      <td>1</td>\n",
       "      <td>0</td>\n",
       "      <td>0</td>\n",
       "      <td>0</td>\n",
       "      <td>0</td>\n",
       "      <td>0</td>\n",
       "      <td>0</td>\n",
       "      <td>0</td>\n",
       "      <td>0</td>\n",
       "      <td>0</td>\n",
       "      <td>0</td>\n",
       "      <td>0</td>\n",
       "      <td>1</td>\n",
       "      <td>0</td>\n",
       "      <td>0</td>\n",
       "      <td>0</td>\n",
       "      <td>0</td>\n",
       "      <td>1</td>\n",
       "      <td>0</td>\n",
       "    </tr>\n",
       "  </tbody>\n",
       "</table>\n",
       "</div>"
      ],
      "text/plain": [
       "   announces  aston  bull  drops  eighth  engine  exits  eyes  f1  hamilton  \\\n",
       "0          0      0     1      1       0       1      0     0   1         0   \n",
       "1          0      0     1      0       0       0      1     0   2         0   \n",
       "2          0      0     0      0       1       0      0     1   1         1   \n",
       "3          1      1     0      0       0       0      0     0   0         0   \n",
       "\n",
       "   hint  honda  leaving  martin  on  partner  record  red  sponsor  title  \n",
       "0     1      0        0       0   1        0       0    1        0      0  \n",
       "1     0      1        1       0   0        1       0    1        0      0  \n",
       "2     0      0        0       0   0        0       1    0        0      1  \n",
       "3     0      0        0       1   0        0       0    0        1      0  "
      ]
     },
     "execution_count": 195,
     "metadata": {},
     "output_type": "execute_result"
    }
   ],
   "source": [
    "pd.DataFrame(bow.toarray(), columns = vectorizer.get_feature_names_out())"
   ]
  },
  {
   "cell_type": "markdown",
   "metadata": {
    "id": "3bywJ0XnGKPQ"
   },
   "source": [
    "Each scentence is represented in a row and each column corresponds to the word listed in the vocabulary. This is a very primitive way to carry information but it does its job to some level. Note the word sequence is not considered in such way of embedding."
   ]
  },
  {
   "cell_type": "markdown",
   "metadata": {
    "id": "XF0NVhdEUR1r"
   },
   "source": [
    "## Cosine Similarity"
   ]
  },
  {
   "cell_type": "markdown",
   "metadata": {
    "id": "leI1VuDVVP4W"
   },
   "source": [
    "Using the **spatial** package, which is a collection of spatial algorithms and data structures, we can measure how similar are these scentences to each other. To get the cosine *similarity*, we have to substract the distance from 1.<br>"
   ]
  },
  {
   "cell_type": "code",
   "execution_count": 66,
   "metadata": {
    "id": "kOQQ50IgXQfH"
   },
   "outputs": [
    {
     "name": "stdout",
     "output_type": "stream",
     "text": [
      "['Red Bull drops hint on F1 engine.', 'Honda exits F1, leaving F1 partner Red Bull.', 'Hamilton eyes record eighth F1 title.', 'Aston Martin announces sponsor.']\n",
      "Doc 1 vs Doc 2: 0.47809144373375745\n",
      "Doc 1 vs Doc 3: 0.15430334996209194\n",
      "Doc 1 vs Doc 4: 0.0\n"
     ]
    }
   ],
   "source": [
    "# The cosine method expects array_like inputs, so we need to generate\n",
    "# arrays from our sparse matrix.\n",
    "doc1_vs_doc2 = 1 - spatial.distance.cosine(bow[0].toarray()[0], bow[1].toarray()[0])\n",
    "doc1_vs_doc3 = 1 - spatial.distance.cosine(bow[0].toarray()[0], bow[2].toarray()[0])\n",
    "doc1_vs_doc4 = 1 - spatial.distance.cosine(bow[0].toarray()[0], bow[3].toarray()[0])\n",
    "\n",
    "print(corpus)\n",
    "\n",
    "print(f\"Doc 1 vs Doc 2: {doc1_vs_doc2}\")\n",
    "print(f\"Doc 1 vs Doc 3: {doc1_vs_doc3}\")\n",
    "print(f\"Doc 1 vs Doc 4: {doc1_vs_doc4}\")"
   ]
  },
  {
   "cell_type": "markdown",
   "metadata": {
    "id": "CnC_i4oH2ARW"
   },
   "source": [
    "# TF-IDF\n"
   ]
  },
  {
   "cell_type": "markdown",
   "metadata": {
    "id": "qrHI-1oMeKC6"
   },
   "source": [
    "The TF-IDF (Term Frequency-Inverse Document Frequency) helps in assessing the importance of a term in a document relative to a corpus of documents. The TF score for a term $t$ in a document $d$ is calculated as the product of the term frequency\n",
    "\n",
    "$TF(t,d)=f_{t,d}$\n",
    "\n",
    "and the IDF\n",
    "\n",
    "$IDF(t,D) =ln \\frac{N+1}{n_t+1}+1$\n",
    "\n",
    "where $N$ is the total number of documents and $n_t$ is the numbner of document $t$ appears in. The final TF-IDF score is expressed as:\n",
    "\n",
    "$s_t=TF(t,d)*IDF(t,D)$\n",
    "\n",
    "This formulation is consistent with the scikit-learn package. There are many variations of this score, e.g., with nomalization or $log_{10}$."
   ]
  },
  {
   "cell_type": "markdown",
   "metadata": {
    "id": "I7oXVC8vxq05"
   },
   "source": [
    "\n",
    "In the previous case, the TF-IDF score of \"f1\" in document 1 is equal to $1*(ln(5/4)+1)$."
   ]
  },
  {
   "cell_type": "code",
   "execution_count": 67,
   "metadata": {
    "id": "68_HinJnhXTI"
   },
   "outputs": [
    {
     "name": "stdout",
     "output_type": "stream",
     "text": [
      "(4, 20)\n"
     ]
    }
   ],
   "source": [
    "from sklearn.feature_extraction.text import TfidfVectorizer\n",
    "# A corpus of sentences.\n",
    "corpus = [\n",
    "  \"Red Bull drops hint on F1 engine.\",\n",
    "  \"Honda exits F1, leaving F1 partner Red Bull.\",\n",
    "  \"Hamilton eyes record eighth F1 title.\",\n",
    "  \"Aston Martin announces sponsor.\"\n",
    "]\n",
    "\n",
    "# Create TF-IDF vectorizer\n",
    "tfidf_vectorizer = TfidfVectorizer(norm=None)\n",
    "\n",
    "# Fit and transform the corpus\n",
    "tfidf_matrix = tfidf_vectorizer.fit_transform(corpus)\n",
    "\n",
    "print(tfidf_matrix.shape)"
   ]
  },
  {
   "cell_type": "code",
   "execution_count": null,
   "metadata": {},
   "outputs": [],
   "source": []
  },
  {
   "cell_type": "markdown",
   "metadata": {
    "id": "SH4eYlDl1hPC"
   },
   "source": [
    "TF-IDF scores for each term in each document"
   ]
  },
  {
   "cell_type": "code",
   "execution_count": 185,
   "metadata": {
    "id": "Z5HcMqAa1oJT"
   },
   "outputs": [
    {
     "data": {
      "text/html": [
       "<div>\n",
       "<style scoped>\n",
       "    .dataframe tbody tr th:only-of-type {\n",
       "        vertical-align: middle;\n",
       "    }\n",
       "\n",
       "    .dataframe tbody tr th {\n",
       "        vertical-align: top;\n",
       "    }\n",
       "\n",
       "    .dataframe thead th {\n",
       "        text-align: right;\n",
       "    }\n",
       "</style>\n",
       "<table border=\"1\" class=\"dataframe\">\n",
       "  <thead>\n",
       "    <tr style=\"text-align: right;\">\n",
       "      <th></th>\n",
       "      <th>announces</th>\n",
       "      <th>aston</th>\n",
       "      <th>bull</th>\n",
       "      <th>drops</th>\n",
       "      <th>eighth</th>\n",
       "      <th>engine</th>\n",
       "      <th>exits</th>\n",
       "      <th>eyes</th>\n",
       "      <th>f1</th>\n",
       "      <th>hamilton</th>\n",
       "      <th>hint</th>\n",
       "      <th>honda</th>\n",
       "      <th>leaving</th>\n",
       "      <th>martin</th>\n",
       "      <th>on</th>\n",
       "      <th>partner</th>\n",
       "      <th>record</th>\n",
       "      <th>red</th>\n",
       "      <th>sponsor</th>\n",
       "      <th>title</th>\n",
       "    </tr>\n",
       "  </thead>\n",
       "  <tbody>\n",
       "    <tr>\n",
       "      <th>0</th>\n",
       "      <td>0.000000</td>\n",
       "      <td>0.000000</td>\n",
       "      <td>1.510826</td>\n",
       "      <td>1.916291</td>\n",
       "      <td>0.000000</td>\n",
       "      <td>1.916291</td>\n",
       "      <td>0.000000</td>\n",
       "      <td>0.000000</td>\n",
       "      <td>1.223144</td>\n",
       "      <td>0.000000</td>\n",
       "      <td>1.916291</td>\n",
       "      <td>0.000000</td>\n",
       "      <td>0.000000</td>\n",
       "      <td>0.000000</td>\n",
       "      <td>1.916291</td>\n",
       "      <td>0.000000</td>\n",
       "      <td>0.000000</td>\n",
       "      <td>1.510826</td>\n",
       "      <td>0.000000</td>\n",
       "      <td>0.000000</td>\n",
       "    </tr>\n",
       "    <tr>\n",
       "      <th>1</th>\n",
       "      <td>0.000000</td>\n",
       "      <td>0.000000</td>\n",
       "      <td>1.510826</td>\n",
       "      <td>0.000000</td>\n",
       "      <td>0.000000</td>\n",
       "      <td>0.000000</td>\n",
       "      <td>1.916291</td>\n",
       "      <td>0.000000</td>\n",
       "      <td>2.446287</td>\n",
       "      <td>0.000000</td>\n",
       "      <td>0.000000</td>\n",
       "      <td>1.916291</td>\n",
       "      <td>1.916291</td>\n",
       "      <td>0.000000</td>\n",
       "      <td>0.000000</td>\n",
       "      <td>1.916291</td>\n",
       "      <td>0.000000</td>\n",
       "      <td>1.510826</td>\n",
       "      <td>0.000000</td>\n",
       "      <td>0.000000</td>\n",
       "    </tr>\n",
       "    <tr>\n",
       "      <th>2</th>\n",
       "      <td>0.000000</td>\n",
       "      <td>0.000000</td>\n",
       "      <td>0.000000</td>\n",
       "      <td>0.000000</td>\n",
       "      <td>1.916291</td>\n",
       "      <td>0.000000</td>\n",
       "      <td>0.000000</td>\n",
       "      <td>1.916291</td>\n",
       "      <td>1.223144</td>\n",
       "      <td>1.916291</td>\n",
       "      <td>0.000000</td>\n",
       "      <td>0.000000</td>\n",
       "      <td>0.000000</td>\n",
       "      <td>0.000000</td>\n",
       "      <td>0.000000</td>\n",
       "      <td>0.000000</td>\n",
       "      <td>1.916291</td>\n",
       "      <td>0.000000</td>\n",
       "      <td>0.000000</td>\n",
       "      <td>1.916291</td>\n",
       "    </tr>\n",
       "    <tr>\n",
       "      <th>3</th>\n",
       "      <td>1.916291</td>\n",
       "      <td>1.916291</td>\n",
       "      <td>0.000000</td>\n",
       "      <td>0.000000</td>\n",
       "      <td>0.000000</td>\n",
       "      <td>0.000000</td>\n",
       "      <td>0.000000</td>\n",
       "      <td>0.000000</td>\n",
       "      <td>0.000000</td>\n",
       "      <td>0.000000</td>\n",
       "      <td>0.000000</td>\n",
       "      <td>0.000000</td>\n",
       "      <td>0.000000</td>\n",
       "      <td>1.916291</td>\n",
       "      <td>0.000000</td>\n",
       "      <td>0.000000</td>\n",
       "      <td>0.000000</td>\n",
       "      <td>0.000000</td>\n",
       "      <td>1.916291</td>\n",
       "      <td>0.000000</td>\n",
       "    </tr>\n",
       "  </tbody>\n",
       "</table>\n",
       "</div>"
      ],
      "text/plain": [
       "   announces     aston      bull     drops    eighth    engine     exits  \\\n",
       "0   0.000000  0.000000  1.510826  1.916291  0.000000  1.916291  0.000000   \n",
       "1   0.000000  0.000000  1.510826  0.000000  0.000000  0.000000  1.916291   \n",
       "2   0.000000  0.000000  0.000000  0.000000  1.916291  0.000000  0.000000   \n",
       "3   1.916291  1.916291  0.000000  0.000000  0.000000  0.000000  0.000000   \n",
       "\n",
       "       eyes        f1  hamilton      hint     honda   leaving    martin  \\\n",
       "0  0.000000  1.223144  0.000000  1.916291  0.000000  0.000000  0.000000   \n",
       "1  0.000000  2.446287  0.000000  0.000000  1.916291  1.916291  0.000000   \n",
       "2  1.916291  1.223144  1.916291  0.000000  0.000000  0.000000  0.000000   \n",
       "3  0.000000  0.000000  0.000000  0.000000  0.000000  0.000000  1.916291   \n",
       "\n",
       "         on   partner    record       red   sponsor     title  \n",
       "0  1.916291  0.000000  0.000000  1.510826  0.000000  0.000000  \n",
       "1  0.000000  1.916291  0.000000  1.510826  0.000000  0.000000  \n",
       "2  0.000000  0.000000  1.916291  0.000000  0.000000  1.916291  \n",
       "3  0.000000  0.000000  0.000000  0.000000  1.916291  0.000000  "
      ]
     },
     "execution_count": 185,
     "metadata": {},
     "output_type": "execute_result"
    }
   ],
   "source": [
    "pd.DataFrame(tfidf_matrix.toarray(), columns = tfidf_vectorizer.get_feature_names_out())"
   ]
  },
  {
   "cell_type": "code",
   "execution_count": 186,
   "metadata": {
    "id": "zNvZpjOn1IF7"
   },
   "outputs": [
    {
     "data": {
      "text/plain": [
       "array([[0.33024164]])"
      ]
     },
     "execution_count": 186,
     "metadata": {},
     "output_type": "execute_result"
    }
   ],
   "source": [
    "cosine_similarity(tfidf_matrix[0], tfidf_matrix[1])"
   ]
  },
  {
   "cell_type": "code",
   "execution_count": 187,
   "metadata": {
    "id": "1hgQ5KNI07DI"
   },
   "outputs": [
    {
     "name": "stdout",
     "output_type": "stream",
     "text": [
      "Cosine Similarity between first document and the others:\n",
      "Document 2: [[0.33024164]]\n",
      "Document 3: [[0.07370387]]\n",
      "Document 4: [[0.]]\n"
     ]
    }
   ],
   "source": [
    "# Calculate cosine similarity between the first document and the others\n",
    "print(\"Cosine Similarity between first document and the others:\")\n",
    "for i, doc in enumerate(tfidf_matrix[1:]):\n",
    "    print(f\"Document {i+2}: {cosine_similarity(tfidf_matrix[0], tfidf_matrix[i+1])}\")\n"
   ]
  },
  {
   "cell_type": "markdown",
   "metadata": {
    "id": "QmcTBtSx-XqZ"
   },
   "source": [
    "## A little search engine with TF-IDF"
   ]
  },
  {
   "cell_type": "markdown",
   "metadata": {
    "id": "WYkq3i7_-qhQ"
   },
   "source": [
    "The TF-IDF features can also be used to look up some articles, which is how roughly search engine works. This time around, rather than using a short toy corpus, let's use a larger dataset. scikit-learn has a **datasets** module with utilties to load datasets."
   ]
  },
  {
   "cell_type": "code",
   "execution_count": 404,
   "metadata": {
    "id": "CMwv39AfP7Ti"
   },
   "outputs": [],
   "source": [
    "from sklearn.datasets import fetch_20newsgroups"
   ]
  },
  {
   "cell_type": "markdown",
   "metadata": {
    "id": "UYjxqxVBBINV"
   },
   "source": [
    "The **datasets** module includes fetchers for each dataset in scikit-learn. For our purposes, we'll fetch only the posts from the *sci.space* topic, and skip on headers, footers, and quoting of other posts.\n",
    "By default, the fetcher retrieves the *training* subset of the data only. If you don't know what that means, it'll become clear later in the course when we discuss modelling. For now, it doesn't matter for our purposes."
   ]
  },
  {
   "cell_type": "code",
   "execution_count": 405,
   "metadata": {
    "id": "T9to6gQNCGiN"
   },
   "outputs": [],
   "source": [
    "corpus = fetch_20newsgroups(categories=['sci.space'],\n",
    "                            remove=('headers', 'footers', 'quotes'))"
   ]
  },
  {
   "cell_type": "code",
   "execution_count": 406,
   "metadata": {
    "id": "q6AgmbL0ES9I"
   },
   "outputs": [
    {
     "data": {
      "text/plain": [
       "593"
      ]
     },
     "execution_count": 406,
     "metadata": {},
     "output_type": "execute_result"
    }
   ],
   "source": [
    "# Number of posts in our dataset.\n",
    "len(corpus.data)"
   ]
  },
  {
   "cell_type": "code",
   "execution_count": 407,
   "metadata": {
    "id": "qAjM4uNDEXGf"
   },
   "outputs": [
    {
     "name": "stdout",
     "output_type": "stream",
     "text": [
      "This might a real wierd idea or maybe not..\n",
      "\n",
      "I have seen where people have blown up ballons then sprayed material into them\n",
      "that then drys and makes hard walls...\n",
      "\n",
      "Why not do the same thing for a space station..\n",
      "\n",
      "Fly up the docking rings and baloon materials and such, blow up the baloons,\n",
      "spin then around (I know a problem in micro gravity) let them dry/cure/harden?\n",
      "and cut a hole for the docking/attaching ring and bingo a space station..\n",
      "\n",
      "Of course the ballons would have to be foil covered or someother radiation\n",
      "protective covering/heat shield(?) and the material used to make the wals would\n",
      "have to meet the out gasing and other specs or atleast the paint/covering of\n",
      "the inner wall would have to be human safe.. Maybe a special congrete or maybe\n",
      "the same material as makes caplets but with some changes (saw where someone\n",
      "instea dof water put beer in the caplet mixture, got a mix that was just as\n",
      "strong as congret but easier to carry around and such..)\n",
      "\n",
      "Sorry for any spelling errors, I missed school today.. (grin)..\n",
      "\n",
      "Why musta  space station be so difficult?? why must we have girders? why be\n",
      "confined to earth based ideas, lets think new ideas, after all space is not\n",
      "earth, why be limited by earth based ideas??\n"
     ]
    }
   ],
   "source": [
    "# View posts.\n",
    "print(corpus.data[15])"
   ]
  },
  {
   "cell_type": "markdown",
   "metadata": {
    "id": "dAGP5pqX3Tam"
   },
   "source": [
    "There are many tokenization tools such as ByteLevelBPETokenizer and SpaCy. Spacy is helpful for named entity recognition (NER), part-of-speech (POS) tagging, dependency parsing, and more. ByteLevelBPETokenizer is based on the Byte-Pair Encoding (BPE) algorithm, which is a subword tokenization technique. "
   ]
  },
  {
   "cell_type": "code",
   "execution_count": 408,
   "metadata": {},
   "outputs": [
    {
     "name": "stdout",
     "output_type": "stream",
     "text": [
      "Requirement already satisfied: tokenizers in c:\\users\\piyalong\\envs\\tamids\\lib\\site-packages (0.15.2)\n",
      "Requirement already satisfied: huggingface_hub<1.0,>=0.16.4 in c:\\users\\piyalong\\envs\\tamids\\lib\\site-packages (from tokenizers) (0.21.4)\n",
      "Requirement already satisfied: filelock in c:\\users\\piyalong\\envs\\tamids\\lib\\site-packages (from huggingface_hub<1.0,>=0.16.4->tokenizers) (3.9.0)\n",
      "Requirement already satisfied: fsspec>=2023.5.0 in c:\\users\\piyalong\\envs\\tamids\\lib\\site-packages (from huggingface_hub<1.0,>=0.16.4->tokenizers) (2024.3.0)\n",
      "Requirement already satisfied: requests in c:\\users\\piyalong\\envs\\tamids\\lib\\site-packages (from huggingface_hub<1.0,>=0.16.4->tokenizers) (2.31.0)\n",
      "Requirement already satisfied: tqdm>=4.42.1 in c:\\users\\piyalong\\envs\\tamids\\lib\\site-packages (from huggingface_hub<1.0,>=0.16.4->tokenizers) (4.66.2)\n",
      "Requirement already satisfied: pyyaml>=5.1 in c:\\users\\piyalong\\envs\\tamids\\lib\\site-packages (from huggingface_hub<1.0,>=0.16.4->tokenizers) (6.0.1)\n",
      "Requirement already satisfied: typing-extensions>=3.7.4.3 in c:\\users\\piyalong\\envs\\tamids\\lib\\site-packages (from huggingface_hub<1.0,>=0.16.4->tokenizers) (4.5.0)\n",
      "Requirement already satisfied: packaging>=20.9 in c:\\users\\piyalong\\envs\\tamids\\lib\\site-packages (from huggingface_hub<1.0,>=0.16.4->tokenizers) (24.0)\n",
      "Requirement already satisfied: colorama in c:\\users\\piyalong\\envs\\tamids\\lib\\site-packages (from tqdm>=4.42.1->huggingface_hub<1.0,>=0.16.4->tokenizers) (0.4.6)\n",
      "Requirement already satisfied: charset-normalizer<4,>=2 in c:\\users\\piyalong\\envs\\tamids\\lib\\site-packages (from requests->huggingface_hub<1.0,>=0.16.4->tokenizers) (3.3.2)\n",
      "Requirement already satisfied: idna<4,>=2.5 in c:\\users\\piyalong\\envs\\tamids\\lib\\site-packages (from requests->huggingface_hub<1.0,>=0.16.4->tokenizers) (3.6)\n",
      "Requirement already satisfied: urllib3<3,>=1.21.1 in c:\\users\\piyalong\\envs\\tamids\\lib\\site-packages (from requests->huggingface_hub<1.0,>=0.16.4->tokenizers) (2.2.1)\n",
      "Requirement already satisfied: certifi>=2017.4.17 in c:\\users\\piyalong\\envs\\tamids\\lib\\site-packages (from requests->huggingface_hub<1.0,>=0.16.4->tokenizers) (2024.2.2)\n",
      "Note: you may need to restart the kernel to use updated packages.\n"
     ]
    },
    {
     "name": "stderr",
     "output_type": "stream",
     "text": [
      "\n",
      "[notice] A new release of pip available: 22.3.1 -> 24.0\n",
      "[notice] To update, run: python.exe -m pip install --upgrade pip\n"
     ]
    }
   ],
   "source": [
    "pip install tokenizers"
   ]
  },
  {
   "cell_type": "code",
   "execution_count": 409,
   "metadata": {},
   "outputs": [
    {
     "name": "stdout",
     "output_type": "stream",
     "text": [
      "Subword tokens: ['R', 'e', 'd', 'Ġ', 'B', 'u', 'l', 'l', 'Ġ', 'd', 'r', 'o', 'p', 's', 'Ġ', 'h', 'in', 't', 'Ġ', 'o', 'n', 'Ġ', 'F', '1', 'Ġ', 'e', 'n', 'g', 'in', 'e', '.']\n"
     ]
    }
   ],
   "source": [
    "from tokenizers import ByteLevelBPETokenizer\n",
    "\n",
    "# Sample text\n",
    "text = \"Red Bull drops hint on F1 engine.\"\n",
    "\n",
    "# Initialize ByteLevelBPETokenizer\n",
    "tokenizer = ByteLevelBPETokenizer()\n",
    "\n",
    "# Train tokenizer on the sample text\n",
    "tokenizer.train_from_iterator([text])\n",
    "\n",
    "# Tokenize the text\n",
    "tokens = tokenizer.encode(text).tokens\n",
    "\n",
    "# Print the tokens\n",
    "print(\"Subword tokens:\", tokens)\n"
   ]
  },
  {
   "cell_type": "code",
   "execution_count": null,
   "metadata": {},
   "outputs": [],
   "source": []
  },
  {
   "cell_type": "code",
   "execution_count": 410,
   "metadata": {
    "id": "pvDbb-z35x1O"
   },
   "outputs": [
    {
     "name": "stdout",
     "output_type": "stream",
     "text": [
      "Tokens: ['Red', 'Bull', 'drops', 'hint', '                ', 'on', 'F1', 'engine', '.']\n"
     ]
    },
    {
     "data": {
      "text/plain": [
       "['Red', 'Bull', 'drops', 'hint', 'on', 'F1', 'engine', '.']"
      ]
     },
     "execution_count": 410,
     "metadata": {},
     "output_type": "execute_result"
    }
   ],
   "source": [
    "from spacy.lang.en import English\n",
    "\n",
    "# Load the English language model\n",
    "nlp = English()\n",
    "\n",
    "# Define a sample sentence\n",
    "sentence = \"Red Bull drops hint                 on F1 engine.\"\n",
    "\n",
    "# Process the sentence using SpaCy\n",
    "doc = nlp(sentence)\n",
    "\n",
    "tokens = [token.text for token in doc]\n",
    "\n",
    "# Print the tokens\n",
    "print(\"Tokens:\", tokens)\n",
    "\n",
    "tokens = [token.text for token in doc if not token.is_space]\n",
    "tokens"
   ]
  },
  {
   "cell_type": "markdown",
   "metadata": {
    "id": "FH99M6cxCpsz"
   },
   "source": [
    "### Creating TF-IDF features"
   ]
  },
  {
   "cell_type": "code",
   "execution_count": null,
   "metadata": {},
   "outputs": [],
   "source": []
  },
  {
   "cell_type": "markdown",
   "metadata": {
    "id": "il-0gY9LEiNv"
   },
   "source": [
    "The usage pattern is similar, but we pass a customized tokenizer to the TFIDF vectorizor to make the dataset smaller and more efficient."
   ]
  },
  {
   "cell_type": "code",
   "execution_count": 411,
   "metadata": {
    "id": "vtnQX-wWDhGh"
   },
   "outputs": [],
   "source": [
    "def spacy_tokenizer(text):\n",
    "    # Process the text using spaCy\n",
    "    doc = nlp(text)\n",
    "    # Extract tokens from the processed document\n",
    "    tokens = [token.text for token in doc if not token.is_space]\n",
    "    return tokens"
   ]
  },
  {
   "cell_type": "code",
   "execution_count": 412,
   "metadata": {
    "id": "Shj6BS0BN6FU"
   },
   "outputs": [
    {
     "name": "stdout",
     "output_type": "stream",
     "text": [
      "CPU times: total: 1.19 s\n",
      "Wall time: 1.18 s\n"
     ]
    }
   ],
   "source": [
    "%%time\n",
    "# Use the default settings of TfidfVectorizer.\n",
    "vectorizer = TfidfVectorizer(tokenizer=spacy_tokenizer)\n",
    "# vectorizer = TfidfVectorizer()\n",
    "\n",
    "features = vectorizer.fit_transform(corpus.data)"
   ]
  },
  {
   "cell_type": "code",
   "execution_count": 413,
   "metadata": {},
   "outputs": [
    {
     "data": {
      "text/plain": [
       "593"
      ]
     },
     "execution_count": 413,
     "metadata": {},
     "output_type": "execute_result"
    }
   ],
   "source": [
    "len(corpus.data)"
   ]
  },
  {
   "cell_type": "code",
   "execution_count": 414,
   "metadata": {},
   "outputs": [
    {
     "data": {
      "text/plain": [
       "array(['accomplished', 'accomplishing', 'accomplishments', 'accordance',\n",
       "       'according', 'account', 'accounting', 'accounts', 'accredited',\n",
       "       'accretie', 'accretieschijven', 'accretion', 'accumulate',\n",
       "       'accuracy', 'accurate', 'accurately', 'acdis', 'ace', 'achieve',\n",
       "       'achieved', 'achievement', 'achievements', 'achieves', 'achieving',\n",
       "       'acid', 'acids', 'acknowledge', 'acknowledged', 'acm', 'acme',\n",
       "       'acording', 'acquainted', 'acquiring', 'acrilic', 'acro',\n",
       "       'acronym', 'acronyms', 'across', 'acrossed', 'acro{$key', 'acrv',\n",
       "       'acrylonitrile', 'act', 'act:-', 'acting', 'actinide', 'action',\n",
       "       'actions', 'activated', 'activation'], dtype=object)"
      ]
     },
     "execution_count": 414,
     "metadata": {},
     "output_type": "execute_result"
    }
   ],
   "source": [
    "vocabulary= vectorizer.get_feature_names_out()\n",
    "\n",
    "vocabulary[2000:2050]"
   ]
  },
  {
   "cell_type": "code",
   "execution_count": 415,
   "metadata": {
    "id": "CZ9w4gh9sobB"
   },
   "outputs": [
    {
     "name": "stdout",
     "output_type": "stream",
     "text": [
      "14484\n"
     ]
    }
   ],
   "source": [
    "# The number of unique tokens.\n",
    "print(len(vocabulary))"
   ]
  },
  {
   "cell_type": "code",
   "execution_count": 445,
   "metadata": {},
   "outputs": [
    {
     "data": {
      "text/plain": [
       "(array([2023], dtype=int64),)"
      ]
     },
     "execution_count": 445,
     "metadata": {},
     "output_type": "execute_result"
    }
   ],
   "source": [
    "np.where(vocabulary == 'achieving')"
   ]
  },
  {
   "cell_type": "code",
   "execution_count": null,
   "metadata": {},
   "outputs": [],
   "source": []
  },
  {
   "cell_type": "code",
   "execution_count": 416,
   "metadata": {
    "id": "6CxmKlPcNRLk"
   },
   "outputs": [
    {
     "name": "stdout",
     "output_type": "stream",
     "text": [
      "(593, 14484)\n"
     ]
    }
   ],
   "source": [
    "# The dimensions of our feature matrix. X rows (documents) by Y columns (tokens).\n",
    "print(features.shape)"
   ]
  },
  {
   "cell_type": "code",
   "execution_count": 417,
   "metadata": {
    "id": "yJwnU8PZNdHU"
   },
   "outputs": [
    {
     "name": "stdout",
     "output_type": "stream",
     "text": [
      "[[0.         0.         0.         0.         0.         0.\n",
      "  0.         0.         0.         0.        ]\n",
      " [0.         0.         0.         0.         0.         0.\n",
      "  0.         0.         0.         0.        ]\n",
      " [0.         0.         0.         0.12369473 0.08749726 0.\n",
      "  0.         0.         0.         0.        ]\n",
      " [0.19930627 0.         0.         0.         0.         0.\n",
      "  0.         0.         0.         0.        ]\n",
      " [0.         0.         0.         0.         0.         0.\n",
      "  0.         0.         0.         0.        ]\n",
      " [0.         0.09824926 0.         0.         0.         0.\n",
      "  0.         0.         0.         0.        ]\n",
      " [0.         0.         0.02118455 0.         0.         0.\n",
      "  0.         0.         0.         0.        ]\n",
      " [0.         0.         0.         0.         0.         0.\n",
      "  0.         0.         0.         0.12280447]\n",
      " [0.         0.         0.         0.         0.         0.\n",
      "  0.         0.         0.         0.        ]\n",
      " [0.         0.         0.         0.         0.         0.\n",
      "  0.         0.         0.         0.        ]]\n"
     ]
    }
   ],
   "source": [
    "# What the encoding of the first document looks like in sparse format.\n",
    "print(features[:10,:10].toarray())"
   ]
  },
  {
   "cell_type": "code",
   "execution_count": null,
   "metadata": {},
   "outputs": [],
   "source": []
  },
  {
   "cell_type": "markdown",
   "metadata": {
    "id": "Vp7VTwYzONlt"
   },
   "source": [
    "As we mentioned, there are TF-IDF variations out there and scikit-learn, among other things, adds **smoothing** (adds a one to the numerator and denominator in the IDF component), and normalizes by default. These can be disabled if desired using the *smooth_idf* and *norm* parameters respectively. See here for more information:<br>\n",
    "https://scikit-learn.org/stable/modules/generated/sklearn.feature_extraction.text.TfidfVectorizer.html\n"
   ]
  },
  {
   "cell_type": "markdown",
   "metadata": {
    "id": "ylKLM-IMOwbJ"
   },
   "source": [
    "### Querying the data"
   ]
  },
  {
   "cell_type": "markdown",
   "metadata": {
    "id": "h8oTtCg0QB71"
   },
   "source": [
    "The similarity measuring techniques we learned previously can be used here in the same way. In effect, we can query our data using this sequence:\n",
    "1. *Transform* our query using the same vocabulary from our *fit* step on our corpus.\n",
    "2. Calculate the pairwise cosine similarities between each document in our corpus and our query.\n",
    "3. Sort them in descending order by score."
   ]
  },
  {
   "cell_type": "code",
   "execution_count": 418,
   "metadata": {
    "id": "qNjEUzqlP6Oy"
   },
   "outputs": [],
   "source": [
    "# Transform the query into a TF-IDF vector.\n",
    "query = [\"lunar orbit is about 27.322 days\"]\n",
    "query_tfidf = vectorizer.transform(query)"
   ]
  },
  {
   "cell_type": "code",
   "execution_count": 419,
   "metadata": {
    "id": "4YwNba88DGvh"
   },
   "outputs": [
    {
     "data": {
      "text/plain": [
       "(1, 14484)"
      ]
     },
     "execution_count": 419,
     "metadata": {},
     "output_type": "execute_result"
    }
   ],
   "source": [
    "query_tfidf.shape"
   ]
  },
  {
   "cell_type": "code",
   "execution_count": 420,
   "metadata": {
    "id": "jEfdfkmpP8Tv"
   },
   "outputs": [
    {
     "data": {
      "text/plain": [
       "(593,)"
      ]
     },
     "execution_count": 420,
     "metadata": {},
     "output_type": "execute_result"
    }
   ],
   "source": [
    "# Calculate the cosine similarities between the query and each document.\n",
    "# We're calling flatten() here becaue cosine_similarity returns a list of lists and we just want a single list.\n",
    "cosine_similarities = cosine_similarity(features, query_tfidf).flatten()\n",
    "cosine_similarities.shape"
   ]
  },
  {
   "cell_type": "markdown",
   "metadata": {
    "id": "skuSFhLxXOMC"
   },
   "source": [
    "Now that we have our list of cosine similarities, we can use this utility function to return the indices of the top k documents with the highest cosine similarities."
   ]
  },
  {
   "cell_type": "code",
   "execution_count": 421,
   "metadata": {
    "id": "H0PvqRDpUSYO"
   },
   "outputs": [],
   "source": [
    "import numpy as np\n",
    "\n",
    "# numpy's argsort() method returns a list of *indices* that\n",
    "# would sort an array:\n",
    "# https://numpy.org/doc/stable/reference/generated/numpy.argsort.html\n",
    "#\n",
    "# The sort is ascending, but we want the largest k cosine_similarites\n",
    "# at the bottom of the sort. So we negate k, and get the last k\n",
    "# entries of the indices list in reverse order. There are faster\n",
    "# ways to do this using things like argpartition but this is\n",
    "# more succinct.\n",
    "def top_k(arr, k):\n",
    "  kth_largest = (k + 1) * -1\n",
    "  return np.argsort(arr)[:kth_largest:-1]"
   ]
  },
  {
   "cell_type": "code",
   "execution_count": 422,
   "metadata": {
    "id": "zFYpEldVUaAG"
   },
   "outputs": [
    {
     "name": "stdout",
     "output_type": "stream",
     "text": [
      "[249 108   0 329 312]\n"
     ]
    }
   ],
   "source": [
    "# So for our query above, these are the top five documents.\n",
    "top_related_indices = top_k(cosine_similarities, 5)\n",
    "print(top_related_indices)"
   ]
  },
  {
   "cell_type": "code",
   "execution_count": 423,
   "metadata": {
    "id": "4e86P3bQR1ZS"
   },
   "outputs": [
    {
     "name": "stdout",
     "output_type": "stream",
     "text": [
      "[0.33214838 0.32070687 0.19990452 0.1510558  0.14020631]\n"
     ]
    }
   ],
   "source": [
    "# Let's take a look at their respective cosine similarities.\n",
    "print(cosine_similarities[top_related_indices])"
   ]
  },
  {
   "cell_type": "code",
   "execution_count": 424,
   "metadata": {
    "id": "kzdyTptURiTQ"
   },
   "outputs": [
    {
     "name": "stdout",
     "output_type": "stream",
     "text": [
      "\n",
      "Actually, Hiten wasn't originally intended to go into lunar orbit at all,\n",
      "so it indeed didn't have much fuel on hand.  The lunar-orbit mission was\n",
      "an afterthought, after Hagoromo (a tiny subsatellite deployed by Hiten\n",
      "during a lunar flyby) had a transmitter failure and its proper insertion\n",
      "into lunar orbit couldn't be positively confirmed.\n",
      "\n",
      "It should be noted that the technique does have disadvantages.  It takes\n",
      "a long time, and you end up with a relatively inconvenient lunar orbit.\n",
      "If you want something useful like a low circular polar orbit, you do have\n",
      "to plan to expend a certain amount of fuel, although it is reduced from\n",
      "what you'd need for the brute-force approach.\n"
     ]
    }
   ],
   "source": [
    "# Top match.\n",
    "print(corpus.data[top_related_indices[0]])"
   ]
  },
  {
   "cell_type": "code",
   "execution_count": 426,
   "metadata": {
    "id": "zQwWXypfR8vh"
   },
   "outputs": [
    {
     "name": "stdout",
     "output_type": "stream",
     "text": [
      "\n",
      "Their Hiten engineering-test mission spent a while in a highly eccentric\n",
      "Earth orbit doing lunar flybys, and then was inserted into lunar orbit\n",
      "using some very tricky gravity-assist-like maneuvering.  This meant that\n",
      "it would crash on the Moon eventually, since there is no such thing as\n",
      "a stable lunar orbit (as far as anyone knows), and I believe I recall\n",
      "hearing recently that it was about to happen.\n"
     ]
    }
   ],
   "source": [
    "# Second-best match.\n",
    "print(corpus.data[top_related_indices[1]])"
   ]
  },
  {
   "cell_type": "code",
   "execution_count": 427,
   "metadata": {
    "id": "w-5aqUbGSM5J"
   },
   "outputs": [
    {
     "name": "stdout",
     "output_type": "stream",
     "text": [
      "[373 333  68 344 153]\n",
      "[0.14367476 0.11035443 0.09059311 0.08404243 0.08174752]\n"
     ]
    }
   ],
   "source": [
    "# Try a different query\n",
    "query = [\"Texas A&M University football team\"]\n",
    "query_tfidf = vectorizer.transform(query)\n",
    "\n",
    "cosine_similarities = cosine_similarity(features, query_tfidf).flatten()\n",
    "top_related_indices = top_k(cosine_similarities, 5)\n",
    "\n",
    "print(top_related_indices)\n",
    "print(cosine_similarities[top_related_indices])"
   ]
  },
  {
   "cell_type": "code",
   "execution_count": 428,
   "metadata": {
    "id": "VHQtRQIcSbTj"
   },
   "outputs": [
    {
     "name": "stdout",
     "output_type": "stream",
     "text": [
      "\n",
      "I don't care who told you this it is not generally true. I see EVERY single\n",
      "line item on a contract and I have to sign it. There is no such thing as\n",
      "wrap at this university. I also asked around here. Ther is no wrap at \n",
      "Marquette, University of Wisconsin Madison, Utah State, Weber State or\n",
      "Embry Riddle U. I am not saying that it doees not happen but in every instance\n",
      "that I have been able to track down it does not. Also the president of our\n",
      "University who was Provost at University of West Virgina said that it did\n",
      "not happen there either and that this figure must be included in the overhead\n",
      "to be a legitimate charge.\n",
      "\n",
      "\n",
      "I did they never heard of it but suggest that, like our president did, that\n",
      "any percentage number like this is included in the overhead.\n",
      "\n",
      "\n",
      "No Allen you did not. You merely repeated allegations made by an Employee\n",
      "of the Overhead capital of NASA. Nothing that Reston does could not be dont\n",
      "better or cheaper at the Other NASA centers  where the work is going on.\n",
      "Kinda funny isn't it that someone who talks about a problem like this is\n",
      "at a place where everything is overhead.\n",
      "\n",
      "\n",
      "Why did the Space News artice point out that it was the congressionally\n",
      "demanded change that caused the problems? Methinks that you are being \n",
      "selective with the facts again.\n",
      "\n",
      "\n",
      "If it takes four flights a year to resupply the station and you have a cost\n",
      "of 500 million a flight then you pay 2 billion a year. You stated that your\n",
      "\"friend\" at Reston said that with the current station they could resupply it\n",
      "for a billion a year \"if the wrap were gone\". This merely points out a \n",
      "blatent contridiction in your numbers that understandably you fail to see.\n",
      "\n",
      "Dennis, University of Alabama in Huntsville.\n"
     ]
    }
   ],
   "source": [
    "print(corpus.data[top_related_indices[1]])"
   ]
  },
  {
   "cell_type": "markdown",
   "metadata": {
    "id": "t4v5wQ4JaBIh"
   },
   "source": [
    "So here we have the beginnings of a simple search engine but we're a far cry from competing with commercial off-the-shelf search engines, let alone Google.\n",
    "<br>\n",
    "- For each query, we're scanning through our entire corpus, but in practice, you'll want to create an **inverted index**. Search applications such as Elasticsearch do that under the hood.\n",
    "- You'd also want to evaluate the efficacy of your search using metrics like **precision** and **recall**.\n",
    "- Document ranking also tends to be more sophisticated, using different ranking functions like Okapi BM25. With major search engines, ranking also involves hundreds of variables such as what the user searched for previously, what do they tend to click on, where are they physically, and on and on. These variables are part of the \"secret sauce\" and are closely guarded by companies.\n",
    "- Beyond word presence, intent and meaning are playing a larger role.\n",
    "<br>\n",
    "\n",
    "Information Retrieval is a huge, rich topic and beyond search, it's also key in tasks such as question-answering."
   ]
  },
  {
   "cell_type": "markdown",
   "metadata": {
    "id": "Ak3LXiETfGIY"
   },
   "source": [
    "## Using Pretrained, Third-Party Vectorizors\n",
    "There are a variety of pretrained, static word vector packages out there. In this section, we'll use the **Google News** vectors, a collection of three million, 300-dimension word vectors trained from three billion words from a Google News corpus (circa 2015)."
   ]
  },
  {
   "cell_type": "code",
   "execution_count": 99,
   "metadata": {
    "id": "58V-1VqHbQpI"
   },
   "outputs": [],
   "source": [
    "import collections\n",
    "import matplotlib.pyplot as plt\n",
    "import numpy as np\n",
    "import pandas as pd\n",
    "# import spacy\n",
    "import tensorflow as tf\n",
    "\n",
    "from gensim.models.keyedvectors import KeyedVectors\n",
    "from sklearn.decomposition import PCA\n",
    "from sklearn.model_selection import train_test_split\n",
    "from tensorflow import keras\n",
    "from tensorflow.keras import layers"
   ]
  },
  {
   "cell_type": "code",
   "execution_count": null,
   "metadata": {
    "id": "Iz2FCCq1fsjz"
   },
   "outputs": [],
   "source": [
    "!gdown \"https://drive.google.com/uc?id=1BpfbHu4denceXiv8yfdY3EHgjKIcULku\""
   ]
  },
  {
   "cell_type": "code",
   "execution_count": 101,
   "metadata": {
    "id": "9roZ_SeybQpJ"
   },
   "outputs": [],
   "source": [
    "embedding_file = 'data/GoogleNews-vectors-negative300.bin.gz'"
   ]
  },
  {
   "cell_type": "markdown",
   "metadata": {
    "id": "eQkCrzSEbQpJ"
   },
   "source": [
    "Next, we'll have **gensim** load the vectors through the **KeyedVectors** module which will enable us to look up vectors by tokens and indices.<br>\n",
    "https://radimrehurek.com/gensim/models/keyedvectors.html. To save time and space, we'll limit ourselves to 200,000 word vectors for now."
   ]
  },
  {
   "cell_type": "code",
   "execution_count": 102,
   "metadata": {
    "id": "1jpuGamMbQpJ"
   },
   "outputs": [],
   "source": [
    "word_vectors = KeyedVectors.load_word2vec_format(embedding_file, binary=True, limit=200000)"
   ]
  },
  {
   "cell_type": "code",
   "execution_count": 103,
   "metadata": {
    "id": "11hDkconbQpJ"
   },
   "outputs": [
    {
     "data": {
      "text/plain": [
       "200000"
      ]
     },
     "execution_count": 103,
     "metadata": {},
     "output_type": "execute_result"
    }
   ],
   "source": [
    "len(word_vectors)"
   ]
  },
  {
   "cell_type": "code",
   "execution_count": null,
   "metadata": {},
   "outputs": [],
   "source": []
  },
  {
   "cell_type": "code",
   "execution_count": 116,
   "metadata": {
    "id": "gh1WY8agbQpJ"
   },
   "outputs": [
    {
     "name": "stdout",
     "output_type": "stream",
     "text": [
      "Vector dimension: (300,)\n",
      "(300,)\n"
     ]
    }
   ],
   "source": [
    "pizza = word_vectors['Texas']\n",
    "print(f'Vector dimension: {pizza.shape}')\n",
    "\n",
    "# The embedding for the word 'pizza'.\n",
    "print(pizza.shape)"
   ]
  },
  {
   "cell_type": "code",
   "execution_count": 105,
   "metadata": {
    "id": "yFArLjMJbQpJ"
   },
   "outputs": [
    {
     "name": "stdout",
     "output_type": "stream",
     "text": [
      "0.108518735\n",
      "0.11185601\n",
      "0.14119941\n",
      "0.35505623\n",
      "0.36959887\n",
      "0.04774921\n"
     ]
    }
   ],
   "source": [
    "print(word_vectors.similarity('pizza', 'gorilla'))\n",
    "print(word_vectors.similarity('pizza', 'tree'))\n",
    "print(word_vectors.similarity('pizza', 'yoga'))\n",
    "print(word_vectors.similarity('pizza', 'tomato'))\n",
    "print(word_vectors.similarity('pizza', 'sauce'))\n",
    "print(word_vectors.similarity('pizza', 'Texas'))"
   ]
  },
  {
   "cell_type": "code",
   "execution_count": 106,
   "metadata": {
    "id": "aR2dE67bbQpK"
   },
   "outputs": [
    {
     "data": {
      "text/plain": [
       "0.5314661"
      ]
     },
     "execution_count": 106,
     "metadata": {},
     "output_type": "execute_result"
    }
   ],
   "source": [
    "word_vectors.n_similarity(\"dog bites man\".split(), \"canine nips human\".split())\n"
   ]
  },
  {
   "cell_type": "code",
   "execution_count": null,
   "metadata": {
    "id": "jf6NYTCcbQpK"
   },
   "outputs": [],
   "source": []
  },
  {
   "cell_type": "markdown",
   "metadata": {
    "id": "MxnPBIwDbQpK"
   },
   "source": [
    "Visualizing word vectors is straight-forward and can offer insights into what kind of contexts the training algorithm picked up. Because these word vectors have a dimension of 300, we need to reduce them down to two dimensions to plot them on a regular graph. This can be done through **Principal Components Analysis (PCA)**. Here, we're plotting the words we considered in the slides."
   ]
  },
  {
   "cell_type": "code",
   "execution_count": 113,
   "metadata": {
    "id": "80rVbPWdbQpK"
   },
   "outputs": [
    {
     "data": {
      "image/png": "[encoded data removed]",
      "text/plain": [
       "<Figure size 1000x1000 with 1 Axes>"
      ]
     },
     "metadata": {},
     "output_type": "display_data"
    }
   ],
   "source": [
    "def display_pca_scatterplot(model, words):\n",
    "    word_vectors = np.array([model[w] for w in words])\n",
    "\n",
    "    twodim = PCA().fit_transform(word_vectors)[:,:2]\n",
    "\n",
    "    plt.figure(figsize=(10,10))\n",
    "    plt.scatter(twodim[:,0], twodim[:,1], edgecolors='k', c='r', s=128)\n",
    "    for word, (x,y) in zip(words, twodim):\n",
    "        plt.text(x+0.05, y+0.05, word)\n",
    "\n",
    "display_pca_scatterplot(word_vectors, ['swim', 'swimming', 'cat', 'dog', 'feline', 'road', 'car', 'bus'])"
   ]
  },
  {
   "cell_type": "code",
   "execution_count": 114,
   "metadata": {
    "id": "YqfpDplgbQpK"
   },
   "outputs": [
    {
     "ename": "NameError",
     "evalue": "name 'FIXME' is not defined",
     "output_type": "error",
     "traceback": [
      "\u001b[1;31m---------------------------------------------------------------------------\u001b[0m",
      "\u001b[1;31mNameError\u001b[0m                                 Traceback (most recent call last)",
      "Cell \u001b[1;32mIn[114], line 5\u001b[0m\n\u001b[0;32m      3\u001b[0m \u001b[38;5;28;01mfrom\u001b[39;00m \u001b[38;5;21;01msklearn\u001b[39;00m\u001b[38;5;21;01m.\u001b[39;00m\u001b[38;5;21;01mmanifold\u001b[39;00m \u001b[38;5;28;01mimport\u001b[39;00m TSNE\n\u001b[0;32m      4\u001b[0m \u001b[38;5;66;03m# We can also use t-SNE to visualize this to see if it is still true\u001b[39;00m\n\u001b[1;32m----> 5\u001b[0m \u001b[43mFIXME\u001b[49m\n",
      "\u001b[1;31mNameError\u001b[0m: name 'FIXME' is not defined"
     ]
    }
   ],
   "source": [
    "import numpy as np\n",
    "import matplotlib.pyplot as plt\n",
    "from sklearn.manifold import TSNE\n",
    "# We can also use t-SNE to visualize this to see if it is still true\n",
    "FIXME"
   ]
  },
  {
   "cell_type": "code",
   "execution_count": null,
   "metadata": {},
   "outputs": [],
   "source": []
  },
  {
   "cell_type": "code",
   "execution_count": null,
   "metadata": {},
   "outputs": [],
   "source": []
  },
  {
   "cell_type": "markdown",
   "metadata": {
    "id": "CErnAts8490j"
   },
   "source": [
    "## Conclustion"
   ]
  },
  {
   "cell_type": "markdown",
   "metadata": {
    "id": "ypR4pnsp4_83"
   },
   "source": [
    "In this NLP lab, we delved into text tokenization and vectorization, starting with bag-of-words (BOW) representation for converting text into numerical forms using scikit-learn, then progressing to TF-IDF for assessing term importance in documents relative to a corpus. We utilized TF-IDF for text search and semantic analysis via cosine similarity metrics. Implementing a basic search engine using TF-IDF showcased practical application. Additionally, we explored pre-trained word vectors like Google News vectors, demonstrating how third-party resources can enhance NLP tasks."
   ]
  },
  {
   "cell_type": "code",
   "execution_count": null,
   "metadata": {
    "id": "YgmgCneb4_EJ"
   },
   "outputs": [],
   "source": []
  }
 ],
 "metadata": {
  "colab": {
   "include_colab_link": true,
   "private_outputs": true,
   "provenance": []
  },
  "kernelspec": {
   "display_name": "Python 3 (ipykernel)",
   "language": "python",
   "name": "python3"
  },
  "language_info": {
   "codemirror_mode": {
    "name": "ipython",
    "version": 3
   },
   "file_extension": ".py",
   "mimetype": "text/x-python",
   "name": "python",
   "nbconvert_exporter": "python",
   "pygments_lexer": "ipython3",
   "version": "3.11.3"
  }
 },
 "nbformat": 4,
 "nbformat_minor": 4
}
