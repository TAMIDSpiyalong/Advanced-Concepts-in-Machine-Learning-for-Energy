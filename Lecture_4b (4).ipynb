{
 "cells": [
  {
   "cell_type": "markdown",
   "metadata": {
    "id": "MenE2varZEXc"
   },
   "source": [
    "# Transformers From Scratch"
   ]
  },
  {
   "cell_type": "markdown",
   "metadata": {
    "id": "aTSadDXiPQLm"
   },
   "source": [
    "This lab builds a sequence to sequence transformer, with encoder-decoder blocks from scratch for translation from Portuguese to English. Transformers excel at modeling sequential data, such as natural language. The datasets is from the TED Talks Open Translation Project. This dataset contains approximately 52,000 training, 1,200 validation and 1,800 test examples."
   ]
  },
  {
   "cell_type": "markdown",
   "metadata": {
    "id": "pAifCvd_Tth9"
   },
   "source": [
    "##Objectives"
   ]
  },
  {
   "cell_type": "markdown",
   "metadata": {
    "id": "gg_2bsitTwAq"
   },
   "source": [
    "1. Understand and build the dot product self attention block, which is the key of the attention mechanism.\n",
    "2. Build a transformer from scratch with multiple attention heads.\n",
    "3. Train and evaluate the performance of such neural network."
   ]
  },
  {
   "cell_type": "code",
   "execution_count": 7,
   "metadata": {
    "id": "XFG0NDRu5mYQ"
   },
   "outputs": [
    {
     "name": "stdout",
     "output_type": "stream",
     "text": [
      "Successfully installed astunparse-1.6.3 cachetools-5.3.3 flatbuffers-23.5.26 gast-0.5.4 google-auth-2.28.1 google-auth-oauthlib-1.2.0 google-pasta-0.2.0 grpcio-1.62.0 h5py-3.10.0 keras-2.15.0 libclang-16.0.6 markdown-3.5.2 ml-dtypes-0.2.0 nvidia-cublas-cu12-12.2.5.6 nvidia-cuda-cupti-cu12-12.2.142 nvidia-cuda-nvcc-cu12-12.2.140 nvidia-cuda-nvrtc-cu12-12.2.140 nvidia-cuda-runtime-cu12-12.2.140 nvidia-cudnn-cu12-8.9.4.25 nvidia-cufft-cu12-11.0.8.103 nvidia-curand-cu12-10.3.3.141 nvidia-cusolver-cu12-11.5.2.141 nvidia-cusparse-cu12-12.1.2.141 nvidia-nccl-cu12-2.16.5 nvidia-nvjitlink-cu12-12.2.140 oauthlib-3.2.2 opt-einsum-3.3.0 pyasn1-modules-0.3.0 requests-oauthlib-1.3.1 rsa-4.9 tensorboard-2.15.2 tensorboard-data-server-0.7.2 tensorflow-2.15.0.post1 tensorflow-estimator-2.15.0 tensorflow-io-gcs-filesystem-0.36.0 werkzeug-3.0.1 wrapt-1.14.1\n"
     ]
    }
   ],
   "source": [
    "# ! pip install -q tfds-nightly\n",
    "# ! python3 -m pip install tensorflow[and-cuda]"
   ]
  },
  {
   "cell_type": "markdown",
   "metadata": {
    "id": "fd1NWMxjfsDd"
   },
   "source": [
    "## Setup input pipeline"
   ]
  },
  {
   "cell_type": "code",
   "execution_count": 9,
   "metadata": {
    "id": "JjJJyJTZYebt"
   },
   "outputs": [],
   "source": [
    "import tensorflow_datasets as tfds\n",
    "import tensorflow as tf\n",
    "\n",
    "import time\n",
    "import numpy as np\n"
   ]
  },
  {
   "cell_type": "markdown",
   "metadata": {
    "id": "t4_Qt8W1hJE_"
   },
   "source": [
    "Use [TFDS](https://www.tensorflow.org/datasets) to load the [Portugese-English translation dataset](https://github.com/neulab/word-embeddings-for-nmt) from the [TED Talks Open Translation Project](https://www.ted.com/participate/translate).\n",
    "\n",
    "This dataset contains approximately 50000 training examples, 1100 validation examples, and 2000 test examples."
   ]
  },
  {
   "cell_type": "code",
   "execution_count": 10,
   "metadata": {
    "id": "8q9t4FmN96eN"
   },
   "outputs": [
    {
     "name": "stderr",
     "output_type": "stream",
     "text": [
      "2024-03-06 22:05:02.057410: I tensorflow/core/common_runtime/gpu/gpu_device.cc:1929] Created device /job:localhost/replica:0/task:0/device:GPU:0 with 38339 MB memory:  -> device: 0, name: NVIDIA A100-PCIE-40GB, pci bus id: 0000:3b:00.0, compute capability: 8.0\n"
     ]
    }
   ],
   "source": [
    "examples, metadata = tfds.load('ted_hrlr_translate/pt_to_en', with_info=True,\n",
    "                               as_supervised=True)\n",
    "train_examples, val_examples = examples['train'], examples['validation']"
   ]
  },
  {
   "cell_type": "code",
   "execution_count": 11,
   "metadata": {
    "colab": {
     "base_uri": "https://localhost:8080/"
    },
    "id": "TyTo86x5n1om",
    "outputId": "20e0b4b1-799c-455e-f798-386327263add"
   },
   "outputs": [
    {
     "name": "stdout",
     "output_type": "stream",
     "text": [
      "> Examples in Portuguese:\n",
      "e quando melhoramos a procura , tiramos a única vantagem da impressão , que é a serendipidade .\n",
      "mas e se estes fatores fossem ativos ?\n",
      "mas eles não tinham a curiosidade de me testar .\n",
      "\n",
      "> Examples in English:\n",
      "and when you improve searchability , you actually take away the one advantage of print , which is serendipity .\n",
      "but what if it were active ?\n",
      "but they did n't test for curiosity .\n"
     ]
    },
    {
     "name": "stderr",
     "output_type": "stream",
     "text": [
      "2024-03-06 22:05:02.682524: W tensorflow/core/kernels/data/cache_dataset_ops.cc:858] The calling iterator did not fully read the dataset being cached. In order to avoid unexpected truncation of the dataset, the partially cached contents of the dataset  will be discarded. This can happen if you have an input pipeline similar to `dataset.cache().take(k).repeat()`. You should use `dataset.take(k).cache().repeat()` instead.\n"
     ]
    }
   ],
   "source": [
    "for pt_examples, en_examples in train_examples.batch(3).take(1):\n",
    "  print('> Examples in Portuguese:')\n",
    "  for pt in pt_examples.numpy():\n",
    "    print(pt.decode('utf-8'))\n",
    "  print()\n",
    "\n",
    "  print('> Examples in English:')\n",
    "  for en in en_examples.numpy():\n",
    "    print(en.decode('utf-8'))"
   ]
  },
  {
   "cell_type": "markdown",
   "metadata": {
    "id": "RCEKotqosGfq"
   },
   "source": [
    "Now that you have loaded the dataset, you need to tokenize the text, so that each element is represented as a [token](https://developers.google.com/machine-learning/glossary#token) or token ID (a numeric representation).\n",
    "\n",
    "Tokenization is the process of breaking up text, into \"tokens\". Depending on the tokenizer, these tokens can represent sentence-pieces, words, subwords, or characters. To learn more about tokenization, visit [this guide](https://www.tensorflow.org/text/guide/tokenizers)."
   ]
  },
  {
   "cell_type": "code",
   "execution_count": 12,
   "metadata": {
    "id": "KVBg5Q8tBk5z"
   },
   "outputs": [],
   "source": [
    "tokenizer_en = tfds.deprecated.text.SubwordTextEncoder.build_from_corpus(\n",
    "    (en.numpy() for pt, en in train_examples), target_vocab_size=2**13)\n",
    "\n",
    "tokenizer_pt = tfds.deprecated.text.SubwordTextEncoder.build_from_corpus(\n",
    "    (pt.numpy() for pt, en in train_examples), target_vocab_size=2**13)"
   ]
  },
  {
   "cell_type": "code",
   "execution_count": 88,
   "metadata": {
    "colab": {
     "base_uri": "https://localhost:8080/"
    },
    "id": "4DYWukNFkGQN",
    "outputId": "0b625c0b-8b80-4985-c887-9ff213b72f41"
   },
   "outputs": [
    {
     "name": "stdout",
     "output_type": "stream",
     "text": [
      "Tokenized string is [7915, 1248, 7946, 7194, 13, 2799, 7877]\n",
      "The original string: Transformer is awesome.\n"
     ]
    }
   ],
   "source": [
    "sample_string = 'Transformer is awesome.'\n",
    "\n",
    "tokenized_string = tokenizer_en.encode(sample_string)\n",
    "print ('Tokenized string is {}'.format(tokenized_string))\n",
    "\n",
    "original_string = tokenizer_en.decode(tokenized_string)\n",
    "print ('The original string: {}'.format(original_string))\n",
    "\n",
    "assert original_string == sample_string"
   ]
  },
  {
   "cell_type": "markdown",
   "metadata": {
    "id": "o9KJWJjrsZ4Y"
   },
   "source": [
    "The tokenizer encodes the string by breaking it into subwords if the word is not in its dictionary."
   ]
  },
  {
   "cell_type": "code",
   "execution_count": 89,
   "metadata": {
    "colab": {
     "base_uri": "https://localhost:8080/"
    },
    "id": "bf2ntBxjkqK6",
    "outputId": "0ece37ce-01bb-4029-ced3-19030c740c06"
   },
   "outputs": [
    {
     "name": "stdout",
     "output_type": "stream",
     "text": [
      "7915 ----> T\n",
      "1248 ----> ran\n",
      "7946 ----> s\n",
      "7194 ----> former \n",
      "13 ----> is \n",
      "2799 ----> awesome\n",
      "7877 ----> .\n"
     ]
    }
   ],
   "source": [
    "for ts in tokenized_string:\n",
    "  print ('{} ----> {}'.format(ts, tokenizer_en.decode([ts])))"
   ]
  },
  {
   "cell_type": "code",
   "execution_count": 90,
   "metadata": {
    "id": "bcRp7VcQ5m6g"
   },
   "outputs": [],
   "source": [
    "BUFFER_SIZE = 20000\n",
    "BATCH_SIZE = 64"
   ]
  },
  {
   "cell_type": "markdown",
   "metadata": {
    "id": "kGi4PoVakxdc"
   },
   "source": [
    "Add a start and end token to the input and target."
   ]
  },
  {
   "cell_type": "code",
   "execution_count": 91,
   "metadata": {
    "id": "UZwnPr4R055s"
   },
   "outputs": [],
   "source": [
    "def encode(lang1, lang2):\n",
    "  lang1 = [tokenizer_pt.vocab_size] + tokenizer_pt.encode(\n",
    "      lang1.numpy()) + [tokenizer_pt.vocab_size+1]\n",
    "\n",
    "  lang2 = [tokenizer_en.vocab_size] + tokenizer_en.encode(\n",
    "      lang2.numpy()) + [tokenizer_en.vocab_size+1]\n",
    "\n",
    "  return lang1, lang2"
   ]
  },
  {
   "cell_type": "markdown",
   "metadata": {
    "id": "Tx1sFbR-9fRs"
   },
   "source": [
    "You want to use `Dataset.map` to apply this function to each element of the dataset.  `Dataset.map` runs in graph mode.\n",
    "\n",
    "* Graph tensors do not have a value.\n",
    "* In graph mode you can only use TensorFlow Ops and functions.\n",
    "\n",
    "So you can't `.map` this function directly: You need to wrap it in a `tf.py_function`. The `tf.py_function` will pass regular tensors (with a value and a `.numpy()` method to access it), to the wrapped python function."
   ]
  },
  {
   "cell_type": "code",
   "execution_count": 92,
   "metadata": {
    "id": "Mah1cS-P70Iz"
   },
   "outputs": [],
   "source": [
    "def tf_encode(pt, en):\n",
    "  result_pt, result_en = tf.py_function(encode, [pt, en], [tf.int64, tf.int64])\n",
    "  result_pt.set_shape([None])\n",
    "  result_en.set_shape([None])\n",
    "\n",
    "  return result_pt, result_en"
   ]
  },
  {
   "cell_type": "markdown",
   "metadata": {
    "id": "6JrGp5Gek6Ql"
   },
   "source": [
    "Note: To keep this example small and relatively fast, drop examples with a length of over 20 tokens."
   ]
  },
  {
   "cell_type": "code",
   "execution_count": 93,
   "metadata": {
    "id": "2QEgbjntk6Yf"
   },
   "outputs": [],
   "source": [
    "MAX_LENGTH = 40"
   ]
  },
  {
   "cell_type": "code",
   "execution_count": 94,
   "metadata": {
    "id": "c081xPGv1CPI"
   },
   "outputs": [],
   "source": [
    "def filter_max_length(x, y, max_length=MAX_LENGTH):\n",
    "  return tf.logical_and(tf.size(x) <= max_length,\n",
    "                        tf.size(y) <= max_length)"
   ]
  },
  {
   "cell_type": "code",
   "execution_count": 95,
   "metadata": {
    "id": "9mk9AZdZ5bcS"
   },
   "outputs": [],
   "source": [
    "train_dataset = train_examples.map(tf_encode)\n",
    "train_dataset = train_dataset.filter(filter_max_length)\n",
    "# cache the dataset to memory to get a speedup while reading from it.\n",
    "train_dataset = train_dataset.cache()\n",
    "train_dataset = train_dataset.shuffle(BUFFER_SIZE).padded_batch(BATCH_SIZE)\n",
    "train_dataset = train_dataset.prefetch(tf.data.experimental.AUTOTUNE)\n",
    "\n",
    "\n",
    "val_dataset = val_examples.map(tf_encode)\n",
    "val_dataset = val_dataset.filter(filter_max_length).padded_batch(BATCH_SIZE)"
   ]
  },
  {
   "cell_type": "code",
   "execution_count": 96,
   "metadata": {
    "colab": {
     "base_uri": "https://localhost:8080/"
    },
    "id": "_fXvfYVfQr2n",
    "outputId": "fc3d4bc4-dba8-43fc-f817-b406729541c1"
   },
   "outputs": [
    {
     "name": "stderr",
     "output_type": "stream",
     "text": [
      "2024-03-06 22:57:15.954892: W tensorflow/core/kernels/data/cache_dataset_ops.cc:858] The calling iterator did not fully read the dataset being cached. In order to avoid unexpected truncation of the dataset, the partially cached contents of the dataset  will be discarded. This can happen if you have an input pipeline similar to `dataset.cache().take(k).repeat()`. You should use `dataset.take(k).cache().repeat()` instead.\n"
     ]
    },
    {
     "data": {
      "text/plain": [
       "(<tf.Tensor: shape=(64, 38), dtype=int64, numpy=\n",
       " array([[8214,  342, 3032, ...,    0,    0,    0],\n",
       "        [8214,   95,  198, ...,    0,    0,    0],\n",
       "        [8214, 4479, 7990, ...,    0,    0,    0],\n",
       "        ...,\n",
       "        [8214,  584,   12, ...,    0,    0,    0],\n",
       "        [8214,   59, 1548, ...,    0,    0,    0],\n",
       "        [8214,  118,   34, ...,    0,    0,    0]])>,\n",
       " <tf.Tensor: shape=(64, 40), dtype=int64, numpy=\n",
       " array([[8087,   98,   25, ...,    0,    0,    0],\n",
       "        [8087,   12,   20, ...,    0,    0,    0],\n",
       "        [8087,   12, 5453, ...,    0,    0,    0],\n",
       "        ...,\n",
       "        [8087,   18, 2059, ...,    0,    0,    0],\n",
       "        [8087,   16, 1436, ...,    0,    0,    0],\n",
       "        [8087,   15,   57, ...,    0,    0,    0]])>)"
      ]
     },
     "execution_count": 96,
     "metadata": {},
     "output_type": "execute_result"
    }
   ],
   "source": [
    "pt_batch, en_batch = next(iter(val_dataset))\n",
    "pt_batch, en_batch"
   ]
  },
  {
   "cell_type": "markdown",
   "metadata": {
    "id": "mDkTVv3KMJX_"
   },
   "source": [
    "We'll start with the **Multi-Head Self-Attention** layer since that's the most involved bit. Once we have that working, the rest should make sense as you go."
   ]
  },
  {
   "cell_type": "markdown",
   "metadata": {
    "id": "LqX04fFXBdxy"
   },
   "source": [
    "## Multi-Head Self-Attention"
   ]
  },
  {
   "cell_type": "markdown",
   "metadata": {
    "id": "3NAf9HP7RsQu"
   },
   "source": [
    "\n",
    "Inside each attention head is a **Scaled Dot Product Self-Attention** operation as we covered in the slides. Given *queries*, *keys*, and *values*, the operation returns a new \"mix\" of the values.\n",
    "\n",
    "$$Attention(Q, K, V) = softmax(\\frac{QK^T)}{\\sqrt{d_k}})V$$\n",
    "\n",
    "The following function implements this and also takes a mask to account for padding and for masking future tokens for decoding (i.e. **look-ahead mask**). We'll cover masking later in the notebook."
   ]
  },
  {
   "cell_type": "code",
   "execution_count": 97,
   "metadata": {
    "id": "7hpO6cGEN7HK"
   },
   "outputs": [],
   "source": [
    "def scaled_dot_product_attention(q, k, v, mask=None):\n",
    "  \"\"\"Calculate the attention weights.\n",
    "  q, k, v must have matching leading dimensions.\n",
    "  k, v must have matching penultimate dimension, i.e.: seq_len_k = seq_len_v.\n",
    "  The mask has different shapes depending on its type(padding or look ahead)\n",
    "  but it must be broadcastable for addition.\n",
    "\n",
    "  Args:\n",
    "    q: query shape == (..., seq_len_q, depth)\n",
    "    k: key shape == (..., seq_len_k, depth)\n",
    "    v: value shape == (..., seq_len_v, depth_v)\n",
    "    mask: Float tensor with shape broadcastable\n",
    "          to (..., seq_len_q, seq_len_k). Defaults to None.\n",
    "\n",
    "  Returns:\n",
    "    output, attention_weights\n",
    "  \"\"\"\n",
    "\n",
    "  matmul_qk = tf.matmul(q, k, transpose_b=True)  # (..., seq_len_q, seq_len_k)\n",
    "\n",
    "  # scale matmul_qk\n",
    "  dk = tf.cast(tf.shape(k)[-1], tf.float32)\n",
    "  scaled_attention_logits = matmul_qk / tf.math.sqrt(dk)\n",
    "\n",
    "  # add the mask to the scaled tensor.\n",
    "  if mask is not None:\n",
    "    scaled_attention_logits += (mask * -1e9)\n",
    "\n",
    "  # softmax is normalized on the last axis (seq_len_k) so that the scores\n",
    "  # add up to 1.\n",
    "  attention_weights = tf.nn.softmax(scaled_attention_logits, axis=-1)  # (..., seq_len_q, seq_len_k)\n",
    "\n",
    "  output = tf.matmul(attention_weights, v)  # (..., seq_len_q, depth_v)\n",
    "\n",
    "  return output, attention_weights"
   ]
  },
  {
   "cell_type": "markdown",
   "metadata": {
    "id": "lC_HhsreXh3H"
   },
   "source": [
    "Suppose our *queries*, *keys*, and *values* are each a length of 3 with a dimension of 4."
   ]
  },
  {
   "cell_type": "code",
   "execution_count": 98,
   "metadata": {
    "colab": {
     "base_uri": "https://localhost:8080/"
    },
    "id": "WB2cDybgX5LZ",
    "outputId": "c9c96a90-73e3-4027-f65c-62ae05476811"
   },
   "outputs": [
    {
     "name": "stdout",
     "output_type": "stream",
     "text": [
      "Queries:\n",
      " [[0.7681081  0.16307615 0.27278706 0.8804274 ]\n",
      " [0.4280307  0.32535338 0.06623876 0.5722197 ]\n",
      " [0.42319518 0.23200531 0.03132024 0.13977888]]\n"
     ]
    }
   ],
   "source": [
    "seq_len = 3\n",
    "embed_dim = 4\n",
    "\n",
    "queries = np.random.rand(seq_len, embed_dim).astype('float32')\n",
    "keys = np.random.rand(seq_len, embed_dim).astype('float32')\n",
    "values = np.random.rand(seq_len, embed_dim).astype('float32')\n",
    "\n",
    "print(\"Queries:\\n\", queries)"
   ]
  },
  {
   "cell_type": "markdown",
   "metadata": {
    "id": "QuNdMuz5vb1c"
   },
   "source": [
    "This would be the self-attention output and weights."
   ]
  },
  {
   "cell_type": "code",
   "execution_count": 99,
   "metadata": {
    "colab": {
     "base_uri": "https://localhost:8080/"
    },
    "id": "pxKj56hNX5UO",
    "outputId": "dbee2e12-0a15-49c5-80cf-82143e015e9a"
   },
   "outputs": [
    {
     "name": "stdout",
     "output_type": "stream",
     "text": [
      "Output\n",
      " tf.Tensor(\n",
      "[[0.62591326 0.60985374 0.6900016  0.3891995 ]\n",
      " [0.6360505  0.6086537  0.68921113 0.4014927 ]\n",
      " [0.6495019  0.6183091  0.68042904 0.40676677]], shape=(3, 4), dtype=float32) \n",
      "\n",
      "Weights\n",
      " tf.Tensor(\n",
      "[[0.29492578 0.41295364 0.2921206 ]\n",
      " [0.30672386 0.38816595 0.3051102 ]\n",
      " [0.30192402 0.36924055 0.32883546]], shape=(3, 3), dtype=float32)\n"
     ]
    }
   ],
   "source": [
    "output, attn_weights = scaled_dot_product_attention(queries, keys, values)\n",
    "\n",
    "print(\"Output\\n\", output, \"\\n\")\n",
    "print(\"Weights\\n\", attn_weights)"
   ]
  },
  {
   "cell_type": "code",
   "execution_count": null,
   "metadata": {},
   "outputs": [],
   "source": []
  },
  {
   "cell_type": "code",
   "execution_count": 100,
   "metadata": {
    "colab": {
     "base_uri": "https://localhost:8080/",
     "height": 485
    },
    "id": "5oS1aQOJky-3",
    "outputId": "b638881d-76f8-47fd-e17d-972f245a31d5"
   },
   "outputs": [
    {
     "data": {
      "image/png": "[encoded data removed]",
      "text/plain": [
       "<Figure size 640x480 with 2 Axes>"
      ]
     },
     "metadata": {},
     "output_type": "display_data"
    }
   ],
   "source": [
    "import matplotlib.pyplot as plt\n",
    "import seaborn as sns\n",
    "def visualize_attention(attention_weights):\n",
    "    # Create heatmap using seaborn\n",
    "    sns.set(font_scale=1.2)\n",
    "    plt.figure()\n",
    "    ax = sns.heatmap(\n",
    "        attention_weights,\n",
    "        cmap=\"YlGnBu\",\n",
    "        linewidths=0.5,\n",
    "        annot=True,\n",
    "        xticklabels=True,\n",
    "        yticklabels=True,\n",
    "        cbar_kws={'label': 'Attention Weight'}\n",
    "    )\n",
    "    ax.set_title('Self-Attention Weights')\n",
    "    plt.xlabel('Input Tokens')\n",
    "    plt.ylabel('Output Tokens')\n",
    "    plt.show()\n",
    "\n",
    "\n",
    "visualize_attention(attn_weights)\n"
   ]
  },
  {
   "cell_type": "markdown",
   "metadata": {
    "id": "wBm9jbpSN6-L"
   },
   "source": [
    "Now that we have a way to calculate self-attention, let's actually generate the input *queries*, *keys*, and *values* for multiple heads. It's easier to understand things this way and we can certainly code it this way as well. But we can also \"simulate\" different heads with a single query matrix, single key matrix, and single value matrix."
   ]
  },
  {
   "cell_type": "code",
   "execution_count": 101,
   "metadata": {
    "colab": {
     "base_uri": "https://localhost:8080/"
    },
    "id": "rJLyGtqbX3uW",
    "outputId": "88fb586c-b007-4534-f973-1a94c290f1df"
   },
   "outputs": [
    {
     "name": "stdout",
     "output_type": "stream",
     "text": [
      "Dimension of each head: 4\n"
     ]
    }
   ],
   "source": [
    "batch_size = 1\n",
    "seq_len = 3\n",
    "embed_dim = 12\n",
    "num_heads = 3\n",
    "head_dim = embed_dim // num_heads\n",
    "\n",
    "print(f\"Dimension of each head: {head_dim}\")"
   ]
  },
  {
   "cell_type": "markdown",
   "metadata": {
    "id": "JDl37YzAf7bh"
   },
   "source": [
    "**Using separate weight matrices per head**"
   ]
  },
  {
   "cell_type": "markdown",
   "metadata": {
    "id": "xQ_KoJq3fv-A"
   },
   "source": [
    "Suppose these are our input embeddings. Here we have a batch of 1 containing a sequence of length 3, with each element being a 12-dimensional embedding."
   ]
  },
  {
   "cell_type": "code",
   "execution_count": 102,
   "metadata": {
    "colab": {
     "base_uri": "https://localhost:8080/"
    },
    "id": "7NcX3KBrX3uW",
    "outputId": "e3c2cc7d-8b2b-464e-fa6b-6cfc166fdd46"
   },
   "outputs": [
    {
     "name": "stdout",
     "output_type": "stream",
     "text": [
      "Input shape:  (1, 3, 12) \n",
      "\n",
      "Input:\n",
      " [[[0.4 0.7 0.5 0.  0.8 0.3 0.5 0.2 0.6 0.2 0.2 0.2]\n",
      "  [0.4 0.4 0.8 0.5 0.1 0.7 0.2 0.8 0.7 0.2 0.7 0.4]\n",
      "  [0.1 1.  0.9 0.8 0.2 0.7 0.8 0.1 0.9 0.4 0.7 0.3]]]\n"
     ]
    }
   ],
   "source": [
    "x = np.random.rand(batch_size, seq_len, embed_dim).round(1).astype('float32')\n",
    "print(\"Input shape: \", x.shape, \"\\n\")\n",
    "print(\"Input:\\n\", x)"
   ]
  },
  {
   "cell_type": "markdown",
   "metadata": {
    "id": "uvJicbp6f7pI"
   },
   "source": [
    "We'll declare three sets of *query* weights (one for each head), three sets of *key* weights, and three sets of *value* weights. Remember each weight matrix should have a dimension of $\\text{d}\\ \\text{x}\\ \\text{d/h}$."
   ]
  },
  {
   "cell_type": "code",
   "execution_count": 103,
   "metadata": {
    "id": "8zdg7rqrX3uX"
   },
   "outputs": [],
   "source": [
    "# The query weights for each head.\n",
    "wq0 = np.random.rand(embed_dim, head_dim).round(1).astype('float32')\n",
    "wq1 = np.random.rand(embed_dim, head_dim).round(1).astype('float32')\n",
    "wq2 = np.random.rand(embed_dim, head_dim).round(1).astype('float32')\n",
    "\n",
    "# The key weights for each head.\n",
    "wk0 = np.random.rand(embed_dim, head_dim).round(1).astype('float32')\n",
    "wk1 = np.random.rand(embed_dim, head_dim).round(1).astype('float32')\n",
    "wk2 = np.random.rand(embed_dim, head_dim).round(1).astype('float32')\n",
    "\n",
    "# The value weights for each head.\n",
    "wv0 = np.random.rand(embed_dim, head_dim).round(1).astype('float32')\n",
    "wv1 = np.random.rand(embed_dim, head_dim).round(1).astype('float32')\n",
    "wv2 = np.random.rand(embed_dim, head_dim).round(1).astype('float32')"
   ]
  },
  {
   "cell_type": "code",
   "execution_count": 104,
   "metadata": {
    "colab": {
     "base_uri": "https://localhost:8080/"
    },
    "id": "QzMRHZooX3uX",
    "outputId": "c8e66d10-d4e5-4edc-94be-aa59effa6cf9"
   },
   "outputs": [
    {
     "name": "stdout",
     "output_type": "stream",
     "text": [
      "The three sets of query weights (one for each head):\n",
      "wq0:\n",
      " [[0.7 0.1 0.3 0.2]\n",
      " [0.2 0.1 0.6 0.4]\n",
      " [0.2 0.8 0.3 0.2]\n",
      " [0.1 0.2 0.5 0.1]\n",
      " [0.7 0.2 0.4 0.5]\n",
      " [0.6 0.4 0.3 0.7]\n",
      " [0.4 0.1 0.5 0.5]\n",
      " [0.7 0.8 0.2 0.2]\n",
      " [0.6 0.5 0.5 0.2]\n",
      " [0.7 0.5 0.5 0.7]\n",
      " [0.3 0.7 0.6 0.9]\n",
      " [1.  0.9 0.2 0.1]]\n",
      "wq1:\n",
      " [[0.3 0.9 0.5 0.5]\n",
      " [1.  0.8 0.6 0. ]\n",
      " [0.5 0.5 0.5 0.3]\n",
      " [0.6 0.7 0.4 0.3]\n",
      " [0.9 0.5 0.6 0.7]\n",
      " [0.3 0.8 0.8 1. ]\n",
      " [0.2 0.2 0.5 0.1]\n",
      " [0.9 0.4 0.2 0.9]\n",
      " [1.  1.  0.3 0.3]\n",
      " [0.2 0.1 0.2 0.6]\n",
      " [0.2 1.  0.1 0.7]\n",
      " [0.  0.6 1.  0.1]]\n",
      "wq2:\n",
      " [[0.3 0.9 0.5 0.5]\n",
      " [1.  0.8 0.6 0. ]\n",
      " [0.5 0.5 0.5 0.3]\n",
      " [0.6 0.7 0.4 0.3]\n",
      " [0.9 0.5 0.6 0.7]\n",
      " [0.3 0.8 0.8 1. ]\n",
      " [0.2 0.2 0.5 0.1]\n",
      " [0.9 0.4 0.2 0.9]\n",
      " [1.  1.  0.3 0.3]\n",
      " [0.2 0.1 0.2 0.6]\n",
      " [0.2 1.  0.1 0.7]\n",
      " [0.  0.6 1.  0.1]]\n"
     ]
    }
   ],
   "source": [
    "print(\"The three sets of query weights (one for each head):\")\n",
    "print(\"wq0:\\n\", wq0)\n",
    "print(\"wq1:\\n\", wq1)\n",
    "print(\"wq2:\\n\", wq1)"
   ]
  },
  {
   "cell_type": "markdown",
   "metadata": {
    "id": "HmwGKV9qgch-"
   },
   "source": [
    "We'll generate our *queries*, *keys*, and *values* for each head by multiplying our input by the weights."
   ]
  },
  {
   "cell_type": "code",
   "execution_count": 105,
   "metadata": {
    "id": "NucbYNNSX3uX"
   },
   "outputs": [],
   "source": [
    "# Geneated queries, keys, and values for the first head.\n",
    "q0 = np.dot(x, wq0)\n",
    "k0 = np.dot(x, wk0)\n",
    "v0 = np.dot(x, wv0)\n",
    "\n",
    "# Geneated queries, keys, and values for the second head.\n",
    "q1 = np.dot(x, wq1)\n",
    "k1 = np.dot(x, wk1)\n",
    "v1 = np.dot(x, wv1)\n",
    "\n",
    "# Geneated queries, keys, and values for the third head.\n",
    "q2 = np.dot(x, wq2)\n",
    "k2 = np.dot(x, wk2)\n",
    "v2 = np.dot(x, wv2)"
   ]
  },
  {
   "cell_type": "markdown",
   "metadata": {
    "id": "AIDiwWZ0gqhm"
   },
   "source": [
    "These are the resulting *query*, *key*, and *value* vectors for the first head."
   ]
  },
  {
   "cell_type": "code",
   "execution_count": 106,
   "metadata": {
    "colab": {
     "base_uri": "https://localhost:8080/"
    },
    "id": "NMcMmbkqX3uX",
    "outputId": "2480891b-5bba-4f8c-bf6f-38621932dd4d"
   },
   "outputs": [
    {
     "name": "stdout",
     "output_type": "stream",
     "text": [
      "Q, K, and V for first head:\n",
      "\n",
      "q0 (1, 3, 4):\n",
      " [[[2.3600001 1.72      1.95      1.82     ]\n",
      "  [2.8700001 3.08      2.31      2.2      ]\n",
      "  [2.81      2.8799999 3.14      2.81     ]]] \n",
      "\n",
      "k0 (1, 3, 4):\n",
      " [[[3.01      2.2       2.97      2.7900002]\n",
      "  [2.66      2.3999999 3.69      3.69     ]\n",
      "  [3.76      3.83      4.38      3.72     ]]] \n",
      "\n",
      "v0 (1, 3, 4):\n",
      " [[[2.57      2.85      2.21      2.78     ]\n",
      "  [2.33      3.44      2.6000001 3.07     ]\n",
      "  [3.4       3.75      3.18      4.07     ]]]\n"
     ]
    }
   ],
   "source": [
    "print(\"Q, K, and V for first head:\\n\")\n",
    "\n",
    "print(f\"q0 {q0.shape}:\\n\", q0, \"\\n\")\n",
    "print(f\"k0 {k0.shape}:\\n\", k0, \"\\n\")\n",
    "print(f\"v0 {v0.shape}:\\n\", v0)"
   ]
  },
  {
   "cell_type": "markdown",
   "metadata": {
    "id": "iw5CQ9i6qZDv"
   },
   "source": [
    "Now that we have our Q, K, V vectors, we can just pass them to our self-attention operation. Here we're calculating the output and attention weights for the first head."
   ]
  },
  {
   "cell_type": "code",
   "execution_count": 107,
   "metadata": {
    "colab": {
     "base_uri": "https://localhost:8080/"
    },
    "id": "i7tHIvXKX3uX",
    "outputId": "197ef32a-6383-4bb2-da38-d8796a619de4"
   },
   "outputs": [
    {
     "name": "stdout",
     "output_type": "stream",
     "text": [
      "Output from first attention head:  tf.Tensor(\n",
      "[[[3.3509207 3.7288618 3.1479402 4.0187364]\n",
      "  [3.3878813 3.7452154 3.172427  4.057681 ]\n",
      "  [3.3898382 3.7464116 3.1739836 4.0600004]]], shape=(1, 3, 4), dtype=float32) \n",
      "\n",
      "Attention weights from first head:  tf.Tensor(\n",
      "[[[1.0490630e-02 3.7731010e-02 9.5177835e-01]\n",
      "  [1.9307809e-03 9.8283831e-03 9.8824084e-01]\n",
      "  [9.7696006e-04 8.7393811e-03 9.9028367e-01]]], shape=(1, 3, 3), dtype=float32)\n"
     ]
    }
   ],
   "source": [
    "out0, attn_weights0 = scaled_dot_product_attention(q0, k0, v0)\n",
    "\n",
    "print(\"Output from first attention head: \", out0, \"\\n\")\n",
    "print(\"Attention weights from first head: \", attn_weights0)"
   ]
  },
  {
   "cell_type": "markdown",
   "metadata": {
    "id": "DoYEXSm7qr_A"
   },
   "source": [
    "Here are the other two (attention weights are ignored)."
   ]
  },
  {
   "cell_type": "code",
   "execution_count": 108,
   "metadata": {
    "colab": {
     "base_uri": "https://localhost:8080/"
    },
    "id": "otnqbaDSqpJ7",
    "outputId": "fbad96fd-1cb7-43db-eafe-164f9dc372ef"
   },
   "outputs": [
    {
     "name": "stdout",
     "output_type": "stream",
     "text": [
      "Output from second attention head:  tf.Tensor(\n",
      "[[[1.9523973 3.6239085 3.38128   4.4892964]\n",
      "  [1.9450896 3.6759691 3.4059553 4.540498 ]\n",
      "  [1.9427497 3.6904132 3.412732  4.554484 ]]], shape=(1, 3, 4), dtype=float32) \n",
      "\n",
      "Output from third attention head:  tf.Tensor(\n",
      "[[[3.9345617 2.5987313 3.388381  2.369216 ]\n",
      "  [3.961083  2.625109  3.4445028 2.3579006]\n",
      "  [3.9804237 2.6458325 3.4882867 2.3455882]]], shape=(1, 3, 4), dtype=float32)\n"
     ]
    }
   ],
   "source": [
    "out1, _ = scaled_dot_product_attention(q1, k1, v1)\n",
    "out2, _ = scaled_dot_product_attention(q2, k2, v2)\n",
    "\n",
    "print(\"Output from second attention head: \", out1, \"\\n\")\n",
    "print(\"Output from third attention head: \", out2,)"
   ]
  },
  {
   "cell_type": "markdown",
   "metadata": {
    "id": "lOV717bqX3uX"
   },
   "source": [
    "As we covered in the slides, once we have each head's output, we concatenate them and then put them through a linear layer for further processing."
   ]
  },
  {
   "cell_type": "code",
   "execution_count": 109,
   "metadata": {
    "colab": {
     "base_uri": "https://localhost:8080/"
    },
    "id": "gmSv5trtt2v9",
    "outputId": "be636cd0-75f0-482e-bf7a-30827366162b"
   },
   "outputs": [
    {
     "name": "stdout",
     "output_type": "stream",
     "text": [
      "Combined output from all heads (1, 3, 12):\n",
      "[[[3.3509207 3.7288618 3.1479402 4.0187364 1.9523973 3.6239085 3.38128\n",
      "   4.4892964 3.9345617 2.5987313 3.388381  2.369216 ]\n",
      "  [3.3878813 3.7452154 3.172427  4.057681  1.9450896 3.6759691 3.4059553\n",
      "   4.540498  3.961083  2.625109  3.4445028 2.3579006]\n",
      "  [3.3898382 3.7464116 3.1739836 4.0600004 1.9427497 3.6904132 3.412732\n",
      "   4.554484  3.9804237 2.6458325 3.4882867 2.3455882]]]\n"
     ]
    }
   ],
   "source": [
    "combined_out_a = np.concatenate((out0, out1, out2), axis=-1)\n",
    "print(f\"Combined output from all heads {combined_out_a.shape}:\")\n",
    "print(combined_out_a)\n",
    "\n",
    "# The final step would be to run combined_out_a through a linear/dense layer\n",
    "# for further processing."
   ]
  },
  {
   "cell_type": "markdown",
   "metadata": {
    "id": "JPmbr6F1C-v_"
   },
   "source": [
    "Each multi-head attention block gets three inputs; Q (query), K (key), V (value). These are put through linear (Dense) layers and split up into multiple heads.\n",
    "\n",
    "The `scaled_dot_product_attention` defined above is applied to each head (broadcasted for efficiency). An appropriate mask must be used in the attention step.  The attention output for each head is then concatenated (using `tf.transpose`, and `tf.reshape`) and put through a final `Dense` layer.\n",
    "\n",
    "Instead of one single attention head, Q, K, and V are split into multiple heads because it allows the model to jointly attend to information at different positions from different representational spaces. After the split each head has a reduced dimensionality, so the total computation cost is the same as a single head attention with full dimensionality."
   ]
  },
  {
   "cell_type": "code",
   "execution_count": 110,
   "metadata": {
    "id": "BSV3PPKsYecw"
   },
   "outputs": [],
   "source": [
    "class MultiHeadAttention(tf.keras.layers.Layer):\n",
    "  def __init__(self, d_model, num_heads):\n",
    "    super(MultiHeadAttention, self).__init__()\n",
    "    self.num_heads = num_heads\n",
    "    self.d_model = d_model\n",
    "\n",
    "    assert d_model % self.num_heads == 0\n",
    "\n",
    "    self.depth = d_model // self.num_heads\n",
    "\n",
    "    self.wq = tf.keras.layers.Dense(d_model)\n",
    "    self.wk = tf.keras.layers.Dense(d_model)\n",
    "    self.wv = tf.keras.layers.Dense(d_model)\n",
    "\n",
    "    self.dense = tf.keras.layers.Dense(d_model)\n",
    "\n",
    "  def split_heads(self, x, batch_size):\n",
    "    \"\"\"Split the last dimension into (num_heads, depth).\n",
    "    Transpose the result such that the shape is (batch_size, num_heads, seq_len, depth)\n",
    "    \"\"\"\n",
    "    x = tf.reshape(x, (batch_size, -1, self.num_heads, self.depth))\n",
    "    return tf.transpose(x, perm=[0, 2, 1, 3])\n",
    "\n",
    "  def call(self, v, k, q, mask):\n",
    "    batch_size = tf.shape(q)[0]\n",
    "\n",
    "    q = self.wq(q)  # (batch_size, seq_len, d_model)\n",
    "    k = self.wk(k)  # (batch_size, seq_len, d_model)\n",
    "    v = self.wv(v)  # (batch_size, seq_len, d_model)\n",
    "\n",
    "    q = self.split_heads(q, batch_size)  # (batch_size, num_heads, seq_len_q, depth)\n",
    "    k = self.split_heads(k, batch_size)  # (batch_size, num_heads, seq_len_k, depth)\n",
    "    v = self.split_heads(v, batch_size)  # (batch_size, num_heads, seq_len_v, depth)\n",
    "\n",
    "    # scaled_attention.shape == (batch_size, num_heads, seq_len_q, depth)\n",
    "    # attention_weights.shape == (batch_size, num_heads, seq_len_q, seq_len_k)\n",
    "    scaled_attention, attention_weights = scaled_dot_product_attention(\n",
    "        q, k, v, mask)\n",
    "\n",
    "    scaled_attention = tf.transpose(scaled_attention, perm=[0, 2, 1, 3])  # (batch_size, seq_len_q, num_heads, depth)\n",
    "\n",
    "    concat_attention = tf.reshape(scaled_attention,\n",
    "                                  (batch_size, -1, self.d_model))  # (batch_size, seq_len_q, d_model)\n",
    "\n",
    "    output = self.dense(concat_attention)  # (batch_size, seq_len_q, d_model)\n",
    "\n",
    "    return output, attention_weights"
   ]
  },
  {
   "cell_type": "markdown",
   "metadata": {
    "id": "0D8FJue5lDyZ"
   },
   "source": [
    "Create a `MultiHeadAttention` layer to try out. At each location in the sequence, `y`, the `MultiHeadAttention` runs all 8 attention heads across all other locations in the sequence, returning a new vector of the same length at each location."
   ]
  },
  {
   "cell_type": "code",
   "execution_count": 111,
   "metadata": {
    "colab": {
     "base_uri": "https://localhost:8080/"
    },
    "id": "Hu94p-_-2_BX",
    "outputId": "024e8ba9-f38e-4f90-ec31-cbc2afa9866e"
   },
   "outputs": [
    {
     "data": {
      "text/plain": [
       "(TensorShape([1, 60, 512]), TensorShape([1, 8, 60, 60]))"
      ]
     },
     "execution_count": 111,
     "metadata": {},
     "output_type": "execute_result"
    }
   ],
   "source": [
    "temp_mha = MultiHeadAttention(d_model=512, num_heads=8)\n",
    "y = tf.random.uniform((1, 60, 512))  # (batch_size, encoder_sequence, d_model)\n",
    "out, attn = temp_mha(y, k=y, q=y, mask=None)\n",
    "out.shape, attn.shape"
   ]
  },
  {
   "cell_type": "markdown",
   "metadata": {
    "id": "nBQuibYA4n0n"
   },
   "source": [
    "## Positional encoding\n",
    "\n",
    "Since this model doesn't contain any recurrence or convolution, positional encoding is added to give the model some information about the relative position of the words in the sentence.\n",
    "\n",
    "The positional encoding vector is added to the embedding vector. Embeddings represent a token in a d-dimensional space where tokens with similar meaning will be closer to each other. But the embeddings do not encode the relative position of words in a sentence. So after adding the positional encoding, words will be closer to each other based on the *similarity of their meaning and their position in the sentence*, in the d-dimensional space.\n",
    "\n",
    "See the notebook on [positional encoding](https://github.com/tensorflow/examples/blob/master/community/en/position_encoding.ipynb) to learn more about it. The formula for calculating the positional encoding is as follows:\n",
    "\n",
    "$$\\Large{PE_{(pos, 2i)} = sin(pos / 10000^{2i / d_{model}})} $$\n",
    "$$\\Large{PE_{(pos, 2i+1)} = cos(pos / 10000^{2i / d_{model}})} $$"
   ]
  },
  {
   "cell_type": "code",
   "execution_count": 112,
   "metadata": {
    "id": "WhIOZjMNKujn"
   },
   "outputs": [],
   "source": [
    "def get_angles(pos, i, d_model):\n",
    "  angle_rates = 1 / np.power(10000, (2 * (i//2)) / np.float32(d_model))\n",
    "  return pos * angle_rates"
   ]
  },
  {
   "cell_type": "code",
   "execution_count": 113,
   "metadata": {
    "id": "1Rz82wEs5biZ"
   },
   "outputs": [],
   "source": [
    "def positional_encoding(position, d_model):\n",
    "  angle_rads = get_angles(np.arange(position)[:, np.newaxis],\n",
    "                          np.arange(d_model)[np.newaxis, :],\n",
    "                          d_model)\n",
    "\n",
    "  # apply sin to even indices in the array; 2i\n",
    "  angle_rads[:, 0::2] = np.sin(angle_rads[:, 0::2])\n",
    "\n",
    "  # apply cos to odd indices in the array; 2i+1\n",
    "  angle_rads[:, 1::2] = np.cos(angle_rads[:, 1::2])\n",
    "\n",
    "  pos_encoding = angle_rads[np.newaxis, ...]\n",
    "\n",
    "  return tf.cast(pos_encoding, dtype=tf.float32)"
   ]
  },
  {
   "cell_type": "code",
   "execution_count": 114,
   "metadata": {
    "colab": {
     "base_uri": "https://localhost:8080/",
     "height": 486
    },
    "id": "1kLCla68EloE",
    "outputId": "788e4711-c1c7-4e87-a26e-3ef6de4de95f"
   },
   "outputs": [
    {
     "name": "stdout",
     "output_type": "stream",
     "text": [
      "(1, 50, 512)\n"
     ]
    },
    {
     "data": {
      "image/png": "[encoded data removed]",
      "text/plain": [
       "<Figure size 640x480 with 2 Axes>"
      ]
     },
     "metadata": {},
     "output_type": "display_data"
    }
   ],
   "source": [
    "pos_encoding = positional_encoding(50, 512)\n",
    "print (pos_encoding.shape)\n",
    "\n",
    "plt.pcolormesh(pos_encoding[0], cmap='RdBu')\n",
    "plt.xlabel('Depth')\n",
    "plt.xlim((0, 512))\n",
    "plt.ylabel('Position')\n",
    "plt.colorbar()\n",
    "plt.show()"
   ]
  },
  {
   "cell_type": "markdown",
   "metadata": {
    "id": "a_b4ou4TYqUN"
   },
   "source": [
    "## Masking"
   ]
  },
  {
   "cell_type": "markdown",
   "metadata": {
    "id": "s42Uydjkv0hF"
   },
   "source": [
    "Mask all the pad tokens in the batch of sequence. It ensures that the model does not treat padding as the input. The mask indicates where pad value `0` is present: it outputs a `1` at those locations, and a `0` otherwise."
   ]
  },
  {
   "cell_type": "code",
   "execution_count": 115,
   "metadata": {
    "id": "U2i8-e1s8ti9"
   },
   "outputs": [],
   "source": [
    "def create_padding_mask(seq):\n",
    "  seq = tf.cast(tf.math.equal(seq, 0), tf.float32)\n",
    "\n",
    "  # add extra dimensions to add the padding\n",
    "  # to the attention logits.\n",
    "  return seq[:, tf.newaxis, tf.newaxis, :]  # (batch_size, 1, 1, seq_len)"
   ]
  },
  {
   "cell_type": "code",
   "execution_count": 116,
   "metadata": {
    "colab": {
     "base_uri": "https://localhost:8080/"
    },
    "id": "A7BYeBCNvi7n",
    "outputId": "0c4fed4a-44b8-4907-c594-fec5ad127d53"
   },
   "outputs": [
    {
     "data": {
      "text/plain": [
       "<tf.Tensor: shape=(3, 1, 1, 5), dtype=float32, numpy=\n",
       "array([[[[0., 0., 1., 1., 0.]]],\n",
       "\n",
       "\n",
       "       [[[0., 0., 0., 1., 1.]]],\n",
       "\n",
       "\n",
       "       [[[1., 1., 1., 0., 0.]]]], dtype=float32)>"
      ]
     },
     "execution_count": 116,
     "metadata": {},
     "output_type": "execute_result"
    }
   ],
   "source": [
    "x = tf.constant([[7, 6, 0, 0, 1], [1, 2, 3, 0, 0], [0, 0, 0, 4, 5]])\n",
    "create_padding_mask(x)"
   ]
  },
  {
   "cell_type": "markdown",
   "metadata": {
    "id": "Z0hzukDBgVom"
   },
   "source": [
    "The look-ahead mask is used to mask the future tokens in a sequence. In other words, the mask indicates which entries should not be used.\n",
    "\n",
    "This means that to predict the third word, only the first and second word will be used. Similarly to predict the fourth word, only the first, second and the third word will be used and so on."
   ]
  },
  {
   "cell_type": "code",
   "execution_count": 117,
   "metadata": {
    "id": "dVxS8OPI9uI0"
   },
   "outputs": [],
   "source": [
    "def create_look_ahead_mask(size):\n",
    "  mask = 1 - tf.linalg.band_part(tf.ones((size, size)), -1, 0)\n",
    "  return mask  # (seq_len, seq_len)"
   ]
  },
  {
   "cell_type": "code",
   "execution_count": 118,
   "metadata": {
    "colab": {
     "base_uri": "https://localhost:8080/"
    },
    "id": "yxKGuXxaBeeE",
    "outputId": "d0311353-ebb4-4b88-86a6-0c560cdfda28"
   },
   "outputs": [
    {
     "data": {
      "text/plain": [
       "<tf.Tensor: shape=(3, 3), dtype=float32, numpy=\n",
       "array([[0., 1., 1.],\n",
       "       [0., 0., 1.],\n",
       "       [0., 0., 0.]], dtype=float32)>"
      ]
     },
     "execution_count": 118,
     "metadata": {},
     "output_type": "execute_result"
    }
   ],
   "source": [
    "x = tf.random.uniform((1, 3))\n",
    "temp = create_look_ahead_mask(x.shape[1])\n",
    "temp"
   ]
  },
  {
   "cell_type": "markdown",
   "metadata": {
    "id": "RdDqGayx67vv"
   },
   "source": [
    "## Point wise feed forward network"
   ]
  },
  {
   "cell_type": "markdown",
   "metadata": {
    "id": "gBqzJXGfHK3X"
   },
   "source": [
    "Point wise feed forward network consists of two fully-connected layers with a ReLU activation in between."
   ]
  },
  {
   "cell_type": "code",
   "execution_count": 119,
   "metadata": {
    "id": "ET7xLt0yCT6Z"
   },
   "outputs": [],
   "source": [
    "def point_wise_feed_forward_network(d_model, dff):\n",
    "  return tf.keras.Sequential([\n",
    "      tf.keras.layers.Dense(dff, activation='relu'),  # (batch_size, seq_len, dff)\n",
    "      tf.keras.layers.Dense(d_model)  # (batch_size, seq_len, d_model)\n",
    "  ])"
   ]
  },
  {
   "cell_type": "code",
   "execution_count": 120,
   "metadata": {
    "colab": {
     "base_uri": "https://localhost:8080/"
    },
    "id": "mytb1lPyOHLB",
    "outputId": "976ad3d2-e49b-4a27-beb5-2432a7287d3c"
   },
   "outputs": [
    {
     "data": {
      "text/plain": [
       "(TensorShape([64, 50, 512]), TensorShape([64, 50, 512]))"
      ]
     },
     "execution_count": 120,
     "metadata": {},
     "output_type": "execute_result"
    }
   ],
   "source": [
    "sample_ffn = point_wise_feed_forward_network(512, 2048)\n",
    "sample_ffn(tf.random.uniform((64, 50, 512))).shape,tf.random.uniform((64, 50, 512)).shape"
   ]
  },
  {
   "cell_type": "markdown",
   "metadata": {
    "id": "7e7hKcxn6-zd"
   },
   "source": [
    "## Encoder and decoder"
   ]
  },
  {
   "cell_type": "markdown",
   "metadata": {
    "id": "yScbC0MUH8dS"
   },
   "source": [
    "<img src=\"https://www.tensorflow.org/images/tutorials/transformer/transformer.png\" width=\"600\" alt=\"transformer\">"
   ]
  },
  {
   "cell_type": "markdown",
   "metadata": {
    "id": "MfYJG-Kvgwy2"
   },
   "source": [
    "The transformer model follows the same general pattern as a standard [sequence to sequence with attention model](nmt_with_attention.ipynb).\n",
    "\n",
    "* The input sentence is passed through `N` encoder layers that generates an output for each word/token in the sequence.\n",
    "* The decoder attends on the encoder's output and its own input (self-attention) to predict the next word."
   ]
  },
  {
   "cell_type": "markdown",
   "metadata": {
    "id": "QFv-FNYUmvpn"
   },
   "source": [
    "### Encoder layer\n",
    "\n",
    "Each encoder layer consists of sublayers:\n",
    "\n",
    "1.   Multi-head attention (with padding mask)\n",
    "2.    Point wise feed forward networks.\n",
    "\n",
    "Each of these sublayers has a residual connection around it followed by a layer normalization. Residual connections help in avoiding the vanishing gradient problem in deep networks.\n",
    "\n",
    "The output of each sublayer is `LayerNorm(x + Sublayer(x))`. The normalization is done on the `d_model` (last) axis. There are N encoder layers in the transformer."
   ]
  },
  {
   "cell_type": "code",
   "execution_count": 121,
   "metadata": {
    "id": "ncyS-Ms3i2x_"
   },
   "outputs": [],
   "source": [
    "class EncoderLayer(tf.keras.layers.Layer):\n",
    "  def __init__(self, d_model, num_heads, dff, rate=0.1):\n",
    "    super(EncoderLayer, self).__init__()\n",
    "\n",
    "    self.mha = MultiHeadAttention(d_model, num_heads)\n",
    "    self.ffn = point_wise_feed_forward_network(d_model, dff)\n",
    "\n",
    "    self.layernorm1 = tf.keras.layers.LayerNormalization(epsilon=1e-6)\n",
    "    self.layernorm2 = tf.keras.layers.LayerNormalization(epsilon=1e-6)\n",
    "\n",
    "    self.dropout1 = tf.keras.layers.Dropout(rate)\n",
    "    self.dropout2 = tf.keras.layers.Dropout(rate)\n",
    "\n",
    "  def call(self, x, training, mask):\n",
    "\n",
    "    attn_output, _ = self.mha(x, x, x, mask)  # (batch_size, input_seq_len, d_model)\n",
    "    attn_output = self.dropout1(attn_output, training=training)\n",
    "    out1 = self.layernorm1(x + attn_output)  # (batch_size, input_seq_len, d_model)\n",
    "\n",
    "    ffn_output = self.ffn(out1)  # (batch_size, input_seq_len, d_model)\n",
    "    ffn_output = self.dropout2(ffn_output, training=training)\n",
    "    out2 = self.layernorm2(out1 + ffn_output)  # (batch_size, input_seq_len, d_model)\n",
    "\n",
    "    return out2"
   ]
  },
  {
   "cell_type": "code",
   "execution_count": 122,
   "metadata": {
    "colab": {
     "base_uri": "https://localhost:8080/"
    },
    "id": "AzZRXdO0mI48",
    "outputId": "dae07a3b-18ee-4970-c0c8-2a4f84b6f8a2"
   },
   "outputs": [
    {
     "data": {
      "text/plain": [
       "TensorShape([64, 43, 512])"
      ]
     },
     "execution_count": 122,
     "metadata": {},
     "output_type": "execute_result"
    }
   ],
   "source": [
    "sample_encoder_layer = EncoderLayer(512, 8, 2048)\n",
    "\n",
    "sample_encoder_layer_output = sample_encoder_layer(\n",
    "    tf.random.uniform((64, 43, 512)), False, None)\n",
    "\n",
    "sample_encoder_layer_output.shape  # (batch_size, input_seq_len, d_model)"
   ]
  },
  {
   "cell_type": "markdown",
   "metadata": {
    "id": "6LO_48Owmx_o"
   },
   "source": [
    "### Decoder layer\n",
    "\n",
    "Each decoder layer consists of sublayers:\n",
    "\n",
    "1.   Masked multi-head attention (with look ahead mask and padding mask)\n",
    "2.   Multi-head attention (with padding mask). V (value) and K (key) receive the *encoder output* as inputs. Q (query) receives the *output from the masked multi-head attention sublayer.*\n",
    "3.   Point wise feed forward networks\n",
    "\n",
    "Each of these sublayers has a residual connection around it followed by a layer normalization. The output of each sublayer is `LayerNorm(x + Sublayer(x))`. The normalization is done on the `d_model` (last) axis.\n",
    "\n",
    "There are N decoder layers in the transformer.\n",
    "\n",
    "As Q receives the output from decoder's first attention block, and K receives the encoder output, the attention weights represent the importance given to the decoder's input based on the encoder's output. In other words, the decoder predicts the next word by looking at the encoder output and self-attending to its own output. See the demonstration above in the scaled dot product attention section."
   ]
  },
  {
   "cell_type": "code",
   "execution_count": 123,
   "metadata": {
    "id": "9SoX0-vd1hue"
   },
   "outputs": [],
   "source": [
    "class DecoderLayer(tf.keras.layers.Layer):\n",
    "  def __init__(self, d_model, num_heads, dff, rate=0.1):\n",
    "    super(DecoderLayer, self).__init__()\n",
    "\n",
    "    self.mha1 = MultiHeadAttention(d_model, num_heads)\n",
    "    self.mha2 = MultiHeadAttention(d_model, num_heads)\n",
    "\n",
    "    self.ffn = point_wise_feed_forward_network(d_model, dff)\n",
    "\n",
    "    self.layernorm1 = tf.keras.layers.LayerNormalization(epsilon=1e-6)\n",
    "    self.layernorm2 = tf.keras.layers.LayerNormalization(epsilon=1e-6)\n",
    "    self.layernorm3 = tf.keras.layers.LayerNormalization(epsilon=1e-6)\n",
    "\n",
    "    self.dropout1 = tf.keras.layers.Dropout(rate)\n",
    "    self.dropout2 = tf.keras.layers.Dropout(rate)\n",
    "    self.dropout3 = tf.keras.layers.Dropout(rate)\n",
    "\n",
    "\n",
    "  def call(self, x, enc_output, training,\n",
    "           look_ahead_mask, padding_mask):\n",
    "    # enc_output.shape == (batch_size, input_seq_len, d_model)\n",
    "\n",
    "    attn1, attn_weights_block1 = self.mha1(x, x, x, look_ahead_mask)  # (batch_size, target_seq_len, d_model)\n",
    "    attn1 = self.dropout1(attn1, training=training)\n",
    "    out1 = self.layernorm1(attn1 + x)\n",
    "\n",
    "    attn2, attn_weights_block2 = self.mha2(\n",
    "        enc_output, enc_output, out1, padding_mask)  # (batch_size, target_seq_len, d_model)\n",
    "    attn2 = self.dropout2(attn2, training=training)\n",
    "    out2 = self.layernorm2(attn2 + out1)  # (batch_size, target_seq_len, d_model)\n",
    "\n",
    "    ffn_output = self.ffn(out2)  # (batch_size, target_seq_len, d_model)\n",
    "    ffn_output = self.dropout3(ffn_output, training=training)\n",
    "    out3 = self.layernorm3(ffn_output + out2)  # (batch_size, target_seq_len, d_model)\n",
    "\n",
    "    return out3, attn_weights_block1, attn_weights_block2"
   ]
  },
  {
   "cell_type": "code",
   "execution_count": 124,
   "metadata": {
    "colab": {
     "base_uri": "https://localhost:8080/"
    },
    "id": "Ne2Bqx8k71l0",
    "outputId": "14a054f1-ec4b-4544-8dba-a77b70cb86ec"
   },
   "outputs": [
    {
     "data": {
      "text/plain": [
       "TensorShape([64, 50, 512])"
      ]
     },
     "execution_count": 124,
     "metadata": {},
     "output_type": "execute_result"
    }
   ],
   "source": [
    "sample_decoder_layer = DecoderLayer(512, 8, 2048)\n",
    "\n",
    "sample_decoder_layer_output, _, _ = sample_decoder_layer(\n",
    "    tf.random.uniform((64, 50, 512)), sample_encoder_layer_output,\n",
    "    False, None, None)\n",
    "\n",
    "sample_decoder_layer_output.shape  # (batch_size, target_seq_len, d_model)"
   ]
  },
  {
   "cell_type": "markdown",
   "metadata": {
    "id": "SE1H51Ajm0q1"
   },
   "source": [
    "### Encoder\n",
    "\n",
    "The `Encoder` consists of:\n",
    "1.   Input Embedding\n",
    "2.   Positional Encoding\n",
    "3.   N encoder layers\n",
    "\n",
    "The input is put through an embedding which is summed with the positional encoding. The output of this summation is the input to the encoder layers. The output of the encoder is the input to the decoder."
   ]
  },
  {
   "cell_type": "code",
   "execution_count": 125,
   "metadata": {
    "id": "jpEox7gJ8FCI"
   },
   "outputs": [],
   "source": [
    "class Encoder(tf.keras.layers.Layer):\n",
    "  def __init__(self, num_layers, d_model, num_heads, dff, input_vocab_size,\n",
    "               maximum_position_encoding, rate=0.1):\n",
    "    super(Encoder, self).__init__()\n",
    "\n",
    "    self.d_model = d_model\n",
    "    self.num_layers = num_layers\n",
    "\n",
    "    self.embedding = tf.keras.layers.Embedding(input_vocab_size, d_model)\n",
    "    self.pos_encoding = positional_encoding(maximum_position_encoding,\n",
    "                                            self.d_model)\n",
    "\n",
    "\n",
    "    self.enc_layers = [EncoderLayer(d_model, num_heads, dff, rate)\n",
    "                       for _ in range(num_layers)]\n",
    "\n",
    "    self.dropout = tf.keras.layers.Dropout(rate)\n",
    "\n",
    "  def call(self, x, training, mask):\n",
    "\n",
    "    seq_len = tf.shape(x)[1]\n",
    "\n",
    "    # adding embedding and position encoding.\n",
    "    x = self.embedding(x)  # (batch_size, input_seq_len, d_model)\n",
    "    x *= tf.math.sqrt(tf.cast(self.d_model, tf.float32))\n",
    "    x += self.pos_encoding[:, :seq_len, :]\n",
    "\n",
    "    x = self.dropout(x, training=training)\n",
    "\n",
    "    for i in range(self.num_layers):\n",
    "      x = self.enc_layers[i](x, training, mask)\n",
    "\n",
    "    return x  # (batch_size, input_seq_len, d_model)"
   ]
  },
  {
   "cell_type": "code",
   "execution_count": 126,
   "metadata": {
    "colab": {
     "base_uri": "https://localhost:8080/"
    },
    "id": "8QG9nueFQKXx",
    "outputId": "0e02be1a-6dd3-4fc1-8dc4-6af2278e2938"
   },
   "outputs": [
    {
     "name": "stdout",
     "output_type": "stream",
     "text": [
      "(64, 62, 512)\n"
     ]
    }
   ],
   "source": [
    "sample_encoder = Encoder(num_layers=2, d_model=512, num_heads=8,\n",
    "                         dff=2048, input_vocab_size=8500,\n",
    "                         maximum_position_encoding=10000)\n",
    "temp_input = tf.random.uniform((64, 62), dtype=tf.int64, minval=0, maxval=200)\n",
    "\n",
    "sample_encoder_output = sample_encoder(temp_input, training=False, mask=None)\n",
    "\n",
    "print (sample_encoder_output.shape)  # (batch_size, input_seq_len, d_model)"
   ]
  },
  {
   "cell_type": "markdown",
   "metadata": {
    "id": "p-uO6ls8m2O5"
   },
   "source": [
    "### Decoder"
   ]
  },
  {
   "cell_type": "markdown",
   "metadata": {
    "id": "ZtT7PKzrXkNr"
   },
   "source": [
    " The `Decoder` consists of:\n",
    "1.   Output Embedding\n",
    "2.   Positional Encoding\n",
    "3.   N decoder layers\n",
    "\n",
    "The target is put through an embedding which is summed with the positional encoding. The output of this summation is the input to the decoder layers. The output of the decoder is the input to the final linear layer."
   ]
  },
  {
   "cell_type": "code",
   "execution_count": 127,
   "metadata": {
    "id": "d5_d5-PLQXwY"
   },
   "outputs": [],
   "source": [
    "class Decoder(tf.keras.layers.Layer):\n",
    "  def __init__(self, num_layers, d_model, num_heads, dff, target_vocab_size,\n",
    "               maximum_position_encoding, rate=0.1):\n",
    "    super(Decoder, self).__init__()\n",
    "\n",
    "    self.d_model = d_model\n",
    "    self.num_layers = num_layers\n",
    "\n",
    "    self.embedding = tf.keras.layers.Embedding(target_vocab_size, d_model)\n",
    "    self.pos_encoding = positional_encoding(maximum_position_encoding, d_model)\n",
    "\n",
    "    self.dec_layers = [DecoderLayer(d_model, num_heads, dff, rate)\n",
    "                       for _ in range(num_layers)]\n",
    "    self.dropout = tf.keras.layers.Dropout(rate)\n",
    "\n",
    "  def call(self, x, enc_output, training,\n",
    "           look_ahead_mask, padding_mask):\n",
    "\n",
    "    seq_len = tf.shape(x)[1]\n",
    "    attention_weights = {}\n",
    "\n",
    "    x = self.embedding(x)  # (batch_size, target_seq_len, d_model)\n",
    "    x *= tf.math.sqrt(tf.cast(self.d_model, tf.float32))\n",
    "    x += self.pos_encoding[:, :seq_len, :]\n",
    "\n",
    "    x = self.dropout(x, training=training)\n",
    "\n",
    "    for i in range(self.num_layers):\n",
    "      x, block1, block2 = self.dec_layers[i](x, enc_output, training,\n",
    "                                             look_ahead_mask, padding_mask)\n",
    "\n",
    "      attention_weights['decoder_layer{}_block1'.format(i+1)] = block1\n",
    "      attention_weights['decoder_layer{}_block2'.format(i+1)] = block2\n",
    "\n",
    "    # x.shape == (batch_size, target_seq_len, d_model)\n",
    "    return x, attention_weights"
   ]
  },
  {
   "cell_type": "code",
   "execution_count": 128,
   "metadata": {
    "colab": {
     "base_uri": "https://localhost:8080/"
    },
    "id": "a1jXoAMRZyvu",
    "outputId": "9f92981c-9bde-4019-cc47-ed7994a81418"
   },
   "outputs": [
    {
     "data": {
      "text/plain": [
       "(TensorShape([64, 26, 512]), TensorShape([64, 8, 26, 62]))"
      ]
     },
     "execution_count": 128,
     "metadata": {},
     "output_type": "execute_result"
    }
   ],
   "source": [
    "sample_decoder = Decoder(num_layers=2, d_model=512, num_heads=8,\n",
    "                         dff=2048, target_vocab_size=8000,\n",
    "                         maximum_position_encoding=5000)\n",
    "temp_input = tf.random.uniform((64, 26), dtype=tf.int64, minval=0, maxval=200)\n",
    "\n",
    "output, attn = sample_decoder(temp_input,\n",
    "                              enc_output=sample_encoder_output,\n",
    "                              training=False,\n",
    "                              look_ahead_mask=None,\n",
    "                              padding_mask=None)\n",
    "\n",
    "output.shape, attn['decoder_layer2_block2'].shape"
   ]
  },
  {
   "cell_type": "markdown",
   "metadata": {
    "id": "y54xnJnuYgJ7"
   },
   "source": [
    "## Create the Transformer"
   ]
  },
  {
   "cell_type": "markdown",
   "metadata": {
    "id": "uERO1y54cOKq"
   },
   "source": [
    "Transformer consists of the encoder, decoder and a final linear layer. The output of the decoder is the input to the linear layer and its output is returned."
   ]
  },
  {
   "cell_type": "code",
   "execution_count": 129,
   "metadata": {
    "id": "PED3bIpOYkBu"
   },
   "outputs": [],
   "source": [
    "class Transformer(tf.keras.Model):\n",
    "  def __init__(self, num_layers, d_model, num_heads, dff, input_vocab_size,\n",
    "               target_vocab_size, pe_input, pe_target, rate=0.1):\n",
    "    super(Transformer, self).__init__()\n",
    "\n",
    "    self.encoder = Encoder(num_layers, d_model, num_heads, dff,\n",
    "                           input_vocab_size, pe_input, rate)\n",
    "\n",
    "    self.decoder = Decoder(num_layers, d_model, num_heads, dff,\n",
    "                           target_vocab_size, pe_target, rate)\n",
    "\n",
    "    self.final_layer = tf.keras.layers.Dense(target_vocab_size)\n",
    "\n",
    "  def call(self, inp, tar, training, enc_padding_mask,\n",
    "           look_ahead_mask, dec_padding_mask):\n",
    "\n",
    "    enc_output = self.encoder(inp, training, enc_padding_mask)  # (batch_size, inp_seq_len, d_model)\n",
    "\n",
    "    # dec_output.shape == (batch_size, tar_seq_len, d_model)\n",
    "    dec_output, attention_weights = self.decoder(\n",
    "        tar, enc_output, training, look_ahead_mask, dec_padding_mask)\n",
    "\n",
    "    final_output = self.final_layer(dec_output)  # (batch_size, tar_seq_len, target_vocab_size)\n",
    "\n",
    "    return final_output, attention_weights"
   ]
  },
  {
   "cell_type": "code",
   "execution_count": 130,
   "metadata": {
    "colab": {
     "base_uri": "https://localhost:8080/"
    },
    "id": "tJ4fbQcIkHW1",
    "outputId": "6fbdc3cf-7da7-42b1-a018-f4964b1f4024"
   },
   "outputs": [
    {
     "data": {
      "text/plain": [
       "TensorShape([64, 36, 8000])"
      ]
     },
     "execution_count": 130,
     "metadata": {},
     "output_type": "execute_result"
    }
   ],
   "source": [
    "sample_transformer = Transformer(\n",
    "    num_layers=2, d_model=512, num_heads=8, dff=2048,\n",
    "    input_vocab_size=8500, target_vocab_size=8000,\n",
    "    pe_input=10000, pe_target=6000)\n",
    "\n",
    "temp_input = tf.random.uniform((64, 38), dtype=tf.int64, minval=0, maxval=200)\n",
    "temp_target = tf.random.uniform((64, 36), dtype=tf.int64, minval=0, maxval=200)\n",
    "\n",
    "fn_out, _ = sample_transformer(temp_input, temp_target, training=False,\n",
    "                               enc_padding_mask=None,\n",
    "                               look_ahead_mask=None,\n",
    "                               dec_padding_mask=None)\n",
    "\n",
    "fn_out.shape  # (batch_size, tar_seq_len, target_vocab_size)"
   ]
  },
  {
   "cell_type": "markdown",
   "metadata": {
    "id": "wsINyf1VEQLC"
   },
   "source": [
    "## Set hyperparameters"
   ]
  },
  {
   "cell_type": "markdown",
   "metadata": {
    "id": "zVjWCxFNcgbt"
   },
   "source": [
    "To keep this example small and relatively fast, the values for *num_layers, d_model, and dff* have been reduced.\n",
    "\n",
    "The values used in the base model of transformer were; *num_layers=6*, *d_model = 512*, *dff = 2048*. See the [paper](https://arxiv.org/abs/1706.03762) for all the other versions of the transformer.\n",
    "\n",
    "Note: By changing the values below, you can get the model that achieved state of the art on many tasks."
   ]
  },
  {
   "cell_type": "code",
   "execution_count": 131,
   "metadata": {
    "id": "lnJn5SLA2ahP"
   },
   "outputs": [],
   "source": [
    "num_layers = 4\n",
    "d_model = 128\n",
    "dff = 512\n",
    "num_heads = 8\n",
    "\n",
    "input_vocab_size = tokenizer_pt.vocab_size + 2\n",
    "target_vocab_size = tokenizer_en.vocab_size + 2\n",
    "dropout_rate = 0.1"
   ]
  },
  {
   "cell_type": "markdown",
   "metadata": {
    "id": "xYEGhEOtzn5W"
   },
   "source": [
    "## Optimizer"
   ]
  },
  {
   "cell_type": "code",
   "execution_count": 132,
   "metadata": {
    "id": "8a_CTrcQzJ6U"
   },
   "outputs": [],
   "source": [
    "decay_steps = 10\n",
    "initial_learning_rate = 0.001\n",
    "warmup_steps = 10\n",
    "target_learning_rate = 0.0004\n",
    "lr_warmup_decayed_fn = tf.keras.optimizers.schedules.CosineDecay(\n",
    "    initial_learning_rate, decay_steps, warmup_target=target_learning_rate,\n",
    "    warmup_steps=warmup_steps\n",
    ")"
   ]
  },
  {
   "cell_type": "code",
   "execution_count": 133,
   "metadata": {
    "id": "7r4scdulztRx"
   },
   "outputs": [],
   "source": [
    "optimizer = tf.keras.optimizers.Adam(0.0001, beta_1=0.9, beta_2=0.98,\n",
    "                                     epsilon=1e-9)"
   ]
  },
  {
   "cell_type": "code",
   "execution_count": 134,
   "metadata": {
    "id": "DwESUUznx0Ke"
   },
   "outputs": [
    {
     "data": {
      "text/plain": [
       "<keras.src.optimizers.schedules.learning_rate_schedule.CosineDecay at 0x2ad5823d7cd0>"
      ]
     },
     "execution_count": 134,
     "metadata": {},
     "output_type": "execute_result"
    }
   ],
   "source": [
    "lr_warmup_decayed_fn"
   ]
  },
  {
   "cell_type": "markdown",
   "metadata": {
    "id": "YgkDE7hzo8r5"
   },
   "source": [
    "## Loss and metrics"
   ]
  },
  {
   "cell_type": "markdown",
   "metadata": {
    "id": "oxGJtoDuYIHL"
   },
   "source": [
    "Since the target sequences are padded, it is important to apply a padding mask when calculating the loss."
   ]
  },
  {
   "cell_type": "code",
   "execution_count": 135,
   "metadata": {
    "id": "MlhsJMm0TW_B"
   },
   "outputs": [],
   "source": [
    "loss_object = tf.keras.losses.SparseCategoricalCrossentropy(\n",
    "    from_logits=True, reduction='none')"
   ]
  },
  {
   "cell_type": "code",
   "execution_count": 136,
   "metadata": {
    "id": "67oqVHiT0Eiu"
   },
   "outputs": [],
   "source": [
    "def loss_function(real, pred):\n",
    "  mask = tf.math.logical_not(tf.math.equal(real, 0))\n",
    "  loss_ = loss_object(real, pred)\n",
    "\n",
    "  mask = tf.cast(mask, dtype=loss_.dtype)\n",
    "  loss_ *= mask\n",
    "\n",
    "  return tf.reduce_sum(loss_)/tf.reduce_sum(mask)"
   ]
  },
  {
   "cell_type": "code",
   "execution_count": 137,
   "metadata": {
    "id": "phlyxMnm-Tpx"
   },
   "outputs": [],
   "source": [
    "train_loss = tf.keras.metrics.Mean(name='train_loss')\n",
    "train_accuracy = tf.keras.metrics.SparseCategoricalAccuracy(\n",
    "    name='train_accuracy')"
   ]
  },
  {
   "cell_type": "markdown",
   "metadata": {
    "id": "aeHumfr7zmMa"
   },
   "source": [
    "## Training and checkpointing"
   ]
  },
  {
   "cell_type": "code",
   "execution_count": 138,
   "metadata": {
    "id": "UiysUa--4tOU"
   },
   "outputs": [],
   "source": [
    "transformer = Transformer(num_layers, d_model, num_heads, dff,\n",
    "                          input_vocab_size, target_vocab_size,\n",
    "                          pe_input=input_vocab_size,\n",
    "                          pe_target=target_vocab_size,\n",
    "                          rate=dropout_rate)"
   ]
  },
  {
   "cell_type": "code",
   "execution_count": 139,
   "metadata": {
    "id": "ZOJUSB1T8GjM"
   },
   "outputs": [],
   "source": [
    "def create_masks(inp, tar):\n",
    "  # Encoder padding mask\n",
    "  enc_padding_mask = create_padding_mask(inp)\n",
    "\n",
    "  # Used in the 2nd attention block in the decoder.\n",
    "  # This padding mask is used to mask the encoder outputs.\n",
    "  dec_padding_mask = create_padding_mask(inp)\n",
    "\n",
    "  # Used in the 1st attention block in the decoder.\n",
    "  # It is used to pad and mask future tokens in the input received by\n",
    "  # the decoder.\n",
    "  look_ahead_mask = create_look_ahead_mask(tf.shape(tar)[1])\n",
    "  dec_target_padding_mask = create_padding_mask(tar)\n",
    "  combined_mask = tf.maximum(dec_target_padding_mask, look_ahead_mask)\n",
    "\n",
    "  return enc_padding_mask, combined_mask, dec_padding_mask"
   ]
  },
  {
   "cell_type": "markdown",
   "metadata": {
    "id": "Fzuf06YZp66w"
   },
   "source": [
    "Create the checkpoint path and the checkpoint manager. This will be used to save checkpoints every `n` epochs."
   ]
  },
  {
   "cell_type": "code",
   "execution_count": 140,
   "metadata": {
    "colab": {
     "base_uri": "https://localhost:8080/"
    },
    "id": "hNhuYfllndLZ",
    "outputId": "a3a56ac6-c8f0-4a4b-94ce-6a9eb0e9b362"
   },
   "outputs": [
    {
     "name": "stdout",
     "output_type": "stream",
     "text": [
      "WARNING:tensorflow:Detecting that an object or model or tf.train.Checkpoint is being deleted with unrestored values. See the following logs for the specific values in question. To silence these warnings, use `status.expect_partial()`. See https://www.tensorflow.org/api_docs/python/tf/train/Checkpoint#restorefor details about the status object returned by the restore function.\n"
     ]
    },
    {
     "name": "stderr",
     "output_type": "stream",
     "text": [
      "WARNING:tensorflow:Detecting that an object or model or tf.train.Checkpoint is being deleted with unrestored values. See the following logs for the specific values in question. To silence these warnings, use `status.expect_partial()`. See https://www.tensorflow.org/api_docs/python/tf/train/Checkpoint#restorefor details about the status object returned by the restore function.\n"
     ]
    },
    {
     "name": "stdout",
     "output_type": "stream",
     "text": [
      "WARNING:tensorflow:Value in checkpoint could not be found in the restored object: (root).optimizer._current_learning_rate\n"
     ]
    },
    {
     "name": "stderr",
     "output_type": "stream",
     "text": [
      "WARNING:tensorflow:Value in checkpoint could not be found in the restored object: (root).optimizer._current_learning_rate\n"
     ]
    },
    {
     "name": "stdout",
     "output_type": "stream",
     "text": [
      "Latest checkpoint restored!!\n"
     ]
    }
   ],
   "source": [
    "checkpoint_path = \"./checkpoints/train\"\n",
    "\n",
    "ckpt = tf.train.Checkpoint(transformer=transformer,\n",
    "                           optimizer=optimizer)\n",
    "\n",
    "ckpt_manager = tf.train.CheckpointManager(ckpt, checkpoint_path, max_to_keep=5)\n",
    "\n",
    "# if a checkpoint exists, restore the latest checkpoint.\n",
    "if ckpt_manager.latest_checkpoint:\n",
    "  ckpt.restore(ckpt_manager.latest_checkpoint)\n",
    "  print ('Latest checkpoint restored!!')"
   ]
  },
  {
   "cell_type": "markdown",
   "metadata": {
    "id": "0Di_Yaa1gf9r"
   },
   "source": [
    "The target is divided into tar_inp and tar_real. tar_inp is passed as an input to the decoder. `tar_real` is that same input shifted by 1: At each location in `tar_input`, `tar_real` contains the  next token that should be predicted.\n",
    "\n",
    "For example, `sentence` = \"SOS A lion in the jungle is sleeping EOS\"\n",
    "\n",
    "`tar_inp` =  \"SOS A lion in the jungle is sleeping\"\n",
    "\n",
    "`tar_real` = \"A lion in the jungle is sleeping EOS\"\n",
    "\n",
    "The transformer is an auto-regressive model: it makes predictions one part at a time, and uses its output so far to decide what to do next.\n",
    "\n",
    "During training this example uses teacher-forcing (like in the [text generation tutorial](./text_generation.ipynb)). Teacher forcing is passing the true output to the next time step regardless of what the model predicts at the current time step.\n",
    "\n",
    "As the transformer predicts each word, *self-attention* allows it to look at the previous words in the input sequence to better predict the next word.\n",
    "\n",
    "To prevent the model from peeking at the expected output the model uses a look-ahead mask."
   ]
  },
  {
   "cell_type": "code",
   "execution_count": 141,
   "metadata": {
    "id": "LKpoA6q1sJFj"
   },
   "outputs": [],
   "source": [
    "EPOCHS = 20"
   ]
  },
  {
   "cell_type": "code",
   "execution_count": 142,
   "metadata": {
    "id": "iJwmp9OE29oj"
   },
   "outputs": [],
   "source": [
    "# The @tf.function trace-compiles train_step into a TF graph for faster\n",
    "# execution. The function specializes to the precise shape of the argument\n",
    "# tensors. To avoid re-tracing due to the variable sequence lengths or variable\n",
    "# batch sizes (the last batch is smaller), use input_signature to specify\n",
    "# more generic shapes.\n",
    "\n",
    "train_step_signature = [\n",
    "    tf.TensorSpec(shape=(None, None), dtype=tf.int64),\n",
    "    tf.TensorSpec(shape=(None, None), dtype=tf.int64),\n",
    "]\n",
    "\n",
    "@tf.function(input_signature=train_step_signature)\n",
    "def train_step(inp, tar):\n",
    "  tar_inp = tar[:, :-1]\n",
    "  tar_real = tar[:, 1:]\n",
    "\n",
    "  enc_padding_mask, combined_mask, dec_padding_mask = create_masks(inp, tar_inp)\n",
    "\n",
    "  with tf.GradientTape() as tape:\n",
    "    predictions, _ = transformer(inp, tar_inp,\n",
    "                                 True,\n",
    "                                 enc_padding_mask,\n",
    "                                 combined_mask,\n",
    "                                 dec_padding_mask)\n",
    "    loss = loss_function(tar_real, predictions)\n",
    "\n",
    "  gradients = tape.gradient(loss, transformer.trainable_variables)\n",
    "  optimizer.apply_gradients(zip(gradients, transformer.trainable_variables))\n",
    "\n",
    "  train_loss(loss)\n",
    "  train_accuracy(tar_real, predictions)"
   ]
  },
  {
   "cell_type": "markdown",
   "metadata": {
    "id": "qM2PDWGDJ_8V"
   },
   "source": [
    "Portuguese is used as the input language and English is the target language."
   ]
  },
  {
   "cell_type": "code",
   "execution_count": 143,
   "metadata": {
    "colab": {
     "base_uri": "https://localhost:8080/"
    },
    "id": "bbvmaKNiznHZ",
    "outputId": "6005cf14-07a5-40cd-b678-40947a1cbe94"
   },
   "outputs": [
    {
     "name": "stderr",
     "output_type": "stream",
     "text": [
      "2024-03-06 22:57:29.179120: I tensorflow/core/kernels/data/shuffle_dataset_op.cc:422] ShuffleDatasetV3:55: Filling up shuffle buffer (this may take a while): 12206 of 20000\n",
      "2024-03-06 22:57:36.008678: I tensorflow/core/kernels/data/shuffle_dataset_op.cc:452] Shuffle buffer filled.\n"
     ]
    },
    {
     "name": "stdout",
     "output_type": "stream",
     "text": [
      "Epoch 1 Batch 0 Loss 2.3077 Accuracy 0.2804\n",
      "Epoch 1 Batch 50 Loss 2.3318 Accuracy 0.2679\n",
      "Epoch 1 Batch 100 Loss 2.3107 Accuracy 0.2701\n",
      "Epoch 1 Batch 150 Loss 2.3139 Accuracy 0.2690\n",
      "Epoch 1 Batch 200 Loss 2.3206 Accuracy 0.2685\n",
      "Epoch 1 Batch 250 Loss 2.3154 Accuracy 0.2690\n",
      "Epoch 1 Batch 300 Loss 2.3194 Accuracy 0.2697\n",
      "Epoch 1 Batch 350 Loss 2.3158 Accuracy 0.2698\n",
      "Epoch 1 Batch 400 Loss 2.3161 Accuracy 0.2700\n",
      "Epoch 1 Batch 450 Loss 2.3142 Accuracy 0.2701\n",
      "Epoch 1 Batch 500 Loss 2.3166 Accuracy 0.2700\n",
      "Epoch 1 Batch 550 Loss 2.3188 Accuracy 0.2703\n",
      "Epoch 1 Batch 600 Loss 2.3188 Accuracy 0.2702\n",
      "Epoch 1 Batch 650 Loss 2.3188 Accuracy 0.2703\n",
      "Epoch 1 Batch 700 Loss 2.3188 Accuracy 0.2700\n",
      "Epoch 1 Loss 2.3190 Accuracy 0.2700\n",
      "Time taken for 1 epoch: 120.58312773704529 secs\n",
      "\n",
      "Epoch 2 Batch 0 Loss 2.2348 Accuracy 0.2373\n",
      "Epoch 2 Batch 50 Loss 2.2851 Accuracy 0.2688\n",
      "Epoch 2 Batch 100 Loss 2.2845 Accuracy 0.2698\n",
      "Epoch 2 Batch 150 Loss 2.2832 Accuracy 0.2708\n",
      "Epoch 2 Batch 200 Loss 2.2814 Accuracy 0.2709\n",
      "Epoch 2 Batch 250 Loss 2.2878 Accuracy 0.2712\n",
      "Epoch 2 Batch 300 Loss 2.2878 Accuracy 0.2713\n",
      "Epoch 2 Batch 350 Loss 2.2886 Accuracy 0.2715\n",
      "Epoch 2 Batch 400 Loss 2.2851 Accuracy 0.2714\n",
      "Epoch 2 Batch 450 Loss 2.2844 Accuracy 0.2718\n",
      "Epoch 2 Batch 500 Loss 2.2861 Accuracy 0.2719\n",
      "Epoch 2 Batch 550 Loss 2.2850 Accuracy 0.2717\n",
      "Epoch 2 Batch 600 Loss 2.2871 Accuracy 0.2722\n",
      "Epoch 2 Batch 650 Loss 2.2874 Accuracy 0.2720\n",
      "Epoch 2 Batch 700 Loss 2.2865 Accuracy 0.2715\n",
      "Epoch 2 Loss 2.2868 Accuracy 0.2716\n",
      "Time taken for 1 epoch: 43.70749759674072 secs\n",
      "\n",
      "Epoch 3 Batch 0 Loss 2.2477 Accuracy 0.2711\n",
      "Epoch 3 Batch 50 Loss 2.2395 Accuracy 0.2746\n",
      "Epoch 3 Batch 100 Loss 2.2353 Accuracy 0.2755\n",
      "Epoch 3 Batch 150 Loss 2.2417 Accuracy 0.2738\n",
      "Epoch 3 Batch 200 Loss 2.2488 Accuracy 0.2735\n",
      "Epoch 3 Batch 250 Loss 2.2524 Accuracy 0.2725\n",
      "Epoch 3 Batch 300 Loss 2.2563 Accuracy 0.2721\n",
      "Epoch 3 Batch 350 Loss 2.2566 Accuracy 0.2728\n",
      "Epoch 3 Batch 400 Loss 2.2563 Accuracy 0.2731\n",
      "Epoch 3 Batch 450 Loss 2.2544 Accuracy 0.2731\n",
      "Epoch 3 Batch 500 Loss 2.2558 Accuracy 0.2730\n",
      "Epoch 3 Batch 550 Loss 2.2540 Accuracy 0.2734\n",
      "Epoch 3 Batch 600 Loss 2.2544 Accuracy 0.2735\n",
      "Epoch 3 Batch 650 Loss 2.2543 Accuracy 0.2733\n",
      "Epoch 3 Batch 700 Loss 2.2556 Accuracy 0.2731\n",
      "Epoch 3 Loss 2.2557 Accuracy 0.2730\n",
      "Time taken for 1 epoch: 40.11449980735779 secs\n",
      "\n",
      "Epoch 4 Batch 0 Loss 2.2139 Accuracy 0.2689\n",
      "Epoch 4 Batch 50 Loss 2.2092 Accuracy 0.2745\n",
      "Epoch 4 Batch 100 Loss 2.2191 Accuracy 0.2744\n",
      "Epoch 4 Batch 150 Loss 2.2135 Accuracy 0.2753\n",
      "Epoch 4 Batch 200 Loss 2.2145 Accuracy 0.2767\n",
      "Epoch 4 Batch 250 Loss 2.2151 Accuracy 0.2771\n",
      "Epoch 4 Batch 300 Loss 2.2160 Accuracy 0.2765\n",
      "Epoch 4 Batch 350 Loss 2.2147 Accuracy 0.2756\n",
      "Epoch 4 Batch 400 Loss 2.2143 Accuracy 0.2760\n",
      "Epoch 4 Batch 450 Loss 2.2165 Accuracy 0.2761\n",
      "Epoch 4 Batch 500 Loss 2.2179 Accuracy 0.2759\n",
      "Epoch 4 Batch 550 Loss 2.2186 Accuracy 0.2760\n",
      "Epoch 4 Batch 600 Loss 2.2210 Accuracy 0.2763\n",
      "Epoch 4 Batch 650 Loss 2.2235 Accuracy 0.2760\n",
      "Epoch 4 Batch 700 Loss 2.2240 Accuracy 0.2762\n",
      "Epoch 4 Loss 2.2242 Accuracy 0.2762\n",
      "Time taken for 1 epoch: 39.700279235839844 secs\n",
      "\n",
      "Epoch 5 Batch 0 Loss 2.1851 Accuracy 0.3005\n",
      "Epoch 5 Batch 50 Loss 2.1547 Accuracy 0.2795\n",
      "Epoch 5 Batch 100 Loss 2.1721 Accuracy 0.2791\n",
      "Epoch 5 Batch 150 Loss 2.1724 Accuracy 0.2797\n",
      "Epoch 5 Batch 200 Loss 2.1793 Accuracy 0.2779\n",
      "Epoch 5 Batch 250 Loss 2.1790 Accuracy 0.2774\n",
      "Epoch 5 Batch 300 Loss 2.1829 Accuracy 0.2770\n",
      "Epoch 5 Batch 350 Loss 2.1856 Accuracy 0.2772\n",
      "Epoch 5 Batch 400 Loss 2.1899 Accuracy 0.2773\n",
      "Epoch 5 Batch 450 Loss 2.1937 Accuracy 0.2774\n",
      "Epoch 5 Batch 500 Loss 2.1942 Accuracy 0.2778\n",
      "Epoch 5 Batch 550 Loss 2.1942 Accuracy 0.2777\n",
      "Epoch 5 Batch 600 Loss 2.1935 Accuracy 0.2781\n",
      "Epoch 5 Batch 650 Loss 2.1944 Accuracy 0.2775\n",
      "Epoch 5 Batch 700 Loss 2.1944 Accuracy 0.2775\n",
      "Saving checkpoint for epoch 5 at ./checkpoints/train/ckpt-47\n",
      "Epoch 5 Loss 2.1950 Accuracy 0.2775\n",
      "Time taken for 1 epoch: 41.24673676490784 secs\n",
      "\n",
      "Epoch 6 Batch 0 Loss 2.0894 Accuracy 0.2884\n",
      "Epoch 6 Batch 50 Loss 2.1514 Accuracy 0.2781\n",
      "Epoch 6 Batch 100 Loss 2.1579 Accuracy 0.2806\n",
      "Epoch 6 Batch 150 Loss 2.1520 Accuracy 0.2793\n",
      "Epoch 6 Batch 200 Loss 2.1510 Accuracy 0.2795\n",
      "Epoch 6 Batch 250 Loss 2.1550 Accuracy 0.2788\n",
      "Epoch 6 Batch 300 Loss 2.1564 Accuracy 0.2784\n",
      "Epoch 6 Batch 350 Loss 2.1560 Accuracy 0.2792\n",
      "Epoch 6 Batch 400 Loss 2.1577 Accuracy 0.2797\n",
      "Epoch 6 Batch 450 Loss 2.1612 Accuracy 0.2801\n",
      "Epoch 6 Batch 500 Loss 2.1624 Accuracy 0.2800\n",
      "Epoch 6 Batch 550 Loss 2.1614 Accuracy 0.2798\n",
      "Epoch 6 Batch 600 Loss 2.1628 Accuracy 0.2798\n",
      "Epoch 6 Batch 650 Loss 2.1639 Accuracy 0.2799\n",
      "Epoch 6 Batch 700 Loss 2.1671 Accuracy 0.2796\n",
      "Epoch 6 Loss 2.1673 Accuracy 0.2795\n",
      "Time taken for 1 epoch: 39.645519971847534 secs\n",
      "\n",
      "Epoch 7 Batch 0 Loss 2.2295 Accuracy 0.2695\n",
      "Epoch 7 Batch 50 Loss 2.1180 Accuracy 0.2850\n",
      "Epoch 7 Batch 100 Loss 2.1176 Accuracy 0.2831\n",
      "Epoch 7 Batch 150 Loss 2.1226 Accuracy 0.2834\n",
      "Epoch 7 Batch 200 Loss 2.1222 Accuracy 0.2833\n",
      "Epoch 7 Batch 250 Loss 2.1297 Accuracy 0.2822\n",
      "Epoch 7 Batch 300 Loss 2.1339 Accuracy 0.2822\n",
      "Epoch 7 Batch 350 Loss 2.1326 Accuracy 0.2827\n",
      "Epoch 7 Batch 400 Loss 2.1354 Accuracy 0.2821\n",
      "Epoch 7 Batch 450 Loss 2.1340 Accuracy 0.2818\n",
      "Epoch 7 Batch 500 Loss 2.1365 Accuracy 0.2818\n",
      "Epoch 7 Batch 550 Loss 2.1358 Accuracy 0.2817\n",
      "Epoch 7 Batch 600 Loss 2.1369 Accuracy 0.2814\n",
      "Epoch 7 Batch 650 Loss 2.1384 Accuracy 0.2812\n",
      "Epoch 7 Batch 700 Loss 2.1363 Accuracy 0.2814\n",
      "Epoch 7 Loss 2.1363 Accuracy 0.2814\n",
      "Time taken for 1 epoch: 38.74224281311035 secs\n",
      "\n",
      "Epoch 8 Batch 0 Loss 1.8732 Accuracy 0.3038\n",
      "Epoch 8 Batch 50 Loss 2.0836 Accuracy 0.2834\n",
      "Epoch 8 Batch 100 Loss 2.0980 Accuracy 0.2838\n",
      "Epoch 8 Batch 150 Loss 2.0973 Accuracy 0.2833\n",
      "Epoch 8 Batch 200 Loss 2.1004 Accuracy 0.2837\n",
      "Epoch 8 Batch 250 Loss 2.1013 Accuracy 0.2839\n",
      "Epoch 8 Batch 300 Loss 2.1038 Accuracy 0.2838\n",
      "Epoch 8 Batch 350 Loss 2.1033 Accuracy 0.2840\n",
      "Epoch 8 Batch 400 Loss 2.1029 Accuracy 0.2840\n",
      "Epoch 8 Batch 450 Loss 2.1048 Accuracy 0.2837\n",
      "Epoch 8 Batch 500 Loss 2.1062 Accuracy 0.2835\n",
      "Epoch 8 Batch 550 Loss 2.1077 Accuracy 0.2833\n",
      "Epoch 8 Batch 600 Loss 2.1088 Accuracy 0.2832\n",
      "Epoch 8 Batch 650 Loss 2.1090 Accuracy 0.2833\n",
      "Epoch 8 Batch 700 Loss 2.1100 Accuracy 0.2834\n",
      "Epoch 8 Loss 2.1099 Accuracy 0.2833\n",
      "Time taken for 1 epoch: 38.92776417732239 secs\n",
      "\n",
      "Epoch 9 Batch 0 Loss 2.1451 Accuracy 0.2648\n",
      "Epoch 9 Batch 50 Loss 2.0794 Accuracy 0.2845\n",
      "Epoch 9 Batch 100 Loss 2.0556 Accuracy 0.2856\n",
      "Epoch 9 Batch 150 Loss 2.0667 Accuracy 0.2861\n",
      "Epoch 9 Batch 200 Loss 2.0679 Accuracy 0.2853\n",
      "Epoch 9 Batch 250 Loss 2.0674 Accuracy 0.2854\n",
      "Epoch 9 Batch 300 Loss 2.0673 Accuracy 0.2860\n",
      "Epoch 9 Batch 350 Loss 2.0674 Accuracy 0.2856\n",
      "Epoch 9 Batch 400 Loss 2.0665 Accuracy 0.2859\n",
      "Epoch 9 Batch 450 Loss 2.0698 Accuracy 0.2859\n",
      "Epoch 9 Batch 500 Loss 2.0743 Accuracy 0.2854\n",
      "Epoch 9 Batch 550 Loss 2.0740 Accuracy 0.2854\n",
      "Epoch 9 Batch 600 Loss 2.0773 Accuracy 0.2852\n",
      "Epoch 9 Batch 650 Loss 2.0787 Accuracy 0.2853\n",
      "Epoch 9 Batch 700 Loss 2.0814 Accuracy 0.2849\n",
      "Epoch 9 Loss 2.0816 Accuracy 0.2850\n",
      "Time taken for 1 epoch: 38.842849016189575 secs\n",
      "\n",
      "Epoch 10 Batch 0 Loss 1.8122 Accuracy 0.3095\n",
      "Epoch 10 Batch 50 Loss 2.0420 Accuracy 0.2874\n",
      "Epoch 10 Batch 100 Loss 2.0348 Accuracy 0.2866\n",
      "Epoch 10 Batch 150 Loss 2.0415 Accuracy 0.2861\n",
      "Epoch 10 Batch 200 Loss 2.0472 Accuracy 0.2855\n",
      "Epoch 10 Batch 250 Loss 2.0516 Accuracy 0.2863\n",
      "Epoch 10 Batch 300 Loss 2.0569 Accuracy 0.2858\n",
      "Epoch 10 Batch 350 Loss 2.0554 Accuracy 0.2857\n",
      "Epoch 10 Batch 400 Loss 2.0559 Accuracy 0.2862\n",
      "Epoch 10 Batch 450 Loss 2.0572 Accuracy 0.2867\n",
      "Epoch 10 Batch 500 Loss 2.0545 Accuracy 0.2863\n",
      "Epoch 10 Batch 550 Loss 2.0553 Accuracy 0.2862\n",
      "Epoch 10 Batch 600 Loss 2.0551 Accuracy 0.2863\n",
      "Epoch 10 Batch 650 Loss 2.0552 Accuracy 0.2864\n",
      "Epoch 10 Batch 700 Loss 2.0552 Accuracy 0.2867\n",
      "Saving checkpoint for epoch 10 at ./checkpoints/train/ckpt-48\n",
      "Epoch 10 Loss 2.0550 Accuracy 0.2867\n",
      "Time taken for 1 epoch: 40.0433087348938 secs\n",
      "\n",
      "Epoch 11 Batch 0 Loss 1.8291 Accuracy 0.3161\n",
      "Epoch 11 Batch 50 Loss 2.0019 Accuracy 0.2903\n",
      "Epoch 11 Batch 100 Loss 2.0072 Accuracy 0.2909\n",
      "Epoch 11 Batch 150 Loss 2.0142 Accuracy 0.2884\n",
      "Epoch 11 Batch 200 Loss 2.0190 Accuracy 0.2878\n",
      "Epoch 11 Batch 250 Loss 2.0190 Accuracy 0.2888\n",
      "Epoch 11 Batch 300 Loss 2.0179 Accuracy 0.2892\n",
      "Epoch 11 Batch 350 Loss 2.0174 Accuracy 0.2890\n",
      "Epoch 11 Batch 400 Loss 2.0200 Accuracy 0.2893\n",
      "Epoch 11 Batch 450 Loss 2.0194 Accuracy 0.2889\n",
      "Epoch 11 Batch 500 Loss 2.0215 Accuracy 0.2888\n",
      "Epoch 11 Batch 550 Loss 2.0221 Accuracy 0.2886\n",
      "Epoch 11 Batch 600 Loss 2.0237 Accuracy 0.2886\n",
      "Epoch 11 Batch 650 Loss 2.0280 Accuracy 0.2886\n",
      "Epoch 11 Batch 700 Loss 2.0299 Accuracy 0.2885\n",
      "Epoch 11 Loss 2.0298 Accuracy 0.2885\n",
      "Time taken for 1 epoch: 38.7686550617218 secs\n",
      "\n",
      "Epoch 12 Batch 0 Loss 2.0229 Accuracy 0.2943\n",
      "Epoch 12 Batch 50 Loss 1.9864 Accuracy 0.2871\n",
      "Epoch 12 Batch 100 Loss 1.9809 Accuracy 0.2886\n",
      "Epoch 12 Batch 150 Loss 1.9914 Accuracy 0.2882\n",
      "Epoch 12 Batch 200 Loss 1.9951 Accuracy 0.2889\n",
      "Epoch 12 Batch 250 Loss 1.9940 Accuracy 0.2889\n",
      "Epoch 12 Batch 300 Loss 1.9906 Accuracy 0.2894\n",
      "Epoch 12 Batch 350 Loss 1.9920 Accuracy 0.2892\n",
      "Epoch 12 Batch 400 Loss 1.9928 Accuracy 0.2898\n",
      "Epoch 12 Batch 450 Loss 1.9944 Accuracy 0.2902\n",
      "Epoch 12 Batch 500 Loss 1.9976 Accuracy 0.2899\n",
      "Epoch 12 Batch 550 Loss 1.9976 Accuracy 0.2902\n",
      "Epoch 12 Batch 600 Loss 2.0005 Accuracy 0.2903\n",
      "Epoch 12 Batch 650 Loss 2.0021 Accuracy 0.2904\n",
      "Epoch 12 Batch 700 Loss 2.0024 Accuracy 0.2904\n",
      "Epoch 12 Loss 2.0024 Accuracy 0.2905\n",
      "Time taken for 1 epoch: 39.363075256347656 secs\n",
      "\n",
      "Epoch 13 Batch 0 Loss 1.9335 Accuracy 0.3116\n",
      "Epoch 13 Batch 50 Loss 1.9521 Accuracy 0.2928\n",
      "Epoch 13 Batch 100 Loss 1.9536 Accuracy 0.2959\n",
      "Epoch 13 Batch 150 Loss 1.9624 Accuracy 0.2942\n",
      "Epoch 13 Batch 200 Loss 1.9633 Accuracy 0.2926\n",
      "Epoch 13 Batch 250 Loss 1.9701 Accuracy 0.2924\n",
      "Epoch 13 Batch 300 Loss 1.9675 Accuracy 0.2922\n",
      "Epoch 13 Batch 350 Loss 1.9684 Accuracy 0.2923\n",
      "Epoch 13 Batch 400 Loss 1.9657 Accuracy 0.2931\n",
      "Epoch 13 Batch 450 Loss 1.9686 Accuracy 0.2930\n",
      "Epoch 13 Batch 500 Loss 1.9705 Accuracy 0.2931\n",
      "Epoch 13 Batch 550 Loss 1.9744 Accuracy 0.2930\n",
      "Epoch 13 Batch 600 Loss 1.9759 Accuracy 0.2930\n",
      "Epoch 13 Batch 650 Loss 1.9767 Accuracy 0.2931\n",
      "Epoch 13 Batch 700 Loss 1.9777 Accuracy 0.2929\n",
      "Epoch 13 Loss 1.9779 Accuracy 0.2928\n",
      "Time taken for 1 epoch: 38.935046911239624 secs\n",
      "\n",
      "Epoch 14 Batch 0 Loss 2.0041 Accuracy 0.2973\n",
      "Epoch 14 Batch 50 Loss 1.9072 Accuracy 0.2959\n",
      "Epoch 14 Batch 100 Loss 1.9141 Accuracy 0.2957\n",
      "Epoch 14 Batch 150 Loss 1.9262 Accuracy 0.2958\n",
      "Epoch 14 Batch 200 Loss 1.9325 Accuracy 0.2954\n",
      "Epoch 14 Batch 250 Loss 1.9389 Accuracy 0.2944\n",
      "Epoch 14 Batch 300 Loss 1.9423 Accuracy 0.2944\n",
      "Epoch 14 Batch 350 Loss 1.9457 Accuracy 0.2942\n",
      "Epoch 14 Batch 400 Loss 1.9443 Accuracy 0.2945\n",
      "Epoch 14 Batch 450 Loss 1.9457 Accuracy 0.2943\n",
      "Epoch 14 Batch 500 Loss 1.9470 Accuracy 0.2940\n",
      "Epoch 14 Batch 550 Loss 1.9487 Accuracy 0.2943\n",
      "Epoch 14 Batch 600 Loss 1.9500 Accuracy 0.2942\n",
      "Epoch 14 Batch 650 Loss 1.9514 Accuracy 0.2940\n",
      "Epoch 14 Batch 700 Loss 1.9540 Accuracy 0.2936\n",
      "Epoch 14 Loss 1.9542 Accuracy 0.2936\n",
      "Time taken for 1 epoch: 39.98014426231384 secs\n",
      "\n",
      "Epoch 15 Batch 0 Loss 1.8434 Accuracy 0.2758\n",
      "Epoch 15 Batch 50 Loss 1.9083 Accuracy 0.2966\n",
      "Epoch 15 Batch 100 Loss 1.9174 Accuracy 0.2958\n",
      "Epoch 15 Batch 150 Loss 1.9100 Accuracy 0.2970\n",
      "Epoch 15 Batch 200 Loss 1.9099 Accuracy 0.2966\n",
      "Epoch 15 Batch 250 Loss 1.9204 Accuracy 0.2957\n",
      "Epoch 15 Batch 300 Loss 1.9224 Accuracy 0.2955\n",
      "Epoch 15 Batch 350 Loss 1.9269 Accuracy 0.2946\n",
      "Epoch 15 Batch 400 Loss 1.9254 Accuracy 0.2946\n",
      "Epoch 15 Batch 450 Loss 1.9255 Accuracy 0.2944\n",
      "Epoch 15 Batch 500 Loss 1.9266 Accuracy 0.2944\n",
      "Epoch 15 Batch 550 Loss 1.9267 Accuracy 0.2945\n",
      "Epoch 15 Batch 600 Loss 1.9280 Accuracy 0.2948\n",
      "Epoch 15 Batch 650 Loss 1.9301 Accuracy 0.2947\n",
      "Epoch 15 Batch 700 Loss 1.9305 Accuracy 0.2950\n",
      "Saving checkpoint for epoch 15 at ./checkpoints/train/ckpt-49\n",
      "Epoch 15 Loss 1.9307 Accuracy 0.2950\n",
      "Time taken for 1 epoch: 39.73965573310852 secs\n",
      "\n",
      "Epoch 16 Batch 0 Loss 1.7815 Accuracy 0.3121\n",
      "Epoch 16 Batch 50 Loss 1.8986 Accuracy 0.2883\n",
      "Epoch 16 Batch 100 Loss 1.8930 Accuracy 0.2939\n",
      "Epoch 16 Batch 150 Loss 1.9026 Accuracy 0.2935\n",
      "Epoch 16 Batch 200 Loss 1.8966 Accuracy 0.2951\n",
      "Epoch 16 Batch 250 Loss 1.8923 Accuracy 0.2967\n",
      "Epoch 16 Batch 300 Loss 1.8952 Accuracy 0.2974\n",
      "Epoch 16 Batch 350 Loss 1.8976 Accuracy 0.2977\n",
      "Epoch 16 Batch 400 Loss 1.9024 Accuracy 0.2975\n",
      "Epoch 16 Batch 450 Loss 1.9060 Accuracy 0.2969\n",
      "Epoch 16 Batch 500 Loss 1.9068 Accuracy 0.2969\n",
      "Epoch 16 Batch 550 Loss 1.9071 Accuracy 0.2970\n",
      "Epoch 16 Batch 600 Loss 1.9072 Accuracy 0.2971\n",
      "Epoch 16 Batch 650 Loss 1.9070 Accuracy 0.2972\n",
      "Epoch 16 Batch 700 Loss 1.9086 Accuracy 0.2970\n",
      "Epoch 16 Loss 1.9086 Accuracy 0.2970\n",
      "Time taken for 1 epoch: 39.08897376060486 secs\n",
      "\n",
      "Epoch 17 Batch 0 Loss 1.7848 Accuracy 0.3069\n",
      "Epoch 17 Batch 50 Loss 1.8489 Accuracy 0.3023\n",
      "Epoch 17 Batch 100 Loss 1.8637 Accuracy 0.2985\n",
      "Epoch 17 Batch 150 Loss 1.8674 Accuracy 0.2976\n",
      "Epoch 17 Batch 200 Loss 1.8715 Accuracy 0.2973\n",
      "Epoch 17 Batch 250 Loss 1.8752 Accuracy 0.2973\n",
      "Epoch 17 Batch 300 Loss 1.8771 Accuracy 0.2976\n",
      "Epoch 17 Batch 350 Loss 1.8749 Accuracy 0.2978\n",
      "Epoch 17 Batch 400 Loss 1.8764 Accuracy 0.2974\n",
      "Epoch 17 Batch 450 Loss 1.8777 Accuracy 0.2976\n",
      "Epoch 17 Batch 500 Loss 1.8786 Accuracy 0.2980\n",
      "Epoch 17 Batch 550 Loss 1.8779 Accuracy 0.2979\n",
      "Epoch 17 Batch 600 Loss 1.8815 Accuracy 0.2982\n",
      "Epoch 17 Batch 650 Loss 1.8829 Accuracy 0.2979\n",
      "Epoch 17 Batch 700 Loss 1.8842 Accuracy 0.2978\n",
      "Epoch 17 Loss 1.8841 Accuracy 0.2978\n",
      "Time taken for 1 epoch: 39.30980944633484 secs\n",
      "\n",
      "Epoch 18 Batch 0 Loss 1.8787 Accuracy 0.2929\n",
      "Epoch 18 Batch 50 Loss 1.8614 Accuracy 0.2977\n",
      "Epoch 18 Batch 100 Loss 1.8659 Accuracy 0.2998\n",
      "Epoch 18 Batch 150 Loss 1.8684 Accuracy 0.2989\n",
      "Epoch 18 Batch 200 Loss 1.8654 Accuracy 0.2989\n",
      "Epoch 18 Batch 250 Loss 1.8627 Accuracy 0.2990\n",
      "Epoch 18 Batch 300 Loss 1.8633 Accuracy 0.2997\n",
      "Epoch 18 Batch 350 Loss 1.8633 Accuracy 0.2999\n",
      "Epoch 18 Batch 400 Loss 1.8599 Accuracy 0.2996\n",
      "Epoch 18 Batch 450 Loss 1.8577 Accuracy 0.2997\n",
      "Epoch 18 Batch 500 Loss 1.8564 Accuracy 0.2995\n",
      "Epoch 18 Batch 550 Loss 1.8581 Accuracy 0.2995\n",
      "Epoch 18 Batch 600 Loss 1.8623 Accuracy 0.2996\n",
      "Epoch 18 Batch 650 Loss 1.8616 Accuracy 0.2994\n",
      "Epoch 18 Batch 700 Loss 1.8614 Accuracy 0.2997\n",
      "Epoch 18 Loss 1.8613 Accuracy 0.2998\n",
      "Time taken for 1 epoch: 41.382062911987305 secs\n",
      "\n",
      "Epoch 19 Batch 0 Loss 1.8417 Accuracy 0.3097\n",
      "Epoch 19 Batch 50 Loss 1.8234 Accuracy 0.3008\n",
      "Epoch 19 Batch 100 Loss 1.8286 Accuracy 0.3023\n",
      "Epoch 19 Batch 150 Loss 1.8395 Accuracy 0.2995\n",
      "Epoch 19 Batch 200 Loss 1.8384 Accuracy 0.3000\n",
      "Epoch 19 Batch 250 Loss 1.8368 Accuracy 0.3001\n",
      "Epoch 19 Batch 300 Loss 1.8367 Accuracy 0.3012\n",
      "Epoch 19 Batch 350 Loss 1.8370 Accuracy 0.3014\n",
      "Epoch 19 Batch 400 Loss 1.8383 Accuracy 0.3017\n",
      "Epoch 19 Batch 450 Loss 1.8392 Accuracy 0.3018\n",
      "Epoch 19 Batch 500 Loss 1.8394 Accuracy 0.3016\n",
      "Epoch 19 Batch 550 Loss 1.8401 Accuracy 0.3014\n",
      "Epoch 19 Batch 600 Loss 1.8397 Accuracy 0.3015\n",
      "Epoch 19 Batch 650 Loss 1.8425 Accuracy 0.3014\n",
      "Epoch 19 Batch 700 Loss 1.8426 Accuracy 0.3009\n",
      "Epoch 19 Loss 1.8430 Accuracy 0.3009\n",
      "Time taken for 1 epoch: 38.87715268135071 secs\n",
      "\n",
      "Epoch 20 Batch 0 Loss 1.8270 Accuracy 0.2821\n",
      "Epoch 20 Batch 50 Loss 1.7860 Accuracy 0.2993\n",
      "Epoch 20 Batch 100 Loss 1.8000 Accuracy 0.3011\n",
      "Epoch 20 Batch 150 Loss 1.8032 Accuracy 0.3006\n",
      "Epoch 20 Batch 200 Loss 1.8098 Accuracy 0.3002\n",
      "Epoch 20 Batch 250 Loss 1.8113 Accuracy 0.3002\n",
      "Epoch 20 Batch 300 Loss 1.8102 Accuracy 0.3009\n",
      "Epoch 20 Batch 350 Loss 1.8105 Accuracy 0.3016\n",
      "Epoch 20 Batch 400 Loss 1.8119 Accuracy 0.3014\n",
      "Epoch 20 Batch 450 Loss 1.8132 Accuracy 0.3022\n",
      "Epoch 20 Batch 500 Loss 1.8122 Accuracy 0.3023\n",
      "Epoch 20 Batch 550 Loss 1.8146 Accuracy 0.3021\n",
      "Epoch 20 Batch 600 Loss 1.8166 Accuracy 0.3023\n",
      "Epoch 20 Batch 650 Loss 1.8167 Accuracy 0.3022\n",
      "Epoch 20 Batch 700 Loss 1.8194 Accuracy 0.3021\n",
      "Saving checkpoint for epoch 20 at ./checkpoints/train/ckpt-50\n",
      "Epoch 20 Loss 1.8193 Accuracy 0.3021\n",
      "Time taken for 1 epoch: 39.28947353363037 secs\n",
      "\n"
     ]
    }
   ],
   "source": [
    "for epoch in range(EPOCHS):\n",
    "  start = time.time()\n",
    "\n",
    "  train_loss.reset_states()\n",
    "  train_accuracy.reset_states()\n",
    "\n",
    "  # inp -> portuguese, tar -> english\n",
    "  for (batch, (inp, tar)) in enumerate(train_dataset):\n",
    "    train_step(inp, tar)\n",
    "\n",
    "    if batch % 50 == 0:\n",
    "      print ('Epoch {} Batch {} Loss {:.4f} Accuracy {:.4f}'.format(\n",
    "          epoch + 1, batch, train_loss.result(), train_accuracy.result()))\n",
    "\n",
    "  if (epoch + 1) % 5 == 0:\n",
    "    ckpt_save_path = ckpt_manager.save()\n",
    "    print ('Saving checkpoint for epoch {} at {}'.format(epoch+1,\n",
    "                                                         ckpt_save_path))\n",
    "\n",
    "  print ('Epoch {} Loss {:.4f} Accuracy {:.4f}'.format(epoch + 1,\n",
    "                                                train_loss.result(),\n",
    "                                                train_accuracy.result()))\n",
    "\n",
    "  print ('Time taken for 1 epoch: {} secs\\n'.format(time.time() - start))"
   ]
  },
  {
   "cell_type": "markdown",
   "metadata": {
    "id": "QfcsSWswSdGV"
   },
   "source": [
    "## Evaluate"
   ]
  },
  {
   "cell_type": "markdown",
   "metadata": {
    "id": "y6APsFrgImLW"
   },
   "source": [
    "The following steps are used for evaluation:\n",
    "\n",
    "* Encode the input sentence using the Portuguese tokenizer (`tokenizer_pt`). Moreover, add the start and end token so the input is equivalent to what the model is trained with. This is the encoder input.\n",
    "* The decoder input is the `start token == tokenizer_en.vocab_size`.\n",
    "* Calculate the padding masks and the look ahead masks.\n",
    "* The `decoder` then outputs the predictions by looking at the `encoder output` and its own output (self-attention).\n",
    "* Select the last word and calculate the argmax of that.\n",
    "* Concatentate the predicted word to the decoder input as pass it to the decoder.\n",
    "* In this approach, the decoder predicts the next word based on the previous words it predicted.\n",
    "\n",
    "Note: The model used here has less capacity to keep the example relatively faster so the predictions maybe less right. To reproduce the results in the paper, use the entire dataset and base transformer model or transformer XL, by changing the hyperparameters above."
   ]
  },
  {
   "cell_type": "code",
   "execution_count": 144,
   "metadata": {
    "id": "5buvMlnvyrFm"
   },
   "outputs": [],
   "source": [
    "def evaluate(inp_sentence):\n",
    "  start_token = [tokenizer_pt.vocab_size]\n",
    "  end_token = [tokenizer_pt.vocab_size + 1]\n",
    "\n",
    "  # inp sentence is portuguese, hence adding the start and end token\n",
    "  inp_sentence = start_token + tokenizer_pt.encode(inp_sentence) + end_token\n",
    "  encoder_input = tf.expand_dims(inp_sentence, 0)\n",
    "\n",
    "  # as the target is english, the first word to the transformer should be the\n",
    "  # english start token.\n",
    "  decoder_input = [tokenizer_en.vocab_size]\n",
    "  output = tf.expand_dims(decoder_input, 0)\n",
    "\n",
    "  for i in range(MAX_LENGTH):\n",
    "    enc_padding_mask, combined_mask, dec_padding_mask = create_masks(\n",
    "        encoder_input, output)\n",
    "\n",
    "    # predictions.shape == (batch_size, seq_len, vocab_size)\n",
    "    predictions, attention_weights = transformer(encoder_input,\n",
    "                                                 output,\n",
    "                                                 False,\n",
    "                                                 enc_padding_mask,\n",
    "                                                 combined_mask,\n",
    "                                                 dec_padding_mask)\n",
    "\n",
    "    # select the last word from the seq_len dimension\n",
    "    predictions = predictions[: ,-1:, :]  # (batch_size, 1, vocab_size)\n",
    "\n",
    "    predicted_id = tf.cast(tf.argmax(predictions, axis=-1), tf.int32)\n",
    "\n",
    "    # return the result if the predicted_id is equal to the end token\n",
    "    if predicted_id == tokenizer_en.vocab_size+1:\n",
    "      return tf.squeeze(output, axis=0), attention_weights\n",
    "\n",
    "    # concatentate the predicted_id to the output which is given to the decoder\n",
    "    # as its input.\n",
    "    output = tf.concat([output, predicted_id], axis=-1)\n",
    "\n",
    "  return tf.squeeze(output, axis=0), attention_weights"
   ]
  },
  {
   "cell_type": "code",
   "execution_count": 145,
   "metadata": {
    "id": "CN-BV43FMBej"
   },
   "outputs": [],
   "source": [
    "def plot_attention_weights(attention, sentence, result, layer):\n",
    "  fig = plt.figure(figsize=(16, 8))\n",
    "\n",
    "  sentence = tokenizer_pt.encode(sentence)\n",
    "\n",
    "  attention = tf.squeeze(attention[layer], axis=0)\n",
    "\n",
    "  for head in range(attention.shape[0]):\n",
    "    ax = fig.add_subplot(2, 4, head+1)\n",
    "\n",
    "    # plot the attention weights\n",
    "    ax.matshow(attention[head][:-1, :], cmap='viridis')\n",
    "\n",
    "    fontdict = {'fontsize': 10}\n",
    "\n",
    "    ax.set_xticks(range(len(sentence)+2))\n",
    "    ax.set_yticks(range(len(result)))\n",
    "\n",
    "    ax.set_ylim(len(result)-1.5, -0.5)\n",
    "\n",
    "    ax.set_xticklabels(\n",
    "        ['<start>']+[tokenizer_pt.decode([i]) for i in sentence]+['<end>'],\n",
    "        fontdict=fontdict, rotation=90)\n",
    "\n",
    "    ax.set_yticklabels([tokenizer_en.decode([i]) for i in result\n",
    "                        if i < tokenizer_en.vocab_size],\n",
    "                       fontdict=fontdict)\n",
    "\n",
    "    ax.set_xlabel('Head {}'.format(head+1))\n",
    "\n",
    "  plt.tight_layout()\n",
    "  plt.show()"
   ]
  },
  {
   "cell_type": "code",
   "execution_count": 146,
   "metadata": {
    "id": "lU2_yG_vBGza"
   },
   "outputs": [],
   "source": [
    "def translate(sentence, plot=''):\n",
    "  result, attention_weights = evaluate(sentence)\n",
    "\n",
    "  predicted_sentence = tokenizer_en.decode([i for i in result\n",
    "                                            if i < tokenizer_en.vocab_size])\n",
    "\n",
    "  print('Input: {}'.format(sentence))\n",
    "  print('Predicted translation: {}'.format(predicted_sentence))\n",
    "\n",
    "  if plot:\n",
    "    plot_attention_weights(attention_weights, sentence, result, plot)"
   ]
  },
  {
   "cell_type": "code",
   "execution_count": 147,
   "metadata": {
    "colab": {
     "base_uri": "https://localhost:8080/"
    },
    "id": "YsxrAlvFG8SZ",
    "outputId": "0fb2b4e6-9d76-4879-d65b-f90936cb8b6a"
   },
   "outputs": [
    {
     "name": "stdout",
     "output_type": "stream",
     "text": [
      "Input: este é um problema que temos que resolver.\n",
      "Predicted translation: this is a problem that we have to solve one-to-being .\n",
      "Real translation: this is a problem we have to solve .\n"
     ]
    }
   ],
   "source": [
    "translate(\"este é um problema que temos que resolver.\")\n",
    "print (\"Real translation: this is a problem we have to solve .\")"
   ]
  },
  {
   "cell_type": "code",
   "execution_count": 148,
   "metadata": {
    "colab": {
     "base_uri": "https://localhost:8080/"
    },
    "id": "7EH5y_aqI4t1",
    "outputId": "5e620881-150f-4c4b-c8ec-d169d1dedbe9"
   },
   "outputs": [
    {
     "name": "stdout",
     "output_type": "stream",
     "text": [
      "Input: os meus vizinhos ouviram sobre esta ideia.\n",
      "Predicted translation: my neighbors heard about this idea .\n",
      "Real translation: and my neighboring homes heard about this idea .\n"
     ]
    }
   ],
   "source": [
    "translate(\"os meus vizinhos ouviram sobre esta ideia.\")\n",
    "print (\"Real translation: and my neighboring homes heard about this idea .\")"
   ]
  },
  {
   "cell_type": "code",
   "execution_count": 149,
   "metadata": {
    "colab": {
     "base_uri": "https://localhost:8080/"
    },
    "id": "J-hVCTSUMlkb",
    "outputId": "c0edea95-7ab0-4224-844e-d7e5f917225b"
   },
   "outputs": [
    {
     "name": "stdout",
     "output_type": "stream",
     "text": [
      "Input: vou então muito rapidamente partilhar convosco algumas histórias de algumas coisas mágicas que aconteceram.\n",
      "Predicted translation: so i 'm so quickly sharing some stories of a few bad things that happened to happen .\n",
      "Real translation: so i 'll just share with you some stories very quickly of some magical things that have happened .\n"
     ]
    }
   ],
   "source": [
    "translate(\"vou então muito rapidamente partilhar convosco algumas histórias de algumas coisas mágicas que aconteceram.\")\n",
    "print (\"Real translation: so i 'll just share with you some stories very quickly of some magical things that have happened .\")"
   ]
  },
  {
   "cell_type": "markdown",
   "metadata": {
    "id": "_1MxkSZvz0jX"
   },
   "source": [
    "You can pass different layers and attention blocks of the decoder to the `plot` parameter."
   ]
  },
  {
   "cell_type": "code",
   "execution_count": 150,
   "metadata": {
    "colab": {
     "base_uri": "https://localhost:8080/"
    },
    "id": "t-kFyiOLH0xg",
    "outputId": "961c2a7d-4dc9-4935-e836-90e463f98d4d"
   },
   "outputs": [
    {
     "name": "stdout",
     "output_type": "stream",
     "text": [
      "Input: este é o primeiro livro que eu fiz.\n",
      "Predicted translation: this is the first book i did .\n",
      "Real translation: this is the first book i've ever done.\n"
     ]
    }
   ],
   "source": [
    "translate(\"este é o primeiro livro que eu fiz.\")\n",
    "print (\"Real translation: this is the first book i've ever done.\")"
   ]
  },
  {
   "cell_type": "markdown",
   "metadata": {
    "id": "RqQ1fIsLwkGE"
   },
   "source": [
    "## Summary\n",
    "\n",
    "In this tutorial, you learned about positional encoding, multi-head attention, the importance of masking and how to create a transformer.\n",
    "\n",
    "Try using a different dataset to train the transformer. You can also create the base transformer or transformer XL by changing the hyperparameters above. You can also use the layers defined here to create [BERT](https://arxiv.org/abs/1810.04805) and train state of the art models. Futhermore, you can implement beam search to get better predictions."
   ]
  },
  {
   "cell_type": "code",
   "execution_count": null,
   "metadata": {},
   "outputs": [],
   "source": []
  }
 ],
 "metadata": {
  "accelerator": "GPU",
  "colab": {
   "collapsed_sections": [
    "s_qNSzzyaCbD"
   ],
   "gpuType": "T4",
   "provenance": []
  },
  "kernelspec": {
   "display_name": "Python 3 (ipykernel)",
   "language": "python",
   "name": "python3"
  },
  "language_info": {
   "codemirror_mode": {
    "name": "ipython",
    "version": 3
   },
   "file_extension": ".py",
   "mimetype": "text/x-python",
   "name": "python",
   "nbconvert_exporter": "python",
   "pygments_lexer": "ipython3",
   "version": "3.10.4"
  }
 },
 "nbformat": 4,
 "nbformat_minor": 4
}
