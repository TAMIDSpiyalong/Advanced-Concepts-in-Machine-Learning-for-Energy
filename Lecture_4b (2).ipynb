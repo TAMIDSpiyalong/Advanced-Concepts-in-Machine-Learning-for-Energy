{
 "cells": [
  {
   "cell_type": "markdown",
   "metadata": {
    "id": "MenE2varZEXc"
   },
   "source": [
    "# Transformers From Scratch"
   ]
  },
  {
   "cell_type": "markdown",
   "metadata": {
    "id": "aTSadDXiPQLm"
   },
   "source": [
    "This lab builds a sequence to sequence transformer, with encoder-decoder blocks from scratch for translation from Portuguese to English. Transformers excel at modeling sequential data, such as natural language. The datasets is from the TED Talks Open Translation Project. This dataset contains approximately 52,000 training, 1,200 validation and 1,800 test examples."
   ]
  },
  {
   "cell_type": "markdown",
   "metadata": {
    "id": "pAifCvd_Tth9"
   },
   "source": [
    "##Objectives"
   ]
  },
  {
   "cell_type": "markdown",
   "metadata": {
    "id": "gg_2bsitTwAq"
   },
   "source": [
    "1. Understand and build the dot product self attention block, which is the key of the attention mechanism.\n",
    "2. Build a transformer from scratch with multiple attention heads.\n",
    "3. Train and evaluate the performance of such neural network."
   ]
  },
  {
   "cell_type": "code",
   "execution_count": 7,
   "metadata": {
    "id": "XFG0NDRu5mYQ"
   },
   "outputs": [
    {
     "name": "stdout",
     "output_type": "stream",
     "text": [
      "Successfully installed astunparse-1.6.3 cachetools-5.3.3 flatbuffers-23.5.26 gast-0.5.4 google-auth-2.28.1 google-auth-oauthlib-1.2.0 google-pasta-0.2.0 grpcio-1.62.0 h5py-3.10.0 keras-2.15.0 libclang-16.0.6 markdown-3.5.2 ml-dtypes-0.2.0 nvidia-cublas-cu12-12.2.5.6 nvidia-cuda-cupti-cu12-12.2.142 nvidia-cuda-nvcc-cu12-12.2.140 nvidia-cuda-nvrtc-cu12-12.2.140 nvidia-cuda-runtime-cu12-12.2.140 nvidia-cudnn-cu12-8.9.4.25 nvidia-cufft-cu12-11.0.8.103 nvidia-curand-cu12-10.3.3.141 nvidia-cusolver-cu12-11.5.2.141 nvidia-cusparse-cu12-12.1.2.141 nvidia-nccl-cu12-2.16.5 nvidia-nvjitlink-cu12-12.2.140 oauthlib-3.2.2 opt-einsum-3.3.0 pyasn1-modules-0.3.0 requests-oauthlib-1.3.1 rsa-4.9 tensorboard-2.15.2 tensorboard-data-server-0.7.2 tensorflow-2.15.0.post1 tensorflow-estimator-2.15.0 tensorflow-io-gcs-filesystem-0.36.0 werkzeug-3.0.1 wrapt-1.14.1\n"
     ]
    }
   ],
   "source": [
    "# ! pip install -q tfds-nightly\n",
    "# ! python3 -m pip install tensorflow[and-cuda]"
   ]
  },
  {
   "cell_type": "markdown",
   "metadata": {
    "id": "fd1NWMxjfsDd"
   },
   "source": [
    "## Setup input pipeline"
   ]
  },
  {
   "cell_type": "code",
   "execution_count": 9,
   "metadata": {
    "id": "JjJJyJTZYebt"
   },
   "outputs": [],
   "source": [
    "import tensorflow_datasets as tfds\n",
    "import tensorflow as tf\n",
    "\n",
    "import time\n",
    "import numpy as np\n"
   ]
  },
  {
   "cell_type": "markdown",
   "metadata": {
    "id": "t4_Qt8W1hJE_"
   },
   "source": [
    "Use [TFDS](https://www.tensorflow.org/datasets) to load the [Portugese-English translation dataset](https://github.com/neulab/word-embeddings-for-nmt) from the [TED Talks Open Translation Project](https://www.ted.com/participate/translate).\n",
    "\n",
    "This dataset contains approximately 50000 training examples, 1100 validation examples, and 2000 test examples."
   ]
  },
  {
   "cell_type": "code",
   "execution_count": 10,
   "metadata": {
    "id": "8q9t4FmN96eN"
   },
   "outputs": [
    {
     "name": "stderr",
     "output_type": "stream",
     "text": [
      "2024-03-06 22:05:02.057410: I tensorflow/core/common_runtime/gpu/gpu_device.cc:1929] Created device /job:localhost/replica:0/task:0/device:GPU:0 with 38339 MB memory:  -> device: 0, name: NVIDIA A100-PCIE-40GB, pci bus id: 0000:3b:00.0, compute capability: 8.0\n"
     ]
    }
   ],
   "source": [
    "examples, metadata = tfds.load('ted_hrlr_translate/pt_to_en', with_info=True,\n",
    "                               as_supervised=True)\n",
    "train_examples, val_examples = examples['train'], examples['validation']"
   ]
  },
  {
   "cell_type": "code",
   "execution_count": 11,
   "metadata": {
    "colab": {
     "base_uri": "https://localhost:8080/"
    },
    "id": "TyTo86x5n1om",
    "outputId": "20e0b4b1-799c-455e-f798-386327263add"
   },
   "outputs": [
    {
     "name": "stdout",
     "output_type": "stream",
     "text": [
      "> Examples in Portuguese:\n",
      "e quando melhoramos a procura , tiramos a única vantagem da impressão , que é a serendipidade .\n",
      "mas e se estes fatores fossem ativos ?\n",
      "mas eles não tinham a curiosidade de me testar .\n",
      "\n",
      "> Examples in English:\n",
      "and when you improve searchability , you actually take away the one advantage of print , which is serendipity .\n",
      "but what if it were active ?\n",
      "but they did n't test for curiosity .\n"
     ]
    },
    {
     "name": "stderr",
     "output_type": "stream",
     "text": [
      "2024-03-06 22:05:02.682524: W tensorflow/core/kernels/data/cache_dataset_ops.cc:858] The calling iterator did not fully read the dataset being cached. In order to avoid unexpected truncation of the dataset, the partially cached contents of the dataset  will be discarded. This can happen if you have an input pipeline similar to `dataset.cache().take(k).repeat()`. You should use `dataset.take(k).cache().repeat()` instead.\n"
     ]
    }
   ],
   "source": [
    "for pt_examples, en_examples in train_examples.batch(3).take(1):\n",
    "  print('> Examples in Portuguese:')\n",
    "  for pt in pt_examples.numpy():\n",
    "    print(pt.decode('utf-8'))\n",
    "  print()\n",
    "\n",
    "  print('> Examples in English:')\n",
    "  for en in en_examples.numpy():\n",
    "    print(en.decode('utf-8'))"
   ]
  },
  {
   "cell_type": "markdown",
   "metadata": {
    "id": "RCEKotqosGfq"
   },
   "source": [
    "Now that you have loaded the dataset, you need to tokenize the text, so that each element is represented as a [token](https://developers.google.com/machine-learning/glossary#token) or token ID (a numeric representation).\n",
    "\n",
    "Tokenization is the process of breaking up text, into \"tokens\". Depending on the tokenizer, these tokens can represent sentence-pieces, words, subwords, or characters. To learn more about tokenization, visit [this guide](https://www.tensorflow.org/text/guide/tokenizers)."
   ]
  },
  {
   "cell_type": "code",
   "execution_count": 12,
   "metadata": {
    "id": "KVBg5Q8tBk5z"
   },
   "outputs": [],
   "source": [
    "tokenizer_en = tfds.deprecated.text.SubwordTextEncoder.build_from_corpus(\n",
    "    (en.numpy() for pt, en in train_examples), target_vocab_size=2**13)\n",
    "\n",
    "tokenizer_pt = tfds.deprecated.text.SubwordTextEncoder.build_from_corpus(\n",
    "    (pt.numpy() for pt, en in train_examples), target_vocab_size=2**13)"
   ]
  },
  {
   "cell_type": "code",
   "execution_count": 13,
   "metadata": {
    "colab": {
     "base_uri": "https://localhost:8080/"
    },
    "id": "4DYWukNFkGQN",
    "outputId": "0b625c0b-8b80-4985-c887-9ff213b72f41"
   },
   "outputs": [
    {
     "name": "stdout",
     "output_type": "stream",
     "text": [
      "Tokenized string is [7915, 1248, 7946, 7194, 13, 2799, 7877]\n",
      "The original string: Transformer is awesome.\n"
     ]
    }
   ],
   "source": [
    "sample_string = 'Transformer is awesome.'\n",
    "\n",
    "tokenized_string = tokenizer_en.encode(sample_string)\n",
    "print ('Tokenized string is {}'.format(tokenized_string))\n",
    "\n",
    "original_string = tokenizer_en.decode(tokenized_string)\n",
    "print ('The original string: {}'.format(original_string))\n",
    "\n",
    "assert original_string == sample_string"
   ]
  },
  {
   "cell_type": "markdown",
   "metadata": {
    "id": "o9KJWJjrsZ4Y"
   },
   "source": [
    "The tokenizer encodes the string by breaking it into subwords if the word is not in its dictionary."
   ]
  },
  {
   "cell_type": "code",
   "execution_count": 14,
   "metadata": {
    "colab": {
     "base_uri": "https://localhost:8080/"
    },
    "id": "bf2ntBxjkqK6",
    "outputId": "0ece37ce-01bb-4029-ced3-19030c740c06"
   },
   "outputs": [
    {
     "name": "stdout",
     "output_type": "stream",
     "text": [
      "7915 ----> T\n",
      "1248 ----> ran\n",
      "7946 ----> s\n",
      "7194 ----> former \n",
      "13 ----> is \n",
      "2799 ----> awesome\n",
      "7877 ----> .\n"
     ]
    }
   ],
   "source": [
    "for ts in tokenized_string:\n",
    "  print ('{} ----> {}'.format(ts, tokenizer_en.decode([ts])))"
   ]
  },
  {
   "cell_type": "code",
   "execution_count": 15,
   "metadata": {
    "id": "bcRp7VcQ5m6g"
   },
   "outputs": [],
   "source": [
    "BUFFER_SIZE = 20000\n",
    "BATCH_SIZE = 64"
   ]
  },
  {
   "cell_type": "markdown",
   "metadata": {
    "id": "kGi4PoVakxdc"
   },
   "source": [
    "Add a start and end token to the input and target."
   ]
  },
  {
   "cell_type": "code",
   "execution_count": 16,
   "metadata": {
    "id": "UZwnPr4R055s"
   },
   "outputs": [],
   "source": [
    "def encode(lang1, lang2):\n",
    "  lang1 = [tokenizer_pt.vocab_size] + tokenizer_pt.encode(\n",
    "      lang1.numpy()) + [tokenizer_pt.vocab_size+1]\n",
    "\n",
    "  lang2 = [tokenizer_en.vocab_size] + tokenizer_en.encode(\n",
    "      lang2.numpy()) + [tokenizer_en.vocab_size+1]\n",
    "\n",
    "  return lang1, lang2"
   ]
  },
  {
   "cell_type": "markdown",
   "metadata": {
    "id": "Tx1sFbR-9fRs"
   },
   "source": [
    "You want to use `Dataset.map` to apply this function to each element of the dataset.  `Dataset.map` runs in graph mode.\n",
    "\n",
    "* Graph tensors do not have a value.\n",
    "* In graph mode you can only use TensorFlow Ops and functions.\n",
    "\n",
    "So you can't `.map` this function directly: You need to wrap it in a `tf.py_function`. The `tf.py_function` will pass regular tensors (with a value and a `.numpy()` method to access it), to the wrapped python function."
   ]
  },
  {
   "cell_type": "code",
   "execution_count": 17,
   "metadata": {
    "id": "Mah1cS-P70Iz"
   },
   "outputs": [],
   "source": [
    "def tf_encode(pt, en):\n",
    "  result_pt, result_en = tf.py_function(encode, [pt, en], [tf.int64, tf.int64])\n",
    "  result_pt.set_shape([None])\n",
    "  result_en.set_shape([None])\n",
    "\n",
    "  return result_pt, result_en"
   ]
  },
  {
   "cell_type": "markdown",
   "metadata": {
    "id": "6JrGp5Gek6Ql"
   },
   "source": [
    "Note: To keep this example small and relatively fast, drop examples with a length of over 20 tokens."
   ]
  },
  {
   "cell_type": "code",
   "execution_count": 18,
   "metadata": {
    "id": "2QEgbjntk6Yf"
   },
   "outputs": [],
   "source": [
    "MAX_LENGTH = 40"
   ]
  },
  {
   "cell_type": "code",
   "execution_count": 19,
   "metadata": {
    "id": "c081xPGv1CPI"
   },
   "outputs": [],
   "source": [
    "def filter_max_length(x, y, max_length=MAX_LENGTH):\n",
    "  return tf.logical_and(tf.size(x) <= max_length,\n",
    "                        tf.size(y) <= max_length)"
   ]
  },
  {
   "cell_type": "code",
   "execution_count": 20,
   "metadata": {
    "id": "9mk9AZdZ5bcS"
   },
   "outputs": [],
   "source": [
    "train_dataset = train_examples.map(tf_encode)\n",
    "train_dataset = train_dataset.filter(filter_max_length)\n",
    "# cache the dataset to memory to get a speedup while reading from it.\n",
    "train_dataset = train_dataset.cache()\n",
    "train_dataset = train_dataset.shuffle(BUFFER_SIZE).padded_batch(BATCH_SIZE)\n",
    "train_dataset = train_dataset.prefetch(tf.data.experimental.AUTOTUNE)\n",
    "\n",
    "\n",
    "val_dataset = val_examples.map(tf_encode)\n",
    "val_dataset = val_dataset.filter(filter_max_length).padded_batch(BATCH_SIZE)"
   ]
  },
  {
   "cell_type": "code",
   "execution_count": 21,
   "metadata": {
    "colab": {
     "base_uri": "https://localhost:8080/"
    },
    "id": "_fXvfYVfQr2n",
    "outputId": "fc3d4bc4-dba8-43fc-f817-b406729541c1"
   },
   "outputs": [
    {
     "name": "stderr",
     "output_type": "stream",
     "text": [
      "2024-03-06 22:07:09.388975: W tensorflow/core/kernels/data/cache_dataset_ops.cc:858] The calling iterator did not fully read the dataset being cached. In order to avoid unexpected truncation of the dataset, the partially cached contents of the dataset  will be discarded. This can happen if you have an input pipeline similar to `dataset.cache().take(k).repeat()`. You should use `dataset.take(k).cache().repeat()` instead.\n"
     ]
    },
    {
     "data": {
      "text/plain": [
       "(<tf.Tensor: shape=(64, 38), dtype=int64, numpy=\n",
       " array([[8214,  342, 3032, ...,    0,    0,    0],\n",
       "        [8214,   95,  198, ...,    0,    0,    0],\n",
       "        [8214, 4479, 7990, ...,    0,    0,    0],\n",
       "        ...,\n",
       "        [8214,  584,   12, ...,    0,    0,    0],\n",
       "        [8214,   59, 1548, ...,    0,    0,    0],\n",
       "        [8214,  118,   34, ...,    0,    0,    0]])>,\n",
       " <tf.Tensor: shape=(64, 40), dtype=int64, numpy=\n",
       " array([[8087,   98,   25, ...,    0,    0,    0],\n",
       "        [8087,   12,   20, ...,    0,    0,    0],\n",
       "        [8087,   12, 5453, ...,    0,    0,    0],\n",
       "        ...,\n",
       "        [8087,   18, 2059, ...,    0,    0,    0],\n",
       "        [8087,   16, 1436, ...,    0,    0,    0],\n",
       "        [8087,   15,   57, ...,    0,    0,    0]])>)"
      ]
     },
     "execution_count": 21,
     "metadata": {},
     "output_type": "execute_result"
    }
   ],
   "source": [
    "pt_batch, en_batch = next(iter(val_dataset))\n",
    "pt_batch, en_batch"
   ]
  },
  {
   "cell_type": "markdown",
   "metadata": {
    "id": "mDkTVv3KMJX_"
   },
   "source": [
    "We'll start with the **Multi-Head Self-Attention** layer since that's the most involved bit. Once we have that working, the rest should make sense as you go."
   ]
  },
  {
   "cell_type": "markdown",
   "metadata": {
    "id": "LqX04fFXBdxy"
   },
   "source": [
    "## Multi-Head Self-Attention"
   ]
  },
  {
   "cell_type": "markdown",
   "metadata": {
    "id": "3NAf9HP7RsQu"
   },
   "source": [
    "\n",
    "Inside each attention head is a **Scaled Dot Product Self-Attention** operation as we covered in the slides. Given *queries*, *keys*, and *values*, the operation returns a new \"mix\" of the values.\n",
    "\n",
    "$$Attention(Q, K, V) = softmax(\\frac{QK^T)}{\\sqrt{d_k}})V$$\n",
    "\n",
    "The following function implements this and also takes a mask to account for padding and for masking future tokens for decoding (i.e. **look-ahead mask**). We'll cover masking later in the notebook."
   ]
  },
  {
   "cell_type": "code",
   "execution_count": 22,
   "metadata": {
    "id": "7hpO6cGEN7HK"
   },
   "outputs": [],
   "source": [
    "def scaled_dot_product_attention(q, k, v, mask=None):\n",
    "  \"\"\"Calculate the attention weights.\n",
    "  q, k, v must have matching leading dimensions.\n",
    "  k, v must have matching penultimate dimension, i.e.: seq_len_k = seq_len_v.\n",
    "  The mask has different shapes depending on its type(padding or look ahead)\n",
    "  but it must be broadcastable for addition.\n",
    "\n",
    "  Args:\n",
    "    q: query shape == (..., seq_len_q, depth)\n",
    "    k: key shape == (..., seq_len_k, depth)\n",
    "    v: value shape == (..., seq_len_v, depth_v)\n",
    "    mask: Float tensor with shape broadcastable\n",
    "          to (..., seq_len_q, seq_len_k). Defaults to None.\n",
    "\n",
    "  Returns:\n",
    "    output, attention_weights\n",
    "  \"\"\"\n",
    "\n",
    "  matmul_qk = tf.matmul(q, k, transpose_b=True)  # (..., seq_len_q, seq_len_k)\n",
    "\n",
    "  # scale matmul_qk\n",
    "  dk = tf.cast(tf.shape(k)[-1], tf.float32)\n",
    "  scaled_attention_logits = matmul_qk / tf.math.sqrt(dk)\n",
    "\n",
    "  # add the mask to the scaled tensor.\n",
    "  if mask is not None:\n",
    "    scaled_attention_logits += (mask * -1e9)\n",
    "\n",
    "  # softmax is normalized on the last axis (seq_len_k) so that the scores\n",
    "  # add up to 1.\n",
    "  attention_weights = tf.nn.softmax(scaled_attention_logits, axis=-1)  # (..., seq_len_q, seq_len_k)\n",
    "\n",
    "  output = tf.matmul(attention_weights, v)  # (..., seq_len_q, depth_v)\n",
    "\n",
    "  return output, attention_weights"
   ]
  },
  {
   "cell_type": "markdown",
   "metadata": {
    "id": "lC_HhsreXh3H"
   },
   "source": [
    "Suppose our *queries*, *keys*, and *values* are each a length of 3 with a dimension of 4."
   ]
  },
  {
   "cell_type": "code",
   "execution_count": 23,
   "metadata": {
    "colab": {
     "base_uri": "https://localhost:8080/"
    },
    "id": "WB2cDybgX5LZ",
    "outputId": "c9c96a90-73e3-4027-f65c-62ae05476811"
   },
   "outputs": [
    {
     "name": "stdout",
     "output_type": "stream",
     "text": [
      "Queries:\n",
      " [[0.02135963 0.82901716 0.67566025 0.26137993]\n",
      " [0.02192516 0.7561811  0.10454049 0.70594394]\n",
      " [0.71585923 0.18293364 0.6464676  0.29505146]]\n"
     ]
    }
   ],
   "source": [
    "seq_len = 3\n",
    "embed_dim = 4\n",
    "\n",
    "queries = np.random.rand(seq_len, embed_dim).astype('float32')\n",
    "keys = np.random.rand(seq_len, embed_dim).astype('float32')\n",
    "values = np.random.rand(seq_len, embed_dim).astype('float32')\n",
    "\n",
    "print(\"Queries:\\n\", queries)"
   ]
  },
  {
   "cell_type": "markdown",
   "metadata": {
    "id": "QuNdMuz5vb1c"
   },
   "source": [
    "This would be the self-attention output and weights."
   ]
  },
  {
   "cell_type": "code",
   "execution_count": 24,
   "metadata": {
    "colab": {
     "base_uri": "https://localhost:8080/"
    },
    "id": "pxKj56hNX5UO",
    "outputId": "dbee2e12-0a15-49c5-80cf-82143e015e9a"
   },
   "outputs": [
    {
     "name": "stdout",
     "output_type": "stream",
     "text": [
      "Output\n",
      " tf.Tensor(\n",
      "[[0.4285965  0.47079706 0.58973664 0.91121703]\n",
      " [0.4253616  0.43867648 0.5750414  0.9148814 ]\n",
      " [0.4004564  0.47514078 0.5863621  0.9124819 ]], shape=(3, 4), dtype=float32) \n",
      "\n",
      "Weights\n",
      " tf.Tensor(\n",
      "[[0.3517414  0.30134255 0.3469161 ]\n",
      " [0.31148842 0.3212007  0.36731082]\n",
      " [0.36204648 0.33474782 0.3032057 ]], shape=(3, 3), dtype=float32)\n"
     ]
    }
   ],
   "source": [
    "output, attn_weights = scaled_dot_product_attention(queries, keys, values)\n",
    "\n",
    "print(\"Output\\n\", output, \"\\n\")\n",
    "print(\"Weights\\n\", attn_weights)"
   ]
  },
  {
   "cell_type": "code",
   "execution_count": null,
   "metadata": {},
   "outputs": [],
   "source": []
  },
  {
   "cell_type": "code",
   "execution_count": 25,
   "metadata": {
    "colab": {
     "base_uri": "https://localhost:8080/",
     "height": 485
    },
    "id": "5oS1aQOJky-3",
    "outputId": "b638881d-76f8-47fd-e17d-972f245a31d5"
   },
   "outputs": [
    {
     "data": {
      "image/png": "[encoded data removed]",
      "text/plain": [
       "<Figure size 640x480 with 2 Axes>"
      ]
     },
     "metadata": {},
     "output_type": "display_data"
    }
   ],
   "source": [
    "import matplotlib.pyplot as plt\n",
    "import seaborn as sns\n",
    "def visualize_attention(attention_weights):\n",
    "    # Create heatmap using seaborn\n",
    "    sns.set(font_scale=1.2)\n",
    "    plt.figure()\n",
    "    ax = sns.heatmap(\n",
    "        attention_weights,\n",
    "        cmap=\"YlGnBu\",\n",
    "        linewidths=0.5,\n",
    "        annot=True,\n",
    "        xticklabels=True,\n",
    "        yticklabels=True,\n",
    "        cbar_kws={'label': 'Attention Weight'}\n",
    "    )\n",
    "    ax.set_title('Self-Attention Weights')\n",
    "    plt.xlabel('Input Tokens')\n",
    "    plt.ylabel('Output Tokens')\n",
    "    plt.show()\n",
    "\n",
    "\n",
    "visualize_attention(attn_weights)\n"
   ]
  },
  {
   "cell_type": "markdown",
   "metadata": {
    "id": "wBm9jbpSN6-L"
   },
   "source": [
    "Now that we have a way to calculate self-attention, let's actually generate the input *queries*, *keys*, and *values* for multiple heads. It's easier to understand things this way and we can certainly code it this way as well. But we can also \"simulate\" different heads with a single query matrix, single key matrix, and single value matrix."
   ]
  },
  {
   "cell_type": "code",
   "execution_count": 26,
   "metadata": {
    "colab": {
     "base_uri": "https://localhost:8080/"
    },
    "id": "rJLyGtqbX3uW",
    "outputId": "88fb586c-b007-4534-f973-1a94c290f1df"
   },
   "outputs": [
    {
     "name": "stdout",
     "output_type": "stream",
     "text": [
      "Dimension of each head: 4\n"
     ]
    }
   ],
   "source": [
    "batch_size = 1\n",
    "seq_len = 3\n",
    "embed_dim = 12\n",
    "num_heads = 3\n",
    "head_dim = embed_dim // num_heads\n",
    "\n",
    "print(f\"Dimension of each head: {head_dim}\")"
   ]
  },
  {
   "cell_type": "markdown",
   "metadata": {
    "id": "JDl37YzAf7bh"
   },
   "source": [
    "**Using separate weight matrices per head**"
   ]
  },
  {
   "cell_type": "markdown",
   "metadata": {
    "id": "xQ_KoJq3fv-A"
   },
   "source": [
    "Suppose these are our input embeddings. Here we have a batch of 1 containing a sequence of length 3, with each element being a 12-dimensional embedding."
   ]
  },
  {
   "cell_type": "code",
   "execution_count": 27,
   "metadata": {
    "colab": {
     "base_uri": "https://localhost:8080/"
    },
    "id": "7NcX3KBrX3uW",
    "outputId": "e3c2cc7d-8b2b-464e-fa6b-6cfc166fdd46"
   },
   "outputs": [
    {
     "name": "stdout",
     "output_type": "stream",
     "text": [
      "Input shape:  (1, 3, 12) \n",
      "\n",
      "Input:\n",
      " [[[0.7 1.  0.8 1.  0.5 0.1 0.2 0.1 0.5 1.  0.9 0.1]\n",
      "  [0.  1.  0.1 0.9 0.9 0.6 0.5 0.2 0.2 0.6 0.5 0.4]\n",
      "  [0.9 0.8 0.4 0.3 0.2 0.8 0.5 0.3 0.9 0.7 0.2 0.8]]]\n"
     ]
    }
   ],
   "source": [
    "x = np.random.rand(batch_size, seq_len, embed_dim).round(1).astype('float32')\n",
    "print(\"Input shape: \", x.shape, \"\\n\")\n",
    "print(\"Input:\\n\", x)"
   ]
  },
  {
   "cell_type": "markdown",
   "metadata": {
    "id": "uvJicbp6f7pI"
   },
   "source": [
    "We'll declare three sets of *query* weights (one for each head), three sets of *key* weights, and three sets of *value* weights. Remember each weight matrix should have a dimension of $\\text{d}\\ \\text{x}\\ \\text{d/h}$."
   ]
  },
  {
   "cell_type": "code",
   "execution_count": 28,
   "metadata": {
    "id": "8zdg7rqrX3uX"
   },
   "outputs": [],
   "source": [
    "# The query weights for each head.\n",
    "wq0 = np.random.rand(embed_dim, head_dim).round(1).astype('float32')\n",
    "wq1 = np.random.rand(embed_dim, head_dim).round(1).astype('float32')\n",
    "wq2 = np.random.rand(embed_dim, head_dim).round(1).astype('float32')\n",
    "\n",
    "# The key weights for each head.\n",
    "wk0 = np.random.rand(embed_dim, head_dim).round(1).astype('float32')\n",
    "wk1 = np.random.rand(embed_dim, head_dim).round(1).astype('float32')\n",
    "wk2 = np.random.rand(embed_dim, head_dim).round(1).astype('float32')\n",
    "\n",
    "# The value weights for each head.\n",
    "wv0 = np.random.rand(embed_dim, head_dim).round(1).astype('float32')\n",
    "wv1 = np.random.rand(embed_dim, head_dim).round(1).astype('float32')\n",
    "wv2 = np.random.rand(embed_dim, head_dim).round(1).astype('float32')"
   ]
  },
  {
   "cell_type": "code",
   "execution_count": 29,
   "metadata": {
    "colab": {
     "base_uri": "https://localhost:8080/"
    },
    "id": "QzMRHZooX3uX",
    "outputId": "c8e66d10-d4e5-4edc-94be-aa59effa6cf9"
   },
   "outputs": [
    {
     "name": "stdout",
     "output_type": "stream",
     "text": [
      "The three sets of query weights (one for each head):\n",
      "wq0:\n",
      " [[0.2 0.4 0.7 0.3]\n",
      " [0.1 0.1 0.4 0.1]\n",
      " [0.1 0.  0.8 0.5]\n",
      " [0.6 0.3 0.2 0.3]\n",
      " [0.  0.7 0.1 0.5]\n",
      " [0.  0.4 0.2 1. ]\n",
      " [0.6 0.9 0.1 0.2]\n",
      " [0.6 0.9 0.4 0.8]\n",
      " [0.7 0.8 0.6 0.4]\n",
      " [1.  0.9 0.3 0.3]\n",
      " [0.6 0.2 0.6 0.6]\n",
      " [0.5 0.8 0.7 0.6]]\n",
      "wq1:\n",
      " [[1.  0.1 0.7 0. ]\n",
      " [0.1 0.7 0.7 0.2]\n",
      " [0.  0.9 1.  0.7]\n",
      " [0.2 0.2 0.2 0.5]\n",
      " [0.  0.4 0.4 0.4]\n",
      " [0.3 0.7 1.  0.2]\n",
      " [0.5 0.7 0.7 0.5]\n",
      " [0.5 0.5 0.2 0.7]\n",
      " [0.8 0.1 0.4 0.4]\n",
      " [0.9 0.8 0.8 0.4]\n",
      " [0.3 0.6 0.2 0.9]\n",
      " [0.  0.3 0.3 0.1]]\n",
      "wq2:\n",
      " [[1.  0.1 0.7 0. ]\n",
      " [0.1 0.7 0.7 0.2]\n",
      " [0.  0.9 1.  0.7]\n",
      " [0.2 0.2 0.2 0.5]\n",
      " [0.  0.4 0.4 0.4]\n",
      " [0.3 0.7 1.  0.2]\n",
      " [0.5 0.7 0.7 0.5]\n",
      " [0.5 0.5 0.2 0.7]\n",
      " [0.8 0.1 0.4 0.4]\n",
      " [0.9 0.8 0.8 0.4]\n",
      " [0.3 0.6 0.2 0.9]\n",
      " [0.  0.3 0.3 0.1]]\n"
     ]
    }
   ],
   "source": [
    "print(\"The three sets of query weights (one for each head):\")\n",
    "print(\"wq0:\\n\", wq0)\n",
    "print(\"wq1:\\n\", wq1)\n",
    "print(\"wq2:\\n\", wq1)"
   ]
  },
  {
   "cell_type": "markdown",
   "metadata": {
    "id": "HmwGKV9qgch-"
   },
   "source": [
    "We'll generate our *queries*, *keys*, and *values* for each head by multiplying our input by the weights."
   ]
  },
  {
   "cell_type": "code",
   "execution_count": 30,
   "metadata": {
    "id": "NucbYNNSX3uX"
   },
   "outputs": [],
   "source": [
    "# Geneated queries, keys, and values for the first head.\n",
    "q0 = np.dot(x, wq0)\n",
    "k0 = np.dot(x, wk0)\n",
    "v0 = np.dot(x, wv0)\n",
    "\n",
    "# Geneated queries, keys, and values for the second head.\n",
    "q1 = np.dot(x, wq1)\n",
    "k1 = np.dot(x, wk1)\n",
    "v1 = np.dot(x, wv1)\n",
    "\n",
    "# Geneated queries, keys, and values for the third head.\n",
    "q2 = np.dot(x, wq2)\n",
    "k2 = np.dot(x, wk2)\n",
    "v2 = np.dot(x, wv2)"
   ]
  },
  {
   "cell_type": "markdown",
   "metadata": {
    "id": "AIDiwWZ0gqhm"
   },
   "source": [
    "These are the resulting *query*, *key*, and *value* vectors for the first head."
   ]
  },
  {
   "cell_type": "code",
   "execution_count": 31,
   "metadata": {
    "colab": {
     "base_uri": "https://localhost:8080/"
    },
    "id": "NMcMmbkqX3uX",
    "outputId": "2480891b-5bba-4f8c-bf6f-38621932dd4d"
   },
   "outputs": [
    {
     "name": "stdout",
     "output_type": "stream",
     "text": [
      "Q, K, and V for first head:\n",
      "\n",
      "q0 (1, 3, 4):\n",
      " [[[3.04      2.8999999 3.0700002 2.5800002]\n",
      "  [2.31      2.99      1.8800001 2.53     ]\n",
      "  [2.81      3.7400002 3.1100001 3.0500002]]] \n",
      "\n",
      "k0 (1, 3, 4):\n",
      " [[[4.22      2.6000001 2.61      3.4499998]\n",
      "  [3.46      2.17      2.44      2.3      ]\n",
      "  [4.4       3.5900002 2.6100001 2.61     ]]] \n",
      "\n",
      "v0 (1, 3, 4):\n",
      " [[[3.82      4.29      4.1       3.82     ]\n",
      "  [2.44      3.1100001 3.5       2.97     ]\n",
      "  [4.08      4.01      3.3400002 3.05     ]]]\n"
     ]
    }
   ],
   "source": [
    "print(\"Q, K, and V for first head:\\n\")\n",
    "\n",
    "print(f\"q0 {q0.shape}:\\n\", q0, \"\\n\")\n",
    "print(f\"k0 {k0.shape}:\\n\", k0, \"\\n\")\n",
    "print(f\"v0 {v0.shape}:\\n\", v0)"
   ]
  },
  {
   "cell_type": "markdown",
   "metadata": {
    "id": "iw5CQ9i6qZDv"
   },
   "source": [
    "Now that we have our Q, K, V vectors, we can just pass them to our self-attention operation. Here we're calculating the output and attention weights for the first head."
   ]
  },
  {
   "cell_type": "code",
   "execution_count": 32,
   "metadata": {
    "colab": {
     "base_uri": "https://localhost:8080/"
    },
    "id": "i7tHIvXKX3uX",
    "outputId": "197ef32a-6383-4bb2-da38-d8796a619de4"
   },
   "outputs": [
    {
     "name": "stdout",
     "output_type": "stream",
     "text": [
      "Output from first attention head:  tf.Tensor(\n",
      "[[[3.9736102 4.097434  3.6038165 3.3148232]\n",
      "  [3.966236  4.0927014 3.6033435 3.3131928]\n",
      "  [3.9910035 4.0893154 3.5714192 3.2829633]]], shape=(1, 3, 4), dtype=float32) \n",
      "\n",
      "Attention weights from first head:  tf.Tensor(\n",
      "[[[0.34498388 0.01017921 0.6448369 ]\n",
      "  [0.34336048 0.01493312 0.6417064 ]\n",
      "  [0.3031936  0.00619889 0.69060755]]], shape=(1, 3, 3), dtype=float32)\n"
     ]
    }
   ],
   "source": [
    "out0, attn_weights0 = scaled_dot_product_attention(q0, k0, v0)\n",
    "\n",
    "print(\"Output from first attention head: \", out0, \"\\n\")\n",
    "print(\"Attention weights from first head: \", attn_weights0)"
   ]
  },
  {
   "cell_type": "markdown",
   "metadata": {
    "id": "DoYEXSm7qr_A"
   },
   "source": [
    "Here are the other two (attention weights are ignored)."
   ]
  },
  {
   "cell_type": "code",
   "execution_count": 33,
   "metadata": {
    "colab": {
     "base_uri": "https://localhost:8080/"
    },
    "id": "otnqbaDSqpJ7",
    "outputId": "fbad96fd-1cb7-43db-eafe-164f9dc372ef"
   },
   "outputs": [
    {
     "name": "stdout",
     "output_type": "stream",
     "text": [
      "Output from second attention head:  tf.Tensor(\n",
      "[[[3.7179255 2.996449  4.6257806 4.6710167]\n",
      "  [3.6674347 3.0228615 4.578984  4.6606913]\n",
      "  [3.7334046 2.9883797 4.6309195 4.6695094]]], shape=(1, 3, 4), dtype=float32) \n",
      "\n",
      "Output from third attention head:  tf.Tensor(\n",
      "[[[2.898529  3.4907331 2.167152  2.8126092]\n",
      "  [2.8497565 3.467297  2.1532092 2.8036847]\n",
      "  [2.878027  3.4812932 2.1601353 2.8079448]]], shape=(1, 3, 4), dtype=float32)\n"
     ]
    }
   ],
   "source": [
    "out1, _ = scaled_dot_product_attention(q1, k1, v1)\n",
    "out2, _ = scaled_dot_product_attention(q2, k2, v2)\n",
    "\n",
    "print(\"Output from second attention head: \", out1, \"\\n\")\n",
    "print(\"Output from third attention head: \", out2,)"
   ]
  },
  {
   "cell_type": "markdown",
   "metadata": {
    "id": "lOV717bqX3uX"
   },
   "source": [
    "As we covered in the slides, once we have each head's output, we concatenate them and then put them through a linear layer for further processing."
   ]
  },
  {
   "cell_type": "code",
   "execution_count": 34,
   "metadata": {
    "colab": {
     "base_uri": "https://localhost:8080/"
    },
    "id": "gmSv5trtt2v9",
    "outputId": "be636cd0-75f0-482e-bf7a-30827366162b"
   },
   "outputs": [
    {
     "name": "stdout",
     "output_type": "stream",
     "text": [
      "Combined output from all heads (1, 3, 12):\n",
      "[[[3.9736102 4.097434  3.6038165 3.3148232 3.7179255 2.996449  4.6257806\n",
      "   4.6710167 2.898529  3.4907331 2.167152  2.8126092]\n",
      "  [3.966236  4.0927014 3.6033435 3.3131928 3.6674347 3.0228615 4.578984\n",
      "   4.6606913 2.8497565 3.467297  2.1532092 2.8036847]\n",
      "  [3.9910035 4.0893154 3.5714192 3.2829633 3.7334046 2.9883797 4.6309195\n",
      "   4.6695094 2.878027  3.4812932 2.1601353 2.8079448]]]\n"
     ]
    }
   ],
   "source": [
    "combined_out_a = np.concatenate((out0, out1, out2), axis=-1)\n",
    "print(f\"Combined output from all heads {combined_out_a.shape}:\")\n",
    "print(combined_out_a)\n",
    "\n",
    "# The final step would be to run combined_out_a through a linear/dense layer\n",
    "# for further processing."
   ]
  },
  {
   "cell_type": "markdown",
   "metadata": {
    "id": "JPmbr6F1C-v_"
   },
   "source": [
    "Each multi-head attention block gets three inputs; Q (query), K (key), V (value). These are put through linear (Dense) layers and split up into multiple heads.\n",
    "\n",
    "The `scaled_dot_product_attention` defined above is applied to each head (broadcasted for efficiency). An appropriate mask must be used in the attention step.  The attention output for each head is then concatenated (using `tf.transpose`, and `tf.reshape`) and put through a final `Dense` layer.\n",
    "\n",
    "Instead of one single attention head, Q, K, and V are split into multiple heads because it allows the model to jointly attend to information at different positions from different representational spaces. After the split each head has a reduced dimensionality, so the total computation cost is the same as a single head attention with full dimensionality."
   ]
  },
  {
   "cell_type": "code",
   "execution_count": 35,
   "metadata": {
    "id": "BSV3PPKsYecw"
   },
   "outputs": [],
   "source": [
    "class MultiHeadAttention(tf.keras.layers.Layer):\n",
    "  def __init__(self, d_model, num_heads):\n",
    "    super(MultiHeadAttention, self).__init__()\n",
    "    self.num_heads = num_heads\n",
    "    self.d_model = d_model\n",
    "\n",
    "    assert d_model % self.num_heads == 0\n",
    "\n",
    "    self.depth = d_model // self.num_heads\n",
    "\n",
    "    self.wq = tf.keras.layers.Dense(d_model)\n",
    "    self.wk = tf.keras.layers.Dense(d_model)\n",
    "    self.wv = tf.keras.layers.Dense(d_model)\n",
    "\n",
    "    self.dense = tf.keras.layers.Dense(d_model)\n",
    "\n",
    "  def split_heads(self, x, batch_size):\n",
    "    \"\"\"Split the last dimension into (num_heads, depth).\n",
    "    Transpose the result such that the shape is (batch_size, num_heads, seq_len, depth)\n",
    "    \"\"\"\n",
    "    x = tf.reshape(x, (batch_size, -1, self.num_heads, self.depth))\n",
    "    return tf.transpose(x, perm=[0, 2, 1, 3])\n",
    "\n",
    "  def call(self, v, k, q, mask):\n",
    "    batch_size = tf.shape(q)[0]\n",
    "\n",
    "    q = self.wq(q)  # (batch_size, seq_len, d_model)\n",
    "    k = self.wk(k)  # (batch_size, seq_len, d_model)\n",
    "    v = self.wv(v)  # (batch_size, seq_len, d_model)\n",
    "\n",
    "    q = self.split_heads(q, batch_size)  # (batch_size, num_heads, seq_len_q, depth)\n",
    "    k = self.split_heads(k, batch_size)  # (batch_size, num_heads, seq_len_k, depth)\n",
    "    v = self.split_heads(v, batch_size)  # (batch_size, num_heads, seq_len_v, depth)\n",
    "\n",
    "    # scaled_attention.shape == (batch_size, num_heads, seq_len_q, depth)\n",
    "    # attention_weights.shape == (batch_size, num_heads, seq_len_q, seq_len_k)\n",
    "    scaled_attention, attention_weights = scaled_dot_product_attention(\n",
    "        q, k, v, mask)\n",
    "\n",
    "    scaled_attention = tf.transpose(scaled_attention, perm=[0, 2, 1, 3])  # (batch_size, seq_len_q, num_heads, depth)\n",
    "\n",
    "    concat_attention = tf.reshape(scaled_attention,\n",
    "                                  (batch_size, -1, self.d_model))  # (batch_size, seq_len_q, d_model)\n",
    "\n",
    "    output = self.dense(concat_attention)  # (batch_size, seq_len_q, d_model)\n",
    "\n",
    "    return output, attention_weights"
   ]
  },
  {
   "cell_type": "markdown",
   "metadata": {
    "id": "0D8FJue5lDyZ"
   },
   "source": [
    "Create a `MultiHeadAttention` layer to try out. At each location in the sequence, `y`, the `MultiHeadAttention` runs all 8 attention heads across all other locations in the sequence, returning a new vector of the same length at each location."
   ]
  },
  {
   "cell_type": "code",
   "execution_count": 36,
   "metadata": {
    "colab": {
     "base_uri": "https://localhost:8080/"
    },
    "id": "Hu94p-_-2_BX",
    "outputId": "024e8ba9-f38e-4f90-ec31-cbc2afa9866e"
   },
   "outputs": [
    {
     "data": {
      "text/plain": [
       "(TensorShape([1, 60, 512]), TensorShape([1, 8, 60, 60]))"
      ]
     },
     "execution_count": 36,
     "metadata": {},
     "output_type": "execute_result"
    }
   ],
   "source": [
    "temp_mha = MultiHeadAttention(d_model=512, num_heads=8)\n",
    "y = tf.random.uniform((1, 60, 512))  # (batch_size, encoder_sequence, d_model)\n",
    "out, attn = temp_mha(y, k=y, q=y, mask=None)\n",
    "out.shape, attn.shape"
   ]
  },
  {
   "cell_type": "markdown",
   "metadata": {
    "id": "nBQuibYA4n0n"
   },
   "source": [
    "## Positional encoding\n",
    "\n",
    "Since this model doesn't contain any recurrence or convolution, positional encoding is added to give the model some information about the relative position of the words in the sentence.\n",
    "\n",
    "The positional encoding vector is added to the embedding vector. Embeddings represent a token in a d-dimensional space where tokens with similar meaning will be closer to each other. But the embeddings do not encode the relative position of words in a sentence. So after adding the positional encoding, words will be closer to each other based on the *similarity of their meaning and their position in the sentence*, in the d-dimensional space.\n",
    "\n",
    "See the notebook on [positional encoding](https://github.com/tensorflow/examples/blob/master/community/en/position_encoding.ipynb) to learn more about it. The formula for calculating the positional encoding is as follows:\n",
    "\n",
    "$$\\Large{PE_{(pos, 2i)} = sin(pos / 10000^{2i / d_{model}})} $$\n",
    "$$\\Large{PE_{(pos, 2i+1)} = cos(pos / 10000^{2i / d_{model}})} $$"
   ]
  },
  {
   "cell_type": "code",
   "execution_count": 37,
   "metadata": {
    "id": "WhIOZjMNKujn"
   },
   "outputs": [],
   "source": [
    "def get_angles(pos, i, d_model):\n",
    "  angle_rates = 1 / np.power(10000, (2 * (i//2)) / np.float32(d_model))\n",
    "  return pos * angle_rates"
   ]
  },
  {
   "cell_type": "code",
   "execution_count": 38,
   "metadata": {
    "id": "1Rz82wEs5biZ"
   },
   "outputs": [],
   "source": [
    "def positional_encoding(position, d_model):\n",
    "  angle_rads = get_angles(np.arange(position)[:, np.newaxis],\n",
    "                          np.arange(d_model)[np.newaxis, :],\n",
    "                          d_model)\n",
    "\n",
    "  # apply sin to even indices in the array; 2i\n",
    "  angle_rads[:, 0::2] = np.sin(angle_rads[:, 0::2])\n",
    "\n",
    "  # apply cos to odd indices in the array; 2i+1\n",
    "  angle_rads[:, 1::2] = np.cos(angle_rads[:, 1::2])\n",
    "\n",
    "  pos_encoding = angle_rads[np.newaxis, ...]\n",
    "\n",
    "  return tf.cast(pos_encoding, dtype=tf.float32)"
   ]
  },
  {
   "cell_type": "code",
   "execution_count": 39,
   "metadata": {
    "colab": {
     "base_uri": "https://localhost:8080/",
     "height": 486
    },
    "id": "1kLCla68EloE",
    "outputId": "788e4711-c1c7-4e87-a26e-3ef6de4de95f"
   },
   "outputs": [
    {
     "name": "stdout",
     "output_type": "stream",
     "text": [
      "(1, 50, 512)\n"
     ]
    },
    {
     "data": {
      "image/png": "[encoded data removed]",
      "text/plain": [
       "<Figure size 640x480 with 2 Axes>"
      ]
     },
     "metadata": {},
     "output_type": "display_data"
    }
   ],
   "source": [
    "pos_encoding = positional_encoding(50, 512)\n",
    "print (pos_encoding.shape)\n",
    "\n",
    "plt.pcolormesh(pos_encoding[0], cmap='RdBu')\n",
    "plt.xlabel('Depth')\n",
    "plt.xlim((0, 512))\n",
    "plt.ylabel('Position')\n",
    "plt.colorbar()\n",
    "plt.show()"
   ]
  },
  {
   "cell_type": "markdown",
   "metadata": {
    "id": "a_b4ou4TYqUN"
   },
   "source": [
    "## Masking"
   ]
  },
  {
   "cell_type": "markdown",
   "metadata": {
    "id": "s42Uydjkv0hF"
   },
   "source": [
    "Mask all the pad tokens in the batch of sequence. It ensures that the model does not treat padding as the input. The mask indicates where pad value `0` is present: it outputs a `1` at those locations, and a `0` otherwise."
   ]
  },
  {
   "cell_type": "code",
   "execution_count": 40,
   "metadata": {
    "id": "U2i8-e1s8ti9"
   },
   "outputs": [],
   "source": [
    "def create_padding_mask(seq):\n",
    "  seq = tf.cast(tf.math.equal(seq, 0), tf.float32)\n",
    "\n",
    "  # add extra dimensions to add the padding\n",
    "  # to the attention logits.\n",
    "  return seq[:, tf.newaxis, tf.newaxis, :]  # (batch_size, 1, 1, seq_len)"
   ]
  },
  {
   "cell_type": "code",
   "execution_count": 41,
   "metadata": {
    "colab": {
     "base_uri": "https://localhost:8080/"
    },
    "id": "A7BYeBCNvi7n",
    "outputId": "0c4fed4a-44b8-4907-c594-fec5ad127d53"
   },
   "outputs": [
    {
     "data": {
      "text/plain": [
       "<tf.Tensor: shape=(3, 1, 1, 5), dtype=float32, numpy=\n",
       "array([[[[0., 0., 1., 1., 0.]]],\n",
       "\n",
       "\n",
       "       [[[0., 0., 0., 1., 1.]]],\n",
       "\n",
       "\n",
       "       [[[1., 1., 1., 0., 0.]]]], dtype=float32)>"
      ]
     },
     "execution_count": 41,
     "metadata": {},
     "output_type": "execute_result"
    }
   ],
   "source": [
    "x = tf.constant([[7, 6, 0, 0, 1], [1, 2, 3, 0, 0], [0, 0, 0, 4, 5]])\n",
    "create_padding_mask(x)"
   ]
  },
  {
   "cell_type": "markdown",
   "metadata": {
    "id": "Z0hzukDBgVom"
   },
   "source": [
    "The look-ahead mask is used to mask the future tokens in a sequence. In other words, the mask indicates which entries should not be used.\n",
    "\n",
    "This means that to predict the third word, only the first and second word will be used. Similarly to predict the fourth word, only the first, second and the third word will be used and so on."
   ]
  },
  {
   "cell_type": "code",
   "execution_count": 42,
   "metadata": {
    "id": "dVxS8OPI9uI0"
   },
   "outputs": [],
   "source": [
    "def create_look_ahead_mask(size):\n",
    "  mask = 1 - tf.linalg.band_part(tf.ones((size, size)), -1, 0)\n",
    "  return mask  # (seq_len, seq_len)"
   ]
  },
  {
   "cell_type": "code",
   "execution_count": 43,
   "metadata": {
    "colab": {
     "base_uri": "https://localhost:8080/"
    },
    "id": "yxKGuXxaBeeE",
    "outputId": "d0311353-ebb4-4b88-86a6-0c560cdfda28"
   },
   "outputs": [
    {
     "data": {
      "text/plain": [
       "<tf.Tensor: shape=(3, 3), dtype=float32, numpy=\n",
       "array([[0., 1., 1.],\n",
       "       [0., 0., 1.],\n",
       "       [0., 0., 0.]], dtype=float32)>"
      ]
     },
     "execution_count": 43,
     "metadata": {},
     "output_type": "execute_result"
    }
   ],
   "source": [
    "x = tf.random.uniform((1, 3))\n",
    "temp = create_look_ahead_mask(x.shape[1])\n",
    "temp"
   ]
  },
  {
   "cell_type": "markdown",
   "metadata": {
    "id": "RdDqGayx67vv"
   },
   "source": [
    "## Point wise feed forward network"
   ]
  },
  {
   "cell_type": "markdown",
   "metadata": {
    "id": "gBqzJXGfHK3X"
   },
   "source": [
    "Point wise feed forward network consists of two fully-connected layers with a ReLU activation in between."
   ]
  },
  {
   "cell_type": "code",
   "execution_count": 44,
   "metadata": {
    "id": "ET7xLt0yCT6Z"
   },
   "outputs": [],
   "source": [
    "def point_wise_feed_forward_network(d_model, dff):\n",
    "  return tf.keras.Sequential([\n",
    "      tf.keras.layers.Dense(dff, activation='relu'),  # (batch_size, seq_len, dff)\n",
    "      tf.keras.layers.Dense(d_model)  # (batch_size, seq_len, d_model)\n",
    "  ])"
   ]
  },
  {
   "cell_type": "code",
   "execution_count": 45,
   "metadata": {
    "colab": {
     "base_uri": "https://localhost:8080/"
    },
    "id": "mytb1lPyOHLB",
    "outputId": "976ad3d2-e49b-4a27-beb5-2432a7287d3c"
   },
   "outputs": [
    {
     "data": {
      "text/plain": [
       "(TensorShape([64, 50, 512]), TensorShape([64, 50, 512]))"
      ]
     },
     "execution_count": 45,
     "metadata": {},
     "output_type": "execute_result"
    }
   ],
   "source": [
    "sample_ffn = point_wise_feed_forward_network(512, 2048)\n",
    "sample_ffn(tf.random.uniform((64, 50, 512))).shape,tf.random.uniform((64, 50, 512)).shape"
   ]
  },
  {
   "cell_type": "markdown",
   "metadata": {
    "id": "7e7hKcxn6-zd"
   },
   "source": [
    "## Encoder and decoder"
   ]
  },
  {
   "cell_type": "markdown",
   "metadata": {
    "id": "yScbC0MUH8dS"
   },
   "source": [
    "<img src=\"https://www.tensorflow.org/images/tutorials/transformer/transformer.png\" width=\"600\" alt=\"transformer\">"
   ]
  },
  {
   "cell_type": "markdown",
   "metadata": {
    "id": "MfYJG-Kvgwy2"
   },
   "source": [
    "The transformer model follows the same general pattern as a standard [sequence to sequence with attention model](nmt_with_attention.ipynb).\n",
    "\n",
    "* The input sentence is passed through `N` encoder layers that generates an output for each word/token in the sequence.\n",
    "* The decoder attends on the encoder's output and its own input (self-attention) to predict the next word."
   ]
  },
  {
   "cell_type": "markdown",
   "metadata": {
    "id": "QFv-FNYUmvpn"
   },
   "source": [
    "### Encoder layer\n",
    "\n",
    "Each encoder layer consists of sublayers:\n",
    "\n",
    "1.   Multi-head attention (with padding mask)\n",
    "2.    Point wise feed forward networks.\n",
    "\n",
    "Each of these sublayers has a residual connection around it followed by a layer normalization. Residual connections help in avoiding the vanishing gradient problem in deep networks.\n",
    "\n",
    "The output of each sublayer is `LayerNorm(x + Sublayer(x))`. The normalization is done on the `d_model` (last) axis. There are N encoder layers in the transformer."
   ]
  },
  {
   "cell_type": "code",
   "execution_count": 46,
   "metadata": {
    "id": "ncyS-Ms3i2x_"
   },
   "outputs": [],
   "source": [
    "class EncoderLayer(tf.keras.layers.Layer):\n",
    "  def __init__(self, d_model, num_heads, dff, rate=0.1):\n",
    "    super(EncoderLayer, self).__init__()\n",
    "\n",
    "    self.mha = MultiHeadAttention(d_model, num_heads)\n",
    "    self.ffn = point_wise_feed_forward_network(d_model, dff)\n",
    "\n",
    "    self.layernorm1 = tf.keras.layers.LayerNormalization(epsilon=1e-6)\n",
    "    self.layernorm2 = tf.keras.layers.LayerNormalization(epsilon=1e-6)\n",
    "\n",
    "    self.dropout1 = tf.keras.layers.Dropout(rate)\n",
    "    self.dropout2 = tf.keras.layers.Dropout(rate)\n",
    "\n",
    "  def call(self, x, training, mask):\n",
    "\n",
    "    attn_output, _ = self.mha(x, x, x, mask)  # (batch_size, input_seq_len, d_model)\n",
    "    attn_output = self.dropout1(attn_output, training=training)\n",
    "    out1 = self.layernorm1(x + attn_output)  # (batch_size, input_seq_len, d_model)\n",
    "\n",
    "    ffn_output = self.ffn(out1)  # (batch_size, input_seq_len, d_model)\n",
    "    ffn_output = self.dropout2(ffn_output, training=training)\n",
    "    out2 = self.layernorm2(out1 + ffn_output)  # (batch_size, input_seq_len, d_model)\n",
    "\n",
    "    return out2"
   ]
  },
  {
   "cell_type": "code",
   "execution_count": 47,
   "metadata": {
    "colab": {
     "base_uri": "https://localhost:8080/"
    },
    "id": "AzZRXdO0mI48",
    "outputId": "dae07a3b-18ee-4970-c0c8-2a4f84b6f8a2"
   },
   "outputs": [
    {
     "data": {
      "text/plain": [
       "TensorShape([64, 43, 512])"
      ]
     },
     "execution_count": 47,
     "metadata": {},
     "output_type": "execute_result"
    }
   ],
   "source": [
    "sample_encoder_layer = EncoderLayer(512, 8, 2048)\n",
    "\n",
    "sample_encoder_layer_output = sample_encoder_layer(\n",
    "    tf.random.uniform((64, 43, 512)), False, None)\n",
    "\n",
    "sample_encoder_layer_output.shape  # (batch_size, input_seq_len, d_model)"
   ]
  },
  {
   "cell_type": "markdown",
   "metadata": {
    "id": "6LO_48Owmx_o"
   },
   "source": [
    "### Decoder layer\n",
    "\n",
    "Each decoder layer consists of sublayers:\n",
    "\n",
    "1.   Masked multi-head attention (with look ahead mask and padding mask)\n",
    "2.   Multi-head attention (with padding mask). V (value) and K (key) receive the *encoder output* as inputs. Q (query) receives the *output from the masked multi-head attention sublayer.*\n",
    "3.   Point wise feed forward networks\n",
    "\n",
    "Each of these sublayers has a residual connection around it followed by a layer normalization. The output of each sublayer is `LayerNorm(x + Sublayer(x))`. The normalization is done on the `d_model` (last) axis.\n",
    "\n",
    "There are N decoder layers in the transformer.\n",
    "\n",
    "As Q receives the output from decoder's first attention block, and K receives the encoder output, the attention weights represent the importance given to the decoder's input based on the encoder's output. In other words, the decoder predicts the next word by looking at the encoder output and self-attending to its own output. See the demonstration above in the scaled dot product attention section."
   ]
  },
  {
   "cell_type": "code",
   "execution_count": 48,
   "metadata": {
    "id": "9SoX0-vd1hue"
   },
   "outputs": [],
   "source": [
    "class DecoderLayer(tf.keras.layers.Layer):\n",
    "  def __init__(self, d_model, num_heads, dff, rate=0.1):\n",
    "    super(DecoderLayer, self).__init__()\n",
    "\n",
    "    self.mha1 = MultiHeadAttention(d_model, num_heads)\n",
    "    self.mha2 = MultiHeadAttention(d_model, num_heads)\n",
    "\n",
    "    self.ffn = point_wise_feed_forward_network(d_model, dff)\n",
    "\n",
    "    self.layernorm1 = tf.keras.layers.LayerNormalization(epsilon=1e-6)\n",
    "    self.layernorm2 = tf.keras.layers.LayerNormalization(epsilon=1e-6)\n",
    "    self.layernorm3 = tf.keras.layers.LayerNormalization(epsilon=1e-6)\n",
    "\n",
    "    self.dropout1 = tf.keras.layers.Dropout(rate)\n",
    "    self.dropout2 = tf.keras.layers.Dropout(rate)\n",
    "    self.dropout3 = tf.keras.layers.Dropout(rate)\n",
    "\n",
    "\n",
    "  def call(self, x, enc_output, training,\n",
    "           look_ahead_mask, padding_mask):\n",
    "    # enc_output.shape == (batch_size, input_seq_len, d_model)\n",
    "\n",
    "    attn1, attn_weights_block1 = self.mha1(x, x, x, look_ahead_mask)  # (batch_size, target_seq_len, d_model)\n",
    "    attn1 = self.dropout1(attn1, training=training)\n",
    "    out1 = self.layernorm1(attn1 + x)\n",
    "\n",
    "    attn2, attn_weights_block2 = self.mha2(\n",
    "        enc_output, enc_output, out1, padding_mask)  # (batch_size, target_seq_len, d_model)\n",
    "    attn2 = self.dropout2(attn2, training=training)\n",
    "    out2 = self.layernorm2(attn2 + out1)  # (batch_size, target_seq_len, d_model)\n",
    "\n",
    "    ffn_output = self.ffn(out2)  # (batch_size, target_seq_len, d_model)\n",
    "    ffn_output = self.dropout3(ffn_output, training=training)\n",
    "    out3 = self.layernorm3(ffn_output + out2)  # (batch_size, target_seq_len, d_model)\n",
    "\n",
    "    return out3, attn_weights_block1, attn_weights_block2"
   ]
  },
  {
   "cell_type": "code",
   "execution_count": 49,
   "metadata": {
    "colab": {
     "base_uri": "https://localhost:8080/"
    },
    "id": "Ne2Bqx8k71l0",
    "outputId": "14a054f1-ec4b-4544-8dba-a77b70cb86ec"
   },
   "outputs": [
    {
     "data": {
      "text/plain": [
       "TensorShape([64, 50, 512])"
      ]
     },
     "execution_count": 49,
     "metadata": {},
     "output_type": "execute_result"
    }
   ],
   "source": [
    "sample_decoder_layer = DecoderLayer(512, 8, 2048)\n",
    "\n",
    "sample_decoder_layer_output, _, _ = sample_decoder_layer(\n",
    "    tf.random.uniform((64, 50, 512)), sample_encoder_layer_output,\n",
    "    False, None, None)\n",
    "\n",
    "sample_decoder_layer_output.shape  # (batch_size, target_seq_len, d_model)"
   ]
  },
  {
   "cell_type": "markdown",
   "metadata": {
    "id": "SE1H51Ajm0q1"
   },
   "source": [
    "### Encoder\n",
    "\n",
    "The `Encoder` consists of:\n",
    "1.   Input Embedding\n",
    "2.   Positional Encoding\n",
    "3.   N encoder layers\n",
    "\n",
    "The input is put through an embedding which is summed with the positional encoding. The output of this summation is the input to the encoder layers. The output of the encoder is the input to the decoder."
   ]
  },
  {
   "cell_type": "code",
   "execution_count": 50,
   "metadata": {
    "id": "jpEox7gJ8FCI"
   },
   "outputs": [],
   "source": [
    "class Encoder(tf.keras.layers.Layer):\n",
    "  def __init__(self, num_layers, d_model, num_heads, dff, input_vocab_size,\n",
    "               maximum_position_encoding, rate=0.1):\n",
    "    super(Encoder, self).__init__()\n",
    "\n",
    "    self.d_model = d_model\n",
    "    self.num_layers = num_layers\n",
    "\n",
    "    self.embedding = tf.keras.layers.Embedding(input_vocab_size, d_model)\n",
    "    self.pos_encoding = positional_encoding(maximum_position_encoding,\n",
    "                                            self.d_model)\n",
    "\n",
    "\n",
    "    self.enc_layers = [EncoderLayer(d_model, num_heads, dff, rate)\n",
    "                       for _ in range(num_layers)]\n",
    "\n",
    "    self.dropout = tf.keras.layers.Dropout(rate)\n",
    "\n",
    "  def call(self, x, training, mask):\n",
    "\n",
    "    seq_len = tf.shape(x)[1]\n",
    "\n",
    "    # adding embedding and position encoding.\n",
    "    x = self.embedding(x)  # (batch_size, input_seq_len, d_model)\n",
    "    x *= tf.math.sqrt(tf.cast(self.d_model, tf.float32))\n",
    "    x += self.pos_encoding[:, :seq_len, :]\n",
    "\n",
    "    x = self.dropout(x, training=training)\n",
    "\n",
    "    for i in range(self.num_layers):\n",
    "      x = self.enc_layers[i](x, training, mask)\n",
    "\n",
    "    return x  # (batch_size, input_seq_len, d_model)"
   ]
  },
  {
   "cell_type": "code",
   "execution_count": 51,
   "metadata": {
    "colab": {
     "base_uri": "https://localhost:8080/"
    },
    "id": "8QG9nueFQKXx",
    "outputId": "0e02be1a-6dd3-4fc1-8dc4-6af2278e2938"
   },
   "outputs": [
    {
     "name": "stdout",
     "output_type": "stream",
     "text": [
      "(64, 62, 512)\n"
     ]
    }
   ],
   "source": [
    "sample_encoder = Encoder(num_layers=2, d_model=512, num_heads=8,\n",
    "                         dff=2048, input_vocab_size=8500,\n",
    "                         maximum_position_encoding=10000)\n",
    "temp_input = tf.random.uniform((64, 62), dtype=tf.int64, minval=0, maxval=200)\n",
    "\n",
    "sample_encoder_output = sample_encoder(temp_input, training=False, mask=None)\n",
    "\n",
    "print (sample_encoder_output.shape)  # (batch_size, input_seq_len, d_model)"
   ]
  },
  {
   "cell_type": "markdown",
   "metadata": {
    "id": "p-uO6ls8m2O5"
   },
   "source": [
    "### Decoder"
   ]
  },
  {
   "cell_type": "markdown",
   "metadata": {
    "id": "ZtT7PKzrXkNr"
   },
   "source": [
    " The `Decoder` consists of:\n",
    "1.   Output Embedding\n",
    "2.   Positional Encoding\n",
    "3.   N decoder layers\n",
    "\n",
    "The target is put through an embedding which is summed with the positional encoding. The output of this summation is the input to the decoder layers. The output of the decoder is the input to the final linear layer."
   ]
  },
  {
   "cell_type": "code",
   "execution_count": 52,
   "metadata": {
    "id": "d5_d5-PLQXwY"
   },
   "outputs": [],
   "source": [
    "class Decoder(tf.keras.layers.Layer):\n",
    "  def __init__(self, num_layers, d_model, num_heads, dff, target_vocab_size,\n",
    "               maximum_position_encoding, rate=0.1):\n",
    "    super(Decoder, self).__init__()\n",
    "\n",
    "    self.d_model = d_model\n",
    "    self.num_layers = num_layers\n",
    "\n",
    "    self.embedding = tf.keras.layers.Embedding(target_vocab_size, d_model)\n",
    "    self.pos_encoding = positional_encoding(maximum_position_encoding, d_model)\n",
    "\n",
    "    self.dec_layers = [DecoderLayer(d_model, num_heads, dff, rate)\n",
    "                       for _ in range(num_layers)]\n",
    "    self.dropout = tf.keras.layers.Dropout(rate)\n",
    "\n",
    "  def call(self, x, enc_output, training,\n",
    "           look_ahead_mask, padding_mask):\n",
    "\n",
    "    seq_len = tf.shape(x)[1]\n",
    "    attention_weights = {}\n",
    "\n",
    "    x = self.embedding(x)  # (batch_size, target_seq_len, d_model)\n",
    "    x *= tf.math.sqrt(tf.cast(self.d_model, tf.float32))\n",
    "    x += self.pos_encoding[:, :seq_len, :]\n",
    "\n",
    "    x = self.dropout(x, training=training)\n",
    "\n",
    "    for i in range(self.num_layers):\n",
    "      x, block1, block2 = self.dec_layers[i](x, enc_output, training,\n",
    "                                             look_ahead_mask, padding_mask)\n",
    "\n",
    "      attention_weights['decoder_layer{}_block1'.format(i+1)] = block1\n",
    "      attention_weights['decoder_layer{}_block2'.format(i+1)] = block2\n",
    "\n",
    "    # x.shape == (batch_size, target_seq_len, d_model)\n",
    "    return x, attention_weights"
   ]
  },
  {
   "cell_type": "code",
   "execution_count": 53,
   "metadata": {
    "colab": {
     "base_uri": "https://localhost:8080/"
    },
    "id": "a1jXoAMRZyvu",
    "outputId": "9f92981c-9bde-4019-cc47-ed7994a81418"
   },
   "outputs": [
    {
     "data": {
      "text/plain": [
       "(TensorShape([64, 26, 512]), TensorShape([64, 8, 26, 62]))"
      ]
     },
     "execution_count": 53,
     "metadata": {},
     "output_type": "execute_result"
    }
   ],
   "source": [
    "sample_decoder = Decoder(num_layers=2, d_model=512, num_heads=8,\n",
    "                         dff=2048, target_vocab_size=8000,\n",
    "                         maximum_position_encoding=5000)\n",
    "temp_input = tf.random.uniform((64, 26), dtype=tf.int64, minval=0, maxval=200)\n",
    "\n",
    "output, attn = sample_decoder(temp_input,\n",
    "                              enc_output=sample_encoder_output,\n",
    "                              training=False,\n",
    "                              look_ahead_mask=None,\n",
    "                              padding_mask=None)\n",
    "\n",
    "output.shape, attn['decoder_layer2_block2'].shape"
   ]
  },
  {
   "cell_type": "markdown",
   "metadata": {
    "id": "y54xnJnuYgJ7"
   },
   "source": [
    "## Create the Transformer"
   ]
  },
  {
   "cell_type": "markdown",
   "metadata": {
    "id": "uERO1y54cOKq"
   },
   "source": [
    "Transformer consists of the encoder, decoder and a final linear layer. The output of the decoder is the input to the linear layer and its output is returned."
   ]
  },
  {
   "cell_type": "code",
   "execution_count": 54,
   "metadata": {
    "id": "PED3bIpOYkBu"
   },
   "outputs": [],
   "source": [
    "class Transformer(tf.keras.Model):\n",
    "  def __init__(self, num_layers, d_model, num_heads, dff, input_vocab_size,\n",
    "               target_vocab_size, pe_input, pe_target, rate=0.1):\n",
    "    super(Transformer, self).__init__()\n",
    "\n",
    "    self.encoder = Encoder(num_layers, d_model, num_heads, dff,\n",
    "                           input_vocab_size, pe_input, rate)\n",
    "\n",
    "    self.decoder = Decoder(num_layers, d_model, num_heads, dff,\n",
    "                           target_vocab_size, pe_target, rate)\n",
    "\n",
    "    self.final_layer = tf.keras.layers.Dense(target_vocab_size)\n",
    "\n",
    "  def call(self, inp, tar, training, enc_padding_mask,\n",
    "           look_ahead_mask, dec_padding_mask):\n",
    "\n",
    "    enc_output = self.encoder(inp, training, enc_padding_mask)  # (batch_size, inp_seq_len, d_model)\n",
    "\n",
    "    # dec_output.shape == (batch_size, tar_seq_len, d_model)\n",
    "    dec_output, attention_weights = self.decoder(\n",
    "        tar, enc_output, training, look_ahead_mask, dec_padding_mask)\n",
    "\n",
    "    final_output = self.final_layer(dec_output)  # (batch_size, tar_seq_len, target_vocab_size)\n",
    "\n",
    "    return final_output, attention_weights"
   ]
  },
  {
   "cell_type": "code",
   "execution_count": 55,
   "metadata": {
    "colab": {
     "base_uri": "https://localhost:8080/"
    },
    "id": "tJ4fbQcIkHW1",
    "outputId": "6fbdc3cf-7da7-42b1-a018-f4964b1f4024"
   },
   "outputs": [
    {
     "data": {
      "text/plain": [
       "TensorShape([64, 36, 8000])"
      ]
     },
     "execution_count": 55,
     "metadata": {},
     "output_type": "execute_result"
    }
   ],
   "source": [
    "sample_transformer = Transformer(\n",
    "    num_layers=2, d_model=512, num_heads=8, dff=2048,\n",
    "    input_vocab_size=8500, target_vocab_size=8000,\n",
    "    pe_input=10000, pe_target=6000)\n",
    "\n",
    "temp_input = tf.random.uniform((64, 38), dtype=tf.int64, minval=0, maxval=200)\n",
    "temp_target = tf.random.uniform((64, 36), dtype=tf.int64, minval=0, maxval=200)\n",
    "\n",
    "fn_out, _ = sample_transformer(temp_input, temp_target, training=False,\n",
    "                               enc_padding_mask=None,\n",
    "                               look_ahead_mask=None,\n",
    "                               dec_padding_mask=None)\n",
    "\n",
    "fn_out.shape  # (batch_size, tar_seq_len, target_vocab_size)"
   ]
  },
  {
   "cell_type": "markdown",
   "metadata": {
    "id": "wsINyf1VEQLC"
   },
   "source": [
    "## Set hyperparameters"
   ]
  },
  {
   "cell_type": "markdown",
   "metadata": {
    "id": "zVjWCxFNcgbt"
   },
   "source": [
    "To keep this example small and relatively fast, the values for *num_layers, d_model, and dff* have been reduced.\n",
    "\n",
    "The values used in the base model of transformer were; *num_layers=6*, *d_model = 512*, *dff = 2048*. See the [paper](https://arxiv.org/abs/1706.03762) for all the other versions of the transformer.\n",
    "\n",
    "Note: By changing the values below, you can get the model that achieved state of the art on many tasks."
   ]
  },
  {
   "cell_type": "code",
   "execution_count": 56,
   "metadata": {
    "id": "lnJn5SLA2ahP"
   },
   "outputs": [],
   "source": [
    "num_layers = 4\n",
    "d_model = 128\n",
    "dff = 512\n",
    "num_heads = 8\n",
    "\n",
    "input_vocab_size = tokenizer_pt.vocab_size + 2\n",
    "target_vocab_size = tokenizer_en.vocab_size + 2\n",
    "dropout_rate = 0.1"
   ]
  },
  {
   "cell_type": "markdown",
   "metadata": {
    "id": "xYEGhEOtzn5W"
   },
   "source": [
    "## Optimizer"
   ]
  },
  {
   "cell_type": "code",
   "execution_count": 57,
   "metadata": {
    "id": "8a_CTrcQzJ6U"
   },
   "outputs": [],
   "source": [
    "decay_steps = 10\n",
    "initial_learning_rate = 0.001\n",
    "warmup_steps = 10\n",
    "target_learning_rate = 0.0004\n",
    "lr_warmup_decayed_fn = tf.keras.optimizers.schedules.CosineDecay(\n",
    "    initial_learning_rate, decay_steps, warmup_target=target_learning_rate,\n",
    "    warmup_steps=warmup_steps\n",
    ")"
   ]
  },
  {
   "cell_type": "code",
   "execution_count": 69,
   "metadata": {
    "id": "7r4scdulztRx"
   },
   "outputs": [],
   "source": [
    "optimizer = tf.keras.optimizers.Adam(0.0001, beta_1=0.9, beta_2=0.98,\n",
    "                                     epsilon=1e-9)"
   ]
  },
  {
   "cell_type": "code",
   "execution_count": 70,
   "metadata": {
    "id": "DwESUUznx0Ke"
   },
   "outputs": [
    {
     "data": {
      "text/plain": [
       "<keras.src.optimizers.schedules.learning_rate_schedule.CosineDecay at 0x2ad5823ca0b0>"
      ]
     },
     "execution_count": 70,
     "metadata": {},
     "output_type": "execute_result"
    }
   ],
   "source": [
    "lr_warmup_decayed_fn"
   ]
  },
  {
   "cell_type": "markdown",
   "metadata": {
    "id": "YgkDE7hzo8r5"
   },
   "source": [
    "## Loss and metrics"
   ]
  },
  {
   "cell_type": "markdown",
   "metadata": {
    "id": "oxGJtoDuYIHL"
   },
   "source": [
    "Since the target sequences are padded, it is important to apply a padding mask when calculating the loss."
   ]
  },
  {
   "cell_type": "code",
   "execution_count": 71,
   "metadata": {
    "id": "MlhsJMm0TW_B"
   },
   "outputs": [],
   "source": [
    "loss_object = tf.keras.losses.SparseCategoricalCrossentropy(\n",
    "    from_logits=True, reduction='none')"
   ]
  },
  {
   "cell_type": "code",
   "execution_count": 72,
   "metadata": {
    "id": "67oqVHiT0Eiu"
   },
   "outputs": [],
   "source": [
    "def loss_function(real, pred):\n",
    "  mask = tf.math.logical_not(tf.math.equal(real, 0))\n",
    "  loss_ = loss_object(real, pred)\n",
    "\n",
    "  mask = tf.cast(mask, dtype=loss_.dtype)\n",
    "  loss_ *= mask\n",
    "\n",
    "  return tf.reduce_sum(loss_)/tf.reduce_sum(mask)"
   ]
  },
  {
   "cell_type": "code",
   "execution_count": 73,
   "metadata": {
    "id": "phlyxMnm-Tpx"
   },
   "outputs": [],
   "source": [
    "train_loss = tf.keras.metrics.Mean(name='train_loss')\n",
    "train_accuracy = tf.keras.metrics.SparseCategoricalAccuracy(\n",
    "    name='train_accuracy')"
   ]
  },
  {
   "cell_type": "markdown",
   "metadata": {
    "id": "aeHumfr7zmMa"
   },
   "source": [
    "## Training and checkpointing"
   ]
  },
  {
   "cell_type": "code",
   "execution_count": 74,
   "metadata": {
    "id": "UiysUa--4tOU"
   },
   "outputs": [],
   "source": [
    "transformer = Transformer(num_layers, d_model, num_heads, dff,\n",
    "                          input_vocab_size, target_vocab_size,\n",
    "                          pe_input=input_vocab_size,\n",
    "                          pe_target=target_vocab_size,\n",
    "                          rate=dropout_rate)"
   ]
  },
  {
   "cell_type": "code",
   "execution_count": 75,
   "metadata": {
    "id": "ZOJUSB1T8GjM"
   },
   "outputs": [],
   "source": [
    "def create_masks(inp, tar):\n",
    "  # Encoder padding mask\n",
    "  enc_padding_mask = create_padding_mask(inp)\n",
    "\n",
    "  # Used in the 2nd attention block in the decoder.\n",
    "  # This padding mask is used to mask the encoder outputs.\n",
    "  dec_padding_mask = create_padding_mask(inp)\n",
    "\n",
    "  # Used in the 1st attention block in the decoder.\n",
    "  # It is used to pad and mask future tokens in the input received by\n",
    "  # the decoder.\n",
    "  look_ahead_mask = create_look_ahead_mask(tf.shape(tar)[1])\n",
    "  dec_target_padding_mask = create_padding_mask(tar)\n",
    "  combined_mask = tf.maximum(dec_target_padding_mask, look_ahead_mask)\n",
    "\n",
    "  return enc_padding_mask, combined_mask, dec_padding_mask"
   ]
  },
  {
   "cell_type": "markdown",
   "metadata": {
    "id": "Fzuf06YZp66w"
   },
   "source": [
    "Create the checkpoint path and the checkpoint manager. This will be used to save checkpoints every `n` epochs."
   ]
  },
  {
   "cell_type": "code",
   "execution_count": 76,
   "metadata": {
    "colab": {
     "base_uri": "https://localhost:8080/"
    },
    "id": "hNhuYfllndLZ",
    "outputId": "a3a56ac6-c8f0-4a4b-94ce-6a9eb0e9b362"
   },
   "outputs": [
    {
     "name": "stdout",
     "output_type": "stream",
     "text": [
      "Latest checkpoint restored!!\n"
     ]
    }
   ],
   "source": [
    "checkpoint_path = \"./checkpoints/train\"\n",
    "\n",
    "ckpt = tf.train.Checkpoint(transformer=transformer,\n",
    "                           optimizer=optimizer)\n",
    "\n",
    "ckpt_manager = tf.train.CheckpointManager(ckpt, checkpoint_path, max_to_keep=5)\n",
    "\n",
    "# if a checkpoint exists, restore the latest checkpoint.\n",
    "if ckpt_manager.latest_checkpoint:\n",
    "  ckpt.restore(ckpt_manager.latest_checkpoint)\n",
    "  print ('Latest checkpoint restored!!')"
   ]
  },
  {
   "cell_type": "markdown",
   "metadata": {
    "id": "0Di_Yaa1gf9r"
   },
   "source": [
    "The target is divided into tar_inp and tar_real. tar_inp is passed as an input to the decoder. `tar_real` is that same input shifted by 1: At each location in `tar_input`, `tar_real` contains the  next token that should be predicted.\n",
    "\n",
    "For example, `sentence` = \"SOS A lion in the jungle is sleeping EOS\"\n",
    "\n",
    "`tar_inp` =  \"SOS A lion in the jungle is sleeping\"\n",
    "\n",
    "`tar_real` = \"A lion in the jungle is sleeping EOS\"\n",
    "\n",
    "The transformer is an auto-regressive model: it makes predictions one part at a time, and uses its output so far to decide what to do next.\n",
    "\n",
    "During training this example uses teacher-forcing (like in the [text generation tutorial](./text_generation.ipynb)). Teacher forcing is passing the true output to the next time step regardless of what the model predicts at the current time step.\n",
    "\n",
    "As the transformer predicts each word, *self-attention* allows it to look at the previous words in the input sequence to better predict the next word.\n",
    "\n",
    "To prevent the model from peeking at the expected output the model uses a look-ahead mask."
   ]
  },
  {
   "cell_type": "code",
   "execution_count": 77,
   "metadata": {
    "id": "LKpoA6q1sJFj"
   },
   "outputs": [],
   "source": [
    "EPOCHS = 80"
   ]
  },
  {
   "cell_type": "code",
   "execution_count": 78,
   "metadata": {
    "id": "iJwmp9OE29oj"
   },
   "outputs": [],
   "source": [
    "# The @tf.function trace-compiles train_step into a TF graph for faster\n",
    "# execution. The function specializes to the precise shape of the argument\n",
    "# tensors. To avoid re-tracing due to the variable sequence lengths or variable\n",
    "# batch sizes (the last batch is smaller), use input_signature to specify\n",
    "# more generic shapes.\n",
    "\n",
    "train_step_signature = [\n",
    "    tf.TensorSpec(shape=(None, None), dtype=tf.int64),\n",
    "    tf.TensorSpec(shape=(None, None), dtype=tf.int64),\n",
    "]\n",
    "\n",
    "@tf.function(input_signature=train_step_signature)\n",
    "def train_step(inp, tar):\n",
    "  tar_inp = tar[:, :-1]\n",
    "  tar_real = tar[:, 1:]\n",
    "\n",
    "  enc_padding_mask, combined_mask, dec_padding_mask = create_masks(inp, tar_inp)\n",
    "\n",
    "  with tf.GradientTape() as tape:\n",
    "    predictions, _ = transformer(inp, tar_inp,\n",
    "                                 True,\n",
    "                                 enc_padding_mask,\n",
    "                                 combined_mask,\n",
    "                                 dec_padding_mask)\n",
    "    loss = loss_function(tar_real, predictions)\n",
    "\n",
    "  gradients = tape.gradient(loss, transformer.trainable_variables)\n",
    "  optimizer.apply_gradients(zip(gradients, transformer.trainable_variables))\n",
    "\n",
    "  train_loss(loss)\n",
    "  train_accuracy(tar_real, predictions)"
   ]
  },
  {
   "cell_type": "markdown",
   "metadata": {
    "id": "qM2PDWGDJ_8V"
   },
   "source": [
    "Portuguese is used as the input language and English is the target language."
   ]
  },
  {
   "cell_type": "code",
   "execution_count": 79,
   "metadata": {
    "colab": {
     "base_uri": "https://localhost:8080/"
    },
    "id": "bbvmaKNiznHZ",
    "outputId": "6005cf14-07a5-40cd-b678-40947a1cbe94"
   },
   "outputs": [
    {
     "name": "stdout",
     "output_type": "stream",
     "text": [
      "Epoch 1 Batch 0 Loss 9.2701 Accuracy 0.0815\n",
      "Epoch 1 Batch 50 Loss 7.1104 Accuracy 0.0835\n",
      "Epoch 1 Batch 100 Loss 6.5668 Accuracy 0.0883\n",
      "Epoch 1 Batch 150 Loss 6.2995 Accuracy 0.0915\n",
      "Epoch 1 Batch 200 Loss 6.1047 Accuracy 0.0944\n",
      "Epoch 1 Batch 250 Loss 5.9730 Accuracy 0.0962\n",
      "Epoch 1 Batch 300 Loss 5.8687 Accuracy 0.0979\n",
      "Epoch 1 Batch 350 Loss 5.7833 Accuracy 0.0995\n",
      "Epoch 1 Batch 400 Loss 5.7166 Accuracy 0.1012\n",
      "Epoch 1 Batch 450 Loss 5.6541 Accuracy 0.1027\n",
      "Epoch 1 Batch 500 Loss 5.6077 Accuracy 0.1039\n",
      "Epoch 1 Batch 550 Loss 5.5639 Accuracy 0.1050\n",
      "Epoch 1 Batch 600 Loss 5.5261 Accuracy 0.1061\n",
      "Epoch 1 Batch 650 Loss 5.4904 Accuracy 0.1073\n",
      "Epoch 1 Batch 700 Loss 5.4605 Accuracy 0.1082\n",
      "Epoch 1 Loss 5.4595 Accuracy 0.1082\n",
      "Time taken for 1 epoch: 99.47661542892456 secs\n",
      "\n",
      "Epoch 2 Batch 0 Loss 5.0477 Accuracy 0.1178\n",
      "Epoch 2 Batch 50 Loss 4.9911 Accuracy 0.1225\n",
      "Epoch 2 Batch 100 Loss 4.9777 Accuracy 0.1233\n",
      "Epoch 2 Batch 150 Loss 4.9724 Accuracy 0.1237\n",
      "Epoch 2 Batch 200 Loss 4.9596 Accuracy 0.1242\n",
      "Epoch 2 Batch 250 Loss 4.9550 Accuracy 0.1244\n",
      "Epoch 2 Batch 300 Loss 4.9501 Accuracy 0.1249\n",
      "Epoch 2 Batch 350 Loss 4.9451 Accuracy 0.1253\n",
      "Epoch 2 Batch 400 Loss 4.9408 Accuracy 0.1259\n",
      "Epoch 2 Batch 450 Loss 4.9299 Accuracy 0.1265\n",
      "Epoch 2 Batch 500 Loss 4.9208 Accuracy 0.1268\n",
      "Epoch 2 Batch 550 Loss 4.9123 Accuracy 0.1273\n",
      "Epoch 2 Batch 600 Loss 4.9042 Accuracy 0.1276\n",
      "Epoch 2 Batch 650 Loss 4.8987 Accuracy 0.1281\n",
      "Epoch 2 Batch 700 Loss 4.8913 Accuracy 0.1285\n",
      "Epoch 2 Loss 4.8910 Accuracy 0.1285\n",
      "Time taken for 1 epoch: 43.564298152923584 secs\n",
      "\n",
      "Epoch 3 Batch 0 Loss 4.8926 Accuracy 0.1311\n",
      "Epoch 3 Batch 50 Loss 4.7506 Accuracy 0.1324\n",
      "Epoch 3 Batch 100 Loss 4.7491 Accuracy 0.1335\n",
      "Epoch 3 Batch 150 Loss 4.7458 Accuracy 0.1344\n",
      "Epoch 3 Batch 200 Loss 4.7430 Accuracy 0.1348\n",
      "Epoch 3 Batch 250 Loss 4.7400 Accuracy 0.1352\n",
      "Epoch 3 Batch 300 Loss 4.7347 Accuracy 0.1355\n",
      "Epoch 3 Batch 350 Loss 4.7252 Accuracy 0.1359\n",
      "Epoch 3 Batch 400 Loss 4.7231 Accuracy 0.1362\n",
      "Epoch 3 Batch 450 Loss 4.7216 Accuracy 0.1362\n",
      "Epoch 3 Batch 500 Loss 4.7188 Accuracy 0.1364\n",
      "Epoch 3 Batch 550 Loss 4.7149 Accuracy 0.1368\n",
      "Epoch 3 Batch 600 Loss 4.7102 Accuracy 0.1370\n",
      "Epoch 3 Batch 650 Loss 4.7064 Accuracy 0.1372\n",
      "Epoch 3 Batch 700 Loss 4.7025 Accuracy 0.1373\n",
      "Epoch 3 Loss 4.7030 Accuracy 0.1373\n",
      "Time taken for 1 epoch: 40.13032150268555 secs\n",
      "\n",
      "Epoch 4 Batch 0 Loss 4.6054 Accuracy 0.1386\n",
      "Epoch 4 Batch 50 Loss 4.6021 Accuracy 0.1401\n",
      "Epoch 4 Batch 100 Loss 4.6052 Accuracy 0.1396\n",
      "Epoch 4 Batch 150 Loss 4.5953 Accuracy 0.1404\n",
      "Epoch 4 Batch 200 Loss 4.5986 Accuracy 0.1410\n",
      "Epoch 4 Batch 250 Loss 4.5963 Accuracy 0.1412\n",
      "Epoch 4 Batch 300 Loss 4.5944 Accuracy 0.1417\n",
      "Epoch 4 Batch 350 Loss 4.5880 Accuracy 0.1421\n",
      "Epoch 4 Batch 400 Loss 4.5893 Accuracy 0.1421\n",
      "Epoch 4 Batch 450 Loss 4.5872 Accuracy 0.1423\n",
      "Epoch 4 Batch 500 Loss 4.5835 Accuracy 0.1427\n",
      "Epoch 4 Batch 550 Loss 4.5802 Accuracy 0.1430\n",
      "Epoch 4 Batch 600 Loss 4.5793 Accuracy 0.1433\n",
      "Epoch 4 Batch 650 Loss 4.5774 Accuracy 0.1434\n",
      "Epoch 4 Batch 700 Loss 4.5743 Accuracy 0.1434\n",
      "Epoch 4 Loss 4.5742 Accuracy 0.1435\n",
      "Time taken for 1 epoch: 40.988160610198975 secs\n",
      "\n",
      "Epoch 5 Batch 0 Loss 4.5967 Accuracy 0.1484\n",
      "Epoch 5 Batch 50 Loss 4.5001 Accuracy 0.1469\n",
      "Epoch 5 Batch 100 Loss 4.4939 Accuracy 0.1468\n",
      "Epoch 5 Batch 150 Loss 4.4850 Accuracy 0.1473\n",
      "Epoch 5 Batch 200 Loss 4.4890 Accuracy 0.1468\n",
      "Epoch 5 Batch 250 Loss 4.4863 Accuracy 0.1469\n",
      "Epoch 5 Batch 300 Loss 4.4909 Accuracy 0.1472\n",
      "Epoch 5 Batch 350 Loss 4.4834 Accuracy 0.1474\n",
      "Epoch 5 Batch 400 Loss 4.4818 Accuracy 0.1477\n",
      "Epoch 5 Batch 450 Loss 4.4806 Accuracy 0.1479\n",
      "Epoch 5 Batch 500 Loss 4.4801 Accuracy 0.1480\n",
      "Epoch 5 Batch 550 Loss 4.4800 Accuracy 0.1480\n",
      "Epoch 5 Batch 600 Loss 4.4792 Accuracy 0.1482\n",
      "Epoch 5 Batch 650 Loss 4.4735 Accuracy 0.1484\n",
      "Epoch 5 Batch 700 Loss 4.4736 Accuracy 0.1484\n",
      "Saving checkpoint for epoch 5 at ./checkpoints/train/ckpt-38\n",
      "Epoch 5 Loss 4.4738 Accuracy 0.1484\n",
      "Time taken for 1 epoch: 41.019869565963745 secs\n",
      "\n",
      "Epoch 6 Batch 0 Loss 4.3657 Accuracy 0.1394\n",
      "Epoch 6 Batch 50 Loss 4.4043 Accuracy 0.1497\n",
      "Epoch 6 Batch 100 Loss 4.4018 Accuracy 0.1500\n",
      "Epoch 6 Batch 150 Loss 4.4005 Accuracy 0.1506\n",
      "Epoch 6 Batch 200 Loss 4.4060 Accuracy 0.1506\n",
      "Epoch 6 Batch 250 Loss 4.4010 Accuracy 0.1510\n",
      "Epoch 6 Batch 300 Loss 4.4012 Accuracy 0.1514\n",
      "Epoch 6 Batch 350 Loss 4.3976 Accuracy 0.1515\n",
      "Epoch 6 Batch 400 Loss 4.3952 Accuracy 0.1514\n",
      "Epoch 6 Batch 450 Loss 4.3923 Accuracy 0.1514\n",
      "Epoch 6 Batch 500 Loss 4.3931 Accuracy 0.1516\n",
      "Epoch 6 Batch 550 Loss 4.3869 Accuracy 0.1519\n",
      "Epoch 6 Batch 600 Loss 4.3844 Accuracy 0.1522\n",
      "Epoch 6 Batch 650 Loss 4.3848 Accuracy 0.1524\n",
      "Epoch 6 Batch 700 Loss 4.3826 Accuracy 0.1527\n",
      "Epoch 6 Loss 4.3822 Accuracy 0.1527\n",
      "Time taken for 1 epoch: 39.7160382270813 secs\n",
      "\n",
      "Epoch 7 Batch 0 Loss 4.4081 Accuracy 0.1647\n",
      "Epoch 7 Batch 50 Loss 4.3100 Accuracy 0.1559\n",
      "Epoch 7 Batch 100 Loss 4.3113 Accuracy 0.1550\n",
      "Epoch 7 Batch 150 Loss 4.3170 Accuracy 0.1553\n",
      "Epoch 7 Batch 200 Loss 4.3170 Accuracy 0.1556\n",
      "Epoch 7 Batch 250 Loss 4.3191 Accuracy 0.1555\n",
      "Epoch 7 Batch 300 Loss 4.3145 Accuracy 0.1559\n",
      "Epoch 7 Batch 350 Loss 4.3111 Accuracy 0.1560\n",
      "Epoch 7 Batch 400 Loss 4.3076 Accuracy 0.1562\n",
      "Epoch 7 Batch 450 Loss 4.3070 Accuracy 0.1565\n",
      "Epoch 7 Batch 500 Loss 4.3082 Accuracy 0.1567\n",
      "Epoch 7 Batch 550 Loss 4.3039 Accuracy 0.1570\n",
      "Epoch 7 Batch 600 Loss 4.3034 Accuracy 0.1571\n",
      "Epoch 7 Batch 650 Loss 4.3008 Accuracy 0.1574\n",
      "Epoch 7 Batch 700 Loss 4.3002 Accuracy 0.1576\n",
      "Epoch 7 Loss 4.2995 Accuracy 0.1576\n",
      "Time taken for 1 epoch: 39.56072473526001 secs\n",
      "\n",
      "Epoch 8 Batch 0 Loss 4.1427 Accuracy 0.1550\n",
      "Epoch 8 Batch 50 Loss 4.2232 Accuracy 0.1579\n",
      "Epoch 8 Batch 100 Loss 4.2243 Accuracy 0.1587\n",
      "Epoch 8 Batch 150 Loss 4.2358 Accuracy 0.1599\n",
      "Epoch 8 Batch 200 Loss 4.2253 Accuracy 0.1603\n",
      "Epoch 8 Batch 250 Loss 4.2248 Accuracy 0.1606\n",
      "Epoch 8 Batch 300 Loss 4.2297 Accuracy 0.1608\n",
      "Epoch 8 Batch 350 Loss 4.2321 Accuracy 0.1611\n",
      "Epoch 8 Batch 400 Loss 4.2318 Accuracy 0.1612\n",
      "Epoch 8 Batch 450 Loss 4.2282 Accuracy 0.1615\n",
      "Epoch 8 Batch 500 Loss 4.2258 Accuracy 0.1617\n",
      "Epoch 8 Batch 550 Loss 4.2242 Accuracy 0.1619\n",
      "Epoch 8 Batch 600 Loss 4.2234 Accuracy 0.1619\n",
      "Epoch 8 Batch 650 Loss 4.2231 Accuracy 0.1618\n",
      "Epoch 8 Batch 700 Loss 4.2208 Accuracy 0.1619\n",
      "Epoch 8 Loss 4.2214 Accuracy 0.1619\n",
      "Time taken for 1 epoch: 39.759947299957275 secs\n",
      "\n",
      "Epoch 9 Batch 0 Loss 4.1875 Accuracy 0.1791\n",
      "Epoch 9 Batch 50 Loss 4.1642 Accuracy 0.1638\n",
      "Epoch 9 Batch 100 Loss 4.1538 Accuracy 0.1647\n",
      "Epoch 9 Batch 150 Loss 4.1405 Accuracy 0.1648\n",
      "Epoch 9 Batch 200 Loss 4.1497 Accuracy 0.1646\n",
      "Epoch 9 Batch 250 Loss 4.1493 Accuracy 0.1649\n",
      "Epoch 9 Batch 300 Loss 4.1539 Accuracy 0.1647\n",
      "Epoch 9 Batch 350 Loss 4.1524 Accuracy 0.1651\n",
      "Epoch 9 Batch 400 Loss 4.1502 Accuracy 0.1655\n",
      "Epoch 9 Batch 450 Loss 4.1494 Accuracy 0.1655\n",
      "Epoch 9 Batch 500 Loss 4.1497 Accuracy 0.1656\n",
      "Epoch 9 Batch 550 Loss 4.1499 Accuracy 0.1658\n",
      "Epoch 9 Batch 600 Loss 4.1472 Accuracy 0.1661\n",
      "Epoch 9 Batch 650 Loss 4.1441 Accuracy 0.1663\n",
      "Epoch 9 Batch 700 Loss 4.1413 Accuracy 0.1664\n",
      "Epoch 9 Loss 4.1412 Accuracy 0.1664\n",
      "Time taken for 1 epoch: 39.50019907951355 secs\n",
      "\n",
      "Epoch 10 Batch 0 Loss 4.2656 Accuracy 0.1643\n",
      "Epoch 10 Batch 50 Loss 4.0838 Accuracy 0.1698\n",
      "Epoch 10 Batch 100 Loss 4.0613 Accuracy 0.1696\n",
      "Epoch 10 Batch 150 Loss 4.0636 Accuracy 0.1696\n",
      "Epoch 10 Batch 200 Loss 4.0660 Accuracy 0.1696\n",
      "Epoch 10 Batch 250 Loss 4.0632 Accuracy 0.1700\n",
      "Epoch 10 Batch 300 Loss 4.0664 Accuracy 0.1699\n",
      "Epoch 10 Batch 350 Loss 4.0663 Accuracy 0.1702\n",
      "Epoch 10 Batch 400 Loss 4.0650 Accuracy 0.1707\n",
      "Epoch 10 Batch 450 Loss 4.0659 Accuracy 0.1708\n",
      "Epoch 10 Batch 500 Loss 4.0637 Accuracy 0.1710\n",
      "Epoch 10 Batch 550 Loss 4.0636 Accuracy 0.1712\n",
      "Epoch 10 Batch 600 Loss 4.0611 Accuracy 0.1712\n",
      "Epoch 10 Batch 650 Loss 4.0590 Accuracy 0.1714\n",
      "Epoch 10 Batch 700 Loss 4.0586 Accuracy 0.1714\n",
      "Saving checkpoint for epoch 10 at ./checkpoints/train/ckpt-39\n",
      "Epoch 10 Loss 4.0591 Accuracy 0.1714\n",
      "Time taken for 1 epoch: 39.73861217498779 secs\n",
      "\n",
      "Epoch 11 Batch 0 Loss 4.2893 Accuracy 0.1702\n",
      "Epoch 11 Batch 50 Loss 3.9877 Accuracy 0.1734\n",
      "Epoch 11 Batch 100 Loss 3.9879 Accuracy 0.1734\n",
      "Epoch 11 Batch 150 Loss 3.9892 Accuracy 0.1739\n",
      "Epoch 11 Batch 200 Loss 3.9875 Accuracy 0.1740\n",
      "Epoch 11 Batch 250 Loss 3.9939 Accuracy 0.1745\n",
      "Epoch 11 Batch 300 Loss 3.9991 Accuracy 0.1750\n",
      "Epoch 11 Batch 350 Loss 3.9926 Accuracy 0.1752\n",
      "Epoch 11 Batch 400 Loss 3.9917 Accuracy 0.1754\n",
      "Epoch 11 Batch 450 Loss 3.9899 Accuracy 0.1757\n",
      "Epoch 11 Batch 500 Loss 3.9881 Accuracy 0.1755\n",
      "Epoch 11 Batch 550 Loss 3.9880 Accuracy 0.1754\n",
      "Epoch 11 Batch 600 Loss 3.9876 Accuracy 0.1754\n",
      "Epoch 11 Batch 650 Loss 3.9861 Accuracy 0.1754\n",
      "Epoch 11 Batch 700 Loss 3.9831 Accuracy 0.1755\n",
      "Epoch 11 Loss 3.9831 Accuracy 0.1755\n",
      "Time taken for 1 epoch: 39.01739549636841 secs\n",
      "\n",
      "Epoch 12 Batch 0 Loss 3.9874 Accuracy 0.1838\n",
      "Epoch 12 Batch 50 Loss 3.9148 Accuracy 0.1785\n",
      "Epoch 12 Batch 100 Loss 3.9192 Accuracy 0.1768\n",
      "Epoch 12 Batch 150 Loss 3.9170 Accuracy 0.1774\n",
      "Epoch 12 Batch 200 Loss 3.9181 Accuracy 0.1779\n",
      "Epoch 12 Batch 250 Loss 3.9173 Accuracy 0.1780\n",
      "Epoch 12 Batch 300 Loss 3.9181 Accuracy 0.1780\n",
      "Epoch 12 Batch 350 Loss 3.9170 Accuracy 0.1784\n",
      "Epoch 12 Batch 400 Loss 3.9141 Accuracy 0.1788\n",
      "Epoch 12 Batch 450 Loss 3.9132 Accuracy 0.1790\n",
      "Epoch 12 Batch 500 Loss 3.9107 Accuracy 0.1793\n",
      "Epoch 12 Batch 550 Loss 3.9115 Accuracy 0.1792\n",
      "Epoch 12 Batch 600 Loss 3.9109 Accuracy 0.1792\n",
      "Epoch 12 Batch 650 Loss 3.9103 Accuracy 0.1795\n",
      "Epoch 12 Batch 700 Loss 3.9087 Accuracy 0.1796\n",
      "Epoch 12 Loss 3.9083 Accuracy 0.1796\n",
      "Time taken for 1 epoch: 39.660420417785645 secs\n",
      "\n",
      "Epoch 13 Batch 0 Loss 3.9379 Accuracy 0.1747\n",
      "Epoch 13 Batch 50 Loss 3.8525 Accuracy 0.1828\n",
      "Epoch 13 Batch 100 Loss 3.8623 Accuracy 0.1824\n",
      "Epoch 13 Batch 150 Loss 3.8525 Accuracy 0.1828\n",
      "Epoch 13 Batch 200 Loss 3.8506 Accuracy 0.1828\n",
      "Epoch 13 Batch 250 Loss 3.8494 Accuracy 0.1822\n",
      "Epoch 13 Batch 300 Loss 3.8483 Accuracy 0.1823\n",
      "Epoch 13 Batch 350 Loss 3.8476 Accuracy 0.1828\n",
      "Epoch 13 Batch 400 Loss 3.8478 Accuracy 0.1828\n",
      "Epoch 13 Batch 450 Loss 3.8457 Accuracy 0.1831\n",
      "Epoch 13 Batch 500 Loss 3.8418 Accuracy 0.1832\n",
      "Epoch 13 Batch 550 Loss 3.8406 Accuracy 0.1832\n",
      "Epoch 13 Batch 600 Loss 3.8392 Accuracy 0.1831\n",
      "Epoch 13 Batch 650 Loss 3.8404 Accuracy 0.1832\n",
      "Epoch 13 Batch 700 Loss 3.8376 Accuracy 0.1833\n",
      "Epoch 13 Loss 3.8375 Accuracy 0.1833\n",
      "Time taken for 1 epoch: 39.318670988082886 secs\n",
      "\n",
      "Epoch 14 Batch 0 Loss 3.7618 Accuracy 0.1892\n",
      "Epoch 14 Batch 50 Loss 3.7724 Accuracy 0.1863\n",
      "Epoch 14 Batch 100 Loss 3.7809 Accuracy 0.1859\n",
      "Epoch 14 Batch 150 Loss 3.7789 Accuracy 0.1863\n",
      "Epoch 14 Batch 200 Loss 3.7737 Accuracy 0.1860\n",
      "Epoch 14 Batch 250 Loss 3.7709 Accuracy 0.1864\n",
      "Epoch 14 Batch 300 Loss 3.7725 Accuracy 0.1866\n",
      "Epoch 14 Batch 350 Loss 3.7724 Accuracy 0.1867\n",
      "Epoch 14 Batch 400 Loss 3.7734 Accuracy 0.1868\n",
      "Epoch 14 Batch 450 Loss 3.7740 Accuracy 0.1868\n",
      "Epoch 14 Batch 500 Loss 3.7736 Accuracy 0.1868\n",
      "Epoch 14 Batch 550 Loss 3.7734 Accuracy 0.1870\n",
      "Epoch 14 Batch 600 Loss 3.7701 Accuracy 0.1871\n",
      "Epoch 14 Batch 650 Loss 3.7701 Accuracy 0.1871\n",
      "Epoch 14 Batch 700 Loss 3.7701 Accuracy 0.1871\n",
      "Epoch 14 Loss 3.7700 Accuracy 0.1871\n",
      "Time taken for 1 epoch: 38.97919201850891 secs\n",
      "\n",
      "Epoch 15 Batch 0 Loss 3.8027 Accuracy 0.1859\n",
      "Epoch 15 Batch 50 Loss 3.7130 Accuracy 0.1914\n",
      "Epoch 15 Batch 100 Loss 3.7100 Accuracy 0.1886\n",
      "Epoch 15 Batch 150 Loss 3.7176 Accuracy 0.1895\n",
      "Epoch 15 Batch 200 Loss 3.7137 Accuracy 0.1897\n",
      "Epoch 15 Batch 250 Loss 3.7224 Accuracy 0.1891\n",
      "Epoch 15 Batch 300 Loss 3.7214 Accuracy 0.1897\n",
      "Epoch 15 Batch 350 Loss 3.7162 Accuracy 0.1896\n",
      "Epoch 15 Batch 400 Loss 3.7153 Accuracy 0.1899\n",
      "Epoch 15 Batch 450 Loss 3.7181 Accuracy 0.1898\n",
      "Epoch 15 Batch 500 Loss 3.7140 Accuracy 0.1901\n",
      "Epoch 15 Batch 550 Loss 3.7114 Accuracy 0.1903\n",
      "Epoch 15 Batch 600 Loss 3.7110 Accuracy 0.1904\n",
      "Epoch 15 Batch 650 Loss 3.7080 Accuracy 0.1905\n",
      "Epoch 15 Batch 700 Loss 3.7056 Accuracy 0.1907\n",
      "Saving checkpoint for epoch 15 at ./checkpoints/train/ckpt-40\n",
      "Epoch 15 Loss 3.7051 Accuracy 0.1908\n",
      "Time taken for 1 epoch: 40.048797845840454 secs\n",
      "\n",
      "Epoch 16 Batch 0 Loss 3.6202 Accuracy 0.1979\n",
      "Epoch 16 Batch 50 Loss 3.6566 Accuracy 0.1901\n",
      "Epoch 16 Batch 100 Loss 3.6590 Accuracy 0.1925\n",
      "Epoch 16 Batch 150 Loss 3.6586 Accuracy 0.1922\n",
      "Epoch 16 Batch 200 Loss 3.6534 Accuracy 0.1931\n",
      "Epoch 16 Batch 250 Loss 3.6529 Accuracy 0.1928\n",
      "Epoch 16 Batch 300 Loss 3.6511 Accuracy 0.1931\n",
      "Epoch 16 Batch 350 Loss 3.6496 Accuracy 0.1934\n",
      "Epoch 16 Batch 400 Loss 3.6464 Accuracy 0.1933\n",
      "Epoch 16 Batch 450 Loss 3.6436 Accuracy 0.1934\n",
      "Epoch 16 Batch 500 Loss 3.6435 Accuracy 0.1937\n",
      "Epoch 16 Batch 550 Loss 3.6437 Accuracy 0.1937\n",
      "Epoch 16 Batch 600 Loss 3.6443 Accuracy 0.1937\n",
      "Epoch 16 Batch 650 Loss 3.6435 Accuracy 0.1940\n",
      "Epoch 16 Batch 700 Loss 3.6427 Accuracy 0.1939\n",
      "Epoch 16 Loss 3.6423 Accuracy 0.1939\n",
      "Time taken for 1 epoch: 38.883655309677124 secs\n",
      "\n",
      "Epoch 17 Batch 0 Loss 3.4941 Accuracy 0.1975\n",
      "Epoch 17 Batch 50 Loss 3.5617 Accuracy 0.1952\n",
      "Epoch 17 Batch 100 Loss 3.5809 Accuracy 0.1956\n",
      "Epoch 17 Batch 150 Loss 3.5808 Accuracy 0.1960\n",
      "Epoch 17 Batch 200 Loss 3.5820 Accuracy 0.1959\n",
      "Epoch 17 Batch 250 Loss 3.5835 Accuracy 0.1962\n",
      "Epoch 17 Batch 300 Loss 3.5823 Accuracy 0.1966\n",
      "Epoch 17 Batch 350 Loss 3.5819 Accuracy 0.1966\n",
      "Epoch 17 Batch 400 Loss 3.5788 Accuracy 0.1967\n",
      "Epoch 17 Batch 450 Loss 3.5799 Accuracy 0.1965\n",
      "Epoch 17 Batch 500 Loss 3.5795 Accuracy 0.1968\n",
      "Epoch 17 Batch 550 Loss 3.5797 Accuracy 0.1970\n",
      "Epoch 17 Batch 600 Loss 3.5791 Accuracy 0.1970\n",
      "Epoch 17 Batch 650 Loss 3.5800 Accuracy 0.1972\n",
      "Epoch 17 Batch 700 Loss 3.5806 Accuracy 0.1972\n",
      "Epoch 17 Loss 3.5804 Accuracy 0.1972\n",
      "Time taken for 1 epoch: 38.74680495262146 secs\n",
      "\n",
      "Epoch 18 Batch 0 Loss 3.4384 Accuracy 0.2109\n",
      "Epoch 18 Batch 50 Loss 3.5567 Accuracy 0.1991\n",
      "Epoch 18 Batch 100 Loss 3.5373 Accuracy 0.1997\n",
      "Epoch 18 Batch 150 Loss 3.5447 Accuracy 0.2001\n",
      "Epoch 18 Batch 200 Loss 3.5417 Accuracy 0.1998\n",
      "Epoch 18 Batch 250 Loss 3.5382 Accuracy 0.1991\n",
      "Epoch 18 Batch 300 Loss 3.5313 Accuracy 0.1991\n",
      "Epoch 18 Batch 350 Loss 3.5287 Accuracy 0.1996\n",
      "Epoch 18 Batch 400 Loss 3.5263 Accuracy 0.1995\n",
      "Epoch 18 Batch 450 Loss 3.5275 Accuracy 0.1996\n",
      "Epoch 18 Batch 500 Loss 3.5234 Accuracy 0.1999\n",
      "Epoch 18 Batch 550 Loss 3.5254 Accuracy 0.1999\n",
      "Epoch 18 Batch 600 Loss 3.5243 Accuracy 0.2002\n",
      "Epoch 18 Batch 650 Loss 3.5228 Accuracy 0.2002\n",
      "Epoch 18 Batch 700 Loss 3.5226 Accuracy 0.2003\n",
      "Epoch 18 Loss 3.5228 Accuracy 0.2004\n",
      "Time taken for 1 epoch: 38.9688618183136 secs\n",
      "\n",
      "Epoch 19 Batch 0 Loss 3.4931 Accuracy 0.1971\n",
      "Epoch 19 Batch 50 Loss 3.4562 Accuracy 0.2026\n",
      "Epoch 19 Batch 100 Loss 3.4716 Accuracy 0.2011\n",
      "Epoch 19 Batch 150 Loss 3.4755 Accuracy 0.2016\n",
      "Epoch 19 Batch 200 Loss 3.4796 Accuracy 0.2014\n",
      "Epoch 19 Batch 250 Loss 3.4815 Accuracy 0.2015\n",
      "Epoch 19 Batch 300 Loss 3.4751 Accuracy 0.2019\n",
      "Epoch 19 Batch 350 Loss 3.4708 Accuracy 0.2022\n",
      "Epoch 19 Batch 400 Loss 3.4675 Accuracy 0.2027\n",
      "Epoch 19 Batch 450 Loss 3.4638 Accuracy 0.2028\n",
      "Epoch 19 Batch 500 Loss 3.4647 Accuracy 0.2028\n",
      "Epoch 19 Batch 550 Loss 3.4642 Accuracy 0.2030\n",
      "Epoch 19 Batch 600 Loss 3.4665 Accuracy 0.2031\n",
      "Epoch 19 Batch 650 Loss 3.4638 Accuracy 0.2034\n",
      "Epoch 19 Batch 700 Loss 3.4650 Accuracy 0.2034\n",
      "Epoch 19 Loss 3.4649 Accuracy 0.2033\n",
      "Time taken for 1 epoch: 39.45621705055237 secs\n",
      "\n",
      "Epoch 20 Batch 0 Loss 3.5475 Accuracy 0.2069\n",
      "Epoch 20 Batch 50 Loss 3.4338 Accuracy 0.2044\n",
      "Epoch 20 Batch 100 Loss 3.4274 Accuracy 0.2050\n",
      "Epoch 20 Batch 150 Loss 3.4261 Accuracy 0.2056\n",
      "Epoch 20 Batch 200 Loss 3.4257 Accuracy 0.2054\n",
      "Epoch 20 Batch 250 Loss 3.4227 Accuracy 0.2054\n",
      "Epoch 20 Batch 300 Loss 3.4187 Accuracy 0.2051\n",
      "Epoch 20 Batch 350 Loss 3.4140 Accuracy 0.2054\n",
      "Epoch 20 Batch 400 Loss 3.4096 Accuracy 0.2057\n",
      "Epoch 20 Batch 450 Loss 3.4105 Accuracy 0.2058\n",
      "Epoch 20 Batch 500 Loss 3.4116 Accuracy 0.2058\n",
      "Epoch 20 Batch 550 Loss 3.4066 Accuracy 0.2061\n",
      "Epoch 20 Batch 600 Loss 3.4079 Accuracy 0.2064\n",
      "Epoch 20 Batch 650 Loss 3.4090 Accuracy 0.2065\n",
      "Epoch 20 Batch 700 Loss 3.4104 Accuracy 0.2065\n",
      "Saving checkpoint for epoch 20 at ./checkpoints/train/ckpt-41\n",
      "Epoch 20 Loss 3.4100 Accuracy 0.2065\n",
      "Time taken for 1 epoch: 39.278547525405884 secs\n",
      "\n",
      "Epoch 21 Batch 0 Loss 3.4117 Accuracy 0.2002\n",
      "Epoch 21 Batch 50 Loss 3.3448 Accuracy 0.2095\n",
      "Epoch 21 Batch 100 Loss 3.3557 Accuracy 0.2095\n",
      "Epoch 21 Batch 150 Loss 3.3571 Accuracy 0.2087\n",
      "Epoch 21 Batch 200 Loss 3.3621 Accuracy 0.2092\n",
      "Epoch 21 Batch 250 Loss 3.3656 Accuracy 0.2089\n",
      "Epoch 21 Batch 300 Loss 3.3639 Accuracy 0.2091\n",
      "Epoch 21 Batch 350 Loss 3.3608 Accuracy 0.2091\n",
      "Epoch 21 Batch 400 Loss 3.3604 Accuracy 0.2093\n",
      "Epoch 21 Batch 450 Loss 3.3565 Accuracy 0.2094\n",
      "Epoch 21 Batch 500 Loss 3.3557 Accuracy 0.2092\n",
      "Epoch 21 Batch 550 Loss 3.3552 Accuracy 0.2093\n",
      "Epoch 21 Batch 600 Loss 3.3539 Accuracy 0.2095\n",
      "Epoch 21 Batch 650 Loss 3.3537 Accuracy 0.2096\n",
      "Epoch 21 Batch 700 Loss 3.3563 Accuracy 0.2100\n",
      "Epoch 21 Loss 3.3565 Accuracy 0.2100\n",
      "Time taken for 1 epoch: 39.340171098709106 secs\n",
      "\n",
      "Epoch 22 Batch 0 Loss 3.4807 Accuracy 0.2039\n",
      "Epoch 22 Batch 50 Loss 3.3160 Accuracy 0.2088\n",
      "Epoch 22 Batch 100 Loss 3.3210 Accuracy 0.2100\n",
      "Epoch 22 Batch 150 Loss 3.3125 Accuracy 0.2108\n",
      "Epoch 22 Batch 200 Loss 3.3143 Accuracy 0.2115\n",
      "Epoch 22 Batch 250 Loss 3.3096 Accuracy 0.2111\n",
      "Epoch 22 Batch 300 Loss 3.3079 Accuracy 0.2110\n",
      "Epoch 22 Batch 350 Loss 3.3073 Accuracy 0.2115\n",
      "Epoch 22 Batch 400 Loss 3.3042 Accuracy 0.2121\n",
      "Epoch 22 Batch 450 Loss 3.3043 Accuracy 0.2122\n",
      "Epoch 22 Batch 500 Loss 3.3028 Accuracy 0.2122\n",
      "Epoch 22 Batch 550 Loss 3.3025 Accuracy 0.2121\n",
      "Epoch 22 Batch 600 Loss 3.3016 Accuracy 0.2121\n",
      "Epoch 22 Batch 650 Loss 3.3038 Accuracy 0.2123\n",
      "Epoch 22 Batch 700 Loss 3.3032 Accuracy 0.2125\n",
      "Epoch 22 Loss 3.3033 Accuracy 0.2125\n",
      "Time taken for 1 epoch: 39.466214179992676 secs\n",
      "\n",
      "Epoch 23 Batch 0 Loss 3.2565 Accuracy 0.2113\n",
      "Epoch 23 Batch 50 Loss 3.2333 Accuracy 0.2160\n",
      "Epoch 23 Batch 100 Loss 3.2563 Accuracy 0.2152\n",
      "Epoch 23 Batch 150 Loss 3.2493 Accuracy 0.2152\n",
      "Epoch 23 Batch 200 Loss 3.2527 Accuracy 0.2153\n",
      "Epoch 23 Batch 250 Loss 3.2506 Accuracy 0.2153\n",
      "Epoch 23 Batch 300 Loss 3.2531 Accuracy 0.2152\n",
      "Epoch 23 Batch 350 Loss 3.2528 Accuracy 0.2150\n",
      "Epoch 23 Batch 400 Loss 3.2563 Accuracy 0.2148\n",
      "Epoch 23 Batch 450 Loss 3.2569 Accuracy 0.2149\n",
      "Epoch 23 Batch 500 Loss 3.2576 Accuracy 0.2151\n",
      "Epoch 23 Batch 550 Loss 3.2542 Accuracy 0.2150\n",
      "Epoch 23 Batch 600 Loss 3.2555 Accuracy 0.2150\n",
      "Epoch 23 Batch 650 Loss 3.2566 Accuracy 0.2151\n",
      "Epoch 23 Batch 700 Loss 3.2537 Accuracy 0.2152\n",
      "Epoch 23 Loss 3.2535 Accuracy 0.2152\n",
      "Time taken for 1 epoch: 39.129019021987915 secs\n",
      "\n",
      "Epoch 24 Batch 0 Loss 3.2200 Accuracy 0.2154\n",
      "Epoch 24 Batch 50 Loss 3.1879 Accuracy 0.2170\n",
      "Epoch 24 Batch 100 Loss 3.1960 Accuracy 0.2165\n",
      "Epoch 24 Batch 150 Loss 3.1968 Accuracy 0.2169\n",
      "Epoch 24 Batch 200 Loss 3.1976 Accuracy 0.2175\n",
      "Epoch 24 Batch 250 Loss 3.1999 Accuracy 0.2175\n",
      "Epoch 24 Batch 300 Loss 3.2066 Accuracy 0.2176\n",
      "Epoch 24 Batch 350 Loss 3.2056 Accuracy 0.2178\n",
      "Epoch 24 Batch 400 Loss 3.2037 Accuracy 0.2185\n",
      "Epoch 24 Batch 450 Loss 3.2087 Accuracy 0.2184\n",
      "Epoch 24 Batch 500 Loss 3.2076 Accuracy 0.2181\n",
      "Epoch 24 Batch 550 Loss 3.2068 Accuracy 0.2181\n",
      "Epoch 24 Batch 600 Loss 3.2073 Accuracy 0.2181\n",
      "Epoch 24 Batch 650 Loss 3.2063 Accuracy 0.2183\n",
      "Epoch 24 Batch 700 Loss 3.2052 Accuracy 0.2182\n",
      "Epoch 24 Loss 3.2059 Accuracy 0.2183\n",
      "Time taken for 1 epoch: 39.39083123207092 secs\n",
      "\n",
      "Epoch 25 Batch 0 Loss 3.1677 Accuracy 0.2251\n",
      "Epoch 25 Batch 50 Loss 3.1554 Accuracy 0.2203\n",
      "Epoch 25 Batch 100 Loss 3.1536 Accuracy 0.2208\n",
      "Epoch 25 Batch 150 Loss 3.1539 Accuracy 0.2200\n",
      "Epoch 25 Batch 200 Loss 3.1561 Accuracy 0.2206\n",
      "Epoch 25 Batch 250 Loss 3.1586 Accuracy 0.2198\n",
      "Epoch 25 Batch 300 Loss 3.1640 Accuracy 0.2196\n",
      "Epoch 25 Batch 350 Loss 3.1604 Accuracy 0.2203\n",
      "Epoch 25 Batch 400 Loss 3.1608 Accuracy 0.2200\n",
      "Epoch 25 Batch 450 Loss 3.1586 Accuracy 0.2200\n",
      "Epoch 25 Batch 500 Loss 3.1585 Accuracy 0.2204\n",
      "Epoch 25 Batch 550 Loss 3.1571 Accuracy 0.2203\n",
      "Epoch 25 Batch 600 Loss 3.1555 Accuracy 0.2206\n",
      "Epoch 25 Batch 650 Loss 3.1570 Accuracy 0.2203\n",
      "Epoch 25 Batch 700 Loss 3.1565 Accuracy 0.2203\n",
      "Saving checkpoint for epoch 25 at ./checkpoints/train/ckpt-42\n",
      "Epoch 25 Loss 3.1568 Accuracy 0.2203\n",
      "Time taken for 1 epoch: 39.4243049621582 secs\n",
      "\n",
      "Epoch 26 Batch 0 Loss 3.0707 Accuracy 0.2482\n",
      "Epoch 26 Batch 50 Loss 3.0626 Accuracy 0.2239\n",
      "Epoch 26 Batch 100 Loss 3.0773 Accuracy 0.2216\n",
      "Epoch 26 Batch 150 Loss 3.0841 Accuracy 0.2215\n",
      "Epoch 26 Batch 200 Loss 3.0986 Accuracy 0.2216\n",
      "Epoch 26 Batch 250 Loss 3.0970 Accuracy 0.2221\n",
      "Epoch 26 Batch 300 Loss 3.1026 Accuracy 0.2224\n",
      "Epoch 26 Batch 350 Loss 3.1053 Accuracy 0.2226\n",
      "Epoch 26 Batch 400 Loss 3.1056 Accuracy 0.2229\n",
      "Epoch 26 Batch 450 Loss 3.1049 Accuracy 0.2228\n",
      "Epoch 26 Batch 500 Loss 3.1046 Accuracy 0.2230\n",
      "Epoch 26 Batch 550 Loss 3.1060 Accuracy 0.2229\n",
      "Epoch 26 Batch 600 Loss 3.1085 Accuracy 0.2228\n",
      "Epoch 26 Batch 650 Loss 3.1090 Accuracy 0.2228\n",
      "Epoch 26 Batch 700 Loss 3.1080 Accuracy 0.2228\n",
      "Epoch 26 Loss 3.1080 Accuracy 0.2228\n",
      "Time taken for 1 epoch: 39.103867053985596 secs\n",
      "\n",
      "Epoch 27 Batch 0 Loss 3.0916 Accuracy 0.2131\n",
      "Epoch 27 Batch 50 Loss 3.0639 Accuracy 0.2251\n",
      "Epoch 27 Batch 100 Loss 3.0509 Accuracy 0.2236\n",
      "Epoch 27 Batch 150 Loss 3.0606 Accuracy 0.2244\n",
      "Epoch 27 Batch 200 Loss 3.0627 Accuracy 0.2249\n",
      "Epoch 27 Batch 250 Loss 3.0542 Accuracy 0.2247\n",
      "Epoch 27 Batch 300 Loss 3.0574 Accuracy 0.2245\n",
      "Epoch 27 Batch 350 Loss 3.0573 Accuracy 0.2252\n",
      "Epoch 27 Batch 400 Loss 3.0580 Accuracy 0.2255\n",
      "Epoch 27 Batch 450 Loss 3.0597 Accuracy 0.2257\n",
      "Epoch 27 Batch 500 Loss 3.0593 Accuracy 0.2256\n",
      "Epoch 27 Batch 550 Loss 3.0610 Accuracy 0.2256\n",
      "Epoch 27 Batch 600 Loss 3.0617 Accuracy 0.2255\n",
      "Epoch 27 Batch 650 Loss 3.0633 Accuracy 0.2254\n",
      "Epoch 27 Batch 700 Loss 3.0629 Accuracy 0.2255\n",
      "Epoch 27 Loss 3.0623 Accuracy 0.2255\n",
      "Time taken for 1 epoch: 39.16173791885376 secs\n",
      "\n",
      "Epoch 28 Batch 0 Loss 2.9941 Accuracy 0.2282\n",
      "Epoch 28 Batch 50 Loss 3.0194 Accuracy 0.2253\n",
      "Epoch 28 Batch 100 Loss 3.0197 Accuracy 0.2261\n",
      "Epoch 28 Batch 150 Loss 3.0177 Accuracy 0.2265\n",
      "Epoch 28 Batch 200 Loss 3.0194 Accuracy 0.2262\n",
      "Epoch 28 Batch 250 Loss 3.0212 Accuracy 0.2267\n",
      "Epoch 28 Batch 300 Loss 3.0209 Accuracy 0.2273\n",
      "Epoch 28 Batch 350 Loss 3.0172 Accuracy 0.2276\n",
      "Epoch 28 Batch 400 Loss 3.0156 Accuracy 0.2275\n",
      "Epoch 28 Batch 450 Loss 3.0143 Accuracy 0.2276\n",
      "Epoch 28 Batch 500 Loss 3.0144 Accuracy 0.2275\n",
      "Epoch 28 Batch 550 Loss 3.0157 Accuracy 0.2274\n",
      "Epoch 28 Batch 600 Loss 3.0182 Accuracy 0.2273\n",
      "Epoch 28 Batch 650 Loss 3.0172 Accuracy 0.2275\n",
      "Epoch 28 Batch 700 Loss 3.0161 Accuracy 0.2278\n",
      "Epoch 28 Loss 3.0166 Accuracy 0.2278\n",
      "Time taken for 1 epoch: 39.05178761482239 secs\n",
      "\n",
      "Epoch 29 Batch 0 Loss 2.7496 Accuracy 0.2322\n",
      "Epoch 29 Batch 50 Loss 2.9766 Accuracy 0.2285\n",
      "Epoch 29 Batch 100 Loss 2.9745 Accuracy 0.2285\n",
      "Epoch 29 Batch 150 Loss 2.9695 Accuracy 0.2293\n",
      "Epoch 29 Batch 200 Loss 2.9720 Accuracy 0.2292\n",
      "Epoch 29 Batch 250 Loss 2.9740 Accuracy 0.2297\n",
      "Epoch 29 Batch 300 Loss 2.9779 Accuracy 0.2307\n",
      "Epoch 29 Batch 350 Loss 2.9775 Accuracy 0.2307\n",
      "Epoch 29 Batch 400 Loss 2.9728 Accuracy 0.2304\n",
      "Epoch 29 Batch 450 Loss 2.9764 Accuracy 0.2303\n",
      "Epoch 29 Batch 500 Loss 2.9755 Accuracy 0.2301\n",
      "Epoch 29 Batch 550 Loss 2.9741 Accuracy 0.2302\n",
      "Epoch 29 Batch 600 Loss 2.9740 Accuracy 0.2302\n",
      "Epoch 29 Batch 650 Loss 2.9710 Accuracy 0.2304\n",
      "Epoch 29 Batch 700 Loss 2.9719 Accuracy 0.2305\n",
      "Epoch 29 Loss 2.9718 Accuracy 0.2305\n",
      "Time taken for 1 epoch: 38.716670751571655 secs\n",
      "\n",
      "Epoch 30 Batch 0 Loss 2.8903 Accuracy 0.2124\n",
      "Epoch 30 Batch 50 Loss 2.9127 Accuracy 0.2331\n",
      "Epoch 30 Batch 100 Loss 2.9297 Accuracy 0.2307\n",
      "Epoch 30 Batch 150 Loss 2.9214 Accuracy 0.2316\n",
      "Epoch 30 Batch 200 Loss 2.9248 Accuracy 0.2309\n",
      "Epoch 30 Batch 250 Loss 2.9221 Accuracy 0.2319\n",
      "Epoch 30 Batch 300 Loss 2.9238 Accuracy 0.2321\n",
      "Epoch 30 Batch 350 Loss 2.9238 Accuracy 0.2318\n",
      "Epoch 30 Batch 400 Loss 2.9266 Accuracy 0.2321\n",
      "Epoch 30 Batch 450 Loss 2.9267 Accuracy 0.2324\n",
      "Epoch 30 Batch 500 Loss 2.9274 Accuracy 0.2325\n",
      "Epoch 30 Batch 550 Loss 2.9302 Accuracy 0.2329\n",
      "Epoch 30 Batch 600 Loss 2.9286 Accuracy 0.2332\n",
      "Epoch 30 Batch 650 Loss 2.9282 Accuracy 0.2334\n",
      "Epoch 30 Batch 700 Loss 2.9274 Accuracy 0.2332\n",
      "Saving checkpoint for epoch 30 at ./checkpoints/train/ckpt-43\n",
      "Epoch 30 Loss 2.9270 Accuracy 0.2332\n",
      "Time taken for 1 epoch: 39.24117469787598 secs\n",
      "\n",
      "Epoch 31 Batch 0 Loss 2.8863 Accuracy 0.2240\n",
      "Epoch 31 Batch 50 Loss 2.8591 Accuracy 0.2363\n",
      "Epoch 31 Batch 100 Loss 2.8766 Accuracy 0.2351\n",
      "Epoch 31 Batch 150 Loss 2.8787 Accuracy 0.2358\n",
      "Epoch 31 Batch 200 Loss 2.8759 Accuracy 0.2349\n",
      "Epoch 31 Batch 250 Loss 2.8769 Accuracy 0.2348\n",
      "Epoch 31 Batch 300 Loss 2.8771 Accuracy 0.2345\n",
      "Epoch 31 Batch 350 Loss 2.8792 Accuracy 0.2350\n",
      "Epoch 31 Batch 400 Loss 2.8790 Accuracy 0.2354\n",
      "Epoch 31 Batch 450 Loss 2.8806 Accuracy 0.2351\n",
      "Epoch 31 Batch 500 Loss 2.8790 Accuracy 0.2353\n",
      "Epoch 31 Batch 550 Loss 2.8784 Accuracy 0.2353\n",
      "Epoch 31 Batch 600 Loss 2.8806 Accuracy 0.2353\n",
      "Epoch 31 Batch 650 Loss 2.8820 Accuracy 0.2352\n",
      "Epoch 31 Batch 700 Loss 2.8845 Accuracy 0.2356\n",
      "Epoch 31 Loss 2.8845 Accuracy 0.2356\n",
      "Time taken for 1 epoch: 38.945194721221924 secs\n",
      "\n",
      "Epoch 32 Batch 0 Loss 2.8264 Accuracy 0.2463\n",
      "Epoch 32 Batch 50 Loss 2.8282 Accuracy 0.2367\n",
      "Epoch 32 Batch 100 Loss 2.8223 Accuracy 0.2396\n",
      "Epoch 32 Batch 150 Loss 2.8223 Accuracy 0.2393\n",
      "Epoch 32 Batch 200 Loss 2.8243 Accuracy 0.2382\n",
      "Epoch 32 Batch 250 Loss 2.8333 Accuracy 0.2378\n",
      "Epoch 32 Batch 300 Loss 2.8340 Accuracy 0.2384\n",
      "Epoch 32 Batch 350 Loss 2.8348 Accuracy 0.2381\n",
      "Epoch 32 Batch 400 Loss 2.8387 Accuracy 0.2380\n",
      "Epoch 32 Batch 450 Loss 2.8404 Accuracy 0.2380\n",
      "Epoch 32 Batch 500 Loss 2.8416 Accuracy 0.2378\n",
      "Epoch 32 Batch 550 Loss 2.8406 Accuracy 0.2380\n",
      "Epoch 32 Batch 600 Loss 2.8415 Accuracy 0.2380\n",
      "Epoch 32 Batch 650 Loss 2.8411 Accuracy 0.2379\n",
      "Epoch 32 Batch 700 Loss 2.8428 Accuracy 0.2381\n",
      "Epoch 32 Loss 2.8429 Accuracy 0.2381\n",
      "Time taken for 1 epoch: 38.604175329208374 secs\n",
      "\n",
      "Epoch 33 Batch 0 Loss 2.8759 Accuracy 0.2549\n",
      "Epoch 33 Batch 50 Loss 2.7991 Accuracy 0.2359\n",
      "Epoch 33 Batch 100 Loss 2.7883 Accuracy 0.2390\n",
      "Epoch 33 Batch 150 Loss 2.7985 Accuracy 0.2387\n",
      "Epoch 33 Batch 200 Loss 2.7977 Accuracy 0.2382\n",
      "Epoch 33 Batch 250 Loss 2.7970 Accuracy 0.2380\n",
      "Epoch 33 Batch 300 Loss 2.7976 Accuracy 0.2381\n",
      "Epoch 33 Batch 350 Loss 2.7947 Accuracy 0.2389\n",
      "Epoch 33 Batch 400 Loss 2.7938 Accuracy 0.2390\n",
      "Epoch 33 Batch 450 Loss 2.7951 Accuracy 0.2397\n",
      "Epoch 33 Batch 500 Loss 2.7970 Accuracy 0.2400\n",
      "Epoch 33 Batch 550 Loss 2.7997 Accuracy 0.2399\n",
      "Epoch 33 Batch 600 Loss 2.8009 Accuracy 0.2400\n",
      "Epoch 33 Batch 650 Loss 2.8002 Accuracy 0.2401\n",
      "Epoch 33 Batch 700 Loss 2.7999 Accuracy 0.2403\n",
      "Epoch 33 Loss 2.8003 Accuracy 0.2403\n",
      "Time taken for 1 epoch: 38.9466769695282 secs\n",
      "\n",
      "Epoch 34 Batch 0 Loss 2.8393 Accuracy 0.2288\n",
      "Epoch 34 Batch 50 Loss 2.7349 Accuracy 0.2432\n",
      "Epoch 34 Batch 100 Loss 2.7579 Accuracy 0.2425\n",
      "Epoch 34 Batch 150 Loss 2.7571 Accuracy 0.2427\n",
      "Epoch 34 Batch 200 Loss 2.7584 Accuracy 0.2421\n",
      "Epoch 34 Batch 250 Loss 2.7635 Accuracy 0.2420\n",
      "Epoch 34 Batch 300 Loss 2.7642 Accuracy 0.2418\n",
      "Epoch 34 Batch 350 Loss 2.7624 Accuracy 0.2423\n",
      "Epoch 34 Batch 400 Loss 2.7587 Accuracy 0.2424\n",
      "Epoch 34 Batch 450 Loss 2.7557 Accuracy 0.2425\n",
      "Epoch 34 Batch 500 Loss 2.7542 Accuracy 0.2428\n",
      "Epoch 34 Batch 550 Loss 2.7523 Accuracy 0.2426\n",
      "Epoch 34 Batch 600 Loss 2.7547 Accuracy 0.2424\n",
      "Epoch 34 Batch 650 Loss 2.7572 Accuracy 0.2426\n",
      "Epoch 34 Batch 700 Loss 2.7586 Accuracy 0.2425\n",
      "Epoch 34 Loss 2.7582 Accuracy 0.2426\n",
      "Time taken for 1 epoch: 39.16782188415527 secs\n",
      "\n",
      "Epoch 35 Batch 0 Loss 2.6238 Accuracy 0.2643\n",
      "Epoch 35 Batch 50 Loss 2.6976 Accuracy 0.2451\n",
      "Epoch 35 Batch 100 Loss 2.7043 Accuracy 0.2455\n",
      "Epoch 35 Batch 150 Loss 2.7050 Accuracy 0.2454\n",
      "Epoch 35 Batch 200 Loss 2.7123 Accuracy 0.2453\n",
      "Epoch 35 Batch 250 Loss 2.7126 Accuracy 0.2451\n",
      "Epoch 35 Batch 300 Loss 2.7108 Accuracy 0.2454\n",
      "Epoch 35 Batch 350 Loss 2.7118 Accuracy 0.2452\n",
      "Epoch 35 Batch 400 Loss 2.7104 Accuracy 0.2453\n",
      "Epoch 35 Batch 450 Loss 2.7129 Accuracy 0.2455\n",
      "Epoch 35 Batch 500 Loss 2.7141 Accuracy 0.2453\n",
      "Epoch 35 Batch 550 Loss 2.7141 Accuracy 0.2457\n",
      "Epoch 35 Batch 600 Loss 2.7165 Accuracy 0.2454\n",
      "Epoch 35 Batch 650 Loss 2.7185 Accuracy 0.2456\n",
      "Epoch 35 Batch 700 Loss 2.7177 Accuracy 0.2458\n",
      "Saving checkpoint for epoch 35 at ./checkpoints/train/ckpt-44\n",
      "Epoch 35 Loss 2.7175 Accuracy 0.2458\n",
      "Time taken for 1 epoch: 39.39716291427612 secs\n",
      "\n",
      "Epoch 36 Batch 0 Loss 2.5888 Accuracy 0.2504\n",
      "Epoch 36 Batch 50 Loss 2.6816 Accuracy 0.2438\n",
      "Epoch 36 Batch 100 Loss 2.6847 Accuracy 0.2443\n",
      "Epoch 36 Batch 150 Loss 2.6821 Accuracy 0.2448\n",
      "Epoch 36 Batch 200 Loss 2.6777 Accuracy 0.2450\n",
      "Epoch 36 Batch 250 Loss 2.6775 Accuracy 0.2454\n",
      "Epoch 36 Batch 300 Loss 2.6798 Accuracy 0.2451\n",
      "Epoch 36 Batch 350 Loss 2.6783 Accuracy 0.2462\n",
      "Epoch 36 Batch 400 Loss 2.6811 Accuracy 0.2459\n",
      "Epoch 36 Batch 450 Loss 2.6811 Accuracy 0.2459\n",
      "Epoch 36 Batch 500 Loss 2.6805 Accuracy 0.2462\n",
      "Epoch 36 Batch 550 Loss 2.6812 Accuracy 0.2465\n",
      "Epoch 36 Batch 600 Loss 2.6802 Accuracy 0.2467\n",
      "Epoch 36 Batch 650 Loss 2.6806 Accuracy 0.2470\n",
      "Epoch 36 Batch 700 Loss 2.6785 Accuracy 0.2472\n",
      "Epoch 36 Loss 2.6786 Accuracy 0.2472\n",
      "Time taken for 1 epoch: 38.934261083602905 secs\n",
      "\n",
      "Epoch 37 Batch 0 Loss 2.4787 Accuracy 0.2315\n",
      "Epoch 37 Batch 50 Loss 2.6205 Accuracy 0.2508\n",
      "Epoch 37 Batch 100 Loss 2.6226 Accuracy 0.2488\n",
      "Epoch 37 Batch 150 Loss 2.6175 Accuracy 0.2475\n",
      "Epoch 37 Batch 200 Loss 2.6236 Accuracy 0.2485\n",
      "Epoch 37 Batch 250 Loss 2.6266 Accuracy 0.2490\n",
      "Epoch 37 Batch 300 Loss 2.6291 Accuracy 0.2494\n",
      "Epoch 37 Batch 350 Loss 2.6273 Accuracy 0.2496\n",
      "Epoch 37 Batch 400 Loss 2.6291 Accuracy 0.2494\n",
      "Epoch 37 Batch 450 Loss 2.6311 Accuracy 0.2494\n",
      "Epoch 37 Batch 500 Loss 2.6345 Accuracy 0.2494\n",
      "Epoch 37 Batch 550 Loss 2.6353 Accuracy 0.2493\n",
      "Epoch 37 Batch 600 Loss 2.6373 Accuracy 0.2494\n",
      "Epoch 37 Batch 650 Loss 2.6385 Accuracy 0.2493\n",
      "Epoch 37 Batch 700 Loss 2.6383 Accuracy 0.2495\n",
      "Epoch 37 Loss 2.6382 Accuracy 0.2495\n",
      "Time taken for 1 epoch: 38.99325251579285 secs\n",
      "\n",
      "Epoch 38 Batch 0 Loss 2.7521 Accuracy 0.2586\n",
      "Epoch 38 Batch 50 Loss 2.5693 Accuracy 0.2538\n",
      "Epoch 38 Batch 100 Loss 2.5810 Accuracy 0.2533\n",
      "Epoch 38 Batch 150 Loss 2.5903 Accuracy 0.2507\n",
      "Epoch 38 Batch 200 Loss 2.5860 Accuracy 0.2508\n",
      "Epoch 38 Batch 250 Loss 2.5909 Accuracy 0.2504\n",
      "Epoch 38 Batch 300 Loss 2.5959 Accuracy 0.2506\n",
      "Epoch 38 Batch 350 Loss 2.5938 Accuracy 0.2514\n",
      "Epoch 38 Batch 400 Loss 2.5949 Accuracy 0.2512\n",
      "Epoch 38 Batch 450 Loss 2.5983 Accuracy 0.2515\n",
      "Epoch 38 Batch 500 Loss 2.5980 Accuracy 0.2517\n",
      "Epoch 38 Batch 550 Loss 2.5987 Accuracy 0.2513\n",
      "Epoch 38 Batch 600 Loss 2.6002 Accuracy 0.2516\n",
      "Epoch 38 Batch 650 Loss 2.6010 Accuracy 0.2517\n",
      "Epoch 38 Batch 700 Loss 2.6024 Accuracy 0.2519\n",
      "Epoch 38 Loss 2.6022 Accuracy 0.2519\n",
      "Time taken for 1 epoch: 38.694908142089844 secs\n",
      "\n",
      "Epoch 39 Batch 0 Loss 2.3778 Accuracy 0.2544\n",
      "Epoch 39 Batch 50 Loss 2.5331 Accuracy 0.2514\n",
      "Epoch 39 Batch 100 Loss 2.5405 Accuracy 0.2546\n",
      "Epoch 39 Batch 150 Loss 2.5411 Accuracy 0.2539\n",
      "Epoch 39 Batch 200 Loss 2.5439 Accuracy 0.2545\n",
      "Epoch 39 Batch 250 Loss 2.5529 Accuracy 0.2545\n",
      "Epoch 39 Batch 300 Loss 2.5573 Accuracy 0.2550\n",
      "Epoch 39 Batch 350 Loss 2.5588 Accuracy 0.2545\n",
      "Epoch 39 Batch 400 Loss 2.5615 Accuracy 0.2545\n",
      "Epoch 39 Batch 450 Loss 2.5631 Accuracy 0.2545\n",
      "Epoch 39 Batch 500 Loss 2.5617 Accuracy 0.2548\n",
      "Epoch 39 Batch 550 Loss 2.5613 Accuracy 0.2550\n",
      "Epoch 39 Batch 600 Loss 2.5632 Accuracy 0.2548\n",
      "Epoch 39 Batch 650 Loss 2.5626 Accuracy 0.2547\n",
      "Epoch 39 Batch 700 Loss 2.5629 Accuracy 0.2546\n",
      "Epoch 39 Loss 2.5628 Accuracy 0.2546\n",
      "Time taken for 1 epoch: 38.87351059913635 secs\n",
      "\n",
      "Epoch 40 Batch 0 Loss 2.5018 Accuracy 0.2558\n",
      "Epoch 40 Batch 50 Loss 2.5013 Accuracy 0.2576\n",
      "Epoch 40 Batch 100 Loss 2.5034 Accuracy 0.2567\n",
      "Epoch 40 Batch 150 Loss 2.5068 Accuracy 0.2557\n",
      "Epoch 40 Batch 200 Loss 2.5100 Accuracy 0.2565\n",
      "Epoch 40 Batch 250 Loss 2.5146 Accuracy 0.2561\n",
      "Epoch 40 Batch 300 Loss 2.5165 Accuracy 0.2561\n",
      "Epoch 40 Batch 350 Loss 2.5196 Accuracy 0.2565\n",
      "Epoch 40 Batch 400 Loss 2.5203 Accuracy 0.2564\n",
      "Epoch 40 Batch 450 Loss 2.5227 Accuracy 0.2566\n",
      "Epoch 40 Batch 500 Loss 2.5254 Accuracy 0.2568\n",
      "Epoch 40 Batch 550 Loss 2.5245 Accuracy 0.2568\n",
      "Epoch 40 Batch 600 Loss 2.5244 Accuracy 0.2568\n",
      "Epoch 40 Batch 650 Loss 2.5233 Accuracy 0.2569\n",
      "Epoch 40 Batch 700 Loss 2.5260 Accuracy 0.2566\n",
      "Saving checkpoint for epoch 40 at ./checkpoints/train/ckpt-45\n",
      "Epoch 40 Loss 2.5257 Accuracy 0.2566\n",
      "Time taken for 1 epoch: 38.880903482437134 secs\n",
      "\n",
      "Epoch 41 Batch 0 Loss 2.5102 Accuracy 0.2563\n",
      "Epoch 41 Batch 50 Loss 2.4994 Accuracy 0.2617\n",
      "Epoch 41 Batch 100 Loss 2.4880 Accuracy 0.2587\n",
      "Epoch 41 Batch 150 Loss 2.4856 Accuracy 0.2590\n",
      "Epoch 41 Batch 200 Loss 2.4833 Accuracy 0.2593\n",
      "Epoch 41 Batch 250 Loss 2.4859 Accuracy 0.2591\n",
      "Epoch 41 Batch 300 Loss 2.4899 Accuracy 0.2592\n",
      "Epoch 41 Batch 350 Loss 2.4860 Accuracy 0.2592\n",
      "Epoch 41 Batch 400 Loss 2.4864 Accuracy 0.2594\n",
      "Epoch 41 Batch 450 Loss 2.4881 Accuracy 0.2593\n",
      "Epoch 41 Batch 500 Loss 2.4881 Accuracy 0.2595\n",
      "Epoch 41 Batch 550 Loss 2.4904 Accuracy 0.2593\n",
      "Epoch 41 Batch 600 Loss 2.4895 Accuracy 0.2593\n",
      "Epoch 41 Batch 650 Loss 2.4902 Accuracy 0.2590\n",
      "Epoch 41 Batch 700 Loss 2.4899 Accuracy 0.2588\n",
      "Epoch 41 Loss 2.4898 Accuracy 0.2588\n",
      "Time taken for 1 epoch: 38.1318256855011 secs\n",
      "\n",
      "Epoch 42 Batch 0 Loss 2.2985 Accuracy 0.2392\n",
      "Epoch 42 Batch 50 Loss 2.4524 Accuracy 0.2583\n",
      "Epoch 42 Batch 100 Loss 2.4401 Accuracy 0.2591\n",
      "Epoch 42 Batch 150 Loss 2.4363 Accuracy 0.2608\n",
      "Epoch 42 Batch 200 Loss 2.4455 Accuracy 0.2607\n",
      "Epoch 42 Batch 250 Loss 2.4481 Accuracy 0.2614\n",
      "Epoch 42 Batch 300 Loss 2.4488 Accuracy 0.2611\n",
      "Epoch 42 Batch 350 Loss 2.4491 Accuracy 0.2612\n",
      "Epoch 42 Batch 400 Loss 2.4484 Accuracy 0.2609\n",
      "Epoch 42 Batch 450 Loss 2.4476 Accuracy 0.2609\n",
      "Epoch 42 Batch 500 Loss 2.4491 Accuracy 0.2609\n",
      "Epoch 42 Batch 550 Loss 2.4511 Accuracy 0.2609\n",
      "Epoch 42 Batch 600 Loss 2.4513 Accuracy 0.2611\n",
      "Epoch 42 Batch 650 Loss 2.4527 Accuracy 0.2613\n",
      "Epoch 42 Batch 700 Loss 2.4526 Accuracy 0.2612\n",
      "Epoch 42 Loss 2.4530 Accuracy 0.2613\n",
      "Time taken for 1 epoch: 38.331194162368774 secs\n",
      "\n",
      "Epoch 43 Batch 0 Loss 2.3907 Accuracy 0.2436\n",
      "Epoch 43 Batch 50 Loss 2.3819 Accuracy 0.2649\n",
      "Epoch 43 Batch 100 Loss 2.4040 Accuracy 0.2632\n",
      "Epoch 43 Batch 150 Loss 2.4022 Accuracy 0.2623\n",
      "Epoch 43 Batch 200 Loss 2.4081 Accuracy 0.2621\n",
      "Epoch 43 Batch 250 Loss 2.4121 Accuracy 0.2626\n",
      "Epoch 43 Batch 300 Loss 2.4190 Accuracy 0.2636\n",
      "Epoch 43 Batch 350 Loss 2.4227 Accuracy 0.2634\n",
      "Epoch 43 Batch 400 Loss 2.4202 Accuracy 0.2636\n",
      "Epoch 43 Batch 450 Loss 2.4162 Accuracy 0.2636\n",
      "Epoch 43 Batch 500 Loss 2.4168 Accuracy 0.2633\n",
      "Epoch 43 Batch 550 Loss 2.4176 Accuracy 0.2632\n",
      "Epoch 43 Batch 600 Loss 2.4184 Accuracy 0.2633\n",
      "Epoch 43 Batch 650 Loss 2.4187 Accuracy 0.2637\n",
      "Epoch 43 Batch 700 Loss 2.4198 Accuracy 0.2636\n",
      "Epoch 43 Loss 2.4197 Accuracy 0.2636\n",
      "Time taken for 1 epoch: 37.97560691833496 secs\n",
      "\n",
      "Epoch 44 Batch 0 Loss 2.3099 Accuracy 0.2600\n",
      "Epoch 44 Batch 50 Loss 2.3682 Accuracy 0.2650\n",
      "Epoch 44 Batch 100 Loss 2.3654 Accuracy 0.2667\n",
      "Epoch 44 Batch 150 Loss 2.3674 Accuracy 0.2669\n",
      "Epoch 44 Batch 200 Loss 2.3689 Accuracy 0.2666\n",
      "Epoch 44 Batch 250 Loss 2.3721 Accuracy 0.2662\n",
      "Epoch 44 Batch 300 Loss 2.3740 Accuracy 0.2661\n",
      "Epoch 44 Batch 350 Loss 2.3738 Accuracy 0.2662\n",
      "Epoch 44 Batch 400 Loss 2.3754 Accuracy 0.2658\n",
      "Epoch 44 Batch 450 Loss 2.3735 Accuracy 0.2662\n",
      "Epoch 44 Batch 500 Loss 2.3741 Accuracy 0.2664\n",
      "Epoch 44 Batch 550 Loss 2.3747 Accuracy 0.2661\n",
      "Epoch 44 Batch 600 Loss 2.3783 Accuracy 0.2660\n",
      "Epoch 44 Batch 650 Loss 2.3816 Accuracy 0.2655\n",
      "Epoch 44 Batch 700 Loss 2.3835 Accuracy 0.2657\n",
      "Epoch 44 Loss 2.3839 Accuracy 0.2657\n",
      "Time taken for 1 epoch: 38.195067167282104 secs\n",
      "\n",
      "Epoch 45 Batch 0 Loss 2.3536 Accuracy 0.2652\n",
      "Epoch 45 Batch 50 Loss 2.3498 Accuracy 0.2662\n",
      "Epoch 45 Batch 100 Loss 2.3289 Accuracy 0.2670\n",
      "Epoch 45 Batch 150 Loss 2.3410 Accuracy 0.2657\n",
      "Epoch 45 Batch 200 Loss 2.3498 Accuracy 0.2658\n",
      "Epoch 45 Batch 250 Loss 2.3502 Accuracy 0.2660\n",
      "Epoch 45 Batch 300 Loss 2.3520 Accuracy 0.2668\n",
      "Epoch 45 Batch 350 Loss 2.3490 Accuracy 0.2673\n",
      "Epoch 45 Batch 400 Loss 2.3468 Accuracy 0.2680\n",
      "Epoch 45 Batch 450 Loss 2.3478 Accuracy 0.2677\n",
      "Epoch 45 Batch 500 Loss 2.3465 Accuracy 0.2678\n",
      "Epoch 45 Batch 550 Loss 2.3474 Accuracy 0.2677\n",
      "Epoch 45 Batch 600 Loss 2.3476 Accuracy 0.2682\n",
      "Epoch 45 Batch 650 Loss 2.3482 Accuracy 0.2679\n",
      "Epoch 45 Batch 700 Loss 2.3509 Accuracy 0.2679\n",
      "Saving checkpoint for epoch 45 at ./checkpoints/train/ckpt-46\n",
      "Epoch 45 Loss 2.3507 Accuracy 0.2679\n",
      "Time taken for 1 epoch: 38.27765512466431 secs\n",
      "\n",
      "Epoch 46 Batch 0 Loss 2.2835 Accuracy 0.2516\n",
      "Epoch 46 Batch 50 Loss 2.3208 Accuracy 0.2669\n",
      "Epoch 46 Batch 100 Loss 2.3119 Accuracy 0.2678\n",
      "Epoch 46 Batch 150 Loss 2.3227 Accuracy 0.2679\n",
      "Epoch 46 Batch 200 Loss 2.3194 Accuracy 0.2689\n",
      "Epoch 46 Batch 250 Loss 2.3148 Accuracy 0.2691\n",
      "Epoch 46 Batch 300 Loss 2.3187 Accuracy 0.2699\n",
      "Epoch 46 Batch 350 Loss 2.3174 Accuracy 0.2708\n",
      "Epoch 46 Batch 400 Loss 2.3182 Accuracy 0.2708\n",
      "Epoch 46 Batch 450 Loss 2.3162 Accuracy 0.2708\n",
      "Epoch 46 Batch 500 Loss 2.3187 Accuracy 0.2704\n",
      "Epoch 46 Batch 550 Loss 2.3188 Accuracy 0.2700\n"
     ]
    },
    {
     "ename": "KeyboardInterrupt",
     "evalue": "",
     "output_type": "error",
     "traceback": [
      "\u001b[0;31m---------------------------------------------------------------------------\u001b[0m",
      "\u001b[0;31mKeyboardInterrupt\u001b[0m                         Traceback (most recent call last)",
      "Cell \u001b[0;32mIn[79], line 9\u001b[0m\n\u001b[1;32m      7\u001b[0m \u001b[38;5;66;03m# inp -> portuguese, tar -> english\u001b[39;00m\n\u001b[1;32m      8\u001b[0m \u001b[38;5;28;01mfor\u001b[39;00m (batch, (inp, tar)) \u001b[38;5;129;01min\u001b[39;00m \u001b[38;5;28menumerate\u001b[39m(train_dataset):\n\u001b[0;32m----> 9\u001b[0m   \u001b[43mtrain_step\u001b[49m\u001b[43m(\u001b[49m\u001b[43minp\u001b[49m\u001b[43m,\u001b[49m\u001b[43m \u001b[49m\u001b[43mtar\u001b[49m\u001b[43m)\u001b[49m\n\u001b[1;32m     11\u001b[0m   \u001b[38;5;28;01mif\u001b[39;00m batch \u001b[38;5;241m%\u001b[39m \u001b[38;5;241m50\u001b[39m \u001b[38;5;241m==\u001b[39m \u001b[38;5;241m0\u001b[39m:\n\u001b[1;32m     12\u001b[0m     \u001b[38;5;28mprint\u001b[39m (\u001b[38;5;124m'\u001b[39m\u001b[38;5;124mEpoch \u001b[39m\u001b[38;5;132;01m{}\u001b[39;00m\u001b[38;5;124m Batch \u001b[39m\u001b[38;5;132;01m{}\u001b[39;00m\u001b[38;5;124m Loss \u001b[39m\u001b[38;5;132;01m{:.4f}\u001b[39;00m\u001b[38;5;124m Accuracy \u001b[39m\u001b[38;5;132;01m{:.4f}\u001b[39;00m\u001b[38;5;124m'\u001b[39m\u001b[38;5;241m.\u001b[39mformat(\n\u001b[1;32m     13\u001b[0m         epoch \u001b[38;5;241m+\u001b[39m \u001b[38;5;241m1\u001b[39m, batch, train_loss\u001b[38;5;241m.\u001b[39mresult(), train_accuracy\u001b[38;5;241m.\u001b[39mresult()))\n",
      "File \u001b[0;32m/scratch/user/piyalong/myenv/lib/python3.10/site-packages/tensorflow/python/util/traceback_utils.py:150\u001b[0m, in \u001b[0;36mfilter_traceback.<locals>.error_handler\u001b[0;34m(*args, **kwargs)\u001b[0m\n\u001b[1;32m    148\u001b[0m filtered_tb \u001b[38;5;241m=\u001b[39m \u001b[38;5;28;01mNone\u001b[39;00m\n\u001b[1;32m    149\u001b[0m \u001b[38;5;28;01mtry\u001b[39;00m:\n\u001b[0;32m--> 150\u001b[0m   \u001b[38;5;28;01mreturn\u001b[39;00m \u001b[43mfn\u001b[49m\u001b[43m(\u001b[49m\u001b[38;5;241;43m*\u001b[39;49m\u001b[43margs\u001b[49m\u001b[43m,\u001b[49m\u001b[43m \u001b[49m\u001b[38;5;241;43m*\u001b[39;49m\u001b[38;5;241;43m*\u001b[39;49m\u001b[43mkwargs\u001b[49m\u001b[43m)\u001b[49m\n\u001b[1;32m    151\u001b[0m \u001b[38;5;28;01mexcept\u001b[39;00m \u001b[38;5;167;01mException\u001b[39;00m \u001b[38;5;28;01mas\u001b[39;00m e:\n\u001b[1;32m    152\u001b[0m   filtered_tb \u001b[38;5;241m=\u001b[39m _process_traceback_frames(e\u001b[38;5;241m.\u001b[39m__traceback__)\n",
      "File \u001b[0;32m/scratch/user/piyalong/myenv/lib/python3.10/site-packages/tensorflow/python/eager/polymorphic_function/polymorphic_function.py:832\u001b[0m, in \u001b[0;36mFunction.__call__\u001b[0;34m(self, *args, **kwds)\u001b[0m\n\u001b[1;32m    829\u001b[0m compiler \u001b[38;5;241m=\u001b[39m \u001b[38;5;124m\"\u001b[39m\u001b[38;5;124mxla\u001b[39m\u001b[38;5;124m\"\u001b[39m \u001b[38;5;28;01mif\u001b[39;00m \u001b[38;5;28mself\u001b[39m\u001b[38;5;241m.\u001b[39m_jit_compile \u001b[38;5;28;01melse\u001b[39;00m \u001b[38;5;124m\"\u001b[39m\u001b[38;5;124mnonXla\u001b[39m\u001b[38;5;124m\"\u001b[39m\n\u001b[1;32m    831\u001b[0m \u001b[38;5;28;01mwith\u001b[39;00m OptionalXlaContext(\u001b[38;5;28mself\u001b[39m\u001b[38;5;241m.\u001b[39m_jit_compile):\n\u001b[0;32m--> 832\u001b[0m   result \u001b[38;5;241m=\u001b[39m \u001b[38;5;28;43mself\u001b[39;49m\u001b[38;5;241;43m.\u001b[39;49m\u001b[43m_call\u001b[49m\u001b[43m(\u001b[49m\u001b[38;5;241;43m*\u001b[39;49m\u001b[43margs\u001b[49m\u001b[43m,\u001b[49m\u001b[43m \u001b[49m\u001b[38;5;241;43m*\u001b[39;49m\u001b[38;5;241;43m*\u001b[39;49m\u001b[43mkwds\u001b[49m\u001b[43m)\u001b[49m\n\u001b[1;32m    834\u001b[0m new_tracing_count \u001b[38;5;241m=\u001b[39m \u001b[38;5;28mself\u001b[39m\u001b[38;5;241m.\u001b[39mexperimental_get_tracing_count()\n\u001b[1;32m    835\u001b[0m without_tracing \u001b[38;5;241m=\u001b[39m (tracing_count \u001b[38;5;241m==\u001b[39m new_tracing_count)\n",
      "File \u001b[0;32m/scratch/user/piyalong/myenv/lib/python3.10/site-packages/tensorflow/python/eager/polymorphic_function/polymorphic_function.py:868\u001b[0m, in \u001b[0;36mFunction._call\u001b[0;34m(self, *args, **kwds)\u001b[0m\n\u001b[1;32m    865\u001b[0m   \u001b[38;5;28mself\u001b[39m\u001b[38;5;241m.\u001b[39m_lock\u001b[38;5;241m.\u001b[39mrelease()\n\u001b[1;32m    866\u001b[0m   \u001b[38;5;66;03m# In this case we have created variables on the first call, so we run the\u001b[39;00m\n\u001b[1;32m    867\u001b[0m   \u001b[38;5;66;03m# defunned version which is guaranteed to never create variables.\u001b[39;00m\n\u001b[0;32m--> 868\u001b[0m   \u001b[38;5;28;01mreturn\u001b[39;00m \u001b[43mtracing_compilation\u001b[49m\u001b[38;5;241;43m.\u001b[39;49m\u001b[43mcall_function\u001b[49m\u001b[43m(\u001b[49m\n\u001b[1;32m    869\u001b[0m \u001b[43m      \u001b[49m\u001b[43margs\u001b[49m\u001b[43m,\u001b[49m\u001b[43m \u001b[49m\u001b[43mkwds\u001b[49m\u001b[43m,\u001b[49m\u001b[43m \u001b[49m\u001b[38;5;28;43mself\u001b[39;49m\u001b[38;5;241;43m.\u001b[39;49m\u001b[43m_no_variable_creation_config\u001b[49m\n\u001b[1;32m    870\u001b[0m \u001b[43m  \u001b[49m\u001b[43m)\u001b[49m\n\u001b[1;32m    871\u001b[0m \u001b[38;5;28;01melif\u001b[39;00m \u001b[38;5;28mself\u001b[39m\u001b[38;5;241m.\u001b[39m_variable_creation_config \u001b[38;5;129;01mis\u001b[39;00m \u001b[38;5;129;01mnot\u001b[39;00m \u001b[38;5;28;01mNone\u001b[39;00m:\n\u001b[1;32m    872\u001b[0m   \u001b[38;5;66;03m# Release the lock early so that multiple threads can perform the call\u001b[39;00m\n\u001b[1;32m    873\u001b[0m   \u001b[38;5;66;03m# in parallel.\u001b[39;00m\n\u001b[1;32m    874\u001b[0m   \u001b[38;5;28mself\u001b[39m\u001b[38;5;241m.\u001b[39m_lock\u001b[38;5;241m.\u001b[39mrelease()\n",
      "File \u001b[0;32m/scratch/user/piyalong/myenv/lib/python3.10/site-packages/tensorflow/python/eager/polymorphic_function/tracing_compilation.py:139\u001b[0m, in \u001b[0;36mcall_function\u001b[0;34m(args, kwargs, tracing_options)\u001b[0m\n\u001b[1;32m    137\u001b[0m bound_args \u001b[38;5;241m=\u001b[39m function\u001b[38;5;241m.\u001b[39mfunction_type\u001b[38;5;241m.\u001b[39mbind(\u001b[38;5;241m*\u001b[39margs, \u001b[38;5;241m*\u001b[39m\u001b[38;5;241m*\u001b[39mkwargs)\n\u001b[1;32m    138\u001b[0m flat_inputs \u001b[38;5;241m=\u001b[39m function\u001b[38;5;241m.\u001b[39mfunction_type\u001b[38;5;241m.\u001b[39munpack_inputs(bound_args)\n\u001b[0;32m--> 139\u001b[0m \u001b[38;5;28;01mreturn\u001b[39;00m \u001b[43mfunction\u001b[49m\u001b[38;5;241;43m.\u001b[39;49m\u001b[43m_call_flat\u001b[49m\u001b[43m(\u001b[49m\u001b[43m  \u001b[49m\u001b[38;5;66;43;03m# pylint: disable=protected-access\u001b[39;49;00m\n\u001b[1;32m    140\u001b[0m \u001b[43m    \u001b[49m\u001b[43mflat_inputs\u001b[49m\u001b[43m,\u001b[49m\u001b[43m \u001b[49m\u001b[43mcaptured_inputs\u001b[49m\u001b[38;5;241;43m=\u001b[39;49m\u001b[43mfunction\u001b[49m\u001b[38;5;241;43m.\u001b[39;49m\u001b[43mcaptured_inputs\u001b[49m\n\u001b[1;32m    141\u001b[0m \u001b[43m\u001b[49m\u001b[43m)\u001b[49m\n",
      "File \u001b[0;32m/scratch/user/piyalong/myenv/lib/python3.10/site-packages/tensorflow/python/eager/polymorphic_function/concrete_function.py:1323\u001b[0m, in \u001b[0;36mConcreteFunction._call_flat\u001b[0;34m(self, tensor_inputs, captured_inputs)\u001b[0m\n\u001b[1;32m   1319\u001b[0m possible_gradient_type \u001b[38;5;241m=\u001b[39m gradients_util\u001b[38;5;241m.\u001b[39mPossibleTapeGradientTypes(args)\n\u001b[1;32m   1320\u001b[0m \u001b[38;5;28;01mif\u001b[39;00m (possible_gradient_type \u001b[38;5;241m==\u001b[39m gradients_util\u001b[38;5;241m.\u001b[39mPOSSIBLE_GRADIENT_TYPES_NONE\n\u001b[1;32m   1321\u001b[0m     \u001b[38;5;129;01mand\u001b[39;00m executing_eagerly):\n\u001b[1;32m   1322\u001b[0m   \u001b[38;5;66;03m# No tape is watching; skip to running the function.\u001b[39;00m\n\u001b[0;32m-> 1323\u001b[0m   \u001b[38;5;28;01mreturn\u001b[39;00m \u001b[38;5;28;43mself\u001b[39;49m\u001b[38;5;241;43m.\u001b[39;49m\u001b[43m_inference_function\u001b[49m\u001b[38;5;241;43m.\u001b[39;49m\u001b[43mcall_preflattened\u001b[49m\u001b[43m(\u001b[49m\u001b[43margs\u001b[49m\u001b[43m)\u001b[49m\n\u001b[1;32m   1324\u001b[0m forward_backward \u001b[38;5;241m=\u001b[39m \u001b[38;5;28mself\u001b[39m\u001b[38;5;241m.\u001b[39m_select_forward_and_backward_functions(\n\u001b[1;32m   1325\u001b[0m     args,\n\u001b[1;32m   1326\u001b[0m     possible_gradient_type,\n\u001b[1;32m   1327\u001b[0m     executing_eagerly)\n\u001b[1;32m   1328\u001b[0m forward_function, args_with_tangents \u001b[38;5;241m=\u001b[39m forward_backward\u001b[38;5;241m.\u001b[39mforward()\n",
      "File \u001b[0;32m/scratch/user/piyalong/myenv/lib/python3.10/site-packages/tensorflow/python/eager/polymorphic_function/atomic_function.py:216\u001b[0m, in \u001b[0;36mAtomicFunction.call_preflattened\u001b[0;34m(self, args)\u001b[0m\n\u001b[1;32m    214\u001b[0m \u001b[38;5;28;01mdef\u001b[39;00m \u001b[38;5;21mcall_preflattened\u001b[39m(\u001b[38;5;28mself\u001b[39m, args: Sequence[core\u001b[38;5;241m.\u001b[39mTensor]) \u001b[38;5;241m-\u001b[39m\u001b[38;5;241m>\u001b[39m Any:\n\u001b[1;32m    215\u001b[0m   \u001b[38;5;124;03m\"\"\"Calls with flattened tensor inputs and returns the structured output.\"\"\"\u001b[39;00m\n\u001b[0;32m--> 216\u001b[0m   flat_outputs \u001b[38;5;241m=\u001b[39m \u001b[38;5;28;43mself\u001b[39;49m\u001b[38;5;241;43m.\u001b[39;49m\u001b[43mcall_flat\u001b[49m\u001b[43m(\u001b[49m\u001b[38;5;241;43m*\u001b[39;49m\u001b[43margs\u001b[49m\u001b[43m)\u001b[49m\n\u001b[1;32m    217\u001b[0m   \u001b[38;5;28;01mreturn\u001b[39;00m \u001b[38;5;28mself\u001b[39m\u001b[38;5;241m.\u001b[39mfunction_type\u001b[38;5;241m.\u001b[39mpack_output(flat_outputs)\n",
      "File \u001b[0;32m/scratch/user/piyalong/myenv/lib/python3.10/site-packages/tensorflow/python/eager/polymorphic_function/atomic_function.py:251\u001b[0m, in \u001b[0;36mAtomicFunction.call_flat\u001b[0;34m(self, *args)\u001b[0m\n\u001b[1;32m    249\u001b[0m \u001b[38;5;28;01mwith\u001b[39;00m record\u001b[38;5;241m.\u001b[39mstop_recording():\n\u001b[1;32m    250\u001b[0m   \u001b[38;5;28;01mif\u001b[39;00m \u001b[38;5;28mself\u001b[39m\u001b[38;5;241m.\u001b[39m_bound_context\u001b[38;5;241m.\u001b[39mexecuting_eagerly():\n\u001b[0;32m--> 251\u001b[0m     outputs \u001b[38;5;241m=\u001b[39m \u001b[38;5;28;43mself\u001b[39;49m\u001b[38;5;241;43m.\u001b[39;49m\u001b[43m_bound_context\u001b[49m\u001b[38;5;241;43m.\u001b[39;49m\u001b[43mcall_function\u001b[49m\u001b[43m(\u001b[49m\n\u001b[1;32m    252\u001b[0m \u001b[43m        \u001b[49m\u001b[38;5;28;43mself\u001b[39;49m\u001b[38;5;241;43m.\u001b[39;49m\u001b[43mname\u001b[49m\u001b[43m,\u001b[49m\n\u001b[1;32m    253\u001b[0m \u001b[43m        \u001b[49m\u001b[38;5;28;43mlist\u001b[39;49m\u001b[43m(\u001b[49m\u001b[43margs\u001b[49m\u001b[43m)\u001b[49m\u001b[43m,\u001b[49m\n\u001b[1;32m    254\u001b[0m \u001b[43m        \u001b[49m\u001b[38;5;28;43mlen\u001b[39;49m\u001b[43m(\u001b[49m\u001b[38;5;28;43mself\u001b[39;49m\u001b[38;5;241;43m.\u001b[39;49m\u001b[43mfunction_type\u001b[49m\u001b[38;5;241;43m.\u001b[39;49m\u001b[43mflat_outputs\u001b[49m\u001b[43m)\u001b[49m\u001b[43m,\u001b[49m\n\u001b[1;32m    255\u001b[0m \u001b[43m    \u001b[49m\u001b[43m)\u001b[49m\n\u001b[1;32m    256\u001b[0m   \u001b[38;5;28;01melse\u001b[39;00m:\n\u001b[1;32m    257\u001b[0m     outputs \u001b[38;5;241m=\u001b[39m make_call_op_in_graph(\n\u001b[1;32m    258\u001b[0m         \u001b[38;5;28mself\u001b[39m,\n\u001b[1;32m    259\u001b[0m         \u001b[38;5;28mlist\u001b[39m(args),\n\u001b[1;32m    260\u001b[0m         \u001b[38;5;28mself\u001b[39m\u001b[38;5;241m.\u001b[39m_bound_context\u001b[38;5;241m.\u001b[39mfunction_call_options\u001b[38;5;241m.\u001b[39mas_attrs(),\n\u001b[1;32m    261\u001b[0m     )\n",
      "File \u001b[0;32m/scratch/user/piyalong/myenv/lib/python3.10/site-packages/tensorflow/python/eager/context.py:1486\u001b[0m, in \u001b[0;36mContext.call_function\u001b[0;34m(self, name, tensor_inputs, num_outputs)\u001b[0m\n\u001b[1;32m   1484\u001b[0m cancellation_context \u001b[38;5;241m=\u001b[39m cancellation\u001b[38;5;241m.\u001b[39mcontext()\n\u001b[1;32m   1485\u001b[0m \u001b[38;5;28;01mif\u001b[39;00m cancellation_context \u001b[38;5;129;01mis\u001b[39;00m \u001b[38;5;28;01mNone\u001b[39;00m:\n\u001b[0;32m-> 1486\u001b[0m   outputs \u001b[38;5;241m=\u001b[39m \u001b[43mexecute\u001b[49m\u001b[38;5;241;43m.\u001b[39;49m\u001b[43mexecute\u001b[49m\u001b[43m(\u001b[49m\n\u001b[1;32m   1487\u001b[0m \u001b[43m      \u001b[49m\u001b[43mname\u001b[49m\u001b[38;5;241;43m.\u001b[39;49m\u001b[43mdecode\u001b[49m\u001b[43m(\u001b[49m\u001b[38;5;124;43m\"\u001b[39;49m\u001b[38;5;124;43mutf-8\u001b[39;49m\u001b[38;5;124;43m\"\u001b[39;49m\u001b[43m)\u001b[49m\u001b[43m,\u001b[49m\n\u001b[1;32m   1488\u001b[0m \u001b[43m      \u001b[49m\u001b[43mnum_outputs\u001b[49m\u001b[38;5;241;43m=\u001b[39;49m\u001b[43mnum_outputs\u001b[49m\u001b[43m,\u001b[49m\n\u001b[1;32m   1489\u001b[0m \u001b[43m      \u001b[49m\u001b[43minputs\u001b[49m\u001b[38;5;241;43m=\u001b[39;49m\u001b[43mtensor_inputs\u001b[49m\u001b[43m,\u001b[49m\n\u001b[1;32m   1490\u001b[0m \u001b[43m      \u001b[49m\u001b[43mattrs\u001b[49m\u001b[38;5;241;43m=\u001b[39;49m\u001b[43mattrs\u001b[49m\u001b[43m,\u001b[49m\n\u001b[1;32m   1491\u001b[0m \u001b[43m      \u001b[49m\u001b[43mctx\u001b[49m\u001b[38;5;241;43m=\u001b[39;49m\u001b[38;5;28;43mself\u001b[39;49m\u001b[43m,\u001b[49m\n\u001b[1;32m   1492\u001b[0m \u001b[43m  \u001b[49m\u001b[43m)\u001b[49m\n\u001b[1;32m   1493\u001b[0m \u001b[38;5;28;01melse\u001b[39;00m:\n\u001b[1;32m   1494\u001b[0m   outputs \u001b[38;5;241m=\u001b[39m execute\u001b[38;5;241m.\u001b[39mexecute_with_cancellation(\n\u001b[1;32m   1495\u001b[0m       name\u001b[38;5;241m.\u001b[39mdecode(\u001b[38;5;124m\"\u001b[39m\u001b[38;5;124mutf-8\u001b[39m\u001b[38;5;124m\"\u001b[39m),\n\u001b[1;32m   1496\u001b[0m       num_outputs\u001b[38;5;241m=\u001b[39mnum_outputs,\n\u001b[0;32m   (...)\u001b[0m\n\u001b[1;32m   1500\u001b[0m       cancellation_manager\u001b[38;5;241m=\u001b[39mcancellation_context,\n\u001b[1;32m   1501\u001b[0m   )\n",
      "File \u001b[0;32m/scratch/user/piyalong/myenv/lib/python3.10/site-packages/tensorflow/python/eager/execute.py:53\u001b[0m, in \u001b[0;36mquick_execute\u001b[0;34m(op_name, num_outputs, inputs, attrs, ctx, name)\u001b[0m\n\u001b[1;32m     51\u001b[0m \u001b[38;5;28;01mtry\u001b[39;00m:\n\u001b[1;32m     52\u001b[0m   ctx\u001b[38;5;241m.\u001b[39mensure_initialized()\n\u001b[0;32m---> 53\u001b[0m   tensors \u001b[38;5;241m=\u001b[39m \u001b[43mpywrap_tfe\u001b[49m\u001b[38;5;241;43m.\u001b[39;49m\u001b[43mTFE_Py_Execute\u001b[49m\u001b[43m(\u001b[49m\u001b[43mctx\u001b[49m\u001b[38;5;241;43m.\u001b[39;49m\u001b[43m_handle\u001b[49m\u001b[43m,\u001b[49m\u001b[43m \u001b[49m\u001b[43mdevice_name\u001b[49m\u001b[43m,\u001b[49m\u001b[43m \u001b[49m\u001b[43mop_name\u001b[49m\u001b[43m,\u001b[49m\n\u001b[1;32m     54\u001b[0m \u001b[43m                                      \u001b[49m\u001b[43minputs\u001b[49m\u001b[43m,\u001b[49m\u001b[43m \u001b[49m\u001b[43mattrs\u001b[49m\u001b[43m,\u001b[49m\u001b[43m \u001b[49m\u001b[43mnum_outputs\u001b[49m\u001b[43m)\u001b[49m\n\u001b[1;32m     55\u001b[0m \u001b[38;5;28;01mexcept\u001b[39;00m core\u001b[38;5;241m.\u001b[39m_NotOkStatusException \u001b[38;5;28;01mas\u001b[39;00m e:\n\u001b[1;32m     56\u001b[0m   \u001b[38;5;28;01mif\u001b[39;00m name \u001b[38;5;129;01mis\u001b[39;00m \u001b[38;5;129;01mnot\u001b[39;00m \u001b[38;5;28;01mNone\u001b[39;00m:\n",
      "\u001b[0;31mKeyboardInterrupt\u001b[0m: "
     ]
    }
   ],
   "source": [
    "for epoch in range(EPOCHS):\n",
    "  start = time.time()\n",
    "\n",
    "  train_loss.reset_states()\n",
    "  train_accuracy.reset_states()\n",
    "\n",
    "  # inp -> portuguese, tar -> english\n",
    "  for (batch, (inp, tar)) in enumerate(train_dataset):\n",
    "    train_step(inp, tar)\n",
    "\n",
    "    if batch % 50 == 0:\n",
    "      print ('Epoch {} Batch {} Loss {:.4f} Accuracy {:.4f}'.format(\n",
    "          epoch + 1, batch, train_loss.result(), train_accuracy.result()))\n",
    "\n",
    "  if (epoch + 1) % 5 == 0:\n",
    "    ckpt_save_path = ckpt_manager.save()\n",
    "    print ('Saving checkpoint for epoch {} at {}'.format(epoch+1,\n",
    "                                                         ckpt_save_path))\n",
    "\n",
    "  print ('Epoch {} Loss {:.4f} Accuracy {:.4f}'.format(epoch + 1,\n",
    "                                                train_loss.result(),\n",
    "                                                train_accuracy.result()))\n",
    "\n",
    "  print ('Time taken for 1 epoch: {} secs\\n'.format(time.time() - start))"
   ]
  },
  {
   "cell_type": "markdown",
   "metadata": {
    "id": "QfcsSWswSdGV"
   },
   "source": [
    "## Evaluate"
   ]
  },
  {
   "cell_type": "markdown",
   "metadata": {
    "id": "y6APsFrgImLW"
   },
   "source": [
    "The following steps are used for evaluation:\n",
    "\n",
    "* Encode the input sentence using the Portuguese tokenizer (`tokenizer_pt`). Moreover, add the start and end token so the input is equivalent to what the model is trained with. This is the encoder input.\n",
    "* The decoder input is the `start token == tokenizer_en.vocab_size`.\n",
    "* Calculate the padding masks and the look ahead masks.\n",
    "* The `decoder` then outputs the predictions by looking at the `encoder output` and its own output (self-attention).\n",
    "* Select the last word and calculate the argmax of that.\n",
    "* Concatentate the predicted word to the decoder input as pass it to the decoder.\n",
    "* In this approach, the decoder predicts the next word based on the previous words it predicted.\n",
    "\n",
    "Note: The model used here has less capacity to keep the example relatively faster so the predictions maybe less right. To reproduce the results in the paper, use the entire dataset and base transformer model or transformer XL, by changing the hyperparameters above."
   ]
  },
  {
   "cell_type": "code",
   "execution_count": 80,
   "metadata": {
    "id": "5buvMlnvyrFm"
   },
   "outputs": [],
   "source": [
    "def evaluate(inp_sentence):\n",
    "  start_token = [tokenizer_pt.vocab_size]\n",
    "  end_token = [tokenizer_pt.vocab_size + 1]\n",
    "\n",
    "  # inp sentence is portuguese, hence adding the start and end token\n",
    "  inp_sentence = start_token + tokenizer_pt.encode(inp_sentence) + end_token\n",
    "  encoder_input = tf.expand_dims(inp_sentence, 0)\n",
    "\n",
    "  # as the target is english, the first word to the transformer should be the\n",
    "  # english start token.\n",
    "  decoder_input = [tokenizer_en.vocab_size]\n",
    "  output = tf.expand_dims(decoder_input, 0)\n",
    "\n",
    "  for i in range(MAX_LENGTH):\n",
    "    enc_padding_mask, combined_mask, dec_padding_mask = create_masks(\n",
    "        encoder_input, output)\n",
    "\n",
    "    # predictions.shape == (batch_size, seq_len, vocab_size)\n",
    "    predictions, attention_weights = transformer(encoder_input,\n",
    "                                                 output,\n",
    "                                                 False,\n",
    "                                                 enc_padding_mask,\n",
    "                                                 combined_mask,\n",
    "                                                 dec_padding_mask)\n",
    "\n",
    "    # select the last word from the seq_len dimension\n",
    "    predictions = predictions[: ,-1:, :]  # (batch_size, 1, vocab_size)\n",
    "\n",
    "    predicted_id = tf.cast(tf.argmax(predictions, axis=-1), tf.int32)\n",
    "\n",
    "    # return the result if the predicted_id is equal to the end token\n",
    "    if predicted_id == tokenizer_en.vocab_size+1:\n",
    "      return tf.squeeze(output, axis=0), attention_weights\n",
    "\n",
    "    # concatentate the predicted_id to the output which is given to the decoder\n",
    "    # as its input.\n",
    "    output = tf.concat([output, predicted_id], axis=-1)\n",
    "\n",
    "  return tf.squeeze(output, axis=0), attention_weights"
   ]
  },
  {
   "cell_type": "code",
   "execution_count": 81,
   "metadata": {
    "id": "CN-BV43FMBej"
   },
   "outputs": [],
   "source": [
    "def plot_attention_weights(attention, sentence, result, layer):\n",
    "  fig = plt.figure(figsize=(16, 8))\n",
    "\n",
    "  sentence = tokenizer_pt.encode(sentence)\n",
    "\n",
    "  attention = tf.squeeze(attention[layer], axis=0)\n",
    "\n",
    "  for head in range(attention.shape[0]):\n",
    "    ax = fig.add_subplot(2, 4, head+1)\n",
    "\n",
    "    # plot the attention weights\n",
    "    ax.matshow(attention[head][:-1, :], cmap='viridis')\n",
    "\n",
    "    fontdict = {'fontsize': 10}\n",
    "\n",
    "    ax.set_xticks(range(len(sentence)+2))\n",
    "    ax.set_yticks(range(len(result)))\n",
    "\n",
    "    ax.set_ylim(len(result)-1.5, -0.5)\n",
    "\n",
    "    ax.set_xticklabels(\n",
    "        ['<start>']+[tokenizer_pt.decode([i]) for i in sentence]+['<end>'],\n",
    "        fontdict=fontdict, rotation=90)\n",
    "\n",
    "    ax.set_yticklabels([tokenizer_en.decode([i]) for i in result\n",
    "                        if i < tokenizer_en.vocab_size],\n",
    "                       fontdict=fontdict)\n",
    "\n",
    "    ax.set_xlabel('Head {}'.format(head+1))\n",
    "\n",
    "  plt.tight_layout()\n",
    "  plt.show()"
   ]
  },
  {
   "cell_type": "code",
   "execution_count": 82,
   "metadata": {
    "id": "lU2_yG_vBGza"
   },
   "outputs": [],
   "source": [
    "def translate(sentence, plot=''):\n",
    "  result, attention_weights = evaluate(sentence)\n",
    "\n",
    "  predicted_sentence = tokenizer_en.decode([i for i in result\n",
    "                                            if i < tokenizer_en.vocab_size])\n",
    "\n",
    "  print('Input: {}'.format(sentence))\n",
    "  print('Predicted translation: {}'.format(predicted_sentence))\n",
    "\n",
    "  if plot:\n",
    "    plot_attention_weights(attention_weights, sentence, result, plot)"
   ]
  },
  {
   "cell_type": "code",
   "execution_count": 83,
   "metadata": {
    "colab": {
     "base_uri": "https://localhost:8080/"
    },
    "id": "YsxrAlvFG8SZ",
    "outputId": "0fb2b4e6-9d76-4879-d65b-f90936cb8b6a"
   },
   "outputs": [
    {
     "name": "stdout",
     "output_type": "stream",
     "text": [
      "Input: este é um problema que temos que resolver.\n",
      "Predicted translation: this is a problem that we have to solve a u.s .\n",
      "Real translation: this is a problem we have to solve .\n"
     ]
    }
   ],
   "source": [
    "translate(\"este é um problema que temos que resolver.\")\n",
    "print (\"Real translation: this is a problem we have to solve .\")"
   ]
  },
  {
   "cell_type": "code",
   "execution_count": 84,
   "metadata": {
    "colab": {
     "base_uri": "https://localhost:8080/"
    },
    "id": "7EH5y_aqI4t1",
    "outputId": "5e620881-150f-4c4b-c8ec-d169d1dedbe9"
   },
   "outputs": [
    {
     "name": "stdout",
     "output_type": "stream",
     "text": [
      "Input: os meus vizinhos ouviram sobre esta ideia.\n",
      "Predicted translation: my neighbors heard about this idea .\n",
      "Real translation: and my neighboring homes heard about this idea .\n"
     ]
    }
   ],
   "source": [
    "translate(\"os meus vizinhos ouviram sobre esta ideia.\")\n",
    "print (\"Real translation: and my neighboring homes heard about this idea .\")"
   ]
  },
  {
   "cell_type": "code",
   "execution_count": 85,
   "metadata": {
    "colab": {
     "base_uri": "https://localhost:8080/"
    },
    "id": "J-hVCTSUMlkb",
    "outputId": "c0edea95-7ab0-4224-844e-d7e5f917225b"
   },
   "outputs": [
    {
     "name": "stdout",
     "output_type": "stream",
     "text": [
      "Input: vou então muito rapidamente partilhar convosco algumas histórias de algumas coisas mágicas que aconteceram.\n",
      "Predicted translation: so i will have a lot of sharing some stories of a little bit of the beautiful things that happened .\n",
      "Real translation: so i 'll just share with you some stories very quickly of some magical things that have happened .\n"
     ]
    }
   ],
   "source": [
    "translate(\"vou então muito rapidamente partilhar convosco algumas histórias de algumas coisas mágicas que aconteceram.\")\n",
    "print (\"Real translation: so i 'll just share with you some stories very quickly of some magical things that have happened .\")"
   ]
  },
  {
   "cell_type": "markdown",
   "metadata": {
    "id": "_1MxkSZvz0jX"
   },
   "source": [
    "You can pass different layers and attention blocks of the decoder to the `plot` parameter."
   ]
  },
  {
   "cell_type": "code",
   "execution_count": 86,
   "metadata": {
    "colab": {
     "base_uri": "https://localhost:8080/"
    },
    "id": "t-kFyiOLH0xg",
    "outputId": "961c2a7d-4dc9-4935-e836-90e463f98d4d"
   },
   "outputs": [
    {
     "name": "stdout",
     "output_type": "stream",
     "text": [
      "Input: este é o primeiro livro que eu fiz.\n",
      "Predicted translation: this is the first book that i did we do .\n",
      "Real translation: this is the first book i've ever done.\n"
     ]
    }
   ],
   "source": [
    "translate(\"este é o primeiro livro que eu fiz.\")\n",
    "print (\"Real translation: this is the first book i've ever done.\")"
   ]
  },
  {
   "cell_type": "markdown",
   "metadata": {
    "id": "RqQ1fIsLwkGE"
   },
   "source": [
    "## Summary\n",
    "\n",
    "In this tutorial, you learned about positional encoding, multi-head attention, the importance of masking and how to create a transformer.\n",
    "\n",
    "Try using a different dataset to train the transformer. You can also create the base transformer or transformer XL by changing the hyperparameters above. You can also use the layers defined here to create [BERT](https://arxiv.org/abs/1810.04805) and train state of the art models. Futhermore, you can implement beam search to get better predictions."
   ]
  },
  {
   "cell_type": "code",
   "execution_count": null,
   "metadata": {},
   "outputs": [],
   "source": []
  }
 ],
 "metadata": {
  "accelerator": "GPU",
  "colab": {
   "collapsed_sections": [
    "s_qNSzzyaCbD"
   ],
   "gpuType": "T4",
   "provenance": []
  },
  "kernelspec": {
   "display_name": "Python 3 (ipykernel)",
   "language": "python",
   "name": "python3"
  },
  "language_info": {
   "codemirror_mode": {
    "name": "ipython",
    "version": 3
   },
   "file_extension": ".py",
   "mimetype": "text/x-python",
   "name": "python",
   "nbconvert_exporter": "python",
   "pygments_lexer": "ipython3",
   "version": "3.10.4"
  }
 },
 "nbformat": 4,
 "nbformat_minor": 4
}
