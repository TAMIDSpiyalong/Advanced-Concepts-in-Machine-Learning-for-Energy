{
  "cells": [
    {
      "cell_type": "markdown",
      "metadata": {
        "id": "view-in-github",
        "colab_type": "text"
      },
      "source": [
        "<a href=\"https://colab.research.google.com/github/TAMIDSpiyalong/Introduction-to-Machine-Learning-for-Energy/blob/main/quiz.ipynb\" target=\"_parent\"><img src=\"https://colab.research.google.com/assets/colab-badge.svg\" alt=\"Open In Colab\"/></a>"
      ]
    },
    {
      "cell_type": "code",
      "execution_count": null,
      "id": "b1fa67ae-b0de-41cd-af43-356e89429096",
      "metadata": {
        "id": "b1fa67ae-b0de-41cd-af43-356e89429096"
      },
      "outputs": [],
      "source": [
        "import numpy as np"
      ]
    },
    {
      "cell_type": "markdown",
      "id": "51e0c9a3-69a7-4561-9f82-c12bb2c9390b",
      "metadata": {
        "id": "51e0c9a3-69a7-4561-9f82-c12bb2c9390b"
      },
      "source": [
        "# Metric\n",
        "\n",
        "$\\text{Precision} = \\frac{\\text{True Positives}}{\\text{True Positives} + \\text{False Positives}}\n",
        "$\n",
        "\n",
        "$\\text{Recall} = \\frac{\\text{True Positives}}{\\text{True Positives} + \\text{False Negatives}}\n",
        "$"
      ]
    },
    {
      "cell_type": "code",
      "execution_count": null,
      "id": "df498495-61d5-4c60-a410-0021e221a7fa",
      "metadata": {
        "colab": {
          "base_uri": "https://localhost:8080/"
        },
        "id": "df498495-61d5-4c60-a410-0021e221a7fa",
        "outputId": "704001be-2a76-4827-fa5c-1b779d3452c8"
      },
      "outputs": [
        {
          "output_type": "stream",
          "name": "stdout",
          "text": [
            "Precision: 0.7142857142755102\n",
            "Recall: 0.8333333333194445\n"
          ]
        }
      ],
      "source": [
        "def precision_recall(y_true, y_pred):\n",
        "    \"\"\"\n",
        "    Compute precision and recall given true labels and predicted labels.\n",
        "\n",
        "    Arguments:\n",
        "    y_true -- 1-D numpy array of true labels (binary: 0 or 1)\n",
        "    y_pred -- 1-D numpy array of predicted labels (binary: 0 or 1)\n",
        "\n",
        "    Returns:\n",
        "    precision -- Precision score\n",
        "    recall -- Recall score\n",
        "    \"\"\"\n",
        "    true_positives = np.sum((y_true == 1) & (y_pred == 1))\n",
        "    false_positives = np.sum((y_true == 0) & (y_pred == 1))\n",
        "    false_negatives = np.sum((y_true == 1) & (y_pred == 0))\n",
        "\n",
        "    precision = true_positives / (true_positives + false_positives + 1e-10)  # Adding a small epsilon to avoid division by zero\n",
        "    recall = true_positives / (true_positives + false_negatives + 1e-10)\n",
        "\n",
        "    return precision, recall\n",
        "\n",
        "# Example usage:\n",
        "\n",
        "\n",
        "# Generate example true labels and predicted labels\n",
        "y_true = np.array([1, 0, 1, 1, 0, 1, 0, 0, 1, 1])\n",
        "y_pred = np.array([1, 1, 1, 1, 0, 1, 0, 1, 1, 0])\n",
        "\n",
        "precision, recall = precision_recall(y_true, y_pred)\n",
        "print(\"Precision:\", precision)\n",
        "print(\"Recall:\", recall)\n"
      ]
    },
    {
      "cell_type": "markdown",
      "id": "e46ed957-0cff-4cd5-8da0-87366ecb60f3",
      "metadata": {
        "id": "e46ed957-0cff-4cd5-8da0-87366ecb60f3"
      },
      "source": [
        "# Cosine similarity\n",
        "\n",
        "$\\text{cosine_similarity}(\\mathbf{a}, \\mathbf{b}) = \\frac{\\mathbf{a} \\cdot \\mathbf{b}}{\\|\\mathbf{a}\\| \\|\\mathbf{b}\\|}\n",
        "$"
      ]
    },
    {
      "cell_type": "code",
      "execution_count": null,
      "id": "a723fcf0-b2d0-4fa8-9acc-8b5987150f31",
      "metadata": {
        "colab": {
          "base_uri": "https://localhost:8080/"
        },
        "id": "a723fcf0-b2d0-4fa8-9acc-8b5987150f31",
        "outputId": "3bafe041-5f46-4f33-8033-ae1e940e59b8"
      },
      "outputs": [
        {
          "output_type": "stream",
          "name": "stdout",
          "text": [
            "Cosine similarity between vector1 and vector2: 0.9746318461970762\n"
          ]
        }
      ],
      "source": [
        "import numpy as np\n",
        "\n",
        "def cosine_similarity(a, b):\n",
        "    \"\"\"\n",
        "    Compute cosine similarity between vectors a and b.\n",
        "\n",
        "    Arguments:\n",
        "    a, b -- 1-D numpy arrays\n",
        "\n",
        "    Returns:\n",
        "    cosine_sim -- Cosine similarity between a and b\n",
        "    \"\"\"\n",
        "    dot_product = np.dot(a, b)\n",
        "    norm_a = np.linalg.norm(a)\n",
        "    norm_b = np.linalg.norm(b)\n",
        "    cosine_sim = dot_product / (norm_a * norm_b)\n",
        "    return cosine_sim\n",
        "\n",
        "# Example usage:\n",
        "vector1 = np.array([1, 2, 3])\n",
        "vector2 = np.array([4, 5, 6])\n",
        "print(\"Cosine similarity between vector1 and vector2:\", cosine_similarity(vector1, vector2))\n"
      ]
    },
    {
      "cell_type": "code",
      "source": [
        "np.linalg.norm([2,3,1]),np.linalg.norm([1,2,0])"
      ],
      "metadata": {
        "id": "XUvQdbzpkvMo",
        "outputId": "15d86037-58d9-47c8-d058-25905c2bb40d",
        "colab": {
          "base_uri": "https://localhost:8080/"
        }
      },
      "id": "XUvQdbzpkvMo",
      "execution_count": null,
      "outputs": [
        {
          "output_type": "execute_result",
          "data": {
            "text/plain": [
              "(3.7416573867739413, 2.23606797749979)"
            ]
          },
          "metadata": {},
          "execution_count": 35
        }
      ]
    },
    {
      "cell_type": "code",
      "source": [
        "(14**0.5)*(5**0.5)"
      ],
      "metadata": {
        "id": "8ROAwONWkyxt",
        "outputId": "690b1e02-5dba-44ed-f2b8-2a09a0808890",
        "colab": {
          "base_uri": "https://localhost:8080/"
        }
      },
      "id": "8ROAwONWkyxt",
      "execution_count": null,
      "outputs": [
        {
          "output_type": "execute_result",
          "data": {
            "text/plain": [
              "8.366600265340756"
            ]
          },
          "metadata": {},
          "execution_count": 37
        }
      ]
    },
    {
      "cell_type": "code",
      "source": [
        "8/8.366600265340756"
      ],
      "metadata": {
        "id": "hDldyd25lRaZ",
        "outputId": "ed214d02-b9a6-4abe-b388-ff696dc22ccc",
        "colab": {
          "base_uri": "https://localhost:8080/"
        }
      },
      "id": "hDldyd25lRaZ",
      "execution_count": null,
      "outputs": [
        {
          "output_type": "execute_result",
          "data": {
            "text/plain": [
              "0.9561828874675149"
            ]
          },
          "metadata": {},
          "execution_count": 31
        }
      ]
    },
    {
      "cell_type": "code",
      "source": [
        "cosine_similarity([2,3,1], [1,2,0])"
      ],
      "metadata": {
        "id": "IiI1N7TIlRdd",
        "outputId": "b19b63a8-5ba9-4cdf-a784-eb5102b390b0",
        "colab": {
          "base_uri": "https://localhost:8080/"
        }
      },
      "id": "IiI1N7TIlRdd",
      "execution_count": null,
      "outputs": [
        {
          "output_type": "execute_result",
          "data": {
            "text/plain": [
              "0.9561828874675149"
            ]
          },
          "metadata": {},
          "execution_count": 38
        }
      ]
    },
    {
      "cell_type": "code",
      "source": [
        "from sklearn.metrics.pairwise import cosine_similarity\n",
        "import numpy as np\n",
        "\n",
        "# Define two vectors\n",
        "vector_a = np.array([2, 3, 1]).reshape(1, -1)  # Reshape to ensure it's a row vector\n",
        "vector_b = np.array([1, 2, 0]).reshape(1, -1)  # Reshape to ensure it's a row vector\n",
        "\n",
        "# Compute cosine similarity\n",
        "cosine_sim = cosine_similarity(vector_a, vector_b)\n",
        "\n",
        "print(\"Cosine Similarity:\", cosine_sim[0][0])\n"
      ],
      "metadata": {
        "id": "iG_uWN6OlRgl",
        "outputId": "14e8a38d-5b84-4a92-ccf7-b37c3c344d56",
        "colab": {
          "base_uri": "https://localhost:8080/"
        }
      },
      "id": "iG_uWN6OlRgl",
      "execution_count": null,
      "outputs": [
        {
          "output_type": "stream",
          "name": "stdout",
          "text": [
            "Cosine Similarity: 0.9561828874675149\n"
          ]
        }
      ]
    },
    {
      "cell_type": "code",
      "source": [],
      "metadata": {
        "id": "iORHWpHClRjB"
      },
      "id": "iORHWpHClRjB",
      "execution_count": null,
      "outputs": []
    },
    {
      "cell_type": "markdown",
      "id": "5fc17f1c-6f86-4904-a523-ce90991983db",
      "metadata": {
        "id": "5fc17f1c-6f86-4904-a523-ce90991983db"
      },
      "source": [
        "# Softmax\n",
        "\n",
        "$\\text{softmax}(x_i) = \\frac{e^{x_i}}{\\sum_{j=1}^{N} e^{x_j}}$\n"
      ]
    },
    {
      "cell_type": "code",
      "execution_count": 1,
      "id": "b63b7783-bd59-4ebf-913e-178eb693a439",
      "metadata": {
        "colab": {
          "base_uri": "https://localhost:8080/"
        },
        "id": "b63b7783-bd59-4ebf-913e-178eb693a439",
        "outputId": "6fb7dc7f-86a8-418f-9747-cbcc496369de"
      },
      "outputs": [
        {
          "output_type": "stream",
          "name": "stdout",
          "text": [
            "[0.65223985 0.23994563 0.10781452]\n"
          ]
        }
      ],
      "source": [
        "import numpy as np\n",
        "\n",
        "def softmax(x):\n",
        "    \"\"\"\n",
        "    Compute softmax values for each sets of scores in x.\n",
        "\n",
        "    Arguments:\n",
        "    x -- A numpy array of any shape\n",
        "\n",
        "    Returns:\n",
        "    s -- A numpy array of the same shape as x, containing softmax values\n",
        "    \"\"\"\n",
        "    # e_x = np.exp(x - np.max(x))  # Subtracting the maximum value for numerical stability\n",
        "    e_x = np.exp(x)  # Subtracting the maximum value for numerical stability\n",
        "\n",
        "    return e_x / e_x.sum(axis=0)\n",
        "\n",
        "# Example usage:\n",
        "scores = np.array([2, 1.0, 0.2])\n",
        "print(softmax(scores))\n"
      ]
    },
    {
      "cell_type": "code",
      "source": [
        "input=[1.3,5.1,2.2,0.7,1.1]\n",
        "\n",
        "total = 0\n",
        "\n",
        "for i in input:\n",
        "  total=total+np.exp(i)\n",
        "print(total)\n",
        "for each in input:\n",
        "  print(np.exp(each)/total)"
      ],
      "metadata": {
        "id": "hnHWUU_hDIrr",
        "outputId": "4db44fc5-bd36-4e8a-be6b-e2a5ffc06e56",
        "colab": {
          "base_uri": "https://localhost:8080/"
        }
      },
      "id": "hnHWUU_hDIrr",
      "execution_count": 2,
      "outputs": [
        {
          "output_type": "stream",
          "name": "stdout",
          "text": [
            "181.73413619837197\n",
            "0.020190464732580685\n",
            "0.9025376890165726\n",
            "0.04966052987196013\n",
            "0.011080761983386346\n",
            "0.01653055439550022\n"
          ]
        }
      ]
    },
    {
      "cell_type": "markdown",
      "id": "1d04d124-d743-456c-bcea-9a1a4c8ffb9d",
      "metadata": {
        "id": "1d04d124-d743-456c-bcea-9a1a4c8ffb9d"
      },
      "source": [
        "# MSE"
      ]
    },
    {
      "cell_type": "code",
      "execution_count": null,
      "id": "bfa93fd9-08c8-4bbd-b2e6-46fcd480d6fe",
      "metadata": {
        "colab": {
          "base_uri": "https://localhost:8080/"
        },
        "id": "bfa93fd9-08c8-4bbd-b2e6-46fcd480d6fe",
        "outputId": "2af9315a-b87b-43bd-b99c-2b6379c8bbca"
      },
      "outputs": [
        {
          "output_type": "stream",
          "name": "stdout",
          "text": [
            "Mean Squared Error: 0.12799999999999995\n"
          ]
        }
      ],
      "source": [
        "import numpy as np\n",
        "\n",
        "def mean_squared_error(y_true, y_pred):\n",
        "    \"\"\"\n",
        "    Compute the mean squared error between the true values and the predicted values.\n",
        "\n",
        "    Arguments:\n",
        "    y_true -- 1-D numpy array of true values\n",
        "    y_pred -- 1-D numpy array of predicted values\n",
        "\n",
        "    Returns:\n",
        "    mse -- Mean squared error between y_true and y_pred\n",
        "    \"\"\"\n",
        "    mse = np.mean((y_true - y_pred)**2)\n",
        "    return mse\n",
        "\n",
        "# Example usage:\n",
        "true_values = np.array([1, 2, 3, 4, 5])\n",
        "predicted_values = np.array([1.5, 2.5, 3.2, 4.1, 5.3])\n",
        "print(\"Mean Squared Error:\", mean_squared_error(true_values, predicted_values))\n"
      ]
    },
    {
      "cell_type": "markdown",
      "id": "0e71d9d6-f3bf-4948-a6e6-bea9a231f7bf",
      "metadata": {
        "id": "0e71d9d6-f3bf-4948-a6e6-bea9a231f7bf"
      },
      "source": [
        "# BCE"
      ]
    },
    {
      "cell_type": "markdown",
      "source": [
        "$BCE(l, p) = -\\frac{1}{N} \\sum_{i=1}^{N} l_i \\ln(p_i) + (1 - l_i) \\ln(1 - p_i)\n",
        "$\n"
      ],
      "metadata": {
        "id": "RftfmL-RCzh6"
      },
      "id": "RftfmL-RCzh6"
    },
    {
      "cell_type": "code",
      "execution_count": 122,
      "id": "1bc63449-b1b9-422a-bb4d-e55c11d0bc98",
      "metadata": {
        "colab": {
          "base_uri": "https://localhost:8080/",
          "height": 564
        },
        "id": "1bc63449-b1b9-422a-bb4d-e55c11d0bc98",
        "outputId": "7011a248-45e9-476e-ecf2-c69607dd1558"
      },
      "outputs": [
        {
          "output_type": "display_data",
          "data": {
            "text/plain": [
              "<Figure size 800x600 with 1 Axes>"
            ],
            "image/png": "[encoded data removed]"
          },
          "metadata": {}
        }
      ],
      "source": [
        "import numpy as np\n",
        "import matplotlib.pyplot as plt\n",
        "\n",
        "def binary_cross_entropy(p, y):\n",
        "    \"\"\"\n",
        "    Compute the binary cross-entropy loss between the true labels and the predicted probabilities.\n",
        "\n",
        "    Arguments:\n",
        "    p -- Predicted probability (scalar or numpy array)\n",
        "    y -- True label (0 or 1)\n",
        "\n",
        "    Returns:\n",
        "    bce -- Binary cross-entropy loss\n",
        "    \"\"\"\n",
        "    epsilon = 1e-15  # to avoid log(0) which is undefined\n",
        "    p = np.clip(p, epsilon, 1 - epsilon)  # clip probabilities to avoid log(0)\n",
        "    bce = - (y * np.log(p) + (1 - y) * np.log(1 - p))\n",
        "    return bce\n",
        "\n",
        "# Generate predicted probabilities in the range [0, 1]\n",
        "predicted_probabilities = np.linspace(0.01, 0.99, 100)\n",
        "\n",
        "# True labels (binary)\n",
        "true_labels_0 = np.zeros_like(predicted_probabilities)\n",
        "true_labels_1 = np.ones_like(predicted_probabilities)\n",
        "\n",
        "# Compute binary cross-entropy loss for true label 0\n",
        "bce_losses_0 = binary_cross_entropy(predicted_probabilities, true_labels_0)\n",
        "\n",
        "# Compute binary cross-entropy loss for true label 1\n",
        "bce_losses_1 = binary_cross_entropy(predicted_probabilities, true_labels_1)\n",
        "\n",
        "# Plotting the binary cross-entropy losses\n",
        "plt.figure(figsize=(8, 6))\n",
        "plt.plot(predicted_probabilities, bce_losses_0, label='True Label 0', color='blue')\n",
        "plt.plot(predicted_probabilities, bce_losses_1, label='True Label 1', color='red')\n",
        "plt.title('Binary Cross-Entropy Loss for True Labels 0 and 1')\n",
        "plt.xlabel('Predicted Probability')\n",
        "plt.ylabel('Binary Cross-Entropy Loss')\n",
        "plt.grid(True)\n",
        "plt.legend()\n",
        "plt.show()\n"
      ]
    },
    {
      "cell_type": "code",
      "source": [
        "true_labels_1"
      ],
      "metadata": {
        "colab": {
          "base_uri": "https://localhost:8080/"
        },
        "id": "OKflpO-2Al5L",
        "outputId": "0c0d6a37-9261-4ae6-9c10-dea25f184767"
      },
      "id": "OKflpO-2Al5L",
      "execution_count": null,
      "outputs": [
        {
          "output_type": "execute_result",
          "data": {
            "text/plain": [
              "array([1., 1., 1., 1., 1., 1., 1., 1., 1., 1., 1., 1., 1., 1., 1., 1., 1.,\n",
              "       1., 1., 1., 1., 1., 1., 1., 1., 1., 1., 1., 1., 1., 1., 1., 1., 1.,\n",
              "       1., 1., 1., 1., 1., 1., 1., 1., 1., 1., 1., 1., 1., 1., 1., 1., 1.,\n",
              "       1., 1., 1., 1., 1., 1., 1., 1., 1., 1., 1., 1., 1., 1., 1., 1., 1.,\n",
              "       1., 1., 1., 1., 1., 1., 1., 1., 1., 1., 1., 1., 1., 1., 1., 1., 1.,\n",
              "       1., 1., 1., 1., 1., 1., 1., 1., 1., 1., 1., 1., 1., 1., 1.])"
            ]
          },
          "metadata": {},
          "execution_count": 7
        }
      ]
    },
    {
      "cell_type": "code",
      "execution_count": null,
      "id": "e3148a24-6621-42c5-b911-e5d692c66b69",
      "metadata": {
        "colab": {
          "base_uri": "https://localhost:8080/"
        },
        "id": "e3148a24-6621-42c5-b911-e5d692c66b69",
        "outputId": "5bd7afaa-58ee-4a55-b84d-d1dc2852b157"
      },
      "outputs": [
        {
          "output_type": "execute_result",
          "data": {
            "text/plain": [
              "0.6657381381750814"
            ]
          },
          "metadata": {},
          "execution_count": 8
        }
      ],
      "source": [
        "predicted_probs = np.array([0.2, 0.3, 0.1, 0.2, 0.2])\n",
        "\n",
        "true_labels_one_hot = np.array([0., 0., 1., 0., 0.])\n",
        "\n",
        "bce=[]\n",
        "\n",
        "for i in range(len(true_labels_one_hot)):\n",
        "\n",
        "    ce=true_labels_one_hot[i]*np.log(predicted_probs[i])+(1-true_labels_one_hot[i])*np.log((1-predicted_probs[i]))\n",
        "    bce.append(-ce)\n",
        "np.mean(bce)"
      ]
    },
    {
      "cell_type": "code",
      "execution_count": null,
      "id": "4f1300c6-c255-4dbe-b367-8765efd5522b",
      "metadata": {
        "colab": {
          "base_uri": "https://localhost:8080/"
        },
        "id": "4f1300c6-c255-4dbe-b367-8765efd5522b",
        "outputId": "16786447-9840-4cf6-c086-e8cb2b7e09c4"
      },
      "outputs": [
        {
          "output_type": "execute_result",
          "data": {
            "text/plain": [
              "array([0.22314355, 0.35667494, 2.30258509, 0.22314355, 0.22314355])"
            ]
          },
          "metadata": {},
          "execution_count": 9
        }
      ],
      "source": [
        "bce_list = binary_cross_entropy(predicted_probs,true_labels_one_hot)\n",
        "\n",
        "bce_list"
      ]
    },
    {
      "cell_type": "code",
      "source": [
        "np.mean(bce_list)"
      ],
      "metadata": {
        "colab": {
          "base_uri": "https://localhost:8080/"
        },
        "id": "XpoybGDlCCgg",
        "outputId": "9e24a48c-c7a0-4afa-e853-44d9cd6c876b"
      },
      "id": "XpoybGDlCCgg",
      "execution_count": null,
      "outputs": [
        {
          "output_type": "execute_result",
          "data": {
            "text/plain": [
              "0.6657381381750814"
            ]
          },
          "metadata": {},
          "execution_count": 10
        }
      ]
    },
    {
      "cell_type": "code",
      "source": [
        "import tensorflow.keras as  keras\n",
        "loss = keras.losses.binary_crossentropy(true_labels_one_hot, predicted_probs)\n",
        "loss"
      ],
      "metadata": {
        "colab": {
          "base_uri": "https://localhost:8080/"
        },
        "id": "AGSZlK76AyLC",
        "outputId": "ebf72033-aa36-4ea1-cf94-f8dc16e12cce"
      },
      "id": "AGSZlK76AyLC",
      "execution_count": null,
      "outputs": [
        {
          "output_type": "execute_result",
          "data": {
            "text/plain": [
              "<tf.Tensor: shape=(), dtype=float64, numpy=0.6657378346037596>"
            ]
          },
          "metadata": {},
          "execution_count": 11
        }
      ]
    },
    {
      "cell_type": "code",
      "source": [
        "np.log(np.exp(1))"
      ],
      "metadata": {
        "colab": {
          "base_uri": "https://localhost:8080/"
        },
        "id": "fFFnJnDjCnnB",
        "outputId": "1f0cab0e-c41d-4c07-fe4d-3180bfc8f344"
      },
      "id": "fFFnJnDjCnnB",
      "execution_count": null,
      "outputs": [
        {
          "output_type": "execute_result",
          "data": {
            "text/plain": [
              "1.0"
            ]
          },
          "metadata": {},
          "execution_count": 12
        }
      ]
    },
    {
      "cell_type": "code",
      "source": [
        "import torch\n",
        "import torch.nn as nn\n",
        "\n",
        "input_tensor = torch.tensor([0.2, 0.3, 0.1, 0.2, 0.2])\n",
        "target_tensor = torch.tensor([0., 0., 1., 0., 0.])\n",
        "\n",
        "# Define the Binary Cross-Entropy loss function\n",
        "criterion = nn.BCELoss()\n",
        "\n",
        "# Compute the loss\n",
        "loss = criterion(input_tensor, target_tensor)\n",
        "\n",
        "print(\"Binary Cross-Entropy Loss:\", loss.item())\n"
      ],
      "metadata": {
        "colab": {
          "base_uri": "https://localhost:8080/"
        },
        "id": "dgGkcczQNbIG",
        "outputId": "b983f8d2-da56-4127-cbce-642c84ec1dab"
      },
      "id": "dgGkcczQNbIG",
      "execution_count": null,
      "outputs": [
        {
          "output_type": "stream",
          "name": "stdout",
          "text": [
            "Binary Cross-Entropy Loss: 0.6657381653785706\n"
          ]
        }
      ]
    },
    {
      "cell_type": "markdown",
      "id": "0b6c4791-93b4-40a8-8aee-4c45efeb7932",
      "metadata": {
        "id": "0b6c4791-93b4-40a8-8aee-4c45efeb7932"
      },
      "source": [
        "# Attention"
      ]
    },
    {
      "cell_type": "code",
      "execution_count": null,
      "id": "186ab75d-80da-4436-b249-d5953134dc3d",
      "metadata": {
        "id": "186ab75d-80da-4436-b249-d5953134dc3d",
        "outputId": "43d529da-e418-479d-95ac-be5fc801ce5e",
        "colab": {
          "base_uri": "https://localhost:8080/"
        }
      },
      "outputs": [
        {
          "output_type": "stream",
          "name": "stdout",
          "text": [
            "Attention matrix:\n",
            "[[1.4 3.2]\n",
            " [3.2 7.7]]\n"
          ]
        }
      ],
      "source": [
        "import numpy as np\n",
        "\n",
        "def attention_matrix(Q, K):\n",
        "    \"\"\"\n",
        "    Compute the attention matrix between query vectors (Q) and key vectors (K).\n",
        "\n",
        "    Arguments:\n",
        "    Q -- 2-D numpy array of query vectors with shape (m, n_q)\n",
        "    K -- 2-D numpy array of key vectors with shape (m, n_k)\n",
        "\n",
        "    Returns:\n",
        "    A -- Attention matrix with shape (n_q, n_k)\n",
        "    \"\"\"\n",
        "    A = np.dot(Q, K.T)\n",
        "    return A\n",
        "\n",
        "# Example usage:\n",
        "Q = np.array([[1, 2, 3],\n",
        "              [4, 5, 6]])\n",
        "K = np.array([[0.1, 0.2, 0.3],\n",
        "              [0.4, 0.5, 0.6]])\n",
        "A = attention_matrix(Q, K)\n",
        "print(\"Attention matrix:\")\n",
        "print(A)\n"
      ]
    },
    {
      "cell_type": "markdown",
      "id": "3ecf86dd-08a0-474d-93f0-2c88062b7f99",
      "metadata": {
        "id": "3ecf86dd-08a0-474d-93f0-2c88062b7f99"
      },
      "source": [
        "# Relu"
      ]
    },
    {
      "cell_type": "code",
      "execution_count": null,
      "id": "063c8e24-f8b9-4948-82c8-dabf8a7010b7",
      "metadata": {
        "id": "063c8e24-f8b9-4948-82c8-dabf8a7010b7",
        "outputId": "512d6ba0-5b3f-4090-c83e-214877cc0658",
        "colab": {
          "base_uri": "https://localhost:8080/"
        }
      },
      "outputs": [
        {
          "output_type": "stream",
          "name": "stdout",
          "text": [
            "ReLU output: [0 0 1 2 0]\n"
          ]
        }
      ],
      "source": [
        "import numpy as np\n",
        "\n",
        "def relu(x):\n",
        "    \"\"\"\n",
        "    Rectified Linear Unit (ReLU) activation function.\n",
        "\n",
        "    Arguments:\n",
        "    x -- Input value or numpy array\n",
        "\n",
        "    Returns:\n",
        "    result -- ReLU activation applied to x\n",
        "    \"\"\"\n",
        "    return np.maximum(0, x)\n",
        "\n",
        "# Example usage:\n",
        "x = np.array([-1, 0, 1, 2, -2])\n",
        "print(\"ReLU output:\", relu(x))\n"
      ]
    },
    {
      "cell_type": "markdown",
      "source": [
        "# KL divergence"
      ],
      "metadata": {
        "id": "S9dip5BJHQ7V"
      },
      "id": "S9dip5BJHQ7V"
    },
    {
      "cell_type": "code",
      "execution_count": null,
      "id": "d7661e7e-8beb-4f98-8b05-88a87576be77",
      "metadata": {
        "id": "d7661e7e-8beb-4f98-8b05-88a87576be77",
        "outputId": "32b52173-44f3-4c8a-c677-80020c3ea144",
        "colab": {
          "base_uri": "https://localhost:8080/"
        }
      },
      "outputs": [
        {
          "output_type": "stream",
          "name": "stdout",
          "text": [
            "KL divergence from Q to P: 0.4564348191467835\n"
          ]
        }
      ],
      "source": [
        "import numpy as np\n",
        "\n",
        "# Define the probability distributions P and Q\n",
        "P = np.array([0.4, 0.3, 0.2, 0.1])\n",
        "Q = np.array([0.1, 0.2, 0.3, 0.4])\n",
        "\n",
        "# Compute the KL divergence from Q to P\n",
        "KL_divergence = np.sum(P * np.log(P / Q))\n",
        "\n",
        "print(\"KL divergence from Q to P:\", KL_divergence)\n"
      ]
    },
    {
      "cell_type": "code",
      "source": [],
      "metadata": {
        "id": "qA8ms1lts5b_"
      },
      "id": "qA8ms1lts5b_",
      "execution_count": null,
      "outputs": []
    },
    {
      "cell_type": "markdown",
      "source": [
        "# PyTorch Loss Functions"
      ],
      "metadata": {
        "id": "mv1tgPYDs7V8"
      },
      "id": "mv1tgPYDs7V8"
    },
    {
      "cell_type": "code",
      "source": [
        "# Example of target with class indices\n",
        "import torch.nn as nn\n",
        "input = torch.randn(3, 5, requires_grad=True)\n",
        "target = torch.empty(3, dtype=torch.long).random_(5)\n",
        "output = nn.CrossEntropyLoss()(input, target)\n",
        "output.backward()\n",
        "output"
      ],
      "metadata": {
        "id": "AJqW2TlBHTGt",
        "outputId": "ad858fd9-c0e8-451b-d902-51711f4d89e4",
        "colab": {
          "base_uri": "https://localhost:8080/"
        }
      },
      "id": "AJqW2TlBHTGt",
      "execution_count": 89,
      "outputs": [
        {
          "output_type": "execute_result",
          "data": {
            "text/plain": [
              "tensor(2.5841, grad_fn=<NllLossBackward0>)"
            ]
          },
          "metadata": {},
          "execution_count": 89
        }
      ]
    },
    {
      "cell_type": "code",
      "source": [
        "# Example of target with class probabilities\n",
        "input = torch.tensor([[9,8.6,44,0.3,5]])\n",
        "print(input)\n",
        "probabilities = torch.softmax(input, dim=1)\n",
        "print(probabilities)\n",
        "\n",
        "target = torch.tensor([[1.0,0,1.0,1.0,0]])\n",
        "print(target)\n",
        "\n",
        "loss = -torch.log(probabilities)*target\n",
        "print('loss: '+str(torch.sum(loss)))\n",
        "\n",
        "output = nn.CrossEntropyLoss()(input, target)\n",
        "print('CrossEntropyLoss: '+ str(output))\n",
        "\n",
        "output = nn.BCEWithLogitsLoss()(input, target)\n",
        "print('BCEWithLogitsLoss: '+ str(output))\n",
        "\n",
        "BCE=binary_cross_entropy(input, target)\n",
        "print(BCE)\n",
        "nll=-torch.log(torch.special.logit(input, eps=1e-6))*target\n",
        "print('NLL: '+str(nll))"
      ],
      "metadata": {
        "id": "SDg7FiFkLoRI",
        "outputId": "c5801084-0aef-455f-8999-1d169ae7d147",
        "colab": {
          "base_uri": "https://localhost:8080/"
        }
      },
      "id": "SDg7FiFkLoRI",
      "execution_count": 126,
      "outputs": [
        {
          "output_type": "stream",
          "name": "stdout",
          "text": [
            "tensor([[ 9.0000,  8.6000, 44.0000,  0.3000,  5.0000]])\n",
            "tensor([[6.3051e-16, 4.2264e-16, 1.0000e+00, 1.0503e-19, 1.1548e-17]])\n",
            "tensor([[1., 0., 1., 1., 0.]])\n",
            "loss: tensor(78.7000)\n",
            "CrossEntropyLoss: tensor(78.7000)\n",
            "BCEWithLogitsLoss: tensor(2.8323)\n",
            "tensor([[   nan,    inf,    nan, 1.2040,    inf]])\n",
            "NLL: tensor([[-2.6248, -0.0000, -2.6248,     nan, -0.0000]])\n"
          ]
        },
        {
          "output_type": "stream",
          "name": "stderr",
          "text": [
            "<ipython-input-122-58c6ce3360cb>:17: RuntimeWarning: divide by zero encountered in log\n",
            "  bce = - (y * np.log(p) + (1 - y) * np.log(1 - p))\n"
          ]
        }
      ]
    },
    {
      "cell_type": "code",
      "source": [
        "loss"
      ],
      "metadata": {
        "id": "MfPwb08zL0rp",
        "outputId": "1941dfb3-463c-4d2a-d1cf-4149b0d385f3",
        "colab": {
          "base_uri": "https://localhost:8080/"
        }
      },
      "id": "MfPwb08zL0rp",
      "execution_count": 105,
      "outputs": [
        {
          "output_type": "execute_result",
          "data": {
            "text/plain": [
              "tensor([[1.5876, 0.0000, 1.5070, 0.9577, 0.0000]], grad_fn=<MulBackward0>)"
            ]
          },
          "metadata": {},
          "execution_count": 105
        }
      ]
    },
    {
      "cell_type": "code",
      "source": [
        "def custom_cross_entropy(logits, targets):\n",
        "    # Apply softmax to logits\n",
        "    probabilities = torch.softmax(logits, dim=1)\n",
        "\n",
        "    # Gather the probabilities corresponding to the target classes\n",
        "    target_probs = probabilities[range(len(targets)), targets]\n",
        "\n",
        "    # Compute the negative log likelihood\n",
        "    loss = -torch.log(target_probs)\n",
        "\n",
        "    # Return mean loss\n",
        "    return loss.mean()\n",
        "\n",
        "# Example usage\n",
        "custom_loss = custom_cross_entropy(input, target)\n",
        "print(f\"Custom Cross-Entropy Loss: {custom_loss.item()}\")\n"
      ],
      "metadata": {
        "id": "48mxnbfhN4dQ",
        "outputId": "75526a7b-4b31-4a4e-fc41-0f907ae3a301",
        "colab": {
          "base_uri": "https://localhost:8080/",
          "height": 315
        }
      },
      "id": "48mxnbfhN4dQ",
      "execution_count": 93,
      "outputs": [
        {
          "output_type": "error",
          "ename": "IndexError",
          "evalue": "tensors used as indices must be long, int, byte or bool tensors",
          "traceback": [
            "\u001b[0;31m---------------------------------------------------------------------------\u001b[0m",
            "\u001b[0;31mIndexError\u001b[0m                                Traceback (most recent call last)",
            "\u001b[0;32m<ipython-input-93-6d0278c6f765>\u001b[0m in \u001b[0;36m<cell line: 0>\u001b[0;34m()\u001b[0m\n\u001b[1;32m     13\u001b[0m \u001b[0;34m\u001b[0m\u001b[0m\n\u001b[1;32m     14\u001b[0m \u001b[0;31m# Example usage\u001b[0m\u001b[0;34m\u001b[0m\u001b[0;34m\u001b[0m\u001b[0m\n\u001b[0;32m---> 15\u001b[0;31m \u001b[0mcustom_loss\u001b[0m \u001b[0;34m=\u001b[0m \u001b[0mcustom_cross_entropy\u001b[0m\u001b[0;34m(\u001b[0m\u001b[0minput\u001b[0m\u001b[0;34m,\u001b[0m \u001b[0mtarget\u001b[0m\u001b[0;34m)\u001b[0m\u001b[0;34m\u001b[0m\u001b[0;34m\u001b[0m\u001b[0m\n\u001b[0m\u001b[1;32m     16\u001b[0m \u001b[0mprint\u001b[0m\u001b[0;34m(\u001b[0m\u001b[0;34mf\"Custom Cross-Entropy Loss: {custom_loss.item()}\"\u001b[0m\u001b[0;34m)\u001b[0m\u001b[0;34m\u001b[0m\u001b[0;34m\u001b[0m\u001b[0m\n",
            "\u001b[0;32m<ipython-input-93-6d0278c6f765>\u001b[0m in \u001b[0;36mcustom_cross_entropy\u001b[0;34m(logits, targets)\u001b[0m\n\u001b[1;32m      4\u001b[0m \u001b[0;34m\u001b[0m\u001b[0m\n\u001b[1;32m      5\u001b[0m     \u001b[0;31m# Gather the probabilities corresponding to the target classes\u001b[0m\u001b[0;34m\u001b[0m\u001b[0;34m\u001b[0m\u001b[0m\n\u001b[0;32m----> 6\u001b[0;31m     \u001b[0mtarget_probs\u001b[0m \u001b[0;34m=\u001b[0m \u001b[0mprobabilities\u001b[0m\u001b[0;34m[\u001b[0m\u001b[0mrange\u001b[0m\u001b[0;34m(\u001b[0m\u001b[0mlen\u001b[0m\u001b[0;34m(\u001b[0m\u001b[0mtargets\u001b[0m\u001b[0;34m)\u001b[0m\u001b[0;34m)\u001b[0m\u001b[0;34m,\u001b[0m \u001b[0mtargets\u001b[0m\u001b[0;34m]\u001b[0m\u001b[0;34m\u001b[0m\u001b[0;34m\u001b[0m\u001b[0m\n\u001b[0m\u001b[1;32m      7\u001b[0m \u001b[0;34m\u001b[0m\u001b[0m\n\u001b[1;32m      8\u001b[0m     \u001b[0;31m# Compute the negative log likelihood\u001b[0m\u001b[0;34m\u001b[0m\u001b[0;34m\u001b[0m\u001b[0m\n",
            "\u001b[0;31mIndexError\u001b[0m: tensors used as indices must be long, int, byte or bool tensors"
          ]
        }
      ]
    },
    {
      "cell_type": "code",
      "source": [],
      "metadata": {
        "id": "Zp6WrdD4S6-K"
      },
      "id": "Zp6WrdD4S6-K",
      "execution_count": null,
      "outputs": []
    }
  ],
  "metadata": {
    "kernelspec": {
      "display_name": "Python 3 (ipykernel)",
      "language": "python",
      "name": "python3"
    },
    "language_info": {
      "codemirror_mode": {
        "name": "ipython",
        "version": 3
      },
      "file_extension": ".py",
      "mimetype": "text/x-python",
      "name": "python",
      "nbconvert_exporter": "python",
      "pygments_lexer": "ipython3",
      "version": "3.11.3"
    },
    "colab": {
      "provenance": [],
      "include_colab_link": true
    }
  },
  "nbformat": 4,
  "nbformat_minor": 5
}