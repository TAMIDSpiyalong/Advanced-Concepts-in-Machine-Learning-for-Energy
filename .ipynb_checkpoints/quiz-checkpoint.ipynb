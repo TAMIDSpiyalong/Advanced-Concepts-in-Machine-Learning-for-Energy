{
 "cells": [
  {
   "cell_type": "markdown",
   "id": "e46ed957-0cff-4cd5-8da0-87366ecb60f3",
   "metadata": {},
   "source": [
    "# Cosine similarity"
   ]
  },
  {
   "cell_type": "code",
   "execution_count": 3,
   "id": "a723fcf0-b2d0-4fa8-9acc-8b5987150f31",
   "metadata": {},
   "outputs": [
    {
     "name": "stdout",
     "output_type": "stream",
     "text": [
      "Cosine similarity between vector1 and vector2: 0.9746318461970762\n"
     ]
    }
   ],
   "source": [
    "import numpy as np\n",
    "\n",
    "def cosine_similarity(a, b):\n",
    "    \"\"\"\n",
    "    Compute cosine similarity between vectors a and b.\n",
    "    \n",
    "    Arguments:\n",
    "    a, b -- 1-D numpy arrays\n",
    "    \n",
    "    Returns:\n",
    "    cosine_sim -- Cosine similarity between a and b\n",
    "    \"\"\"\n",
    "    dot_product = np.dot(a, b)\n",
    "    norm_a = np.linalg.norm(a)\n",
    "    norm_b = np.linalg.norm(b)\n",
    "    cosine_sim = dot_product / (norm_a * norm_b)\n",
    "    return cosine_sim\n",
    "\n",
    "# Example usage:\n",
    "vector1 = np.array([1, 2, 3])\n",
    "vector2 = np.array([4, 5, 6])\n",
    "print(\"Cosine similarity between vector1 and vector2:\", cosine_similarity(vector1, vector2))\n"
   ]
  },
  {
   "cell_type": "markdown",
   "id": "5fc17f1c-6f86-4904-a523-ce90991983db",
   "metadata": {},
   "source": [
    "# Softmax"
   ]
  },
  {
   "cell_type": "code",
   "execution_count": 2,
   "id": "b63b7783-bd59-4ebf-913e-178eb693a439",
   "metadata": {},
   "outputs": [
    {
     "name": "stdout",
     "output_type": "stream",
     "text": [
      "[0.8360188  0.11314284 0.05083836]\n"
     ]
    }
   ],
   "source": [
    "import numpy as np\n",
    "\n",
    "def softmax(x):\n",
    "    \"\"\"\n",
    "    Compute softmax values for each sets of scores in x.\n",
    "    \n",
    "    Arguments:\n",
    "    x -- A numpy array of any shape\n",
    "    \n",
    "    Returns:\n",
    "    s -- A numpy array of the same shape as x, containing softmax values\n",
    "    \"\"\"\n",
    "    e_x = np.exp(x - np.max(x))  # Subtracting the maximum value for numerical stability\n",
    "    return e_x / e_x.sum(axis=0)\n",
    "\n",
    "# Example usage:\n",
    "scores = np.array([3.0, 1.0, 0.2])\n",
    "print(softmax(scores))\n"
   ]
  },
  {
   "cell_type": "code",
   "execution_count": null,
   "id": "458febcb-fffb-4b11-8c6c-039e3e0a1cc7",
   "metadata": {},
   "outputs": [],
   "source": []
  }
 ],
 "metadata": {
  "kernelspec": {
   "display_name": "Python 3 (ipykernel)",
   "language": "python",
   "name": "python3"
  },
  "language_info": {
   "codemirror_mode": {
    "name": "ipython",
    "version": 3
   },
   "file_extension": ".py",
   "mimetype": "text/x-python",
   "name": "python",
   "nbconvert_exporter": "python",
   "pygments_lexer": "ipython3",
   "version": "3.11.3"
  }
 },
 "nbformat": 4,
 "nbformat_minor": 5
}
