{
  "cells": [
    {
      "cell_type": "markdown",
      "metadata": {
        "id": "view-in-github",
        "colab_type": "text"
      },
      "source": [
        "<a href=\"https://colab.research.google.com/github/TAMIDSpiyalong/Introduction-to-Machine-Learning-for-Energy/blob/main/Lecture_3d.ipynb\" target=\"_parent\"><img src=\"https://colab.research.google.com/assets/colab-badge.svg\" alt=\"Open In Colab\"/></a>"
      ]
    },
    {
      "cell_type": "markdown",
      "metadata": {
        "id": "u8qriVw5_1kH"
      },
      "source": [
        "# Anomaly Detection in Network Data using GANs"
      ]
    },
    {
      "cell_type": "markdown",
      "metadata": {
        "id": "lp40CJMG_1kI"
      },
      "source": [
        "GANs are generative models that generate samples similar to the training dataset by learning the true data distribution. So instead of compressing the input into a latent space and classifying the test samples based on the reconstruction error, we actually train a classifier that outputs a probability score of a sample being Normal or Anomalous. As we will see later in the lab, this has positioned GANs as very attaractive unsupervised learning techniques.\n",
        "\n",
        "GANs can be pretty tough to train and improving their stability is an active area of research today."
      ]
    },
    {
      "cell_type": "code",
      "execution_count": 588,
      "metadata": {
        "id": "x4Q_t_S5_1kI"
      },
      "outputs": [],
      "source": [
        "# Import system packages\n",
        "import os\n",
        "import sys\n",
        "import time\n",
        "import logging\n",
        "import importlib\n",
        "\n",
        "#Import data manipulation libraries\n",
        "import numpy as np\n",
        "import pandas as pd\n",
        "import collections\n",
        "from tqdm import tqdm\n",
        "\n",
        "#Import visualization libraries\n",
        "import matplotlib.pyplot as plt\n",
        "\n",
        "#Importing ML/DL libraries\n",
        "from sklearn.preprocessing import MinMaxScaler,LabelEncoder\n",
        "from sklearn.model_selection import train_test_split\n",
        "from sklearn.metrics import roc_curve, auc,precision_recall_fscore_support, average_precision_score\n",
        "from sklearn.metrics import precision_recall_curve, auc, confusion_matrix,accuracy_score\n",
        "\n",
        "import tensorflow as tf\n",
        "from tensorflow import keras\n",
        "# from tensorflow.keras import layer\n",
        "\n",
        "from tensorflow.keras import initializers\n",
        "from tensorflow.keras.models import Model, Sequential\n",
        "from tensorflow.keras.optimizers import Adam, RMSprop\n",
        "from tensorflow.keras.callbacks import ModelCheckpoint\n",
        "from tensorflow.keras.layers import Dense, Dropout\n",
        "from tensorflow.keras.layers import LeakyReLU\n",
        "from tensorflow.keras.layers import Input, BatchNormalization, LeakyReLU, Dense, Reshape, Flatten, Activation\n",
        "from tensorflow.keras.layers import Dropout, multiply, GaussianNoise, MaxPooling2D, concatenate\n",
        "import pickle\n",
        "\n",
        "import random\n",
        "random.seed(123)\n"
      ]
    },
    {
      "cell_type": "code",
      "source": [],
      "metadata": {
        "id": "5kvYNWMX38YY"
      },
      "execution_count": 588,
      "outputs": []
    },
    {
      "cell_type": "markdown",
      "metadata": {
        "id": "3SzjgkkY_1kJ"
      },
      "source": [
        "## Section 1: Dataset"
      ]
    },
    {
      "cell_type": "code",
      "source": [
        "import pandas as pd\n",
        "from tensorflow.keras.utils import get_file\n",
        "\n",
        "try:\n",
        "    path = get_file('dataset_10_percent.gz', origin='http://kdd.ics.uci.edu/databases/kddcup99/kddcup.data_10_percent.gz')\n",
        "except:\n",
        "    print('Error downloading')\n",
        "    raise\n",
        "\n",
        "print(path)\n",
        "\n",
        "# This file is a CSV, just no CSV extension or headers\n",
        "# Download from: http://kdd.ics.uci.edu/databases/kddcup99/kddcup99.html"
      ],
      "metadata": {
        "id": "bg0OIFa4g47z",
        "outputId": "a40327ee-f6ba-497d-e275-a5eebf78406f",
        "colab": {
          "base_uri": "https://localhost:8080/"
        }
      },
      "execution_count": 589,
      "outputs": [
        {
          "output_type": "stream",
          "name": "stdout",
          "text": [
            "Downloading data from http://kdd.ics.uci.edu/databases/kddcup99/kddcup.data_10_percent.gz\n",
            "2144903/2144903 [==============================] - 5s 3us/step\n",
            "/root/.keras/datasets/dataset_10_percent.gz\n"
          ]
        }
      ]
    },
    {
      "cell_type": "code",
      "source": [],
      "metadata": {
        "id": "NiZLiPx3xJqf"
      },
      "execution_count": 589,
      "outputs": []
    },
    {
      "cell_type": "code",
      "source": [
        "col_names = [\"duration\",\"protocol_type\",\"service\",\"flag\",\"src_bytes\",\"dst_bytes\",\"land\",\"wrong_fragment\",\"urgent\",\"hot\",\"num_failed_logins\",\"logged_in\",\n",
        "             \"num_compromised\",\"root_shell\",\"su_attempted\",\"num_root\",\"num_file_creations\",\"num_shells\",\"num_access_files\",\"num_outbound_cmds\",\n",
        "             \"is_host_login\",\"is_guest_login\",\"count\",\"srv_count\",\"serror_rate\",\"srv_serror_rate\",\"rerror_rate\",\"srv_rerror_rate\",\"same_srv_rate\",\n",
        "             \"diff_srv_rate\",\"srv_diff_host_rate\",\"dst_host_count\",\"dst_host_srv_count\",\"dst_host_same_srv_rate\",\"dst_host_diff_srv_rate\",\n",
        "             \"dst_host_same_src_port_rate\",\"dst_host_srv_diff_host_rate\",\"dst_host_serror_rate\",\"dst_host_srv_serror_rate\",\"dst_host_rerror_rate\",\n",
        "             \"dst_host_srv_rerror_rate\",\"label\"]"
      ],
      "metadata": {
        "id": "j5by1vDGjB0N"
      },
      "execution_count": 590,
      "outputs": []
    },
    {
      "cell_type": "code",
      "source": [
        "df =  pd.read_csv(path, header=None, names=col_names, index_col=False)"
      ],
      "metadata": {
        "id": "3INypkvejp1N"
      },
      "execution_count": 591,
      "outputs": []
    },
    {
      "cell_type": "code",
      "source": [
        "df['label']"
      ],
      "metadata": {
        "colab": {
          "base_uri": "https://localhost:8080/"
        },
        "id": "4_E4dCo3AgVG",
        "outputId": "73bd9a16-26f8-4d26-8069-0b391da00eb1"
      },
      "execution_count": 592,
      "outputs": [
        {
          "output_type": "execute_result",
          "data": {
            "text/plain": [
              "0         normal.\n",
              "1         normal.\n",
              "2         normal.\n",
              "3         normal.\n",
              "4         normal.\n",
              "           ...   \n",
              "494016    normal.\n",
              "494017    normal.\n",
              "494018    normal.\n",
              "494019    normal.\n",
              "494020    normal.\n",
              "Name: label, Length: 494021, dtype: object"
            ]
          },
          "metadata": {},
          "execution_count": 592
        }
      ]
    },
    {
      "cell_type": "code",
      "source": [
        "\n",
        "le = LabelEncoder()\n",
        "le.fit(df.label)\n",
        "\n",
        "def reduce_anomalies(df, pct_anomalies=.01):\n",
        "    labels = df['label'].copy()\n",
        "    is_anomaly = labels != 'normal.'\n",
        "    num_normal = np.sum(~is_anomaly)\n",
        "    num_anomalies = int(pct_anomalies * num_normal)\n",
        "    all_anomalies = labels[labels != 'normal.']\n",
        "    anomalies_to_keep = np.random.choice(all_anomalies.index, size=num_anomalies, replace=False)\n",
        "    anomalous_data = df.iloc[anomalies_to_keep].copy()\n",
        "    normal_data = df[~is_anomaly].copy()\n",
        "    new_df = pd.concat([normal_data, anomalous_data], axis=0)\n",
        "    return new_df\n",
        "\n",
        "df = reduce_anomalies(df, pct_anomalies=0.1)\n",
        "\n",
        "# capture the categorical variables and one-hot encode them\n",
        "cat_vars = ['protocol_type', 'service', 'flag', 'land', 'logged_in','is_host_login', 'is_guest_login']\n",
        "\n",
        "# find unique labels for each category\n",
        "cat_data = pd.get_dummies(df[cat_vars])\n",
        "\n",
        "numeric_vars = list(set(df.columns.values.tolist()) - set(cat_vars))\n",
        "numeric_vars.remove('label')\n",
        "numeric_data = df[numeric_vars].copy()\n",
        "\n",
        "numeric_cat_data = pd.concat([numeric_data, cat_data], axis=1)\n",
        "\n",
        "# capture the labels\n",
        "labels = df['label'].copy()\n",
        "\n",
        "# convert labels to integers\n",
        "integer_labels = le.transform(labels)\n",
        "\n",
        "# split data into test and train\n",
        "x_train, x_test, y_train, y_test = train_test_split(numeric_cat_data,\n",
        "                                                    integer_labels,\n",
        "                                                    test_size=.25,\n",
        "                                                    random_state=42)\n",
        "\n",
        "# save the datasets for later use\n",
        "preprocessed_data = {    'x_train':x_train,'y_train':y_train,'x_test':x_test,'y_test':y_test,'le':le}"
      ],
      "metadata": {
        "id": "vQomF46kjC7t"
      },
      "execution_count": 593,
      "outputs": []
    },
    {
      "cell_type": "code",
      "source": [
        "preprocessed_data['x_train']"
      ],
      "metadata": {
        "id": "LklF3gq_iEfl",
        "outputId": "53c38d88-724f-41ac-83c8-1f7ddc7f2314",
        "colab": {
          "base_uri": "https://localhost:8080/",
          "height": 443
        }
      },
      "execution_count": 594,
      "outputs": [
        {
          "output_type": "execute_result",
          "data": {
            "text/plain": [
              "                serror_rate        diff_srv_rate  dst_host_same_srv_rate  \\\n",
              "15146             0.0000000            0.0000000               1.0000000   \n",
              "7289              0.0000000            0.0000000               1.0000000   \n",
              "148448            0.0000000            0.0000000               0.9300000   \n",
              "14281             0.0000000            0.0000000               1.0000000   \n",
              "452980            0.0000000            0.0000000               0.8800000   \n",
              "...                     ...                  ...                     ...   \n",
              "90215             0.0000000            0.0000000               1.0000000   \n",
              "349083            0.0000000            0.0000000               1.0000000   \n",
              "239544            0.0000000            0.0000000               1.0000000   \n",
              "862               0.0000000            0.0000000               1.0000000   \n",
              "19616             0.0000000            0.0000000               1.0000000   \n",
              "\n",
              "        dst_host_rerror_rate  dst_bytes  dst_host_srv_diff_host_rate  \\\n",
              "15146              0.0000000      13187                    0.0000000   \n",
              "7289               0.0000000       1046                    0.0000000   \n",
              "148448             0.0000000         49                    0.0000000   \n",
              "14281              0.0000000        807                    0.0000000   \n",
              "452980             0.0000000        146                    0.0000000   \n",
              "...                      ...        ...                          ...   \n",
              "90215              0.0000000       3207                    0.0200000   \n",
              "349083             1.0000000          0                    0.1300000   \n",
              "239544             0.0000000          0                    0.0000000   \n",
              "862                0.0000000       2187                    0.0500000   \n",
              "19616              0.0000000      12876                    0.1900000   \n",
              "\n",
              "            srv_rerror_rate  dst_host_same_src_port_rate  num_outbound_cmds  \\\n",
              "15146             0.0000000                    0.1200000                  0   \n",
              "7289              0.0000000                    0.0000000                  0   \n",
              "148448            0.0000000                    0.0100000                  0   \n",
              "14281             0.0000000                    0.0000000                  0   \n",
              "452980            0.0000000                    0.0000000                  0   \n",
              "...                     ...                          ...                ...   \n",
              "90215             0.0000000                    0.2500000                  0   \n",
              "349083            1.0000000                    0.0700000                  0   \n",
              "239544            0.0000000                    1.0000000                  0   \n",
              "862               0.0000000                    0.0500000                  0   \n",
              "19616             0.0000000                    0.5000000                  0   \n",
              "\n",
              "        duration  ...  flag_OTH  flag_REJ  flag_RSTO  flag_RSTR  flag_S0  \\\n",
              "15146          0  ...         0         0          0          0        0   \n",
              "7289           0  ...         0         0          0          0        0   \n",
              "148448         0  ...         0         0          0          0        0   \n",
              "14281          0  ...         0         0          0          0        0   \n",
              "452980         0  ...         0         0          0          0        0   \n",
              "...          ...  ...       ...       ...        ...        ...      ...   \n",
              "90215          0  ...         0         0          0          0        0   \n",
              "349083         0  ...         0         1          0          0        0   \n",
              "239544         0  ...         0         0          0          0        0   \n",
              "862            0  ...         0         0          0          0        0   \n",
              "19616          0  ...         0         0          0          0        0   \n",
              "\n",
              "        flag_S1  flag_S2  flag_S3  flag_SF  flag_SH  \n",
              "15146         0        0        0        1        0  \n",
              "7289          0        0        0        1        0  \n",
              "148448        0        0        0        1        0  \n",
              "14281         0        0        0        1        0  \n",
              "452980        0        0        0        1        0  \n",
              "...         ...      ...      ...      ...      ...  \n",
              "90215         0        0        0        1        0  \n",
              "349083        0        0        0        0        0  \n",
              "239544        0        0        0        1        0  \n",
              "862           0        0        0        1        0  \n",
              "19616         0        0        0        1        0  \n",
              "\n",
              "[80253 rows x 115 columns]"
            ],
            "text/html": [
              "\n",
              "  <div id=\"df-d9908bb2-46bf-4cc8-8603-4a5cbbf6638d\" class=\"colab-df-container\">\n",
              "    <div>\n",
              "<style scoped>\n",
              "    .dataframe tbody tr th:only-of-type {\n",
              "        vertical-align: middle;\n",
              "    }\n",
              "\n",
              "    .dataframe tbody tr th {\n",
              "        vertical-align: top;\n",
              "    }\n",
              "\n",
              "    .dataframe thead th {\n",
              "        text-align: right;\n",
              "    }\n",
              "</style>\n",
              "<table border=\"1\" class=\"dataframe\">\n",
              "  <thead>\n",
              "    <tr style=\"text-align: right;\">\n",
              "      <th></th>\n",
              "      <th>serror_rate</th>\n",
              "      <th>diff_srv_rate</th>\n",
              "      <th>dst_host_same_srv_rate</th>\n",
              "      <th>dst_host_rerror_rate</th>\n",
              "      <th>dst_bytes</th>\n",
              "      <th>dst_host_srv_diff_host_rate</th>\n",
              "      <th>srv_rerror_rate</th>\n",
              "      <th>dst_host_same_src_port_rate</th>\n",
              "      <th>num_outbound_cmds</th>\n",
              "      <th>duration</th>\n",
              "      <th>...</th>\n",
              "      <th>flag_OTH</th>\n",
              "      <th>flag_REJ</th>\n",
              "      <th>flag_RSTO</th>\n",
              "      <th>flag_RSTR</th>\n",
              "      <th>flag_S0</th>\n",
              "      <th>flag_S1</th>\n",
              "      <th>flag_S2</th>\n",
              "      <th>flag_S3</th>\n",
              "      <th>flag_SF</th>\n",
              "      <th>flag_SH</th>\n",
              "    </tr>\n",
              "  </thead>\n",
              "  <tbody>\n",
              "    <tr>\n",
              "      <th>15146</th>\n",
              "      <td>0.0000000</td>\n",
              "      <td>0.0000000</td>\n",
              "      <td>1.0000000</td>\n",
              "      <td>0.0000000</td>\n",
              "      <td>13187</td>\n",
              "      <td>0.0000000</td>\n",
              "      <td>0.0000000</td>\n",
              "      <td>0.1200000</td>\n",
              "      <td>0</td>\n",
              "      <td>0</td>\n",
              "      <td>...</td>\n",
              "      <td>0</td>\n",
              "      <td>0</td>\n",
              "      <td>0</td>\n",
              "      <td>0</td>\n",
              "      <td>0</td>\n",
              "      <td>0</td>\n",
              "      <td>0</td>\n",
              "      <td>0</td>\n",
              "      <td>1</td>\n",
              "      <td>0</td>\n",
              "    </tr>\n",
              "    <tr>\n",
              "      <th>7289</th>\n",
              "      <td>0.0000000</td>\n",
              "      <td>0.0000000</td>\n",
              "      <td>1.0000000</td>\n",
              "      <td>0.0000000</td>\n",
              "      <td>1046</td>\n",
              "      <td>0.0000000</td>\n",
              "      <td>0.0000000</td>\n",
              "      <td>0.0000000</td>\n",
              "      <td>0</td>\n",
              "      <td>0</td>\n",
              "      <td>...</td>\n",
              "      <td>0</td>\n",
              "      <td>0</td>\n",
              "      <td>0</td>\n",
              "      <td>0</td>\n",
              "      <td>0</td>\n",
              "      <td>0</td>\n",
              "      <td>0</td>\n",
              "      <td>0</td>\n",
              "      <td>1</td>\n",
              "      <td>0</td>\n",
              "    </tr>\n",
              "    <tr>\n",
              "      <th>148448</th>\n",
              "      <td>0.0000000</td>\n",
              "      <td>0.0000000</td>\n",
              "      <td>0.9300000</td>\n",
              "      <td>0.0000000</td>\n",
              "      <td>49</td>\n",
              "      <td>0.0000000</td>\n",
              "      <td>0.0000000</td>\n",
              "      <td>0.0100000</td>\n",
              "      <td>0</td>\n",
              "      <td>0</td>\n",
              "      <td>...</td>\n",
              "      <td>0</td>\n",
              "      <td>0</td>\n",
              "      <td>0</td>\n",
              "      <td>0</td>\n",
              "      <td>0</td>\n",
              "      <td>0</td>\n",
              "      <td>0</td>\n",
              "      <td>0</td>\n",
              "      <td>1</td>\n",
              "      <td>0</td>\n",
              "    </tr>\n",
              "    <tr>\n",
              "      <th>14281</th>\n",
              "      <td>0.0000000</td>\n",
              "      <td>0.0000000</td>\n",
              "      <td>1.0000000</td>\n",
              "      <td>0.0000000</td>\n",
              "      <td>807</td>\n",
              "      <td>0.0000000</td>\n",
              "      <td>0.0000000</td>\n",
              "      <td>0.0000000</td>\n",
              "      <td>0</td>\n",
              "      <td>0</td>\n",
              "      <td>...</td>\n",
              "      <td>0</td>\n",
              "      <td>0</td>\n",
              "      <td>0</td>\n",
              "      <td>0</td>\n",
              "      <td>0</td>\n",
              "      <td>0</td>\n",
              "      <td>0</td>\n",
              "      <td>0</td>\n",
              "      <td>1</td>\n",
              "      <td>0</td>\n",
              "    </tr>\n",
              "    <tr>\n",
              "      <th>452980</th>\n",
              "      <td>0.0000000</td>\n",
              "      <td>0.0000000</td>\n",
              "      <td>0.8800000</td>\n",
              "      <td>0.0000000</td>\n",
              "      <td>146</td>\n",
              "      <td>0.0000000</td>\n",
              "      <td>0.0000000</td>\n",
              "      <td>0.0000000</td>\n",
              "      <td>0</td>\n",
              "      <td>0</td>\n",
              "      <td>...</td>\n",
              "      <td>0</td>\n",
              "      <td>0</td>\n",
              "      <td>0</td>\n",
              "      <td>0</td>\n",
              "      <td>0</td>\n",
              "      <td>0</td>\n",
              "      <td>0</td>\n",
              "      <td>0</td>\n",
              "      <td>1</td>\n",
              "      <td>0</td>\n",
              "    </tr>\n",
              "    <tr>\n",
              "      <th>...</th>\n",
              "      <td>...</td>\n",
              "      <td>...</td>\n",
              "      <td>...</td>\n",
              "      <td>...</td>\n",
              "      <td>...</td>\n",
              "      <td>...</td>\n",
              "      <td>...</td>\n",
              "      <td>...</td>\n",
              "      <td>...</td>\n",
              "      <td>...</td>\n",
              "      <td>...</td>\n",
              "      <td>...</td>\n",
              "      <td>...</td>\n",
              "      <td>...</td>\n",
              "      <td>...</td>\n",
              "      <td>...</td>\n",
              "      <td>...</td>\n",
              "      <td>...</td>\n",
              "      <td>...</td>\n",
              "      <td>...</td>\n",
              "      <td>...</td>\n",
              "    </tr>\n",
              "    <tr>\n",
              "      <th>90215</th>\n",
              "      <td>0.0000000</td>\n",
              "      <td>0.0000000</td>\n",
              "      <td>1.0000000</td>\n",
              "      <td>0.0000000</td>\n",
              "      <td>3207</td>\n",
              "      <td>0.0200000</td>\n",
              "      <td>0.0000000</td>\n",
              "      <td>0.2500000</td>\n",
              "      <td>0</td>\n",
              "      <td>0</td>\n",
              "      <td>...</td>\n",
              "      <td>0</td>\n",
              "      <td>0</td>\n",
              "      <td>0</td>\n",
              "      <td>0</td>\n",
              "      <td>0</td>\n",
              "      <td>0</td>\n",
              "      <td>0</td>\n",
              "      <td>0</td>\n",
              "      <td>1</td>\n",
              "      <td>0</td>\n",
              "    </tr>\n",
              "    <tr>\n",
              "      <th>349083</th>\n",
              "      <td>0.0000000</td>\n",
              "      <td>0.0000000</td>\n",
              "      <td>1.0000000</td>\n",
              "      <td>1.0000000</td>\n",
              "      <td>0</td>\n",
              "      <td>0.1300000</td>\n",
              "      <td>1.0000000</td>\n",
              "      <td>0.0700000</td>\n",
              "      <td>0</td>\n",
              "      <td>0</td>\n",
              "      <td>...</td>\n",
              "      <td>0</td>\n",
              "      <td>1</td>\n",
              "      <td>0</td>\n",
              "      <td>0</td>\n",
              "      <td>0</td>\n",
              "      <td>0</td>\n",
              "      <td>0</td>\n",
              "      <td>0</td>\n",
              "      <td>0</td>\n",
              "      <td>0</td>\n",
              "    </tr>\n",
              "    <tr>\n",
              "      <th>239544</th>\n",
              "      <td>0.0000000</td>\n",
              "      <td>0.0000000</td>\n",
              "      <td>1.0000000</td>\n",
              "      <td>0.0000000</td>\n",
              "      <td>0</td>\n",
              "      <td>0.0000000</td>\n",
              "      <td>0.0000000</td>\n",
              "      <td>1.0000000</td>\n",
              "      <td>0</td>\n",
              "      <td>0</td>\n",
              "      <td>...</td>\n",
              "      <td>0</td>\n",
              "      <td>0</td>\n",
              "      <td>0</td>\n",
              "      <td>0</td>\n",
              "      <td>0</td>\n",
              "      <td>0</td>\n",
              "      <td>0</td>\n",
              "      <td>0</td>\n",
              "      <td>1</td>\n",
              "      <td>0</td>\n",
              "    </tr>\n",
              "    <tr>\n",
              "      <th>862</th>\n",
              "      <td>0.0000000</td>\n",
              "      <td>0.0000000</td>\n",
              "      <td>1.0000000</td>\n",
              "      <td>0.0000000</td>\n",
              "      <td>2187</td>\n",
              "      <td>0.0500000</td>\n",
              "      <td>0.0000000</td>\n",
              "      <td>0.0500000</td>\n",
              "      <td>0</td>\n",
              "      <td>0</td>\n",
              "      <td>...</td>\n",
              "      <td>0</td>\n",
              "      <td>0</td>\n",
              "      <td>0</td>\n",
              "      <td>0</td>\n",
              "      <td>0</td>\n",
              "      <td>0</td>\n",
              "      <td>0</td>\n",
              "      <td>0</td>\n",
              "      <td>1</td>\n",
              "      <td>0</td>\n",
              "    </tr>\n",
              "    <tr>\n",
              "      <th>19616</th>\n",
              "      <td>0.0000000</td>\n",
              "      <td>0.0000000</td>\n",
              "      <td>1.0000000</td>\n",
              "      <td>0.0000000</td>\n",
              "      <td>12876</td>\n",
              "      <td>0.1900000</td>\n",
              "      <td>0.0000000</td>\n",
              "      <td>0.5000000</td>\n",
              "      <td>0</td>\n",
              "      <td>0</td>\n",
              "      <td>...</td>\n",
              "      <td>0</td>\n",
              "      <td>0</td>\n",
              "      <td>0</td>\n",
              "      <td>0</td>\n",
              "      <td>0</td>\n",
              "      <td>0</td>\n",
              "      <td>0</td>\n",
              "      <td>0</td>\n",
              "      <td>1</td>\n",
              "      <td>0</td>\n",
              "    </tr>\n",
              "  </tbody>\n",
              "</table>\n",
              "<p>80253 rows × 115 columns</p>\n",
              "</div>\n",
              "    <div class=\"colab-df-buttons\">\n",
              "\n",
              "  <div class=\"colab-df-container\">\n",
              "    <button class=\"colab-df-convert\" onclick=\"convertToInteractive('df-d9908bb2-46bf-4cc8-8603-4a5cbbf6638d')\"\n",
              "            title=\"Convert this dataframe to an interactive table.\"\n",
              "            style=\"display:none;\">\n",
              "\n",
              "  <svg xmlns=\"http://www.w3.org/2000/svg\" height=\"24px\" viewBox=\"0 -960 960 960\">\n",
              "    <path d=\"M120-120v-720h720v720H120Zm60-500h600v-160H180v160Zm220 220h160v-160H400v160Zm0 220h160v-160H400v160ZM180-400h160v-160H180v160Zm440 0h160v-160H620v160ZM180-180h160v-160H180v160Zm440 0h160v-160H620v160Z\"/>\n",
              "  </svg>\n",
              "    </button>\n",
              "\n",
              "  <style>\n",
              "    .colab-df-container {\n",
              "      display:flex;\n",
              "      gap: 12px;\n",
              "    }\n",
              "\n",
              "    .colab-df-convert {\n",
              "      background-color: #E8F0FE;\n",
              "      border: none;\n",
              "      border-radius: 50%;\n",
              "      cursor: pointer;\n",
              "      display: none;\n",
              "      fill: #1967D2;\n",
              "      height: 32px;\n",
              "      padding: 0 0 0 0;\n",
              "      width: 32px;\n",
              "    }\n",
              "\n",
              "    .colab-df-convert:hover {\n",
              "      background-color: #E2EBFA;\n",
              "      box-shadow: 0px 1px 2px rgba(60, 64, 67, 0.3), 0px 1px 3px 1px rgba(60, 64, 67, 0.15);\n",
              "      fill: #174EA6;\n",
              "    }\n",
              "\n",
              "    .colab-df-buttons div {\n",
              "      margin-bottom: 4px;\n",
              "    }\n",
              "\n",
              "    [theme=dark] .colab-df-convert {\n",
              "      background-color: #3B4455;\n",
              "      fill: #D2E3FC;\n",
              "    }\n",
              "\n",
              "    [theme=dark] .colab-df-convert:hover {\n",
              "      background-color: #434B5C;\n",
              "      box-shadow: 0px 1px 3px 1px rgba(0, 0, 0, 0.15);\n",
              "      filter: drop-shadow(0px 1px 2px rgba(0, 0, 0, 0.3));\n",
              "      fill: #FFFFFF;\n",
              "    }\n",
              "  </style>\n",
              "\n",
              "    <script>\n",
              "      const buttonEl =\n",
              "        document.querySelector('#df-d9908bb2-46bf-4cc8-8603-4a5cbbf6638d button.colab-df-convert');\n",
              "      buttonEl.style.display =\n",
              "        google.colab.kernel.accessAllowed ? 'block' : 'none';\n",
              "\n",
              "      async function convertToInteractive(key) {\n",
              "        const element = document.querySelector('#df-d9908bb2-46bf-4cc8-8603-4a5cbbf6638d');\n",
              "        const dataTable =\n",
              "          await google.colab.kernel.invokeFunction('convertToInteractive',\n",
              "                                                    [key], {});\n",
              "        if (!dataTable) return;\n",
              "\n",
              "        const docLinkHtml = 'Like what you see? Visit the ' +\n",
              "          '<a target=\"_blank\" href=https://colab.research.google.com/notebooks/data_table.ipynb>data table notebook</a>'\n",
              "          + ' to learn more about interactive tables.';\n",
              "        element.innerHTML = '';\n",
              "        dataTable['output_type'] = 'display_data';\n",
              "        await google.colab.output.renderOutput(dataTable, element);\n",
              "        const docLink = document.createElement('div');\n",
              "        docLink.innerHTML = docLinkHtml;\n",
              "        element.appendChild(docLink);\n",
              "      }\n",
              "    </script>\n",
              "  </div>\n",
              "\n",
              "\n",
              "<div id=\"df-66091d19-e2eb-43fb-9626-6db927cf1033\">\n",
              "  <button class=\"colab-df-quickchart\" onclick=\"quickchart('df-66091d19-e2eb-43fb-9626-6db927cf1033')\"\n",
              "            title=\"Suggest charts\"\n",
              "            style=\"display:none;\">\n",
              "\n",
              "<svg xmlns=\"http://www.w3.org/2000/svg\" height=\"24px\"viewBox=\"0 0 24 24\"\n",
              "     width=\"24px\">\n",
              "    <g>\n",
              "        <path d=\"M19 3H5c-1.1 0-2 .9-2 2v14c0 1.1.9 2 2 2h14c1.1 0 2-.9 2-2V5c0-1.1-.9-2-2-2zM9 17H7v-7h2v7zm4 0h-2V7h2v10zm4 0h-2v-4h2v4z\"/>\n",
              "    </g>\n",
              "</svg>\n",
              "  </button>\n",
              "\n",
              "<style>\n",
              "  .colab-df-quickchart {\n",
              "      --bg-color: #E8F0FE;\n",
              "      --fill-color: #1967D2;\n",
              "      --hover-bg-color: #E2EBFA;\n",
              "      --hover-fill-color: #174EA6;\n",
              "      --disabled-fill-color: #AAA;\n",
              "      --disabled-bg-color: #DDD;\n",
              "  }\n",
              "\n",
              "  [theme=dark] .colab-df-quickchart {\n",
              "      --bg-color: #3B4455;\n",
              "      --fill-color: #D2E3FC;\n",
              "      --hover-bg-color: #434B5C;\n",
              "      --hover-fill-color: #FFFFFF;\n",
              "      --disabled-bg-color: #3B4455;\n",
              "      --disabled-fill-color: #666;\n",
              "  }\n",
              "\n",
              "  .colab-df-quickchart {\n",
              "    background-color: var(--bg-color);\n",
              "    border: none;\n",
              "    border-radius: 50%;\n",
              "    cursor: pointer;\n",
              "    display: none;\n",
              "    fill: var(--fill-color);\n",
              "    height: 32px;\n",
              "    padding: 0;\n",
              "    width: 32px;\n",
              "  }\n",
              "\n",
              "  .colab-df-quickchart:hover {\n",
              "    background-color: var(--hover-bg-color);\n",
              "    box-shadow: 0 1px 2px rgba(60, 64, 67, 0.3), 0 1px 3px 1px rgba(60, 64, 67, 0.15);\n",
              "    fill: var(--button-hover-fill-color);\n",
              "  }\n",
              "\n",
              "  .colab-df-quickchart-complete:disabled,\n",
              "  .colab-df-quickchart-complete:disabled:hover {\n",
              "    background-color: var(--disabled-bg-color);\n",
              "    fill: var(--disabled-fill-color);\n",
              "    box-shadow: none;\n",
              "  }\n",
              "\n",
              "  .colab-df-spinner {\n",
              "    border: 2px solid var(--fill-color);\n",
              "    border-color: transparent;\n",
              "    border-bottom-color: var(--fill-color);\n",
              "    animation:\n",
              "      spin 1s steps(1) infinite;\n",
              "  }\n",
              "\n",
              "  @keyframes spin {\n",
              "    0% {\n",
              "      border-color: transparent;\n",
              "      border-bottom-color: var(--fill-color);\n",
              "      border-left-color: var(--fill-color);\n",
              "    }\n",
              "    20% {\n",
              "      border-color: transparent;\n",
              "      border-left-color: var(--fill-color);\n",
              "      border-top-color: var(--fill-color);\n",
              "    }\n",
              "    30% {\n",
              "      border-color: transparent;\n",
              "      border-left-color: var(--fill-color);\n",
              "      border-top-color: var(--fill-color);\n",
              "      border-right-color: var(--fill-color);\n",
              "    }\n",
              "    40% {\n",
              "      border-color: transparent;\n",
              "      border-right-color: var(--fill-color);\n",
              "      border-top-color: var(--fill-color);\n",
              "    }\n",
              "    60% {\n",
              "      border-color: transparent;\n",
              "      border-right-color: var(--fill-color);\n",
              "    }\n",
              "    80% {\n",
              "      border-color: transparent;\n",
              "      border-right-color: var(--fill-color);\n",
              "      border-bottom-color: var(--fill-color);\n",
              "    }\n",
              "    90% {\n",
              "      border-color: transparent;\n",
              "      border-bottom-color: var(--fill-color);\n",
              "    }\n",
              "  }\n",
              "</style>\n",
              "\n",
              "  <script>\n",
              "    async function quickchart(key) {\n",
              "      const quickchartButtonEl =\n",
              "        document.querySelector('#' + key + ' button');\n",
              "      quickchartButtonEl.disabled = true;  // To prevent multiple clicks.\n",
              "      quickchartButtonEl.classList.add('colab-df-spinner');\n",
              "      try {\n",
              "        const charts = await google.colab.kernel.invokeFunction(\n",
              "            'suggestCharts', [key], {});\n",
              "      } catch (error) {\n",
              "        console.error('Error during call to suggestCharts:', error);\n",
              "      }\n",
              "      quickchartButtonEl.classList.remove('colab-df-spinner');\n",
              "      quickchartButtonEl.classList.add('colab-df-quickchart-complete');\n",
              "    }\n",
              "    (() => {\n",
              "      let quickchartButtonEl =\n",
              "        document.querySelector('#df-66091d19-e2eb-43fb-9626-6db927cf1033 button');\n",
              "      quickchartButtonEl.style.display =\n",
              "        google.colab.kernel.accessAllowed ? 'block' : 'none';\n",
              "    })();\n",
              "  </script>\n",
              "</div>\n",
              "    </div>\n",
              "  </div>\n"
            ],
            "application/vnd.google.colaboratory.intrinsic+json": {
              "type": "dataframe",
              "variable_name": "x_train"
            }
          },
          "metadata": {},
          "execution_count": 594
        }
      ]
    },
    {
      "cell_type": "code",
      "source": [
        "preprocessed_data['y_train']"
      ],
      "metadata": {
        "colab": {
          "base_uri": "https://localhost:8080/"
        },
        "id": "wCqnB_KDARDR",
        "outputId": "51530350-9148-4ac9-aeb0-04a6d60b3f9a"
      },
      "execution_count": 595,
      "outputs": [
        {
          "output_type": "execute_result",
          "data": {
            "text/plain": [
              "array([11, 11, 11, ..., 18, 11, 11])"
            ]
          },
          "metadata": {},
          "execution_count": 595
        }
      ]
    },
    {
      "cell_type": "code",
      "source": [
        "np.unique(preprocessed_data['y_train'])"
      ],
      "metadata": {
        "colab": {
          "base_uri": "https://localhost:8080/"
        },
        "id": "OnXGQS2GARGN",
        "outputId": "b187e031-2799-4650-cf6f-85804459c8c4"
      },
      "execution_count": 596,
      "outputs": [
        {
          "output_type": "execute_result",
          "data": {
            "text/plain": [
              "array([ 0,  1,  3,  5,  9, 10, 11, 14, 15, 17, 18, 20, 21, 22])"
            ]
          },
          "metadata": {},
          "execution_count": 596
        }
      ]
    },
    {
      "cell_type": "code",
      "source": [],
      "metadata": {
        "id": "8qPMsOA7ARI-"
      },
      "execution_count": 596,
      "outputs": []
    },
    {
      "cell_type": "markdown",
      "metadata": {
        "id": "lzvQAr_R_1kJ"
      },
      "source": [
        "Let us load the same KDD-99 dataset that we used in the previous labs."
      ]
    },
    {
      "cell_type": "markdown",
      "metadata": {
        "id": "7H8ujAhK_1kK"
      },
      "source": [
        "Just like in Lab 2, we will split the pickled data into vectors and assign them to the label encoder `le`, training and testing sets."
      ]
    },
    {
      "cell_type": "code",
      "execution_count": 597,
      "metadata": {
        "id": "y87vWS-0_1kK",
        "outputId": "3279e7ef-6e24-4bc0-dfa0-6055e78d8f42",
        "colab": {
          "base_uri": "https://localhost:8080/"
        }
      },
      "outputs": [
        {
          "output_type": "stream",
          "name": "stdout",
          "text": [
            "x_train\n",
            "y_train\n",
            "x_test\n",
            "y_test\n",
            "le\n"
          ]
        }
      ],
      "source": [
        "for key,value in preprocessed_data.items():\n",
        "    print(key)"
      ]
    },
    {
      "cell_type": "code",
      "source": [
        "x_train.shape"
      ],
      "metadata": {
        "colab": {
          "base_uri": "https://localhost:8080/"
        },
        "id": "Z1kWOalzo7p3",
        "outputId": "c64f3e91-217e-4ff3-fec2-4b5d4b145fbc"
      },
      "execution_count": 598,
      "outputs": [
        {
          "output_type": "execute_result",
          "data": {
            "text/plain": [
              "(80253, 115)"
            ]
          },
          "metadata": {},
          "execution_count": 598
        }
      ]
    },
    {
      "cell_type": "code",
      "execution_count": 599,
      "metadata": {
        "id": "q0zT-O0q_1kL"
      },
      "outputs": [],
      "source": [
        "le = preprocessed_data['le']\n",
        "x_train = preprocessed_data['x_train']\n",
        "y_train = preprocessed_data['y_train']\n",
        "x_test = preprocessed_data['x_test']\n",
        "y_test = preprocessed_data['y_test']"
      ]
    },
    {
      "cell_type": "code",
      "source": [
        "x_train.shape"
      ],
      "metadata": {
        "colab": {
          "base_uri": "https://localhost:8080/"
        },
        "id": "gs_7wNeJvXfI",
        "outputId": "ec36116b-e9ed-4b98-f7f8-67b7e7e1e769"
      },
      "execution_count": 600,
      "outputs": [
        {
          "output_type": "execute_result",
          "data": {
            "text/plain": [
              "(80253, 115)"
            ]
          },
          "metadata": {},
          "execution_count": 600
        }
      ]
    },
    {
      "cell_type": "code",
      "source": [
        "y_train.shape"
      ],
      "metadata": {
        "colab": {
          "base_uri": "https://localhost:8080/"
        },
        "id": "rrxGsn0vvXiR",
        "outputId": "40733a9c-b31f-4d11-c660-d0801b56c03b"
      },
      "execution_count": 601,
      "outputs": [
        {
          "output_type": "execute_result",
          "data": {
            "text/plain": [
              "(80253,)"
            ]
          },
          "metadata": {},
          "execution_count": 601
        }
      ]
    },
    {
      "cell_type": "code",
      "source": [
        "np.unique(y_train)"
      ],
      "metadata": {
        "colab": {
          "base_uri": "https://localhost:8080/"
        },
        "id": "RumLCjZkDAtv",
        "outputId": "ed4c8f1b-87f6-4e70-989e-851607398097"
      },
      "execution_count": 602,
      "outputs": [
        {
          "output_type": "execute_result",
          "data": {
            "text/plain": [
              "array([ 0,  1,  3,  5,  9, 10, 11, 14, 15, 17, 18, 20, 21, 22])"
            ]
          },
          "metadata": {},
          "execution_count": 602
        }
      ]
    },
    {
      "cell_type": "code",
      "source": [
        "x_test.shape"
      ],
      "metadata": {
        "colab": {
          "base_uri": "https://localhost:8080/"
        },
        "id": "QWwk_XBRvXlH",
        "outputId": "960c82be-561f-46d9-a07e-9c6f9239afdc"
      },
      "execution_count": 603,
      "outputs": [
        {
          "output_type": "execute_result",
          "data": {
            "text/plain": [
              "(26752, 115)"
            ]
          },
          "metadata": {},
          "execution_count": 603
        }
      ]
    },
    {
      "cell_type": "code",
      "source": [
        "y_test.shape"
      ],
      "metadata": {
        "colab": {
          "base_uri": "https://localhost:8080/"
        },
        "id": "ZrqlAolPvXoa",
        "outputId": "17d67546-ac06-4237-ad9a-064fc56b4e21"
      },
      "execution_count": 604,
      "outputs": [
        {
          "output_type": "execute_result",
          "data": {
            "text/plain": [
              "(26752,)"
            ]
          },
          "metadata": {},
          "execution_count": 604
        }
      ]
    },
    {
      "cell_type": "code",
      "execution_count": 605,
      "metadata": {
        "id": "79k2VL7q_1kL",
        "colab": {
          "base_uri": "https://localhost:8080/"
        },
        "outputId": "65d37222-0a67-4722-9fde-4ab30f9e42ca"
      },
      "outputs": [
        {
          "output_type": "execute_result",
          "data": {
            "text/plain": [
              "array([ 0,  1,  3,  5,  9, 10, 11, 14, 15, 17, 18, 20, 21, 22])"
            ]
          },
          "metadata": {},
          "execution_count": 605
        }
      ],
      "source": [
        "np.unique(y_train)"
      ]
    },
    {
      "cell_type": "code",
      "source": [
        "preprocessed_data['le']"
      ],
      "metadata": {
        "colab": {
          "base_uri": "https://localhost:8080/",
          "height": 74
        },
        "id": "KD8dpq6Hli0p",
        "outputId": "4942872d-3fcf-437e-9d51-58ce8b6f6bc4"
      },
      "execution_count": 606,
      "outputs": [
        {
          "output_type": "execute_result",
          "data": {
            "text/plain": [
              "LabelEncoder()"
            ],
            "text/html": [
              "<style>#sk-container-id-16 {color: black;background-color: white;}#sk-container-id-16 pre{padding: 0;}#sk-container-id-16 div.sk-toggleable {background-color: white;}#sk-container-id-16 label.sk-toggleable__label {cursor: pointer;display: block;width: 100%;margin-bottom: 0;padding: 0.3em;box-sizing: border-box;text-align: center;}#sk-container-id-16 label.sk-toggleable__label-arrow:before {content: \"▸\";float: left;margin-right: 0.25em;color: #696969;}#sk-container-id-16 label.sk-toggleable__label-arrow:hover:before {color: black;}#sk-container-id-16 div.sk-estimator:hover label.sk-toggleable__label-arrow:before {color: black;}#sk-container-id-16 div.sk-toggleable__content {max-height: 0;max-width: 0;overflow: hidden;text-align: left;background-color: #f0f8ff;}#sk-container-id-16 div.sk-toggleable__content pre {margin: 0.2em;color: black;border-radius: 0.25em;background-color: #f0f8ff;}#sk-container-id-16 input.sk-toggleable__control:checked~div.sk-toggleable__content {max-height: 200px;max-width: 100%;overflow: auto;}#sk-container-id-16 input.sk-toggleable__control:checked~label.sk-toggleable__label-arrow:before {content: \"▾\";}#sk-container-id-16 div.sk-estimator input.sk-toggleable__control:checked~label.sk-toggleable__label {background-color: #d4ebff;}#sk-container-id-16 div.sk-label input.sk-toggleable__control:checked~label.sk-toggleable__label {background-color: #d4ebff;}#sk-container-id-16 input.sk-hidden--visually {border: 0;clip: rect(1px 1px 1px 1px);clip: rect(1px, 1px, 1px, 1px);height: 1px;margin: -1px;overflow: hidden;padding: 0;position: absolute;width: 1px;}#sk-container-id-16 div.sk-estimator {font-family: monospace;background-color: #f0f8ff;border: 1px dotted black;border-radius: 0.25em;box-sizing: border-box;margin-bottom: 0.5em;}#sk-container-id-16 div.sk-estimator:hover {background-color: #d4ebff;}#sk-container-id-16 div.sk-parallel-item::after {content: \"\";width: 100%;border-bottom: 1px solid gray;flex-grow: 1;}#sk-container-id-16 div.sk-label:hover label.sk-toggleable__label {background-color: #d4ebff;}#sk-container-id-16 div.sk-serial::before {content: \"\";position: absolute;border-left: 1px solid gray;box-sizing: border-box;top: 0;bottom: 0;left: 50%;z-index: 0;}#sk-container-id-16 div.sk-serial {display: flex;flex-direction: column;align-items: center;background-color: white;padding-right: 0.2em;padding-left: 0.2em;position: relative;}#sk-container-id-16 div.sk-item {position: relative;z-index: 1;}#sk-container-id-16 div.sk-parallel {display: flex;align-items: stretch;justify-content: center;background-color: white;position: relative;}#sk-container-id-16 div.sk-item::before, #sk-container-id-16 div.sk-parallel-item::before {content: \"\";position: absolute;border-left: 1px solid gray;box-sizing: border-box;top: 0;bottom: 0;left: 50%;z-index: -1;}#sk-container-id-16 div.sk-parallel-item {display: flex;flex-direction: column;z-index: 1;position: relative;background-color: white;}#sk-container-id-16 div.sk-parallel-item:first-child::after {align-self: flex-end;width: 50%;}#sk-container-id-16 div.sk-parallel-item:last-child::after {align-self: flex-start;width: 50%;}#sk-container-id-16 div.sk-parallel-item:only-child::after {width: 0;}#sk-container-id-16 div.sk-dashed-wrapped {border: 1px dashed gray;margin: 0 0.4em 0.5em 0.4em;box-sizing: border-box;padding-bottom: 0.4em;background-color: white;}#sk-container-id-16 div.sk-label label {font-family: monospace;font-weight: bold;display: inline-block;line-height: 1.2em;}#sk-container-id-16 div.sk-label-container {text-align: center;}#sk-container-id-16 div.sk-container {/* jupyter's `normalize.less` sets `[hidden] { display: none; }` but bootstrap.min.css set `[hidden] { display: none !important; }` so we also need the `!important` here to be able to override the default hidden behavior on the sphinx rendered scikit-learn.org. See: https://github.com/scikit-learn/scikit-learn/issues/21755 */display: inline-block !important;position: relative;}#sk-container-id-16 div.sk-text-repr-fallback {display: none;}</style><div id=\"sk-container-id-16\" class=\"sk-top-container\"><div class=\"sk-text-repr-fallback\"><pre>LabelEncoder()</pre><b>In a Jupyter environment, please rerun this cell to show the HTML representation or trust the notebook. <br />On GitHub, the HTML representation is unable to render, please try loading this page with nbviewer.org.</b></div><div class=\"sk-container\" hidden><div class=\"sk-item\"><div class=\"sk-estimator sk-toggleable\"><input class=\"sk-toggleable__control sk-hidden--visually\" id=\"sk-estimator-id-16\" type=\"checkbox\" checked><label for=\"sk-estimator-id-16\" class=\"sk-toggleable__label sk-toggleable__label-arrow\">LabelEncoder</label><div class=\"sk-toggleable__content\"><pre>LabelEncoder()</pre></div></div></div></div></div>"
            ]
          },
          "metadata": {},
          "execution_count": 606
        }
      ]
    },
    {
      "cell_type": "markdown",
      "metadata": {
        "id": "dHk6iSFn_1kL"
      },
      "source": [
        "### 1.1 Data Preprocessing"
      ]
    },
    {
      "cell_type": "markdown",
      "metadata": {
        "id": "slh-MfZP_1kM"
      },
      "source": [
        "We first consider the binary classification problem. Similar to previous labs, *Normal* data points will be labeled as '0' and *Anomalous* points will be labeled as '1'."
      ]
    },
    {
      "cell_type": "code",
      "execution_count": 607,
      "metadata": {
        "id": "LYz9uAb9_1kM",
        "outputId": "6fe6a871-cbba-4597-b2b9-017250d4a0dc",
        "colab": {
          "base_uri": "https://localhost:8080/",
          "height": 770
        }
      },
      "outputs": [
        {
          "output_type": "execute_result",
          "data": {
            "text/plain": [
              "                Type\n",
              "0              back.\n",
              "1   buffer_overflow.\n",
              "2         ftp_write.\n",
              "3      guess_passwd.\n",
              "4              imap.\n",
              "5           ipsweep.\n",
              "6              land.\n",
              "7        loadmodule.\n",
              "8          multihop.\n",
              "9           neptune.\n",
              "10             nmap.\n",
              "11           normal.\n",
              "12             perl.\n",
              "13              phf.\n",
              "14              pod.\n",
              "15        portsweep.\n",
              "16          rootkit.\n",
              "17            satan.\n",
              "18            smurf.\n",
              "19              spy.\n",
              "20         teardrop.\n",
              "21      warezclient.\n",
              "22      warezmaster."
            ],
            "text/html": [
              "\n",
              "  <div id=\"df-48974be4-e107-4b44-ab57-3a54eb32088d\" class=\"colab-df-container\">\n",
              "    <div>\n",
              "<style scoped>\n",
              "    .dataframe tbody tr th:only-of-type {\n",
              "        vertical-align: middle;\n",
              "    }\n",
              "\n",
              "    .dataframe tbody tr th {\n",
              "        vertical-align: top;\n",
              "    }\n",
              "\n",
              "    .dataframe thead th {\n",
              "        text-align: right;\n",
              "    }\n",
              "</style>\n",
              "<table border=\"1\" class=\"dataframe\">\n",
              "  <thead>\n",
              "    <tr style=\"text-align: right;\">\n",
              "      <th></th>\n",
              "      <th>Type</th>\n",
              "    </tr>\n",
              "  </thead>\n",
              "  <tbody>\n",
              "    <tr>\n",
              "      <th>0</th>\n",
              "      <td>back.</td>\n",
              "    </tr>\n",
              "    <tr>\n",
              "      <th>1</th>\n",
              "      <td>buffer_overflow.</td>\n",
              "    </tr>\n",
              "    <tr>\n",
              "      <th>2</th>\n",
              "      <td>ftp_write.</td>\n",
              "    </tr>\n",
              "    <tr>\n",
              "      <th>3</th>\n",
              "      <td>guess_passwd.</td>\n",
              "    </tr>\n",
              "    <tr>\n",
              "      <th>4</th>\n",
              "      <td>imap.</td>\n",
              "    </tr>\n",
              "    <tr>\n",
              "      <th>5</th>\n",
              "      <td>ipsweep.</td>\n",
              "    </tr>\n",
              "    <tr>\n",
              "      <th>6</th>\n",
              "      <td>land.</td>\n",
              "    </tr>\n",
              "    <tr>\n",
              "      <th>7</th>\n",
              "      <td>loadmodule.</td>\n",
              "    </tr>\n",
              "    <tr>\n",
              "      <th>8</th>\n",
              "      <td>multihop.</td>\n",
              "    </tr>\n",
              "    <tr>\n",
              "      <th>9</th>\n",
              "      <td>neptune.</td>\n",
              "    </tr>\n",
              "    <tr>\n",
              "      <th>10</th>\n",
              "      <td>nmap.</td>\n",
              "    </tr>\n",
              "    <tr>\n",
              "      <th>11</th>\n",
              "      <td>normal.</td>\n",
              "    </tr>\n",
              "    <tr>\n",
              "      <th>12</th>\n",
              "      <td>perl.</td>\n",
              "    </tr>\n",
              "    <tr>\n",
              "      <th>13</th>\n",
              "      <td>phf.</td>\n",
              "    </tr>\n",
              "    <tr>\n",
              "      <th>14</th>\n",
              "      <td>pod.</td>\n",
              "    </tr>\n",
              "    <tr>\n",
              "      <th>15</th>\n",
              "      <td>portsweep.</td>\n",
              "    </tr>\n",
              "    <tr>\n",
              "      <th>16</th>\n",
              "      <td>rootkit.</td>\n",
              "    </tr>\n",
              "    <tr>\n",
              "      <th>17</th>\n",
              "      <td>satan.</td>\n",
              "    </tr>\n",
              "    <tr>\n",
              "      <th>18</th>\n",
              "      <td>smurf.</td>\n",
              "    </tr>\n",
              "    <tr>\n",
              "      <th>19</th>\n",
              "      <td>spy.</td>\n",
              "    </tr>\n",
              "    <tr>\n",
              "      <th>20</th>\n",
              "      <td>teardrop.</td>\n",
              "    </tr>\n",
              "    <tr>\n",
              "      <th>21</th>\n",
              "      <td>warezclient.</td>\n",
              "    </tr>\n",
              "    <tr>\n",
              "      <th>22</th>\n",
              "      <td>warezmaster.</td>\n",
              "    </tr>\n",
              "  </tbody>\n",
              "</table>\n",
              "</div>\n",
              "    <div class=\"colab-df-buttons\">\n",
              "\n",
              "  <div class=\"colab-df-container\">\n",
              "    <button class=\"colab-df-convert\" onclick=\"convertToInteractive('df-48974be4-e107-4b44-ab57-3a54eb32088d')\"\n",
              "            title=\"Convert this dataframe to an interactive table.\"\n",
              "            style=\"display:none;\">\n",
              "\n",
              "  <svg xmlns=\"http://www.w3.org/2000/svg\" height=\"24px\" viewBox=\"0 -960 960 960\">\n",
              "    <path d=\"M120-120v-720h720v720H120Zm60-500h600v-160H180v160Zm220 220h160v-160H400v160Zm0 220h160v-160H400v160ZM180-400h160v-160H180v160Zm440 0h160v-160H620v160ZM180-180h160v-160H180v160Zm440 0h160v-160H620v160Z\"/>\n",
              "  </svg>\n",
              "    </button>\n",
              "\n",
              "  <style>\n",
              "    .colab-df-container {\n",
              "      display:flex;\n",
              "      gap: 12px;\n",
              "    }\n",
              "\n",
              "    .colab-df-convert {\n",
              "      background-color: #E8F0FE;\n",
              "      border: none;\n",
              "      border-radius: 50%;\n",
              "      cursor: pointer;\n",
              "      display: none;\n",
              "      fill: #1967D2;\n",
              "      height: 32px;\n",
              "      padding: 0 0 0 0;\n",
              "      width: 32px;\n",
              "    }\n",
              "\n",
              "    .colab-df-convert:hover {\n",
              "      background-color: #E2EBFA;\n",
              "      box-shadow: 0px 1px 2px rgba(60, 64, 67, 0.3), 0px 1px 3px 1px rgba(60, 64, 67, 0.15);\n",
              "      fill: #174EA6;\n",
              "    }\n",
              "\n",
              "    .colab-df-buttons div {\n",
              "      margin-bottom: 4px;\n",
              "    }\n",
              "\n",
              "    [theme=dark] .colab-df-convert {\n",
              "      background-color: #3B4455;\n",
              "      fill: #D2E3FC;\n",
              "    }\n",
              "\n",
              "    [theme=dark] .colab-df-convert:hover {\n",
              "      background-color: #434B5C;\n",
              "      box-shadow: 0px 1px 3px 1px rgba(0, 0, 0, 0.15);\n",
              "      filter: drop-shadow(0px 1px 2px rgba(0, 0, 0, 0.3));\n",
              "      fill: #FFFFFF;\n",
              "    }\n",
              "  </style>\n",
              "\n",
              "    <script>\n",
              "      const buttonEl =\n",
              "        document.querySelector('#df-48974be4-e107-4b44-ab57-3a54eb32088d button.colab-df-convert');\n",
              "      buttonEl.style.display =\n",
              "        google.colab.kernel.accessAllowed ? 'block' : 'none';\n",
              "\n",
              "      async function convertToInteractive(key) {\n",
              "        const element = document.querySelector('#df-48974be4-e107-4b44-ab57-3a54eb32088d');\n",
              "        const dataTable =\n",
              "          await google.colab.kernel.invokeFunction('convertToInteractive',\n",
              "                                                    [key], {});\n",
              "        if (!dataTable) return;\n",
              "\n",
              "        const docLinkHtml = 'Like what you see? Visit the ' +\n",
              "          '<a target=\"_blank\" href=https://colab.research.google.com/notebooks/data_table.ipynb>data table notebook</a>'\n",
              "          + ' to learn more about interactive tables.';\n",
              "        element.innerHTML = '';\n",
              "        dataTable['output_type'] = 'display_data';\n",
              "        await google.colab.output.renderOutput(dataTable, element);\n",
              "        const docLink = document.createElement('div');\n",
              "        docLink.innerHTML = docLinkHtml;\n",
              "        element.appendChild(docLink);\n",
              "      }\n",
              "    </script>\n",
              "  </div>\n",
              "\n",
              "\n",
              "<div id=\"df-6bcbe4b0-96a4-4e40-a45b-5a20092ff811\">\n",
              "  <button class=\"colab-df-quickchart\" onclick=\"quickchart('df-6bcbe4b0-96a4-4e40-a45b-5a20092ff811')\"\n",
              "            title=\"Suggest charts\"\n",
              "            style=\"display:none;\">\n",
              "\n",
              "<svg xmlns=\"http://www.w3.org/2000/svg\" height=\"24px\"viewBox=\"0 0 24 24\"\n",
              "     width=\"24px\">\n",
              "    <g>\n",
              "        <path d=\"M19 3H5c-1.1 0-2 .9-2 2v14c0 1.1.9 2 2 2h14c1.1 0 2-.9 2-2V5c0-1.1-.9-2-2-2zM9 17H7v-7h2v7zm4 0h-2V7h2v10zm4 0h-2v-4h2v4z\"/>\n",
              "    </g>\n",
              "</svg>\n",
              "  </button>\n",
              "\n",
              "<style>\n",
              "  .colab-df-quickchart {\n",
              "      --bg-color: #E8F0FE;\n",
              "      --fill-color: #1967D2;\n",
              "      --hover-bg-color: #E2EBFA;\n",
              "      --hover-fill-color: #174EA6;\n",
              "      --disabled-fill-color: #AAA;\n",
              "      --disabled-bg-color: #DDD;\n",
              "  }\n",
              "\n",
              "  [theme=dark] .colab-df-quickchart {\n",
              "      --bg-color: #3B4455;\n",
              "      --fill-color: #D2E3FC;\n",
              "      --hover-bg-color: #434B5C;\n",
              "      --hover-fill-color: #FFFFFF;\n",
              "      --disabled-bg-color: #3B4455;\n",
              "      --disabled-fill-color: #666;\n",
              "  }\n",
              "\n",
              "  .colab-df-quickchart {\n",
              "    background-color: var(--bg-color);\n",
              "    border: none;\n",
              "    border-radius: 50%;\n",
              "    cursor: pointer;\n",
              "    display: none;\n",
              "    fill: var(--fill-color);\n",
              "    height: 32px;\n",
              "    padding: 0;\n",
              "    width: 32px;\n",
              "  }\n",
              "\n",
              "  .colab-df-quickchart:hover {\n",
              "    background-color: var(--hover-bg-color);\n",
              "    box-shadow: 0 1px 2px rgba(60, 64, 67, 0.3), 0 1px 3px 1px rgba(60, 64, 67, 0.15);\n",
              "    fill: var(--button-hover-fill-color);\n",
              "  }\n",
              "\n",
              "  .colab-df-quickchart-complete:disabled,\n",
              "  .colab-df-quickchart-complete:disabled:hover {\n",
              "    background-color: var(--disabled-bg-color);\n",
              "    fill: var(--disabled-fill-color);\n",
              "    box-shadow: none;\n",
              "  }\n",
              "\n",
              "  .colab-df-spinner {\n",
              "    border: 2px solid var(--fill-color);\n",
              "    border-color: transparent;\n",
              "    border-bottom-color: var(--fill-color);\n",
              "    animation:\n",
              "      spin 1s steps(1) infinite;\n",
              "  }\n",
              "\n",
              "  @keyframes spin {\n",
              "    0% {\n",
              "      border-color: transparent;\n",
              "      border-bottom-color: var(--fill-color);\n",
              "      border-left-color: var(--fill-color);\n",
              "    }\n",
              "    20% {\n",
              "      border-color: transparent;\n",
              "      border-left-color: var(--fill-color);\n",
              "      border-top-color: var(--fill-color);\n",
              "    }\n",
              "    30% {\n",
              "      border-color: transparent;\n",
              "      border-left-color: var(--fill-color);\n",
              "      border-top-color: var(--fill-color);\n",
              "      border-right-color: var(--fill-color);\n",
              "    }\n",
              "    40% {\n",
              "      border-color: transparent;\n",
              "      border-right-color: var(--fill-color);\n",
              "      border-top-color: var(--fill-color);\n",
              "    }\n",
              "    60% {\n",
              "      border-color: transparent;\n",
              "      border-right-color: var(--fill-color);\n",
              "    }\n",
              "    80% {\n",
              "      border-color: transparent;\n",
              "      border-right-color: var(--fill-color);\n",
              "      border-bottom-color: var(--fill-color);\n",
              "    }\n",
              "    90% {\n",
              "      border-color: transparent;\n",
              "      border-bottom-color: var(--fill-color);\n",
              "    }\n",
              "  }\n",
              "</style>\n",
              "\n",
              "  <script>\n",
              "    async function quickchart(key) {\n",
              "      const quickchartButtonEl =\n",
              "        document.querySelector('#' + key + ' button');\n",
              "      quickchartButtonEl.disabled = true;  // To prevent multiple clicks.\n",
              "      quickchartButtonEl.classList.add('colab-df-spinner');\n",
              "      try {\n",
              "        const charts = await google.colab.kernel.invokeFunction(\n",
              "            'suggestCharts', [key], {});\n",
              "      } catch (error) {\n",
              "        console.error('Error during call to suggestCharts:', error);\n",
              "      }\n",
              "      quickchartButtonEl.classList.remove('colab-df-spinner');\n",
              "      quickchartButtonEl.classList.add('colab-df-quickchart-complete');\n",
              "    }\n",
              "    (() => {\n",
              "      let quickchartButtonEl =\n",
              "        document.querySelector('#df-6bcbe4b0-96a4-4e40-a45b-5a20092ff811 button');\n",
              "      quickchartButtonEl.style.display =\n",
              "        google.colab.kernel.accessAllowed ? 'block' : 'none';\n",
              "    })();\n",
              "  </script>\n",
              "</div>\n",
              "    </div>\n",
              "  </div>\n"
            ],
            "application/vnd.google.colaboratory.intrinsic+json": {
              "type": "dataframe",
              "summary": "{\n  \"name\": \"pd\",\n  \"rows\": 23,\n  \"fields\": [\n    {\n      \"column\": \"Type\",\n      \"properties\": {\n        \"dtype\": \"string\",\n        \"num_unique_values\": 23,\n        \"samples\": [\n          \"portsweep.\",\n          \"neptune.\",\n          \"back.\"\n        ],\n        \"semantic_type\": \"\",\n        \"description\": \"\"\n      }\n    }\n  ]\n}"
            }
          },
          "metadata": {},
          "execution_count": 607
        }
      ],
      "source": [
        "#Obtain the class number for Normal entries\n",
        "pd.DataFrame(le.classes_, columns = ['Type'])"
      ]
    },
    {
      "cell_type": "code",
      "source": [
        "y_test"
      ],
      "metadata": {
        "colab": {
          "base_uri": "https://localhost:8080/"
        },
        "id": "6adiUB0Dpemb",
        "outputId": "ad962ccb-f6d2-4fbe-a16f-1d9be16c5728"
      },
      "execution_count": 608,
      "outputs": [
        {
          "output_type": "execute_result",
          "data": {
            "text/plain": [
              "array([11, 11,  9, ..., 11, 11, 11])"
            ]
          },
          "metadata": {},
          "execution_count": 608
        }
      ]
    },
    {
      "cell_type": "code",
      "execution_count": 609,
      "metadata": {
        "id": "GYd_E0_d_1kM"
      },
      "outputs": [],
      "source": [
        "# Converting labels to Binary\n",
        "\n",
        "y_test[y_test != 11] = 1\n",
        "y_test[y_test == 11] = 0\n",
        "y_train[y_train != 11] = 1\n",
        "y_train[y_train == 11] = 0"
      ]
    },
    {
      "cell_type": "code",
      "source": [
        "np.unique(y_test)"
      ],
      "metadata": {
        "colab": {
          "base_uri": "https://localhost:8080/"
        },
        "id": "uk4uQF3PDLKa",
        "outputId": "f46ccc45-c920-4c8f-8010-88db6c6d13ed"
      },
      "execution_count": 610,
      "outputs": [
        {
          "output_type": "execute_result",
          "data": {
            "text/plain": [
              "array([0, 1])"
            ]
          },
          "metadata": {},
          "execution_count": 610
        }
      ]
    },
    {
      "cell_type": "markdown",
      "metadata": {
        "id": "K8bgyx5k_1kM"
      },
      "source": [
        "We will now split the dataset into normal and anomalous data. We will need to do this in order to be able to train GANs to generate Normal packets only and then predict the anomaly based on the Discriminator output. The details regarding this will be covered later in the lab."
      ]
    },
    {
      "cell_type": "code",
      "execution_count": 611,
      "metadata": {
        "id": "to5nXR_P_1kM"
      },
      "outputs": [],
      "source": [
        "#Subsetting only Normal Network packets in our training set\n",
        "\n",
        "temp_df = x_train.copy()\n",
        "temp_df['label'] = y_train\n",
        "temp_df = temp_df.loc[temp_df['label'] == 0]\n",
        "temp_df = temp_df.drop('label', axis = 1)\n",
        "x_train = temp_df.copy()"
      ]
    },
    {
      "cell_type": "code",
      "source": [
        "temp_df.shape"
      ],
      "metadata": {
        "colab": {
          "base_uri": "https://localhost:8080/"
        },
        "id": "BH-OohaxEA62",
        "outputId": "7ca64a04-31b1-408a-a1f7-eb0e9e1720aa"
      },
      "execution_count": 612,
      "outputs": [
        {
          "output_type": "execute_result",
          "data": {
            "text/plain": [
              "(72921, 115)"
            ]
          },
          "metadata": {},
          "execution_count": 612
        }
      ]
    },
    {
      "cell_type": "code",
      "source": [
        "y_train.shape"
      ],
      "metadata": {
        "colab": {
          "base_uri": "https://localhost:8080/"
        },
        "id": "2zA3x0OYEA-N",
        "outputId": "b66d8ad3-d5e8-43d9-e579-8a9002df4b50"
      },
      "execution_count": 613,
      "outputs": [
        {
          "output_type": "execute_result",
          "data": {
            "text/plain": [
              "(80253,)"
            ]
          },
          "metadata": {},
          "execution_count": 613
        }
      ]
    },
    {
      "cell_type": "code",
      "source": [],
      "metadata": {
        "id": "bgZ3s2h5EBBH"
      },
      "execution_count": 613,
      "outputs": []
    },
    {
      "cell_type": "code",
      "source": [
        "x_train.shape"
      ],
      "metadata": {
        "colab": {
          "base_uri": "https://localhost:8080/"
        },
        "id": "tqr0SPulwBti",
        "outputId": "a9dec6d6-f9a0-4c34-9c33-2e4e77dce269"
      },
      "execution_count": 614,
      "outputs": [
        {
          "output_type": "execute_result",
          "data": {
            "text/plain": [
              "(72921, 115)"
            ]
          },
          "metadata": {},
          "execution_count": 614
        }
      ]
    },
    {
      "cell_type": "code",
      "source": [
        "np.unique(y_train)"
      ],
      "metadata": {
        "colab": {
          "base_uri": "https://localhost:8080/"
        },
        "id": "kp4Iat8kwBzX",
        "outputId": "7d293fee-4fdb-45ab-8d83-a58771daa735"
      },
      "execution_count": 615,
      "outputs": [
        {
          "output_type": "execute_result",
          "data": {
            "text/plain": [
              "array([0, 1])"
            ]
          },
          "metadata": {},
          "execution_count": 615
        }
      ]
    },
    {
      "cell_type": "markdown",
      "metadata": {
        "id": "itRX22fl_1kM"
      },
      "source": [
        "Similar to Lab 2, we scale the input training data between 0 and 1 before feeding it to the model."
      ]
    },
    {
      "cell_type": "code",
      "source": [
        "# Normalize the above splits using the MinMaxScaler from the scikit learn package\n",
        "scaler = MinMaxScaler()\n",
        "\n",
        "# Make sure to only fit the scaler on the training data\n",
        "x_train = scaler.fit_transform(x_train)\n",
        "x_test = scaler.transform(x_test)\n",
        "\n",
        "#Creating dataset dictionary\n",
        "dataset = {}\n",
        "dataset['x_train'] = x_train.astype(np.float32)\n",
        "dataset['y_train'] = y_train.astype(np.float32)\n",
        "dataset['x_test']  = x_test.astype(np.float32)\n",
        "dataset['y_test']  = y_test.astype(np.float32)"
      ],
      "metadata": {
        "id": "nuCu08jxlVEx"
      },
      "execution_count": 616,
      "outputs": []
    },
    {
      "cell_type": "code",
      "source": [
        "dataset['x_train'].shape"
      ],
      "metadata": {
        "colab": {
          "base_uri": "https://localhost:8080/"
        },
        "id": "_Gwo6il7v0X3",
        "outputId": "3daecb87-8338-4bcf-b7ee-1630a5be5c62"
      },
      "execution_count": 617,
      "outputs": [
        {
          "output_type": "execute_result",
          "data": {
            "text/plain": [
              "(72921, 115)"
            ]
          },
          "metadata": {},
          "execution_count": 617
        }
      ]
    },
    {
      "cell_type": "code",
      "source": [
        "dataset['y_train'].shape"
      ],
      "metadata": {
        "colab": {
          "base_uri": "https://localhost:8080/"
        },
        "id": "vYl1nKgCv0ax",
        "outputId": "4df89294-5d09-4c8e-927b-b2b640892c22"
      },
      "execution_count": 618,
      "outputs": [
        {
          "output_type": "execute_result",
          "data": {
            "text/plain": [
              "(80253,)"
            ]
          },
          "metadata": {},
          "execution_count": 618
        }
      ]
    },
    {
      "cell_type": "code",
      "source": [],
      "metadata": {
        "id": "ptsV_EOWv0dz"
      },
      "execution_count": 618,
      "outputs": []
    },
    {
      "cell_type": "markdown",
      "metadata": {
        "id": "vaqR7rzK_1kN"
      },
      "source": [
        "**Summary of the datasets** :\n",
        "- The Training set consists of only normal network packets.\n",
        "- The Testing set comprises a small number of anomalous network packets of about 1%, reflecting what we see in the real world.\n"
      ]
    },
    {
      "cell_type": "code",
      "execution_count": 619,
      "metadata": {
        "id": "4llraS28_1kN",
        "outputId": "c53b666e-8b22-461a-e0e8-9d6b15ff9e21",
        "colab": {
          "base_uri": "https://localhost:8080/"
        }
      },
      "outputs": [
        {
          "output_type": "stream",
          "name": "stdout",
          "text": [
            "Number of Normal Network packets in the Training set: 72921\n",
            "Number of Normal Network packets in the Testing set: 24357\n",
            "Number of Anomalous Network packets in the Testing set: 2395\n"
          ]
        }
      ],
      "source": [
        "# check how many anomalies are in our Testing set\n",
        "print('Number of Normal Network packets in the Training set:', x_train.shape[0])\n",
        "print('Number of Normal Network packets in the Testing set:', collections.Counter(y_test)[0])\n",
        "print('Number of Anomalous Network packets in the Testing set:', collections.Counter(y_test)[1])"
      ]
    },
    {
      "cell_type": "markdown",
      "metadata": {
        "id": "AJEaKmi5_1kN"
      },
      "source": [
        "## Section 2: Generative Adversarial Networks"
      ]
    },
    {
      "cell_type": "markdown",
      "metadata": {
        "id": "GGuLGhET_1kN"
      },
      "source": [
        "Generative Adversarial Networks (GAN) were introduced by Ian Goodfellow in [Generative Adversarial Networks](https://arxiv.org/abs/1406.2661), Goodfellow, 2014.\n",
        "\n",
        "<br>\n",
        "<img src=\"https://drive.google.com/uc?id=14f7ZwXxyigpwx7bIVFxAOSb_aV28bFav\" alt=\"Alt text that describes the graphic\" title=\"Title text\" />\n",
        "<br>\n",
        "\n",
        "\n",
        "The GAN consists of two networks namely:\n",
        "- The generator `G` that produces fake samples\n",
        "- The discriminator `D` that that receives samples from both `G` and the dataset.\n",
        "\n",
        "During Training the two networks have competing goals. The generator tries to fool the discriminator by outputting values that resemble real data and the discriminator tries to become better at distinguishing between the real and fake data.\n",
        "\n",
        "Mathematically, this means that the Generator's weights are optimized to maximize the probability that fake data is classified as belonging to the real data. The discriminators's weights are optimized to maximize the probability that the real input data is classified as real while minimizing the probability of fake input data being classified as real.\n",
        "\n",
        "Optimality is reached when the generator produces an output that the disciminator cannot concretely label as real or fake and this, happens when either of the networks cannot improve anymore.\n",
        "\n",
        "$\\min_G \\max_D V(D, G) = \\log D(x) + \\log(1 - D(G(z)))\n",
        "$\n",
        "\n",
        "The first part of the above equation reflects the log probability of the discriminator predicting that the input sample is genuine and the second half reflects the probability of the Discriminator predicting that the Generator's output is not genuine.\n",
        "\n",
        "The min-max formulation is a concise one-liner that intuitively demonstrates the adversarial nature of thecompetition between the generator and the discriminator. However, in practice, we define separate loss functions for the generator and the discriminator as we have done above.\n",
        "\n",
        "In this lab, we will be train our GAN on normal network packets. The generator inputs noise and as training progresses the GAN learns the mapping between these random values to the input distribution. The discriminator outputs a score of how likely the the generated output resembles the real data."
      ]
    },
    {
      "cell_type": "markdown",
      "metadata": {
        "id": "ieATzFAf_1kN"
      },
      "source": [
        "### 2.1 Generator Network"
      ]
    },
    {
      "cell_type": "markdown",
      "metadata": {
        "id": "LqUKDAeI_1kN"
      },
      "source": [
        "The Generator is used to synthesize fake data points. As shown below, it consists of 5 Dense Layers with a `tanh` activation function and uses `binary cross-entropy` for calculating the generator loss. Binary cross-entropy loss measures the performance of a two class classification model whose output is a probability value between 0 and 1. A perfect model would have a loss of 0."
      ]
    },
    {
      "cell_type": "code",
      "execution_count": 620,
      "metadata": {
        "id": "4RkjUu9j_1kN"
      },
      "outputs": [],
      "source": [
        "# Defining the Generator network\n",
        "\n",
        "def get_generator(optimizer):\n",
        "\n",
        "    generator = Sequential()\n",
        "    generator.add(Dense(64, input_dim=115, kernel_initializer=initializers.glorot_normal(seed=42)))\n",
        "    generator.add(Activation('tanh'))\n",
        "\n",
        "    generator.add(Dense(128))\n",
        "    generator.add(Activation('tanh'))\n",
        "\n",
        "    generator.add(Dense(256))\n",
        "    generator.add(Activation('tanh'))\n",
        "\n",
        "    generator.add(Dense(256))\n",
        "    generator.add(Activation('tanh'))\n",
        "\n",
        "    generator.add(Dense(512))\n",
        "    generator.add(Activation('tanh'))\n",
        "\n",
        "    generator.add(Dense(115, activation='tanh'))\n",
        "\n",
        "    generator.compile(loss='binary_crossentropy', optimizer=optimizer)\n",
        "\n",
        "    return generator"
      ]
    },
    {
      "cell_type": "markdown",
      "metadata": {
        "id": "Z4lDvWcp_1kN"
      },
      "source": [
        "### 2.2 Discriminator Network"
      ]
    },
    {
      "cell_type": "markdown",
      "metadata": {
        "id": "5c-wS_io_1kO"
      },
      "source": [
        "The Discriminator basically outputs the score of a sample belonging to the real dataset or the synthetic dataset. It consists of 6 dense layers-each followed by a dropout layer to help prevent overfitting. The sigmoid activation function is applied to the final layer to obtain a value in the range 0 to 1."
      ]
    },
    {
      "cell_type": "code",
      "execution_count": 621,
      "metadata": {
        "id": "9dYs-EvB_1kO"
      },
      "outputs": [],
      "source": [
        "##### Defining the Discriminator network\n",
        "\n",
        "def get_discriminator(optimizer):\n",
        "\n",
        "    discriminator = Sequential()\n",
        "\n",
        "    discriminator.add(Dense(256, input_dim=115, kernel_initializer=initializers.glorot_normal(seed=42)))\n",
        "    discriminator.add(Activation('relu'))\n",
        "    discriminator.add(Dropout(0.2))\n",
        "\n",
        "    discriminator.add(Dense(128))\n",
        "    discriminator.add(Activation('relu'))\n",
        "    discriminator.add(Dropout(0.2))\n",
        "\n",
        "    discriminator.add(Dense(128))\n",
        "    discriminator.add(Activation('relu'))\n",
        "    discriminator.add(Dropout(0.2))\n",
        "\n",
        "    discriminator.add(Dense(128))\n",
        "    discriminator.add(Activation('relu'))\n",
        "    discriminator.add(Dropout(0.2))\n",
        "\n",
        "    discriminator.add(Dense(128))\n",
        "    discriminator.add(Activation('relu'))\n",
        "    discriminator.add(Dropout(0.2))\n",
        "\n",
        "    discriminator.add(Dense(1))\n",
        "    discriminator.add(Activation('sigmoid'))\n",
        "\n",
        "    discriminator.compile(loss='binary_crossentropy', optimizer=optimizer)\n",
        "\n",
        "    return discriminator"
      ]
    },
    {
      "cell_type": "markdown",
      "metadata": {
        "id": "0iXs-sig_1kO"
      },
      "source": [
        "### 2.3 Building the Network"
      ]
    },
    {
      "cell_type": "markdown",
      "metadata": {
        "id": "iEMCCsVp_1kO"
      },
      "source": [
        "Previously we built the individual networks that constitute the GAN. Let us now stich them together by using the generator and discriminator as individual layers of the overall generative adversarial network. We set the field `discriminator.trainable = False` as we want to alter the weights of only one of them during training."
      ]
    },
    {
      "cell_type": "code",
      "execution_count": 622,
      "metadata": {
        "id": "KFLCJoex_1kO"
      },
      "outputs": [],
      "source": [
        "def get_gan_network(discriminator, generator, optimizer,input_dim=115):\n",
        "\n",
        "    discriminator.trainable = False\n",
        "    gan_input = Input(shape=(input_dim,))\n",
        "    x = generator(gan_input)\n",
        "    gan_output = discriminator(x)\n",
        "\n",
        "    gan = Model(inputs=gan_input, outputs=gan_output)\n",
        "    gan.compile(loss='binary_crossentropy', optimizer=optimizer)\n",
        "\n",
        "    return gan"
      ]
    },
    {
      "cell_type": "markdown",
      "metadata": {
        "id": "VlhAiSnL_1kO"
      },
      "source": [
        "### 2.4 Setting the Hyperparameters"
      ]
    },
    {
      "cell_type": "markdown",
      "metadata": {
        "id": "83Vk6u30_1kO"
      },
      "source": [
        "Training a GAN can be quite tricky and time consuming. Refer to this <a href=\"https://github.com/soumith/ganhacks#authors\">  link </a> to get a few ideas on how you could get your models to converge faster by choosing appropriate hyperparameters."
      ]
    },
    {
      "cell_type": "code",
      "execution_count": 623,
      "metadata": {
        "id": "OYKruoms_1kO"
      },
      "outputs": [],
      "source": [
        "learning_rate = 0.00001\n",
        "batch_size = 512\n",
        "epochs = 10\n"
      ]
    },
    {
      "cell_type": "markdown",
      "metadata": {
        "id": "2GfS8Wdv_1kP"
      },
      "source": [
        "### 2.5 Training the Model"
      ]
    },
    {
      "cell_type": "markdown",
      "metadata": {
        "id": "rkB-q5JG_1kP"
      },
      "source": [
        "The generator first predicts on a batch of noise samples. As the generator has randomly initialized weights initially, the output of the generator at this stage is nothing but meaningless values.\n",
        "\n",
        "\n",
        "The Discriminator inputs a stack of samples - the first half of which is the output of the generator and the second half is a batch of data samples from the real dataset. We train the Discriminator on this stack with the target labels  0 (Fake) for half the stack and 1 for the second half of the stack. The result of this is that the Discrimator is able to distinguish between the Real and Fake samples.\n",
        "\n",
        "\n",
        "The weights of the discriminator are frozen by setting the trainable parameter to False.\n",
        "\n",
        "To train the Generator, We first feed it random noise and let the entire GAN output a probability with the Discriminator weights remaining frozen. As expected this value would be less than 0.5 since the Discriminator was previously set to output a value close to 0 if the input was not genuine .\n",
        "\n",
        "\n",
        "Now comes the trick. We tell the GAN that the expected output is 1. This results in the errors being backpropagated only to the Generator. With every sample in the batch the generator's weights are tuned such that the output of the GAN is close to 1, meaning the Generator is now learning to produce samples that resemble the real data.\n",
        "\n",
        "This process loops back to the first step for each batch in the training set."
      ]
    },
    {
      "cell_type": "code",
      "source": [
        "x_train.shape,y_train.shape"
      ],
      "metadata": {
        "id": "RMkrVMefipy-",
        "outputId": "a883be1b-f61e-4daf-c82f-b3220479d9cb",
        "colab": {
          "base_uri": "https://localhost:8080/"
        }
      },
      "execution_count": 624,
      "outputs": [
        {
          "output_type": "execute_result",
          "data": {
            "text/plain": [
              "((72921, 115), (80253,))"
            ]
          },
          "metadata": {},
          "execution_count": 624
        }
      ]
    },
    {
      "cell_type": "code",
      "execution_count": 639,
      "metadata": {
        "id": "m18Kpr4Q_1kS",
        "outputId": "7c385eeb-a4e8-4cb3-cf7a-27476bfc2b47",
        "colab": {
          "base_uri": "https://localhost:8080/"
        }
      },
      "outputs": [
        {
          "output_type": "stream",
          "name": "stderr",
          "text": [
            "\n",
            "100%|██████████| 1420/1420 [02:50<00:00,  8.32it/s]\n",
            "\n",
            "  0%|          | 1/1420 [00:00<12:21,  1.91it/s]\u001b[A\n",
            "  0%|          | 2/1420 [00:02<30:22,  1.29s/it]\u001b[A\n",
            "  0%|          | 4/1420 [00:02<12:31,  1.89it/s]\u001b[A\n",
            "  0%|          | 5/1420 [00:02<09:22,  2.52it/s]\u001b[A\n",
            "  0%|          | 7/1420 [00:02<05:51,  4.02it/s]\u001b[A\n",
            "  1%|          | 9/1420 [00:02<04:17,  5.47it/s]\u001b[A\n",
            "  1%|          | 11/1420 [00:03<03:25,  6.86it/s]\u001b[A\n",
            "  1%|          | 13/1420 [00:03<03:04,  7.62it/s]\u001b[A\n",
            "  1%|          | 15/1420 [00:03<02:42,  8.64it/s]\u001b[A\n",
            "  1%|          | 17/1420 [00:03<02:29,  9.36it/s]\u001b[A\n",
            "  1%|▏         | 19/1420 [00:03<02:27,  9.48it/s]\u001b[A\n",
            "  1%|▏         | 21/1420 [00:04<02:18, 10.13it/s]\u001b[A\n",
            "  2%|▏         | 23/1420 [00:04<02:11, 10.66it/s]\u001b[A\n",
            "  2%|▏         | 25/1420 [00:04<02:07, 10.98it/s]\u001b[A\n",
            "  2%|▏         | 27/1420 [00:04<02:05, 11.06it/s]\u001b[A\n",
            "  2%|▏         | 29/1420 [00:04<02:11, 10.58it/s]\u001b[A\n",
            "  2%|▏         | 31/1420 [00:04<02:06, 11.00it/s]\u001b[A\n",
            "  2%|▏         | 33/1420 [00:05<02:04, 11.17it/s]\u001b[A\n",
            "  2%|▏         | 35/1420 [00:05<02:01, 11.37it/s]\u001b[A\n",
            "  3%|▎         | 37/1420 [00:05<02:00, 11.51it/s]\u001b[A\n",
            "  3%|▎         | 39/1420 [00:05<01:59, 11.59it/s]\u001b[A\n",
            "  3%|▎         | 41/1420 [00:05<01:59, 11.59it/s]\u001b[A\n",
            "  3%|▎         | 43/1420 [00:05<01:58, 11.59it/s]\u001b[A\n",
            "  3%|▎         | 45/1420 [00:06<01:57, 11.72it/s]\u001b[A\n",
            "  3%|▎         | 47/1420 [00:06<01:57, 11.68it/s]\u001b[A\n",
            "  3%|▎         | 49/1420 [00:06<01:56, 11.77it/s]\u001b[A\n",
            "  4%|▎         | 51/1420 [00:06<02:02, 11.15it/s]\u001b[A\n",
            "  4%|▎         | 53/1420 [00:06<02:02, 11.19it/s]\u001b[A\n",
            "  4%|▍         | 55/1420 [00:06<01:59, 11.39it/s]\u001b[A\n",
            "  4%|▍         | 57/1420 [00:07<01:57, 11.62it/s]\u001b[A\n",
            "  4%|▍         | 59/1420 [00:07<01:55, 11.83it/s]\u001b[A\n",
            "  4%|▍         | 61/1420 [00:07<01:53, 11.93it/s]\u001b[A\n",
            "  4%|▍         | 63/1420 [00:07<01:52, 12.08it/s]\u001b[A\n",
            "  5%|▍         | 65/1420 [00:07<02:01, 11.17it/s]\u001b[A\n",
            "  5%|▍         | 67/1420 [00:08<02:19,  9.72it/s]\u001b[A\n",
            "  5%|▍         | 69/1420 [00:08<02:34,  8.73it/s]\u001b[A\n",
            "  5%|▍         | 70/1420 [00:08<02:38,  8.50it/s]\u001b[A\n",
            "  5%|▌         | 71/1420 [00:08<02:42,  8.30it/s]\u001b[A\n",
            "  5%|▌         | 72/1420 [00:08<02:49,  7.93it/s]\u001b[A\n",
            "  5%|▌         | 73/1420 [00:08<02:53,  7.75it/s]\u001b[A\n",
            "  5%|▌         | 74/1420 [00:09<02:58,  7.53it/s]\u001b[A\n",
            "  5%|▌         | 75/1420 [00:09<02:59,  7.49it/s]\u001b[A\n",
            "  5%|▌         | 76/1420 [00:09<03:01,  7.42it/s]\u001b[A\n",
            "  5%|▌         | 77/1420 [00:09<03:00,  7.45it/s]\u001b[A\n",
            "  5%|▌         | 78/1420 [00:09<03:00,  7.44it/s]\u001b[A\n",
            "  6%|▌         | 79/1420 [00:09<03:00,  7.44it/s]\u001b[A\n",
            "  6%|▌         | 80/1420 [00:09<03:00,  7.41it/s]\u001b[A\n",
            "  6%|▌         | 81/1420 [00:10<03:04,  7.24it/s]\u001b[A\n",
            "  6%|▌         | 82/1420 [00:10<03:12,  6.95it/s]\u001b[A\n",
            "  6%|▌         | 83/1420 [00:10<03:10,  7.03it/s]\u001b[A\n",
            "  6%|▌         | 84/1420 [00:10<03:09,  7.05it/s]\u001b[A\n",
            "  6%|▌         | 85/1420 [00:10<03:07,  7.12it/s]\u001b[A\n",
            "  6%|▌         | 86/1420 [00:10<03:10,  7.00it/s]\u001b[A\n",
            "  6%|▌         | 87/1420 [00:10<03:09,  7.03it/s]\u001b[A\n",
            "  6%|▌         | 88/1420 [00:11<03:15,  6.83it/s]\u001b[A\n",
            "  6%|▋         | 89/1420 [00:11<03:14,  6.84it/s]\u001b[A\n",
            "  6%|▋         | 90/1420 [00:11<03:11,  6.93it/s]\u001b[A\n",
            "  6%|▋         | 91/1420 [00:11<03:10,  6.96it/s]\u001b[A\n",
            "  6%|▋         | 92/1420 [00:11<03:10,  6.97it/s]\u001b[A\n",
            "  7%|▋         | 93/1420 [00:11<03:09,  6.99it/s]\u001b[A\n",
            "  7%|▋         | 94/1420 [00:11<03:10,  6.96it/s]\u001b[A\n",
            "  7%|▋         | 95/1420 [00:12<03:09,  7.00it/s]\u001b[A\n",
            "  7%|▋         | 96/1420 [00:12<03:11,  6.91it/s]\u001b[A\n",
            "  7%|▋         | 97/1420 [00:12<03:09,  6.98it/s]\u001b[A\n",
            "  7%|▋         | 98/1420 [00:12<03:10,  6.95it/s]\u001b[A\n",
            "  7%|▋         | 99/1420 [00:12<03:09,  6.99it/s]\u001b[A\n",
            "  7%|▋         | 100/1420 [00:12<03:08,  7.00it/s]\u001b[A\n",
            "  7%|▋         | 101/1420 [00:12<03:09,  6.97it/s]\u001b[A\n",
            "  7%|▋         | 102/1420 [00:13<03:17,  6.67it/s]\u001b[A\n",
            "  7%|▋         | 103/1420 [00:13<03:18,  6.64it/s]\u001b[A\n",
            "  7%|▋         | 104/1420 [00:13<03:17,  6.65it/s]\u001b[A\n",
            "  7%|▋         | 105/1420 [00:13<03:18,  6.62it/s]\u001b[A\n",
            "  7%|▋         | 106/1420 [00:13<03:16,  6.67it/s]\u001b[A\n",
            "  8%|▊         | 107/1420 [00:13<03:20,  6.55it/s]\u001b[A\n",
            "  8%|▊         | 108/1420 [00:14<03:19,  6.58it/s]\u001b[A\n",
            "  8%|▊         | 109/1420 [00:14<03:21,  6.52it/s]\u001b[A\n",
            "  8%|▊         | 110/1420 [00:14<03:17,  6.64it/s]\u001b[A\n",
            "  8%|▊         | 111/1420 [00:14<03:14,  6.73it/s]\u001b[A\n",
            "  8%|▊         | 112/1420 [00:14<03:12,  6.80it/s]\u001b[A\n",
            "  8%|▊         | 113/1420 [00:14<03:11,  6.84it/s]\u001b[A\n",
            "  8%|▊         | 114/1420 [00:14<03:09,  6.88it/s]\u001b[A\n",
            "  8%|▊         | 115/1420 [00:15<03:11,  6.82it/s]\u001b[A\n",
            "  8%|▊         | 116/1420 [00:15<03:17,  6.59it/s]\u001b[A\n",
            "  8%|▊         | 117/1420 [00:15<03:14,  6.71it/s]\u001b[A\n",
            "  8%|▊         | 118/1420 [00:15<03:18,  6.57it/s]\u001b[A\n",
            "  8%|▊         | 119/1420 [00:15<03:14,  6.70it/s]\u001b[A\n",
            "  8%|▊         | 120/1420 [00:15<03:10,  6.83it/s]\u001b[A\n",
            "  9%|▊         | 121/1420 [00:15<03:02,  7.13it/s]\u001b[A\n",
            "  9%|▊         | 123/1420 [00:16<02:27,  8.81it/s]\u001b[A\n",
            "  9%|▊         | 124/1420 [00:16<02:23,  9.04it/s]\u001b[A\n",
            "  9%|▉         | 126/1420 [00:16<02:07, 10.14it/s]\u001b[A\n",
            "  9%|▉         | 128/1420 [00:16<01:59, 10.78it/s]\u001b[A\n",
            "  9%|▉         | 130/1420 [00:16<01:55, 11.14it/s]\u001b[A\n",
            "  9%|▉         | 132/1420 [00:16<01:52, 11.47it/s]\u001b[A\n",
            "  9%|▉         | 134/1420 [00:17<01:54, 11.26it/s]\u001b[A\n",
            " 10%|▉         | 136/1420 [00:17<01:55, 11.16it/s]\u001b[A\n",
            " 10%|▉         | 138/1420 [00:17<02:00, 10.65it/s]\u001b[A\n",
            " 10%|▉         | 140/1420 [00:17<01:55, 11.05it/s]\u001b[A\n",
            " 10%|█         | 142/1420 [00:17<01:52, 11.33it/s]\u001b[A\n",
            " 10%|█         | 144/1420 [00:17<01:50, 11.53it/s]\u001b[A"
          ]
        },
        {
          "output_type": "stream",
          "name": "stdout",
          "text": [
            "Epoch 0 Batch 141/142 [D loss: 0.692964] [G loss:0.721802]\n"
          ]
        },
        {
          "output_type": "stream",
          "name": "stderr",
          "text": [
            "\n",
            " 10%|█         | 146/1420 [00:18<01:50, 11.49it/s]\u001b[A\n",
            " 10%|█         | 148/1420 [00:18<01:51, 11.38it/s]\u001b[A\n",
            " 11%|█         | 150/1420 [00:18<01:49, 11.62it/s]\u001b[A\n",
            " 11%|█         | 152/1420 [00:18<01:47, 11.77it/s]\u001b[A\n",
            " 11%|█         | 154/1420 [00:18<01:47, 11.75it/s]\u001b[A\n",
            " 11%|█         | 156/1420 [00:18<01:46, 11.84it/s]\u001b[A\n",
            " 11%|█         | 158/1420 [00:19<01:54, 11.02it/s]\u001b[A\n",
            " 11%|█▏        | 160/1420 [00:19<01:59, 10.51it/s]\u001b[A\n",
            " 11%|█▏        | 162/1420 [00:19<01:55, 10.92it/s]\u001b[A\n",
            " 12%|█▏        | 164/1420 [00:19<01:51, 11.30it/s]\u001b[A\n",
            " 12%|█▏        | 166/1420 [00:19<01:48, 11.56it/s]\u001b[A\n",
            " 12%|█▏        | 168/1420 [00:20<01:52, 11.10it/s]\u001b[A\n",
            " 12%|█▏        | 170/1420 [00:20<01:50, 11.34it/s]\u001b[A\n",
            " 12%|█▏        | 172/1420 [00:20<01:49, 11.38it/s]\u001b[A\n",
            " 12%|█▏        | 174/1420 [00:20<01:49, 11.36it/s]\u001b[A\n",
            " 12%|█▏        | 176/1420 [00:20<01:47, 11.53it/s]\u001b[A\n",
            " 13%|█▎        | 178/1420 [00:20<01:45, 11.72it/s]\u001b[A\n",
            " 13%|█▎        | 180/1420 [00:21<01:45, 11.78it/s]\u001b[A\n",
            " 13%|█▎        | 182/1420 [00:21<01:44, 11.83it/s]\u001b[A\n",
            " 13%|█▎        | 184/1420 [00:21<01:45, 11.74it/s]\u001b[A\n",
            " 13%|█▎        | 186/1420 [00:21<01:44, 11.82it/s]\u001b[A\n",
            " 13%|█▎        | 188/1420 [00:21<01:43, 11.95it/s]\u001b[A\n",
            " 13%|█▎        | 190/1420 [00:21<01:42, 11.98it/s]\u001b[A\n",
            " 14%|█▎        | 192/1420 [00:22<01:42, 12.03it/s]\u001b[A\n",
            " 14%|█▎        | 194/1420 [00:22<01:42, 11.98it/s]\u001b[A\n",
            " 14%|█▍        | 196/1420 [00:22<01:44, 11.74it/s]\u001b[A\n",
            " 14%|█▍        | 198/1420 [00:22<01:43, 11.84it/s]\u001b[A\n",
            " 14%|█▍        | 200/1420 [00:22<01:41, 12.01it/s]\u001b[A\n",
            " 14%|█▍        | 202/1420 [00:22<01:40, 12.08it/s]\u001b[A\n",
            " 14%|█▍        | 204/1420 [00:23<01:39, 12.17it/s]\u001b[A\n",
            " 15%|█▍        | 206/1420 [00:23<01:40, 12.04it/s]\u001b[A\n",
            " 15%|█▍        | 208/1420 [00:23<01:43, 11.75it/s]\u001b[A\n",
            " 15%|█▍        | 210/1420 [00:23<01:41, 11.90it/s]\u001b[A\n",
            " 15%|█▍        | 212/1420 [00:23<01:40, 12.01it/s]\u001b[A\n",
            " 15%|█▌        | 214/1420 [00:23<01:39, 12.07it/s]\u001b[A\n",
            " 15%|█▌        | 216/1420 [00:24<01:38, 12.17it/s]\u001b[A\n",
            " 15%|█▌        | 218/1420 [00:24<01:39, 12.04it/s]\u001b[A\n",
            " 15%|█▌        | 220/1420 [00:24<01:40, 11.88it/s]\u001b[A\n",
            " 16%|█▌        | 222/1420 [00:24<01:40, 11.92it/s]\u001b[A\n",
            " 16%|█▌        | 224/1420 [00:24<01:39, 12.01it/s]\u001b[A\n",
            " 16%|█▌        | 226/1420 [00:24<01:38, 12.09it/s]\u001b[A\n",
            " 16%|█▌        | 228/1420 [00:25<01:39, 12.00it/s]\u001b[A\n",
            " 16%|█▌        | 230/1420 [00:25<01:39, 11.94it/s]\u001b[A\n",
            " 16%|█▋        | 232/1420 [00:25<01:43, 11.53it/s]\u001b[A\n",
            " 16%|█▋        | 234/1420 [00:25<01:40, 11.75it/s]\u001b[A\n",
            " 17%|█▋        | 236/1420 [00:25<01:40, 11.78it/s]\u001b[A\n",
            " 17%|█▋        | 238/1420 [00:25<01:40, 11.74it/s]\u001b[A\n",
            " 17%|█▋        | 240/1420 [00:26<02:08,  9.21it/s]\u001b[A\n",
            " 17%|█▋        | 242/1420 [00:26<02:18,  8.50it/s]\u001b[A\n",
            " 17%|█▋        | 243/1420 [00:26<02:22,  8.23it/s]\u001b[A\n",
            " 17%|█▋        | 244/1420 [00:26<02:26,  8.01it/s]\u001b[A\n",
            " 17%|█▋        | 245/1420 [00:26<02:28,  7.89it/s]\u001b[A\n",
            " 17%|█▋        | 246/1420 [00:27<02:32,  7.71it/s]\u001b[A\n",
            " 17%|█▋        | 247/1420 [00:27<02:34,  7.60it/s]\u001b[A\n",
            " 17%|█▋        | 248/1420 [00:27<02:32,  7.67it/s]\u001b[A\n",
            " 18%|█▊        | 249/1420 [00:27<02:45,  7.10it/s]\u001b[A\n",
            " 18%|█▊        | 250/1420 [00:27<02:48,  6.93it/s]\u001b[A\n",
            " 18%|█▊        | 251/1420 [00:27<02:48,  6.93it/s]\u001b[A\n",
            " 18%|█▊        | 252/1420 [00:27<02:45,  7.04it/s]\u001b[A\n",
            " 18%|█▊        | 253/1420 [00:28<02:45,  7.06it/s]\u001b[A\n",
            " 18%|█▊        | 254/1420 [00:28<02:45,  7.03it/s]\u001b[A\n",
            " 18%|█▊        | 255/1420 [00:28<02:46,  7.01it/s]\u001b[A\n",
            " 18%|█▊        | 256/1420 [00:28<02:51,  6.80it/s]\u001b[A\n",
            " 18%|█▊        | 257/1420 [00:28<02:48,  6.91it/s]\u001b[A\n",
            " 18%|█▊        | 258/1420 [00:28<02:48,  6.91it/s]\u001b[A\n",
            " 18%|█▊        | 259/1420 [00:28<02:47,  6.93it/s]\u001b[A\n",
            " 18%|█▊        | 260/1420 [00:29<02:48,  6.90it/s]\u001b[A\n",
            " 18%|█▊        | 261/1420 [00:29<02:49,  6.84it/s]\u001b[A\n",
            " 18%|█▊        | 262/1420 [00:29<02:49,  6.85it/s]\u001b[A\n",
            " 19%|█▊        | 263/1420 [00:29<03:01,  6.38it/s]\u001b[A\n",
            " 19%|█▊        | 264/1420 [00:29<03:04,  6.27it/s]\u001b[A\n",
            " 19%|█▊        | 265/1420 [00:29<02:58,  6.45it/s]\u001b[A\n",
            " 19%|█▊        | 266/1420 [00:30<02:55,  6.58it/s]\u001b[A\n",
            " 19%|█▉        | 267/1420 [00:30<02:53,  6.64it/s]\u001b[A\n",
            " 19%|█▉        | 268/1420 [00:30<02:55,  6.55it/s]\u001b[A\n",
            " 19%|█▉        | 269/1420 [00:30<02:53,  6.64it/s]\u001b[A\n",
            " 19%|█▉        | 270/1420 [00:30<02:55,  6.57it/s]\u001b[A\n",
            " 19%|█▉        | 271/1420 [00:30<02:50,  6.73it/s]\u001b[A\n",
            " 19%|█▉        | 272/1420 [00:30<02:48,  6.81it/s]\u001b[A\n",
            " 19%|█▉        | 273/1420 [00:31<02:47,  6.86it/s]\u001b[A\n",
            " 19%|█▉        | 274/1420 [00:31<02:56,  6.50it/s]\u001b[A\n",
            " 19%|█▉        | 275/1420 [00:31<02:58,  6.40it/s]\u001b[A\n",
            " 19%|█▉        | 276/1420 [00:31<02:54,  6.55it/s]\u001b[A\n",
            " 20%|█▉        | 277/1420 [00:31<02:57,  6.44it/s]\u001b[A\n",
            " 20%|█▉        | 278/1420 [00:31<02:52,  6.63it/s]\u001b[A\n",
            " 20%|█▉        | 279/1420 [00:31<02:48,  6.78it/s]\u001b[A\n",
            " 20%|█▉        | 280/1420 [00:32<02:47,  6.80it/s]\u001b[A\n",
            " 20%|█▉        | 281/1420 [00:32<02:47,  6.81it/s]\u001b[A\n",
            " 20%|█▉        | 282/1420 [00:32<02:45,  6.87it/s]\u001b[A\n",
            " 20%|█▉        | 283/1420 [00:32<02:46,  6.82it/s]\u001b[A\n",
            " 20%|██        | 284/1420 [00:32<02:45,  6.87it/s]\u001b[A\n",
            " 20%|██        | 285/1420 [00:32<02:46,  6.80it/s]\u001b[A\n",
            " 20%|██        | 286/1420 [00:33<02:47,  6.79it/s]\u001b[A"
          ]
        },
        {
          "output_type": "stream",
          "name": "stdout",
          "text": [
            "Epoch 1 Batch 141/142 [D loss: 0.691928] [G loss:0.722678]\n"
          ]
        },
        {
          "output_type": "stream",
          "name": "stderr",
          "text": [
            "\n",
            " 20%|██        | 287/1420 [00:33<02:52,  6.56it/s]\u001b[A\n",
            " 20%|██        | 288/1420 [00:33<02:50,  6.62it/s]\u001b[A\n",
            " 20%|██        | 289/1420 [00:33<02:48,  6.71it/s]\u001b[A\n",
            " 20%|██        | 290/1420 [00:33<02:45,  6.84it/s]\u001b[A\n",
            " 20%|██        | 291/1420 [00:33<02:48,  6.69it/s]\u001b[A\n",
            " 21%|██        | 292/1420 [00:33<02:47,  6.75it/s]\u001b[A\n",
            " 21%|██        | 294/1420 [00:34<02:15,  8.30it/s]\u001b[A\n",
            " 21%|██        | 296/1420 [00:34<01:58,  9.47it/s]\u001b[A\n",
            " 21%|██        | 298/1420 [00:34<01:49, 10.27it/s]\u001b[A\n",
            " 21%|██        | 300/1420 [00:34<01:43, 10.78it/s]\u001b[A\n",
            " 21%|██▏       | 302/1420 [00:34<01:39, 11.26it/s]\u001b[A\n",
            " 21%|██▏       | 304/1420 [00:34<01:39, 11.25it/s]\u001b[A\n",
            " 22%|██▏       | 306/1420 [00:35<01:36, 11.50it/s]\u001b[A\n",
            " 22%|██▏       | 308/1420 [00:35<01:35, 11.68it/s]\u001b[A\n",
            " 22%|██▏       | 310/1420 [00:35<01:34, 11.78it/s]\u001b[A\n",
            " 22%|██▏       | 312/1420 [00:35<01:33, 11.91it/s]\u001b[A\n",
            " 22%|██▏       | 314/1420 [00:35<01:32, 11.94it/s]\u001b[A\n",
            " 22%|██▏       | 316/1420 [00:35<01:34, 11.66it/s]\u001b[A\n",
            " 22%|██▏       | 318/1420 [00:36<01:34, 11.66it/s]\u001b[A\n",
            " 23%|██▎       | 320/1420 [00:36<01:32, 11.85it/s]\u001b[A\n",
            " 23%|██▎       | 322/1420 [00:36<01:34, 11.57it/s]\u001b[A\n",
            " 23%|██▎       | 324/1420 [00:36<01:33, 11.76it/s]\u001b[A\n",
            " 23%|██▎       | 326/1420 [00:36<01:32, 11.85it/s]\u001b[A\n",
            " 23%|██▎       | 328/1420 [00:36<01:33, 11.72it/s]\u001b[A\n",
            " 23%|██▎       | 330/1420 [00:37<01:32, 11.78it/s]\u001b[A\n",
            " 23%|██▎       | 332/1420 [00:37<01:31, 11.88it/s]\u001b[A\n",
            " 24%|██▎       | 334/1420 [00:37<01:31, 11.91it/s]\u001b[A\n",
            " 24%|██▎       | 336/1420 [00:37<01:30, 12.03it/s]\u001b[A\n",
            " 24%|██▍       | 338/1420 [00:37<01:32, 11.72it/s]\u001b[A\n",
            " 24%|██▍       | 340/1420 [00:37<01:32, 11.71it/s]\u001b[A\n",
            " 24%|██▍       | 342/1420 [00:38<01:31, 11.77it/s]\u001b[A\n",
            " 24%|██▍       | 344/1420 [00:38<01:30, 11.94it/s]\u001b[A\n",
            " 24%|██▍       | 346/1420 [00:38<01:28, 12.08it/s]\u001b[A\n",
            " 25%|██▍       | 348/1420 [00:38<01:28, 12.13it/s]\u001b[A\n",
            " 25%|██▍       | 350/1420 [00:38<01:27, 12.23it/s]\u001b[A\n",
            " 25%|██▍       | 352/1420 [00:38<01:31, 11.65it/s]\u001b[A\n",
            " 25%|██▍       | 354/1420 [00:39<01:30, 11.75it/s]\u001b[A\n",
            " 25%|██▌       | 356/1420 [00:39<01:29, 11.87it/s]\u001b[A\n",
            " 25%|██▌       | 358/1420 [00:39<01:34, 11.26it/s]\u001b[A\n",
            " 25%|██▌       | 360/1420 [00:39<01:31, 11.57it/s]\u001b[A\n",
            " 25%|██▌       | 362/1420 [00:39<01:29, 11.81it/s]\u001b[A\n",
            " 26%|██▌       | 364/1420 [00:39<01:30, 11.70it/s]\u001b[A\n",
            " 26%|██▌       | 366/1420 [00:40<01:29, 11.81it/s]\u001b[A\n",
            " 26%|██▌       | 368/1420 [00:40<01:28, 11.90it/s]\u001b[A\n",
            " 26%|██▌       | 370/1420 [00:40<01:27, 11.95it/s]\u001b[A\n",
            " 26%|██▌       | 372/1420 [00:40<01:26, 12.10it/s]\u001b[A\n",
            " 26%|██▋       | 374/1420 [00:40<01:25, 12.18it/s]\u001b[A\n",
            " 26%|██▋       | 376/1420 [00:40<01:27, 11.95it/s]\u001b[A\n",
            " 27%|██▋       | 378/1420 [00:41<01:26, 12.02it/s]\u001b[A\n",
            " 27%|██▋       | 380/1420 [00:41<01:26, 12.04it/s]\u001b[A\n",
            " 27%|██▋       | 382/1420 [00:41<01:25, 12.11it/s]\u001b[A\n",
            " 27%|██▋       | 384/1420 [00:41<01:25, 12.11it/s]\u001b[A\n",
            " 27%|██▋       | 386/1420 [00:41<01:24, 12.19it/s]\u001b[A\n",
            " 27%|██▋       | 388/1420 [00:41<01:25, 12.02it/s]\u001b[A\n",
            " 27%|██▋       | 390/1420 [00:42<01:25, 12.07it/s]\u001b[A\n",
            " 28%|██▊       | 392/1420 [00:42<01:25, 12.04it/s]\u001b[A\n",
            " 28%|██▊       | 394/1420 [00:42<01:24, 12.08it/s]\u001b[A\n",
            " 28%|██▊       | 396/1420 [00:42<01:24, 12.12it/s]\u001b[A\n",
            " 28%|██▊       | 398/1420 [00:42<01:24, 12.03it/s]\u001b[A\n",
            " 28%|██▊       | 400/1420 [00:42<01:24, 12.07it/s]\u001b[A\n",
            " 28%|██▊       | 402/1420 [00:43<01:26, 11.81it/s]\u001b[A\n",
            " 28%|██▊       | 404/1420 [00:43<01:25, 11.87it/s]\u001b[A\n",
            " 29%|██▊       | 406/1420 [00:43<01:25, 11.82it/s]\u001b[A\n",
            " 29%|██▊       | 408/1420 [00:43<01:25, 11.88it/s]\u001b[A\n",
            " 29%|██▉       | 410/1420 [00:43<01:24, 11.98it/s]\u001b[A\n",
            " 29%|██▉       | 412/1420 [00:44<01:26, 11.61it/s]\u001b[A\n",
            " 29%|██▉       | 414/1420 [00:44<01:43,  9.73it/s]\u001b[A\n",
            " 29%|██▉       | 416/1420 [00:44<01:56,  8.65it/s]\u001b[A\n",
            " 29%|██▉       | 417/1420 [00:44<02:00,  8.32it/s]\u001b[A\n",
            " 29%|██▉       | 418/1420 [00:44<02:03,  8.09it/s]\u001b[A\n",
            " 30%|██▉       | 419/1420 [00:44<02:03,  8.11it/s]\u001b[A\n",
            " 30%|██▉       | 420/1420 [00:45<02:15,  7.40it/s]\u001b[A\n",
            " 30%|██▉       | 421/1420 [00:45<02:14,  7.45it/s]\u001b[A\n",
            " 30%|██▉       | 422/1420 [00:45<02:13,  7.46it/s]\u001b[A\n",
            " 30%|██▉       | 423/1420 [00:45<02:12,  7.53it/s]\u001b[A\n",
            " 30%|██▉       | 424/1420 [00:45<02:18,  7.17it/s]\u001b[A\n",
            " 30%|██▉       | 425/1420 [00:45<02:18,  7.20it/s]\u001b[A\n",
            " 30%|███       | 426/1420 [00:45<02:18,  7.19it/s]\u001b[A\n",
            " 30%|███       | 427/1420 [00:46<02:17,  7.20it/s]\u001b[A\n",
            " 30%|███       | 428/1420 [00:46<02:23,  6.93it/s]\u001b[A"
          ]
        },
        {
          "output_type": "stream",
          "name": "stdout",
          "text": [
            "Epoch 2 Batch 141/142 [D loss: 0.692782] [G loss:0.718241]\n"
          ]
        },
        {
          "output_type": "stream",
          "name": "stderr",
          "text": [
            "\n",
            " 30%|███       | 429/1420 [00:46<02:28,  6.68it/s]\u001b[A\n",
            " 30%|███       | 430/1420 [00:46<02:24,  6.86it/s]\u001b[A\n",
            " 30%|███       | 431/1420 [00:46<02:25,  6.79it/s]\u001b[A\n",
            " 30%|███       | 432/1420 [00:46<02:23,  6.88it/s]\u001b[A\n",
            " 30%|███       | 433/1420 [00:47<02:22,  6.91it/s]\u001b[A\n",
            " 31%|███       | 434/1420 [00:47<02:22,  6.94it/s]\u001b[A\n",
            " 31%|███       | 435/1420 [00:47<02:27,  6.70it/s]\u001b[A\n",
            " 31%|███       | 436/1420 [00:47<02:24,  6.80it/s]\u001b[A\n",
            " 31%|███       | 437/1420 [00:47<02:22,  6.91it/s]\u001b[A\n",
            " 31%|███       | 438/1420 [00:47<02:21,  6.94it/s]\u001b[A\n",
            " 31%|███       | 439/1420 [00:47<02:25,  6.73it/s]\u001b[A\n",
            " 31%|███       | 440/1420 [00:48<02:24,  6.78it/s]\u001b[A\n",
            " 31%|███       | 441/1420 [00:48<02:23,  6.83it/s]\u001b[A\n",
            " 31%|███       | 442/1420 [00:48<02:26,  6.65it/s]\u001b[A\n",
            " 31%|███       | 443/1420 [00:48<02:25,  6.70it/s]\u001b[A\n",
            " 31%|███▏      | 444/1420 [00:48<02:27,  6.64it/s]\u001b[A\n",
            " 31%|███▏      | 445/1420 [00:48<02:24,  6.73it/s]\u001b[A\n",
            " 31%|███▏      | 446/1420 [00:48<02:24,  6.76it/s]\u001b[A\n",
            " 31%|███▏      | 447/1420 [00:49<02:26,  6.63it/s]\u001b[A\n",
            " 32%|███▏      | 448/1420 [00:49<02:29,  6.52it/s]\u001b[A\n",
            " 32%|███▏      | 449/1420 [00:49<02:34,  6.29it/s]\u001b[A\n",
            " 32%|███▏      | 450/1420 [00:49<02:32,  6.37it/s]\u001b[A\n",
            " 32%|███▏      | 451/1420 [00:49<02:26,  6.60it/s]\u001b[A\n",
            " 32%|███▏      | 452/1420 [00:49<02:22,  6.79it/s]\u001b[A\n",
            " 32%|███▏      | 453/1420 [00:50<02:25,  6.67it/s]\u001b[A\n",
            " 32%|███▏      | 454/1420 [00:50<02:23,  6.75it/s]\u001b[A\n",
            " 32%|███▏      | 455/1420 [00:50<02:22,  6.78it/s]\u001b[A\n",
            " 32%|███▏      | 456/1420 [00:50<02:31,  6.37it/s]\u001b[A\n",
            " 32%|███▏      | 457/1420 [00:50<02:27,  6.52it/s]\u001b[A\n",
            " 32%|███▏      | 458/1420 [00:50<02:26,  6.58it/s]\u001b[A\n",
            " 32%|███▏      | 459/1420 [00:50<02:26,  6.55it/s]\u001b[A\n",
            " 32%|███▏      | 460/1420 [00:51<02:28,  6.45it/s]\u001b[A\n",
            " 32%|███▏      | 461/1420 [00:51<02:25,  6.61it/s]\u001b[A\n",
            " 33%|███▎      | 462/1420 [00:51<02:27,  6.48it/s]\u001b[A\n",
            " 33%|███▎      | 463/1420 [00:51<02:37,  6.09it/s]\u001b[A\n",
            " 33%|███▎      | 464/1420 [00:51<02:35,  6.13it/s]\u001b[A\n",
            " 33%|███▎      | 465/1420 [00:51<02:30,  6.35it/s]\u001b[A\n",
            " 33%|███▎      | 466/1420 [00:52<02:18,  6.91it/s]\u001b[A\n",
            " 33%|███▎      | 468/1420 [00:52<01:49,  8.69it/s]\u001b[A\n",
            " 33%|███▎      | 470/1420 [00:52<01:37,  9.72it/s]\u001b[A\n",
            " 33%|███▎      | 472/1420 [00:52<01:32, 10.28it/s]\u001b[A\n",
            " 33%|███▎      | 474/1420 [00:52<01:27, 10.82it/s]\u001b[A\n",
            " 34%|███▎      | 476/1420 [00:52<01:23, 11.29it/s]\u001b[A\n",
            " 34%|███▎      | 478/1420 [00:52<01:20, 11.64it/s]\u001b[A\n",
            " 34%|███▍      | 480/1420 [00:53<01:20, 11.70it/s]\u001b[A\n",
            " 34%|███▍      | 482/1420 [00:53<01:19, 11.76it/s]\u001b[A\n",
            " 34%|███▍      | 484/1420 [00:53<01:20, 11.61it/s]\u001b[A\n",
            " 34%|███▍      | 486/1420 [00:53<01:19, 11.81it/s]\u001b[A\n",
            " 34%|███▍      | 488/1420 [00:53<01:18, 11.81it/s]\u001b[A\n",
            " 35%|███▍      | 490/1420 [00:53<01:17, 12.07it/s]\u001b[A\n",
            " 35%|███▍      | 492/1420 [00:54<01:17, 12.00it/s]\u001b[A\n",
            " 35%|███▍      | 494/1420 [00:54<01:17, 11.94it/s]\u001b[A\n",
            " 35%|███▍      | 496/1420 [00:54<01:18, 11.83it/s]\u001b[A\n",
            " 35%|███▌      | 498/1420 [00:54<01:17, 11.91it/s]\u001b[A\n",
            " 35%|███▌      | 500/1420 [00:54<01:17, 11.92it/s]\u001b[A\n",
            " 35%|███▌      | 502/1420 [00:55<01:16, 12.02it/s]\u001b[A\n",
            " 35%|███▌      | 504/1420 [00:55<01:15, 12.06it/s]\u001b[A\n",
            " 36%|███▌      | 506/1420 [00:55<01:15, 12.12it/s]\u001b[A\n",
            " 36%|███▌      | 508/1420 [00:55<01:15, 12.06it/s]\u001b[A\n",
            " 36%|███▌      | 510/1420 [00:55<01:16, 11.95it/s]\u001b[A\n",
            " 36%|███▌      | 512/1420 [00:55<01:16, 11.91it/s]\u001b[A\n",
            " 36%|███▌      | 514/1420 [00:56<01:15, 11.98it/s]\u001b[A\n",
            " 36%|███▋      | 516/1420 [00:56<01:15, 11.92it/s]\u001b[A\n",
            " 36%|███▋      | 518/1420 [00:56<01:15, 11.92it/s]\u001b[A\n",
            " 37%|███▋      | 520/1420 [00:56<01:15, 11.97it/s]\u001b[A\n",
            " 37%|███▋      | 522/1420 [00:56<01:16, 11.73it/s]\u001b[A\n",
            " 37%|███▋      | 524/1420 [00:56<01:15, 11.85it/s]\u001b[A\n",
            " 37%|███▋      | 526/1420 [00:57<01:14, 11.95it/s]\u001b[A\n",
            " 37%|███▋      | 528/1420 [00:57<01:15, 11.88it/s]\u001b[A\n",
            " 37%|███▋      | 530/1420 [00:57<01:14, 11.92it/s]\u001b[A\n",
            " 37%|███▋      | 532/1420 [00:57<01:14, 11.92it/s]\u001b[A\n",
            " 38%|███▊      | 534/1420 [00:57<01:15, 11.74it/s]\u001b[A\n",
            " 38%|███▊      | 536/1420 [00:57<01:15, 11.75it/s]\u001b[A\n",
            " 38%|███▊      | 538/1420 [00:58<01:14, 11.77it/s]\u001b[A\n",
            " 38%|███▊      | 540/1420 [00:58<01:14, 11.78it/s]\u001b[A\n",
            " 38%|███▊      | 542/1420 [00:58<01:14, 11.81it/s]\u001b[A\n",
            " 38%|███▊      | 544/1420 [00:58<01:14, 11.83it/s]\u001b[A\n",
            " 38%|███▊      | 546/1420 [00:58<01:14, 11.69it/s]\u001b[A\n",
            " 39%|███▊      | 548/1420 [00:58<01:13, 11.79it/s]\u001b[A\n",
            " 39%|███▊      | 550/1420 [00:59<01:12, 11.98it/s]\u001b[A\n",
            " 39%|███▉      | 552/1420 [00:59<01:12, 11.97it/s]\u001b[A\n",
            " 39%|███▉      | 554/1420 [00:59<01:12, 11.96it/s]\u001b[A\n",
            " 39%|███▉      | 556/1420 [00:59<01:11, 12.02it/s]\u001b[A\n",
            " 39%|███▉      | 558/1420 [00:59<01:12, 11.88it/s]\u001b[A\n",
            " 39%|███▉      | 560/1420 [00:59<01:11, 12.01it/s]\u001b[A\n",
            " 40%|███▉      | 562/1420 [01:00<01:13, 11.64it/s]\u001b[A\n",
            " 40%|███▉      | 564/1420 [01:00<01:12, 11.77it/s]\u001b[A\n",
            " 40%|███▉      | 566/1420 [01:00<01:12, 11.74it/s]\u001b[A\n",
            " 40%|████      | 568/1420 [01:00<01:11, 11.92it/s]\u001b[A\n",
            " 40%|████      | 570/1420 [01:00<01:11, 11.81it/s]\u001b[A"
          ]
        },
        {
          "output_type": "stream",
          "name": "stdout",
          "text": [
            "Epoch 3 Batch 141/142 [D loss: 0.692186] [G loss:0.721492]\n"
          ]
        },
        {
          "output_type": "stream",
          "name": "stderr",
          "text": [
            "\n",
            " 40%|████      | 572/1420 [01:00<01:11, 11.86it/s]\u001b[A\n",
            " 40%|████      | 574/1420 [01:01<01:10, 11.95it/s]\u001b[A\n",
            " 41%|████      | 576/1420 [01:01<01:10, 11.96it/s]\u001b[A\n",
            " 41%|████      | 578/1420 [01:01<01:10, 11.97it/s]\u001b[A\n",
            " 41%|████      | 580/1420 [01:01<01:09, 12.01it/s]\u001b[A\n",
            " 41%|████      | 582/1420 [01:01<01:10, 11.86it/s]\u001b[A\n",
            " 41%|████      | 584/1420 [01:01<01:09, 12.01it/s]\u001b[A\n",
            " 41%|████▏     | 586/1420 [01:02<01:17, 10.70it/s]\u001b[A\n",
            " 41%|████▏     | 588/1420 [01:02<01:29,  9.34it/s]\u001b[A\n",
            " 41%|████▏     | 589/1420 [01:02<01:34,  8.82it/s]\u001b[A\n",
            " 42%|████▏     | 590/1420 [01:02<01:38,  8.39it/s]\u001b[A\n",
            " 42%|████▏     | 591/1420 [01:02<01:44,  7.90it/s]\u001b[A\n",
            " 42%|████▏     | 592/1420 [01:03<01:49,  7.54it/s]\u001b[A\n",
            " 42%|████▏     | 593/1420 [01:03<01:52,  7.36it/s]\u001b[A\n",
            " 42%|████▏     | 594/1420 [01:03<01:51,  7.38it/s]\u001b[A\n",
            " 42%|████▏     | 595/1420 [01:03<01:51,  7.40it/s]\u001b[A\n",
            " 42%|████▏     | 596/1420 [01:03<01:50,  7.44it/s]\u001b[A\n",
            " 42%|████▏     | 597/1420 [01:03<01:58,  6.95it/s]\u001b[A\n",
            " 42%|████▏     | 598/1420 [01:03<01:56,  7.07it/s]\u001b[A\n",
            " 42%|████▏     | 599/1420 [01:03<01:54,  7.16it/s]\u001b[A\n",
            " 42%|████▏     | 600/1420 [01:04<01:56,  7.02it/s]\u001b[A\n",
            " 42%|████▏     | 601/1420 [01:04<01:55,  7.07it/s]\u001b[A\n",
            " 42%|████▏     | 602/1420 [01:04<01:55,  7.09it/s]\u001b[A\n",
            " 42%|████▏     | 603/1420 [01:04<01:58,  6.88it/s]\u001b[A\n",
            " 43%|████▎     | 604/1420 [01:04<02:01,  6.72it/s]\u001b[A\n",
            " 43%|████▎     | 605/1420 [01:04<02:07,  6.41it/s]\u001b[A\n",
            " 43%|████▎     | 606/1420 [01:05<02:03,  6.59it/s]\u001b[A\n",
            " 43%|████▎     | 607/1420 [01:05<02:02,  6.62it/s]\u001b[A\n",
            " 43%|████▎     | 608/1420 [01:05<02:01,  6.66it/s]\u001b[A\n",
            " 43%|████▎     | 609/1420 [01:05<02:00,  6.76it/s]\u001b[A\n",
            " 43%|████▎     | 610/1420 [01:05<01:57,  6.89it/s]\u001b[A\n",
            " 43%|████▎     | 611/1420 [01:05<01:56,  6.94it/s]\u001b[A\n",
            " 43%|████▎     | 612/1420 [01:05<01:59,  6.77it/s]\u001b[A\n",
            " 43%|████▎     | 613/1420 [01:06<01:56,  6.91it/s]\u001b[A\n",
            " 43%|████▎     | 614/1420 [01:06<01:56,  6.92it/s]\u001b[A\n",
            " 43%|████▎     | 615/1420 [01:06<01:55,  7.00it/s]\u001b[A\n",
            " 43%|████▎     | 616/1420 [01:06<02:00,  6.66it/s]\u001b[A\n",
            " 43%|████▎     | 617/1420 [01:06<02:00,  6.64it/s]\u001b[A\n",
            " 44%|████▎     | 618/1420 [01:06<02:02,  6.53it/s]\u001b[A\n",
            " 44%|████▎     | 619/1420 [01:06<02:03,  6.48it/s]\u001b[A\n",
            " 44%|████▎     | 620/1420 [01:07<02:01,  6.58it/s]\u001b[A\n",
            " 44%|████▎     | 621/1420 [01:07<01:59,  6.70it/s]\u001b[A\n",
            " 44%|████▍     | 622/1420 [01:07<01:57,  6.79it/s]\u001b[A\n",
            " 44%|████▍     | 623/1420 [01:07<01:55,  6.89it/s]\u001b[A\n",
            " 44%|████▍     | 624/1420 [01:07<01:53,  7.03it/s]\u001b[A\n",
            " 44%|████▍     | 625/1420 [01:07<01:53,  7.03it/s]\u001b[A\n",
            " 44%|████▍     | 626/1420 [01:07<01:54,  6.95it/s]\u001b[A\n",
            " 44%|████▍     | 627/1420 [01:08<01:55,  6.86it/s]\u001b[A\n",
            " 44%|████▍     | 628/1420 [01:08<01:55,  6.89it/s]\u001b[A\n",
            " 44%|████▍     | 629/1420 [01:08<01:59,  6.62it/s]\u001b[A\n",
            " 44%|████▍     | 630/1420 [01:08<01:58,  6.68it/s]\u001b[A\n",
            " 44%|████▍     | 631/1420 [01:08<01:56,  6.80it/s]\u001b[A\n",
            " 45%|████▍     | 632/1420 [01:08<01:56,  6.77it/s]\u001b[A\n",
            " 45%|████▍     | 633/1420 [01:09<01:56,  6.74it/s]\u001b[A\n",
            " 45%|████▍     | 634/1420 [01:09<01:57,  6.71it/s]\u001b[A\n",
            " 45%|████▍     | 635/1420 [01:09<01:54,  6.85it/s]\u001b[A\n",
            " 45%|████▍     | 636/1420 [01:09<01:55,  6.81it/s]\u001b[A\n",
            " 45%|████▍     | 637/1420 [01:09<01:52,  6.93it/s]\u001b[A\n",
            " 45%|████▍     | 638/1420 [01:09<01:53,  6.90it/s]\u001b[A\n",
            " 45%|████▌     | 639/1420 [01:09<01:55,  6.78it/s]\u001b[A\n",
            " 45%|████▌     | 640/1420 [01:10<01:50,  7.06it/s]\u001b[A\n",
            " 45%|████▌     | 641/1420 [01:10<01:41,  7.66it/s]\u001b[A\n",
            " 45%|████▌     | 642/1420 [01:10<01:35,  8.15it/s]\u001b[A\n",
            " 45%|████▌     | 644/1420 [01:10<01:21,  9.54it/s]\u001b[A\n",
            " 45%|████▌     | 646/1420 [01:10<01:14, 10.34it/s]\u001b[A\n",
            " 46%|████▌     | 648/1420 [01:10<01:16, 10.15it/s]\u001b[A\n",
            " 46%|████▌     | 650/1420 [01:10<01:11, 10.78it/s]\u001b[A\n",
            " 46%|████▌     | 652/1420 [01:11<01:08, 11.14it/s]\u001b[A\n",
            " 46%|████▌     | 654/1420 [01:11<01:08, 11.22it/s]\u001b[A\n",
            " 46%|████▌     | 656/1420 [01:11<01:07, 11.37it/s]\u001b[A\n",
            " 46%|████▋     | 658/1420 [01:11<01:06, 11.48it/s]\u001b[A\n",
            " 46%|████▋     | 660/1420 [01:11<01:05, 11.63it/s]\u001b[A\n",
            " 47%|████▋     | 662/1420 [01:11<01:04, 11.81it/s]\u001b[A\n",
            " 47%|████▋     | 664/1420 [01:12<01:03, 11.93it/s]\u001b[A\n",
            " 47%|████▋     | 666/1420 [01:12<01:03, 11.81it/s]\u001b[A\n",
            " 47%|████▋     | 668/1420 [01:12<01:03, 11.87it/s]\u001b[A\n",
            " 47%|████▋     | 670/1420 [01:12<01:02, 11.96it/s]\u001b[A\n",
            " 47%|████▋     | 672/1420 [01:12<01:01, 12.07it/s]\u001b[A\n",
            " 47%|████▋     | 674/1420 [01:12<01:01, 12.22it/s]\u001b[A\n",
            " 48%|████▊     | 676/1420 [01:13<01:00, 12.25it/s]\u001b[A\n",
            " 48%|████▊     | 678/1420 [01:13<01:01, 12.06it/s]\u001b[A\n",
            " 48%|████▊     | 680/1420 [01:13<01:01, 11.98it/s]\u001b[A\n",
            " 48%|████▊     | 682/1420 [01:13<01:00, 12.14it/s]\u001b[A\n",
            " 48%|████▊     | 684/1420 [01:13<01:00, 12.21it/s]\u001b[A\n",
            " 48%|████▊     | 686/1420 [01:13<00:59, 12.29it/s]\u001b[A\n",
            " 48%|████▊     | 688/1420 [01:14<00:59, 12.23it/s]\u001b[A\n",
            " 49%|████▊     | 690/1420 [01:14<01:01, 11.96it/s]\u001b[A\n",
            " 49%|████▊     | 692/1420 [01:14<01:00, 11.98it/s]\u001b[A\n",
            " 49%|████▉     | 694/1420 [01:14<01:00, 12.03it/s]\u001b[A\n",
            " 49%|████▉     | 696/1420 [01:14<00:59, 12.10it/s]\u001b[A\n",
            " 49%|████▉     | 698/1420 [01:14<00:59, 12.14it/s]\u001b[A\n",
            " 49%|████▉     | 700/1420 [01:15<00:59, 12.10it/s]\u001b[A\n",
            " 49%|████▉     | 702/1420 [01:15<01:00, 11.85it/s]\u001b[A\n",
            " 50%|████▉     | 704/1420 [01:15<00:59, 11.94it/s]\u001b[A\n",
            " 50%|████▉     | 706/1420 [01:15<00:59, 11.95it/s]\u001b[A\n",
            " 50%|████▉     | 708/1420 [01:15<00:59, 12.05it/s]\u001b[A\n",
            " 50%|█████     | 710/1420 [01:15<00:58, 12.12it/s]\u001b[A\n",
            " 50%|█████     | 712/1420 [01:16<00:58, 12.10it/s]\u001b[A"
          ]
        },
        {
          "output_type": "stream",
          "name": "stdout",
          "text": [
            "Epoch 4 Batch 141/142 [D loss: 0.691378] [G loss:0.718295]\n"
          ]
        },
        {
          "output_type": "stream",
          "name": "stderr",
          "text": [
            "\n",
            " 50%|█████     | 714/1420 [01:16<00:58, 12.02it/s]\u001b[A\n",
            " 50%|█████     | 716/1420 [01:16<00:59, 11.87it/s]\u001b[A\n",
            " 51%|█████     | 718/1420 [01:16<00:58, 11.98it/s]\u001b[A\n",
            " 51%|█████     | 720/1420 [01:16<00:57, 12.12it/s]\u001b[A\n",
            " 51%|█████     | 722/1420 [01:16<00:57, 12.13it/s]\u001b[A\n",
            " 51%|█████     | 724/1420 [01:17<00:57, 12.18it/s]\u001b[A\n",
            " 51%|█████     | 726/1420 [01:17<00:56, 12.30it/s]\u001b[A\n",
            " 51%|█████▏    | 728/1420 [01:17<00:57, 12.03it/s]\u001b[A\n",
            " 51%|█████▏    | 730/1420 [01:17<00:57, 12.07it/s]\u001b[A\n",
            " 52%|█████▏    | 732/1420 [01:17<00:56, 12.17it/s]\u001b[A\n",
            " 52%|█████▏    | 734/1420 [01:17<00:56, 12.14it/s]\u001b[A\n",
            " 52%|█████▏    | 736/1420 [01:18<00:56, 12.19it/s]\u001b[A\n",
            " 52%|█████▏    | 738/1420 [01:18<00:56, 12.16it/s]\u001b[A\n",
            " 52%|█████▏    | 740/1420 [01:18<00:56, 11.99it/s]\u001b[A\n",
            " 52%|█████▏    | 742/1420 [01:18<00:57, 11.82it/s]\u001b[A\n",
            " 52%|█████▏    | 744/1420 [01:18<00:56, 11.88it/s]\u001b[A\n",
            " 53%|█████▎    | 746/1420 [01:18<00:56, 12.02it/s]\u001b[A\n",
            " 53%|█████▎    | 748/1420 [01:19<00:55, 12.08it/s]\u001b[A\n",
            " 53%|█████▎    | 750/1420 [01:19<00:55, 12.07it/s]\u001b[A\n",
            " 53%|█████▎    | 752/1420 [01:19<00:56, 11.74it/s]\u001b[A\n",
            " 53%|█████▎    | 754/1420 [01:19<00:56, 11.79it/s]\u001b[A\n",
            " 53%|█████▎    | 756/1420 [01:19<00:56, 11.83it/s]\u001b[A\n",
            " 53%|█████▎    | 758/1420 [01:19<00:55, 11.88it/s]\u001b[A\n",
            " 54%|█████▎    | 760/1420 [01:20<00:58, 11.31it/s]\u001b[A\n",
            " 54%|█████▎    | 762/1420 [01:20<01:08,  9.60it/s]\u001b[A\n",
            " 54%|█████▍    | 764/1420 [01:20<01:15,  8.64it/s]\u001b[A\n",
            " 54%|█████▍    | 765/1420 [01:20<01:18,  8.37it/s]\u001b[A\n",
            " 54%|█████▍    | 766/1420 [01:20<01:20,  8.14it/s]\u001b[A\n",
            " 54%|█████▍    | 767/1420 [01:21<01:20,  8.07it/s]\u001b[A\n",
            " 54%|█████▍    | 768/1420 [01:21<01:21,  8.03it/s]\u001b[A\n",
            " 54%|█████▍    | 769/1420 [01:21<01:22,  7.86it/s]\u001b[A\n",
            " 54%|█████▍    | 770/1420 [01:21<01:30,  7.19it/s]\u001b[A\n",
            " 54%|█████▍    | 771/1420 [01:21<01:30,  7.15it/s]\u001b[A\n",
            " 54%|█████▍    | 772/1420 [01:21<01:29,  7.21it/s]\u001b[A\n",
            " 54%|█████▍    | 773/1420 [01:21<01:29,  7.26it/s]\u001b[A\n",
            " 55%|█████▍    | 774/1420 [01:22<01:29,  7.21it/s]\u001b[A\n",
            " 55%|█████▍    | 775/1420 [01:22<01:29,  7.21it/s]\u001b[A\n",
            " 55%|█████▍    | 776/1420 [01:22<01:27,  7.33it/s]\u001b[A\n",
            " 55%|█████▍    | 777/1420 [01:22<01:31,  7.04it/s]\u001b[A\n",
            " 55%|█████▍    | 778/1420 [01:22<01:39,  6.48it/s]\u001b[A\n",
            " 55%|█████▍    | 779/1420 [01:22<01:38,  6.50it/s]\u001b[A\n",
            " 55%|█████▍    | 780/1420 [01:22<01:37,  6.58it/s]\u001b[A\n",
            " 55%|█████▌    | 781/1420 [01:23<01:36,  6.63it/s]\u001b[A\n",
            " 55%|█████▌    | 782/1420 [01:23<01:35,  6.70it/s]\u001b[A\n",
            " 55%|█████▌    | 783/1420 [01:23<01:35,  6.68it/s]\u001b[A\n",
            " 55%|█████▌    | 784/1420 [01:23<01:38,  6.43it/s]\u001b[A\n",
            " 55%|█████▌    | 785/1420 [01:23<01:37,  6.51it/s]\u001b[A\n",
            " 55%|█████▌    | 786/1420 [01:23<01:35,  6.60it/s]\u001b[A\n",
            " 55%|█████▌    | 787/1420 [01:24<01:33,  6.75it/s]\u001b[A\n",
            " 55%|█████▌    | 788/1420 [01:24<01:35,  6.64it/s]\u001b[A\n",
            " 56%|█████▌    | 789/1420 [01:24<01:34,  6.66it/s]\u001b[A\n",
            " 56%|█████▌    | 790/1420 [01:24<01:34,  6.67it/s]\u001b[A\n",
            " 56%|█████▌    | 791/1420 [01:24<01:34,  6.62it/s]\u001b[A\n",
            " 56%|█████▌    | 792/1420 [01:24<01:32,  6.76it/s]\u001b[A\n",
            " 56%|█████▌    | 793/1420 [01:24<01:31,  6.89it/s]\u001b[A\n",
            " 56%|█████▌    | 794/1420 [01:25<01:29,  6.96it/s]\u001b[A\n",
            " 56%|█████▌    | 795/1420 [01:25<01:29,  6.99it/s]\u001b[A\n",
            " 56%|█████▌    | 796/1420 [01:25<01:30,  6.89it/s]\u001b[A\n",
            " 56%|█████▌    | 797/1420 [01:25<01:30,  6.86it/s]\u001b[A\n",
            " 56%|█████▌    | 798/1420 [01:25<01:32,  6.72it/s]\u001b[A\n",
            " 56%|█████▋    | 799/1420 [01:25<01:33,  6.64it/s]\u001b[A\n",
            " 56%|█████▋    | 800/1420 [01:25<01:31,  6.75it/s]\u001b[A\n",
            " 56%|█████▋    | 801/1420 [01:26<01:32,  6.70it/s]\u001b[A\n",
            " 56%|█████▋    | 802/1420 [01:26<01:29,  6.88it/s]\u001b[A\n",
            " 57%|█████▋    | 803/1420 [01:26<01:29,  6.90it/s]\u001b[A\n",
            " 57%|█████▋    | 804/1420 [01:26<01:29,  6.91it/s]\u001b[A\n",
            " 57%|█████▋    | 805/1420 [01:26<01:29,  6.88it/s]\u001b[A\n",
            " 57%|█████▋    | 806/1420 [01:26<01:33,  6.56it/s]\u001b[A\n",
            " 57%|█████▋    | 807/1420 [01:26<01:33,  6.54it/s]\u001b[A\n",
            " 57%|█████▋    | 808/1420 [01:27<01:31,  6.66it/s]\u001b[A\n",
            " 57%|█████▋    | 809/1420 [01:27<01:32,  6.61it/s]\u001b[A\n",
            " 57%|█████▋    | 810/1420 [01:27<01:32,  6.61it/s]\u001b[A\n",
            " 57%|█████▋    | 811/1420 [01:27<01:32,  6.59it/s]\u001b[A\n",
            " 57%|█████▋    | 812/1420 [01:27<01:32,  6.55it/s]\u001b[A\n",
            " 57%|█████▋    | 813/1420 [01:27<01:34,  6.42it/s]\u001b[A\n",
            " 57%|█████▋    | 814/1420 [01:28<01:33,  6.50it/s]\u001b[A\n",
            " 57%|█████▋    | 815/1420 [01:28<01:28,  6.84it/s]\u001b[A\n",
            " 58%|█████▊    | 817/1420 [01:28<01:11,  8.49it/s]\u001b[A\n",
            " 58%|█████▊    | 819/1420 [01:28<01:02,  9.63it/s]\u001b[A\n",
            " 58%|█████▊    | 821/1420 [01:28<00:58, 10.26it/s]\u001b[A\n",
            " 58%|█████▊    | 823/1420 [01:28<00:56, 10.64it/s]\u001b[A\n",
            " 58%|█████▊    | 825/1420 [01:29<00:53, 11.11it/s]\u001b[A\n",
            " 58%|█████▊    | 827/1420 [01:29<00:52, 11.30it/s]\u001b[A\n",
            " 58%|█████▊    | 829/1420 [01:29<00:51, 11.53it/s]\u001b[A\n",
            " 59%|█████▊    | 831/1420 [01:29<00:50, 11.72it/s]\u001b[A\n",
            " 59%|█████▊    | 833/1420 [01:29<00:53, 11.05it/s]\u001b[A\n",
            " 59%|█████▉    | 835/1420 [01:29<00:52, 11.18it/s]\u001b[A\n",
            " 59%|█████▉    | 837/1420 [01:30<00:50, 11.47it/s]\u001b[A\n",
            " 59%|█████▉    | 839/1420 [01:30<00:51, 11.28it/s]\u001b[A\n",
            " 59%|█████▉    | 841/1420 [01:30<00:50, 11.37it/s]\u001b[A\n",
            " 59%|█████▉    | 843/1420 [01:30<00:49, 11.63it/s]\u001b[A\n",
            " 60%|█████▉    | 845/1420 [01:30<00:48, 11.82it/s]\u001b[A\n",
            " 60%|█████▉    | 847/1420 [01:30<00:49, 11.68it/s]\u001b[A\n",
            " 60%|█████▉    | 849/1420 [01:31<00:48, 11.69it/s]\u001b[A\n",
            " 60%|█████▉    | 851/1420 [01:31<00:49, 11.46it/s]\u001b[A\n",
            " 60%|██████    | 853/1420 [01:31<00:49, 11.54it/s]\u001b[A\n",
            " 60%|██████    | 855/1420 [01:31<00:48, 11.66it/s]\u001b[A"
          ]
        },
        {
          "output_type": "stream",
          "name": "stdout",
          "text": [
            "Epoch 5 Batch 141/142 [D loss: 0.691781] [G loss:0.714400]\n"
          ]
        },
        {
          "output_type": "stream",
          "name": "stderr",
          "text": [
            "\n",
            " 60%|██████    | 857/1420 [01:31<00:48, 11.73it/s]\u001b[A\n",
            " 60%|██████    | 859/1420 [01:31<00:47, 11.69it/s]\u001b[A\n",
            " 61%|██████    | 861/1420 [01:32<00:47, 11.77it/s]\u001b[A\n",
            " 61%|██████    | 863/1420 [01:32<00:48, 11.52it/s]\u001b[A\n",
            " 61%|██████    | 865/1420 [01:32<00:50, 10.94it/s]\u001b[A\n",
            " 61%|██████    | 867/1420 [01:32<00:49, 11.27it/s]\u001b[A\n",
            " 61%|██████    | 869/1420 [01:32<00:48, 11.48it/s]\u001b[A\n",
            " 61%|██████▏   | 871/1420 [01:33<00:48, 11.39it/s]\u001b[A\n",
            " 61%|██████▏   | 873/1420 [01:33<00:46, 11.64it/s]\u001b[A\n",
            " 62%|██████▏   | 875/1420 [01:33<00:47, 11.59it/s]\u001b[A\n",
            " 62%|██████▏   | 877/1420 [01:33<00:46, 11.70it/s]\u001b[A\n",
            " 62%|██████▏   | 879/1420 [01:33<00:45, 11.78it/s]\u001b[A\n",
            " 62%|██████▏   | 881/1420 [01:33<00:45, 11.91it/s]\u001b[A\n",
            " 62%|██████▏   | 883/1420 [01:34<00:45, 11.80it/s]\u001b[A\n",
            " 62%|██████▏   | 885/1420 [01:34<00:45, 11.84it/s]\u001b[A\n",
            " 62%|██████▏   | 887/1420 [01:34<00:44, 11.92it/s]\u001b[A\n",
            " 63%|██████▎   | 889/1420 [01:34<00:44, 11.82it/s]\u001b[A\n",
            " 63%|██████▎   | 891/1420 [01:34<00:44, 11.86it/s]\u001b[A\n",
            " 63%|██████▎   | 893/1420 [01:34<00:44, 11.90it/s]\u001b[A\n",
            " 63%|██████▎   | 895/1420 [01:35<00:45, 11.52it/s]\u001b[A\n",
            " 63%|██████▎   | 897/1420 [01:35<00:45, 11.62it/s]\u001b[A\n",
            " 63%|██████▎   | 899/1420 [01:35<00:44, 11.73it/s]\u001b[A\n",
            " 63%|██████▎   | 901/1420 [01:35<00:44, 11.78it/s]\u001b[A\n",
            " 64%|██████▎   | 903/1420 [01:35<00:44, 11.65it/s]\u001b[A\n",
            " 64%|██████▎   | 905/1420 [01:35<00:43, 11.83it/s]\u001b[A\n",
            " 64%|██████▍   | 907/1420 [01:36<00:44, 11.62it/s]\u001b[A\n",
            " 64%|██████▍   | 909/1420 [01:36<00:43, 11.72it/s]\u001b[A\n",
            " 64%|██████▍   | 911/1420 [01:36<00:43, 11.66it/s]\u001b[A\n",
            " 64%|██████▍   | 913/1420 [01:36<00:43, 11.72it/s]\u001b[A\n",
            " 64%|██████▍   | 915/1420 [01:36<00:43, 11.74it/s]\u001b[A\n",
            " 65%|██████▍   | 917/1420 [01:36<00:42, 11.82it/s]\u001b[A\n",
            " 65%|██████▍   | 919/1420 [01:37<00:43, 11.58it/s]\u001b[A\n",
            " 65%|██████▍   | 921/1420 [01:37<00:42, 11.73it/s]\u001b[A\n",
            " 65%|██████▌   | 923/1420 [01:37<00:42, 11.77it/s]\u001b[A\n",
            " 65%|██████▌   | 925/1420 [01:37<00:42, 11.73it/s]\u001b[A\n",
            " 65%|██████▌   | 927/1420 [01:37<00:41, 11.81it/s]\u001b[A\n",
            " 65%|██████▌   | 929/1420 [01:37<00:41, 11.86it/s]\u001b[A\n",
            " 66%|██████▌   | 931/1420 [01:38<00:42, 11.53it/s]\u001b[A\n",
            " 66%|██████▌   | 933/1420 [01:38<00:47, 10.15it/s]\u001b[A\n",
            " 66%|██████▌   | 935/1420 [01:38<00:55,  8.80it/s]\u001b[A\n",
            " 66%|██████▌   | 936/1420 [01:38<00:58,  8.33it/s]\u001b[A\n",
            " 66%|██████▌   | 937/1420 [01:38<00:59,  8.09it/s]\u001b[A\n",
            " 66%|██████▌   | 938/1420 [01:39<01:03,  7.56it/s]\u001b[A\n",
            " 66%|██████▌   | 939/1420 [01:39<01:05,  7.39it/s]\u001b[A\n",
            " 66%|██████▌   | 940/1420 [01:39<01:04,  7.44it/s]\u001b[A\n",
            " 66%|██████▋   | 941/1420 [01:39<01:03,  7.51it/s]\u001b[A\n",
            " 66%|██████▋   | 942/1420 [01:39<01:04,  7.39it/s]\u001b[A\n",
            " 66%|██████▋   | 943/1420 [01:39<01:04,  7.40it/s]\u001b[A\n",
            " 66%|██████▋   | 944/1420 [01:39<01:04,  7.37it/s]\u001b[A\n",
            " 67%|██████▋   | 945/1420 [01:40<01:03,  7.46it/s]\u001b[A\n",
            " 67%|██████▋   | 946/1420 [01:40<01:05,  7.25it/s]\u001b[A\n",
            " 67%|██████▋   | 947/1420 [01:40<01:05,  7.24it/s]\u001b[A\n",
            " 67%|██████▋   | 948/1420 [01:40<01:05,  7.21it/s]\u001b[A\n",
            " 67%|██████▋   | 949/1420 [01:40<01:07,  7.02it/s]\u001b[A\n",
            " 67%|██████▋   | 950/1420 [01:40<01:07,  7.01it/s]\u001b[A\n",
            " 67%|██████▋   | 951/1420 [01:40<01:05,  7.17it/s]\u001b[A\n",
            " 67%|██████▋   | 952/1420 [01:41<01:06,  7.07it/s]\u001b[A\n",
            " 67%|██████▋   | 953/1420 [01:41<01:06,  7.00it/s]\u001b[A\n",
            " 67%|██████▋   | 954/1420 [01:41<01:06,  7.02it/s]\u001b[A\n",
            " 67%|██████▋   | 955/1420 [01:41<01:06,  7.00it/s]\u001b[A\n",
            " 67%|██████▋   | 956/1420 [01:41<01:06,  6.97it/s]\u001b[A\n",
            " 67%|██████▋   | 957/1420 [01:41<01:07,  6.87it/s]\u001b[A\n",
            " 67%|██████▋   | 958/1420 [01:41<01:07,  6.84it/s]\u001b[A\n",
            " 68%|██████▊   | 959/1420 [01:42<01:09,  6.67it/s]\u001b[A\n",
            " 68%|██████▊   | 960/1420 [01:42<01:08,  6.73it/s]\u001b[A\n",
            " 68%|██████▊   | 961/1420 [01:42<01:12,  6.33it/s]\u001b[A\n",
            " 68%|██████▊   | 962/1420 [01:42<01:12,  6.33it/s]\u001b[A\n",
            " 68%|██████▊   | 963/1420 [01:42<01:09,  6.57it/s]\u001b[A\n",
            " 68%|██████▊   | 964/1420 [01:42<01:08,  6.66it/s]\u001b[A\n",
            " 68%|██████▊   | 965/1420 [01:43<01:07,  6.73it/s]\u001b[A\n",
            " 68%|██████▊   | 966/1420 [01:43<01:08,  6.67it/s]\u001b[A\n",
            " 68%|██████▊   | 967/1420 [01:43<01:09,  6.50it/s]\u001b[A\n",
            " 68%|██████▊   | 968/1420 [01:43<01:08,  6.56it/s]\u001b[A\n",
            " 68%|██████▊   | 969/1420 [01:43<01:09,  6.50it/s]\u001b[A\n",
            " 68%|██████▊   | 970/1420 [01:43<01:08,  6.59it/s]\u001b[A\n",
            " 68%|██████▊   | 971/1420 [01:43<01:07,  6.61it/s]\u001b[A\n",
            " 68%|██████▊   | 972/1420 [01:44<01:07,  6.66it/s]\u001b[A\n",
            " 69%|██████▊   | 973/1420 [01:44<01:06,  6.75it/s]\u001b[A\n",
            " 69%|██████▊   | 974/1420 [01:44<01:08,  6.51it/s]\u001b[A\n",
            " 69%|██████▊   | 975/1420 [01:44<01:06,  6.70it/s]\u001b[A\n",
            " 69%|██████▊   | 976/1420 [01:44<01:06,  6.67it/s]\u001b[A\n",
            " 69%|██████▉   | 977/1420 [01:44<01:06,  6.69it/s]\u001b[A\n",
            " 69%|██████▉   | 978/1420 [01:45<01:06,  6.69it/s]\u001b[A\n",
            " 69%|██████▉   | 979/1420 [01:45<01:05,  6.73it/s]\u001b[A\n",
            " 69%|██████▉   | 980/1420 [01:45<01:04,  6.83it/s]\u001b[A\n",
            " 69%|██████▉   | 981/1420 [01:45<01:05,  6.74it/s]\u001b[A\n",
            " 69%|██████▉   | 982/1420 [01:45<01:04,  6.81it/s]\u001b[A\n",
            " 69%|██████▉   | 983/1420 [01:45<01:06,  6.57it/s]\u001b[A\n",
            " 69%|██████▉   | 984/1420 [01:45<01:05,  6.70it/s]\u001b[A\n",
            " 69%|██████▉   | 985/1420 [01:46<01:04,  6.70it/s]\u001b[A\n",
            " 69%|██████▉   | 986/1420 [01:46<01:03,  6.81it/s]\u001b[A\n",
            " 70%|██████▉   | 987/1420 [01:46<00:57,  7.48it/s]\u001b[A\n",
            " 70%|██████▉   | 988/1420 [01:46<00:57,  7.53it/s]\u001b[A\n",
            " 70%|██████▉   | 989/1420 [01:46<00:53,  8.01it/s]\u001b[A\n",
            " 70%|██████▉   | 991/1420 [01:46<00:46,  9.21it/s]\u001b[A\n",
            " 70%|██████▉   | 993/1420 [01:46<00:42,  9.97it/s]\u001b[A\n",
            " 70%|███████   | 995/1420 [01:47<00:40, 10.51it/s]\u001b[A"
          ]
        },
        {
          "output_type": "stream",
          "name": "stdout",
          "text": [
            "Epoch 6 Batch 141/142 [D loss: 0.692688] [G loss:0.711776]\n"
          ]
        },
        {
          "output_type": "stream",
          "name": "stderr",
          "text": [
            "\n",
            " 70%|███████   | 997/1420 [01:47<00:41, 10.29it/s]\u001b[A\n",
            " 70%|███████   | 999/1420 [01:47<00:43,  9.79it/s]\u001b[A\n",
            " 70%|███████   | 1000/1420 [01:47<00:54,  7.65it/s]\u001b[A\n",
            " 70%|███████   | 1001/1420 [01:47<01:03,  6.63it/s]\u001b[A\n",
            " 71%|███████   | 1002/1420 [01:48<01:05,  6.34it/s]\u001b[A\n",
            " 71%|███████   | 1004/1420 [01:48<00:53,  7.85it/s]\u001b[A\n",
            " 71%|███████   | 1006/1420 [01:48<00:46,  8.99it/s]\u001b[A\n",
            " 71%|███████   | 1007/1420 [01:48<00:44,  9.18it/s]\u001b[A\n",
            " 71%|███████   | 1009/1420 [01:48<00:40, 10.03it/s]\u001b[A\n",
            " 71%|███████   | 1011/1420 [01:48<00:38, 10.57it/s]\u001b[A\n",
            " 71%|███████▏  | 1013/1420 [01:49<00:37, 10.87it/s]\u001b[A\n",
            " 71%|███████▏  | 1015/1420 [01:49<00:36, 11.22it/s]\u001b[A\n",
            " 72%|███████▏  | 1017/1420 [01:49<00:35, 11.40it/s]\u001b[A\n",
            " 72%|███████▏  | 1019/1420 [01:49<00:34, 11.55it/s]\u001b[A\n",
            " 72%|███████▏  | 1021/1420 [01:49<00:34, 11.42it/s]\u001b[A\n",
            " 72%|███████▏  | 1023/1420 [01:49<00:34, 11.52it/s]\u001b[A\n",
            " 72%|███████▏  | 1025/1420 [01:50<00:34, 11.49it/s]\u001b[A\n",
            " 72%|███████▏  | 1027/1420 [01:50<00:34, 11.51it/s]\u001b[A\n",
            " 72%|███████▏  | 1029/1420 [01:50<00:33, 11.54it/s]\u001b[A\n",
            " 73%|███████▎  | 1031/1420 [01:50<00:33, 11.55it/s]\u001b[A\n",
            " 73%|███████▎  | 1033/1420 [01:50<00:34, 11.38it/s]\u001b[A\n",
            " 73%|███████▎  | 1035/1420 [01:50<00:33, 11.51it/s]\u001b[A\n",
            " 73%|███████▎  | 1037/1420 [01:51<00:33, 11.55it/s]\u001b[A\n",
            " 73%|███████▎  | 1039/1420 [01:51<00:32, 11.73it/s]\u001b[A\n",
            " 73%|███████▎  | 1041/1420 [01:51<00:32, 11.71it/s]\u001b[A\n",
            " 73%|███████▎  | 1043/1420 [01:51<00:31, 11.80it/s]\u001b[A\n",
            " 74%|███████▎  | 1045/1420 [01:51<00:32, 11.71it/s]\u001b[A\n",
            " 74%|███████▎  | 1047/1420 [01:52<00:32, 11.52it/s]\u001b[A\n",
            " 74%|███████▍  | 1049/1420 [01:52<00:31, 11.78it/s]\u001b[A\n",
            " 74%|███████▍  | 1051/1420 [01:52<00:31, 11.85it/s]\u001b[A\n",
            " 74%|███████▍  | 1053/1420 [01:52<00:30, 11.99it/s]\u001b[A\n",
            " 74%|███████▍  | 1055/1420 [01:52<00:30, 12.01it/s]\u001b[A\n",
            " 74%|███████▍  | 1057/1420 [01:52<00:30, 11.71it/s]\u001b[A\n",
            " 75%|███████▍  | 1059/1420 [01:53<00:30, 11.87it/s]\u001b[A\n",
            " 75%|███████▍  | 1061/1420 [01:53<00:30, 11.84it/s]\u001b[A\n",
            " 75%|███████▍  | 1063/1420 [01:53<00:29, 12.00it/s]\u001b[A\n",
            " 75%|███████▌  | 1065/1420 [01:53<00:29, 12.10it/s]\u001b[A\n",
            " 75%|███████▌  | 1067/1420 [01:53<00:29, 12.11it/s]\u001b[A\n",
            " 75%|███████▌  | 1069/1420 [01:53<00:29, 11.88it/s]\u001b[A\n",
            " 75%|███████▌  | 1071/1420 [01:54<00:29, 11.91it/s]\u001b[A\n",
            " 76%|███████▌  | 1073/1420 [01:54<00:28, 12.02it/s]\u001b[A\n",
            " 76%|███████▌  | 1075/1420 [01:54<00:28, 12.06it/s]\u001b[A\n",
            " 76%|███████▌  | 1077/1420 [01:54<00:28, 12.15it/s]\u001b[A\n",
            " 76%|███████▌  | 1079/1420 [01:54<00:28, 12.03it/s]\u001b[A\n",
            " 76%|███████▌  | 1081/1420 [01:54<00:28, 11.87it/s]\u001b[A\n",
            " 76%|███████▋  | 1083/1420 [01:55<00:28, 11.88it/s]\u001b[A\n",
            " 76%|███████▋  | 1085/1420 [01:55<00:27, 12.00it/s]\u001b[A\n",
            " 77%|███████▋  | 1087/1420 [01:55<00:29, 11.20it/s]\u001b[A\n",
            " 77%|███████▋  | 1089/1420 [01:55<00:28, 11.47it/s]\u001b[A\n",
            " 77%|███████▋  | 1091/1420 [01:55<00:28, 11.63it/s]\u001b[A\n",
            " 77%|███████▋  | 1093/1420 [01:55<00:28, 11.56it/s]\u001b[A\n",
            " 77%|███████▋  | 1095/1420 [01:56<00:27, 11.70it/s]\u001b[A\n",
            " 77%|███████▋  | 1097/1420 [01:56<00:27, 11.68it/s]\u001b[A\n",
            " 77%|███████▋  | 1099/1420 [01:56<00:32, 10.00it/s]\u001b[A\n",
            " 78%|███████▊  | 1101/1420 [01:56<00:34,  9.19it/s]\u001b[A\n",
            " 78%|███████▊  | 1102/1420 [01:56<00:36,  8.76it/s]\u001b[A\n",
            " 78%|███████▊  | 1103/1420 [01:57<00:38,  8.23it/s]\u001b[A\n",
            " 78%|███████▊  | 1104/1420 [01:57<00:39,  7.99it/s]\u001b[A\n",
            " 78%|███████▊  | 1105/1420 [01:57<00:40,  7.78it/s]\u001b[A\n",
            " 78%|███████▊  | 1106/1420 [01:57<00:40,  7.72it/s]\u001b[A\n",
            " 78%|███████▊  | 1107/1420 [01:57<00:41,  7.49it/s]\u001b[A\n",
            " 78%|███████▊  | 1108/1420 [01:57<00:41,  7.54it/s]\u001b[A\n",
            " 78%|███████▊  | 1109/1420 [01:57<00:43,  7.19it/s]\u001b[A\n",
            " 78%|███████▊  | 1110/1420 [01:58<00:45,  6.88it/s]\u001b[A\n",
            " 78%|███████▊  | 1111/1420 [01:58<00:44,  6.92it/s]\u001b[A\n",
            " 78%|███████▊  | 1112/1420 [01:58<00:43,  7.09it/s]\u001b[A\n",
            " 78%|███████▊  | 1113/1420 [01:58<00:44,  6.90it/s]\u001b[A\n",
            " 78%|███████▊  | 1114/1420 [01:58<00:43,  7.08it/s]\u001b[A\n",
            " 79%|███████▊  | 1115/1420 [01:58<00:43,  7.06it/s]\u001b[A\n",
            " 79%|███████▊  | 1116/1420 [01:58<00:44,  6.89it/s]\u001b[A\n",
            " 79%|███████▊  | 1117/1420 [01:59<00:45,  6.65it/s]\u001b[A\n",
            " 79%|███████▊  | 1118/1420 [01:59<00:46,  6.55it/s]\u001b[A\n",
            " 79%|███████▉  | 1119/1420 [01:59<00:45,  6.55it/s]\u001b[A\n",
            " 79%|███████▉  | 1120/1420 [01:59<00:45,  6.64it/s]\u001b[A\n",
            " 79%|███████▉  | 1121/1420 [01:59<00:44,  6.70it/s]\u001b[A\n",
            " 79%|███████▉  | 1122/1420 [01:59<00:47,  6.31it/s]\u001b[A\n",
            " 79%|███████▉  | 1123/1420 [01:59<00:46,  6.44it/s]\u001b[A\n",
            " 79%|███████▉  | 1124/1420 [02:00<00:45,  6.55it/s]\u001b[A\n",
            " 79%|███████▉  | 1125/1420 [02:00<00:44,  6.65it/s]\u001b[A\n",
            " 79%|███████▉  | 1126/1420 [02:00<00:43,  6.80it/s]\u001b[A\n",
            " 79%|███████▉  | 1127/1420 [02:00<00:44,  6.53it/s]\u001b[A\n",
            " 79%|███████▉  | 1128/1420 [02:00<00:44,  6.62it/s]\u001b[A\n",
            " 80%|███████▉  | 1129/1420 [02:00<00:44,  6.53it/s]\u001b[A\n",
            " 80%|███████▉  | 1130/1420 [02:01<00:44,  6.53it/s]\u001b[A\n",
            " 80%|███████▉  | 1131/1420 [02:01<00:45,  6.38it/s]\u001b[A\n",
            " 80%|███████▉  | 1132/1420 [02:01<00:43,  6.58it/s]\u001b[A\n",
            " 80%|███████▉  | 1133/1420 [02:01<00:42,  6.76it/s]\u001b[A\n",
            " 80%|███████▉  | 1134/1420 [02:01<00:41,  6.83it/s]\u001b[A\n",
            " 80%|███████▉  | 1135/1420 [02:01<00:41,  6.90it/s]\u001b[A\n",
            " 80%|████████  | 1136/1420 [02:01<00:41,  6.89it/s]\u001b[A\n",
            " 80%|████████  | 1137/1420 [02:02<00:40,  6.91it/s]\u001b[A\n",
            " 80%|████████  | 1138/1420 [02:02<00:42,  6.60it/s]\u001b[A"
          ]
        },
        {
          "output_type": "stream",
          "name": "stdout",
          "text": [
            "Epoch 7 Batch 141/142 [D loss: 0.691638] [G loss:0.713297]\n"
          ]
        },
        {
          "output_type": "stream",
          "name": "stderr",
          "text": [
            "\n",
            " 80%|████████  | 1139/1420 [02:02<00:42,  6.57it/s]\u001b[A\n",
            " 80%|████████  | 1140/1420 [02:02<00:42,  6.66it/s]\u001b[A\n",
            " 80%|████████  | 1141/1420 [02:02<00:42,  6.63it/s]\u001b[A\n",
            " 80%|████████  | 1142/1420 [02:02<00:41,  6.69it/s]\u001b[A\n",
            " 80%|████████  | 1143/1420 [02:02<00:42,  6.46it/s]\u001b[A\n",
            " 81%|████████  | 1144/1420 [02:03<00:43,  6.31it/s]\u001b[A\n",
            " 81%|████████  | 1145/1420 [02:03<00:43,  6.29it/s]\u001b[A\n",
            " 81%|████████  | 1146/1420 [02:03<00:43,  6.27it/s]\u001b[A\n",
            " 81%|████████  | 1147/1420 [02:03<00:42,  6.43it/s]\u001b[A\n",
            " 81%|████████  | 1148/1420 [02:03<00:42,  6.43it/s]\u001b[A\n",
            " 81%|████████  | 1149/1420 [02:03<00:41,  6.51it/s]\u001b[A\n",
            " 81%|████████  | 1150/1420 [02:04<00:41,  6.51it/s]\u001b[A\n",
            " 81%|████████  | 1151/1420 [02:04<00:41,  6.47it/s]\u001b[A\n",
            " 81%|████████  | 1152/1420 [02:04<00:40,  6.68it/s]\u001b[A\n",
            " 81%|████████▏ | 1154/1420 [02:04<00:31,  8.49it/s]\u001b[A\n",
            " 81%|████████▏ | 1156/1420 [02:04<00:27,  9.61it/s]\u001b[A\n",
            " 82%|████████▏ | 1158/1420 [02:04<00:25, 10.34it/s]\u001b[A\n",
            " 82%|████████▏ | 1160/1420 [02:05<00:23, 10.90it/s]\u001b[A\n",
            " 82%|████████▏ | 1162/1420 [02:05<00:23, 11.19it/s]\u001b[A\n",
            " 82%|████████▏ | 1164/1420 [02:05<00:22, 11.21it/s]\u001b[A\n",
            " 82%|████████▏ | 1166/1420 [02:05<00:22, 11.41it/s]\u001b[A\n",
            " 82%|████████▏ | 1168/1420 [02:05<00:21, 11.60it/s]\u001b[A\n",
            " 82%|████████▏ | 1170/1420 [02:05<00:21, 11.76it/s]\u001b[A\n",
            " 83%|████████▎ | 1172/1420 [02:06<00:21, 11.76it/s]\u001b[A\n",
            " 83%|████████▎ | 1174/1420 [02:06<00:20, 11.82it/s]\u001b[A\n",
            " 83%|████████▎ | 1176/1420 [02:06<00:22, 10.99it/s]\u001b[A\n",
            " 83%|████████▎ | 1178/1420 [02:06<00:21, 11.32it/s]\u001b[A\n",
            " 83%|████████▎ | 1180/1420 [02:06<00:20, 11.48it/s]\u001b[A\n",
            " 83%|████████▎ | 1182/1420 [02:06<00:20, 11.55it/s]\u001b[A\n",
            " 83%|████████▎ | 1184/1420 [02:07<00:20, 11.57it/s]\u001b[A\n",
            " 84%|████████▎ | 1186/1420 [02:07<00:19, 11.73it/s]\u001b[A\n",
            " 84%|████████▎ | 1188/1420 [02:07<00:19, 11.64it/s]\u001b[A\n",
            " 84%|████████▍ | 1190/1420 [02:07<00:19, 11.74it/s]\u001b[A\n",
            " 84%|████████▍ | 1192/1420 [02:07<00:19, 11.82it/s]\u001b[A\n",
            " 84%|████████▍ | 1194/1420 [02:07<00:19, 11.77it/s]\u001b[A\n",
            " 84%|████████▍ | 1196/1420 [02:08<00:18, 11.82it/s]\u001b[A\n",
            " 84%|████████▍ | 1198/1420 [02:08<00:18, 11.92it/s]\u001b[A\n",
            " 85%|████████▍ | 1200/1420 [02:08<00:18, 11.67it/s]\u001b[A\n",
            " 85%|████████▍ | 1202/1420 [02:08<00:18, 11.68it/s]\u001b[A\n",
            " 85%|████████▍ | 1204/1420 [02:08<00:18, 11.78it/s]\u001b[A\n",
            " 85%|████████▍ | 1206/1420 [02:08<00:18, 11.83it/s]\u001b[A\n",
            " 85%|████████▌ | 1208/1420 [02:09<00:18, 11.69it/s]\u001b[A\n",
            " 85%|████████▌ | 1210/1420 [02:09<00:17, 11.86it/s]\u001b[A\n",
            " 85%|████████▌ | 1212/1420 [02:09<00:17, 11.66it/s]\u001b[A\n",
            " 85%|████████▌ | 1214/1420 [02:09<00:17, 11.78it/s]\u001b[A\n",
            " 86%|████████▌ | 1216/1420 [02:09<00:17, 11.82it/s]\u001b[A\n",
            " 86%|████████▌ | 1218/1420 [02:09<00:17, 11.86it/s]\u001b[A\n",
            " 86%|████████▌ | 1220/1420 [02:10<00:16, 11.90it/s]\u001b[A\n",
            " 86%|████████▌ | 1222/1420 [02:10<00:16, 12.00it/s]\u001b[A\n",
            " 86%|████████▌ | 1224/1420 [02:10<00:16, 11.77it/s]\u001b[A\n",
            " 86%|████████▋ | 1226/1420 [02:10<00:16, 11.72it/s]\u001b[A\n",
            " 86%|████████▋ | 1228/1420 [02:10<00:16, 11.80it/s]\u001b[A\n",
            " 87%|████████▋ | 1230/1420 [02:11<00:16, 11.53it/s]\u001b[A\n",
            " 87%|████████▋ | 1232/1420 [02:11<00:16, 11.72it/s]\u001b[A\n",
            " 87%|████████▋ | 1234/1420 [02:11<00:15, 11.86it/s]\u001b[A\n",
            " 87%|████████▋ | 1236/1420 [02:11<00:15, 11.69it/s]\u001b[A\n",
            " 87%|████████▋ | 1238/1420 [02:11<00:15, 11.70it/s]\u001b[A\n",
            " 87%|████████▋ | 1240/1420 [02:11<00:15, 11.75it/s]\u001b[A\n",
            " 87%|████████▋ | 1242/1420 [02:12<00:14, 11.89it/s]\u001b[A\n",
            " 88%|████████▊ | 1244/1420 [02:12<00:14, 11.97it/s]\u001b[A\n",
            " 88%|████████▊ | 1246/1420 [02:12<00:14, 12.05it/s]\u001b[A\n",
            " 88%|████████▊ | 1248/1420 [02:12<00:14, 11.83it/s]\u001b[A\n",
            " 88%|████████▊ | 1250/1420 [02:12<00:14, 11.85it/s]\u001b[A\n",
            " 88%|████████▊ | 1252/1420 [02:12<00:14, 11.90it/s]\u001b[A\n",
            " 88%|████████▊ | 1254/1420 [02:13<00:13, 11.91it/s]\u001b[A\n",
            " 88%|████████▊ | 1256/1420 [02:13<00:13, 11.93it/s]\u001b[A\n",
            " 89%|████████▊ | 1258/1420 [02:13<00:13, 12.04it/s]\u001b[A\n",
            " 89%|████████▊ | 1260/1420 [02:13<00:13, 11.83it/s]\u001b[A\n",
            " 89%|████████▉ | 1262/1420 [02:13<00:13, 11.86it/s]\u001b[A\n",
            " 89%|████████▉ | 1264/1420 [02:13<00:13, 11.93it/s]\u001b[A\n",
            " 89%|████████▉ | 1266/1420 [02:14<00:12, 11.93it/s]\u001b[A\n",
            " 89%|████████▉ | 1268/1420 [02:14<00:12, 12.02it/s]\u001b[A\n",
            " 89%|████████▉ | 1270/1420 [02:14<00:12, 11.99it/s]\u001b[A\n",
            " 90%|████████▉ | 1272/1420 [02:14<00:14, 10.03it/s]\u001b[A\n",
            " 90%|████████▉ | 1274/1420 [02:14<00:16,  9.05it/s]\u001b[A\n",
            " 90%|████████▉ | 1275/1420 [02:15<00:17,  8.46it/s]\u001b[A\n",
            " 90%|████████▉ | 1276/1420 [02:15<00:17,  8.12it/s]\u001b[A\n",
            " 90%|████████▉ | 1277/1420 [02:15<00:18,  7.86it/s]\u001b[A\n",
            " 90%|█████████ | 1278/1420 [02:15<00:18,  7.76it/s]\u001b[A\n",
            " 90%|█████████ | 1279/1420 [02:15<00:18,  7.56it/s]\u001b[A\n",
            " 90%|█████████ | 1280/1420 [02:15<00:18,  7.55it/s]\u001b[A"
          ]
        },
        {
          "output_type": "stream",
          "name": "stdout",
          "text": [
            "Epoch 8 Batch 141/142 [D loss: 0.690750] [G loss:0.712441]\n"
          ]
        },
        {
          "output_type": "stream",
          "name": "stderr",
          "text": [
            "\n",
            " 90%|█████████ | 1281/1420 [02:15<00:18,  7.44it/s]\u001b[A\n",
            " 90%|█████████ | 1282/1420 [02:16<00:19,  7.03it/s]\u001b[A\n",
            " 90%|█████████ | 1283/1420 [02:16<00:19,  7.00it/s]\u001b[A\n",
            " 90%|█████████ | 1284/1420 [02:16<00:20,  6.78it/s]\u001b[A\n",
            " 90%|█████████ | 1285/1420 [02:16<00:19,  6.85it/s]\u001b[A\n",
            " 91%|█████████ | 1286/1420 [02:16<00:19,  6.86it/s]\u001b[A\n",
            " 91%|█████████ | 1287/1420 [02:16<00:19,  6.81it/s]\u001b[A\n",
            " 91%|█████████ | 1288/1420 [02:16<00:19,  6.78it/s]\u001b[A\n",
            " 91%|█████████ | 1289/1420 [02:17<00:19,  6.66it/s]\u001b[A\n",
            " 91%|█████████ | 1290/1420 [02:17<00:19,  6.69it/s]\u001b[A\n",
            " 91%|█████████ | 1291/1420 [02:17<00:19,  6.72it/s]\u001b[A\n",
            " 91%|█████████ | 1292/1420 [02:17<00:18,  6.79it/s]\u001b[A\n",
            " 91%|█████████ | 1293/1420 [02:17<00:18,  6.72it/s]\u001b[A\n",
            " 91%|█████████ | 1294/1420 [02:17<00:18,  6.77it/s]\u001b[A\n",
            " 91%|█████████ | 1295/1420 [02:17<00:18,  6.86it/s]\u001b[A\n",
            " 91%|█████████▏| 1296/1420 [02:18<00:17,  6.89it/s]\u001b[A\n",
            " 91%|█████████▏| 1297/1420 [02:18<00:17,  6.85it/s]\u001b[A\n",
            " 91%|█████████▏| 1298/1420 [02:18<00:17,  6.90it/s]\u001b[A\n",
            " 91%|█████████▏| 1299/1420 [02:18<00:17,  6.97it/s]\u001b[A\n",
            " 92%|█████████▏| 1300/1420 [02:18<00:17,  6.97it/s]\u001b[A\n",
            " 92%|█████████▏| 1301/1420 [02:18<00:17,  6.86it/s]\u001b[A\n",
            " 92%|█████████▏| 1302/1420 [02:18<00:17,  6.90it/s]\u001b[A\n",
            " 92%|█████████▏| 1303/1420 [02:19<00:16,  6.90it/s]\u001b[A\n",
            " 92%|█████████▏| 1304/1420 [02:19<00:16,  6.96it/s]\u001b[A\n",
            " 92%|█████████▏| 1305/1420 [02:19<00:16,  6.97it/s]\u001b[A\n",
            " 92%|█████████▏| 1306/1420 [02:19<00:16,  7.05it/s]\u001b[A\n",
            " 92%|█████████▏| 1307/1420 [02:19<00:16,  7.04it/s]\u001b[A\n",
            " 92%|█████████▏| 1308/1420 [02:19<00:16,  6.95it/s]\u001b[A\n",
            " 92%|█████████▏| 1309/1420 [02:20<00:16,  6.92it/s]\u001b[A\n",
            " 92%|█████████▏| 1310/1420 [02:20<00:15,  6.96it/s]\u001b[A\n",
            " 92%|█████████▏| 1311/1420 [02:20<00:15,  7.01it/s]\u001b[A\n",
            " 92%|█████████▏| 1312/1420 [02:20<00:15,  6.98it/s]\u001b[A\n",
            " 92%|█████████▏| 1313/1420 [02:20<00:15,  7.02it/s]\u001b[A\n",
            " 93%|█████████▎| 1314/1420 [02:20<00:15,  6.99it/s]\u001b[A\n",
            " 93%|█████████▎| 1315/1420 [02:20<00:15,  6.96it/s]\u001b[A\n",
            " 93%|█████████▎| 1316/1420 [02:21<00:15,  6.71it/s]\u001b[A\n",
            " 93%|█████████▎| 1317/1420 [02:21<00:15,  6.50it/s]\u001b[A\n",
            " 93%|█████████▎| 1318/1420 [02:21<00:15,  6.54it/s]\u001b[A\n",
            " 93%|█████████▎| 1319/1420 [02:21<00:15,  6.63it/s]\u001b[A\n",
            " 93%|█████████▎| 1320/1420 [02:21<00:14,  6.75it/s]\u001b[A\n",
            " 93%|█████████▎| 1321/1420 [02:21<00:14,  6.84it/s]\u001b[A\n",
            " 93%|█████████▎| 1322/1420 [02:21<00:14,  6.73it/s]\u001b[A\n",
            " 93%|█████████▎| 1323/1420 [02:22<00:14,  6.64it/s]\u001b[A\n",
            " 93%|█████████▎| 1324/1420 [02:22<00:14,  6.41it/s]\u001b[A\n",
            " 93%|█████████▎| 1325/1420 [02:22<00:14,  6.51it/s]\u001b[A\n",
            " 93%|█████████▎| 1326/1420 [02:22<00:13,  6.86it/s]\u001b[A\n",
            " 94%|█████████▎| 1328/1420 [02:22<00:10,  8.59it/s]\u001b[A\n",
            " 94%|█████████▎| 1330/1420 [02:22<00:09,  9.76it/s]\u001b[A\n",
            " 94%|█████████▍| 1332/1420 [02:23<00:08, 10.26it/s]\u001b[A\n",
            " 94%|█████████▍| 1334/1420 [02:23<00:07, 10.84it/s]\u001b[A\n",
            " 94%|█████████▍| 1336/1420 [02:23<00:07, 11.23it/s]\u001b[A\n",
            " 94%|█████████▍| 1338/1420 [02:23<00:07, 10.82it/s]\u001b[A\n",
            " 94%|█████████▍| 1340/1420 [02:23<00:07, 11.11it/s]\u001b[A\n",
            " 95%|█████████▍| 1342/1420 [02:23<00:06, 11.44it/s]\u001b[A\n",
            " 95%|█████████▍| 1344/1420 [02:24<00:06, 11.21it/s]\u001b[A\n",
            " 95%|█████████▍| 1346/1420 [02:24<00:06, 11.46it/s]\u001b[A\n",
            " 95%|█████████▍| 1348/1420 [02:24<00:06, 11.72it/s]\u001b[A\n",
            " 95%|█████████▌| 1350/1420 [02:24<00:05, 11.75it/s]\u001b[A\n",
            " 95%|█████████▌| 1352/1420 [02:24<00:05, 11.83it/s]\u001b[A\n",
            " 95%|█████████▌| 1354/1420 [02:24<00:05, 12.04it/s]\u001b[A\n",
            " 95%|█████████▌| 1356/1420 [02:25<00:05, 11.89it/s]\u001b[A\n",
            " 96%|█████████▌| 1358/1420 [02:25<00:05, 11.99it/s]\u001b[A\n",
            " 96%|█████████▌| 1360/1420 [02:25<00:04, 12.05it/s]\u001b[A\n",
            " 96%|█████████▌| 1362/1420 [02:25<00:04, 11.83it/s]\u001b[A\n",
            " 96%|█████████▌| 1364/1420 [02:25<00:04, 11.89it/s]\u001b[A\n",
            " 96%|█████████▌| 1366/1420 [02:25<00:04, 12.03it/s]\u001b[A\n",
            " 96%|█████████▋| 1368/1420 [02:26<00:04, 11.84it/s]\u001b[A\n",
            " 96%|█████████▋| 1370/1420 [02:26<00:04, 11.96it/s]\u001b[A\n",
            " 97%|█████████▋| 1372/1420 [02:26<00:04, 11.95it/s]\u001b[A\n",
            " 97%|█████████▋| 1374/1420 [02:26<00:03, 12.09it/s]\u001b[A\n",
            " 97%|█████████▋| 1376/1420 [02:26<00:03, 11.41it/s]\u001b[A\n",
            " 97%|█████████▋| 1378/1420 [02:26<00:03, 11.65it/s]\u001b[A\n",
            " 97%|█████████▋| 1380/1420 [02:27<00:03, 11.58it/s]\u001b[A\n",
            " 97%|█████████▋| 1382/1420 [02:27<00:03, 11.72it/s]\u001b[A\n",
            " 97%|█████████▋| 1384/1420 [02:27<00:03, 11.88it/s]\u001b[A\n",
            " 98%|█████████▊| 1386/1420 [02:27<00:02, 12.00it/s]\u001b[A\n",
            " 98%|█████████▊| 1388/1420 [02:27<00:02, 12.05it/s]\u001b[A\n",
            " 98%|█████████▊| 1390/1420 [02:27<00:02, 12.03it/s]\u001b[A\n",
            " 98%|█████████▊| 1392/1420 [02:28<00:02, 11.25it/s]\u001b[A\n",
            " 98%|█████████▊| 1394/1420 [02:28<00:02, 11.32it/s]\u001b[A\n",
            " 98%|█████████▊| 1396/1420 [02:28<00:02, 11.48it/s]\u001b[A\n",
            " 98%|█████████▊| 1398/1420 [02:28<00:01, 11.72it/s]\u001b[A\n",
            " 99%|█████████▊| 1400/1420 [02:28<00:01, 11.81it/s]\u001b[A\n",
            " 99%|█████████▊| 1402/1420 [02:28<00:01, 11.88it/s]\u001b[A\n",
            " 99%|█████████▉| 1404/1420 [02:29<00:01, 11.61it/s]\u001b[A\n",
            " 99%|█████████▉| 1406/1420 [02:29<00:01, 11.75it/s]\u001b[A\n",
            " 99%|█████████▉| 1408/1420 [02:29<00:01, 11.87it/s]\u001b[A\n",
            " 99%|█████████▉| 1410/1420 [02:29<00:00, 11.97it/s]\u001b[A\n",
            " 99%|█████████▉| 1412/1420 [02:29<00:00, 11.98it/s]\u001b[A\n",
            "100%|█████████▉| 1414/1420 [02:29<00:00, 11.84it/s]\u001b[A\n",
            "100%|█████████▉| 1416/1420 [02:30<00:00, 11.57it/s]\u001b[A\n",
            "100%|█████████▉| 1418/1420 [02:30<00:00, 11.69it/s]\u001b[A\n",
            "100%|██████████| 1420/1420 [02:30<00:00, 11.79it/s]\u001b[A"
          ]
        },
        {
          "output_type": "stream",
          "name": "stdout",
          "text": [
            "Epoch 9 Batch 141/142 [D loss: 0.691892] [G loss:0.707816]\n"
          ]
        }
      ],
      "source": [
        "#Training the GAN\n",
        "x_train, y_train, x_test, y_test = dataset['x_train'], dataset['y_train'],dataset['x_test'],dataset['y_test']\n",
        "\n",
        "#Calculating the number of batches based on the batch size\n",
        "batch_count = x_train.shape[0] // batch_size\n",
        "pbar = tqdm(total=epochs * batch_count)\n",
        "gan_loss = []\n",
        "discriminator_loss = []\n",
        "sgd=tf.keras.optimizers.legacy.SGD(learning_rate=0.0001)\n",
        "#Inititalizing the network\n",
        "generator = get_generator(sgd)\n",
        "discriminator = get_discriminator(sgd)\n",
        "gan = get_gan_network(discriminator, generator, sgd,input_dim=115)\n",
        "\n",
        "\n",
        "for epoch in range(epochs):\n",
        "    for index in range(batch_count):\n",
        "        pbar.update(1)\n",
        "        # Creating a random set of input noise and images\n",
        "        noise = np.random.normal(0, 1, size=[batch_size,115])\n",
        "\n",
        "        # Generate fake samples\n",
        "        generated_images = generator.predict_on_batch(noise)\n",
        "\n",
        "        #Obtain a batch of normal network packets\n",
        "        image_batch = x_train[index * batch_size: (index + 1) * batch_size]\n",
        "\n",
        "        X = np.vstack((generated_images,image_batch))\n",
        "        y_dis = np.ones(2*batch_size)\n",
        "        y_dis[:batch_size] = 0\n",
        "\n",
        "        # Train discriminator\n",
        "        discriminator.trainable = True\n",
        "        d_loss= discriminator.train_on_batch(X, y_dis)\n",
        "\n",
        "        # Train generator\n",
        "        noise = np.random.uniform(0, 1, size=[batch_size, 115])\n",
        "        y_gen = np.ones(batch_size)\n",
        "        discriminator.trainable = False\n",
        "        g_loss = gan.train_on_batch(noise, y_gen)\n",
        "\n",
        "        #Record the losses\n",
        "        discriminator_loss.append(d_loss)\n",
        "        gan_loss.append(g_loss)\n",
        "\n",
        "    print(\"Epoch %d Batch %d/%d [D loss: %f] [G loss:%f]\" % (epoch,index,batch_count, d_loss, g_loss))\n"
      ]
    },
    {
      "cell_type": "code",
      "source": [
        "x_train.shape"
      ],
      "metadata": {
        "colab": {
          "base_uri": "https://localhost:8080/"
        },
        "id": "3J8DPGoKnMDg",
        "outputId": "c9d9d5c4-17e8-46a5-aacb-422b255ff6c5"
      },
      "execution_count": 626,
      "outputs": [
        {
          "output_type": "execute_result",
          "data": {
            "text/plain": [
              "(72921, 115)"
            ]
          },
          "metadata": {},
          "execution_count": 626
        }
      ]
    },
    {
      "cell_type": "code",
      "source": [
        "generated_images.shape"
      ],
      "metadata": {
        "colab": {
          "base_uri": "https://localhost:8080/"
        },
        "id": "C9dtyCGUolOi",
        "outputId": "2355cb71-d810-4849-e2d0-b81a966d8b5f"
      },
      "execution_count": 627,
      "outputs": [
        {
          "output_type": "execute_result",
          "data": {
            "text/plain": [
              "(512, 115)"
            ]
          },
          "metadata": {},
          "execution_count": 627
        }
      ]
    },
    {
      "cell_type": "code",
      "source": [
        "image_batch.shape"
      ],
      "metadata": {
        "colab": {
          "base_uri": "https://localhost:8080/"
        },
        "id": "v1pQbHiOolRl",
        "outputId": "0dacf225-b684-47ab-f6bd-762deb0e7fe4"
      },
      "execution_count": 628,
      "outputs": [
        {
          "output_type": "execute_result",
          "data": {
            "text/plain": [
              "(512, 115)"
            ]
          },
          "metadata": {},
          "execution_count": 628
        }
      ]
    },
    {
      "cell_type": "code",
      "source": [
        "batch_count"
      ],
      "metadata": {
        "colab": {
          "base_uri": "https://localhost:8080/"
        },
        "id": "PvxwAz3qutm4",
        "outputId": "081ada2b-8fc4-458b-ad26-6ad76ef74b2b"
      },
      "execution_count": 629,
      "outputs": [
        {
          "output_type": "execute_result",
          "data": {
            "text/plain": [
              "142"
            ]
          },
          "metadata": {},
          "execution_count": 629
        }
      ]
    },
    {
      "cell_type": "code",
      "source": [],
      "metadata": {
        "id": "xhIvwGjluuFz"
      },
      "execution_count": 629,
      "outputs": []
    },
    {
      "cell_type": "markdown",
      "metadata": {
        "id": "oLkmySdP_1kS"
      },
      "source": [
        "### 2.6 Training Loss"
      ]
    },
    {
      "cell_type": "markdown",
      "metadata": {
        "id": "LuHXb-fE_1kS"
      },
      "source": [
        "Let's visualize the generator and discriminator training losses!"
      ]
    },
    {
      "cell_type": "code",
      "execution_count": 645,
      "metadata": {
        "id": "YWqWQUF4_1kS",
        "colab": {
          "base_uri": "https://localhost:8080/",
          "height": 469
        },
        "outputId": "57157be9-1838-4ce8-c327-6dfc9515f129"
      },
      "outputs": [
        {
          "output_type": "execute_result",
          "data": {
            "text/plain": [
              "<matplotlib.legend.Legend at 0x7e7557ae7790>"
            ]
          },
          "metadata": {},
          "execution_count": 645
        },
        {
          "output_type": "display_data",
          "data": {
            "text/plain": [
              "<Figure size 640x480 with 1 Axes>"
            ],
            "image/png": "[encoded data removed]"
          },
          "metadata": {}
        }
      ],
      "source": [
        "fig, ax = plt.subplots()\n",
        "plt.plot(discriminator_loss, label='Discriminator')\n",
        "plt.plot(gan_loss, label='Generator')\n",
        "plt.title(\"Training Losses\")\n",
        "plt.legend()"
      ]
    },
    {
      "cell_type": "markdown",
      "metadata": {
        "id": "8xtMAgO9_1kT"
      },
      "source": [
        "The loss convergence towards the end signifies that the GAN model has reached optimality"
      ]
    },
    {
      "cell_type": "markdown",
      "metadata": {
        "id": "GLVWW-9o_1kT"
      },
      "source": [
        "### 2.7 Anomaly Detection"
      ]
    },
    {
      "cell_type": "markdown",
      "metadata": {
        "id": "NBBViOrB_1kT"
      },
      "source": [
        "What was the result of all the training we did?  \n",
        "\n",
        "We now have a generator that can input a random seed value and produce an output that closely resembles the data it was trained on. You can read about how this strategy was used to come up with imaginary celebrities <a href =\"https://research.nvidia.com/publication/2017-10_Progressive-Growing-of\" >here</a>\n",
        "\n",
        "The Discriminator that we trained ended up being a very powerful classifier that can tell if a sample point is representative of the true data distribution it was trained on or not and hence can be used for Anomaly Detection!\n",
        "\n",
        "Let us feed our test data into the discriminator and obtain scores."
      ]
    },
    {
      "cell_type": "code",
      "execution_count": 646,
      "metadata": {
        "id": "MQqkd_Mr_1kT"
      },
      "outputs": [],
      "source": [
        "# Predictions on the test set\n",
        "\n",
        "nr_batches_test = np.ceil(x_test.shape[0] // batch_size).astype(np.int32)\n",
        "\n",
        "results =[]\n",
        "\n",
        "for t in range(nr_batches_test +1):\n",
        "        ran_from = t * batch_size\n",
        "        ran_to = (t + 1) * batch_size\n",
        "        image_batch = x_test[ran_from:ran_to]\n",
        "        tmp_rslt = discriminator.predict(x=image_batch,batch_size=128,verbose=0)\n",
        "        results = np.append(results, tmp_rslt)"
      ]
    },
    {
      "cell_type": "markdown",
      "metadata": {
        "id": "v8FtfAwS_1kT"
      },
      "source": [
        "Let us calculate the mean score for normal and anomalous samples in our test set. Ideally, we would like to see a score close to 1 for normal samples and 0 for anomalous samples. This would mean our classifier is doing well in distinguishing between the 2 classes.  "
      ]
    },
    {
      "cell_type": "code",
      "execution_count": 647,
      "metadata": {
        "id": "kM-hQniM_1kT",
        "colab": {
          "base_uri": "https://localhost:8080/"
        },
        "outputId": "1be9cd4d-d2a9-47b7-b57f-b8dbeb9072af"
      },
      "outputs": [
        {
          "output_type": "stream",
          "name": "stdout",
          "text": [
            "Mean score for normal packets : 0.49639706309633497\n",
            "Mean score for anomalous packets : 0.49082465527699737\n"
          ]
        }
      ],
      "source": [
        "pd.options.display.float_format = '{:20,.7f}'.format\n",
        "results_df = pd.concat([pd.DataFrame(results),pd.DataFrame(y_test)], axis=1)\n",
        "results_df.columns = ['results','y_test']\n",
        "print ('Mean score for normal packets :', results_df.loc[results_df['y_test'] == 0, 'results'].mean() )\n",
        "print ('Mean score for anomalous packets :', results_df.loc[results_df['y_test'] == 1, 'results'].mean())"
      ]
    },
    {
      "cell_type": "markdown",
      "metadata": {
        "id": "F20rZ0Bk_1kT"
      },
      "source": [
        "But how exaclty do we identify our Anomalies?\n",
        "\n",
        "Although there are several ways to do this, let us use a more straight forward way for detection. Remember 1% of our test set comprised of anomalies. So, the lowest 1% of the scores should ideally constitute anomalies. Let us test our hypothesis below."
      ]
    },
    {
      "cell_type": "code",
      "execution_count": 648,
      "metadata": {
        "id": "GIMhYIlL_1kT"
      },
      "outputs": [],
      "source": [
        "#Obtaining the lowest 1% score\n",
        "per = np.percentile(results,1)\n",
        "y_pred = results.copy()\n",
        "y_pred = np.array(y_pred)\n",
        "\n",
        "#Thresholding based on the score\n",
        "inds = (y_pred > per)\n",
        "inds_comp = (y_pred <= per)\n",
        "y_pred[inds] = 0\n",
        "y_pred[inds_comp] = 1\n"
      ]
    },
    {
      "cell_type": "markdown",
      "metadata": {
        "id": "29On_45m_1kT"
      },
      "source": [
        "## Section 3: Evaluation"
      ]
    },
    {
      "cell_type": "markdown",
      "metadata": {
        "id": "iC8X8G1D_1kU"
      },
      "source": [
        "The Accuracy, Precision and Recall values of our model on the test set are as follows:"
      ]
    },
    {
      "cell_type": "code",
      "execution_count": 649,
      "metadata": {
        "id": "gh-F_nh3_1kU",
        "colab": {
          "base_uri": "https://localhost:8080/"
        },
        "outputId": "898f1f63-d3bf-497c-f37d-6fc01f77a1dd"
      },
      "outputs": [
        {
          "output_type": "stream",
          "name": "stdout",
          "text": [
            "Accuracy Score : 0.9022502990430622\n",
            "Precision : 0.08955223880597014\n",
            "Recall : 0.010020876826722338\n",
            "F1 : 0.018024784078107398\n"
          ]
        }
      ],
      "source": [
        "precision, recall, f1,_ = precision_recall_fscore_support(y_test,y_pred,average='binary')\n",
        "print ('Accuracy Score :',accuracy_score(y_test, y_pred) )\n",
        "print ('Precision :',precision )\n",
        "print ('Recall :',recall )\n",
        "print ('F1 :',f1 )"
      ]
    },
    {
      "cell_type": "markdown",
      "metadata": {
        "id": "3fsxtAK__1kU"
      },
      "source": [
        "### 3.1 Confusion Matrix"
      ]
    },
    {
      "cell_type": "markdown",
      "metadata": {
        "id": "JhCjt6-T_1kU"
      },
      "source": [
        "The confusion matrix is a good way to understand if our predictions agree with the target labels. You've implemented one of these in both of the previous labs, so in this section, you'll get a chance to build your own."
      ]
    },
    {
      "cell_type": "code",
      "execution_count": 653,
      "metadata": {
        "id": "2C21zCDN_1kU",
        "colab": {
          "base_uri": "https://localhost:8080/",
          "height": 1000
        },
        "outputId": "b21cdf73-1bde-445d-de90-832cd96f6634"
      },
      "outputs": [
        {
          "output_type": "stream",
          "name": "stdout",
          "text": [
            "Confusion Matrix :\n"
          ]
        },
        {
          "output_type": "display_data",
          "data": {
            "text/plain": [
              "<Figure size 1000x1000 with 2 Axes>"
            ],
            "image/png": "[encoded data removed]"
          },
          "metadata": {}
        }
      ],
      "source": [
        "cm = confusion_matrix(y_test, y_pred)\n",
        "\n",
        "print ('Confusion Matrix :')\n",
        "\n",
        "def plot_confusion_matrix(cm, title='Confusion matrix', cmap=plt.cm.Greens):\n",
        "    plt.figure(figsize=(10,10),)\n",
        "\n",
        "    plt.imshow(cm, interpolation='nearest', cmap=cmap)\n",
        "    plt.title(title)\n",
        "    plt.colorbar()\n",
        "    plt.tight_layout()\n",
        "\n",
        "    width, height = cm.shape\n",
        "\n",
        "    for x in range(width):\n",
        "        for y in range(height):\n",
        "            plt.annotate(str(cm[x][y]), xy=(y, x),\n",
        "                        horizontalalignment='center',\n",
        "                        verticalalignment='center')\n",
        "    plt.ylabel('True label')\n",
        "    plt.xlabel('Predicted label')\n",
        "\n",
        "\n",
        "plot_confusion_matrix(cm)"
      ]
    },
    {
      "cell_type": "markdown",
      "metadata": {
        "id": "d7Mg2g3z_1kU"
      },
      "source": [
        "### 3.2 ROC Curve"
      ]
    },
    {
      "cell_type": "markdown",
      "metadata": {
        "id": "Rtt6pO29_1kU"
      },
      "source": [
        "Let's see how our ROC curve looks with the predictions. The closer the AUC is to 1, the better the model."
      ]
    },
    {
      "cell_type": "code",
      "execution_count": 654,
      "metadata": {
        "id": "GmbMQTFW_1kU",
        "colab": {
          "base_uri": "https://localhost:8080/",
          "height": 472
        },
        "outputId": "2546ea4a-69d4-4bb5-dfaa-5e58ae536f41"
      },
      "outputs": [
        {
          "output_type": "display_data",
          "data": {
            "text/plain": [
              "<Figure size 640x480 with 1 Axes>"
            ],
            "image/png": "[encoded data removed]"
          },
          "metadata": {}
        }
      ],
      "source": [
        "fpr_keras, tpr_keras, thresholds_keras = roc_curve(y_test, y_pred)\n",
        "auc_keras = auc(fpr_keras, tpr_keras)\n",
        "plt.figure(1)\n",
        "plt.plot([0, 1], [0, 1], 'k--')\n",
        "plt.plot(fpr_keras, tpr_keras, label='Keras (area = {:.2f})'.format(auc_keras))\n",
        "\n",
        "plt.xlabel('False positive rate')\n",
        "plt.ylabel('True positive rate')\n",
        "plt.title('ROC curve')\n",
        "plt.legend(loc='best')\n",
        "plt.show()"
      ]
    },
    {
      "cell_type": "markdown",
      "metadata": {
        "id": "hRgZ0hd1_1kV"
      },
      "source": [
        "## Conclusion"
      ]
    },
    {
      "cell_type": "markdown",
      "metadata": {
        "id": "yMrebeLL_1kV"
      },
      "source": [
        "- We successfully employed state of the art Generative Adversarial Networks for anomaly detection on high dimensional data such as the KDD dataset.\n",
        "- The GAN is particularly interesting  because it sets up a supervised learning problem in order to do unsupervised learning. While it generates fake data, and tries to determine if a sample is fake or real based on trivial labels, it really does not know what the different classes in the dataset are.\n",
        "- On the downside, GANs can be tough to train and suffer from convergence issues particularly because, the discriminator during training does not learn as much from the true dataset as it learns to distinguish between the probability distributions."
      ]
    }
  ],
  "metadata": {
    "kernelspec": {
      "display_name": "Python 3 (ipykernel)",
      "language": "python",
      "name": "python3"
    },
    "language_info": {
      "codemirror_mode": {
        "name": "ipython",
        "version": 3
      },
      "file_extension": ".py",
      "mimetype": "text/x-python",
      "name": "python",
      "nbconvert_exporter": "python",
      "pygments_lexer": "ipython3",
      "version": "3.8.10"
    },
    "colab": {
      "provenance": [],
      "include_colab_link": true
    }
  },
  "nbformat": 4,
  "nbformat_minor": 0
}