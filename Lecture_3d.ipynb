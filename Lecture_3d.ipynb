{
  "cells": [
    {
      "cell_type": "markdown",
      "metadata": {
        "id": "view-in-github",
        "colab_type": "text"
      },
      "source": [
        "<a href=\"https://colab.research.google.com/github/TAMIDSpiyalong/Introduction-to-Machine-Learning-for-Energy/blob/main/Lecture_3d.ipynb\" target=\"_parent\"><img src=\"https://colab.research.google.com/assets/colab-badge.svg\" alt=\"Open In Colab\"/></a>"
      ]
    },
    {
      "cell_type": "markdown",
      "metadata": {
        "id": "u8qriVw5_1kH"
      },
      "source": [
        "# Anomaly Detection in Network Data using GANs"
      ]
    },
    {
      "cell_type": "markdown",
      "metadata": {
        "id": "lp40CJMG_1kI"
      },
      "source": [
        "GANs are generative models that generate samples similar to the training dataset by learning the true data distribution. So instead of compressing the input into a latent space and classifying the test samples based on the reconstruction error, we actually train a classifier that outputs a probability score of a sample being Normal or Anomalous. As we will see later in the lab, this has positioned GANs as very attaractive unsupervised learning techniques.\n",
        "\n",
        "GANs can be pretty tough to train and improving their stability is an active area of research today."
      ]
    },
    {
      "cell_type": "code",
      "execution_count": 125,
      "metadata": {
        "id": "x4Q_t_S5_1kI"
      },
      "outputs": [],
      "source": [
        "# Import system packages\n",
        "import os\n",
        "import sys\n",
        "import time\n",
        "import logging\n",
        "import importlib\n",
        "\n",
        "#Import data manipulation libraries\n",
        "import numpy as np\n",
        "import pandas as pd\n",
        "import collections\n",
        "from tqdm import tqdm\n",
        "\n",
        "#Import visualization libraries\n",
        "import matplotlib.pyplot as plt\n",
        "\n",
        "#Importing ML/DL libraries\n",
        "from sklearn.preprocessing import MinMaxScaler,LabelEncoder\n",
        "from sklearn.model_selection import train_test_split\n",
        "from sklearn.metrics import roc_curve, auc,precision_recall_fscore_support, average_precision_score\n",
        "from sklearn.metrics import precision_recall_curve, auc, confusion_matrix,accuracy_score\n",
        "\n",
        "import tensorflow as tf\n",
        "from tensorflow import keras\n",
        "# from tensorflow.keras import layer\n",
        "\n",
        "from tensorflow.keras import initializers\n",
        "from tensorflow.keras.models import Model, Sequential\n",
        "from tensorflow.keras.optimizers import Adam, RMSprop\n",
        "from tensorflow.keras.callbacks import ModelCheckpoint\n",
        "from tensorflow.keras.layers import Dense, Dropout\n",
        "from tensorflow.keras.layers import LeakyReLU\n",
        "from tensorflow.keras.layers import Input, BatchNormalization, LeakyReLU, Dense, Reshape, Flatten, Activation\n",
        "from tensorflow.keras.layers import Dropout, multiply, GaussianNoise, MaxPooling2D, concatenate\n",
        "import pickle\n",
        "\n",
        "import random\n",
        "random.seed(123)\n"
      ]
    },
    {
      "cell_type": "code",
      "source": [],
      "metadata": {
        "id": "5kvYNWMX38YY"
      },
      "execution_count": 125,
      "outputs": []
    },
    {
      "cell_type": "markdown",
      "metadata": {
        "id": "3SzjgkkY_1kJ"
      },
      "source": [
        "## Section 1: Dataset"
      ]
    },
    {
      "cell_type": "code",
      "source": [
        "import pandas as pd\n",
        "from tensorflow.keras.utils import get_file\n",
        "\n",
        "try:\n",
        "    path = get_file('kddcup.data_10_percent.gz', origin='http://kdd.ics.uci.edu/databases/kddcup99/kddcup.data_10_percent.gz')\n",
        "except:\n",
        "    print('Error downloading')\n",
        "    raise\n",
        "\n",
        "print(path)\n",
        "\n",
        "# This file is a CSV, just no CSV extension or headers\n",
        "# Download from: http://kdd.ics.uci.edu/databases/kddcup99/kddcup99.html"
      ],
      "metadata": {
        "id": "bg0OIFa4g47z",
        "outputId": "00dbde86-7318-434b-fb6a-2185cb3aeb73",
        "colab": {
          "base_uri": "https://localhost:8080/"
        }
      },
      "execution_count": 126,
      "outputs": [
        {
          "output_type": "stream",
          "name": "stdout",
          "text": [
            "/root/.keras/datasets/kddcup.data_10_percent.gz\n"
          ]
        }
      ]
    },
    {
      "cell_type": "code",
      "source": [
        "col_names = [\"duration\",\"protocol_type\",\"service\",\"flag\",\"src_bytes\",\"dst_bytes\",\"land\",\"wrong_fragment\",\"urgent\",\"hot\",\"num_failed_logins\",\"logged_in\",\n",
        "             \"num_compromised\",\"root_shell\",\"su_attempted\",\"num_root\",\"num_file_creations\",\"num_shells\",\"num_access_files\",\"num_outbound_cmds\",\n",
        "             \"is_host_login\",\"is_guest_login\",\"count\",\"srv_count\",\"serror_rate\",\"srv_serror_rate\",\"rerror_rate\",\"srv_rerror_rate\",\"same_srv_rate\",\n",
        "             \"diff_srv_rate\",\"srv_diff_host_rate\",\"dst_host_count\",\"dst_host_srv_count\",\"dst_host_same_srv_rate\",\"dst_host_diff_srv_rate\",\n",
        "             \"dst_host_same_src_port_rate\",\"dst_host_srv_diff_host_rate\",\"dst_host_serror_rate\",\"dst_host_srv_serror_rate\",\"dst_host_rerror_rate\",\n",
        "             \"dst_host_srv_rerror_rate\",\"label\"]"
      ],
      "metadata": {
        "id": "j5by1vDGjB0N"
      },
      "execution_count": 128,
      "outputs": []
    },
    {
      "cell_type": "code",
      "source": [
        "df =  pd.read_csv(path, header=None, names=col_names, index_col=False)"
      ],
      "metadata": {
        "id": "3INypkvejp1N"
      },
      "execution_count": 129,
      "outputs": []
    },
    {
      "cell_type": "code",
      "source": [
        "df['label']"
      ],
      "metadata": {
        "colab": {
          "base_uri": "https://localhost:8080/"
        },
        "id": "4_E4dCo3AgVG",
        "outputId": "d4c65309-c422-4234-dd48-ed6a903f3bad"
      },
      "execution_count": 130,
      "outputs": [
        {
          "output_type": "execute_result",
          "data": {
            "text/plain": [
              "0         normal.\n",
              "1         normal.\n",
              "2         normal.\n",
              "3         normal.\n",
              "4         normal.\n",
              "           ...   \n",
              "494016    normal.\n",
              "494017    normal.\n",
              "494018    normal.\n",
              "494019    normal.\n",
              "494020    normal.\n",
              "Name: label, Length: 494021, dtype: object"
            ]
          },
          "metadata": {},
          "execution_count": 130
        }
      ]
    },
    {
      "cell_type": "code",
      "source": [
        "\n",
        "le = LabelEncoder()\n",
        "le.fit(df.label)\n",
        "\n",
        "\n",
        "\n",
        "# capture the categorical variables and one-hot encode them\n",
        "cat_vars = ['protocol_type', 'service', 'flag', 'land', 'logged_in','is_host_login', 'is_guest_login']\n",
        "\n",
        "# find unique labels for each category\n",
        "cat_data = pd.get_dummies(df[cat_vars])\n",
        "\n",
        "numeric_vars = list(set(df.columns.values.tolist()) - set(cat_vars))\n",
        "numeric_vars.remove('label')\n",
        "numeric_data = df[numeric_vars].copy()\n",
        "\n",
        "numeric_cat_data = pd.concat([numeric_data, cat_data], axis=1)\n",
        "\n",
        "# capture the labels\n",
        "labels = df['label'].copy()\n",
        "\n",
        "# convert labels to integers\n",
        "integer_labels = le.transform(labels)\n",
        "\n",
        "# split data into test and train\n",
        "x_train, x_test, y_train, y_test = train_test_split(numeric_cat_data,\n",
        "                                                    integer_labels,\n",
        "                                                    test_size=.25,\n",
        "                                                    random_state=42)\n",
        "\n",
        "# save the datasets for later use\n",
        "preprocessed_data = {    'x_train':x_train,'y_train':y_train,'x_test':x_test,'y_test':y_test,'le':le}"
      ],
      "metadata": {
        "id": "vQomF46kjC7t"
      },
      "execution_count": 131,
      "outputs": []
    },
    {
      "cell_type": "code",
      "source": [
        "preprocessed_data['x_train']"
      ],
      "metadata": {
        "id": "LklF3gq_iEfl",
        "outputId": "4b6492d6-ac4b-4d8b-83a5-2c6d81b01e9e",
        "colab": {
          "base_uri": "https://localhost:8080/",
          "height": 443
        }
      },
      "execution_count": 132,
      "outputs": [
        {
          "output_type": "execute_result",
          "data": {
            "text/plain": [
              "        srv_count  root_shell  dst_host_diff_srv_rate  serror_rate  \\\n",
              "415509        511           0                    0.00          0.0   \n",
              "486987          1           0                    0.06          0.0   \n",
              "368619          9           0                    0.09          1.0   \n",
              "472567         10           0                    0.06          0.0   \n",
              "470770         17           0                    0.06          0.0   \n",
              "...           ...         ...                     ...          ...   \n",
              "259178        511           0                    0.00          0.0   \n",
              "365838          5           0                    0.06          1.0   \n",
              "131932        511           0                    0.00          0.0   \n",
              "146867          1           0                    0.41          0.0   \n",
              "121958          5           0                    0.07          1.0   \n",
              "\n",
              "        num_shells  rerror_rate  urgent  num_file_creations  \\\n",
              "415509           0          0.0       0                   0   \n",
              "486987           0          0.0       0                   0   \n",
              "368619           0          0.0       0                   0   \n",
              "472567           0          1.0       0                   0   \n",
              "470770           0          1.0       0                   0   \n",
              "...            ...          ...     ...                 ...   \n",
              "259178           0          0.0       0                   0   \n",
              "365838           0          0.0       0                   0   \n",
              "131932           0          0.0       0                   0   \n",
              "146867           0          0.0       0                   0   \n",
              "121958           0          0.0       0                   0   \n",
              "\n",
              "        dst_host_srv_rerror_rate  dst_bytes  ...  flag_REJ  flag_RSTO  \\\n",
              "415509                       0.0          0  ...         0          0   \n",
              "486987                       0.0       3380  ...         0          0   \n",
              "368619                       0.0          0  ...         0          0   \n",
              "472567                       1.0          0  ...         1          0   \n",
              "470770                       1.0          0  ...         1          0   \n",
              "...                          ...        ...  ...       ...        ...   \n",
              "259178                       0.0          0  ...         0          0   \n",
              "365838                       0.0          0  ...         0          0   \n",
              "131932                       0.0          0  ...         0          0   \n",
              "146867                       0.0        105  ...         0          0   \n",
              "121958                       0.0          0  ...         0          0   \n",
              "\n",
              "        flag_RSTOS0  flag_RSTR  flag_S0  flag_S1  flag_S2  flag_S3  flag_SF  \\\n",
              "415509            0          0        0        0        0        0        1   \n",
              "486987            0          0        0        0        0        0        1   \n",
              "368619            0          0        1        0        0        0        0   \n",
              "472567            0          0        0        0        0        0        0   \n",
              "470770            0          0        0        0        0        0        0   \n",
              "...             ...        ...      ...      ...      ...      ...      ...   \n",
              "259178            0          0        0        0        0        0        1   \n",
              "365838            0          0        1        0        0        0        0   \n",
              "131932            0          0        0        0        0        0        1   \n",
              "146867            0          0        0        0        0        0        1   \n",
              "121958            0          0        1        0        0        0        0   \n",
              "\n",
              "        flag_SH  \n",
              "415509        0  \n",
              "486987        0  \n",
              "368619        0  \n",
              "472567        0  \n",
              "470770        0  \n",
              "...         ...  \n",
              "259178        0  \n",
              "365838        0  \n",
              "131932        0  \n",
              "146867        0  \n",
              "121958        0  \n",
              "\n",
              "[370515 rows x 118 columns]"
            ],
            "text/html": [
              "\n",
              "  <div id=\"df-596cbc0d-8ba7-478f-aae0-8f5399acc1e2\" class=\"colab-df-container\">\n",
              "    <div>\n",
              "<style scoped>\n",
              "    .dataframe tbody tr th:only-of-type {\n",
              "        vertical-align: middle;\n",
              "    }\n",
              "\n",
              "    .dataframe tbody tr th {\n",
              "        vertical-align: top;\n",
              "    }\n",
              "\n",
              "    .dataframe thead th {\n",
              "        text-align: right;\n",
              "    }\n",
              "</style>\n",
              "<table border=\"1\" class=\"dataframe\">\n",
              "  <thead>\n",
              "    <tr style=\"text-align: right;\">\n",
              "      <th></th>\n",
              "      <th>srv_count</th>\n",
              "      <th>root_shell</th>\n",
              "      <th>dst_host_diff_srv_rate</th>\n",
              "      <th>serror_rate</th>\n",
              "      <th>num_shells</th>\n",
              "      <th>rerror_rate</th>\n",
              "      <th>urgent</th>\n",
              "      <th>num_file_creations</th>\n",
              "      <th>dst_host_srv_rerror_rate</th>\n",
              "      <th>dst_bytes</th>\n",
              "      <th>...</th>\n",
              "      <th>flag_REJ</th>\n",
              "      <th>flag_RSTO</th>\n",
              "      <th>flag_RSTOS0</th>\n",
              "      <th>flag_RSTR</th>\n",
              "      <th>flag_S0</th>\n",
              "      <th>flag_S1</th>\n",
              "      <th>flag_S2</th>\n",
              "      <th>flag_S3</th>\n",
              "      <th>flag_SF</th>\n",
              "      <th>flag_SH</th>\n",
              "    </tr>\n",
              "  </thead>\n",
              "  <tbody>\n",
              "    <tr>\n",
              "      <th>415509</th>\n",
              "      <td>511</td>\n",
              "      <td>0</td>\n",
              "      <td>0.00</td>\n",
              "      <td>0.0</td>\n",
              "      <td>0</td>\n",
              "      <td>0.0</td>\n",
              "      <td>0</td>\n",
              "      <td>0</td>\n",
              "      <td>0.0</td>\n",
              "      <td>0</td>\n",
              "      <td>...</td>\n",
              "      <td>0</td>\n",
              "      <td>0</td>\n",
              "      <td>0</td>\n",
              "      <td>0</td>\n",
              "      <td>0</td>\n",
              "      <td>0</td>\n",
              "      <td>0</td>\n",
              "      <td>0</td>\n",
              "      <td>1</td>\n",
              "      <td>0</td>\n",
              "    </tr>\n",
              "    <tr>\n",
              "      <th>486987</th>\n",
              "      <td>1</td>\n",
              "      <td>0</td>\n",
              "      <td>0.06</td>\n",
              "      <td>0.0</td>\n",
              "      <td>0</td>\n",
              "      <td>0.0</td>\n",
              "      <td>0</td>\n",
              "      <td>0</td>\n",
              "      <td>0.0</td>\n",
              "      <td>3380</td>\n",
              "      <td>...</td>\n",
              "      <td>0</td>\n",
              "      <td>0</td>\n",
              "      <td>0</td>\n",
              "      <td>0</td>\n",
              "      <td>0</td>\n",
              "      <td>0</td>\n",
              "      <td>0</td>\n",
              "      <td>0</td>\n",
              "      <td>1</td>\n",
              "      <td>0</td>\n",
              "    </tr>\n",
              "    <tr>\n",
              "      <th>368619</th>\n",
              "      <td>9</td>\n",
              "      <td>0</td>\n",
              "      <td>0.09</td>\n",
              "      <td>1.0</td>\n",
              "      <td>0</td>\n",
              "      <td>0.0</td>\n",
              "      <td>0</td>\n",
              "      <td>0</td>\n",
              "      <td>0.0</td>\n",
              "      <td>0</td>\n",
              "      <td>...</td>\n",
              "      <td>0</td>\n",
              "      <td>0</td>\n",
              "      <td>0</td>\n",
              "      <td>0</td>\n",
              "      <td>1</td>\n",
              "      <td>0</td>\n",
              "      <td>0</td>\n",
              "      <td>0</td>\n",
              "      <td>0</td>\n",
              "      <td>0</td>\n",
              "    </tr>\n",
              "    <tr>\n",
              "      <th>472567</th>\n",
              "      <td>10</td>\n",
              "      <td>0</td>\n",
              "      <td>0.06</td>\n",
              "      <td>0.0</td>\n",
              "      <td>0</td>\n",
              "      <td>1.0</td>\n",
              "      <td>0</td>\n",
              "      <td>0</td>\n",
              "      <td>1.0</td>\n",
              "      <td>0</td>\n",
              "      <td>...</td>\n",
              "      <td>1</td>\n",
              "      <td>0</td>\n",
              "      <td>0</td>\n",
              "      <td>0</td>\n",
              "      <td>0</td>\n",
              "      <td>0</td>\n",
              "      <td>0</td>\n",
              "      <td>0</td>\n",
              "      <td>0</td>\n",
              "      <td>0</td>\n",
              "    </tr>\n",
              "    <tr>\n",
              "      <th>470770</th>\n",
              "      <td>17</td>\n",
              "      <td>0</td>\n",
              "      <td>0.06</td>\n",
              "      <td>0.0</td>\n",
              "      <td>0</td>\n",
              "      <td>1.0</td>\n",
              "      <td>0</td>\n",
              "      <td>0</td>\n",
              "      <td>1.0</td>\n",
              "      <td>0</td>\n",
              "      <td>...</td>\n",
              "      <td>1</td>\n",
              "      <td>0</td>\n",
              "      <td>0</td>\n",
              "      <td>0</td>\n",
              "      <td>0</td>\n",
              "      <td>0</td>\n",
              "      <td>0</td>\n",
              "      <td>0</td>\n",
              "      <td>0</td>\n",
              "      <td>0</td>\n",
              "    </tr>\n",
              "    <tr>\n",
              "      <th>...</th>\n",
              "      <td>...</td>\n",
              "      <td>...</td>\n",
              "      <td>...</td>\n",
              "      <td>...</td>\n",
              "      <td>...</td>\n",
              "      <td>...</td>\n",
              "      <td>...</td>\n",
              "      <td>...</td>\n",
              "      <td>...</td>\n",
              "      <td>...</td>\n",
              "      <td>...</td>\n",
              "      <td>...</td>\n",
              "      <td>...</td>\n",
              "      <td>...</td>\n",
              "      <td>...</td>\n",
              "      <td>...</td>\n",
              "      <td>...</td>\n",
              "      <td>...</td>\n",
              "      <td>...</td>\n",
              "      <td>...</td>\n",
              "      <td>...</td>\n",
              "    </tr>\n",
              "    <tr>\n",
              "      <th>259178</th>\n",
              "      <td>511</td>\n",
              "      <td>0</td>\n",
              "      <td>0.00</td>\n",
              "      <td>0.0</td>\n",
              "      <td>0</td>\n",
              "      <td>0.0</td>\n",
              "      <td>0</td>\n",
              "      <td>0</td>\n",
              "      <td>0.0</td>\n",
              "      <td>0</td>\n",
              "      <td>...</td>\n",
              "      <td>0</td>\n",
              "      <td>0</td>\n",
              "      <td>0</td>\n",
              "      <td>0</td>\n",
              "      <td>0</td>\n",
              "      <td>0</td>\n",
              "      <td>0</td>\n",
              "      <td>0</td>\n",
              "      <td>1</td>\n",
              "      <td>0</td>\n",
              "    </tr>\n",
              "    <tr>\n",
              "      <th>365838</th>\n",
              "      <td>5</td>\n",
              "      <td>0</td>\n",
              "      <td>0.06</td>\n",
              "      <td>1.0</td>\n",
              "      <td>0</td>\n",
              "      <td>0.0</td>\n",
              "      <td>0</td>\n",
              "      <td>0</td>\n",
              "      <td>0.0</td>\n",
              "      <td>0</td>\n",
              "      <td>...</td>\n",
              "      <td>0</td>\n",
              "      <td>0</td>\n",
              "      <td>0</td>\n",
              "      <td>0</td>\n",
              "      <td>1</td>\n",
              "      <td>0</td>\n",
              "      <td>0</td>\n",
              "      <td>0</td>\n",
              "      <td>0</td>\n",
              "      <td>0</td>\n",
              "    </tr>\n",
              "    <tr>\n",
              "      <th>131932</th>\n",
              "      <td>511</td>\n",
              "      <td>0</td>\n",
              "      <td>0.00</td>\n",
              "      <td>0.0</td>\n",
              "      <td>0</td>\n",
              "      <td>0.0</td>\n",
              "      <td>0</td>\n",
              "      <td>0</td>\n",
              "      <td>0.0</td>\n",
              "      <td>0</td>\n",
              "      <td>...</td>\n",
              "      <td>0</td>\n",
              "      <td>0</td>\n",
              "      <td>0</td>\n",
              "      <td>0</td>\n",
              "      <td>0</td>\n",
              "      <td>0</td>\n",
              "      <td>0</td>\n",
              "      <td>0</td>\n",
              "      <td>1</td>\n",
              "      <td>0</td>\n",
              "    </tr>\n",
              "    <tr>\n",
              "      <th>146867</th>\n",
              "      <td>1</td>\n",
              "      <td>0</td>\n",
              "      <td>0.41</td>\n",
              "      <td>0.0</td>\n",
              "      <td>0</td>\n",
              "      <td>0.0</td>\n",
              "      <td>0</td>\n",
              "      <td>0</td>\n",
              "      <td>0.0</td>\n",
              "      <td>105</td>\n",
              "      <td>...</td>\n",
              "      <td>0</td>\n",
              "      <td>0</td>\n",
              "      <td>0</td>\n",
              "      <td>0</td>\n",
              "      <td>0</td>\n",
              "      <td>0</td>\n",
              "      <td>0</td>\n",
              "      <td>0</td>\n",
              "      <td>1</td>\n",
              "      <td>0</td>\n",
              "    </tr>\n",
              "    <tr>\n",
              "      <th>121958</th>\n",
              "      <td>5</td>\n",
              "      <td>0</td>\n",
              "      <td>0.07</td>\n",
              "      <td>1.0</td>\n",
              "      <td>0</td>\n",
              "      <td>0.0</td>\n",
              "      <td>0</td>\n",
              "      <td>0</td>\n",
              "      <td>0.0</td>\n",
              "      <td>0</td>\n",
              "      <td>...</td>\n",
              "      <td>0</td>\n",
              "      <td>0</td>\n",
              "      <td>0</td>\n",
              "      <td>0</td>\n",
              "      <td>1</td>\n",
              "      <td>0</td>\n",
              "      <td>0</td>\n",
              "      <td>0</td>\n",
              "      <td>0</td>\n",
              "      <td>0</td>\n",
              "    </tr>\n",
              "  </tbody>\n",
              "</table>\n",
              "<p>370515 rows × 118 columns</p>\n",
              "</div>\n",
              "    <div class=\"colab-df-buttons\">\n",
              "\n",
              "  <div class=\"colab-df-container\">\n",
              "    <button class=\"colab-df-convert\" onclick=\"convertToInteractive('df-596cbc0d-8ba7-478f-aae0-8f5399acc1e2')\"\n",
              "            title=\"Convert this dataframe to an interactive table.\"\n",
              "            style=\"display:none;\">\n",
              "\n",
              "  <svg xmlns=\"http://www.w3.org/2000/svg\" height=\"24px\" viewBox=\"0 -960 960 960\">\n",
              "    <path d=\"M120-120v-720h720v720H120Zm60-500h600v-160H180v160Zm220 220h160v-160H400v160Zm0 220h160v-160H400v160ZM180-400h160v-160H180v160Zm440 0h160v-160H620v160ZM180-180h160v-160H180v160Zm440 0h160v-160H620v160Z\"/>\n",
              "  </svg>\n",
              "    </button>\n",
              "\n",
              "  <style>\n",
              "    .colab-df-container {\n",
              "      display:flex;\n",
              "      gap: 12px;\n",
              "    }\n",
              "\n",
              "    .colab-df-convert {\n",
              "      background-color: #E8F0FE;\n",
              "      border: none;\n",
              "      border-radius: 50%;\n",
              "      cursor: pointer;\n",
              "      display: none;\n",
              "      fill: #1967D2;\n",
              "      height: 32px;\n",
              "      padding: 0 0 0 0;\n",
              "      width: 32px;\n",
              "    }\n",
              "\n",
              "    .colab-df-convert:hover {\n",
              "      background-color: #E2EBFA;\n",
              "      box-shadow: 0px 1px 2px rgba(60, 64, 67, 0.3), 0px 1px 3px 1px rgba(60, 64, 67, 0.15);\n",
              "      fill: #174EA6;\n",
              "    }\n",
              "\n",
              "    .colab-df-buttons div {\n",
              "      margin-bottom: 4px;\n",
              "    }\n",
              "\n",
              "    [theme=dark] .colab-df-convert {\n",
              "      background-color: #3B4455;\n",
              "      fill: #D2E3FC;\n",
              "    }\n",
              "\n",
              "    [theme=dark] .colab-df-convert:hover {\n",
              "      background-color: #434B5C;\n",
              "      box-shadow: 0px 1px 3px 1px rgba(0, 0, 0, 0.15);\n",
              "      filter: drop-shadow(0px 1px 2px rgba(0, 0, 0, 0.3));\n",
              "      fill: #FFFFFF;\n",
              "    }\n",
              "  </style>\n",
              "\n",
              "    <script>\n",
              "      const buttonEl =\n",
              "        document.querySelector('#df-596cbc0d-8ba7-478f-aae0-8f5399acc1e2 button.colab-df-convert');\n",
              "      buttonEl.style.display =\n",
              "        google.colab.kernel.accessAllowed ? 'block' : 'none';\n",
              "\n",
              "      async function convertToInteractive(key) {\n",
              "        const element = document.querySelector('#df-596cbc0d-8ba7-478f-aae0-8f5399acc1e2');\n",
              "        const dataTable =\n",
              "          await google.colab.kernel.invokeFunction('convertToInteractive',\n",
              "                                                    [key], {});\n",
              "        if (!dataTable) return;\n",
              "\n",
              "        const docLinkHtml = 'Like what you see? Visit the ' +\n",
              "          '<a target=\"_blank\" href=https://colab.research.google.com/notebooks/data_table.ipynb>data table notebook</a>'\n",
              "          + ' to learn more about interactive tables.';\n",
              "        element.innerHTML = '';\n",
              "        dataTable['output_type'] = 'display_data';\n",
              "        await google.colab.output.renderOutput(dataTable, element);\n",
              "        const docLink = document.createElement('div');\n",
              "        docLink.innerHTML = docLinkHtml;\n",
              "        element.appendChild(docLink);\n",
              "      }\n",
              "    </script>\n",
              "  </div>\n",
              "\n",
              "\n",
              "<div id=\"df-79b2d5d9-a92d-4372-823c-0f913d0ad785\">\n",
              "  <button class=\"colab-df-quickchart\" onclick=\"quickchart('df-79b2d5d9-a92d-4372-823c-0f913d0ad785')\"\n",
              "            title=\"Suggest charts\"\n",
              "            style=\"display:none;\">\n",
              "\n",
              "<svg xmlns=\"http://www.w3.org/2000/svg\" height=\"24px\"viewBox=\"0 0 24 24\"\n",
              "     width=\"24px\">\n",
              "    <g>\n",
              "        <path d=\"M19 3H5c-1.1 0-2 .9-2 2v14c0 1.1.9 2 2 2h14c1.1 0 2-.9 2-2V5c0-1.1-.9-2-2-2zM9 17H7v-7h2v7zm4 0h-2V7h2v10zm4 0h-2v-4h2v4z\"/>\n",
              "    </g>\n",
              "</svg>\n",
              "  </button>\n",
              "\n",
              "<style>\n",
              "  .colab-df-quickchart {\n",
              "      --bg-color: #E8F0FE;\n",
              "      --fill-color: #1967D2;\n",
              "      --hover-bg-color: #E2EBFA;\n",
              "      --hover-fill-color: #174EA6;\n",
              "      --disabled-fill-color: #AAA;\n",
              "      --disabled-bg-color: #DDD;\n",
              "  }\n",
              "\n",
              "  [theme=dark] .colab-df-quickchart {\n",
              "      --bg-color: #3B4455;\n",
              "      --fill-color: #D2E3FC;\n",
              "      --hover-bg-color: #434B5C;\n",
              "      --hover-fill-color: #FFFFFF;\n",
              "      --disabled-bg-color: #3B4455;\n",
              "      --disabled-fill-color: #666;\n",
              "  }\n",
              "\n",
              "  .colab-df-quickchart {\n",
              "    background-color: var(--bg-color);\n",
              "    border: none;\n",
              "    border-radius: 50%;\n",
              "    cursor: pointer;\n",
              "    display: none;\n",
              "    fill: var(--fill-color);\n",
              "    height: 32px;\n",
              "    padding: 0;\n",
              "    width: 32px;\n",
              "  }\n",
              "\n",
              "  .colab-df-quickchart:hover {\n",
              "    background-color: var(--hover-bg-color);\n",
              "    box-shadow: 0 1px 2px rgba(60, 64, 67, 0.3), 0 1px 3px 1px rgba(60, 64, 67, 0.15);\n",
              "    fill: var(--button-hover-fill-color);\n",
              "  }\n",
              "\n",
              "  .colab-df-quickchart-complete:disabled,\n",
              "  .colab-df-quickchart-complete:disabled:hover {\n",
              "    background-color: var(--disabled-bg-color);\n",
              "    fill: var(--disabled-fill-color);\n",
              "    box-shadow: none;\n",
              "  }\n",
              "\n",
              "  .colab-df-spinner {\n",
              "    border: 2px solid var(--fill-color);\n",
              "    border-color: transparent;\n",
              "    border-bottom-color: var(--fill-color);\n",
              "    animation:\n",
              "      spin 1s steps(1) infinite;\n",
              "  }\n",
              "\n",
              "  @keyframes spin {\n",
              "    0% {\n",
              "      border-color: transparent;\n",
              "      border-bottom-color: var(--fill-color);\n",
              "      border-left-color: var(--fill-color);\n",
              "    }\n",
              "    20% {\n",
              "      border-color: transparent;\n",
              "      border-left-color: var(--fill-color);\n",
              "      border-top-color: var(--fill-color);\n",
              "    }\n",
              "    30% {\n",
              "      border-color: transparent;\n",
              "      border-left-color: var(--fill-color);\n",
              "      border-top-color: var(--fill-color);\n",
              "      border-right-color: var(--fill-color);\n",
              "    }\n",
              "    40% {\n",
              "      border-color: transparent;\n",
              "      border-right-color: var(--fill-color);\n",
              "      border-top-color: var(--fill-color);\n",
              "    }\n",
              "    60% {\n",
              "      border-color: transparent;\n",
              "      border-right-color: var(--fill-color);\n",
              "    }\n",
              "    80% {\n",
              "      border-color: transparent;\n",
              "      border-right-color: var(--fill-color);\n",
              "      border-bottom-color: var(--fill-color);\n",
              "    }\n",
              "    90% {\n",
              "      border-color: transparent;\n",
              "      border-bottom-color: var(--fill-color);\n",
              "    }\n",
              "  }\n",
              "</style>\n",
              "\n",
              "  <script>\n",
              "    async function quickchart(key) {\n",
              "      const quickchartButtonEl =\n",
              "        document.querySelector('#' + key + ' button');\n",
              "      quickchartButtonEl.disabled = true;  // To prevent multiple clicks.\n",
              "      quickchartButtonEl.classList.add('colab-df-spinner');\n",
              "      try {\n",
              "        const charts = await google.colab.kernel.invokeFunction(\n",
              "            'suggestCharts', [key], {});\n",
              "      } catch (error) {\n",
              "        console.error('Error during call to suggestCharts:', error);\n",
              "      }\n",
              "      quickchartButtonEl.classList.remove('colab-df-spinner');\n",
              "      quickchartButtonEl.classList.add('colab-df-quickchart-complete');\n",
              "    }\n",
              "    (() => {\n",
              "      let quickchartButtonEl =\n",
              "        document.querySelector('#df-79b2d5d9-a92d-4372-823c-0f913d0ad785 button');\n",
              "      quickchartButtonEl.style.display =\n",
              "        google.colab.kernel.accessAllowed ? 'block' : 'none';\n",
              "    })();\n",
              "  </script>\n",
              "</div>\n",
              "    </div>\n",
              "  </div>\n"
            ],
            "application/vnd.google.colaboratory.intrinsic+json": {
              "type": "dataframe",
              "variable_name": "x_train"
            }
          },
          "metadata": {},
          "execution_count": 132
        }
      ]
    },
    {
      "cell_type": "code",
      "source": [
        "preprocessed_data['y_train']"
      ],
      "metadata": {
        "colab": {
          "base_uri": "https://localhost:8080/"
        },
        "id": "wCqnB_KDARDR",
        "outputId": "088341ac-a800-4fbc-ea81-e860072dbe2d"
      },
      "execution_count": 133,
      "outputs": [
        {
          "output_type": "execute_result",
          "data": {
            "text/plain": [
              "array([18, 11,  9, ..., 18, 11,  9])"
            ]
          },
          "metadata": {},
          "execution_count": 133
        }
      ]
    },
    {
      "cell_type": "code",
      "source": [
        "np.unique(preprocessed_data['y_train'])"
      ],
      "metadata": {
        "colab": {
          "base_uri": "https://localhost:8080/"
        },
        "id": "OnXGQS2GARGN",
        "outputId": "d389337f-4a36-4f93-b198-4bce7dbc401b"
      },
      "execution_count": 134,
      "outputs": [
        {
          "output_type": "execute_result",
          "data": {
            "text/plain": [
              "array([ 0,  1,  2,  3,  4,  5,  6,  7,  8,  9, 10, 11, 12, 13, 14, 15, 16,\n",
              "       17, 18, 19, 20, 21, 22])"
            ]
          },
          "metadata": {},
          "execution_count": 134
        }
      ]
    },
    {
      "cell_type": "code",
      "source": [],
      "metadata": {
        "id": "8qPMsOA7ARI-"
      },
      "execution_count": 134,
      "outputs": []
    },
    {
      "cell_type": "markdown",
      "metadata": {
        "id": "lzvQAr_R_1kJ"
      },
      "source": [
        "Let us load the same KDD-99 dataset that we used in the previous labs."
      ]
    },
    {
      "cell_type": "markdown",
      "metadata": {
        "id": "7H8ujAhK_1kK"
      },
      "source": [
        "Just like in Lab 2, we will split the pickled data into vectors and assign them to the label encoder `le`, training and testing sets."
      ]
    },
    {
      "cell_type": "code",
      "execution_count": 135,
      "metadata": {
        "id": "y87vWS-0_1kK",
        "outputId": "28cc5616-f2f4-44b6-d9a3-51b942ebb78d",
        "colab": {
          "base_uri": "https://localhost:8080/"
        }
      },
      "outputs": [
        {
          "output_type": "stream",
          "name": "stdout",
          "text": [
            "x_train\n",
            "y_train\n",
            "x_test\n",
            "y_test\n",
            "le\n"
          ]
        }
      ],
      "source": [
        "for key,value in preprocessed_data.items():\n",
        "    print(key)"
      ]
    },
    {
      "cell_type": "code",
      "source": [
        "x_train.shape"
      ],
      "metadata": {
        "colab": {
          "base_uri": "https://localhost:8080/"
        },
        "id": "Z1kWOalzo7p3",
        "outputId": "cdf62531-2c32-4267-b52e-66b867ac32b0"
      },
      "execution_count": 136,
      "outputs": [
        {
          "output_type": "execute_result",
          "data": {
            "text/plain": [
              "(370515, 118)"
            ]
          },
          "metadata": {},
          "execution_count": 136
        }
      ]
    },
    {
      "cell_type": "code",
      "execution_count": 137,
      "metadata": {
        "id": "q0zT-O0q_1kL"
      },
      "outputs": [],
      "source": [
        "le = preprocessed_data['le']\n",
        "x_train = preprocessed_data['x_train']\n",
        "y_train = preprocessed_data['y_train']\n",
        "x_test = preprocessed_data['x_test']\n",
        "y_test = preprocessed_data['y_test']"
      ]
    },
    {
      "cell_type": "code",
      "source": [
        "x_train.shape"
      ],
      "metadata": {
        "colab": {
          "base_uri": "https://localhost:8080/"
        },
        "id": "gs_7wNeJvXfI",
        "outputId": "07812b5a-d290-4dd4-c244-94f7769c78a7"
      },
      "execution_count": 138,
      "outputs": [
        {
          "output_type": "execute_result",
          "data": {
            "text/plain": [
              "(370515, 118)"
            ]
          },
          "metadata": {},
          "execution_count": 138
        }
      ]
    },
    {
      "cell_type": "code",
      "source": [
        "y_train.shape"
      ],
      "metadata": {
        "colab": {
          "base_uri": "https://localhost:8080/"
        },
        "id": "rrxGsn0vvXiR",
        "outputId": "22d78a6f-66b4-44cf-d60b-5af75a3a7ba7"
      },
      "execution_count": 139,
      "outputs": [
        {
          "output_type": "execute_result",
          "data": {
            "text/plain": [
              "(370515,)"
            ]
          },
          "metadata": {},
          "execution_count": 139
        }
      ]
    },
    {
      "cell_type": "code",
      "source": [
        "np.unique(y_train)"
      ],
      "metadata": {
        "colab": {
          "base_uri": "https://localhost:8080/"
        },
        "id": "RumLCjZkDAtv",
        "outputId": "2887170e-cf6f-4e6d-e790-c38d28683a36"
      },
      "execution_count": 140,
      "outputs": [
        {
          "output_type": "execute_result",
          "data": {
            "text/plain": [
              "array([ 0,  1,  2,  3,  4,  5,  6,  7,  8,  9, 10, 11, 12, 13, 14, 15, 16,\n",
              "       17, 18, 19, 20, 21, 22])"
            ]
          },
          "metadata": {},
          "execution_count": 140
        }
      ]
    },
    {
      "cell_type": "code",
      "source": [
        "x_test.shape"
      ],
      "metadata": {
        "colab": {
          "base_uri": "https://localhost:8080/"
        },
        "id": "QWwk_XBRvXlH",
        "outputId": "0fa7674a-e770-4a65-bf2e-da4bf10dbb1c"
      },
      "execution_count": 141,
      "outputs": [
        {
          "output_type": "execute_result",
          "data": {
            "text/plain": [
              "(123506, 118)"
            ]
          },
          "metadata": {},
          "execution_count": 141
        }
      ]
    },
    {
      "cell_type": "code",
      "source": [
        "y_test.shape"
      ],
      "metadata": {
        "colab": {
          "base_uri": "https://localhost:8080/"
        },
        "id": "ZrqlAolPvXoa",
        "outputId": "c1b0c818-388e-4929-9a87-0ee7b3e4b1e9"
      },
      "execution_count": 142,
      "outputs": [
        {
          "output_type": "execute_result",
          "data": {
            "text/plain": [
              "(123506,)"
            ]
          },
          "metadata": {},
          "execution_count": 142
        }
      ]
    },
    {
      "cell_type": "code",
      "execution_count": 143,
      "metadata": {
        "id": "79k2VL7q_1kL",
        "colab": {
          "base_uri": "https://localhost:8080/"
        },
        "outputId": "0e257e88-8848-4b92-db7c-304b6df1dc42"
      },
      "outputs": [
        {
          "output_type": "execute_result",
          "data": {
            "text/plain": [
              "array([ 0,  1,  2,  3,  4,  5,  6,  7,  8,  9, 10, 11, 12, 13, 14, 15, 16,\n",
              "       17, 18, 19, 20, 21, 22])"
            ]
          },
          "metadata": {},
          "execution_count": 143
        }
      ],
      "source": [
        "np.unique(y_train)"
      ]
    },
    {
      "cell_type": "code",
      "source": [
        "preprocessed_data['le']"
      ],
      "metadata": {
        "colab": {
          "base_uri": "https://localhost:8080/",
          "height": 74
        },
        "id": "KD8dpq6Hli0p",
        "outputId": "cdec468f-db8e-40cd-8b1b-3889331ed699"
      },
      "execution_count": 144,
      "outputs": [
        {
          "output_type": "execute_result",
          "data": {
            "text/plain": [
              "LabelEncoder()"
            ],
            "text/html": [
              "<style>#sk-container-id-3 {color: black;background-color: white;}#sk-container-id-3 pre{padding: 0;}#sk-container-id-3 div.sk-toggleable {background-color: white;}#sk-container-id-3 label.sk-toggleable__label {cursor: pointer;display: block;width: 100%;margin-bottom: 0;padding: 0.3em;box-sizing: border-box;text-align: center;}#sk-container-id-3 label.sk-toggleable__label-arrow:before {content: \"▸\";float: left;margin-right: 0.25em;color: #696969;}#sk-container-id-3 label.sk-toggleable__label-arrow:hover:before {color: black;}#sk-container-id-3 div.sk-estimator:hover label.sk-toggleable__label-arrow:before {color: black;}#sk-container-id-3 div.sk-toggleable__content {max-height: 0;max-width: 0;overflow: hidden;text-align: left;background-color: #f0f8ff;}#sk-container-id-3 div.sk-toggleable__content pre {margin: 0.2em;color: black;border-radius: 0.25em;background-color: #f0f8ff;}#sk-container-id-3 input.sk-toggleable__control:checked~div.sk-toggleable__content {max-height: 200px;max-width: 100%;overflow: auto;}#sk-container-id-3 input.sk-toggleable__control:checked~label.sk-toggleable__label-arrow:before {content: \"▾\";}#sk-container-id-3 div.sk-estimator input.sk-toggleable__control:checked~label.sk-toggleable__label {background-color: #d4ebff;}#sk-container-id-3 div.sk-label input.sk-toggleable__control:checked~label.sk-toggleable__label {background-color: #d4ebff;}#sk-container-id-3 input.sk-hidden--visually {border: 0;clip: rect(1px 1px 1px 1px);clip: rect(1px, 1px, 1px, 1px);height: 1px;margin: -1px;overflow: hidden;padding: 0;position: absolute;width: 1px;}#sk-container-id-3 div.sk-estimator {font-family: monospace;background-color: #f0f8ff;border: 1px dotted black;border-radius: 0.25em;box-sizing: border-box;margin-bottom: 0.5em;}#sk-container-id-3 div.sk-estimator:hover {background-color: #d4ebff;}#sk-container-id-3 div.sk-parallel-item::after {content: \"\";width: 100%;border-bottom: 1px solid gray;flex-grow: 1;}#sk-container-id-3 div.sk-label:hover label.sk-toggleable__label {background-color: #d4ebff;}#sk-container-id-3 div.sk-serial::before {content: \"\";position: absolute;border-left: 1px solid gray;box-sizing: border-box;top: 0;bottom: 0;left: 50%;z-index: 0;}#sk-container-id-3 div.sk-serial {display: flex;flex-direction: column;align-items: center;background-color: white;padding-right: 0.2em;padding-left: 0.2em;position: relative;}#sk-container-id-3 div.sk-item {position: relative;z-index: 1;}#sk-container-id-3 div.sk-parallel {display: flex;align-items: stretch;justify-content: center;background-color: white;position: relative;}#sk-container-id-3 div.sk-item::before, #sk-container-id-3 div.sk-parallel-item::before {content: \"\";position: absolute;border-left: 1px solid gray;box-sizing: border-box;top: 0;bottom: 0;left: 50%;z-index: -1;}#sk-container-id-3 div.sk-parallel-item {display: flex;flex-direction: column;z-index: 1;position: relative;background-color: white;}#sk-container-id-3 div.sk-parallel-item:first-child::after {align-self: flex-end;width: 50%;}#sk-container-id-3 div.sk-parallel-item:last-child::after {align-self: flex-start;width: 50%;}#sk-container-id-3 div.sk-parallel-item:only-child::after {width: 0;}#sk-container-id-3 div.sk-dashed-wrapped {border: 1px dashed gray;margin: 0 0.4em 0.5em 0.4em;box-sizing: border-box;padding-bottom: 0.4em;background-color: white;}#sk-container-id-3 div.sk-label label {font-family: monospace;font-weight: bold;display: inline-block;line-height: 1.2em;}#sk-container-id-3 div.sk-label-container {text-align: center;}#sk-container-id-3 div.sk-container {/* jupyter's `normalize.less` sets `[hidden] { display: none; }` but bootstrap.min.css set `[hidden] { display: none !important; }` so we also need the `!important` here to be able to override the default hidden behavior on the sphinx rendered scikit-learn.org. See: https://github.com/scikit-learn/scikit-learn/issues/21755 */display: inline-block !important;position: relative;}#sk-container-id-3 div.sk-text-repr-fallback {display: none;}</style><div id=\"sk-container-id-3\" class=\"sk-top-container\"><div class=\"sk-text-repr-fallback\"><pre>LabelEncoder()</pre><b>In a Jupyter environment, please rerun this cell to show the HTML representation or trust the notebook. <br />On GitHub, the HTML representation is unable to render, please try loading this page with nbviewer.org.</b></div><div class=\"sk-container\" hidden><div class=\"sk-item\"><div class=\"sk-estimator sk-toggleable\"><input class=\"sk-toggleable__control sk-hidden--visually\" id=\"sk-estimator-id-3\" type=\"checkbox\" checked><label for=\"sk-estimator-id-3\" class=\"sk-toggleable__label sk-toggleable__label-arrow\">LabelEncoder</label><div class=\"sk-toggleable__content\"><pre>LabelEncoder()</pre></div></div></div></div></div>"
            ]
          },
          "metadata": {},
          "execution_count": 144
        }
      ]
    },
    {
      "cell_type": "markdown",
      "metadata": {
        "id": "dHk6iSFn_1kL"
      },
      "source": [
        "### 1.1 Data Preprocessing"
      ]
    },
    {
      "cell_type": "markdown",
      "metadata": {
        "id": "slh-MfZP_1kM"
      },
      "source": [
        "We first consider the binary classification problem. Similar to previous labs, *Normal* data points will be labeled as '0' and *Anomalous* points will be labeled as '1'."
      ]
    },
    {
      "cell_type": "code",
      "execution_count": 145,
      "metadata": {
        "id": "LYz9uAb9_1kM",
        "outputId": "c41d616e-cb05-4fec-d568-e0fcb472c7c2",
        "colab": {
          "base_uri": "https://localhost:8080/",
          "height": 770
        }
      },
      "outputs": [
        {
          "output_type": "execute_result",
          "data": {
            "text/plain": [
              "                Type\n",
              "0              back.\n",
              "1   buffer_overflow.\n",
              "2         ftp_write.\n",
              "3      guess_passwd.\n",
              "4              imap.\n",
              "5           ipsweep.\n",
              "6              land.\n",
              "7        loadmodule.\n",
              "8          multihop.\n",
              "9           neptune.\n",
              "10             nmap.\n",
              "11           normal.\n",
              "12             perl.\n",
              "13              phf.\n",
              "14              pod.\n",
              "15        portsweep.\n",
              "16          rootkit.\n",
              "17            satan.\n",
              "18            smurf.\n",
              "19              spy.\n",
              "20         teardrop.\n",
              "21      warezclient.\n",
              "22      warezmaster."
            ],
            "text/html": [
              "\n",
              "  <div id=\"df-5351610f-b368-40e3-979b-10456b71702c\" class=\"colab-df-container\">\n",
              "    <div>\n",
              "<style scoped>\n",
              "    .dataframe tbody tr th:only-of-type {\n",
              "        vertical-align: middle;\n",
              "    }\n",
              "\n",
              "    .dataframe tbody tr th {\n",
              "        vertical-align: top;\n",
              "    }\n",
              "\n",
              "    .dataframe thead th {\n",
              "        text-align: right;\n",
              "    }\n",
              "</style>\n",
              "<table border=\"1\" class=\"dataframe\">\n",
              "  <thead>\n",
              "    <tr style=\"text-align: right;\">\n",
              "      <th></th>\n",
              "      <th>Type</th>\n",
              "    </tr>\n",
              "  </thead>\n",
              "  <tbody>\n",
              "    <tr>\n",
              "      <th>0</th>\n",
              "      <td>back.</td>\n",
              "    </tr>\n",
              "    <tr>\n",
              "      <th>1</th>\n",
              "      <td>buffer_overflow.</td>\n",
              "    </tr>\n",
              "    <tr>\n",
              "      <th>2</th>\n",
              "      <td>ftp_write.</td>\n",
              "    </tr>\n",
              "    <tr>\n",
              "      <th>3</th>\n",
              "      <td>guess_passwd.</td>\n",
              "    </tr>\n",
              "    <tr>\n",
              "      <th>4</th>\n",
              "      <td>imap.</td>\n",
              "    </tr>\n",
              "    <tr>\n",
              "      <th>5</th>\n",
              "      <td>ipsweep.</td>\n",
              "    </tr>\n",
              "    <tr>\n",
              "      <th>6</th>\n",
              "      <td>land.</td>\n",
              "    </tr>\n",
              "    <tr>\n",
              "      <th>7</th>\n",
              "      <td>loadmodule.</td>\n",
              "    </tr>\n",
              "    <tr>\n",
              "      <th>8</th>\n",
              "      <td>multihop.</td>\n",
              "    </tr>\n",
              "    <tr>\n",
              "      <th>9</th>\n",
              "      <td>neptune.</td>\n",
              "    </tr>\n",
              "    <tr>\n",
              "      <th>10</th>\n",
              "      <td>nmap.</td>\n",
              "    </tr>\n",
              "    <tr>\n",
              "      <th>11</th>\n",
              "      <td>normal.</td>\n",
              "    </tr>\n",
              "    <tr>\n",
              "      <th>12</th>\n",
              "      <td>perl.</td>\n",
              "    </tr>\n",
              "    <tr>\n",
              "      <th>13</th>\n",
              "      <td>phf.</td>\n",
              "    </tr>\n",
              "    <tr>\n",
              "      <th>14</th>\n",
              "      <td>pod.</td>\n",
              "    </tr>\n",
              "    <tr>\n",
              "      <th>15</th>\n",
              "      <td>portsweep.</td>\n",
              "    </tr>\n",
              "    <tr>\n",
              "      <th>16</th>\n",
              "      <td>rootkit.</td>\n",
              "    </tr>\n",
              "    <tr>\n",
              "      <th>17</th>\n",
              "      <td>satan.</td>\n",
              "    </tr>\n",
              "    <tr>\n",
              "      <th>18</th>\n",
              "      <td>smurf.</td>\n",
              "    </tr>\n",
              "    <tr>\n",
              "      <th>19</th>\n",
              "      <td>spy.</td>\n",
              "    </tr>\n",
              "    <tr>\n",
              "      <th>20</th>\n",
              "      <td>teardrop.</td>\n",
              "    </tr>\n",
              "    <tr>\n",
              "      <th>21</th>\n",
              "      <td>warezclient.</td>\n",
              "    </tr>\n",
              "    <tr>\n",
              "      <th>22</th>\n",
              "      <td>warezmaster.</td>\n",
              "    </tr>\n",
              "  </tbody>\n",
              "</table>\n",
              "</div>\n",
              "    <div class=\"colab-df-buttons\">\n",
              "\n",
              "  <div class=\"colab-df-container\">\n",
              "    <button class=\"colab-df-convert\" onclick=\"convertToInteractive('df-5351610f-b368-40e3-979b-10456b71702c')\"\n",
              "            title=\"Convert this dataframe to an interactive table.\"\n",
              "            style=\"display:none;\">\n",
              "\n",
              "  <svg xmlns=\"http://www.w3.org/2000/svg\" height=\"24px\" viewBox=\"0 -960 960 960\">\n",
              "    <path d=\"M120-120v-720h720v720H120Zm60-500h600v-160H180v160Zm220 220h160v-160H400v160Zm0 220h160v-160H400v160ZM180-400h160v-160H180v160Zm440 0h160v-160H620v160ZM180-180h160v-160H180v160Zm440 0h160v-160H620v160Z\"/>\n",
              "  </svg>\n",
              "    </button>\n",
              "\n",
              "  <style>\n",
              "    .colab-df-container {\n",
              "      display:flex;\n",
              "      gap: 12px;\n",
              "    }\n",
              "\n",
              "    .colab-df-convert {\n",
              "      background-color: #E8F0FE;\n",
              "      border: none;\n",
              "      border-radius: 50%;\n",
              "      cursor: pointer;\n",
              "      display: none;\n",
              "      fill: #1967D2;\n",
              "      height: 32px;\n",
              "      padding: 0 0 0 0;\n",
              "      width: 32px;\n",
              "    }\n",
              "\n",
              "    .colab-df-convert:hover {\n",
              "      background-color: #E2EBFA;\n",
              "      box-shadow: 0px 1px 2px rgba(60, 64, 67, 0.3), 0px 1px 3px 1px rgba(60, 64, 67, 0.15);\n",
              "      fill: #174EA6;\n",
              "    }\n",
              "\n",
              "    .colab-df-buttons div {\n",
              "      margin-bottom: 4px;\n",
              "    }\n",
              "\n",
              "    [theme=dark] .colab-df-convert {\n",
              "      background-color: #3B4455;\n",
              "      fill: #D2E3FC;\n",
              "    }\n",
              "\n",
              "    [theme=dark] .colab-df-convert:hover {\n",
              "      background-color: #434B5C;\n",
              "      box-shadow: 0px 1px 3px 1px rgba(0, 0, 0, 0.15);\n",
              "      filter: drop-shadow(0px 1px 2px rgba(0, 0, 0, 0.3));\n",
              "      fill: #FFFFFF;\n",
              "    }\n",
              "  </style>\n",
              "\n",
              "    <script>\n",
              "      const buttonEl =\n",
              "        document.querySelector('#df-5351610f-b368-40e3-979b-10456b71702c button.colab-df-convert');\n",
              "      buttonEl.style.display =\n",
              "        google.colab.kernel.accessAllowed ? 'block' : 'none';\n",
              "\n",
              "      async function convertToInteractive(key) {\n",
              "        const element = document.querySelector('#df-5351610f-b368-40e3-979b-10456b71702c');\n",
              "        const dataTable =\n",
              "          await google.colab.kernel.invokeFunction('convertToInteractive',\n",
              "                                                    [key], {});\n",
              "        if (!dataTable) return;\n",
              "\n",
              "        const docLinkHtml = 'Like what you see? Visit the ' +\n",
              "          '<a target=\"_blank\" href=https://colab.research.google.com/notebooks/data_table.ipynb>data table notebook</a>'\n",
              "          + ' to learn more about interactive tables.';\n",
              "        element.innerHTML = '';\n",
              "        dataTable['output_type'] = 'display_data';\n",
              "        await google.colab.output.renderOutput(dataTable, element);\n",
              "        const docLink = document.createElement('div');\n",
              "        docLink.innerHTML = docLinkHtml;\n",
              "        element.appendChild(docLink);\n",
              "      }\n",
              "    </script>\n",
              "  </div>\n",
              "\n",
              "\n",
              "<div id=\"df-c00f64e5-2f48-49d4-b4ad-d792c74cfb8d\">\n",
              "  <button class=\"colab-df-quickchart\" onclick=\"quickchart('df-c00f64e5-2f48-49d4-b4ad-d792c74cfb8d')\"\n",
              "            title=\"Suggest charts\"\n",
              "            style=\"display:none;\">\n",
              "\n",
              "<svg xmlns=\"http://www.w3.org/2000/svg\" height=\"24px\"viewBox=\"0 0 24 24\"\n",
              "     width=\"24px\">\n",
              "    <g>\n",
              "        <path d=\"M19 3H5c-1.1 0-2 .9-2 2v14c0 1.1.9 2 2 2h14c1.1 0 2-.9 2-2V5c0-1.1-.9-2-2-2zM9 17H7v-7h2v7zm4 0h-2V7h2v10zm4 0h-2v-4h2v4z\"/>\n",
              "    </g>\n",
              "</svg>\n",
              "  </button>\n",
              "\n",
              "<style>\n",
              "  .colab-df-quickchart {\n",
              "      --bg-color: #E8F0FE;\n",
              "      --fill-color: #1967D2;\n",
              "      --hover-bg-color: #E2EBFA;\n",
              "      --hover-fill-color: #174EA6;\n",
              "      --disabled-fill-color: #AAA;\n",
              "      --disabled-bg-color: #DDD;\n",
              "  }\n",
              "\n",
              "  [theme=dark] .colab-df-quickchart {\n",
              "      --bg-color: #3B4455;\n",
              "      --fill-color: #D2E3FC;\n",
              "      --hover-bg-color: #434B5C;\n",
              "      --hover-fill-color: #FFFFFF;\n",
              "      --disabled-bg-color: #3B4455;\n",
              "      --disabled-fill-color: #666;\n",
              "  }\n",
              "\n",
              "  .colab-df-quickchart {\n",
              "    background-color: var(--bg-color);\n",
              "    border: none;\n",
              "    border-radius: 50%;\n",
              "    cursor: pointer;\n",
              "    display: none;\n",
              "    fill: var(--fill-color);\n",
              "    height: 32px;\n",
              "    padding: 0;\n",
              "    width: 32px;\n",
              "  }\n",
              "\n",
              "  .colab-df-quickchart:hover {\n",
              "    background-color: var(--hover-bg-color);\n",
              "    box-shadow: 0 1px 2px rgba(60, 64, 67, 0.3), 0 1px 3px 1px rgba(60, 64, 67, 0.15);\n",
              "    fill: var(--button-hover-fill-color);\n",
              "  }\n",
              "\n",
              "  .colab-df-quickchart-complete:disabled,\n",
              "  .colab-df-quickchart-complete:disabled:hover {\n",
              "    background-color: var(--disabled-bg-color);\n",
              "    fill: var(--disabled-fill-color);\n",
              "    box-shadow: none;\n",
              "  }\n",
              "\n",
              "  .colab-df-spinner {\n",
              "    border: 2px solid var(--fill-color);\n",
              "    border-color: transparent;\n",
              "    border-bottom-color: var(--fill-color);\n",
              "    animation:\n",
              "      spin 1s steps(1) infinite;\n",
              "  }\n",
              "\n",
              "  @keyframes spin {\n",
              "    0% {\n",
              "      border-color: transparent;\n",
              "      border-bottom-color: var(--fill-color);\n",
              "      border-left-color: var(--fill-color);\n",
              "    }\n",
              "    20% {\n",
              "      border-color: transparent;\n",
              "      border-left-color: var(--fill-color);\n",
              "      border-top-color: var(--fill-color);\n",
              "    }\n",
              "    30% {\n",
              "      border-color: transparent;\n",
              "      border-left-color: var(--fill-color);\n",
              "      border-top-color: var(--fill-color);\n",
              "      border-right-color: var(--fill-color);\n",
              "    }\n",
              "    40% {\n",
              "      border-color: transparent;\n",
              "      border-right-color: var(--fill-color);\n",
              "      border-top-color: var(--fill-color);\n",
              "    }\n",
              "    60% {\n",
              "      border-color: transparent;\n",
              "      border-right-color: var(--fill-color);\n",
              "    }\n",
              "    80% {\n",
              "      border-color: transparent;\n",
              "      border-right-color: var(--fill-color);\n",
              "      border-bottom-color: var(--fill-color);\n",
              "    }\n",
              "    90% {\n",
              "      border-color: transparent;\n",
              "      border-bottom-color: var(--fill-color);\n",
              "    }\n",
              "  }\n",
              "</style>\n",
              "\n",
              "  <script>\n",
              "    async function quickchart(key) {\n",
              "      const quickchartButtonEl =\n",
              "        document.querySelector('#' + key + ' button');\n",
              "      quickchartButtonEl.disabled = true;  // To prevent multiple clicks.\n",
              "      quickchartButtonEl.classList.add('colab-df-spinner');\n",
              "      try {\n",
              "        const charts = await google.colab.kernel.invokeFunction(\n",
              "            'suggestCharts', [key], {});\n",
              "      } catch (error) {\n",
              "        console.error('Error during call to suggestCharts:', error);\n",
              "      }\n",
              "      quickchartButtonEl.classList.remove('colab-df-spinner');\n",
              "      quickchartButtonEl.classList.add('colab-df-quickchart-complete');\n",
              "    }\n",
              "    (() => {\n",
              "      let quickchartButtonEl =\n",
              "        document.querySelector('#df-c00f64e5-2f48-49d4-b4ad-d792c74cfb8d button');\n",
              "      quickchartButtonEl.style.display =\n",
              "        google.colab.kernel.accessAllowed ? 'block' : 'none';\n",
              "    })();\n",
              "  </script>\n",
              "</div>\n",
              "    </div>\n",
              "  </div>\n"
            ],
            "application/vnd.google.colaboratory.intrinsic+json": {
              "type": "dataframe",
              "summary": "{\n  \"name\": \"pd\",\n  \"rows\": 23,\n  \"fields\": [\n    {\n      \"column\": \"Type\",\n      \"properties\": {\n        \"dtype\": \"string\",\n        \"num_unique_values\": 23,\n        \"samples\": [\n          \"portsweep.\",\n          \"neptune.\",\n          \"back.\"\n        ],\n        \"semantic_type\": \"\",\n        \"description\": \"\"\n      }\n    }\n  ]\n}"
            }
          },
          "metadata": {},
          "execution_count": 145
        }
      ],
      "source": [
        "#Obtain the class number for Normal entries\n",
        "pd.DataFrame(le.classes_, columns = ['Type'])"
      ]
    },
    {
      "cell_type": "code",
      "source": [
        "y_test"
      ],
      "metadata": {
        "colab": {
          "base_uri": "https://localhost:8080/"
        },
        "id": "6adiUB0Dpemb",
        "outputId": "c9ae562c-284f-4627-9caf-0fb4477a0b05"
      },
      "execution_count": 146,
      "outputs": [
        {
          "output_type": "execute_result",
          "data": {
            "text/plain": [
              "array([18, 18, 18, ..., 18, 11, 11])"
            ]
          },
          "metadata": {},
          "execution_count": 146
        }
      ]
    },
    {
      "cell_type": "code",
      "execution_count": 147,
      "metadata": {
        "id": "GYd_E0_d_1kM"
      },
      "outputs": [],
      "source": [
        "# Converting labels to Binary\n",
        "\n",
        "y_test[y_test != 11] = 1\n",
        "y_test[y_test == 11] = 0\n",
        "y_train[y_train != 11] = 1\n",
        "y_train[y_train == 11] = 0"
      ]
    },
    {
      "cell_type": "code",
      "source": [
        "np.unique(y_test)"
      ],
      "metadata": {
        "colab": {
          "base_uri": "https://localhost:8080/"
        },
        "id": "uk4uQF3PDLKa",
        "outputId": "5e093a14-d49d-40db-f9d8-91c767edc6a3"
      },
      "execution_count": 148,
      "outputs": [
        {
          "output_type": "execute_result",
          "data": {
            "text/plain": [
              "array([0, 1])"
            ]
          },
          "metadata": {},
          "execution_count": 148
        }
      ]
    },
    {
      "cell_type": "markdown",
      "metadata": {
        "id": "K8bgyx5k_1kM"
      },
      "source": [
        "We will now split the dataset into normal and anomalous data. We will need to do this in order to be able to train GANs to generate Normal packets only and then predict the anomaly based on the Discriminator output. The details regarding this will be covered later in the lab."
      ]
    },
    {
      "cell_type": "code",
      "execution_count": 149,
      "metadata": {
        "id": "to5nXR_P_1kM"
      },
      "outputs": [],
      "source": [
        "#Subsetting only Normal Network packets in our training set\n",
        "\n",
        "temp_df = x_train.copy()\n",
        "temp_df['label'] = y_train\n",
        "temp_df = temp_df.loc[temp_df['label'] == 0]\n",
        "temp_df = temp_df.drop('label', axis = 1)\n",
        "x_train = temp_df.copy()"
      ]
    },
    {
      "cell_type": "code",
      "source": [
        "temp_df.shape"
      ],
      "metadata": {
        "colab": {
          "base_uri": "https://localhost:8080/"
        },
        "id": "BH-OohaxEA62",
        "outputId": "03b008b4-2c98-4441-825d-65d6541645b5"
      },
      "execution_count": 150,
      "outputs": [
        {
          "output_type": "execute_result",
          "data": {
            "text/plain": [
              "(73011, 118)"
            ]
          },
          "metadata": {},
          "execution_count": 150
        }
      ]
    },
    {
      "cell_type": "code",
      "source": [
        "y_train.shape"
      ],
      "metadata": {
        "colab": {
          "base_uri": "https://localhost:8080/"
        },
        "id": "2zA3x0OYEA-N",
        "outputId": "0c91c78e-bdd9-422a-bf37-168e20d63bae"
      },
      "execution_count": 151,
      "outputs": [
        {
          "output_type": "execute_result",
          "data": {
            "text/plain": [
              "(370515,)"
            ]
          },
          "metadata": {},
          "execution_count": 151
        }
      ]
    },
    {
      "cell_type": "code",
      "source": [],
      "metadata": {
        "id": "bgZ3s2h5EBBH"
      },
      "execution_count": 151,
      "outputs": []
    },
    {
      "cell_type": "code",
      "source": [
        "x_train.shape"
      ],
      "metadata": {
        "colab": {
          "base_uri": "https://localhost:8080/"
        },
        "id": "tqr0SPulwBti",
        "outputId": "a020d851-4a95-4214-92cc-138d41c422d4"
      },
      "execution_count": 152,
      "outputs": [
        {
          "output_type": "execute_result",
          "data": {
            "text/plain": [
              "(73011, 118)"
            ]
          },
          "metadata": {},
          "execution_count": 152
        }
      ]
    },
    {
      "cell_type": "code",
      "source": [
        "np.unique(y_train)"
      ],
      "metadata": {
        "colab": {
          "base_uri": "https://localhost:8080/"
        },
        "id": "kp4Iat8kwBzX",
        "outputId": "6790a16c-b80c-4b3f-c301-9be34ae24b77"
      },
      "execution_count": 153,
      "outputs": [
        {
          "output_type": "execute_result",
          "data": {
            "text/plain": [
              "array([0, 1])"
            ]
          },
          "metadata": {},
          "execution_count": 153
        }
      ]
    },
    {
      "cell_type": "markdown",
      "metadata": {
        "id": "itRX22fl_1kM"
      },
      "source": [
        "Similar to Lab 2, we scale the input training data between 0 and 1 before feeding it to the model."
      ]
    },
    {
      "cell_type": "code",
      "source": [
        "# Normalize the above splits using the MinMaxScaler from the scikit learn package\n",
        "scaler = MinMaxScaler()\n",
        "\n",
        "# Make sure to only fit the scaler on the training data\n",
        "x_train = scaler.fit_transform(x_train)\n",
        "x_test = scaler.transform(x_test)\n",
        "\n",
        "#Creating dataset dictionary\n",
        "dataset = {}\n",
        "dataset['x_train'] = x_train.astype(np.float32)\n",
        "dataset['y_train'] = y_train.astype(np.float32)\n",
        "dataset['x_test']  = x_test.astype(np.float32)\n",
        "dataset['y_test']  = y_test.astype(np.float32)"
      ],
      "metadata": {
        "id": "nuCu08jxlVEx"
      },
      "execution_count": 154,
      "outputs": []
    },
    {
      "cell_type": "code",
      "source": [
        "dataset['x_train'].shape"
      ],
      "metadata": {
        "colab": {
          "base_uri": "https://localhost:8080/"
        },
        "id": "_Gwo6il7v0X3",
        "outputId": "be600a55-b0af-4c5e-94c3-fb0881c68f38"
      },
      "execution_count": 155,
      "outputs": [
        {
          "output_type": "execute_result",
          "data": {
            "text/plain": [
              "(73011, 118)"
            ]
          },
          "metadata": {},
          "execution_count": 155
        }
      ]
    },
    {
      "cell_type": "code",
      "source": [
        "dataset['y_train'].shape"
      ],
      "metadata": {
        "colab": {
          "base_uri": "https://localhost:8080/"
        },
        "id": "vYl1nKgCv0ax",
        "outputId": "962137b2-bbdb-4143-8928-967ff5fb0380"
      },
      "execution_count": 156,
      "outputs": [
        {
          "output_type": "execute_result",
          "data": {
            "text/plain": [
              "(370515,)"
            ]
          },
          "metadata": {},
          "execution_count": 156
        }
      ]
    },
    {
      "cell_type": "code",
      "source": [],
      "metadata": {
        "id": "ptsV_EOWv0dz"
      },
      "execution_count": 156,
      "outputs": []
    },
    {
      "cell_type": "markdown",
      "metadata": {
        "id": "vaqR7rzK_1kN"
      },
      "source": [
        "**Summary of the datasets** :\n",
        "- The Training set consists of only normal network packets.\n",
        "- The Testing set comprises a small number of anomalous network packets of about 1%, reflecting what we see in the real world.\n"
      ]
    },
    {
      "cell_type": "code",
      "execution_count": 157,
      "metadata": {
        "id": "4llraS28_1kN",
        "outputId": "9e86f0b8-725b-4b4a-991e-d2fcbd2142c0",
        "colab": {
          "base_uri": "https://localhost:8080/"
        }
      },
      "outputs": [
        {
          "output_type": "stream",
          "name": "stdout",
          "text": [
            "Number of Normal Network packets in the Training set: 73011\n",
            "Number of Normal Network packets in the Testing set: 24267\n",
            "Number of Anomalous Network packets in the Testing set: 99239\n"
          ]
        }
      ],
      "source": [
        "# check how many anomalies are in our Testing set\n",
        "print('Number of Normal Network packets in the Training set:', x_train.shape[0])\n",
        "print('Number of Normal Network packets in the Testing set:', collections.Counter(y_test)[0])\n",
        "print('Number of Anomalous Network packets in the Testing set:', collections.Counter(y_test)[1])"
      ]
    },
    {
      "cell_type": "markdown",
      "metadata": {
        "id": "AJEaKmi5_1kN"
      },
      "source": [
        "## Section 2: Generative Adversarial Networks"
      ]
    },
    {
      "cell_type": "markdown",
      "metadata": {
        "id": "GGuLGhET_1kN"
      },
      "source": [
        "Generative Adversarial Networks (GAN) were introduced by Ian Goodfellow in [Generative Adversarial Networks](https://arxiv.org/abs/1406.2661), Goodfellow, 2014.\n",
        "\n",
        "<br>\n",
        "<img src=\"https://drive.google.com/uc?id=14f7ZwXxyigpwx7bIVFxAOSb_aV28bFav\" alt=\"Alt text that describes the graphic\" title=\"Title text\" />\n",
        "<br>\n",
        "\n",
        "\n",
        "The GAN consists of two networks namely:\n",
        "- The generator `G` that produces fake samples\n",
        "- The discriminator `D` that that receives samples from both `G` and the dataset.\n",
        "\n",
        "During Training the two networks have competing goals. The generator tries to fool the discriminator by outputting values that resemble real data and the discriminator tries to become better at distinguishing between the real and fake data.\n",
        "\n",
        "Mathematically, this means that the Generator's weights are optimized to maximize the probability that fake data is classified as belonging to the real data. The discriminators's weights are optimized to maximize the probability that the real input data is classified as real while minimizing the probability of fake input data being classified as real.\n",
        "\n",
        "Optimality is reached when the generator produces an output that the disciminator cannot concretely label as real or fake and this, happens when either of the networks cannot improve anymore.\n",
        "\n",
        "$\\min_G \\max_D V(D, G) = \\log D(x) + \\log(1 - D(G(z)))\n",
        "$\n",
        "\n",
        "The first part of the above equation reflects the log probability of the discriminator predicting that the input sample is genuine and the second half reflects the probability of the Discriminator predicting that the Generator's output is not genuine.\n",
        "\n",
        "The min-max formulation is a concise one-liner that intuitively demonstrates the adversarial nature of thecompetition between the generator and the discriminator. However, in practice, we define separate loss functions for the generator and the discriminator as we have done above.\n",
        "\n",
        "In this lab, we will be train our GAN on normal network packets. The generator inputs noise and as training progresses the GAN learns the mapping between these random values to the input distribution. The discriminator outputs a score of how likely the the generated output resembles the real data."
      ]
    },
    {
      "cell_type": "markdown",
      "metadata": {
        "id": "ieATzFAf_1kN"
      },
      "source": [
        "### 2.1 Generator Network"
      ]
    },
    {
      "cell_type": "markdown",
      "metadata": {
        "id": "LqUKDAeI_1kN"
      },
      "source": [
        "The Generator is used to synthesize fake data points. As shown below, it consists of 5 Dense Layers with a `tanh` activation function and uses `binary cross-entropy` for calculating the generator loss. Binary cross-entropy loss measures the performance of a two class classification model whose output is a probability value between 0 and 1. A perfect model would have a loss of 0."
      ]
    },
    {
      "cell_type": "code",
      "execution_count": 165,
      "metadata": {
        "id": "4RkjUu9j_1kN"
      },
      "outputs": [],
      "source": [
        "# Defining the Generator network\n",
        "\n",
        "def get_generator(optimizer):\n",
        "\n",
        "    generator = Sequential()\n",
        "    generator.add(Dense(64, input_dim=118, kernel_initializer=initializers.glorot_normal(seed=42)))\n",
        "    generator.add(Activation('tanh'))\n",
        "\n",
        "    generator.add(Dense(128))\n",
        "    generator.add(Activation('tanh'))\n",
        "\n",
        "    generator.add(Dense(256))\n",
        "    generator.add(Activation('tanh'))\n",
        "\n",
        "    generator.add(Dense(256))\n",
        "    generator.add(Activation('tanh'))\n",
        "\n",
        "    generator.add(Dense(512))\n",
        "    generator.add(Activation('tanh'))\n",
        "\n",
        "    generator.add(Dense(118, activation='tanh'))\n",
        "\n",
        "    generator.compile(loss='binary_crossentropy', optimizer=optimizer)\n",
        "\n",
        "    return generator"
      ]
    },
    {
      "cell_type": "markdown",
      "metadata": {
        "id": "Z4lDvWcp_1kN"
      },
      "source": [
        "### 2.2 Discriminator Network"
      ]
    },
    {
      "cell_type": "markdown",
      "metadata": {
        "id": "5c-wS_io_1kO"
      },
      "source": [
        "The Discriminator basically outputs the score of a sample belonging to the real dataset or the synthetic dataset. It consists of 6 dense layers-each followed by a dropout layer to help prevent overfitting. The sigmoid activation function is applied to the final layer to obtain a value in the range 0 to 1."
      ]
    },
    {
      "cell_type": "code",
      "execution_count": 166,
      "metadata": {
        "id": "9dYs-EvB_1kO"
      },
      "outputs": [],
      "source": [
        "##### Defining the Discriminator network\n",
        "\n",
        "def get_discriminator(optimizer):\n",
        "\n",
        "    discriminator = Sequential()\n",
        "\n",
        "    discriminator.add(Dense(256, input_dim=118, kernel_initializer=initializers.glorot_normal(seed=42)))\n",
        "    discriminator.add(Activation('relu'))\n",
        "    discriminator.add(Dropout(0.2))\n",
        "\n",
        "    discriminator.add(Dense(128))\n",
        "    discriminator.add(Activation('relu'))\n",
        "    discriminator.add(Dropout(0.2))\n",
        "\n",
        "    discriminator.add(Dense(128))\n",
        "    discriminator.add(Activation('relu'))\n",
        "    discriminator.add(Dropout(0.2))\n",
        "\n",
        "    discriminator.add(Dense(128))\n",
        "    discriminator.add(Activation('relu'))\n",
        "    discriminator.add(Dropout(0.2))\n",
        "\n",
        "    discriminator.add(Dense(128))\n",
        "    discriminator.add(Activation('relu'))\n",
        "    discriminator.add(Dropout(0.2))\n",
        "\n",
        "    discriminator.add(Dense(1))\n",
        "    discriminator.add(Activation('sigmoid'))\n",
        "\n",
        "    discriminator.compile(loss='binary_crossentropy', optimizer=optimizer)\n",
        "\n",
        "    return discriminator"
      ]
    },
    {
      "cell_type": "markdown",
      "metadata": {
        "id": "0iXs-sig_1kO"
      },
      "source": [
        "### 2.3 Building the Network"
      ]
    },
    {
      "cell_type": "markdown",
      "metadata": {
        "id": "iEMCCsVp_1kO"
      },
      "source": [
        "Previously we built the individual networks that constitute the GAN. Let us now stich them together by using the generator and discriminator as individual layers of the overall generative adversarial network. We set the field `discriminator.trainable = False` as we want to alter the weights of only one of them during training."
      ]
    },
    {
      "cell_type": "code",
      "execution_count": 167,
      "metadata": {
        "id": "KFLCJoex_1kO"
      },
      "outputs": [],
      "source": [
        "def get_gan_network(discriminator, generator, optimizer,input_dim=115):\n",
        "\n",
        "    discriminator.trainable = False\n",
        "    gan_input = Input(shape=(input_dim,))\n",
        "    x = generator(gan_input)\n",
        "    gan_output = discriminator(x)\n",
        "\n",
        "    gan = Model(inputs=gan_input, outputs=gan_output)\n",
        "    gan.compile(loss='binary_crossentropy', optimizer=optimizer)\n",
        "\n",
        "    return gan"
      ]
    },
    {
      "cell_type": "markdown",
      "metadata": {
        "id": "VlhAiSnL_1kO"
      },
      "source": [
        "### 2.4 Setting the Hyperparameters"
      ]
    },
    {
      "cell_type": "markdown",
      "metadata": {
        "id": "83Vk6u30_1kO"
      },
      "source": [
        "Training a GAN can be quite tricky and time consuming. Refer to this <a href=\"https://github.com/soumith/ganhacks#authors\">  link </a> to get a few ideas on how you could get your models to converge faster by choosing appropriate hyperparameters."
      ]
    },
    {
      "cell_type": "code",
      "execution_count": 168,
      "metadata": {
        "id": "OYKruoms_1kO"
      },
      "outputs": [],
      "source": [
        "learning_rate = 0.00001\n",
        "batch_size = 512\n",
        "epochs = 10\n"
      ]
    },
    {
      "cell_type": "markdown",
      "metadata": {
        "id": "2GfS8Wdv_1kP"
      },
      "source": [
        "### 2.5 Training the Model"
      ]
    },
    {
      "cell_type": "markdown",
      "metadata": {
        "id": "rkB-q5JG_1kP"
      },
      "source": [
        "The generator first predicts on a batch of noise samples. As the generator has randomly initialized weights initially, the output of the generator at this stage is nothing but meaningless values.\n",
        "\n",
        "\n",
        "The Discriminator inputs a stack of samples - the first half of which is the output of the generator and the second half is a batch of data samples from the real dataset. We train the Discriminator on this stack with the target labels  0 (Fake) for half the stack and 1 for the second half of the stack. The result of this is that the Discrimator is able to distinguish between the Real and Fake samples.\n",
        "\n",
        "\n",
        "The weights of the discriminator are frozen by setting the trainable parameter to False.\n",
        "\n",
        "To train the Generator, We first feed it random noise and let the entire GAN output a probability with the Discriminator weights remaining frozen. As expected this value would be less than 0.5 since the Discriminator was previously set to output a value close to 0 if the input was not genuine .\n",
        "\n",
        "\n",
        "Now comes the trick. We tell the GAN that the expected output is 1. This results in the errors being backpropagated only to the Generator. With every sample in the batch the generator's weights are tuned such that the output of the GAN is close to 1, meaning the Generator is now learning to produce samples that resemble the real data.\n",
        "\n",
        "This process loops back to the first step for each batch in the training set."
      ]
    },
    {
      "cell_type": "code",
      "source": [
        "x_train.shape,y_train.shape"
      ],
      "metadata": {
        "id": "RMkrVMefipy-",
        "outputId": "ddd3adf4-1294-43a0-fa6b-15b377e3b7cf",
        "colab": {
          "base_uri": "https://localhost:8080/"
        }
      },
      "execution_count": 169,
      "outputs": [
        {
          "output_type": "execute_result",
          "data": {
            "text/plain": [
              "((73011, 118), (370515,))"
            ]
          },
          "metadata": {},
          "execution_count": 169
        }
      ]
    },
    {
      "cell_type": "code",
      "execution_count": 170,
      "metadata": {
        "id": "m18Kpr4Q_1kS",
        "outputId": "bc244626-0a92-4936-90d1-717fb36c9543",
        "colab": {
          "base_uri": "https://localhost:8080/"
        }
      },
      "outputs": [
        {
          "output_type": "stream",
          "name": "stderr",
          "text": [
            "\n",
            "  0%|          | 0/1420 [00:12<?, ?it/s]\n",
            "\n",
            "  0%|          | 1/1420 [00:00<07:44,  3.06it/s]\u001b[A\n",
            "  0%|          | 2/1420 [00:01<19:08,  1.23it/s]\u001b[A\n",
            "  0%|          | 4/1420 [00:01<08:27,  2.79it/s]\u001b[A\n",
            "  0%|          | 6/1420 [00:01<05:25,  4.34it/s]\u001b[A\n",
            "  1%|          | 8/1420 [00:01<04:01,  5.84it/s]\u001b[A\n",
            "  1%|          | 9/1420 [00:02<03:46,  6.24it/s]\u001b[A\n",
            "  1%|          | 10/1420 [00:02<03:41,  6.36it/s]\u001b[A\n",
            "  1%|          | 11/1420 [00:02<03:31,  6.66it/s]\u001b[A\n",
            "  1%|          | 12/1420 [00:02<03:29,  6.72it/s]\u001b[A\n",
            "  1%|          | 13/1420 [00:02<03:24,  6.87it/s]\u001b[A\n",
            "  1%|          | 14/1420 [00:02<03:25,  6.84it/s]\u001b[A\n",
            "  1%|          | 15/1420 [00:02<03:26,  6.80it/s]\u001b[A\n",
            "  1%|          | 16/1420 [00:03<03:19,  7.02it/s]\u001b[A\n",
            "  1%|          | 17/1420 [00:03<03:26,  6.81it/s]\u001b[A\n",
            "  1%|▏         | 18/1420 [00:03<03:23,  6.88it/s]\u001b[A\n",
            "  1%|▏         | 19/1420 [00:03<03:20,  7.00it/s]\u001b[A\n",
            "  1%|▏         | 20/1420 [00:03<03:24,  6.84it/s]\u001b[A\n",
            "  1%|▏         | 21/1420 [00:03<03:19,  7.00it/s]\u001b[A\n",
            "  2%|▏         | 22/1420 [00:03<03:21,  6.95it/s]\u001b[A\n",
            "  2%|▏         | 23/1420 [00:04<03:15,  7.15it/s]\u001b[A\n",
            "  2%|▏         | 24/1420 [00:04<03:15,  7.16it/s]\u001b[A\n",
            "  2%|▏         | 25/1420 [00:04<03:29,  6.65it/s]\u001b[A\n",
            "  2%|▏         | 26/1420 [00:04<03:32,  6.56it/s]\u001b[A\n",
            "  2%|▏         | 27/1420 [00:04<03:34,  6.50it/s]\u001b[A\n",
            "  2%|▏         | 28/1420 [00:04<03:32,  6.56it/s]\u001b[A\n",
            "  2%|▏         | 29/1420 [00:05<03:31,  6.56it/s]\u001b[A\n",
            "  2%|▏         | 30/1420 [00:05<03:32,  6.54it/s]\u001b[A\n",
            "  2%|▏         | 31/1420 [00:05<03:29,  6.63it/s]\u001b[A\n",
            "  2%|▏         | 32/1420 [00:05<03:32,  6.54it/s]\u001b[A\n",
            "  2%|▏         | 33/1420 [00:05<03:27,  6.70it/s]\u001b[A\n",
            "  2%|▏         | 34/1420 [00:05<03:33,  6.51it/s]\u001b[A\n",
            "  2%|▏         | 35/1420 [00:05<03:33,  6.49it/s]\u001b[A\n",
            "  3%|▎         | 36/1420 [00:06<03:29,  6.60it/s]\u001b[A\n",
            "  3%|▎         | 37/1420 [00:06<03:28,  6.63it/s]\u001b[A\n",
            "  3%|▎         | 38/1420 [00:06<03:27,  6.68it/s]\u001b[A\n",
            "  3%|▎         | 39/1420 [00:06<03:23,  6.80it/s]\u001b[A\n",
            "  3%|▎         | 40/1420 [00:06<03:25,  6.72it/s]\u001b[A\n",
            "  3%|▎         | 41/1420 [00:06<03:30,  6.56it/s]\u001b[A\n",
            "  3%|▎         | 42/1420 [00:07<03:28,  6.61it/s]\u001b[A\n",
            "  3%|▎         | 43/1420 [00:07<03:25,  6.72it/s]\u001b[A\n",
            "  3%|▎         | 44/1420 [00:07<03:21,  6.83it/s]\u001b[A\n",
            "  3%|▎         | 45/1420 [00:07<03:35,  6.38it/s]\u001b[A\n",
            "  3%|▎         | 46/1420 [00:07<03:38,  6.29it/s]\u001b[A\n",
            "  3%|▎         | 47/1420 [00:07<03:31,  6.48it/s]\u001b[A\n",
            "  3%|▎         | 48/1420 [00:07<03:33,  6.42it/s]\u001b[A\n",
            "  3%|▎         | 49/1420 [00:08<03:30,  6.51it/s]\u001b[A\n",
            "  4%|▎         | 50/1420 [00:08<03:29,  6.55it/s]\u001b[A\n",
            "  4%|▎         | 51/1420 [00:08<03:45,  6.08it/s]\u001b[A\n",
            "  4%|▎         | 52/1420 [00:08<03:44,  6.10it/s]\u001b[A\n",
            "  4%|▎         | 53/1420 [00:08<03:42,  6.15it/s]\u001b[A\n",
            "  4%|▍         | 54/1420 [00:08<03:38,  6.27it/s]\u001b[A\n",
            "  4%|▍         | 55/1420 [00:09<03:38,  6.26it/s]\u001b[A\n",
            "  4%|▍         | 56/1420 [00:09<03:33,  6.40it/s]\u001b[A\n",
            "  4%|▍         | 57/1420 [00:09<03:28,  6.54it/s]\u001b[A\n",
            "  4%|▍         | 58/1420 [00:09<03:25,  6.62it/s]\u001b[A\n",
            "  4%|▍         | 59/1420 [00:09<03:28,  6.53it/s]\u001b[A\n",
            "  4%|▍         | 60/1420 [00:09<03:24,  6.65it/s]\u001b[A\n",
            "  4%|▍         | 61/1420 [00:09<03:31,  6.42it/s]\u001b[A\n",
            "  4%|▍         | 62/1420 [00:10<03:30,  6.44it/s]\u001b[A\n",
            "  5%|▍         | 64/1420 [00:10<02:49,  8.00it/s]\u001b[A\n",
            "  5%|▍         | 66/1420 [00:10<02:27,  9.19it/s]\u001b[A\n",
            "  5%|▍         | 68/1420 [00:10<02:16,  9.89it/s]\u001b[A\n",
            "  5%|▍         | 70/1420 [00:10<02:08, 10.52it/s]\u001b[A\n",
            "  5%|▌         | 72/1420 [00:10<02:03, 10.92it/s]\u001b[A\n",
            "  5%|▌         | 74/1420 [00:11<02:03, 10.94it/s]\u001b[A\n",
            "  5%|▌         | 76/1420 [00:11<02:00, 11.16it/s]\u001b[A\n",
            "  5%|▌         | 78/1420 [00:11<01:58, 11.34it/s]\u001b[A\n",
            "  6%|▌         | 80/1420 [00:11<01:56, 11.51it/s]\u001b[A\n",
            "  6%|▌         | 82/1420 [00:11<01:56, 11.44it/s]\u001b[A\n",
            "  6%|▌         | 84/1420 [00:12<01:54, 11.63it/s]\u001b[A\n",
            "  6%|▌         | 86/1420 [00:12<01:55, 11.54it/s]\u001b[A\n",
            "  6%|▌         | 88/1420 [00:12<01:54, 11.58it/s]\u001b[A\n",
            "  6%|▋         | 90/1420 [00:12<01:54, 11.63it/s]\u001b[A\n",
            "  6%|▋         | 92/1420 [00:12<01:52, 11.81it/s]\u001b[A\n",
            "  7%|▋         | 94/1420 [00:12<01:52, 11.78it/s]\u001b[A\n",
            "  7%|▋         | 96/1420 [00:13<01:53, 11.68it/s]\u001b[A\n",
            "  7%|▋         | 98/1420 [00:13<01:55, 11.44it/s]\u001b[A\n",
            "  7%|▋         | 100/1420 [00:13<01:54, 11.58it/s]\u001b[A\n",
            "  7%|▋         | 102/1420 [00:13<01:54, 11.49it/s]\u001b[A\n",
            "  7%|▋         | 104/1420 [00:13<01:52, 11.66it/s]\u001b[A\n",
            "  7%|▋         | 106/1420 [00:13<01:51, 11.74it/s]\u001b[A\n",
            "  8%|▊         | 108/1420 [00:14<01:50, 11.82it/s]\u001b[A\n",
            "  8%|▊         | 110/1420 [00:14<01:53, 11.55it/s]\u001b[A\n",
            "  8%|▊         | 112/1420 [00:14<01:52, 11.63it/s]\u001b[A\n",
            "  8%|▊         | 114/1420 [00:14<01:54, 11.45it/s]\u001b[A\n",
            "  8%|▊         | 116/1420 [00:14<01:51, 11.66it/s]\u001b[A\n",
            "  8%|▊         | 118/1420 [00:14<01:52, 11.58it/s]\u001b[A\n",
            "  8%|▊         | 120/1420 [00:15<01:54, 11.34it/s]\u001b[A\n",
            "  9%|▊         | 122/1420 [00:15<01:55, 11.28it/s]\u001b[A\n",
            "  9%|▊         | 124/1420 [00:15<01:52, 11.49it/s]\u001b[A\n",
            "  9%|▉         | 126/1420 [00:15<01:51, 11.63it/s]\u001b[A\n",
            "  9%|▉         | 128/1420 [00:15<01:51, 11.59it/s]\u001b[A\n",
            "  9%|▉         | 130/1420 [00:15<01:50, 11.63it/s]\u001b[A\n",
            "  9%|▉         | 132/1420 [00:16<01:49, 11.78it/s]\u001b[A\n",
            "  9%|▉         | 134/1420 [00:16<01:51, 11.58it/s]\u001b[A\n",
            " 10%|▉         | 136/1420 [00:16<01:49, 11.69it/s]\u001b[A\n",
            " 10%|▉         | 138/1420 [00:16<01:52, 11.39it/s]\u001b[A\n",
            " 10%|▉         | 140/1420 [00:16<01:51, 11.48it/s]\u001b[A\n",
            " 10%|█         | 142/1420 [00:17<01:50, 11.53it/s]\u001b[A\n",
            " 10%|█         | 144/1420 [00:17<01:50, 11.57it/s]\u001b[A"
          ]
        },
        {
          "output_type": "stream",
          "name": "stdout",
          "text": [
            "Epoch 0 Batch 141/142 [D loss: 0.699381] [G loss:0.732216]\n"
          ]
        },
        {
          "output_type": "stream",
          "name": "stderr",
          "text": [
            "\n",
            " 10%|█         | 146/1420 [00:17<01:51, 11.47it/s]\u001b[A\n",
            " 10%|█         | 148/1420 [00:17<01:49, 11.61it/s]\u001b[A\n",
            " 11%|█         | 150/1420 [00:17<01:49, 11.65it/s]\u001b[A\n",
            " 11%|█         | 152/1420 [00:17<01:48, 11.67it/s]\u001b[A\n",
            " 11%|█         | 154/1420 [00:18<01:48, 11.72it/s]\u001b[A\n",
            " 11%|█         | 156/1420 [00:18<01:48, 11.69it/s]\u001b[A\n",
            " 11%|█         | 158/1420 [00:18<01:49, 11.53it/s]\u001b[A\n",
            " 11%|█▏        | 160/1420 [00:18<01:48, 11.59it/s]\u001b[A\n",
            " 11%|█▏        | 162/1420 [00:18<01:47, 11.74it/s]\u001b[A\n",
            " 12%|█▏        | 164/1420 [00:18<01:46, 11.84it/s]\u001b[A\n",
            " 12%|█▏        | 166/1420 [00:19<01:46, 11.74it/s]\u001b[A\n",
            " 12%|█▏        | 168/1420 [00:19<01:45, 11.83it/s]\u001b[A\n",
            " 12%|█▏        | 170/1420 [00:19<02:02, 10.17it/s]\u001b[A\n",
            " 12%|█▏        | 172/1420 [00:19<02:16,  9.12it/s]\u001b[A\n",
            " 12%|█▏        | 173/1420 [00:19<02:29,  8.34it/s]\u001b[A\n",
            " 12%|█▏        | 174/1420 [00:20<02:37,  7.91it/s]\u001b[A\n",
            " 12%|█▏        | 175/1420 [00:20<02:55,  7.08it/s]\u001b[A\n",
            " 12%|█▏        | 176/1420 [00:20<03:16,  6.34it/s]\u001b[A\n",
            " 12%|█▏        | 177/1420 [00:20<03:43,  5.56it/s]\u001b[A\n",
            " 13%|█▎        | 178/1420 [00:20<04:00,  5.17it/s]\u001b[A\n",
            " 13%|█▎        | 179/1420 [00:21<04:04,  5.08it/s]\u001b[A\n",
            " 13%|█▎        | 180/1420 [00:21<04:11,  4.92it/s]\u001b[A\n",
            " 13%|█▎        | 181/1420 [00:21<04:31,  4.57it/s]\u001b[A\n",
            " 13%|█▎        | 182/1420 [00:21<04:18,  4.79it/s]\u001b[A\n",
            " 13%|█▎        | 183/1420 [00:22<04:07,  4.99it/s]\u001b[A\n",
            " 13%|█▎        | 184/1420 [00:22<04:02,  5.09it/s]\u001b[A\n",
            " 13%|█▎        | 185/1420 [00:22<04:13,  4.86it/s]\u001b[A\n",
            " 13%|█▎        | 186/1420 [00:22<04:25,  4.64it/s]\u001b[A\n",
            " 13%|█▎        | 187/1420 [00:22<04:25,  4.65it/s]\u001b[A\n",
            " 13%|█▎        | 188/1420 [00:23<04:26,  4.62it/s]\u001b[A\n",
            " 13%|█▎        | 189/1420 [00:23<04:24,  4.65it/s]\u001b[A\n",
            " 13%|█▎        | 190/1420 [00:23<04:27,  4.59it/s]\u001b[A\n",
            " 13%|█▎        | 191/1420 [00:23<04:21,  4.69it/s]\u001b[A\n",
            " 14%|█▎        | 192/1420 [00:23<04:19,  4.74it/s]\u001b[A\n",
            " 14%|█▎        | 193/1420 [00:24<04:18,  4.74it/s]\u001b[A\n",
            " 14%|█▎        | 194/1420 [00:24<04:26,  4.59it/s]\u001b[A\n",
            " 14%|█▎        | 195/1420 [00:24<04:24,  4.64it/s]\u001b[A\n",
            " 14%|█▍        | 196/1420 [00:24<04:06,  4.96it/s]\u001b[A\n",
            " 14%|█▍        | 197/1420 [00:24<04:06,  4.95it/s]\u001b[A\n",
            " 14%|█▍        | 198/1420 [00:25<04:30,  4.52it/s]\u001b[A\n",
            " 14%|█▍        | 199/1420 [00:25<04:26,  4.58it/s]\u001b[A\n",
            " 14%|█▍        | 200/1420 [00:25<04:38,  4.38it/s]\u001b[A\n",
            " 14%|█▍        | 201/1420 [00:25<04:30,  4.50it/s]\u001b[A\n",
            " 14%|█▍        | 202/1420 [00:26<04:23,  4.62it/s]\u001b[A\n",
            " 14%|█▍        | 203/1420 [00:26<04:27,  4.55it/s]\u001b[A\n",
            " 14%|█▍        | 204/1420 [00:26<04:22,  4.63it/s]\u001b[A\n",
            " 14%|█▍        | 205/1420 [00:26<04:10,  4.84it/s]\u001b[A\n",
            " 15%|█▍        | 206/1420 [00:26<04:14,  4.77it/s]\u001b[A\n",
            " 15%|█▍        | 207/1420 [00:27<04:23,  4.61it/s]\u001b[A\n",
            " 15%|█▍        | 208/1420 [00:27<04:33,  4.43it/s]\u001b[A\n",
            " 15%|█▍        | 209/1420 [00:27<04:27,  4.54it/s]\u001b[A\n",
            " 15%|█▍        | 210/1420 [00:27<04:41,  4.29it/s]\u001b[A\n",
            " 15%|█▍        | 211/1420 [00:28<04:42,  4.29it/s]\u001b[A\n",
            " 15%|█▍        | 212/1420 [00:28<04:41,  4.29it/s]\u001b[A\n",
            " 15%|█▌        | 213/1420 [00:28<04:38,  4.33it/s]\u001b[A\n",
            " 15%|█▌        | 214/1420 [00:28<04:27,  4.52it/s]\u001b[A\n",
            " 15%|█▌        | 215/1420 [00:28<03:59,  5.03it/s]\u001b[A\n",
            " 15%|█▌        | 216/1420 [00:29<03:41,  5.43it/s]\u001b[A\n",
            " 15%|█▌        | 217/1420 [00:29<03:25,  5.85it/s]\u001b[A\n",
            " 15%|█▌        | 218/1420 [00:29<03:09,  6.36it/s]\u001b[A\n",
            " 15%|█▌        | 220/1420 [00:29<02:27,  8.12it/s]\u001b[A\n",
            " 16%|█▌        | 222/1420 [00:29<02:08,  9.34it/s]\u001b[A\n",
            " 16%|█▌        | 224/1420 [00:29<01:59, 10.03it/s]\u001b[A\n",
            " 16%|█▌        | 226/1420 [00:30<01:54, 10.47it/s]\u001b[A\n",
            " 16%|█▌        | 228/1420 [00:30<01:49, 10.91it/s]\u001b[A\n",
            " 16%|█▌        | 230/1420 [00:30<01:46, 11.17it/s]\u001b[A\n",
            " 16%|█▋        | 232/1420 [00:30<01:45, 11.28it/s]\u001b[A\n",
            " 16%|█▋        | 234/1420 [00:30<01:45, 11.24it/s]\u001b[A\n",
            " 17%|█▋        | 236/1420 [00:31<02:07,  9.29it/s]\u001b[A\n",
            " 17%|█▋        | 237/1420 [00:31<02:15,  8.71it/s]\u001b[A\n",
            " 17%|█▋        | 238/1420 [00:31<02:26,  8.09it/s]\u001b[A\n",
            " 17%|█▋        | 239/1420 [00:31<02:30,  7.83it/s]\u001b[A\n",
            " 17%|█▋        | 240/1420 [00:31<02:37,  7.50it/s]\u001b[A\n",
            " 17%|█▋        | 241/1420 [00:31<02:37,  7.47it/s]\u001b[A\n",
            " 17%|█▋        | 242/1420 [00:31<02:46,  7.07it/s]\u001b[A\n",
            " 17%|█▋        | 243/1420 [00:32<02:49,  6.96it/s]\u001b[A\n",
            " 17%|█▋        | 244/1420 [00:32<02:46,  7.04it/s]\u001b[A\n",
            " 17%|█▋        | 245/1420 [00:32<02:51,  6.83it/s]\u001b[A\n",
            " 17%|█▋        | 246/1420 [00:32<03:25,  5.70it/s]\u001b[A\n",
            " 17%|█▋        | 247/1420 [00:32<03:23,  5.75it/s]\u001b[A\n",
            " 17%|█▋        | 248/1420 [00:33<03:36,  5.40it/s]\u001b[A\n",
            " 18%|█▊        | 249/1420 [00:33<03:29,  5.60it/s]\u001b[A\n",
            " 18%|█▊        | 250/1420 [00:33<03:26,  5.67it/s]\u001b[A\n",
            " 18%|█▊        | 251/1420 [00:33<03:16,  5.94it/s]\u001b[A\n",
            " 18%|█▊        | 252/1420 [00:33<03:10,  6.12it/s]\u001b[A\n",
            " 18%|█▊        | 253/1420 [00:33<03:02,  6.39it/s]\u001b[A\n",
            " 18%|█▊        | 254/1420 [00:33<03:02,  6.40it/s]\u001b[A\n",
            " 18%|█▊        | 255/1420 [00:34<03:18,  5.87it/s]\u001b[A\n",
            " 18%|█▊        | 256/1420 [00:34<03:27,  5.60it/s]\u001b[A\n",
            " 18%|█▊        | 257/1420 [00:34<03:32,  5.46it/s]\u001b[A\n",
            " 18%|█▊        | 258/1420 [00:34<03:18,  5.86it/s]\u001b[A\n",
            " 18%|█▊        | 259/1420 [00:34<03:07,  6.18it/s]\u001b[A\n",
            " 18%|█▊        | 260/1420 [00:34<03:03,  6.33it/s]\u001b[A\n",
            " 18%|█▊        | 261/1420 [00:35<03:11,  6.06it/s]\u001b[A\n",
            " 18%|█▊        | 262/1420 [00:35<03:44,  5.16it/s]\u001b[A\n",
            " 19%|█▊        | 263/1420 [00:35<03:39,  5.26it/s]\u001b[A\n",
            " 19%|█▊        | 264/1420 [00:35<03:45,  5.12it/s]\u001b[A\n",
            " 19%|█▊        | 265/1420 [00:35<03:41,  5.22it/s]\u001b[A\n",
            " 19%|█▊        | 266/1420 [00:36<03:35,  5.36it/s]\u001b[A\n",
            " 19%|█▉        | 267/1420 [00:36<03:29,  5.51it/s]\u001b[A\n",
            " 19%|█▉        | 268/1420 [00:36<03:27,  5.54it/s]\u001b[A\n",
            " 19%|█▉        | 269/1420 [00:36<04:27,  4.30it/s]\u001b[A\n",
            " 19%|█▉        | 270/1420 [00:37<08:30,  2.25it/s]\u001b[A\n",
            " 19%|█▉        | 271/1420 [00:38<10:53,  1.76it/s]\u001b[A\n",
            " 19%|█▉        | 272/1420 [00:39<10:03,  1.90it/s]\u001b[A\n",
            " 19%|█▉        | 273/1420 [00:39<08:06,  2.36it/s]\u001b[A\n",
            " 19%|█▉        | 274/1420 [00:39<06:48,  2.80it/s]\u001b[A\n",
            " 19%|█▉        | 275/1420 [00:39<06:36,  2.89it/s]\u001b[A\n",
            " 19%|█▉        | 276/1420 [00:40<06:42,  2.85it/s]\u001b[A\n",
            " 20%|█▉        | 277/1420 [00:40<05:39,  3.37it/s]\u001b[A\n",
            " 20%|█▉        | 278/1420 [00:40<05:10,  3.67it/s]\u001b[A\n",
            " 20%|█▉        | 279/1420 [00:40<04:51,  3.91it/s]\u001b[A\n",
            " 20%|█▉        | 280/1420 [00:40<04:24,  4.32it/s]\u001b[A\n",
            " 20%|█▉        | 281/1420 [00:41<03:49,  4.95it/s]\u001b[A\n",
            " 20%|█▉        | 282/1420 [00:41<03:32,  5.36it/s]\u001b[A\n",
            " 20%|█▉        | 283/1420 [00:41<03:20,  5.68it/s]\u001b[A\n",
            " 20%|██        | 284/1420 [00:41<03:10,  5.98it/s]\u001b[A\n",
            " 20%|██        | 285/1420 [00:41<03:02,  6.22it/s]\u001b[A\n",
            " 20%|██        | 286/1420 [00:41<02:55,  6.48it/s]\u001b[A"
          ]
        },
        {
          "output_type": "stream",
          "name": "stdout",
          "text": [
            "Epoch 1 Batch 141/142 [D loss: 0.701252] [G loss:0.729822]\n"
          ]
        },
        {
          "output_type": "stream",
          "name": "stderr",
          "text": [
            "\n",
            " 20%|██        | 287/1420 [00:41<02:48,  6.74it/s]\u001b[A\n",
            " 20%|██        | 288/1420 [00:42<02:44,  6.86it/s]\u001b[A\n",
            " 20%|██        | 289/1420 [00:42<02:43,  6.94it/s]\u001b[A\n",
            " 20%|██        | 290/1420 [00:42<02:41,  7.02it/s]\u001b[A\n",
            " 20%|██        | 291/1420 [00:42<02:39,  7.08it/s]\u001b[A\n",
            " 21%|██        | 292/1420 [00:42<02:53,  6.50it/s]\u001b[A\n",
            " 21%|██        | 293/1420 [00:42<02:52,  6.55it/s]\u001b[A\n",
            " 21%|██        | 294/1420 [00:42<02:49,  6.63it/s]\u001b[A\n",
            " 21%|██        | 295/1420 [00:43<02:47,  6.72it/s]\u001b[A\n",
            " 21%|██        | 296/1420 [00:43<02:45,  6.78it/s]\u001b[A\n",
            " 21%|██        | 297/1420 [00:43<02:43,  6.85it/s]\u001b[A\n",
            " 21%|██        | 298/1420 [00:43<02:49,  6.61it/s]\u001b[A\n",
            " 21%|██        | 299/1420 [00:43<03:06,  6.02it/s]\u001b[A\n",
            " 21%|██        | 300/1420 [00:43<03:07,  5.99it/s]\u001b[A\n",
            " 21%|██        | 301/1420 [00:44<03:03,  6.11it/s]\u001b[A\n",
            " 21%|██▏       | 302/1420 [00:44<02:57,  6.28it/s]\u001b[A\n",
            " 21%|██▏       | 303/1420 [00:44<02:54,  6.41it/s]\u001b[A\n",
            " 21%|██▏       | 304/1420 [00:44<02:54,  6.41it/s]\u001b[A\n",
            " 21%|██▏       | 305/1420 [00:44<02:51,  6.49it/s]\u001b[A\n",
            " 22%|██▏       | 306/1420 [00:44<02:49,  6.58it/s]\u001b[A\n",
            " 22%|██▏       | 307/1420 [00:44<02:46,  6.69it/s]\u001b[A\n",
            " 22%|██▏       | 308/1420 [00:45<02:45,  6.74it/s]\u001b[A\n",
            " 22%|██▏       | 309/1420 [00:45<02:44,  6.76it/s]\u001b[A\n",
            " 22%|██▏       | 310/1420 [00:45<02:46,  6.65it/s]\u001b[A\n",
            " 22%|██▏       | 311/1420 [00:45<02:50,  6.49it/s]\u001b[A\n",
            " 22%|██▏       | 312/1420 [00:45<02:54,  6.36it/s]\u001b[A\n",
            " 22%|██▏       | 313/1420 [00:45<02:51,  6.45it/s]\u001b[A\n",
            " 22%|██▏       | 314/1420 [00:46<02:48,  6.58it/s]\u001b[A\n",
            " 22%|██▏       | 315/1420 [00:46<02:47,  6.61it/s]\u001b[A\n",
            " 22%|██▏       | 316/1420 [00:46<02:45,  6.67it/s]\u001b[A\n",
            " 22%|██▏       | 317/1420 [00:46<02:49,  6.52it/s]\u001b[A\n",
            " 22%|██▏       | 318/1420 [00:46<02:54,  6.31it/s]\u001b[A\n",
            " 22%|██▏       | 319/1420 [00:46<02:54,  6.30it/s]\u001b[A\n",
            " 23%|██▎       | 320/1420 [00:47<02:57,  6.18it/s]\u001b[A\n",
            " 23%|██▎       | 321/1420 [00:47<03:08,  5.82it/s]\u001b[A\n",
            " 23%|██▎       | 322/1420 [00:47<03:03,  5.97it/s]\u001b[A\n",
            " 23%|██▎       | 323/1420 [00:47<03:01,  6.03it/s]\u001b[A\n",
            " 23%|██▎       | 324/1420 [00:47<02:47,  6.55it/s]\u001b[A\n",
            " 23%|██▎       | 326/1420 [00:47<02:12,  8.28it/s]\u001b[A\n",
            " 23%|██▎       | 328/1420 [00:47<01:57,  9.26it/s]\u001b[A\n",
            " 23%|██▎       | 330/1420 [00:48<01:47, 10.11it/s]\u001b[A\n",
            " 23%|██▎       | 332/1420 [00:48<01:42, 10.60it/s]\u001b[A\n",
            " 24%|██▎       | 334/1420 [00:48<01:38, 11.04it/s]\u001b[A\n",
            " 24%|██▎       | 336/1420 [00:48<01:35, 11.37it/s]\u001b[A\n",
            " 24%|██▍       | 338/1420 [00:48<01:33, 11.60it/s]\u001b[A\n",
            " 24%|██▍       | 340/1420 [00:48<01:33, 11.52it/s]\u001b[A\n",
            " 24%|██▍       | 342/1420 [00:49<01:31, 11.74it/s]\u001b[A\n",
            " 24%|██▍       | 344/1420 [00:49<01:31, 11.82it/s]\u001b[A\n",
            " 24%|██▍       | 346/1420 [00:49<01:30, 11.88it/s]\u001b[A\n",
            " 25%|██▍       | 348/1420 [00:49<01:32, 11.62it/s]\u001b[A\n",
            " 25%|██▍       | 350/1420 [00:49<01:31, 11.68it/s]\u001b[A\n",
            " 25%|██▍       | 352/1420 [00:50<01:32, 11.50it/s]\u001b[A\n",
            " 25%|██▍       | 354/1420 [00:50<01:32, 11.55it/s]\u001b[A\n",
            " 25%|██▌       | 356/1420 [00:50<01:30, 11.74it/s]\u001b[A\n",
            " 25%|██▌       | 358/1420 [00:50<01:30, 11.73it/s]\u001b[A\n",
            " 25%|██▌       | 360/1420 [00:50<01:30, 11.77it/s]\u001b[A\n",
            " 25%|██▌       | 362/1420 [00:50<01:30, 11.73it/s]\u001b[A\n",
            " 26%|██▌       | 364/1420 [00:51<01:32, 11.37it/s]\u001b[A\n",
            " 26%|██▌       | 366/1420 [00:51<01:32, 11.43it/s]\u001b[A\n",
            " 26%|██▌       | 368/1420 [00:51<01:30, 11.62it/s]\u001b[A\n",
            " 26%|██▌       | 370/1420 [00:51<01:30, 11.64it/s]\u001b[A\n",
            " 26%|██▌       | 372/1420 [00:51<01:29, 11.67it/s]\u001b[A\n",
            " 26%|██▋       | 374/1420 [00:51<01:29, 11.75it/s]\u001b[A\n",
            " 26%|██▋       | 376/1420 [00:52<01:30, 11.56it/s]\u001b[A\n",
            " 27%|██▋       | 378/1420 [00:52<01:29, 11.68it/s]\u001b[A\n",
            " 27%|██▋       | 380/1420 [00:52<01:28, 11.70it/s]\u001b[A\n",
            " 27%|██▋       | 382/1420 [00:52<01:28, 11.73it/s]\u001b[A\n",
            " 27%|██▋       | 384/1420 [00:52<01:27, 11.84it/s]\u001b[A\n",
            " 27%|██▋       | 386/1420 [00:52<01:26, 11.93it/s]\u001b[A\n",
            " 27%|██▋       | 388/1420 [00:53<01:28, 11.72it/s]\u001b[A\n",
            " 27%|██▋       | 390/1420 [00:53<01:27, 11.72it/s]\u001b[A\n",
            " 28%|██▊       | 392/1420 [00:53<01:26, 11.86it/s]\u001b[A\n",
            " 28%|██▊       | 394/1420 [00:53<01:26, 11.93it/s]\u001b[A\n",
            " 28%|██▊       | 396/1420 [00:53<01:25, 12.01it/s]\u001b[A\n",
            " 28%|██▊       | 398/1420 [00:53<01:24, 12.06it/s]\u001b[A\n",
            " 28%|██▊       | 400/1420 [00:54<01:24, 12.03it/s]\u001b[A\n",
            " 28%|██▊       | 402/1420 [00:54<01:26, 11.71it/s]\u001b[A\n",
            " 28%|██▊       | 404/1420 [00:54<01:25, 11.85it/s]\u001b[A\n",
            " 29%|██▊       | 406/1420 [00:54<01:25, 11.84it/s]\u001b[A\n",
            " 29%|██▊       | 408/1420 [00:54<01:24, 11.98it/s]\u001b[A\n",
            " 29%|██▉       | 410/1420 [00:54<01:24, 12.02it/s]\u001b[A\n",
            " 29%|██▉       | 412/1420 [00:55<01:23, 12.06it/s]\u001b[A\n",
            " 29%|██▉       | 414/1420 [00:55<01:25, 11.79it/s]\u001b[A\n",
            " 29%|██▉       | 416/1420 [00:55<01:24, 11.91it/s]\u001b[A\n",
            " 29%|██▉       | 418/1420 [00:55<01:25, 11.79it/s]\u001b[A\n",
            " 30%|██▉       | 420/1420 [00:55<01:24, 11.89it/s]\u001b[A\n",
            " 30%|██▉       | 422/1420 [00:55<01:23, 11.96it/s]\u001b[A\n",
            " 30%|██▉       | 424/1420 [00:56<01:22, 12.00it/s]\u001b[A\n",
            " 30%|███       | 426/1420 [00:56<01:25, 11.68it/s]\u001b[A\n",
            " 30%|███       | 428/1420 [00:56<01:24, 11.75it/s]\u001b[A"
          ]
        },
        {
          "output_type": "stream",
          "name": "stdout",
          "text": [
            "Epoch 2 Batch 141/142 [D loss: 0.700709] [G loss:0.728145]\n"
          ]
        },
        {
          "output_type": "stream",
          "name": "stderr",
          "text": [
            "\n",
            " 30%|███       | 430/1420 [00:56<01:24, 11.73it/s]\u001b[A\n",
            " 30%|███       | 432/1420 [00:56<01:23, 11.86it/s]\u001b[A\n",
            " 31%|███       | 434/1420 [00:56<01:23, 11.79it/s]\u001b[A\n",
            " 31%|███       | 436/1420 [00:57<01:23, 11.79it/s]\u001b[A\n",
            " 31%|███       | 438/1420 [00:57<01:26, 11.34it/s]\u001b[A\n",
            " 31%|███       | 440/1420 [00:57<01:32, 10.58it/s]\u001b[A\n",
            " 31%|███       | 442/1420 [00:57<01:37, 10.03it/s]\u001b[A\n",
            " 31%|███▏      | 444/1420 [00:58<01:48,  9.02it/s]\u001b[A\n",
            " 31%|███▏      | 445/1420 [00:58<01:51,  8.71it/s]\u001b[A\n",
            " 31%|███▏      | 446/1420 [00:58<02:07,  7.63it/s]\u001b[A\n",
            " 31%|███▏      | 447/1420 [00:58<02:10,  7.47it/s]\u001b[A\n",
            " 32%|███▏      | 448/1420 [00:58<02:10,  7.44it/s]\u001b[A\n",
            " 32%|███▏      | 449/1420 [00:58<02:09,  7.48it/s]\u001b[A\n",
            " 32%|███▏      | 450/1420 [00:58<02:09,  7.51it/s]\u001b[A\n",
            " 32%|███▏      | 451/1420 [00:59<02:08,  7.53it/s]\u001b[A\n",
            " 32%|███▏      | 452/1420 [00:59<02:08,  7.52it/s]\u001b[A\n",
            " 32%|███▏      | 453/1420 [00:59<02:13,  7.26it/s]\u001b[A\n",
            " 32%|███▏      | 454/1420 [00:59<02:13,  7.25it/s]\u001b[A\n",
            " 32%|███▏      | 455/1420 [00:59<02:13,  7.23it/s]\u001b[A\n",
            " 32%|███▏      | 456/1420 [00:59<02:16,  7.04it/s]\u001b[A\n",
            " 32%|███▏      | 457/1420 [00:59<02:18,  6.93it/s]\u001b[A\n",
            " 32%|███▏      | 458/1420 [01:00<02:16,  7.03it/s]\u001b[A\n",
            " 32%|███▏      | 459/1420 [01:00<02:19,  6.90it/s]\u001b[A\n",
            " 32%|███▏      | 460/1420 [01:00<02:23,  6.69it/s]\u001b[A\n",
            " 32%|███▏      | 461/1420 [01:00<02:22,  6.71it/s]\u001b[A\n",
            " 33%|███▎      | 462/1420 [01:00<02:25,  6.58it/s]\u001b[A\n",
            " 33%|███▎      | 463/1420 [01:00<02:24,  6.64it/s]\u001b[A\n",
            " 33%|███▎      | 464/1420 [01:00<02:26,  6.52it/s]\u001b[A\n",
            " 33%|███▎      | 465/1420 [01:01<02:24,  6.63it/s]\u001b[A\n",
            " 33%|███▎      | 466/1420 [01:01<02:22,  6.71it/s]\u001b[A\n",
            " 33%|███▎      | 467/1420 [01:01<02:24,  6.59it/s]\u001b[A\n",
            " 33%|███▎      | 468/1420 [01:01<02:23,  6.64it/s]\u001b[A\n",
            " 33%|███▎      | 469/1420 [01:01<02:19,  6.81it/s]\u001b[A\n",
            " 33%|███▎      | 470/1420 [01:01<02:17,  6.91it/s]\u001b[A\n",
            " 33%|███▎      | 471/1420 [01:01<02:16,  6.97it/s]\u001b[A\n",
            " 33%|███▎      | 472/1420 [01:02<02:14,  7.03it/s]\u001b[A\n",
            " 33%|███▎      | 473/1420 [01:02<02:15,  6.98it/s]\u001b[A\n",
            " 33%|███▎      | 474/1420 [01:02<02:14,  7.03it/s]\u001b[A\n",
            " 33%|███▎      | 475/1420 [01:02<02:18,  6.81it/s]\u001b[A\n",
            " 34%|███▎      | 476/1420 [01:02<02:17,  6.89it/s]\u001b[A\n",
            " 34%|███▎      | 477/1420 [01:02<02:15,  6.95it/s]\u001b[A\n",
            " 34%|███▎      | 478/1420 [01:02<02:14,  7.01it/s]\u001b[A\n",
            " 34%|███▎      | 479/1420 [01:03<02:14,  7.01it/s]\u001b[A\n",
            " 34%|███▍      | 480/1420 [01:03<02:15,  6.96it/s]\u001b[A\n",
            " 34%|███▍      | 481/1420 [01:03<02:17,  6.81it/s]\u001b[A\n",
            " 34%|███▍      | 482/1420 [01:03<02:23,  6.55it/s]\u001b[A\n",
            " 34%|███▍      | 483/1420 [01:03<02:22,  6.58it/s]\u001b[A\n",
            " 34%|███▍      | 484/1420 [01:03<02:18,  6.74it/s]\u001b[A\n",
            " 34%|███▍      | 485/1420 [01:04<02:17,  6.81it/s]\u001b[A\n",
            " 34%|███▍      | 486/1420 [01:04<02:20,  6.67it/s]\u001b[A\n",
            " 34%|███▍      | 487/1420 [01:04<02:18,  6.74it/s]\u001b[A\n",
            " 34%|███▍      | 488/1420 [01:04<02:16,  6.83it/s]\u001b[A\n",
            " 34%|███▍      | 489/1420 [01:04<02:23,  6.47it/s]\u001b[A\n",
            " 35%|███▍      | 490/1420 [01:04<02:22,  6.52it/s]\u001b[A\n",
            " 35%|███▍      | 491/1420 [01:04<02:22,  6.51it/s]\u001b[A\n",
            " 35%|███▍      | 492/1420 [01:05<02:20,  6.59it/s]\u001b[A\n",
            " 35%|███▍      | 493/1420 [01:05<02:19,  6.64it/s]\u001b[A\n",
            " 35%|███▍      | 494/1420 [01:05<02:20,  6.59it/s]\u001b[A\n",
            " 35%|███▍      | 495/1420 [01:05<02:20,  6.57it/s]\u001b[A\n",
            " 35%|███▍      | 496/1420 [01:05<02:20,  6.60it/s]\u001b[A\n",
            " 35%|███▌      | 497/1420 [01:05<02:05,  7.33it/s]\u001b[A\n",
            " 35%|███▌      | 499/1420 [01:05<01:42,  8.96it/s]\u001b[A\n",
            " 35%|███▌      | 500/1420 [01:06<01:45,  8.73it/s]\u001b[A\n",
            " 35%|███▌      | 502/1420 [01:06<01:33,  9.84it/s]\u001b[A\n",
            " 35%|███▌      | 504/1420 [01:06<01:26, 10.58it/s]\u001b[A\n",
            " 36%|███▌      | 506/1420 [01:06<01:22, 11.04it/s]\u001b[A\n",
            " 36%|███▌      | 508/1420 [01:06<01:21, 11.15it/s]\u001b[A\n",
            " 36%|███▌      | 510/1420 [01:06<01:21, 11.11it/s]\u001b[A\n",
            " 36%|███▌      | 512/1420 [01:07<01:20, 11.33it/s]\u001b[A\n",
            " 36%|███▌      | 514/1420 [01:07<01:18, 11.57it/s]\u001b[A\n",
            " 36%|███▋      | 516/1420 [01:07<01:17, 11.66it/s]\u001b[A\n",
            " 36%|███▋      | 518/1420 [01:07<01:17, 11.65it/s]\u001b[A\n",
            " 37%|███▋      | 520/1420 [01:07<01:22, 10.90it/s]\u001b[A\n",
            " 37%|███▋      | 522/1420 [01:07<01:19, 11.26it/s]\u001b[A\n",
            " 37%|███▋      | 524/1420 [01:08<01:18, 11.47it/s]\u001b[A\n",
            " 37%|███▋      | 526/1420 [01:08<01:17, 11.60it/s]\u001b[A\n",
            " 37%|███▋      | 528/1420 [01:08<01:16, 11.68it/s]\u001b[A\n",
            " 37%|███▋      | 530/1420 [01:08<01:15, 11.76it/s]\u001b[A\n",
            " 37%|███▋      | 532/1420 [01:08<01:16, 11.66it/s]\u001b[A\n",
            " 38%|███▊      | 534/1420 [01:09<01:15, 11.67it/s]\u001b[A\n",
            " 38%|███▊      | 536/1420 [01:09<01:15, 11.65it/s]\u001b[A\n",
            " 38%|███▊      | 538/1420 [01:09<01:14, 11.77it/s]\u001b[A\n",
            " 38%|███▊      | 540/1420 [01:09<01:14, 11.83it/s]\u001b[A\n",
            " 38%|███▊      | 542/1420 [01:09<01:14, 11.86it/s]\u001b[A\n",
            " 38%|███▊      | 544/1420 [01:09<01:14, 11.73it/s]\u001b[A\n",
            " 38%|███▊      | 546/1420 [01:10<01:15, 11.64it/s]\u001b[A\n",
            " 39%|███▊      | 548/1420 [01:10<01:14, 11.75it/s]\u001b[A\n",
            " 39%|███▊      | 550/1420 [01:10<01:13, 11.77it/s]\u001b[A\n",
            " 39%|███▉      | 552/1420 [01:10<01:13, 11.77it/s]\u001b[A\n",
            " 39%|███▉      | 554/1420 [01:10<01:13, 11.84it/s]\u001b[A\n",
            " 39%|███▉      | 556/1420 [01:10<01:13, 11.70it/s]\u001b[A\n",
            " 39%|███▉      | 558/1420 [01:11<01:14, 11.63it/s]\u001b[A\n",
            " 39%|███▉      | 560/1420 [01:11<01:13, 11.64it/s]\u001b[A\n",
            " 40%|███▉      | 562/1420 [01:11<01:13, 11.74it/s]\u001b[A\n",
            " 40%|███▉      | 564/1420 [01:11<01:13, 11.70it/s]\u001b[A\n",
            " 40%|███▉      | 566/1420 [01:11<01:12, 11.77it/s]\u001b[A\n",
            " 40%|████      | 568/1420 [01:11<01:13, 11.60it/s]\u001b[A\n",
            " 40%|████      | 570/1420 [01:12<01:12, 11.68it/s]\u001b[A"
          ]
        },
        {
          "output_type": "stream",
          "name": "stdout",
          "text": [
            "Epoch 3 Batch 141/142 [D loss: 0.701613] [G loss:0.728715]\n"
          ]
        },
        {
          "output_type": "stream",
          "name": "stderr",
          "text": [
            "\n",
            " 40%|████      | 572/1420 [01:12<01:12, 11.67it/s]\u001b[A\n",
            " 40%|████      | 574/1420 [01:12<01:12, 11.74it/s]\u001b[A\n",
            " 41%|████      | 576/1420 [01:12<01:12, 11.66it/s]\u001b[A\n",
            " 41%|████      | 578/1420 [01:12<01:11, 11.78it/s]\u001b[A\n",
            " 41%|████      | 580/1420 [01:12<01:12, 11.53it/s]\u001b[A\n",
            " 41%|████      | 582/1420 [01:13<01:12, 11.52it/s]\u001b[A\n",
            " 41%|████      | 584/1420 [01:13<01:11, 11.64it/s]\u001b[A\n",
            " 41%|████▏     | 586/1420 [01:13<01:13, 11.40it/s]\u001b[A\n",
            " 41%|████▏     | 588/1420 [01:13<01:17, 10.77it/s]\u001b[A\n",
            " 42%|████▏     | 590/1420 [01:13<01:15, 10.93it/s]\u001b[A\n",
            " 42%|████▏     | 592/1420 [01:14<01:15, 11.01it/s]\u001b[A\n",
            " 42%|████▏     | 594/1420 [01:14<01:13, 11.31it/s]\u001b[A\n",
            " 42%|████▏     | 596/1420 [01:14<01:12, 11.42it/s]\u001b[A\n",
            " 42%|████▏     | 598/1420 [01:14<01:11, 11.58it/s]\u001b[A\n",
            " 42%|████▏     | 600/1420 [01:14<01:09, 11.74it/s]\u001b[A\n",
            " 42%|████▏     | 602/1420 [01:14<01:11, 11.52it/s]\u001b[A\n",
            " 43%|████▎     | 604/1420 [01:15<01:09, 11.67it/s]\u001b[A\n",
            " 43%|████▎     | 606/1420 [01:15<01:09, 11.75it/s]\u001b[A\n",
            " 43%|████▎     | 608/1420 [01:15<01:09, 11.76it/s]\u001b[A\n",
            " 43%|████▎     | 610/1420 [01:15<01:08, 11.74it/s]\u001b[A\n",
            " 43%|████▎     | 612/1420 [01:15<01:10, 11.44it/s]\u001b[A\n",
            " 43%|████▎     | 614/1420 [01:16<01:29,  9.03it/s]\u001b[A\n",
            " 43%|████▎     | 615/1420 [01:16<01:33,  8.61it/s]\u001b[A\n",
            " 43%|████▎     | 616/1420 [01:16<01:38,  8.19it/s]\u001b[A\n",
            " 43%|████▎     | 617/1420 [01:16<01:42,  7.80it/s]\u001b[A\n",
            " 44%|████▎     | 618/1420 [01:16<01:45,  7.59it/s]\u001b[A\n",
            " 44%|████▎     | 619/1420 [01:16<01:46,  7.50it/s]\u001b[A\n",
            " 44%|████▎     | 620/1420 [01:16<01:46,  7.52it/s]\u001b[A\n",
            " 44%|████▎     | 621/1420 [01:17<01:47,  7.42it/s]\u001b[A\n",
            " 44%|████▍     | 622/1420 [01:17<01:46,  7.52it/s]\u001b[A\n",
            " 44%|████▍     | 623/1420 [01:17<01:45,  7.57it/s]\u001b[A\n",
            " 44%|████▍     | 624/1420 [01:17<01:51,  7.15it/s]\u001b[A\n",
            " 44%|████▍     | 625/1420 [01:17<01:51,  7.13it/s]\u001b[A\n",
            " 44%|████▍     | 626/1420 [01:17<01:49,  7.23it/s]\u001b[A\n",
            " 44%|████▍     | 627/1420 [01:17<01:49,  7.23it/s]\u001b[A\n",
            " 44%|████▍     | 628/1420 [01:18<01:52,  7.04it/s]\u001b[A\n",
            " 44%|████▍     | 629/1420 [01:18<01:53,  6.98it/s]\u001b[A\n",
            " 44%|████▍     | 630/1420 [01:18<01:53,  6.93it/s]\u001b[A\n",
            " 44%|████▍     | 631/1420 [01:18<01:56,  6.79it/s]\u001b[A\n",
            " 45%|████▍     | 632/1420 [01:18<01:56,  6.77it/s]\u001b[A\n",
            " 45%|████▍     | 633/1420 [01:18<01:54,  6.85it/s]\u001b[A\n",
            " 45%|████▍     | 634/1420 [01:18<01:53,  6.91it/s]\u001b[A\n",
            " 45%|████▍     | 635/1420 [01:19<02:00,  6.53it/s]\u001b[A\n",
            " 45%|████▍     | 636/1420 [01:19<01:56,  6.72it/s]\u001b[A\n",
            " 45%|████▍     | 637/1420 [01:19<01:54,  6.84it/s]\u001b[A\n",
            " 45%|████▍     | 638/1420 [01:19<01:55,  6.77it/s]\u001b[A\n",
            " 45%|████▌     | 639/1420 [01:19<01:57,  6.67it/s]\u001b[A\n",
            " 45%|████▌     | 640/1420 [01:19<01:58,  6.59it/s]\u001b[A\n",
            " 45%|████▌     | 641/1420 [01:19<01:57,  6.61it/s]\u001b[A\n",
            " 45%|████▌     | 642/1420 [01:20<01:59,  6.48it/s]\u001b[A\n",
            " 45%|████▌     | 643/1420 [01:20<01:57,  6.63it/s]\u001b[A\n",
            " 45%|████▌     | 644/1420 [01:20<01:56,  6.67it/s]\u001b[A\n",
            " 45%|████▌     | 645/1420 [01:20<01:54,  6.76it/s]\u001b[A\n",
            " 45%|████▌     | 646/1420 [01:20<01:53,  6.82it/s]\u001b[A\n",
            " 46%|████▌     | 647/1420 [01:20<01:52,  6.89it/s]\u001b[A\n",
            " 46%|████▌     | 648/1420 [01:21<01:54,  6.76it/s]\u001b[A\n",
            " 46%|████▌     | 649/1420 [01:21<01:57,  6.59it/s]\u001b[A\n",
            " 46%|████▌     | 650/1420 [01:21<01:55,  6.68it/s]\u001b[A\n",
            " 46%|████▌     | 651/1420 [01:21<01:55,  6.68it/s]\u001b[A\n",
            " 46%|████▌     | 652/1420 [01:21<01:55,  6.65it/s]\u001b[A\n",
            " 46%|████▌     | 653/1420 [01:21<01:53,  6.75it/s]\u001b[A\n",
            " 46%|████▌     | 654/1420 [01:21<01:52,  6.80it/s]\u001b[A\n",
            " 46%|████▌     | 655/1420 [01:22<01:51,  6.87it/s]\u001b[A\n",
            " 46%|████▌     | 656/1420 [01:22<01:53,  6.72it/s]\u001b[A\n",
            " 46%|████▋     | 657/1420 [01:22<01:55,  6.63it/s]\u001b[A\n",
            " 46%|████▋     | 658/1420 [01:22<01:53,  6.72it/s]\u001b[A\n",
            " 46%|████▋     | 659/1420 [01:22<01:53,  6.71it/s]\u001b[A\n",
            " 46%|████▋     | 660/1420 [01:22<01:53,  6.71it/s]\u001b[A\n",
            " 47%|████▋     | 661/1420 [01:22<01:52,  6.73it/s]\u001b[A\n",
            " 47%|████▋     | 662/1420 [01:23<01:51,  6.80it/s]\u001b[A\n",
            " 47%|████▋     | 663/1420 [01:23<01:50,  6.84it/s]\u001b[A\n",
            " 47%|████▋     | 664/1420 [01:23<01:56,  6.50it/s]\u001b[A\n",
            " 47%|████▋     | 665/1420 [01:23<01:55,  6.54it/s]\u001b[A\n",
            " 47%|████▋     | 666/1420 [01:23<01:51,  6.74it/s]\u001b[A\n",
            " 47%|████▋     | 668/1420 [01:23<01:30,  8.34it/s]\u001b[A\n",
            " 47%|████▋     | 670/1420 [01:24<01:18,  9.52it/s]\u001b[A\n",
            " 47%|████▋     | 672/1420 [01:24<01:12, 10.26it/s]\u001b[A\n",
            " 47%|████▋     | 674/1420 [01:24<01:10, 10.63it/s]\u001b[A\n",
            " 48%|████▊     | 676/1420 [01:24<01:07, 10.98it/s]\u001b[A\n",
            " 48%|████▊     | 678/1420 [01:24<01:05, 11.35it/s]\u001b[A\n",
            " 48%|████▊     | 680/1420 [01:24<01:04, 11.50it/s]\u001b[A\n",
            " 48%|████▊     | 682/1420 [01:25<01:04, 11.53it/s]\u001b[A\n",
            " 48%|████▊     | 684/1420 [01:25<01:03, 11.68it/s]\u001b[A\n",
            " 48%|████▊     | 686/1420 [01:25<01:05, 11.21it/s]\u001b[A\n",
            " 48%|████▊     | 688/1420 [01:25<01:04, 11.30it/s]\u001b[A\n",
            " 49%|████▊     | 690/1420 [01:25<01:03, 11.56it/s]\u001b[A\n",
            " 49%|████▊     | 692/1420 [01:25<01:02, 11.66it/s]\u001b[A\n",
            " 49%|████▉     | 694/1420 [01:26<01:02, 11.61it/s]\u001b[A\n",
            " 49%|████▉     | 696/1420 [01:26<01:03, 11.41it/s]\u001b[A\n",
            " 49%|████▉     | 698/1420 [01:26<01:06, 10.80it/s]\u001b[A\n",
            " 49%|████▉     | 700/1420 [01:26<01:04, 11.10it/s]\u001b[A\n",
            " 49%|████▉     | 702/1420 [01:26<01:03, 11.33it/s]\u001b[A\n",
            " 50%|████▉     | 704/1420 [01:27<01:02, 11.50it/s]\u001b[A\n",
            " 50%|████▉     | 706/1420 [01:27<01:01, 11.63it/s]\u001b[A\n",
            " 50%|████▉     | 708/1420 [01:27<01:01, 11.60it/s]\u001b[A\n",
            " 50%|█████     | 710/1420 [01:27<01:02, 11.31it/s]\u001b[A\n",
            " 50%|█████     | 712/1420 [01:27<01:02, 11.33it/s]\u001b[A"
          ]
        },
        {
          "output_type": "stream",
          "name": "stdout",
          "text": [
            "Epoch 4 Batch 141/142 [D loss: 0.700195] [G loss:0.729638]\n"
          ]
        },
        {
          "output_type": "stream",
          "name": "stderr",
          "text": [
            "\n",
            " 50%|█████     | 714/1420 [01:27<01:01, 11.50it/s]\u001b[A\n",
            " 50%|█████     | 716/1420 [01:28<01:00, 11.62it/s]\u001b[A\n",
            " 51%|█████     | 718/1420 [01:28<01:00, 11.68it/s]\u001b[A\n",
            " 51%|█████     | 720/1420 [01:28<00:59, 11.79it/s]\u001b[A\n",
            " 51%|█████     | 722/1420 [01:28<01:00, 11.45it/s]\u001b[A\n",
            " 51%|█████     | 724/1420 [01:28<00:59, 11.63it/s]\u001b[A\n",
            " 51%|█████     | 726/1420 [01:28<00:59, 11.71it/s]\u001b[A\n",
            " 51%|█████▏    | 728/1420 [01:29<01:00, 11.48it/s]\u001b[A\n",
            " 51%|█████▏    | 730/1420 [01:29<00:59, 11.65it/s]\u001b[A\n",
            " 52%|█████▏    | 732/1420 [01:29<00:58, 11.75it/s]\u001b[A\n",
            " 52%|█████▏    | 734/1420 [01:29<00:59, 11.51it/s]\u001b[A\n",
            " 52%|█████▏    | 736/1420 [01:29<00:58, 11.67it/s]\u001b[A\n",
            " 52%|█████▏    | 738/1420 [01:29<00:58, 11.74it/s]\u001b[A\n",
            " 52%|█████▏    | 740/1420 [01:30<00:57, 11.81it/s]\u001b[A\n",
            " 52%|█████▏    | 742/1420 [01:30<00:57, 11.85it/s]\u001b[A\n",
            " 52%|█████▏    | 744/1420 [01:30<00:56, 11.92it/s]\u001b[A\n",
            " 53%|█████▎    | 746/1420 [01:30<00:58, 11.54it/s]\u001b[A\n",
            " 53%|█████▎    | 748/1420 [01:30<00:57, 11.63it/s]\u001b[A\n",
            " 53%|█████▎    | 750/1420 [01:30<00:57, 11.73it/s]\u001b[A\n",
            " 53%|█████▎    | 752/1420 [01:31<00:56, 11.85it/s]\u001b[A\n",
            " 53%|█████▎    | 754/1420 [01:31<00:56, 11.75it/s]\u001b[A\n",
            " 53%|█████▎    | 756/1420 [01:31<00:56, 11.82it/s]\u001b[A\n",
            " 53%|█████▎    | 758/1420 [01:31<01:00, 10.89it/s]\u001b[A\n",
            " 54%|█████▎    | 760/1420 [01:31<00:59, 11.09it/s]\u001b[A\n",
            " 54%|█████▎    | 762/1420 [01:32<00:59, 11.08it/s]\u001b[A\n",
            " 54%|█████▍    | 764/1420 [01:32<00:57, 11.32it/s]\u001b[A\n",
            " 54%|█████▍    | 766/1420 [01:32<00:56, 11.52it/s]\u001b[A\n",
            " 54%|█████▍    | 768/1420 [01:32<00:56, 11.63it/s]\u001b[A\n",
            " 54%|█████▍    | 770/1420 [01:32<00:56, 11.41it/s]\u001b[A\n",
            " 54%|█████▍    | 772/1420 [01:32<00:56, 11.57it/s]\u001b[A\n",
            " 55%|█████▍    | 774/1420 [01:33<00:55, 11.71it/s]\u001b[A\n",
            " 55%|█████▍    | 776/1420 [01:33<00:54, 11.84it/s]\u001b[A\n",
            " 55%|█████▍    | 778/1420 [01:33<00:53, 11.90it/s]\u001b[A\n",
            " 55%|█████▍    | 780/1420 [01:33<00:54, 11.79it/s]\u001b[A\n",
            " 55%|█████▌    | 782/1420 [01:33<00:54, 11.66it/s]\u001b[A\n",
            " 55%|█████▌    | 784/1420 [01:33<01:02, 10.10it/s]\u001b[A\n",
            " 55%|█████▌    | 786/1420 [01:34<01:10,  9.00it/s]\u001b[A\n",
            " 55%|█████▌    | 787/1420 [01:34<01:14,  8.50it/s]\u001b[A\n",
            " 55%|█████▌    | 788/1420 [01:34<01:18,  8.04it/s]\u001b[A\n",
            " 56%|█████▌    | 789/1420 [01:34<01:22,  7.66it/s]\u001b[A\n",
            " 56%|█████▌    | 790/1420 [01:34<01:21,  7.71it/s]\u001b[A\n",
            " 56%|█████▌    | 791/1420 [01:34<01:22,  7.60it/s]\u001b[A\n",
            " 56%|█████▌    | 792/1420 [01:35<01:23,  7.54it/s]\u001b[A\n",
            " 56%|█████▌    | 793/1420 [01:35<01:24,  7.43it/s]\u001b[A\n",
            " 56%|█████▌    | 794/1420 [01:35<01:26,  7.27it/s]\u001b[A\n",
            " 56%|█████▌    | 795/1420 [01:35<01:31,  6.85it/s]\u001b[A\n",
            " 56%|█████▌    | 796/1420 [01:35<01:29,  6.95it/s]\u001b[A\n",
            " 56%|█████▌    | 797/1420 [01:35<01:28,  7.01it/s]\u001b[A\n",
            " 56%|█████▌    | 798/1420 [01:35<01:27,  7.10it/s]\u001b[A\n",
            " 56%|█████▋    | 799/1420 [01:36<01:28,  7.04it/s]\u001b[A\n",
            " 56%|█████▋    | 800/1420 [01:36<01:37,  6.37it/s]\u001b[A\n",
            " 56%|█████▋    | 801/1420 [01:36<01:35,  6.51it/s]\u001b[A\n",
            " 56%|█████▋    | 802/1420 [01:36<01:37,  6.34it/s]\u001b[A\n",
            " 57%|█████▋    | 803/1420 [01:36<01:40,  6.16it/s]\u001b[A\n",
            " 57%|█████▋    | 804/1420 [01:36<01:35,  6.42it/s]\u001b[A\n",
            " 57%|█████▋    | 805/1420 [01:37<01:32,  6.62it/s]\u001b[A\n",
            " 57%|█████▋    | 806/1420 [01:37<01:34,  6.51it/s]\u001b[A\n",
            " 57%|█████▋    | 807/1420 [01:37<01:30,  6.75it/s]\u001b[A\n",
            " 57%|█████▋    | 808/1420 [01:37<01:31,  6.72it/s]\u001b[A\n",
            " 57%|█████▋    | 809/1420 [01:37<01:30,  6.77it/s]\u001b[A\n",
            " 57%|█████▋    | 810/1420 [01:37<01:29,  6.79it/s]\u001b[A\n",
            " 57%|█████▋    | 811/1420 [01:37<01:28,  6.85it/s]\u001b[A\n",
            " 57%|█████▋    | 812/1420 [01:38<01:29,  6.82it/s]\u001b[A\n",
            " 57%|█████▋    | 813/1420 [01:38<01:29,  6.77it/s]\u001b[A\n",
            " 57%|█████▋    | 814/1420 [01:38<01:29,  6.76it/s]\u001b[A\n",
            " 57%|█████▋    | 815/1420 [01:38<01:30,  6.70it/s]\u001b[A\n",
            " 57%|█████▋    | 816/1420 [01:38<01:30,  6.68it/s]\u001b[A\n",
            " 58%|█████▊    | 817/1420 [01:38<01:32,  6.52it/s]\u001b[A\n",
            " 58%|█████▊    | 818/1420 [01:39<01:32,  6.54it/s]\u001b[A\n",
            " 58%|█████▊    | 819/1420 [01:39<01:31,  6.60it/s]\u001b[A\n",
            " 58%|█████▊    | 820/1420 [01:39<01:30,  6.61it/s]\u001b[A\n",
            " 58%|█████▊    | 821/1420 [01:39<01:30,  6.59it/s]\u001b[A\n",
            " 58%|█████▊    | 822/1420 [01:39<01:31,  6.54it/s]\u001b[A\n",
            " 58%|█████▊    | 823/1420 [01:39<01:30,  6.60it/s]\u001b[A\n",
            " 58%|█████▊    | 824/1420 [01:39<01:30,  6.57it/s]\u001b[A\n",
            " 58%|█████▊    | 825/1420 [01:40<01:29,  6.65it/s]\u001b[A\n",
            " 58%|█████▊    | 826/1420 [01:40<01:28,  6.69it/s]\u001b[A\n",
            " 58%|█████▊    | 827/1420 [01:40<01:27,  6.74it/s]\u001b[A\n",
            " 58%|█████▊    | 828/1420 [01:40<01:27,  6.77it/s]\u001b[A\n",
            " 58%|█████▊    | 829/1420 [01:40<01:28,  6.71it/s]\u001b[A\n",
            " 58%|█████▊    | 830/1420 [01:40<01:28,  6.67it/s]\u001b[A\n",
            " 59%|█████▊    | 831/1420 [01:40<01:29,  6.59it/s]\u001b[A\n",
            " 59%|█████▊    | 832/1420 [01:41<01:29,  6.60it/s]\u001b[A\n",
            " 59%|█████▊    | 833/1420 [01:41<01:29,  6.59it/s]\u001b[A\n",
            " 59%|█████▊    | 834/1420 [01:41<01:27,  6.69it/s]\u001b[A\n",
            " 59%|█████▉    | 835/1420 [01:41<01:28,  6.63it/s]\u001b[A\n",
            " 59%|█████▉    | 836/1420 [01:41<01:28,  6.62it/s]\u001b[A\n",
            " 59%|█████▉    | 838/1420 [01:41<01:10,  8.24it/s]\u001b[A\n",
            " 59%|█████▉    | 839/1420 [01:42<01:11,  8.16it/s]\u001b[A\n",
            " 59%|█████▉    | 841/1420 [01:42<01:01,  9.40it/s]\u001b[A\n",
            " 59%|█████▉    | 843/1420 [01:42<00:56, 10.24it/s]\u001b[A\n",
            " 60%|█████▉    | 845/1420 [01:42<00:53, 10.80it/s]\u001b[A\n",
            " 60%|█████▉    | 847/1420 [01:42<00:52, 10.99it/s]\u001b[A\n",
            " 60%|█████▉    | 849/1420 [01:42<00:50, 11.27it/s]\u001b[A\n",
            " 60%|█████▉    | 851/1420 [01:43<00:50, 11.17it/s]\u001b[A\n",
            " 60%|██████    | 853/1420 [01:43<00:49, 11.43it/s]\u001b[A\n",
            " 60%|██████    | 855/1420 [01:43<00:48, 11.62it/s]\u001b[A"
          ]
        },
        {
          "output_type": "stream",
          "name": "stdout",
          "text": [
            "Epoch 5 Batch 141/142 [D loss: 0.698460] [G loss:0.732451]\n"
          ]
        },
        {
          "output_type": "stream",
          "name": "stderr",
          "text": [
            "\n",
            " 60%|██████    | 857/1420 [01:43<00:48, 11.63it/s]\u001b[A\n",
            " 60%|██████    | 859/1420 [01:43<00:47, 11.75it/s]\u001b[A\n",
            " 61%|██████    | 861/1420 [01:43<00:47, 11.87it/s]\u001b[A\n",
            " 61%|██████    | 863/1420 [01:44<00:47, 11.73it/s]\u001b[A\n",
            " 61%|██████    | 865/1420 [01:44<00:47, 11.80it/s]\u001b[A\n",
            " 61%|██████    | 867/1420 [01:44<00:46, 11.86it/s]\u001b[A\n",
            " 61%|██████    | 869/1420 [01:44<00:46, 11.91it/s]\u001b[A\n",
            " 61%|██████▏   | 871/1420 [01:44<00:46, 11.88it/s]\u001b[A\n",
            " 61%|██████▏   | 873/1420 [01:44<00:45, 11.93it/s]\u001b[A\n",
            " 62%|██████▏   | 875/1420 [01:45<00:46, 11.74it/s]\u001b[A\n",
            " 62%|██████▏   | 877/1420 [01:45<00:45, 11.81it/s]\u001b[A\n",
            " 62%|██████▏   | 879/1420 [01:45<00:45, 11.90it/s]\u001b[A\n",
            " 62%|██████▏   | 881/1420 [01:45<00:45, 11.78it/s]\u001b[A\n",
            " 62%|██████▏   | 883/1420 [01:45<00:45, 11.91it/s]\u001b[A\n",
            " 62%|██████▏   | 885/1420 [01:45<00:44, 11.96it/s]\u001b[A\n",
            " 62%|██████▏   | 887/1420 [01:46<00:44, 12.03it/s]\u001b[A\n",
            " 63%|██████▎   | 889/1420 [01:46<00:45, 11.69it/s]\u001b[A\n",
            " 63%|██████▎   | 891/1420 [01:46<00:44, 11.79it/s]\u001b[A\n",
            " 63%|██████▎   | 893/1420 [01:46<00:44, 11.79it/s]\u001b[A\n",
            " 63%|██████▎   | 895/1420 [01:46<00:44, 11.88it/s]\u001b[A\n",
            " 63%|██████▎   | 897/1420 [01:46<00:43, 11.95it/s]\u001b[A\n",
            " 63%|██████▎   | 899/1420 [01:47<00:43, 11.96it/s]\u001b[A\n",
            " 63%|██████▎   | 901/1420 [01:47<00:44, 11.75it/s]\u001b[A\n",
            " 64%|██████▎   | 903/1420 [01:47<00:44, 11.73it/s]\u001b[A\n",
            " 64%|██████▎   | 905/1420 [01:47<00:44, 11.69it/s]\u001b[A\n",
            " 64%|██████▍   | 907/1420 [01:47<00:43, 11.84it/s]\u001b[A\n",
            " 64%|██████▍   | 909/1420 [01:47<00:43, 11.87it/s]\u001b[A\n",
            " 64%|██████▍   | 911/1420 [01:48<00:42, 11.87it/s]\u001b[A\n",
            " 64%|██████▍   | 913/1420 [01:48<00:43, 11.71it/s]\u001b[A\n",
            " 64%|██████▍   | 915/1420 [01:48<00:42, 11.79it/s]\u001b[A\n",
            " 65%|██████▍   | 917/1420 [01:48<00:42, 11.77it/s]\u001b[A\n",
            " 65%|██████▍   | 919/1420 [01:48<00:42, 11.88it/s]\u001b[A\n",
            " 65%|██████▍   | 921/1420 [01:48<00:41, 11.93it/s]\u001b[A\n",
            " 65%|██████▌   | 923/1420 [01:49<00:41, 12.07it/s]\u001b[A\n",
            " 65%|██████▌   | 925/1420 [01:49<00:41, 11.83it/s]\u001b[A\n",
            " 65%|██████▌   | 927/1420 [01:49<00:42, 11.72it/s]\u001b[A\n",
            " 65%|██████▌   | 929/1420 [01:49<00:42, 11.59it/s]\u001b[A\n",
            " 66%|██████▌   | 931/1420 [01:49<00:42, 11.60it/s]\u001b[A\n",
            " 66%|██████▌   | 933/1420 [01:50<00:42, 11.51it/s]\u001b[A\n",
            " 66%|██████▌   | 935/1420 [01:50<00:41, 11.59it/s]\u001b[A\n",
            " 66%|██████▌   | 937/1420 [01:50<00:42, 11.49it/s]\u001b[A\n",
            " 66%|██████▌   | 939/1420 [01:50<00:41, 11.64it/s]\u001b[A\n",
            " 66%|██████▋   | 941/1420 [01:50<00:40, 11.70it/s]\u001b[A\n",
            " 66%|██████▋   | 943/1420 [01:50<00:40, 11.79it/s]\u001b[A\n",
            " 67%|██████▋   | 945/1420 [01:51<00:40, 11.71it/s]\u001b[A\n",
            " 67%|██████▋   | 947/1420 [01:51<00:40, 11.75it/s]\u001b[A\n",
            " 67%|██████▋   | 949/1420 [01:51<00:41, 11.36it/s]\u001b[A\n",
            " 67%|██████▋   | 951/1420 [01:51<00:40, 11.52it/s]\u001b[A\n",
            " 67%|██████▋   | 953/1420 [01:51<00:40, 11.55it/s]\u001b[A\n",
            " 67%|██████▋   | 955/1420 [01:51<00:44, 10.46it/s]\u001b[A\n",
            " 67%|██████▋   | 957/1420 [01:52<00:51,  8.95it/s]\u001b[A\n",
            " 67%|██████▋   | 958/1420 [01:52<00:55,  8.34it/s]\u001b[A\n",
            " 68%|██████▊   | 959/1420 [01:52<00:56,  8.09it/s]\u001b[A\n",
            " 68%|██████▊   | 960/1420 [01:52<00:58,  7.87it/s]\u001b[A\n",
            " 68%|██████▊   | 961/1420 [01:52<00:58,  7.81it/s]\u001b[A\n",
            " 68%|██████▊   | 962/1420 [01:52<01:02,  7.35it/s]\u001b[A\n",
            " 68%|██████▊   | 963/1420 [01:53<01:02,  7.28it/s]\u001b[A\n",
            " 68%|██████▊   | 964/1420 [01:53<01:04,  7.09it/s]\u001b[A\n",
            " 68%|██████▊   | 965/1420 [01:53<01:04,  7.00it/s]\u001b[A\n",
            " 68%|██████▊   | 966/1420 [01:53<01:05,  6.91it/s]\u001b[A\n",
            " 68%|██████▊   | 967/1420 [01:53<01:05,  6.96it/s]\u001b[A\n",
            " 68%|██████▊   | 968/1420 [01:53<01:05,  6.91it/s]\u001b[A\n",
            " 68%|██████▊   | 969/1420 [01:53<01:04,  7.00it/s]\u001b[A\n",
            " 68%|██████▊   | 970/1420 [01:54<01:04,  6.97it/s]\u001b[A\n",
            " 68%|██████▊   | 971/1420 [01:54<01:04,  6.96it/s]\u001b[A\n",
            " 68%|██████▊   | 972/1420 [01:54<01:10,  6.38it/s]\u001b[A\n",
            " 69%|██████▊   | 973/1420 [01:54<01:11,  6.21it/s]\u001b[A\n",
            " 69%|██████▊   | 974/1420 [01:54<01:11,  6.20it/s]\u001b[A\n",
            " 69%|██████▊   | 975/1420 [01:54<01:11,  6.23it/s]\u001b[A\n",
            " 69%|██████▊   | 976/1420 [01:55<01:09,  6.43it/s]\u001b[A\n",
            " 69%|██████▉   | 977/1420 [01:55<01:07,  6.58it/s]\u001b[A\n",
            " 69%|██████▉   | 978/1420 [01:55<01:05,  6.75it/s]\u001b[A\n",
            " 69%|██████▉   | 979/1420 [01:55<01:05,  6.68it/s]\u001b[A\n",
            " 69%|██████▉   | 980/1420 [01:55<01:04,  6.78it/s]\u001b[A\n",
            " 69%|██████▉   | 981/1420 [01:55<01:03,  6.93it/s]\u001b[A\n",
            " 69%|██████▉   | 982/1420 [01:55<01:02,  7.03it/s]\u001b[A\n",
            " 69%|██████▉   | 983/1420 [01:56<01:01,  7.12it/s]\u001b[A\n",
            " 69%|██████▉   | 984/1420 [01:56<01:01,  7.06it/s]\u001b[A\n",
            " 69%|██████▉   | 985/1420 [01:56<01:01,  7.12it/s]\u001b[A\n",
            " 69%|██████▉   | 986/1420 [01:56<01:03,  6.86it/s]\u001b[A\n",
            " 70%|██████▉   | 987/1420 [01:56<01:02,  6.89it/s]\u001b[A\n",
            " 70%|██████▉   | 988/1420 [01:56<01:04,  6.68it/s]\u001b[A\n",
            " 70%|██████▉   | 989/1420 [01:56<01:05,  6.60it/s]\u001b[A\n",
            " 70%|██████▉   | 990/1420 [01:57<01:06,  6.48it/s]\u001b[A\n",
            " 70%|██████▉   | 991/1420 [01:57<01:05,  6.51it/s]\u001b[A\n",
            " 70%|██████▉   | 992/1420 [01:57<01:04,  6.60it/s]\u001b[A\n",
            " 70%|██████▉   | 993/1420 [01:57<01:05,  6.54it/s]\u001b[A\n",
            " 70%|███████   | 994/1420 [01:57<01:05,  6.51it/s]\u001b[A\n",
            " 70%|███████   | 995/1420 [01:57<01:04,  6.60it/s]\u001b[A\n",
            " 70%|███████   | 996/1420 [01:58<01:04,  6.62it/s]\u001b[A"
          ]
        },
        {
          "output_type": "stream",
          "name": "stdout",
          "text": [
            "Epoch 6 Batch 141/142 [D loss: 0.699607] [G loss:0.730166]\n"
          ]
        },
        {
          "output_type": "stream",
          "name": "stderr",
          "text": [
            "\n",
            " 70%|███████   | 997/1420 [01:58<01:03,  6.65it/s]\u001b[A\n",
            " 70%|███████   | 998/1420 [01:58<01:05,  6.47it/s]\u001b[A\n",
            " 70%|███████   | 999/1420 [01:58<01:05,  6.42it/s]\u001b[A\n",
            " 70%|███████   | 1000/1420 [01:58<01:06,  6.31it/s]\u001b[A\n",
            " 70%|███████   | 1001/1420 [01:58<01:05,  6.38it/s]\u001b[A\n",
            " 71%|███████   | 1002/1420 [01:59<01:05,  6.42it/s]\u001b[A\n",
            " 71%|███████   | 1003/1420 [01:59<01:03,  6.55it/s]\u001b[A\n",
            " 71%|███████   | 1004/1420 [01:59<01:02,  6.62it/s]\u001b[A\n",
            " 71%|███████   | 1005/1420 [01:59<01:01,  6.70it/s]\u001b[A\n",
            " 71%|███████   | 1006/1420 [01:59<01:02,  6.67it/s]\u001b[A\n",
            " 71%|███████   | 1007/1420 [01:59<01:05,  6.26it/s]\u001b[A\n",
            " 71%|███████   | 1008/1420 [01:59<00:59,  6.88it/s]\u001b[A\n",
            " 71%|███████   | 1010/1420 [02:00<00:48,  8.50it/s]\u001b[A\n",
            " 71%|███████▏  | 1012/1420 [02:00<00:42,  9.59it/s]\u001b[A\n",
            " 71%|███████▏  | 1014/1420 [02:00<00:39, 10.41it/s]\u001b[A\n",
            " 72%|███████▏  | 1016/1420 [02:00<00:37, 10.86it/s]\u001b[A\n",
            " 72%|███████▏  | 1018/1420 [02:00<00:36, 10.95it/s]\u001b[A\n",
            " 72%|███████▏  | 1020/1420 [02:00<00:36, 10.99it/s]\u001b[A\n",
            " 72%|███████▏  | 1022/1420 [02:01<00:35, 11.23it/s]\u001b[A\n",
            " 72%|███████▏  | 1024/1420 [02:01<00:36, 10.80it/s]\u001b[A\n",
            " 72%|███████▏  | 1026/1420 [02:01<00:35, 11.16it/s]\u001b[A\n",
            " 72%|███████▏  | 1028/1420 [02:01<00:34, 11.27it/s]\u001b[A\n",
            " 73%|███████▎  | 1030/1420 [02:01<00:34, 11.24it/s]\u001b[A\n",
            " 73%|███████▎  | 1032/1420 [02:01<00:33, 11.41it/s]\u001b[A\n",
            " 73%|███████▎  | 1034/1420 [02:02<00:33, 11.62it/s]\u001b[A\n",
            " 73%|███████▎  | 1036/1420 [02:02<00:32, 11.70it/s]\u001b[A\n",
            " 73%|███████▎  | 1038/1420 [02:02<00:32, 11.83it/s]\u001b[A\n",
            " 73%|███████▎  | 1040/1420 [02:02<00:31, 11.88it/s]\u001b[A\n",
            " 73%|███████▎  | 1042/1420 [02:02<00:32, 11.67it/s]\u001b[A\n",
            " 74%|███████▎  | 1044/1420 [02:03<00:32, 11.45it/s]\u001b[A\n",
            " 74%|███████▎  | 1046/1420 [02:03<00:32, 11.48it/s]\u001b[A\n",
            " 74%|███████▍  | 1048/1420 [02:03<00:31, 11.66it/s]\u001b[A\n",
            " 74%|███████▍  | 1050/1420 [02:03<00:31, 11.77it/s]\u001b[A\n",
            " 74%|███████▍  | 1052/1420 [02:03<00:31, 11.83it/s]\u001b[A\n",
            " 74%|███████▍  | 1054/1420 [02:03<00:31, 11.67it/s]\u001b[A\n",
            " 74%|███████▍  | 1056/1420 [02:04<00:30, 11.81it/s]\u001b[A\n",
            " 75%|███████▍  | 1058/1420 [02:04<00:30, 11.89it/s]\u001b[A\n",
            " 75%|███████▍  | 1060/1420 [02:04<00:30, 11.95it/s]\u001b[A\n",
            " 75%|███████▍  | 1062/1420 [02:04<00:29, 11.94it/s]\u001b[A\n",
            " 75%|███████▍  | 1064/1420 [02:04<00:29, 11.89it/s]\u001b[A\n",
            " 75%|███████▌  | 1066/1420 [02:04<00:30, 11.55it/s]\u001b[A\n",
            " 75%|███████▌  | 1068/1420 [02:05<00:30, 11.43it/s]\u001b[A\n",
            " 75%|███████▌  | 1070/1420 [02:05<00:30, 11.66it/s]\u001b[A\n",
            " 75%|███████▌  | 1072/1420 [02:05<00:29, 11.61it/s]\u001b[A\n",
            " 76%|███████▌  | 1074/1420 [02:05<00:29, 11.65it/s]\u001b[A\n",
            " 76%|███████▌  | 1076/1420 [02:05<00:29, 11.71it/s]\u001b[A\n",
            " 76%|███████▌  | 1078/1420 [02:05<00:29, 11.48it/s]\u001b[A\n",
            " 76%|███████▌  | 1080/1420 [02:06<00:29, 11.38it/s]\u001b[A\n",
            " 76%|███████▌  | 1082/1420 [02:06<00:29, 11.47it/s]\u001b[A\n",
            " 76%|███████▋  | 1084/1420 [02:06<00:29, 11.54it/s]\u001b[A\n",
            " 76%|███████▋  | 1086/1420 [02:06<00:30, 10.92it/s]\u001b[A\n",
            " 77%|███████▋  | 1088/1420 [02:06<00:29, 11.15it/s]\u001b[A\n",
            " 77%|███████▋  | 1090/1420 [02:06<00:29, 11.11it/s]\u001b[A\n",
            " 77%|███████▋  | 1092/1420 [02:07<00:29, 11.24it/s]\u001b[A\n",
            " 77%|███████▋  | 1094/1420 [02:07<00:28, 11.43it/s]\u001b[A\n",
            " 77%|███████▋  | 1096/1420 [02:07<00:27, 11.61it/s]\u001b[A\n",
            " 77%|███████▋  | 1098/1420 [02:07<00:27, 11.52it/s]\u001b[A\n",
            " 77%|███████▋  | 1100/1420 [02:07<00:27, 11.61it/s]\u001b[A\n",
            " 78%|███████▊  | 1102/1420 [02:08<00:27, 11.57it/s]\u001b[A\n",
            " 78%|███████▊  | 1104/1420 [02:08<00:26, 11.76it/s]\u001b[A\n",
            " 78%|███████▊  | 1106/1420 [02:08<00:26, 11.75it/s]\u001b[A\n",
            " 78%|███████▊  | 1108/1420 [02:08<00:26, 11.82it/s]\u001b[A\n",
            " 78%|███████▊  | 1110/1420 [02:08<00:26, 11.76it/s]\u001b[A\n",
            " 78%|███████▊  | 1112/1420 [02:08<00:26, 11.68it/s]\u001b[A\n",
            " 78%|███████▊  | 1114/1420 [02:09<00:26, 11.49it/s]\u001b[A\n",
            " 79%|███████▊  | 1116/1420 [02:09<00:26, 11.42it/s]\u001b[A\n",
            " 79%|███████▊  | 1118/1420 [02:09<00:25, 11.63it/s]\u001b[A\n",
            " 79%|███████▉  | 1120/1420 [02:09<00:25, 11.59it/s]\u001b[A\n",
            " 79%|███████▉  | 1122/1420 [02:09<00:25, 11.56it/s]\u001b[A\n",
            " 79%|███████▉  | 1124/1420 [02:09<00:27, 10.71it/s]\u001b[A\n",
            " 79%|███████▉  | 1126/1420 [02:10<00:31,  9.26it/s]\u001b[A\n",
            " 79%|███████▉  | 1127/1420 [02:10<00:32,  8.98it/s]\u001b[A\n",
            " 79%|███████▉  | 1128/1420 [02:10<00:34,  8.35it/s]\u001b[A\n",
            " 80%|███████▉  | 1129/1420 [02:10<00:36,  8.06it/s]\u001b[A\n",
            " 80%|███████▉  | 1130/1420 [02:10<00:37,  7.77it/s]\u001b[A\n",
            " 80%|███████▉  | 1131/1420 [02:10<00:39,  7.39it/s]\u001b[A\n",
            " 80%|███████▉  | 1132/1420 [02:11<00:40,  7.09it/s]\u001b[A\n",
            " 80%|███████▉  | 1133/1420 [02:11<00:39,  7.24it/s]\u001b[A\n",
            " 80%|███████▉  | 1134/1420 [02:11<00:39,  7.21it/s]\u001b[A\n",
            " 80%|███████▉  | 1135/1420 [02:11<00:39,  7.20it/s]\u001b[A\n",
            " 80%|████████  | 1136/1420 [02:11<00:43,  6.50it/s]\u001b[A\n",
            " 80%|████████  | 1137/1420 [02:11<00:41,  6.76it/s]\u001b[A\n",
            " 80%|████████  | 1138/1420 [02:11<00:40,  6.90it/s]\u001b[A"
          ]
        },
        {
          "output_type": "stream",
          "name": "stdout",
          "text": [
            "Epoch 7 Batch 141/142 [D loss: 0.699780] [G loss:0.730190]\n"
          ]
        },
        {
          "output_type": "stream",
          "name": "stderr",
          "text": [
            "\n",
            " 80%|████████  | 1139/1420 [02:12<00:42,  6.63it/s]\u001b[A\n",
            " 80%|████████  | 1140/1420 [02:12<00:41,  6.70it/s]\u001b[A\n",
            " 80%|████████  | 1141/1420 [02:12<00:41,  6.67it/s]\u001b[A\n",
            " 80%|████████  | 1142/1420 [02:12<00:41,  6.72it/s]\u001b[A\n",
            " 80%|████████  | 1143/1420 [02:12<00:40,  6.79it/s]\u001b[A\n",
            " 81%|████████  | 1144/1420 [02:12<00:40,  6.77it/s]\u001b[A\n",
            " 81%|████████  | 1145/1420 [02:13<00:40,  6.75it/s]\u001b[A\n",
            " 81%|████████  | 1146/1420 [02:13<00:41,  6.53it/s]\u001b[A\n",
            " 81%|████████  | 1147/1420 [02:13<00:41,  6.52it/s]\u001b[A\n",
            " 81%|████████  | 1148/1420 [02:13<00:41,  6.54it/s]\u001b[A\n",
            " 81%|████████  | 1149/1420 [02:13<00:42,  6.37it/s]\u001b[A\n",
            " 81%|████████  | 1150/1420 [02:13<00:41,  6.50it/s]\u001b[A\n",
            " 81%|████████  | 1151/1420 [02:13<00:41,  6.54it/s]\u001b[A\n",
            " 81%|████████  | 1152/1420 [02:14<00:40,  6.55it/s]\u001b[A\n",
            " 81%|████████  | 1153/1420 [02:14<00:40,  6.53it/s]\u001b[A\n",
            " 81%|████████▏ | 1154/1420 [02:14<00:41,  6.45it/s]\u001b[A\n",
            " 81%|████████▏ | 1155/1420 [02:14<00:40,  6.60it/s]\u001b[A\n",
            " 81%|████████▏ | 1156/1420 [02:14<00:40,  6.60it/s]\u001b[A\n",
            " 81%|████████▏ | 1157/1420 [02:14<00:41,  6.37it/s]\u001b[A\n",
            " 82%|████████▏ | 1158/1420 [02:15<00:40,  6.45it/s]\u001b[A\n",
            " 82%|████████▏ | 1159/1420 [02:15<00:41,  6.27it/s]\u001b[A\n",
            " 82%|████████▏ | 1160/1420 [02:15<00:40,  6.39it/s]\u001b[A\n",
            " 82%|████████▏ | 1161/1420 [02:15<00:40,  6.38it/s]\u001b[A\n",
            " 82%|████████▏ | 1162/1420 [02:15<00:39,  6.46it/s]\u001b[A\n",
            " 82%|████████▏ | 1163/1420 [02:15<00:40,  6.37it/s]\u001b[A\n",
            " 82%|████████▏ | 1164/1420 [02:16<00:43,  5.94it/s]\u001b[A\n",
            " 82%|████████▏ | 1165/1420 [02:16<00:41,  6.16it/s]\u001b[A\n",
            " 82%|████████▏ | 1166/1420 [02:16<00:40,  6.21it/s]\u001b[A\n",
            " 82%|████████▏ | 1167/1420 [02:16<00:40,  6.28it/s]\u001b[A\n",
            " 82%|████████▏ | 1168/1420 [02:16<00:40,  6.27it/s]\u001b[A\n",
            " 82%|████████▏ | 1169/1420 [02:16<00:39,  6.30it/s]\u001b[A\n",
            " 82%|████████▏ | 1170/1420 [02:16<00:40,  6.23it/s]\u001b[A\n",
            " 82%|████████▏ | 1171/1420 [02:17<00:42,  5.90it/s]\u001b[A\n",
            " 83%|████████▎ | 1172/1420 [02:17<00:40,  6.13it/s]\u001b[A\n",
            " 83%|████████▎ | 1173/1420 [02:17<00:42,  5.80it/s]\u001b[A\n",
            " 83%|████████▎ | 1174/1420 [02:17<00:42,  5.81it/s]\u001b[A\n",
            " 83%|████████▎ | 1175/1420 [02:17<00:40,  6.11it/s]\u001b[A\n",
            " 83%|████████▎ | 1176/1420 [02:17<00:37,  6.45it/s]\u001b[A\n",
            " 83%|████████▎ | 1178/1420 [02:18<00:29,  8.17it/s]\u001b[A\n",
            " 83%|████████▎ | 1180/1420 [02:18<00:25,  9.27it/s]\u001b[A\n",
            " 83%|████████▎ | 1182/1420 [02:18<00:24,  9.85it/s]\u001b[A\n",
            " 83%|████████▎ | 1184/1420 [02:18<00:22, 10.38it/s]\u001b[A\n",
            " 84%|████████▎ | 1186/1420 [02:18<00:21, 10.67it/s]\u001b[A\n",
            " 84%|████████▎ | 1188/1420 [02:18<00:20, 11.09it/s]\u001b[A\n",
            " 84%|████████▍ | 1190/1420 [02:19<00:20, 11.31it/s]\u001b[A\n",
            " 84%|████████▍ | 1192/1420 [02:19<00:19, 11.49it/s]\u001b[A\n",
            " 84%|████████▍ | 1194/1420 [02:19<00:20, 11.29it/s]\u001b[A\n",
            " 84%|████████▍ | 1196/1420 [02:19<00:19, 11.48it/s]\u001b[A\n",
            " 84%|████████▍ | 1198/1420 [02:19<00:19, 11.41it/s]\u001b[A\n",
            " 85%|████████▍ | 1200/1420 [02:20<00:18, 11.62it/s]\u001b[A\n",
            " 85%|████████▍ | 1202/1420 [02:20<00:18, 11.66it/s]\u001b[A\n",
            " 85%|████████▍ | 1204/1420 [02:20<00:18, 11.61it/s]\u001b[A\n",
            " 85%|████████▍ | 1206/1420 [02:20<00:18, 11.46it/s]\u001b[A\n",
            " 85%|████████▌ | 1208/1420 [02:20<00:18, 11.52it/s]\u001b[A\n",
            " 85%|████████▌ | 1210/1420 [02:20<00:18, 11.60it/s]\u001b[A\n",
            " 85%|████████▌ | 1212/1420 [02:21<00:17, 11.70it/s]\u001b[A\n",
            " 85%|████████▌ | 1214/1420 [02:21<00:17, 11.71it/s]\u001b[A\n",
            " 86%|████████▌ | 1216/1420 [02:21<00:17, 11.77it/s]\u001b[A\n",
            " 86%|████████▌ | 1218/1420 [02:21<00:17, 11.40it/s]\u001b[A\n",
            " 86%|████████▌ | 1220/1420 [02:21<00:17, 11.32it/s]\u001b[A\n",
            " 86%|████████▌ | 1222/1420 [02:21<00:17, 11.47it/s]\u001b[A\n",
            " 86%|████████▌ | 1224/1420 [02:22<00:17, 11.38it/s]\u001b[A\n",
            " 86%|████████▋ | 1226/1420 [02:22<00:16, 11.46it/s]\u001b[A\n",
            " 86%|████████▋ | 1228/1420 [02:22<00:16, 11.60it/s]\u001b[A\n",
            " 87%|████████▋ | 1230/1420 [02:22<00:16, 11.43it/s]\u001b[A\n",
            " 87%|████████▋ | 1232/1420 [02:22<00:16, 11.63it/s]\u001b[A\n",
            " 87%|████████▋ | 1234/1420 [02:23<00:19,  9.31it/s]\u001b[A\n",
            " 87%|████████▋ | 1236/1420 [02:23<00:24,  7.56it/s]\u001b[A\n",
            " 87%|████████▋ | 1237/1420 [02:23<00:25,  7.15it/s]\u001b[A\n",
            " 87%|████████▋ | 1239/1420 [02:23<00:22,  8.21it/s]\u001b[A\n",
            " 87%|████████▋ | 1241/1420 [02:24<00:19,  9.17it/s]\u001b[A\n",
            " 88%|████████▊ | 1243/1420 [02:24<00:17,  9.93it/s]\u001b[A\n",
            " 88%|████████▊ | 1245/1420 [02:24<00:16, 10.50it/s]\u001b[A\n",
            " 88%|████████▊ | 1247/1420 [02:24<00:16, 10.66it/s]\u001b[A\n",
            " 88%|████████▊ | 1249/1420 [02:24<00:15, 10.85it/s]\u001b[A\n",
            " 88%|████████▊ | 1251/1420 [02:24<00:15, 11.04it/s]\u001b[A\n",
            " 88%|████████▊ | 1253/1420 [02:25<00:14, 11.24it/s]\u001b[A\n",
            " 88%|████████▊ | 1255/1420 [02:25<00:14, 11.46it/s]\u001b[A\n",
            " 89%|████████▊ | 1257/1420 [02:25<00:13, 11.65it/s]\u001b[A\n",
            " 89%|████████▊ | 1259/1420 [02:25<00:13, 11.60it/s]\u001b[A\n",
            " 89%|████████▉ | 1261/1420 [02:25<00:13, 11.49it/s]\u001b[A\n",
            " 89%|████████▉ | 1263/1420 [02:25<00:13, 11.60it/s]\u001b[A\n",
            " 89%|████████▉ | 1265/1420 [02:26<00:13, 11.68it/s]\u001b[A\n",
            " 89%|████████▉ | 1267/1420 [02:26<00:12, 11.78it/s]\u001b[A\n",
            " 89%|████████▉ | 1269/1420 [02:26<00:12, 11.90it/s]\u001b[A\n",
            " 90%|████████▉ | 1271/1420 [02:26<00:12, 11.91it/s]\u001b[A\n",
            " 90%|████████▉ | 1273/1420 [02:26<00:12, 11.70it/s]\u001b[A\n",
            " 90%|████████▉ | 1275/1420 [02:26<00:12, 11.72it/s]\u001b[A\n",
            " 90%|████████▉ | 1277/1420 [02:27<00:12, 11.73it/s]\u001b[A\n",
            " 90%|█████████ | 1279/1420 [02:27<00:12, 11.72it/s]\u001b[A\n",
            " 90%|█████████ | 1281/1420 [02:27<00:12, 11.44it/s]\u001b[A"
          ]
        },
        {
          "output_type": "stream",
          "name": "stdout",
          "text": [
            "Epoch 8 Batch 141/142 [D loss: 0.699204] [G loss:0.728201]\n"
          ]
        },
        {
          "output_type": "stream",
          "name": "stderr",
          "text": [
            "\n",
            " 90%|█████████ | 1283/1420 [02:27<00:11, 11.50it/s]\u001b[A\n",
            " 90%|█████████ | 1285/1420 [02:27<00:11, 11.41it/s]\u001b[A\n",
            " 91%|█████████ | 1287/1420 [02:27<00:11, 11.29it/s]\u001b[A\n",
            " 91%|█████████ | 1289/1420 [02:28<00:13,  9.80it/s]\u001b[A\n",
            " 91%|█████████ | 1291/1420 [02:28<00:15,  8.48it/s]\u001b[A\n",
            " 91%|█████████ | 1292/1420 [02:28<00:15,  8.13it/s]\u001b[A\n",
            " 91%|█████████ | 1293/1420 [02:28<00:17,  7.23it/s]\u001b[A\n",
            " 91%|█████████ | 1294/1420 [02:29<00:18,  6.90it/s]\u001b[A\n",
            " 91%|█████████ | 1295/1420 [02:29<00:17,  7.00it/s]\u001b[A\n",
            " 91%|█████████▏| 1296/1420 [02:29<00:17,  7.18it/s]\u001b[A\n",
            " 91%|█████████▏| 1297/1420 [02:29<00:16,  7.28it/s]\u001b[A\n",
            " 91%|█████████▏| 1298/1420 [02:29<00:16,  7.30it/s]\u001b[A\n",
            " 91%|█████████▏| 1299/1420 [02:29<00:17,  7.10it/s]\u001b[A\n",
            " 92%|█████████▏| 1300/1420 [02:29<00:17,  6.94it/s]\u001b[A\n",
            " 92%|█████████▏| 1301/1420 [02:30<00:17,  6.90it/s]\u001b[A\n",
            " 92%|█████████▏| 1302/1420 [02:30<00:16,  6.96it/s]\u001b[A\n",
            " 92%|█████████▏| 1303/1420 [02:30<00:17,  6.88it/s]\u001b[A\n",
            " 92%|█████████▏| 1304/1420 [02:30<00:16,  6.84it/s]\u001b[A\n",
            " 92%|█████████▏| 1305/1420 [02:30<00:16,  6.86it/s]\u001b[A\n",
            " 92%|█████████▏| 1306/1420 [02:30<00:16,  6.93it/s]\u001b[A\n",
            " 92%|█████████▏| 1307/1420 [02:30<00:16,  6.73it/s]\u001b[A\n",
            " 92%|█████████▏| 1308/1420 [02:31<00:16,  6.84it/s]\u001b[A\n",
            " 92%|█████████▏| 1309/1420 [02:31<00:16,  6.88it/s]\u001b[A\n",
            " 92%|█████████▏| 1310/1420 [02:31<00:16,  6.86it/s]\u001b[A\n",
            " 92%|█████████▏| 1311/1420 [02:31<00:15,  6.89it/s]\u001b[A\n",
            " 92%|█████████▏| 1312/1420 [02:31<00:15,  6.88it/s]\u001b[A\n",
            " 92%|█████████▏| 1313/1420 [02:31<00:15,  6.75it/s]\u001b[A\n",
            " 93%|█████████▎| 1314/1420 [02:31<00:16,  6.43it/s]\u001b[A\n",
            " 93%|█████████▎| 1315/1420 [02:32<00:16,  6.53it/s]\u001b[A\n",
            " 93%|█████████▎| 1316/1420 [02:32<00:15,  6.66it/s]\u001b[A\n",
            " 93%|█████████▎| 1317/1420 [02:32<00:15,  6.71it/s]\u001b[A\n",
            " 93%|█████████▎| 1318/1420 [02:32<00:15,  6.76it/s]\u001b[A\n",
            " 93%|█████████▎| 1319/1420 [02:32<00:14,  6.79it/s]\u001b[A\n",
            " 93%|█████████▎| 1320/1420 [02:32<00:14,  6.77it/s]\u001b[A\n",
            " 93%|█████████▎| 1321/1420 [02:33<00:14,  6.62it/s]\u001b[A\n",
            " 93%|█████████▎| 1322/1420 [02:33<00:14,  6.69it/s]\u001b[A\n",
            " 93%|█████████▎| 1323/1420 [02:33<00:14,  6.75it/s]\u001b[A\n",
            " 93%|█████████▎| 1324/1420 [02:33<00:14,  6.77it/s]\u001b[A\n",
            " 93%|█████████▎| 1325/1420 [02:33<00:14,  6.75it/s]\u001b[A\n",
            " 93%|█████████▎| 1326/1420 [02:33<00:14,  6.58it/s]\u001b[A\n",
            " 93%|█████████▎| 1327/1420 [02:33<00:14,  6.62it/s]\u001b[A\n",
            " 94%|█████████▎| 1328/1420 [02:34<00:13,  6.63it/s]\u001b[A\n",
            " 94%|█████████▎| 1329/1420 [02:34<00:14,  6.07it/s]\u001b[A\n",
            " 94%|█████████▎| 1330/1420 [02:34<00:14,  6.31it/s]\u001b[A\n",
            " 94%|█████████▎| 1331/1420 [02:34<00:13,  6.43it/s]\u001b[A\n",
            " 94%|█████████▍| 1332/1420 [02:34<00:13,  6.55it/s]\u001b[A\n",
            " 94%|█████████▍| 1333/1420 [02:34<00:13,  6.59it/s]\u001b[A\n",
            " 94%|█████████▍| 1334/1420 [02:34<00:13,  6.59it/s]\u001b[A\n",
            " 94%|█████████▍| 1335/1420 [02:35<00:13,  6.44it/s]\u001b[A\n",
            " 94%|█████████▍| 1336/1420 [02:35<00:12,  6.51it/s]\u001b[A\n",
            " 94%|█████████▍| 1337/1420 [02:35<00:12,  6.67it/s]\u001b[A\n",
            " 94%|█████████▍| 1338/1420 [02:35<00:12,  6.49it/s]\u001b[A\n",
            " 94%|█████████▍| 1339/1420 [02:35<00:12,  6.71it/s]\u001b[A\n",
            " 94%|█████████▍| 1340/1420 [02:35<00:11,  6.82it/s]\u001b[A\n",
            " 94%|█████████▍| 1341/1420 [02:36<00:11,  6.91it/s]\u001b[A\n",
            " 95%|█████████▍| 1342/1420 [02:36<00:11,  6.96it/s]\u001b[A\n",
            " 95%|█████████▍| 1344/1420 [02:36<00:08,  8.62it/s]\u001b[A\n",
            " 95%|█████████▍| 1346/1420 [02:36<00:07,  9.62it/s]\u001b[A\n",
            " 95%|█████████▍| 1348/1420 [02:36<00:06, 10.40it/s]\u001b[A\n",
            " 95%|█████████▌| 1350/1420 [02:36<00:06, 10.90it/s]\u001b[A\n",
            " 95%|█████████▌| 1352/1420 [02:37<00:06, 11.16it/s]\u001b[A\n",
            " 95%|█████████▌| 1354/1420 [02:37<00:05, 11.21it/s]\u001b[A\n",
            " 95%|█████████▌| 1356/1420 [02:37<00:05, 11.44it/s]\u001b[A\n",
            " 96%|█████████▌| 1358/1420 [02:37<00:05, 11.59it/s]\u001b[A\n",
            " 96%|█████████▌| 1360/1420 [02:37<00:05, 11.69it/s]\u001b[A\n",
            " 96%|█████████▌| 1362/1420 [02:37<00:04, 11.79it/s]\u001b[A\n",
            " 96%|█████████▌| 1364/1420 [02:38<00:04, 11.67it/s]\u001b[A\n",
            " 96%|█████████▌| 1366/1420 [02:38<00:04, 11.39it/s]\u001b[A\n",
            " 96%|█████████▋| 1368/1420 [02:38<00:04, 11.57it/s]\u001b[A\n",
            " 96%|█████████▋| 1370/1420 [02:38<00:04, 11.61it/s]\u001b[A\n",
            " 97%|█████████▋| 1372/1420 [02:38<00:04, 11.03it/s]\u001b[A\n",
            " 97%|█████████▋| 1374/1420 [02:38<00:04, 11.19it/s]\u001b[A\n",
            " 97%|█████████▋| 1376/1420 [02:39<00:03, 11.27it/s]\u001b[A\n",
            " 97%|█████████▋| 1378/1420 [02:39<00:03, 11.29it/s]\u001b[A\n",
            " 97%|█████████▋| 1380/1420 [02:39<00:03, 11.51it/s]\u001b[A\n",
            " 97%|█████████▋| 1382/1420 [02:39<00:03, 11.61it/s]\u001b[A\n",
            " 97%|█████████▋| 1384/1420 [02:39<00:03, 11.78it/s]\u001b[A\n",
            " 98%|█████████▊| 1386/1420 [02:39<00:02, 11.74it/s]\u001b[A\n",
            " 98%|█████████▊| 1388/1420 [02:40<00:02, 11.85it/s]\u001b[A\n",
            " 98%|█████████▊| 1390/1420 [02:40<00:02, 11.62it/s]\u001b[A\n",
            " 98%|█████████▊| 1392/1420 [02:40<00:02, 11.74it/s]\u001b[A\n",
            " 98%|█████████▊| 1394/1420 [02:40<00:02, 11.80it/s]\u001b[A\n",
            " 98%|█████████▊| 1396/1420 [02:40<00:02, 11.80it/s]\u001b[A\n",
            " 98%|█████████▊| 1398/1420 [02:40<00:01, 11.77it/s]\u001b[A\n",
            " 99%|█████████▊| 1400/1420 [02:41<00:01, 11.82it/s]\u001b[A\n",
            " 99%|█████████▊| 1402/1420 [02:41<00:01, 11.55it/s]\u001b[A\n",
            " 99%|█████████▉| 1404/1420 [02:41<00:01, 11.62it/s]\u001b[A\n",
            " 99%|█████████▉| 1406/1420 [02:41<00:01, 11.43it/s]\u001b[A\n",
            " 99%|█████████▉| 1408/1420 [02:41<00:01, 11.53it/s]\u001b[A\n",
            " 99%|█████████▉| 1410/1420 [02:42<00:00, 11.62it/s]\u001b[A\n",
            " 99%|█████████▉| 1412/1420 [02:42<00:00, 11.67it/s]\u001b[A\n",
            "100%|█████████▉| 1414/1420 [02:42<00:00, 11.42it/s]\u001b[A\n",
            "100%|█████████▉| 1416/1420 [02:42<00:00, 11.44it/s]\u001b[A\n",
            "100%|█████████▉| 1418/1420 [02:42<00:00, 11.60it/s]\u001b[A\n",
            "100%|██████████| 1420/1420 [02:42<00:00, 11.65it/s]\u001b[A"
          ]
        },
        {
          "output_type": "stream",
          "name": "stdout",
          "text": [
            "Epoch 9 Batch 141/142 [D loss: 0.699355] [G loss:0.728784]\n"
          ]
        }
      ],
      "source": [
        "#Training the GAN\n",
        "x_train, y_train, x_test, y_test = dataset['x_train'], dataset['y_train'],dataset['x_test'],dataset['y_test']\n",
        "\n",
        "#Calculating the number of batches based on the batch size\n",
        "batch_count = x_train.shape[0] // batch_size\n",
        "pbar = tqdm(total=epochs * batch_count)\n",
        "gan_loss = []\n",
        "discriminator_loss = []\n",
        "sgd=tf.keras.optimizers.legacy.SGD(learning_rate=0.00001)\n",
        "#Inititalizing the network\n",
        "generator = get_generator(sgd)\n",
        "discriminator = get_discriminator(sgd)\n",
        "gan = get_gan_network(discriminator, generator, sgd,input_dim=118)\n",
        "\n",
        "\n",
        "for epoch in range(epochs):\n",
        "    for index in range(batch_count):\n",
        "        pbar.update(1)\n",
        "        # Creating a random set of input noise and images\n",
        "        noise = np.random.normal(0, 1, size=[batch_size,118])\n",
        "\n",
        "        # Generate fake samples\n",
        "        generated_images = generator.predict_on_batch(noise)\n",
        "\n",
        "        #Obtain a batch of normal network packets\n",
        "        image_batch = x_train[index * batch_size: (index + 1) * batch_size]\n",
        "\n",
        "        X = np.vstack((generated_images,image_batch))\n",
        "        y_dis = np.ones(2*batch_size)\n",
        "        y_dis[:batch_size] = 0\n",
        "\n",
        "        # Train discriminator\n",
        "        discriminator.trainable = True\n",
        "        d_loss= discriminator.train_on_batch(X, y_dis)\n",
        "\n",
        "        # Train generator\n",
        "        noise = np.random.uniform(0, 1, size=[batch_size, 118])\n",
        "        y_gen = np.ones(batch_size)\n",
        "        discriminator.trainable = False\n",
        "        g_loss = gan.train_on_batch(noise, y_gen)\n",
        "\n",
        "        #Record the losses\n",
        "        discriminator_loss.append(d_loss)\n",
        "        gan_loss.append(g_loss)\n",
        "\n",
        "    print(\"Epoch %d Batch %d/%d [D loss: %f] [G loss:%f]\" % (epoch,index,batch_count, d_loss, g_loss))\n"
      ]
    },
    {
      "cell_type": "code",
      "source": [
        "x_train.shape"
      ],
      "metadata": {
        "colab": {
          "base_uri": "https://localhost:8080/"
        },
        "id": "3J8DPGoKnMDg",
        "outputId": "7ba0f65c-8f72-4895-d105-e1606099200c"
      },
      "execution_count": 171,
      "outputs": [
        {
          "output_type": "execute_result",
          "data": {
            "text/plain": [
              "(73011, 118)"
            ]
          },
          "metadata": {},
          "execution_count": 171
        }
      ]
    },
    {
      "cell_type": "code",
      "source": [
        "generated_images.shape"
      ],
      "metadata": {
        "id": "C9dtyCGUolOi"
      },
      "execution_count": null,
      "outputs": []
    },
    {
      "cell_type": "code",
      "source": [
        "image_batch.shape"
      ],
      "metadata": {
        "id": "v1pQbHiOolRl"
      },
      "execution_count": null,
      "outputs": []
    },
    {
      "cell_type": "code",
      "source": [
        "batch_count"
      ],
      "metadata": {
        "id": "PvxwAz3qutm4"
      },
      "execution_count": null,
      "outputs": []
    },
    {
      "cell_type": "code",
      "source": [],
      "metadata": {
        "id": "xhIvwGjluuFz"
      },
      "execution_count": null,
      "outputs": []
    },
    {
      "cell_type": "markdown",
      "metadata": {
        "id": "oLkmySdP_1kS"
      },
      "source": [
        "### 2.6 Training Loss"
      ]
    },
    {
      "cell_type": "markdown",
      "metadata": {
        "id": "LuHXb-fE_1kS"
      },
      "source": [
        "Let's visualize the generator and discriminator training losses!"
      ]
    },
    {
      "cell_type": "code",
      "execution_count": 172,
      "metadata": {
        "id": "YWqWQUF4_1kS",
        "colab": {
          "base_uri": "https://localhost:8080/",
          "height": 469
        },
        "outputId": "15c009db-57b0-4d9c-8c82-1659a7d88d8c"
      },
      "outputs": [
        {
          "output_type": "execute_result",
          "data": {
            "text/plain": [
              "<matplotlib.legend.Legend at 0x7fce28ecedd0>"
            ]
          },
          "metadata": {},
          "execution_count": 172
        },
        {
          "output_type": "display_data",
          "data": {
            "text/plain": [
              "<Figure size 640x480 with 1 Axes>"
            ],
            "image/png": "[encoded data removed]"
          },
          "metadata": {}
        }
      ],
      "source": [
        "fig, ax = plt.subplots()\n",
        "plt.plot(discriminator_loss, label='Discriminator')\n",
        "plt.plot(gan_loss, label='Generator')\n",
        "plt.title(\"Training Losses\")\n",
        "plt.legend()"
      ]
    },
    {
      "cell_type": "markdown",
      "metadata": {
        "id": "8xtMAgO9_1kT"
      },
      "source": [
        "The loss convergence towards the end signifies that the GAN model has reached optimality"
      ]
    },
    {
      "cell_type": "markdown",
      "metadata": {
        "id": "GLVWW-9o_1kT"
      },
      "source": [
        "### 2.7 Anomaly Detection"
      ]
    },
    {
      "cell_type": "markdown",
      "metadata": {
        "id": "NBBViOrB_1kT"
      },
      "source": [
        "What was the result of all the training we did?  \n",
        "\n",
        "We now have a generator that can input a random seed value and produce an output that closely resembles the data it was trained on. You can read about how this strategy was used to come up with imaginary celebrities <a href =\"https://research.nvidia.com/publication/2017-10_Progressive-Growing-of\" >here</a>\n",
        "\n",
        "The Discriminator that we trained ended up being a very powerful classifier that can tell if a sample point is representative of the true data distribution it was trained on or not and hence can be used for Anomaly Detection!\n",
        "\n",
        "Let us feed our test data into the discriminator and obtain scores."
      ]
    },
    {
      "cell_type": "code",
      "execution_count": null,
      "metadata": {
        "id": "MQqkd_Mr_1kT"
      },
      "outputs": [],
      "source": [
        "# Predictions on the test set\n",
        "\n",
        "nr_batches_test = np.ceil(x_test.shape[0] // batch_size).astype(np.int32)\n",
        "\n",
        "results =[]\n",
        "\n",
        "for t in range(nr_batches_test +1):\n",
        "        ran_from = t * batch_size\n",
        "        ran_to = (t + 1) * batch_size\n",
        "        image_batch = x_test[ran_from:ran_to]\n",
        "        tmp_rslt = discriminator.predict(x=image_batch,batch_size=128,verbose=0)\n",
        "        results = np.append(results, tmp_rslt)"
      ]
    },
    {
      "cell_type": "markdown",
      "metadata": {
        "id": "v8FtfAwS_1kT"
      },
      "source": [
        "Let us calculate the mean score for normal and anomalous samples in our test set. Ideally, we would like to see a score close to 1 for normal samples and 0 for anomalous samples. This would mean our classifier is doing well in distinguishing between the 2 classes.  "
      ]
    },
    {
      "cell_type": "code",
      "execution_count": null,
      "metadata": {
        "id": "kM-hQniM_1kT"
      },
      "outputs": [],
      "source": [
        "pd.options.display.float_format = '{:20,.7f}'.format\n",
        "results_df = pd.concat([pd.DataFrame(results),pd.DataFrame(y_test)], axis=1)\n",
        "results_df.columns = ['results','y_test']\n",
        "print ('Mean score for normal packets :', results_df.loc[results_df['y_test'] == 0, 'results'].mean() )\n",
        "print ('Mean score for anomalous packets :', results_df.loc[results_df['y_test'] == 1, 'results'].mean())"
      ]
    },
    {
      "cell_type": "markdown",
      "metadata": {
        "id": "F20rZ0Bk_1kT"
      },
      "source": [
        "But how exaclty do we identify our Anomalies?\n",
        "\n",
        "Although there are several ways to do this, let us use a more straight forward way for detection. Remember 1% of our test set comprised of anomalies. So, the lowest 1% of the scores should ideally constitute anomalies. Let us test our hypothesis below."
      ]
    },
    {
      "cell_type": "code",
      "execution_count": null,
      "metadata": {
        "id": "GIMhYIlL_1kT"
      },
      "outputs": [],
      "source": [
        "#Obtaining the lowest 1% score\n",
        "per = np.percentile(results,1)\n",
        "y_pred = results.copy()\n",
        "y_pred = np.array(y_pred)\n",
        "\n",
        "#Thresholding based on the score\n",
        "inds = (y_pred > per)\n",
        "inds_comp = (y_pred <= per)\n",
        "y_pred[inds] = 0\n",
        "y_pred[inds_comp] = 1\n"
      ]
    },
    {
      "cell_type": "markdown",
      "metadata": {
        "id": "29On_45m_1kT"
      },
      "source": [
        "## Section 3: Evaluation"
      ]
    },
    {
      "cell_type": "markdown",
      "metadata": {
        "id": "iC8X8G1D_1kU"
      },
      "source": [
        "The Accuracy, Precision and Recall values of our model on the test set are as follows:"
      ]
    },
    {
      "cell_type": "code",
      "execution_count": null,
      "metadata": {
        "id": "gh-F_nh3_1kU"
      },
      "outputs": [],
      "source": [
        "precision, recall, f1,_ = precision_recall_fscore_support(y_test,y_pred,average='binary')\n",
        "print ('Accuracy Score :',accuracy_score(y_test, y_pred) )\n",
        "print ('Precision :',precision )\n",
        "print ('Recall :',recall )\n",
        "print ('F1 :',f1 )"
      ]
    },
    {
      "cell_type": "markdown",
      "metadata": {
        "id": "3fsxtAK__1kU"
      },
      "source": [
        "### 3.1 Confusion Matrix"
      ]
    },
    {
      "cell_type": "markdown",
      "metadata": {
        "id": "JhCjt6-T_1kU"
      },
      "source": [
        "The confusion matrix is a good way to understand if our predictions agree with the target labels. You've implemented one of these in both of the previous labs, so in this section, you'll get a chance to build your own."
      ]
    },
    {
      "cell_type": "code",
      "execution_count": null,
      "metadata": {
        "id": "2C21zCDN_1kU"
      },
      "outputs": [],
      "source": [
        "cm = confusion_matrix(y_test, y_pred)\n",
        "\n",
        "print ('Confusion Matrix :')\n",
        "\n",
        "def plot_confusion_matrix(cm, title='Confusion matrix', cmap=plt.cm.Greens):\n",
        "    plt.figure(figsize=(10,10),)\n",
        "\n",
        "    plt.imshow(cm, interpolation='nearest', cmap=cmap)\n",
        "    plt.title(title)\n",
        "    plt.colorbar()\n",
        "    plt.tight_layout()\n",
        "\n",
        "    width, height = cm.shape\n",
        "\n",
        "    for x in range(width):\n",
        "        for y in range(height):\n",
        "            plt.annotate(str(cm[x][y]), xy=(y, x),\n",
        "                        horizontalalignment='center',\n",
        "                        verticalalignment='center')\n",
        "    plt.ylabel('True label')\n",
        "    plt.xlabel('Predicted label')\n",
        "\n",
        "\n",
        "plot_confusion_matrix(cm)"
      ]
    },
    {
      "cell_type": "markdown",
      "metadata": {
        "id": "d7Mg2g3z_1kU"
      },
      "source": [
        "### 3.2 ROC Curve"
      ]
    },
    {
      "cell_type": "markdown",
      "metadata": {
        "id": "Rtt6pO29_1kU"
      },
      "source": [
        "Let's see how our ROC curve looks with the predictions. The closer the AUC is to 1, the better the model."
      ]
    },
    {
      "cell_type": "code",
      "execution_count": null,
      "metadata": {
        "id": "GmbMQTFW_1kU"
      },
      "outputs": [],
      "source": [
        "fpr_keras, tpr_keras, thresholds_keras = roc_curve(y_test, y_pred)\n",
        "auc_keras = auc(fpr_keras, tpr_keras)\n",
        "plt.figure(1)\n",
        "plt.plot([0, 1], [0, 1], 'k--')\n",
        "plt.plot(fpr_keras, tpr_keras, label='Keras (area = {:.2f})'.format(auc_keras))\n",
        "\n",
        "plt.xlabel('False positive rate')\n",
        "plt.ylabel('True positive rate')\n",
        "plt.title('ROC curve')\n",
        "plt.legend(loc='best')\n",
        "plt.show()"
      ]
    },
    {
      "cell_type": "markdown",
      "metadata": {
        "id": "hRgZ0hd1_1kV"
      },
      "source": [
        "## Conclusion"
      ]
    },
    {
      "cell_type": "markdown",
      "metadata": {
        "id": "yMrebeLL_1kV"
      },
      "source": [
        "- We successfully employed state of the art Generative Adversarial Networks for anomaly detection on high dimensional data such as the KDD dataset.\n",
        "- The GAN is particularly interesting  because it sets up a supervised learning problem in order to do unsupervised learning. While it generates fake data, and tries to determine if a sample is fake or real based on trivial labels, it really does not know what the different classes in the dataset are.\n",
        "- On the downside, GANs can be tough to train and suffer from convergence issues particularly because, the discriminator during training does not learn as much from the true dataset as it learns to distinguish between the probability distributions."
      ]
    }
  ],
  "metadata": {
    "kernelspec": {
      "display_name": "Python 3 (ipykernel)",
      "language": "python",
      "name": "python3"
    },
    "language_info": {
      "codemirror_mode": {
        "name": "ipython",
        "version": 3
      },
      "file_extension": ".py",
      "mimetype": "text/x-python",
      "name": "python",
      "nbconvert_exporter": "python",
      "pygments_lexer": "ipython3",
      "version": "3.8.10"
    },
    "colab": {
      "provenance": [],
      "include_colab_link": true
    }
  },
  "nbformat": 4,
  "nbformat_minor": 0
}