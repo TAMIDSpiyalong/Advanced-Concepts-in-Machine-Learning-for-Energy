{
  "cells": [
    {
      "cell_type": "markdown",
      "metadata": {
        "id": "view-in-github",
        "colab_type": "text"
      },
      "source": [
        "<a href=\"https://colab.research.google.com/github/TAMIDSpiyalong/Introduction-to-Machine-Learning-for-Energy/blob/main/Lecture_3d.ipynb\" target=\"_parent\"><img src=\"https://colab.research.google.com/assets/colab-badge.svg\" alt=\"Open In Colab\"/></a>"
      ]
    },
    {
      "cell_type": "markdown",
      "metadata": {
        "id": "u8qriVw5_1kH"
      },
      "source": [
        "# Anomaly Detection in Network Data using GANs"
      ]
    },
    {
      "cell_type": "markdown",
      "metadata": {
        "id": "lp40CJMG_1kI"
      },
      "source": [
        "GANs are generative models that generate samples similar to the training dataset by learning the true data distribution. So instead of compressing the input into a latent space and classifying the test samples based on the reconstruction error, we actually train a classifier that outputs a probability score of a sample being Normal or Anomalous. As we will see later in the lab, this has positioned GANs as very attaractive unsupervised learning techniques.\n",
        "\n",
        "GANs can be pretty tough to train and improving their stability is an active area of research today."
      ]
    },
    {
      "cell_type": "code",
      "execution_count": 389,
      "metadata": {
        "id": "x4Q_t_S5_1kI"
      },
      "outputs": [],
      "source": [
        "# Import system packages\n",
        "import os\n",
        "import sys\n",
        "import time\n",
        "import logging\n",
        "import importlib\n",
        "\n",
        "#Import data manipulation libraries\n",
        "import numpy as np\n",
        "import pandas as pd\n",
        "import collections\n",
        "from tqdm import tqdm\n",
        "\n",
        "#Import visualization libraries\n",
        "import matplotlib.pyplot as plt\n",
        "\n",
        "#Importing ML/DL libraries\n",
        "from sklearn.preprocessing import MinMaxScaler,LabelEncoder\n",
        "from sklearn.model_selection import train_test_split\n",
        "from sklearn.metrics import roc_curve, auc,precision_recall_fscore_support, average_precision_score\n",
        "from sklearn.metrics import precision_recall_curve, auc, confusion_matrix,accuracy_score\n",
        "\n",
        "import tensorflow as tf\n",
        "from tensorflow import keras\n",
        "# from tensorflow.keras import layer\n",
        "\n",
        "from tensorflow.keras import initializers\n",
        "from tensorflow.keras.models import Model, Sequential\n",
        "from tensorflow.keras.optimizers import Adam, RMSprop\n",
        "from tensorflow.keras.callbacks import ModelCheckpoint\n",
        "from tensorflow.keras.layers import Dense, Dropout\n",
        "from tensorflow.keras.layers import LeakyReLU\n",
        "from tensorflow.keras.layers import Input, BatchNormalization, LeakyReLU, Dense, Reshape, Flatten, Activation\n",
        "from tensorflow.keras.layers import Dropout, multiply, GaussianNoise, MaxPooling2D, concatenate\n",
        "import pickle\n",
        "\n",
        "import random\n",
        "random.seed(123)\n"
      ]
    },
    {
      "cell_type": "markdown",
      "metadata": {
        "id": "3SzjgkkY_1kJ"
      },
      "source": [
        "## Section 1: Dataset"
      ]
    },
    {
      "cell_type": "code",
      "source": [
        "import pandas as pd\n",
        "from tensorflow.keras.utils import get_file\n",
        "\n",
        "try:\n",
        "    path = get_file('dataset.gz', origin='http://kdd.ics.uci.edu/databases/kddcup99/corrected.gz')\n",
        "except:\n",
        "    print('Error downloading')\n",
        "    raise\n",
        "\n",
        "print(path)\n",
        "\n",
        "# This file is a CSV, just no CSV extension or headers\n",
        "# Download from: http://kdd.ics.uci.edu/databases/kddcup99/kddcup99.html"
      ],
      "metadata": {
        "id": "bg0OIFa4g47z",
        "outputId": "218ec334-2171-4a12-8dd8-7fd920bf8a4a",
        "colab": {
          "base_uri": "https://localhost:8080/"
        }
      },
      "execution_count": 390,
      "outputs": [
        {
          "output_type": "stream",
          "name": "stdout",
          "text": [
            "Downloading data from http://kdd.ics.uci.edu/databases/kddcup99/corrected.gz\n",
            "1409035/1409035 [==============================] - 1s 1us/step\n",
            "/root/.keras/datasets/dataset.gz\n"
          ]
        }
      ]
    },
    {
      "cell_type": "code",
      "source": [
        "col_names = [\"duration\",\"protocol_type\",\"service\",\"flag\",\"src_bytes\",\"dst_bytes\",\"land\",\"wrong_fragment\",\"urgent\",\"hot\",\"num_failed_logins\",\"logged_in\",\n",
        "             \"num_compromised\",\"root_shell\",\"su_attempted\",\"num_root\",\"num_file_creations\",\"num_shells\",\"num_access_files\",\"num_outbound_cmds\",\n",
        "             \"is_host_login\",\"is_guest_login\",\"count\",\"srv_count\",\"serror_rate\",\"srv_serror_rate\",\"rerror_rate\",\"srv_rerror_rate\",\"same_srv_rate\",\n",
        "             \"diff_srv_rate\",\"srv_diff_host_rate\",\"dst_host_count\",\"dst_host_srv_count\",\"dst_host_same_srv_rate\",\"dst_host_diff_srv_rate\",\n",
        "             \"dst_host_same_src_port_rate\",\"dst_host_srv_diff_host_rate\",\"dst_host_serror_rate\",\"dst_host_srv_serror_rate\",\"dst_host_rerror_rate\",\n",
        "             \"dst_host_srv_rerror_rate\",\"label\"]"
      ],
      "metadata": {
        "id": "j5by1vDGjB0N"
      },
      "execution_count": 391,
      "outputs": []
    },
    {
      "cell_type": "code",
      "source": [
        "df =  pd.read_csv(path, header=None, names=col_names, index_col=False)"
      ],
      "metadata": {
        "id": "3INypkvejp1N"
      },
      "execution_count": 392,
      "outputs": []
    },
    {
      "cell_type": "code",
      "source": [
        "\n",
        "le = LabelEncoder()\n",
        "le.fit(df.label)\n",
        "\n",
        "def reduce_anomalies(df, pct_anomalies=.01):\n",
        "    labels = df['label'].copy()\n",
        "    is_anomaly = labels != 'normal.'\n",
        "    num_normal = np.sum(~is_anomaly)\n",
        "    num_anomalies = int(pct_anomalies * num_normal)\n",
        "    all_anomalies = labels[labels != 'normal.']\n",
        "    anomalies_to_keep = np.random.choice(all_anomalies.index, size=num_anomalies, replace=False)\n",
        "    anomalous_data = df.iloc[anomalies_to_keep].copy()\n",
        "    normal_data = df[~is_anomaly].copy()\n",
        "    new_df = pd.concat([normal_data, anomalous_data], axis=0)\n",
        "    return new_df\n",
        "\n",
        "df = reduce_anomalies(df, pct_anomalies=0.1)\n",
        "\n",
        "# capture the categorical variables and one-hot encode them\n",
        "cat_vars = ['protocol_type', 'service', 'flag', 'land', 'logged_in','is_host_login', 'is_guest_login']\n",
        "\n",
        "# find unique labels for each category\n",
        "cat_data = pd.get_dummies(df[cat_vars])\n",
        "\n",
        "numeric_vars = list(set(df.columns.values.tolist()) - set(cat_vars))\n",
        "numeric_vars.remove('label')\n",
        "numeric_data = df[numeric_vars].copy()\n",
        "\n",
        "numeric_cat_data = pd.concat([numeric_data, cat_data], axis=1)\n",
        "\n",
        "# capture the labels\n",
        "labels = df['label'].copy()\n",
        "\n",
        "# convert labels to integers\n",
        "integer_labels = le.transform(labels)\n",
        "\n",
        "# split data into test and train\n",
        "x_train, x_test, y_train, y_test = train_test_split(numeric_cat_data,\n",
        "                                                    integer_labels,\n",
        "                                                    test_size=.25,\n",
        "                                                    random_state=42)\n",
        "\n",
        "# save the datasets for later use\n",
        "preprocessed_data = {    'x_train':x_train,'y_train':y_train,'x_test':x_test,'y_test':y_test,'le':le}"
      ],
      "metadata": {
        "id": "vQomF46kjC7t"
      },
      "execution_count": 393,
      "outputs": []
    },
    {
      "cell_type": "code",
      "source": [
        "df"
      ],
      "metadata": {
        "id": "LklF3gq_iEfl",
        "outputId": "84b27f32-1482-4cf4-e152-faad721064f7",
        "colab": {
          "base_uri": "https://localhost:8080/",
          "height": 443
        }
      },
      "execution_count": 394,
      "outputs": [
        {
          "output_type": "execute_result",
          "data": {
            "text/plain": [
              "        duration protocol_type   service flag  src_bytes  dst_bytes  land  \\\n",
              "0              0           udp   private   SF        105        146     0   \n",
              "1              0           udp   private   SF        105        146     0   \n",
              "2              0           udp   private   SF        105        146     0   \n",
              "6              0           udp  domain_u   SF         29          0     0   \n",
              "7              0           udp   private   SF        105        146     0   \n",
              "...          ...           ...       ...  ...        ...        ...   ...   \n",
              "43046          0          icmp     ecr_i   SF       1032          0     0   \n",
              "32459          0          icmp     ecr_i   SF       1032          0     0   \n",
              "249945         0          icmp     ecr_i   SF        520          0     0   \n",
              "189951         0          icmp     ecr_i   SF       1032          0     0   \n",
              "240504         0          icmp     ecr_i   SF        520          0     0   \n",
              "\n",
              "        wrong_fragment  urgent  hot  ...  dst_host_srv_count  \\\n",
              "0                    0       0    0  ...                 254   \n",
              "1                    0       0    0  ...                 254   \n",
              "2                    0       0    0  ...                 254   \n",
              "6                    0       0    0  ...                   3   \n",
              "7                    0       0    0  ...                 253   \n",
              "...                ...     ...  ...  ...                 ...   \n",
              "43046                0       0    0  ...                 255   \n",
              "32459                0       0    0  ...                 255   \n",
              "249945               0       0    0  ...                 255   \n",
              "189951               0       0    0  ...                 255   \n",
              "240504               0       0    0  ...                 255   \n",
              "\n",
              "        dst_host_same_srv_rate  dst_host_diff_srv_rate  \\\n",
              "0                         1.00                    0.01   \n",
              "1                         1.00                    0.01   \n",
              "2                         1.00                    0.01   \n",
              "6                         0.30                    0.30   \n",
              "7                         0.99                    0.01   \n",
              "...                        ...                     ...   \n",
              "43046                     1.00                    0.00   \n",
              "32459                     1.00                    0.00   \n",
              "249945                    1.00                    0.00   \n",
              "189951                    1.00                    0.00   \n",
              "240504                    1.00                    0.00   \n",
              "\n",
              "        dst_host_same_src_port_rate  dst_host_srv_diff_host_rate  \\\n",
              "0                               0.0                          0.0   \n",
              "1                               0.0                          0.0   \n",
              "2                               0.0                          0.0   \n",
              "6                               0.3                          0.0   \n",
              "7                               0.0                          0.0   \n",
              "...                             ...                          ...   \n",
              "43046                           1.0                          0.0   \n",
              "32459                           1.0                          0.0   \n",
              "249945                          1.0                          0.0   \n",
              "189951                          1.0                          0.0   \n",
              "240504                          1.0                          0.0   \n",
              "\n",
              "        dst_host_serror_rate  dst_host_srv_serror_rate  dst_host_rerror_rate  \\\n",
              "0                        0.0                       0.0                   0.0   \n",
              "1                        0.0                       0.0                   0.0   \n",
              "2                        0.0                       0.0                   0.0   \n",
              "6                        0.0                       0.0                   0.0   \n",
              "7                        0.0                       0.0                   0.0   \n",
              "...                      ...                       ...                   ...   \n",
              "43046                    0.0                       0.0                   0.0   \n",
              "32459                    0.0                       0.0                   0.0   \n",
              "249945                   0.0                       0.0                   0.0   \n",
              "189951                   0.0                       0.0                   0.0   \n",
              "240504                   0.0                       0.0                   0.0   \n",
              "\n",
              "        dst_host_srv_rerror_rate    label  \n",
              "0                            0.0  normal.  \n",
              "1                            0.0  normal.  \n",
              "2                            0.0  normal.  \n",
              "6                            0.0  normal.  \n",
              "7                            0.0  normal.  \n",
              "...                          ...      ...  \n",
              "43046                        0.0   smurf.  \n",
              "32459                        0.0   smurf.  \n",
              "249945                       0.0   smurf.  \n",
              "189951                       0.0   smurf.  \n",
              "240504                       0.0   smurf.  \n",
              "\n",
              "[66652 rows x 42 columns]"
            ],
            "text/html": [
              "\n",
              "  <div id=\"df-0525c8db-4c57-4452-9d1f-fba4523bbb1f\" class=\"colab-df-container\">\n",
              "    <div>\n",
              "<style scoped>\n",
              "    .dataframe tbody tr th:only-of-type {\n",
              "        vertical-align: middle;\n",
              "    }\n",
              "\n",
              "    .dataframe tbody tr th {\n",
              "        vertical-align: top;\n",
              "    }\n",
              "\n",
              "    .dataframe thead th {\n",
              "        text-align: right;\n",
              "    }\n",
              "</style>\n",
              "<table border=\"1\" class=\"dataframe\">\n",
              "  <thead>\n",
              "    <tr style=\"text-align: right;\">\n",
              "      <th></th>\n",
              "      <th>duration</th>\n",
              "      <th>protocol_type</th>\n",
              "      <th>service</th>\n",
              "      <th>flag</th>\n",
              "      <th>src_bytes</th>\n",
              "      <th>dst_bytes</th>\n",
              "      <th>land</th>\n",
              "      <th>wrong_fragment</th>\n",
              "      <th>urgent</th>\n",
              "      <th>hot</th>\n",
              "      <th>...</th>\n",
              "      <th>dst_host_srv_count</th>\n",
              "      <th>dst_host_same_srv_rate</th>\n",
              "      <th>dst_host_diff_srv_rate</th>\n",
              "      <th>dst_host_same_src_port_rate</th>\n",
              "      <th>dst_host_srv_diff_host_rate</th>\n",
              "      <th>dst_host_serror_rate</th>\n",
              "      <th>dst_host_srv_serror_rate</th>\n",
              "      <th>dst_host_rerror_rate</th>\n",
              "      <th>dst_host_srv_rerror_rate</th>\n",
              "      <th>label</th>\n",
              "    </tr>\n",
              "  </thead>\n",
              "  <tbody>\n",
              "    <tr>\n",
              "      <th>0</th>\n",
              "      <td>0</td>\n",
              "      <td>udp</td>\n",
              "      <td>private</td>\n",
              "      <td>SF</td>\n",
              "      <td>105</td>\n",
              "      <td>146</td>\n",
              "      <td>0</td>\n",
              "      <td>0</td>\n",
              "      <td>0</td>\n",
              "      <td>0</td>\n",
              "      <td>...</td>\n",
              "      <td>254</td>\n",
              "      <td>1.00</td>\n",
              "      <td>0.01</td>\n",
              "      <td>0.0</td>\n",
              "      <td>0.0</td>\n",
              "      <td>0.0</td>\n",
              "      <td>0.0</td>\n",
              "      <td>0.0</td>\n",
              "      <td>0.0</td>\n",
              "      <td>normal.</td>\n",
              "    </tr>\n",
              "    <tr>\n",
              "      <th>1</th>\n",
              "      <td>0</td>\n",
              "      <td>udp</td>\n",
              "      <td>private</td>\n",
              "      <td>SF</td>\n",
              "      <td>105</td>\n",
              "      <td>146</td>\n",
              "      <td>0</td>\n",
              "      <td>0</td>\n",
              "      <td>0</td>\n",
              "      <td>0</td>\n",
              "      <td>...</td>\n",
              "      <td>254</td>\n",
              "      <td>1.00</td>\n",
              "      <td>0.01</td>\n",
              "      <td>0.0</td>\n",
              "      <td>0.0</td>\n",
              "      <td>0.0</td>\n",
              "      <td>0.0</td>\n",
              "      <td>0.0</td>\n",
              "      <td>0.0</td>\n",
              "      <td>normal.</td>\n",
              "    </tr>\n",
              "    <tr>\n",
              "      <th>2</th>\n",
              "      <td>0</td>\n",
              "      <td>udp</td>\n",
              "      <td>private</td>\n",
              "      <td>SF</td>\n",
              "      <td>105</td>\n",
              "      <td>146</td>\n",
              "      <td>0</td>\n",
              "      <td>0</td>\n",
              "      <td>0</td>\n",
              "      <td>0</td>\n",
              "      <td>...</td>\n",
              "      <td>254</td>\n",
              "      <td>1.00</td>\n",
              "      <td>0.01</td>\n",
              "      <td>0.0</td>\n",
              "      <td>0.0</td>\n",
              "      <td>0.0</td>\n",
              "      <td>0.0</td>\n",
              "      <td>0.0</td>\n",
              "      <td>0.0</td>\n",
              "      <td>normal.</td>\n",
              "    </tr>\n",
              "    <tr>\n",
              "      <th>6</th>\n",
              "      <td>0</td>\n",
              "      <td>udp</td>\n",
              "      <td>domain_u</td>\n",
              "      <td>SF</td>\n",
              "      <td>29</td>\n",
              "      <td>0</td>\n",
              "      <td>0</td>\n",
              "      <td>0</td>\n",
              "      <td>0</td>\n",
              "      <td>0</td>\n",
              "      <td>...</td>\n",
              "      <td>3</td>\n",
              "      <td>0.30</td>\n",
              "      <td>0.30</td>\n",
              "      <td>0.3</td>\n",
              "      <td>0.0</td>\n",
              "      <td>0.0</td>\n",
              "      <td>0.0</td>\n",
              "      <td>0.0</td>\n",
              "      <td>0.0</td>\n",
              "      <td>normal.</td>\n",
              "    </tr>\n",
              "    <tr>\n",
              "      <th>7</th>\n",
              "      <td>0</td>\n",
              "      <td>udp</td>\n",
              "      <td>private</td>\n",
              "      <td>SF</td>\n",
              "      <td>105</td>\n",
              "      <td>146</td>\n",
              "      <td>0</td>\n",
              "      <td>0</td>\n",
              "      <td>0</td>\n",
              "      <td>0</td>\n",
              "      <td>...</td>\n",
              "      <td>253</td>\n",
              "      <td>0.99</td>\n",
              "      <td>0.01</td>\n",
              "      <td>0.0</td>\n",
              "      <td>0.0</td>\n",
              "      <td>0.0</td>\n",
              "      <td>0.0</td>\n",
              "      <td>0.0</td>\n",
              "      <td>0.0</td>\n",
              "      <td>normal.</td>\n",
              "    </tr>\n",
              "    <tr>\n",
              "      <th>...</th>\n",
              "      <td>...</td>\n",
              "      <td>...</td>\n",
              "      <td>...</td>\n",
              "      <td>...</td>\n",
              "      <td>...</td>\n",
              "      <td>...</td>\n",
              "      <td>...</td>\n",
              "      <td>...</td>\n",
              "      <td>...</td>\n",
              "      <td>...</td>\n",
              "      <td>...</td>\n",
              "      <td>...</td>\n",
              "      <td>...</td>\n",
              "      <td>...</td>\n",
              "      <td>...</td>\n",
              "      <td>...</td>\n",
              "      <td>...</td>\n",
              "      <td>...</td>\n",
              "      <td>...</td>\n",
              "      <td>...</td>\n",
              "      <td>...</td>\n",
              "    </tr>\n",
              "    <tr>\n",
              "      <th>43046</th>\n",
              "      <td>0</td>\n",
              "      <td>icmp</td>\n",
              "      <td>ecr_i</td>\n",
              "      <td>SF</td>\n",
              "      <td>1032</td>\n",
              "      <td>0</td>\n",
              "      <td>0</td>\n",
              "      <td>0</td>\n",
              "      <td>0</td>\n",
              "      <td>0</td>\n",
              "      <td>...</td>\n",
              "      <td>255</td>\n",
              "      <td>1.00</td>\n",
              "      <td>0.00</td>\n",
              "      <td>1.0</td>\n",
              "      <td>0.0</td>\n",
              "      <td>0.0</td>\n",
              "      <td>0.0</td>\n",
              "      <td>0.0</td>\n",
              "      <td>0.0</td>\n",
              "      <td>smurf.</td>\n",
              "    </tr>\n",
              "    <tr>\n",
              "      <th>32459</th>\n",
              "      <td>0</td>\n",
              "      <td>icmp</td>\n",
              "      <td>ecr_i</td>\n",
              "      <td>SF</td>\n",
              "      <td>1032</td>\n",
              "      <td>0</td>\n",
              "      <td>0</td>\n",
              "      <td>0</td>\n",
              "      <td>0</td>\n",
              "      <td>0</td>\n",
              "      <td>...</td>\n",
              "      <td>255</td>\n",
              "      <td>1.00</td>\n",
              "      <td>0.00</td>\n",
              "      <td>1.0</td>\n",
              "      <td>0.0</td>\n",
              "      <td>0.0</td>\n",
              "      <td>0.0</td>\n",
              "      <td>0.0</td>\n",
              "      <td>0.0</td>\n",
              "      <td>smurf.</td>\n",
              "    </tr>\n",
              "    <tr>\n",
              "      <th>249945</th>\n",
              "      <td>0</td>\n",
              "      <td>icmp</td>\n",
              "      <td>ecr_i</td>\n",
              "      <td>SF</td>\n",
              "      <td>520</td>\n",
              "      <td>0</td>\n",
              "      <td>0</td>\n",
              "      <td>0</td>\n",
              "      <td>0</td>\n",
              "      <td>0</td>\n",
              "      <td>...</td>\n",
              "      <td>255</td>\n",
              "      <td>1.00</td>\n",
              "      <td>0.00</td>\n",
              "      <td>1.0</td>\n",
              "      <td>0.0</td>\n",
              "      <td>0.0</td>\n",
              "      <td>0.0</td>\n",
              "      <td>0.0</td>\n",
              "      <td>0.0</td>\n",
              "      <td>smurf.</td>\n",
              "    </tr>\n",
              "    <tr>\n",
              "      <th>189951</th>\n",
              "      <td>0</td>\n",
              "      <td>icmp</td>\n",
              "      <td>ecr_i</td>\n",
              "      <td>SF</td>\n",
              "      <td>1032</td>\n",
              "      <td>0</td>\n",
              "      <td>0</td>\n",
              "      <td>0</td>\n",
              "      <td>0</td>\n",
              "      <td>0</td>\n",
              "      <td>...</td>\n",
              "      <td>255</td>\n",
              "      <td>1.00</td>\n",
              "      <td>0.00</td>\n",
              "      <td>1.0</td>\n",
              "      <td>0.0</td>\n",
              "      <td>0.0</td>\n",
              "      <td>0.0</td>\n",
              "      <td>0.0</td>\n",
              "      <td>0.0</td>\n",
              "      <td>smurf.</td>\n",
              "    </tr>\n",
              "    <tr>\n",
              "      <th>240504</th>\n",
              "      <td>0</td>\n",
              "      <td>icmp</td>\n",
              "      <td>ecr_i</td>\n",
              "      <td>SF</td>\n",
              "      <td>520</td>\n",
              "      <td>0</td>\n",
              "      <td>0</td>\n",
              "      <td>0</td>\n",
              "      <td>0</td>\n",
              "      <td>0</td>\n",
              "      <td>...</td>\n",
              "      <td>255</td>\n",
              "      <td>1.00</td>\n",
              "      <td>0.00</td>\n",
              "      <td>1.0</td>\n",
              "      <td>0.0</td>\n",
              "      <td>0.0</td>\n",
              "      <td>0.0</td>\n",
              "      <td>0.0</td>\n",
              "      <td>0.0</td>\n",
              "      <td>smurf.</td>\n",
              "    </tr>\n",
              "  </tbody>\n",
              "</table>\n",
              "<p>66652 rows × 42 columns</p>\n",
              "</div>\n",
              "    <div class=\"colab-df-buttons\">\n",
              "\n",
              "  <div class=\"colab-df-container\">\n",
              "    <button class=\"colab-df-convert\" onclick=\"convertToInteractive('df-0525c8db-4c57-4452-9d1f-fba4523bbb1f')\"\n",
              "            title=\"Convert this dataframe to an interactive table.\"\n",
              "            style=\"display:none;\">\n",
              "\n",
              "  <svg xmlns=\"http://www.w3.org/2000/svg\" height=\"24px\" viewBox=\"0 -960 960 960\">\n",
              "    <path d=\"M120-120v-720h720v720H120Zm60-500h600v-160H180v160Zm220 220h160v-160H400v160Zm0 220h160v-160H400v160ZM180-400h160v-160H180v160Zm440 0h160v-160H620v160ZM180-180h160v-160H180v160Zm440 0h160v-160H620v160Z\"/>\n",
              "  </svg>\n",
              "    </button>\n",
              "\n",
              "  <style>\n",
              "    .colab-df-container {\n",
              "      display:flex;\n",
              "      gap: 12px;\n",
              "    }\n",
              "\n",
              "    .colab-df-convert {\n",
              "      background-color: #E8F0FE;\n",
              "      border: none;\n",
              "      border-radius: 50%;\n",
              "      cursor: pointer;\n",
              "      display: none;\n",
              "      fill: #1967D2;\n",
              "      height: 32px;\n",
              "      padding: 0 0 0 0;\n",
              "      width: 32px;\n",
              "    }\n",
              "\n",
              "    .colab-df-convert:hover {\n",
              "      background-color: #E2EBFA;\n",
              "      box-shadow: 0px 1px 2px rgba(60, 64, 67, 0.3), 0px 1px 3px 1px rgba(60, 64, 67, 0.15);\n",
              "      fill: #174EA6;\n",
              "    }\n",
              "\n",
              "    .colab-df-buttons div {\n",
              "      margin-bottom: 4px;\n",
              "    }\n",
              "\n",
              "    [theme=dark] .colab-df-convert {\n",
              "      background-color: #3B4455;\n",
              "      fill: #D2E3FC;\n",
              "    }\n",
              "\n",
              "    [theme=dark] .colab-df-convert:hover {\n",
              "      background-color: #434B5C;\n",
              "      box-shadow: 0px 1px 3px 1px rgba(0, 0, 0, 0.15);\n",
              "      filter: drop-shadow(0px 1px 2px rgba(0, 0, 0, 0.3));\n",
              "      fill: #FFFFFF;\n",
              "    }\n",
              "  </style>\n",
              "\n",
              "    <script>\n",
              "      const buttonEl =\n",
              "        document.querySelector('#df-0525c8db-4c57-4452-9d1f-fba4523bbb1f button.colab-df-convert');\n",
              "      buttonEl.style.display =\n",
              "        google.colab.kernel.accessAllowed ? 'block' : 'none';\n",
              "\n",
              "      async function convertToInteractive(key) {\n",
              "        const element = document.querySelector('#df-0525c8db-4c57-4452-9d1f-fba4523bbb1f');\n",
              "        const dataTable =\n",
              "          await google.colab.kernel.invokeFunction('convertToInteractive',\n",
              "                                                    [key], {});\n",
              "        if (!dataTable) return;\n",
              "\n",
              "        const docLinkHtml = 'Like what you see? Visit the ' +\n",
              "          '<a target=\"_blank\" href=https://colab.research.google.com/notebooks/data_table.ipynb>data table notebook</a>'\n",
              "          + ' to learn more about interactive tables.';\n",
              "        element.innerHTML = '';\n",
              "        dataTable['output_type'] = 'display_data';\n",
              "        await google.colab.output.renderOutput(dataTable, element);\n",
              "        const docLink = document.createElement('div');\n",
              "        docLink.innerHTML = docLinkHtml;\n",
              "        element.appendChild(docLink);\n",
              "      }\n",
              "    </script>\n",
              "  </div>\n",
              "\n",
              "\n",
              "<div id=\"df-67b9683c-fba6-4b49-8744-56fd3f0400e7\">\n",
              "  <button class=\"colab-df-quickchart\" onclick=\"quickchart('df-67b9683c-fba6-4b49-8744-56fd3f0400e7')\"\n",
              "            title=\"Suggest charts\"\n",
              "            style=\"display:none;\">\n",
              "\n",
              "<svg xmlns=\"http://www.w3.org/2000/svg\" height=\"24px\"viewBox=\"0 0 24 24\"\n",
              "     width=\"24px\">\n",
              "    <g>\n",
              "        <path d=\"M19 3H5c-1.1 0-2 .9-2 2v14c0 1.1.9 2 2 2h14c1.1 0 2-.9 2-2V5c0-1.1-.9-2-2-2zM9 17H7v-7h2v7zm4 0h-2V7h2v10zm4 0h-2v-4h2v4z\"/>\n",
              "    </g>\n",
              "</svg>\n",
              "  </button>\n",
              "\n",
              "<style>\n",
              "  .colab-df-quickchart {\n",
              "      --bg-color: #E8F0FE;\n",
              "      --fill-color: #1967D2;\n",
              "      --hover-bg-color: #E2EBFA;\n",
              "      --hover-fill-color: #174EA6;\n",
              "      --disabled-fill-color: #AAA;\n",
              "      --disabled-bg-color: #DDD;\n",
              "  }\n",
              "\n",
              "  [theme=dark] .colab-df-quickchart {\n",
              "      --bg-color: #3B4455;\n",
              "      --fill-color: #D2E3FC;\n",
              "      --hover-bg-color: #434B5C;\n",
              "      --hover-fill-color: #FFFFFF;\n",
              "      --disabled-bg-color: #3B4455;\n",
              "      --disabled-fill-color: #666;\n",
              "  }\n",
              "\n",
              "  .colab-df-quickchart {\n",
              "    background-color: var(--bg-color);\n",
              "    border: none;\n",
              "    border-radius: 50%;\n",
              "    cursor: pointer;\n",
              "    display: none;\n",
              "    fill: var(--fill-color);\n",
              "    height: 32px;\n",
              "    padding: 0;\n",
              "    width: 32px;\n",
              "  }\n",
              "\n",
              "  .colab-df-quickchart:hover {\n",
              "    background-color: var(--hover-bg-color);\n",
              "    box-shadow: 0 1px 2px rgba(60, 64, 67, 0.3), 0 1px 3px 1px rgba(60, 64, 67, 0.15);\n",
              "    fill: var(--button-hover-fill-color);\n",
              "  }\n",
              "\n",
              "  .colab-df-quickchart-complete:disabled,\n",
              "  .colab-df-quickchart-complete:disabled:hover {\n",
              "    background-color: var(--disabled-bg-color);\n",
              "    fill: var(--disabled-fill-color);\n",
              "    box-shadow: none;\n",
              "  }\n",
              "\n",
              "  .colab-df-spinner {\n",
              "    border: 2px solid var(--fill-color);\n",
              "    border-color: transparent;\n",
              "    border-bottom-color: var(--fill-color);\n",
              "    animation:\n",
              "      spin 1s steps(1) infinite;\n",
              "  }\n",
              "\n",
              "  @keyframes spin {\n",
              "    0% {\n",
              "      border-color: transparent;\n",
              "      border-bottom-color: var(--fill-color);\n",
              "      border-left-color: var(--fill-color);\n",
              "    }\n",
              "    20% {\n",
              "      border-color: transparent;\n",
              "      border-left-color: var(--fill-color);\n",
              "      border-top-color: var(--fill-color);\n",
              "    }\n",
              "    30% {\n",
              "      border-color: transparent;\n",
              "      border-left-color: var(--fill-color);\n",
              "      border-top-color: var(--fill-color);\n",
              "      border-right-color: var(--fill-color);\n",
              "    }\n",
              "    40% {\n",
              "      border-color: transparent;\n",
              "      border-right-color: var(--fill-color);\n",
              "      border-top-color: var(--fill-color);\n",
              "    }\n",
              "    60% {\n",
              "      border-color: transparent;\n",
              "      border-right-color: var(--fill-color);\n",
              "    }\n",
              "    80% {\n",
              "      border-color: transparent;\n",
              "      border-right-color: var(--fill-color);\n",
              "      border-bottom-color: var(--fill-color);\n",
              "    }\n",
              "    90% {\n",
              "      border-color: transparent;\n",
              "      border-bottom-color: var(--fill-color);\n",
              "    }\n",
              "  }\n",
              "</style>\n",
              "\n",
              "  <script>\n",
              "    async function quickchart(key) {\n",
              "      const quickchartButtonEl =\n",
              "        document.querySelector('#' + key + ' button');\n",
              "      quickchartButtonEl.disabled = true;  // To prevent multiple clicks.\n",
              "      quickchartButtonEl.classList.add('colab-df-spinner');\n",
              "      try {\n",
              "        const charts = await google.colab.kernel.invokeFunction(\n",
              "            'suggestCharts', [key], {});\n",
              "      } catch (error) {\n",
              "        console.error('Error during call to suggestCharts:', error);\n",
              "      }\n",
              "      quickchartButtonEl.classList.remove('colab-df-spinner');\n",
              "      quickchartButtonEl.classList.add('colab-df-quickchart-complete');\n",
              "    }\n",
              "    (() => {\n",
              "      let quickchartButtonEl =\n",
              "        document.querySelector('#df-67b9683c-fba6-4b49-8744-56fd3f0400e7 button');\n",
              "      quickchartButtonEl.style.display =\n",
              "        google.colab.kernel.accessAllowed ? 'block' : 'none';\n",
              "    })();\n",
              "  </script>\n",
              "</div>\n",
              "    </div>\n",
              "  </div>\n"
            ],
            "application/vnd.google.colaboratory.intrinsic+json": {
              "type": "dataframe",
              "variable_name": "df"
            }
          },
          "metadata": {},
          "execution_count": 394
        }
      ]
    },
    {
      "cell_type": "markdown",
      "metadata": {
        "id": "lzvQAr_R_1kJ"
      },
      "source": [
        "Let us load the same KDD-99 dataset that we used in the previous labs."
      ]
    },
    {
      "cell_type": "markdown",
      "metadata": {
        "id": "7H8ujAhK_1kK"
      },
      "source": [
        "Just like in Lab 2, we will split the pickled data into vectors and assign them to the label encoder `le`, training and testing sets."
      ]
    },
    {
      "cell_type": "code",
      "execution_count": 395,
      "metadata": {
        "id": "y87vWS-0_1kK",
        "outputId": "c1d26183-ff3c-447a-ca41-57836a549896",
        "colab": {
          "base_uri": "https://localhost:8080/"
        }
      },
      "outputs": [
        {
          "output_type": "stream",
          "name": "stdout",
          "text": [
            "x_train\n",
            "y_train\n",
            "x_test\n",
            "y_test\n",
            "le\n"
          ]
        }
      ],
      "source": [
        "for key,value in preprocessed_data.items():\n",
        "    print(key)"
      ]
    },
    {
      "cell_type": "code",
      "source": [
        "x_test.shape"
      ],
      "metadata": {
        "id": "Z1kWOalzo7p3",
        "outputId": "2042a579-57e6-4a75-9d0f-607410583605",
        "colab": {
          "base_uri": "https://localhost:8080/"
        }
      },
      "execution_count": 396,
      "outputs": [
        {
          "output_type": "execute_result",
          "data": {
            "text/plain": [
              "(16663, 108)"
            ]
          },
          "metadata": {},
          "execution_count": 396
        }
      ]
    },
    {
      "cell_type": "code",
      "execution_count": 397,
      "metadata": {
        "id": "q0zT-O0q_1kL"
      },
      "outputs": [],
      "source": [
        "le = preprocessed_data['le']\n",
        "x_train = preprocessed_data['x_train']\n",
        "y_train = preprocessed_data['y_train']\n",
        "x_test = preprocessed_data['x_test']\n",
        "y_test = preprocessed_data['y_test']"
      ]
    },
    {
      "cell_type": "code",
      "execution_count": 398,
      "metadata": {
        "id": "79k2VL7q_1kL",
        "outputId": "447eb7b4-f508-4cc4-9c5d-25ee0899a4e2",
        "colab": {
          "base_uri": "https://localhost:8080/"
        }
      },
      "outputs": [
        {
          "output_type": "execute_result",
          "data": {
            "text/plain": [
              "array([ 0,  1,  2,  4,  5,  7, 10, 11, 14, 15, 16, 20, 21, 24, 25, 27, 28,\n",
              "       29, 33, 37])"
            ]
          },
          "metadata": {},
          "execution_count": 398
        }
      ],
      "source": [
        "np.unique(y_train)"
      ]
    },
    {
      "cell_type": "code",
      "source": [
        "preprocessed_data['le']"
      ],
      "metadata": {
        "id": "KD8dpq6Hli0p",
        "outputId": "7f77044e-845c-46f9-d7df-6f97e6886dea",
        "colab": {
          "base_uri": "https://localhost:8080/",
          "height": 74
        }
      },
      "execution_count": 399,
      "outputs": [
        {
          "output_type": "execute_result",
          "data": {
            "text/plain": [
              "LabelEncoder()"
            ],
            "text/html": [
              "<style>#sk-container-id-13 {color: black;background-color: white;}#sk-container-id-13 pre{padding: 0;}#sk-container-id-13 div.sk-toggleable {background-color: white;}#sk-container-id-13 label.sk-toggleable__label {cursor: pointer;display: block;width: 100%;margin-bottom: 0;padding: 0.3em;box-sizing: border-box;text-align: center;}#sk-container-id-13 label.sk-toggleable__label-arrow:before {content: \"▸\";float: left;margin-right: 0.25em;color: #696969;}#sk-container-id-13 label.sk-toggleable__label-arrow:hover:before {color: black;}#sk-container-id-13 div.sk-estimator:hover label.sk-toggleable__label-arrow:before {color: black;}#sk-container-id-13 div.sk-toggleable__content {max-height: 0;max-width: 0;overflow: hidden;text-align: left;background-color: #f0f8ff;}#sk-container-id-13 div.sk-toggleable__content pre {margin: 0.2em;color: black;border-radius: 0.25em;background-color: #f0f8ff;}#sk-container-id-13 input.sk-toggleable__control:checked~div.sk-toggleable__content {max-height: 200px;max-width: 100%;overflow: auto;}#sk-container-id-13 input.sk-toggleable__control:checked~label.sk-toggleable__label-arrow:before {content: \"▾\";}#sk-container-id-13 div.sk-estimator input.sk-toggleable__control:checked~label.sk-toggleable__label {background-color: #d4ebff;}#sk-container-id-13 div.sk-label input.sk-toggleable__control:checked~label.sk-toggleable__label {background-color: #d4ebff;}#sk-container-id-13 input.sk-hidden--visually {border: 0;clip: rect(1px 1px 1px 1px);clip: rect(1px, 1px, 1px, 1px);height: 1px;margin: -1px;overflow: hidden;padding: 0;position: absolute;width: 1px;}#sk-container-id-13 div.sk-estimator {font-family: monospace;background-color: #f0f8ff;border: 1px dotted black;border-radius: 0.25em;box-sizing: border-box;margin-bottom: 0.5em;}#sk-container-id-13 div.sk-estimator:hover {background-color: #d4ebff;}#sk-container-id-13 div.sk-parallel-item::after {content: \"\";width: 100%;border-bottom: 1px solid gray;flex-grow: 1;}#sk-container-id-13 div.sk-label:hover label.sk-toggleable__label {background-color: #d4ebff;}#sk-container-id-13 div.sk-serial::before {content: \"\";position: absolute;border-left: 1px solid gray;box-sizing: border-box;top: 0;bottom: 0;left: 50%;z-index: 0;}#sk-container-id-13 div.sk-serial {display: flex;flex-direction: column;align-items: center;background-color: white;padding-right: 0.2em;padding-left: 0.2em;position: relative;}#sk-container-id-13 div.sk-item {position: relative;z-index: 1;}#sk-container-id-13 div.sk-parallel {display: flex;align-items: stretch;justify-content: center;background-color: white;position: relative;}#sk-container-id-13 div.sk-item::before, #sk-container-id-13 div.sk-parallel-item::before {content: \"\";position: absolute;border-left: 1px solid gray;box-sizing: border-box;top: 0;bottom: 0;left: 50%;z-index: -1;}#sk-container-id-13 div.sk-parallel-item {display: flex;flex-direction: column;z-index: 1;position: relative;background-color: white;}#sk-container-id-13 div.sk-parallel-item:first-child::after {align-self: flex-end;width: 50%;}#sk-container-id-13 div.sk-parallel-item:last-child::after {align-self: flex-start;width: 50%;}#sk-container-id-13 div.sk-parallel-item:only-child::after {width: 0;}#sk-container-id-13 div.sk-dashed-wrapped {border: 1px dashed gray;margin: 0 0.4em 0.5em 0.4em;box-sizing: border-box;padding-bottom: 0.4em;background-color: white;}#sk-container-id-13 div.sk-label label {font-family: monospace;font-weight: bold;display: inline-block;line-height: 1.2em;}#sk-container-id-13 div.sk-label-container {text-align: center;}#sk-container-id-13 div.sk-container {/* jupyter's `normalize.less` sets `[hidden] { display: none; }` but bootstrap.min.css set `[hidden] { display: none !important; }` so we also need the `!important` here to be able to override the default hidden behavior on the sphinx rendered scikit-learn.org. See: https://github.com/scikit-learn/scikit-learn/issues/21755 */display: inline-block !important;position: relative;}#sk-container-id-13 div.sk-text-repr-fallback {display: none;}</style><div id=\"sk-container-id-13\" class=\"sk-top-container\"><div class=\"sk-text-repr-fallback\"><pre>LabelEncoder()</pre><b>In a Jupyter environment, please rerun this cell to show the HTML representation or trust the notebook. <br />On GitHub, the HTML representation is unable to render, please try loading this page with nbviewer.org.</b></div><div class=\"sk-container\" hidden><div class=\"sk-item\"><div class=\"sk-estimator sk-toggleable\"><input class=\"sk-toggleable__control sk-hidden--visually\" id=\"sk-estimator-id-13\" type=\"checkbox\" checked><label for=\"sk-estimator-id-13\" class=\"sk-toggleable__label sk-toggleable__label-arrow\">LabelEncoder</label><div class=\"sk-toggleable__content\"><pre>LabelEncoder()</pre></div></div></div></div></div>"
            ]
          },
          "metadata": {},
          "execution_count": 399
        }
      ]
    },
    {
      "cell_type": "markdown",
      "metadata": {
        "id": "dHk6iSFn_1kL"
      },
      "source": [
        "### 1.1 Data Preprocessing"
      ]
    },
    {
      "cell_type": "markdown",
      "metadata": {
        "id": "slh-MfZP_1kM"
      },
      "source": [
        "We first consider the binary classification problem. Similar to previous labs, *Normal* data points will be labeled as '0' and *Anomalous* points will be labeled as '1'."
      ]
    },
    {
      "cell_type": "code",
      "execution_count": 400,
      "metadata": {
        "id": "LYz9uAb9_1kM",
        "outputId": "57aab33e-8858-4019-c81f-4334d381facc",
        "colab": {
          "base_uri": "https://localhost:8080/",
          "height": 1000
        }
      },
      "outputs": [
        {
          "output_type": "execute_result",
          "data": {
            "text/plain": [
              "                Type\n",
              "0           apache2.\n",
              "1              back.\n",
              "2   buffer_overflow.\n",
              "3         ftp_write.\n",
              "4      guess_passwd.\n",
              "5        httptunnel.\n",
              "6              imap.\n",
              "7           ipsweep.\n",
              "8              land.\n",
              "9        loadmodule.\n",
              "10         mailbomb.\n",
              "11            mscan.\n",
              "12         multihop.\n",
              "13            named.\n",
              "14          neptune.\n",
              "15             nmap.\n",
              "16           normal.\n",
              "17             perl.\n",
              "18              phf.\n",
              "19              pod.\n",
              "20        portsweep.\n",
              "21     processtable.\n",
              "22               ps.\n",
              "23          rootkit.\n",
              "24            saint.\n",
              "25            satan.\n",
              "26         sendmail.\n",
              "27            smurf.\n",
              "28    snmpgetattack.\n",
              "29        snmpguess.\n",
              "30        sqlattack.\n",
              "31         teardrop.\n",
              "32         udpstorm.\n",
              "33      warezmaster.\n",
              "34             worm.\n",
              "35            xlock.\n",
              "36           xsnoop.\n",
              "37            xterm."
            ],
            "text/html": [
              "\n",
              "  <div id=\"df-923114c8-593a-4f19-b5b3-31296f979124\" class=\"colab-df-container\">\n",
              "    <div>\n",
              "<style scoped>\n",
              "    .dataframe tbody tr th:only-of-type {\n",
              "        vertical-align: middle;\n",
              "    }\n",
              "\n",
              "    .dataframe tbody tr th {\n",
              "        vertical-align: top;\n",
              "    }\n",
              "\n",
              "    .dataframe thead th {\n",
              "        text-align: right;\n",
              "    }\n",
              "</style>\n",
              "<table border=\"1\" class=\"dataframe\">\n",
              "  <thead>\n",
              "    <tr style=\"text-align: right;\">\n",
              "      <th></th>\n",
              "      <th>Type</th>\n",
              "    </tr>\n",
              "  </thead>\n",
              "  <tbody>\n",
              "    <tr>\n",
              "      <th>0</th>\n",
              "      <td>apache2.</td>\n",
              "    </tr>\n",
              "    <tr>\n",
              "      <th>1</th>\n",
              "      <td>back.</td>\n",
              "    </tr>\n",
              "    <tr>\n",
              "      <th>2</th>\n",
              "      <td>buffer_overflow.</td>\n",
              "    </tr>\n",
              "    <tr>\n",
              "      <th>3</th>\n",
              "      <td>ftp_write.</td>\n",
              "    </tr>\n",
              "    <tr>\n",
              "      <th>4</th>\n",
              "      <td>guess_passwd.</td>\n",
              "    </tr>\n",
              "    <tr>\n",
              "      <th>5</th>\n",
              "      <td>httptunnel.</td>\n",
              "    </tr>\n",
              "    <tr>\n",
              "      <th>6</th>\n",
              "      <td>imap.</td>\n",
              "    </tr>\n",
              "    <tr>\n",
              "      <th>7</th>\n",
              "      <td>ipsweep.</td>\n",
              "    </tr>\n",
              "    <tr>\n",
              "      <th>8</th>\n",
              "      <td>land.</td>\n",
              "    </tr>\n",
              "    <tr>\n",
              "      <th>9</th>\n",
              "      <td>loadmodule.</td>\n",
              "    </tr>\n",
              "    <tr>\n",
              "      <th>10</th>\n",
              "      <td>mailbomb.</td>\n",
              "    </tr>\n",
              "    <tr>\n",
              "      <th>11</th>\n",
              "      <td>mscan.</td>\n",
              "    </tr>\n",
              "    <tr>\n",
              "      <th>12</th>\n",
              "      <td>multihop.</td>\n",
              "    </tr>\n",
              "    <tr>\n",
              "      <th>13</th>\n",
              "      <td>named.</td>\n",
              "    </tr>\n",
              "    <tr>\n",
              "      <th>14</th>\n",
              "      <td>neptune.</td>\n",
              "    </tr>\n",
              "    <tr>\n",
              "      <th>15</th>\n",
              "      <td>nmap.</td>\n",
              "    </tr>\n",
              "    <tr>\n",
              "      <th>16</th>\n",
              "      <td>normal.</td>\n",
              "    </tr>\n",
              "    <tr>\n",
              "      <th>17</th>\n",
              "      <td>perl.</td>\n",
              "    </tr>\n",
              "    <tr>\n",
              "      <th>18</th>\n",
              "      <td>phf.</td>\n",
              "    </tr>\n",
              "    <tr>\n",
              "      <th>19</th>\n",
              "      <td>pod.</td>\n",
              "    </tr>\n",
              "    <tr>\n",
              "      <th>20</th>\n",
              "      <td>portsweep.</td>\n",
              "    </tr>\n",
              "    <tr>\n",
              "      <th>21</th>\n",
              "      <td>processtable.</td>\n",
              "    </tr>\n",
              "    <tr>\n",
              "      <th>22</th>\n",
              "      <td>ps.</td>\n",
              "    </tr>\n",
              "    <tr>\n",
              "      <th>23</th>\n",
              "      <td>rootkit.</td>\n",
              "    </tr>\n",
              "    <tr>\n",
              "      <th>24</th>\n",
              "      <td>saint.</td>\n",
              "    </tr>\n",
              "    <tr>\n",
              "      <th>25</th>\n",
              "      <td>satan.</td>\n",
              "    </tr>\n",
              "    <tr>\n",
              "      <th>26</th>\n",
              "      <td>sendmail.</td>\n",
              "    </tr>\n",
              "    <tr>\n",
              "      <th>27</th>\n",
              "      <td>smurf.</td>\n",
              "    </tr>\n",
              "    <tr>\n",
              "      <th>28</th>\n",
              "      <td>snmpgetattack.</td>\n",
              "    </tr>\n",
              "    <tr>\n",
              "      <th>29</th>\n",
              "      <td>snmpguess.</td>\n",
              "    </tr>\n",
              "    <tr>\n",
              "      <th>30</th>\n",
              "      <td>sqlattack.</td>\n",
              "    </tr>\n",
              "    <tr>\n",
              "      <th>31</th>\n",
              "      <td>teardrop.</td>\n",
              "    </tr>\n",
              "    <tr>\n",
              "      <th>32</th>\n",
              "      <td>udpstorm.</td>\n",
              "    </tr>\n",
              "    <tr>\n",
              "      <th>33</th>\n",
              "      <td>warezmaster.</td>\n",
              "    </tr>\n",
              "    <tr>\n",
              "      <th>34</th>\n",
              "      <td>worm.</td>\n",
              "    </tr>\n",
              "    <tr>\n",
              "      <th>35</th>\n",
              "      <td>xlock.</td>\n",
              "    </tr>\n",
              "    <tr>\n",
              "      <th>36</th>\n",
              "      <td>xsnoop.</td>\n",
              "    </tr>\n",
              "    <tr>\n",
              "      <th>37</th>\n",
              "      <td>xterm.</td>\n",
              "    </tr>\n",
              "  </tbody>\n",
              "</table>\n",
              "</div>\n",
              "    <div class=\"colab-df-buttons\">\n",
              "\n",
              "  <div class=\"colab-df-container\">\n",
              "    <button class=\"colab-df-convert\" onclick=\"convertToInteractive('df-923114c8-593a-4f19-b5b3-31296f979124')\"\n",
              "            title=\"Convert this dataframe to an interactive table.\"\n",
              "            style=\"display:none;\">\n",
              "\n",
              "  <svg xmlns=\"http://www.w3.org/2000/svg\" height=\"24px\" viewBox=\"0 -960 960 960\">\n",
              "    <path d=\"M120-120v-720h720v720H120Zm60-500h600v-160H180v160Zm220 220h160v-160H400v160Zm0 220h160v-160H400v160ZM180-400h160v-160H180v160Zm440 0h160v-160H620v160ZM180-180h160v-160H180v160Zm440 0h160v-160H620v160Z\"/>\n",
              "  </svg>\n",
              "    </button>\n",
              "\n",
              "  <style>\n",
              "    .colab-df-container {\n",
              "      display:flex;\n",
              "      gap: 12px;\n",
              "    }\n",
              "\n",
              "    .colab-df-convert {\n",
              "      background-color: #E8F0FE;\n",
              "      border: none;\n",
              "      border-radius: 50%;\n",
              "      cursor: pointer;\n",
              "      display: none;\n",
              "      fill: #1967D2;\n",
              "      height: 32px;\n",
              "      padding: 0 0 0 0;\n",
              "      width: 32px;\n",
              "    }\n",
              "\n",
              "    .colab-df-convert:hover {\n",
              "      background-color: #E2EBFA;\n",
              "      box-shadow: 0px 1px 2px rgba(60, 64, 67, 0.3), 0px 1px 3px 1px rgba(60, 64, 67, 0.15);\n",
              "      fill: #174EA6;\n",
              "    }\n",
              "\n",
              "    .colab-df-buttons div {\n",
              "      margin-bottom: 4px;\n",
              "    }\n",
              "\n",
              "    [theme=dark] .colab-df-convert {\n",
              "      background-color: #3B4455;\n",
              "      fill: #D2E3FC;\n",
              "    }\n",
              "\n",
              "    [theme=dark] .colab-df-convert:hover {\n",
              "      background-color: #434B5C;\n",
              "      box-shadow: 0px 1px 3px 1px rgba(0, 0, 0, 0.15);\n",
              "      filter: drop-shadow(0px 1px 2px rgba(0, 0, 0, 0.3));\n",
              "      fill: #FFFFFF;\n",
              "    }\n",
              "  </style>\n",
              "\n",
              "    <script>\n",
              "      const buttonEl =\n",
              "        document.querySelector('#df-923114c8-593a-4f19-b5b3-31296f979124 button.colab-df-convert');\n",
              "      buttonEl.style.display =\n",
              "        google.colab.kernel.accessAllowed ? 'block' : 'none';\n",
              "\n",
              "      async function convertToInteractive(key) {\n",
              "        const element = document.querySelector('#df-923114c8-593a-4f19-b5b3-31296f979124');\n",
              "        const dataTable =\n",
              "          await google.colab.kernel.invokeFunction('convertToInteractive',\n",
              "                                                    [key], {});\n",
              "        if (!dataTable) return;\n",
              "\n",
              "        const docLinkHtml = 'Like what you see? Visit the ' +\n",
              "          '<a target=\"_blank\" href=https://colab.research.google.com/notebooks/data_table.ipynb>data table notebook</a>'\n",
              "          + ' to learn more about interactive tables.';\n",
              "        element.innerHTML = '';\n",
              "        dataTable['output_type'] = 'display_data';\n",
              "        await google.colab.output.renderOutput(dataTable, element);\n",
              "        const docLink = document.createElement('div');\n",
              "        docLink.innerHTML = docLinkHtml;\n",
              "        element.appendChild(docLink);\n",
              "      }\n",
              "    </script>\n",
              "  </div>\n",
              "\n",
              "\n",
              "<div id=\"df-9f314316-fb51-4204-b5af-06e20cb3404a\">\n",
              "  <button class=\"colab-df-quickchart\" onclick=\"quickchart('df-9f314316-fb51-4204-b5af-06e20cb3404a')\"\n",
              "            title=\"Suggest charts\"\n",
              "            style=\"display:none;\">\n",
              "\n",
              "<svg xmlns=\"http://www.w3.org/2000/svg\" height=\"24px\"viewBox=\"0 0 24 24\"\n",
              "     width=\"24px\">\n",
              "    <g>\n",
              "        <path d=\"M19 3H5c-1.1 0-2 .9-2 2v14c0 1.1.9 2 2 2h14c1.1 0 2-.9 2-2V5c0-1.1-.9-2-2-2zM9 17H7v-7h2v7zm4 0h-2V7h2v10zm4 0h-2v-4h2v4z\"/>\n",
              "    </g>\n",
              "</svg>\n",
              "  </button>\n",
              "\n",
              "<style>\n",
              "  .colab-df-quickchart {\n",
              "      --bg-color: #E8F0FE;\n",
              "      --fill-color: #1967D2;\n",
              "      --hover-bg-color: #E2EBFA;\n",
              "      --hover-fill-color: #174EA6;\n",
              "      --disabled-fill-color: #AAA;\n",
              "      --disabled-bg-color: #DDD;\n",
              "  }\n",
              "\n",
              "  [theme=dark] .colab-df-quickchart {\n",
              "      --bg-color: #3B4455;\n",
              "      --fill-color: #D2E3FC;\n",
              "      --hover-bg-color: #434B5C;\n",
              "      --hover-fill-color: #FFFFFF;\n",
              "      --disabled-bg-color: #3B4455;\n",
              "      --disabled-fill-color: #666;\n",
              "  }\n",
              "\n",
              "  .colab-df-quickchart {\n",
              "    background-color: var(--bg-color);\n",
              "    border: none;\n",
              "    border-radius: 50%;\n",
              "    cursor: pointer;\n",
              "    display: none;\n",
              "    fill: var(--fill-color);\n",
              "    height: 32px;\n",
              "    padding: 0;\n",
              "    width: 32px;\n",
              "  }\n",
              "\n",
              "  .colab-df-quickchart:hover {\n",
              "    background-color: var(--hover-bg-color);\n",
              "    box-shadow: 0 1px 2px rgba(60, 64, 67, 0.3), 0 1px 3px 1px rgba(60, 64, 67, 0.15);\n",
              "    fill: var(--button-hover-fill-color);\n",
              "  }\n",
              "\n",
              "  .colab-df-quickchart-complete:disabled,\n",
              "  .colab-df-quickchart-complete:disabled:hover {\n",
              "    background-color: var(--disabled-bg-color);\n",
              "    fill: var(--disabled-fill-color);\n",
              "    box-shadow: none;\n",
              "  }\n",
              "\n",
              "  .colab-df-spinner {\n",
              "    border: 2px solid var(--fill-color);\n",
              "    border-color: transparent;\n",
              "    border-bottom-color: var(--fill-color);\n",
              "    animation:\n",
              "      spin 1s steps(1) infinite;\n",
              "  }\n",
              "\n",
              "  @keyframes spin {\n",
              "    0% {\n",
              "      border-color: transparent;\n",
              "      border-bottom-color: var(--fill-color);\n",
              "      border-left-color: var(--fill-color);\n",
              "    }\n",
              "    20% {\n",
              "      border-color: transparent;\n",
              "      border-left-color: var(--fill-color);\n",
              "      border-top-color: var(--fill-color);\n",
              "    }\n",
              "    30% {\n",
              "      border-color: transparent;\n",
              "      border-left-color: var(--fill-color);\n",
              "      border-top-color: var(--fill-color);\n",
              "      border-right-color: var(--fill-color);\n",
              "    }\n",
              "    40% {\n",
              "      border-color: transparent;\n",
              "      border-right-color: var(--fill-color);\n",
              "      border-top-color: var(--fill-color);\n",
              "    }\n",
              "    60% {\n",
              "      border-color: transparent;\n",
              "      border-right-color: var(--fill-color);\n",
              "    }\n",
              "    80% {\n",
              "      border-color: transparent;\n",
              "      border-right-color: var(--fill-color);\n",
              "      border-bottom-color: var(--fill-color);\n",
              "    }\n",
              "    90% {\n",
              "      border-color: transparent;\n",
              "      border-bottom-color: var(--fill-color);\n",
              "    }\n",
              "  }\n",
              "</style>\n",
              "\n",
              "  <script>\n",
              "    async function quickchart(key) {\n",
              "      const quickchartButtonEl =\n",
              "        document.querySelector('#' + key + ' button');\n",
              "      quickchartButtonEl.disabled = true;  // To prevent multiple clicks.\n",
              "      quickchartButtonEl.classList.add('colab-df-spinner');\n",
              "      try {\n",
              "        const charts = await google.colab.kernel.invokeFunction(\n",
              "            'suggestCharts', [key], {});\n",
              "      } catch (error) {\n",
              "        console.error('Error during call to suggestCharts:', error);\n",
              "      }\n",
              "      quickchartButtonEl.classList.remove('colab-df-spinner');\n",
              "      quickchartButtonEl.classList.add('colab-df-quickchart-complete');\n",
              "    }\n",
              "    (() => {\n",
              "      let quickchartButtonEl =\n",
              "        document.querySelector('#df-9f314316-fb51-4204-b5af-06e20cb3404a button');\n",
              "      quickchartButtonEl.style.display =\n",
              "        google.colab.kernel.accessAllowed ? 'block' : 'none';\n",
              "    })();\n",
              "  </script>\n",
              "</div>\n",
              "    </div>\n",
              "  </div>\n"
            ],
            "application/vnd.google.colaboratory.intrinsic+json": {
              "type": "dataframe",
              "summary": "{\n  \"name\": \"pd\",\n  \"rows\": 38,\n  \"fields\": [\n    {\n      \"column\": \"Type\",\n      \"properties\": {\n        \"dtype\": \"string\",\n        \"num_unique_values\": 38,\n        \"samples\": [\n          \"warezmaster.\",\n          \"xsnoop.\",\n          \"guess_passwd.\"\n        ],\n        \"semantic_type\": \"\",\n        \"description\": \"\"\n      }\n    }\n  ]\n}"
            }
          },
          "metadata": {},
          "execution_count": 400
        }
      ],
      "source": [
        "#Obtain the class number for Normal entries\n",
        "pd.DataFrame(le.classes_, columns = ['Type'])"
      ]
    },
    {
      "cell_type": "code",
      "source": [
        "y_test"
      ],
      "metadata": {
        "id": "6adiUB0Dpemb",
        "outputId": "59ed802d-c5fe-4979-9074-6953205a26b1",
        "colab": {
          "base_uri": "https://localhost:8080/"
        }
      },
      "execution_count": 401,
      "outputs": [
        {
          "output_type": "execute_result",
          "data": {
            "text/plain": [
              "array([16, 16, 16, ..., 16, 16, 16])"
            ]
          },
          "metadata": {},
          "execution_count": 401
        }
      ]
    },
    {
      "cell_type": "code",
      "execution_count": 402,
      "metadata": {
        "id": "GYd_E0_d_1kM"
      },
      "outputs": [],
      "source": [
        "# Converting labels to Binary\n",
        "\n",
        "y_test[y_test != 11] = 1\n",
        "y_test[y_test == 11] = 0\n",
        "y_train[y_train != 11] = 1\n",
        "y_train[y_train == 11] = 0"
      ]
    },
    {
      "cell_type": "markdown",
      "metadata": {
        "id": "K8bgyx5k_1kM"
      },
      "source": [
        "We will now split the dataset into normal and anomalous data. We will need to do this in order to be able to train GANs to generate Normal packets only and then predict the anomaly based on the Discriminator output. The details regarding this will be covered later in the lab."
      ]
    },
    {
      "cell_type": "code",
      "execution_count": 403,
      "metadata": {
        "id": "to5nXR_P_1kM"
      },
      "outputs": [],
      "source": [
        "#Subsetting only Normal Network packets in our training set\n",
        "\n",
        "temp_df = x_train.copy()\n",
        "temp_df['label'] = y_train\n",
        "temp_df = temp_df.loc[temp_df['label'] == 0]\n",
        "temp_df = temp_df.drop('label', axis = 1)\n",
        "x_train = temp_df.copy()"
      ]
    },
    {
      "cell_type": "markdown",
      "metadata": {
        "id": "itRX22fl_1kM"
      },
      "source": [
        "Similar to Lab 2, we scale the input training data between 0 and 1 before feeding it to the model."
      ]
    },
    {
      "cell_type": "code",
      "source": [
        "# Normalize the above splits using the MinMaxScaler from the scikit learn package\n",
        "scaler = MinMaxScaler()\n",
        "\n",
        "# Make sure to only fit the scaler on the training data\n",
        "x_train = scaler.fit_transform(x_train)\n",
        "x_test = scaler.transform(x_test)\n",
        "\n",
        "#Creating dataset dictionary\n",
        "dataset = {}\n",
        "dataset['x_train'] = x_train.astype(np.float32)\n",
        "dataset['y_train'] = y_train.astype(np.float32)\n",
        "dataset['x_test']  = x_test.astype(np.float32)\n",
        "dataset['y_test']  = y_test.astype(np.float32)"
      ],
      "metadata": {
        "id": "nuCu08jxlVEx"
      },
      "execution_count": 404,
      "outputs": []
    },
    {
      "cell_type": "markdown",
      "metadata": {
        "id": "vaqR7rzK_1kN"
      },
      "source": [
        "**Summary of the datasets** :\n",
        "- The Training set consists of only normal network packets.\n",
        "- The Testing set comprises a small number of anomalous network packets of about 1%, reflecting what we see in the real world.\n"
      ]
    },
    {
      "cell_type": "code",
      "execution_count": 405,
      "metadata": {
        "id": "4llraS28_1kN",
        "outputId": "55a54d6a-d6e7-426b-8955-35fb4cbdbac3",
        "colab": {
          "base_uri": "https://localhost:8080/"
        }
      },
      "outputs": [
        {
          "output_type": "stream",
          "name": "stdout",
          "text": [
            "Number of Normal Network packets in the Training set: 15\n",
            "Number of Normal Network packets in the Testing set: 7\n",
            "Number of Anomalous Network packets in the Testing set: 16656\n"
          ]
        }
      ],
      "source": [
        "# check how many anomalies are in our Testing set\n",
        "print('Number of Normal Network packets in the Training set:', x_train.shape[0])\n",
        "print('Number of Normal Network packets in the Testing set:', collections.Counter(y_test)[0])\n",
        "print('Number of Anomalous Network packets in the Testing set:', collections.Counter(y_test)[1])"
      ]
    },
    {
      "cell_type": "markdown",
      "metadata": {
        "id": "AJEaKmi5_1kN"
      },
      "source": [
        "## Section 2: Generative Adversarial Networks"
      ]
    },
    {
      "cell_type": "markdown",
      "metadata": {
        "id": "GGuLGhET_1kN"
      },
      "source": [
        "Generative Adversarial Networks (GAN) were introduced by Ian Goodfellow in [Generative Adversarial Networks](https://arxiv.org/abs/1406.2661), Goodfellow, 2014.\n",
        "\n",
        "<br>\n",
        "<img src=\"https://drive.google.com/uc?id=14f7ZwXxyigpwx7bIVFxAOSb_aV28bFav\" alt=\"Alt text that describes the graphic\" title=\"Title text\" />\n",
        "<br>\n",
        "\n",
        "\n",
        "The GAN consists of two networks namely:\n",
        "- The generator `G` that produces fake samples\n",
        "- The discriminator `D` that that receives samples from both `G` and the dataset.\n",
        "\n",
        "During Training the two networks have competing goals. The generator tries to fool the discriminator by outputting values that resemble real data and the discriminator tries to become better at distinguishing between the real and fake data.\n",
        "\n",
        "Mathematically, this means that the Generator's weights are optimized to maximize the probability that fake data is classified as belonging to the real data. The discriminators's weights are optimized to maximize the probability that the real input data is classified as real while minimizing the probability of fake input data being classified as real.\n",
        "\n",
        "Optimality is reached when the generator produces an output that the disciminator cannot concretely label as real or fake and this, happens when either of the networks cannot improve anymore.\n",
        "\n",
        "<img src=https://github.com/TAMIDSpiyalong/Introduction-to-Machine-Learning-for-Energy/blob/main/images/gan-optimality.PNG?raw=1 alt=\"Alt text that describes the graphic\" title=\"Title text\" />\n",
        "\n",
        "The first part of the above equation reflects the log probability of the discriminator predicting that the input sample is genuine and the second half reflects the probability of the Discriminator predicting that the Generator's output is not genuine.\n",
        "\n",
        "In this lab, we will be train our GAN on normal network packets. The generator inputs noise and as training progresses the GAN learns the mapping between these random values to the input distribution. The discriminator outputs a score of how likely the the generated output resembles the real data."
      ]
    },
    {
      "cell_type": "markdown",
      "metadata": {
        "id": "ieATzFAf_1kN"
      },
      "source": [
        "### 2.1 Generator Network"
      ]
    },
    {
      "cell_type": "markdown",
      "metadata": {
        "id": "LqUKDAeI_1kN"
      },
      "source": [
        "The Generator is used to synthesize fake data points. As shown below, it consists of 5 Dense Layers with a `tanh` activation function and uses `binary cross-entropy` for calculating the generator loss. Binary cross-entropy loss measures the performance of a two class classification model whose output is a probability value between 0 and 1. A perfect model would have a loss of 0."
      ]
    },
    {
      "cell_type": "markdown",
      "metadata": {
        "id": "5gXCbBBC_1kN"
      },
      "source": [
        "![layers](https://github.com/TAMIDSpiyalong/Introduction-to-Machine-Learning-for-Energy/blob/main/images/layers.png?raw=1)"
      ]
    },
    {
      "cell_type": "code",
      "execution_count": 406,
      "metadata": {
        "id": "4RkjUu9j_1kN"
      },
      "outputs": [],
      "source": [
        "# Defining the Generator network\n",
        "\n",
        "def get_generator(optimizer):\n",
        "\n",
        "    generator = Sequential()\n",
        "    generator.add(Dense(64, input_dim=114, kernel_initializer=initializers.glorot_normal(seed=42)))\n",
        "    generator.add(Activation('tanh'))\n",
        "\n",
        "    generator.add(Dense(128))\n",
        "    generator.add(Activation('tanh'))\n",
        "\n",
        "    generator.add(Dense(256))\n",
        "    generator.add(Activation('tanh'))\n",
        "\n",
        "    generator.add(Dense(256))\n",
        "    generator.add(Activation('tanh'))\n",
        "\n",
        "    generator.add(Dense(512))\n",
        "    generator.add(Activation('tanh'))\n",
        "\n",
        "    generator.add(Dense(114, activation='tanh'))\n",
        "\n",
        "    generator.compile(loss='binary_crossentropy', optimizer=optimizer)\n",
        "\n",
        "    return generator"
      ]
    },
    {
      "cell_type": "markdown",
      "metadata": {
        "id": "Z4lDvWcp_1kN"
      },
      "source": [
        "### 2.2 Discriminator Network"
      ]
    },
    {
      "cell_type": "markdown",
      "metadata": {
        "id": "bDoMptZ8_1kO"
      },
      "source": [
        "![layers2](https://github.com/TAMIDSpiyalong/Introduction-to-Machine-Learning-for-Energy/blob/main/images/layers2.png?raw=1)"
      ]
    },
    {
      "cell_type": "markdown",
      "metadata": {
        "id": "5c-wS_io_1kO"
      },
      "source": [
        "The Discriminator basically outputs the score of a sample belonging to the real dataset or the synthetic dataset. It consists of 6 dense layers-each followed by a dropout layer to help prevent overfitting. The sigmoid activation function is applied to the final layer to obtain a value in the range 0 to 1."
      ]
    },
    {
      "cell_type": "code",
      "execution_count": 407,
      "metadata": {
        "id": "9dYs-EvB_1kO"
      },
      "outputs": [],
      "source": [
        "##### Defining the Discriminator network\n",
        "\n",
        "def get_discriminator(optimizer):\n",
        "\n",
        "    discriminator = Sequential()\n",
        "\n",
        "    discriminator.add(Dense(256, input_dim=114, kernel_initializer=initializers.glorot_normal(seed=42)))\n",
        "    discriminator.add(Activation('relu'))\n",
        "    discriminator.add(Dropout(0.2))\n",
        "\n",
        "    discriminator.add(Dense(128))\n",
        "    discriminator.add(Activation('relu'))\n",
        "    discriminator.add(Dropout(0.2))\n",
        "\n",
        "    discriminator.add(Dense(128))\n",
        "    discriminator.add(Activation('relu'))\n",
        "    discriminator.add(Dropout(0.2))\n",
        "\n",
        "    discriminator.add(Dense(128))\n",
        "    discriminator.add(Activation('relu'))\n",
        "    discriminator.add(Dropout(0.2))\n",
        "\n",
        "    discriminator.add(Dense(128))\n",
        "    discriminator.add(Activation('relu'))\n",
        "    discriminator.add(Dropout(0.2))\n",
        "\n",
        "    discriminator.add(Dense(1))\n",
        "    discriminator.add(Activation('sigmoid'))\n",
        "\n",
        "    discriminator.compile(loss='binary_crossentropy', optimizer=optimizer)\n",
        "\n",
        "    return discriminator"
      ]
    },
    {
      "cell_type": "markdown",
      "metadata": {
        "id": "0iXs-sig_1kO"
      },
      "source": [
        "### 2.3 Building the Network"
      ]
    },
    {
      "cell_type": "markdown",
      "metadata": {
        "id": "iEMCCsVp_1kO"
      },
      "source": [
        "Previously we built the individual networks that constitute the GAN. Let us now stich them together by using the generator and discriminator as individual layers of the overall generative adversarial network. We set the field `discriminator.trainable = False` as we want to alter the weights of only one of them during training."
      ]
    },
    {
      "cell_type": "code",
      "execution_count": 408,
      "metadata": {
        "id": "KFLCJoex_1kO"
      },
      "outputs": [],
      "source": [
        "def get_gan_network(discriminator, generator, optimizer,input_dim=114):\n",
        "\n",
        "    discriminator.trainable = False\n",
        "    gan_input = Input(shape=(input_dim,))\n",
        "    x = generator(gan_input)\n",
        "    gan_output = discriminator(x)\n",
        "\n",
        "    gan = Model(inputs=gan_input, outputs=gan_output)\n",
        "    gan.compile(loss='binary_crossentropy', optimizer=optimizer)\n",
        "\n",
        "    return gan"
      ]
    },
    {
      "cell_type": "markdown",
      "metadata": {
        "id": "VlhAiSnL_1kO"
      },
      "source": [
        "### 2.4 Setting the Hyperparameters"
      ]
    },
    {
      "cell_type": "markdown",
      "metadata": {
        "id": "83Vk6u30_1kO"
      },
      "source": [
        "Training a GAN can be quite tricky and time consuming. Refer to this <a href=\"https://github.com/soumith/ganhacks#authors\">  link </a> to get a few ideas on how you could get your models to converge faster by choosing appropriate hyperparameters."
      ]
    },
    {
      "cell_type": "code",
      "execution_count": 409,
      "metadata": {
        "id": "OYKruoms_1kO"
      },
      "outputs": [],
      "source": [
        "learning_rate = 0.00001\n",
        "batch_size = 512\n",
        "epochs = 10\n",
        "adam = Adam(learning_rate = learning_rate,beta_1 = 0.5)"
      ]
    },
    {
      "cell_type": "markdown",
      "metadata": {
        "id": "2GfS8Wdv_1kP"
      },
      "source": [
        "### 2.5 Training the Model"
      ]
    },
    {
      "cell_type": "markdown",
      "metadata": {
        "id": "rkB-q5JG_1kP"
      },
      "source": [
        "The generator first predicts on a batch of noise samples. As the generator has randomly initialized weights initially, the output of the generator at this stage is nothing but meaningless values.\n",
        "<br>\n",
        "<img src=https://github.com/TAMIDSpiyalong/Introduction-to-Machine-Learning-for-Energy/blob/main/images/Gan-Page-04.jpg?raw=1 alt=\"Alt text that describes the graphic\" title=\"Title text\" />\n",
        "<br>\n",
        "The Discriminator inputs a stack of samples - the first half of which is the output of the generator and the second half is a batch of data samples from the real dataset. We train the Discriminator on this stack with the target labels  0 (Fake) for half the stack and 1 for the second half of the stack. The result of this is that the Discrimator is able to distinguish between the Real and Fake samples.\n",
        "<br>\n",
        "<img src=https://github.com/TAMIDSpiyalong/Introduction-to-Machine-Learning-for-Energy/blob/main/images/Gan-Page-2.jpg?raw=1 alt=\"Alt text that describes the graphic\" title=\"Title text\" />\n",
        "<br>\n",
        "The weights of the discriminator are frozen by setting the trainable parameter to False.\n",
        "\n",
        "To train the Generator, We first feed it random noise and let the entire GAN output a probability with the Discriminator weights remaining frozen. As expected this value would be less than 0.5 since the Discriminator was previously set to output a value close to 0 if the input was not genuine .\n",
        "<br>\n",
        "<img src=https://github.com/TAMIDSpiyalong/Introduction-to-Machine-Learning-for-Energy/blob/main/images/Gan-Page-3.jpg?raw=1 alt=\"Alt text that describes the graphic\" title=\"Title text\" />\n",
        "<br>\n",
        "\n",
        "Now comes the trick. We tell the GAN that the expected output is 1. This results in the errors being backpropagated only to the Generator. With every sample in the batch the generator's weights are tuned such that the output of the GAN is close to 1, meaning the Generator is now learning to produce samples that resemble the real data.\n",
        "\n",
        "This process loops back to the first step for each batch in the training set."
      ]
    },
    {
      "cell_type": "code",
      "source": [
        "x_train.shape,y_train.shape"
      ],
      "metadata": {
        "id": "RMkrVMefipy-",
        "outputId": "a9815c2a-b062-43a9-f9c4-c75e1841a28f",
        "colab": {
          "base_uri": "https://localhost:8080/"
        }
      },
      "execution_count": 410,
      "outputs": [
        {
          "output_type": "execute_result",
          "data": {
            "text/plain": [
              "((15, 108), (49989,))"
            ]
          },
          "metadata": {},
          "execution_count": 410
        }
      ]
    },
    {
      "cell_type": "code",
      "execution_count": 411,
      "metadata": {
        "id": "m18Kpr4Q_1kS",
        "outputId": "19f410e6-feec-41da-8bde-16c05961b391",
        "colab": {
          "base_uri": "https://localhost:8080/",
          "height": 211
        }
      },
      "outputs": [
        {
          "output_type": "stream",
          "name": "stderr",
          "text": [
            "0it [01:09, ?it/s]\n"
          ]
        },
        {
          "output_type": "error",
          "ename": "NameError",
          "evalue": "name 'g_loss' is not defined",
          "traceback": [
            "\u001b[0;31m---------------------------------------------------------------------------\u001b[0m",
            "\u001b[0;31mNameError\u001b[0m                                 Traceback (most recent call last)",
            "\u001b[0;32m<ipython-input-411-3d3be66bb7e4>\u001b[0m in \u001b[0;36m<cell line: 16>\u001b[0;34m()\u001b[0m\n\u001b[1;32m     44\u001b[0m         \u001b[0mgan_loss\u001b[0m\u001b[0;34m.\u001b[0m\u001b[0mappend\u001b[0m\u001b[0;34m(\u001b[0m\u001b[0mg_loss\u001b[0m\u001b[0;34m)\u001b[0m\u001b[0;34m\u001b[0m\u001b[0;34m\u001b[0m\u001b[0m\n\u001b[1;32m     45\u001b[0m \u001b[0;34m\u001b[0m\u001b[0m\n\u001b[0;32m---> 46\u001b[0;31m     \u001b[0mprint\u001b[0m\u001b[0;34m(\u001b[0m\u001b[0;34m\"Epoch %d Batch %d/%d [D loss: %f] [G loss:%f]\"\u001b[0m \u001b[0;34m%\u001b[0m \u001b[0;34m(\u001b[0m\u001b[0mepoch\u001b[0m\u001b[0;34m,\u001b[0m\u001b[0mindex\u001b[0m\u001b[0;34m,\u001b[0m\u001b[0mbatch_count\u001b[0m\u001b[0;34m,\u001b[0m \u001b[0md_loss\u001b[0m\u001b[0;34m,\u001b[0m \u001b[0mg_loss\u001b[0m\u001b[0;34m)\u001b[0m\u001b[0;34m)\u001b[0m\u001b[0;34m\u001b[0m\u001b[0;34m\u001b[0m\u001b[0m\n\u001b[0m",
            "\u001b[0;31mNameError\u001b[0m: name 'g_loss' is not defined"
          ]
        }
      ],
      "source": [
        "#Training the GAN\n",
        "x_train, y_train, x_test, y_test = dataset['x_train'], dataset['y_train'],dataset['x_test'],dataset['y_test']\n",
        "\n",
        "#Calculating the number of batches based on the batch size\n",
        "batch_count = x_train.shape[0] // batch_size\n",
        "pbar = tqdm(total=epochs * batch_count)\n",
        "gan_loss = []\n",
        "discriminator_loss = []\n",
        "\n",
        "#Inititalizing the network\n",
        "generator = get_generator(adam)\n",
        "discriminator = get_discriminator(adam)\n",
        "gan = get_gan_network(discriminator, generator, adam,input_dim=114)\n",
        "\n",
        "\n",
        "for epoch in range(epochs):\n",
        "    for index in range(batch_count):\n",
        "        pbar.update(1)\n",
        "        # Creating a random set of input noise and images\n",
        "        noise = np.random.normal(0, 1, size=[batch_size,114])\n",
        "\n",
        "        # Generate fake samples\n",
        "        generated_images = generator.predict_on_batch(noise)\n",
        "\n",
        "        #Obtain a batch of normal network packets\n",
        "        image_batch = x_train[index * batch_size: (index + 1) * batch_size]\n",
        "\n",
        "        X = np.vstack((generated_images,image_batch))\n",
        "        y_dis = np.ones(2*batch_size)\n",
        "        y_dis[:batch_size] = 0\n",
        "\n",
        "        # Train discriminator\n",
        "        discriminator.trainable = True\n",
        "        d_loss= discriminator.train_on_batch(X, y_dis)\n",
        "\n",
        "        # Train generator\n",
        "        noise = np.random.uniform(0, 1, size=[batch_size, 114])\n",
        "        y_gen = np.ones(batch_size)\n",
        "        discriminator.trainable = False\n",
        "        g_loss = gan.train_on_batch(noise, y_gen)\n",
        "\n",
        "        #Record the losses\n",
        "        discriminator_loss.append(d_loss)\n",
        "        gan_loss.append(g_loss)\n",
        "\n",
        "    print(\"Epoch %d Batch %d/%d [D loss: %f] [G loss:%f]\" % (epoch,index,batch_count, d_loss, g_loss))\n"
      ]
    },
    {
      "cell_type": "code",
      "source": [
        "y_dis"
      ],
      "metadata": {
        "id": "3J8DPGoKnMDg"
      },
      "execution_count": null,
      "outputs": []
    },
    {
      "cell_type": "code",
      "source": [],
      "metadata": {
        "id": "C9dtyCGUolOi"
      },
      "execution_count": null,
      "outputs": []
    },
    {
      "cell_type": "code",
      "source": [],
      "metadata": {
        "id": "v1pQbHiOolRl"
      },
      "execution_count": null,
      "outputs": []
    },
    {
      "cell_type": "markdown",
      "metadata": {
        "id": "oLkmySdP_1kS"
      },
      "source": [
        "### 2.6 Training Loss"
      ]
    },
    {
      "cell_type": "markdown",
      "metadata": {
        "id": "LuHXb-fE_1kS"
      },
      "source": [
        "Let's visualize the generator and discriminator training losses!"
      ]
    },
    {
      "cell_type": "code",
      "execution_count": null,
      "metadata": {
        "id": "YWqWQUF4_1kS"
      },
      "outputs": [],
      "source": [
        "fig, ax = plt.subplots()\n",
        "plt.plot(discriminator_loss, label='Discriminator')\n",
        "plt.plot(gan_loss, label='Generator')\n",
        "plt.title(\"Training Losses\")\n",
        "plt.legend()"
      ]
    },
    {
      "cell_type": "markdown",
      "metadata": {
        "id": "8xtMAgO9_1kT"
      },
      "source": [
        "The loss convergence towards the end signifies that the GAN model has reached optimality"
      ]
    },
    {
      "cell_type": "markdown",
      "metadata": {
        "id": "GLVWW-9o_1kT"
      },
      "source": [
        "### 2.7 Anomaly Detection"
      ]
    },
    {
      "cell_type": "markdown",
      "metadata": {
        "id": "NBBViOrB_1kT"
      },
      "source": [
        "What was the result of all the training we did?  \n",
        "\n",
        "We now have a generator that can input a random seed value and produce an output that closely resembles the data it was trained on. You can read about how this strategy was used to come up with imaginary celebrities <a href =\"https://research.nvidia.com/publication/2017-10_Progressive-Growing-of\" >here</a>\n",
        "\n",
        "The Discriminator that we trained ended up being a very powerful classifier that can tell if a sample point is representative of the true data distribution it was trained on or not and hence can be used for Anomaly Detection!\n",
        "\n",
        "Let us feed our test data into the discriminator and obtain scores."
      ]
    },
    {
      "cell_type": "code",
      "execution_count": null,
      "metadata": {
        "id": "MQqkd_Mr_1kT"
      },
      "outputs": [],
      "source": [
        "# Predictions on the test set\n",
        "\n",
        "nr_batches_test = np.ceil(x_test.shape[0] // batch_size).astype(np.int32)\n",
        "\n",
        "results =[]\n",
        "\n",
        "for t in range(nr_batches_test +1):\n",
        "        ran_from = t * batch_size\n",
        "        ran_to = (t + 1) * batch_size\n",
        "        image_batch = x_test[ran_from:ran_to]\n",
        "        tmp_rslt = discriminator.predict(x=image_batch,batch_size=128,verbose=0)\n",
        "        results = np.append(results, tmp_rslt)"
      ]
    },
    {
      "cell_type": "markdown",
      "metadata": {
        "id": "v8FtfAwS_1kT"
      },
      "source": [
        "Let us calculate the mean score for normal and anomalous samples in our test set. Ideally, we would like to see a score close to 1 for normal samples and 0 for anomalous samples. This would mean our classifier is doing well in distinguishing between the 2 classes.  "
      ]
    },
    {
      "cell_type": "code",
      "execution_count": null,
      "metadata": {
        "id": "kM-hQniM_1kT"
      },
      "outputs": [],
      "source": [
        "pd.options.display.float_format = '{:20,.7f}'.format\n",
        "results_df = pd.concat([pd.DataFrame(results),pd.DataFrame(y_test)], axis=1)\n",
        "results_df.columns = ['results','y_test']\n",
        "print ('Mean score for normal packets :', results_df.loc[results_df['y_test'] == 0, 'results'].mean() )\n",
        "print ('Mean score for anomalous packets :', results_df.loc[results_df['y_test'] == 1, 'results'].mean())"
      ]
    },
    {
      "cell_type": "markdown",
      "metadata": {
        "id": "F20rZ0Bk_1kT"
      },
      "source": [
        "But how exaclty do we identify our Anomalies?\n",
        "\n",
        "Although there are several ways to do this, let us use a more straight forward way for detection. Remember 1% of our test set comprised of anomalies. So, the lowest 1% of the scores should ideally constitute anomalies. Let us test our hypothesis below."
      ]
    },
    {
      "cell_type": "code",
      "execution_count": null,
      "metadata": {
        "id": "GIMhYIlL_1kT"
      },
      "outputs": [],
      "source": [
        "#Obtaining the lowest 1% score\n",
        "per = np.percentile(results,1)\n",
        "y_pred = results.copy()\n",
        "y_pred = np.array(y_pred)\n",
        "\n",
        "#Thresholding based on the score\n",
        "inds = (y_pred > per)\n",
        "inds_comp = (y_pred <= per)\n",
        "y_pred[inds] = 0\n",
        "y_pred[inds_comp] = 1\n"
      ]
    },
    {
      "cell_type": "markdown",
      "metadata": {
        "id": "29On_45m_1kT"
      },
      "source": [
        "## Section 3: Evaluation"
      ]
    },
    {
      "cell_type": "markdown",
      "metadata": {
        "id": "iC8X8G1D_1kU"
      },
      "source": [
        "The Accuracy, Precision and Recall values of our model on the test set are as follows:"
      ]
    },
    {
      "cell_type": "code",
      "execution_count": null,
      "metadata": {
        "id": "gh-F_nh3_1kU"
      },
      "outputs": [],
      "source": [
        "precision, recall, f1,_ = precision_recall_fscore_support(y_test,y_pred,average='binary')\n",
        "print ('Accuracy Score :',accuracy_score(y_test, y_pred) )\n",
        "print ('Precision :',precision )\n",
        "print ('Recall :',recall )\n",
        "print ('F1 :',f1 )"
      ]
    },
    {
      "cell_type": "markdown",
      "metadata": {
        "id": "3fsxtAK__1kU"
      },
      "source": [
        "### 3.1 Confusion Matrix"
      ]
    },
    {
      "cell_type": "markdown",
      "metadata": {
        "id": "JhCjt6-T_1kU"
      },
      "source": [
        "The confusion matrix is a good way to understand if our predictions agree with the target labels. You've implemented one of these in both of the previous labs, so in this section, you'll get a chance to build your own."
      ]
    },
    {
      "cell_type": "code",
      "execution_count": null,
      "metadata": {
        "id": "2C21zCDN_1kU"
      },
      "outputs": [],
      "source": [
        "cm = confusion_matrix(y_test, y_pred)\n",
        "\n",
        "print ('Confusion Matrix :')\n",
        "\n",
        "def plot_confusion_matrix(cm, title='Confusion matrix', cmap=plt.cm.Greens):\n",
        "    plt.figure(figsize=(10,10),)\n",
        "\n",
        "    plt.imshow(cm, interpolation='nearest', cmap=cmap)\n",
        "    plt.title(title)\n",
        "    plt.colorbar()\n",
        "    plt.tight_layout()\n",
        "\n",
        "    width, height = cm.shape\n",
        "\n",
        "    for x in range(width):\n",
        "        for y in range(height):\n",
        "            plt.annotate(str(cm[x][y]), xy=(y, x),\n",
        "                        horizontalalignment='center',\n",
        "                        verticalalignment='center')\n",
        "    plt.ylabel('True label')\n",
        "    plt.xlabel('Predicted label')\n",
        "\n",
        "\n",
        "plot_confusion_matrix(cm)"
      ]
    },
    {
      "cell_type": "markdown",
      "metadata": {
        "id": "d7Mg2g3z_1kU"
      },
      "source": [
        "### 3.2 ROC Curve"
      ]
    },
    {
      "cell_type": "markdown",
      "metadata": {
        "id": "Rtt6pO29_1kU"
      },
      "source": [
        "Let's see how our ROC curve looks with the predictions. The closer the AUC is to 1, the better the model."
      ]
    },
    {
      "cell_type": "code",
      "execution_count": null,
      "metadata": {
        "id": "GmbMQTFW_1kU"
      },
      "outputs": [],
      "source": [
        "fpr_keras, tpr_keras, thresholds_keras = roc_curve(y_test, y_pred)\n",
        "auc_keras = auc(fpr_keras, tpr_keras)\n",
        "plt.figure(1)\n",
        "plt.plot([0, 1], [0, 1], 'k--')\n",
        "plt.plot(fpr_keras, tpr_keras, label='Keras (area = {:.2f})'.format(auc_keras))\n",
        "\n",
        "plt.xlabel('False positive rate')\n",
        "plt.ylabel('True positive rate')\n",
        "plt.title('ROC curve')\n",
        "plt.legend(loc='best')\n",
        "plt.show()"
      ]
    },
    {
      "cell_type": "markdown",
      "metadata": {
        "id": "hRgZ0hd1_1kV"
      },
      "source": [
        "## Conclusion"
      ]
    },
    {
      "cell_type": "markdown",
      "metadata": {
        "id": "yMrebeLL_1kV"
      },
      "source": [
        "- We successfully employed state of the art Generative Adversarial Networks for anomaly detection on high dimensional data such as the KDD dataset.\n",
        "- The GAN is particularly interesting  because it sets up a supervised learning problem in order to do unsupervised learning. While it generates fake data, and tries to determine if a sample is fake or real based on trivial labels, it really does not know what the different classes in the dataset are.\n",
        "- On the downside, GANs can be tough to train and suffer from convergence issues particularly because, the discriminator during training does not learn as much from the true dataset as it learns to distinguish between the probability distributions."
      ]
    },
    {
      "cell_type": "markdown",
      "metadata": {
        "id": "lxT1I8hb_1kV"
      },
      "source": [
        "Take a moment to consider how each of the three methods actually detected anomalies. If time, take a moment to attempt to articulate each to a partner or write in a notebook or the space below. Bonus. Reflect on how each responded to the rarity of anomalies and why."
      ]
    },
    {
      "cell_type": "raw",
      "metadata": {
        "id": "PSxKgKUD_1kV"
      },
      "source": [
        "Answer:"
      ]
    },
    {
      "cell_type": "markdown",
      "metadata": {
        "id": "fyZWKV5f_1kV"
      },
      "source": [
        "## References"
      ]
    },
    {
      "cell_type": "markdown",
      "metadata": {
        "id": "W8XNTQ19_1kV"
      },
      "source": [
        "<ol>\n",
        "<li>Zenati, H., Foo, C., Lecouat, B., Manek, G. and Chandrasekhar, V. (2018). Efficient GAN-Based Anomaly Detection. [online]   Arxiv.org. Available at: https://arxiv.org/abs/1802.06222</li>\n",
        "\n",
        "<li>Ben Poole Alex Lamb Martin Arjovsky Olivier Mastropietro Vincent Dumoulin, Ishmael Belghazi and Aaron Courville. Adversarially learned inference. International Conference on Learning Representations, 2017.</li>\n",
        "\n",
        "<li>Antonia Creswell, Tom White, Vincent Dumoulin, Kai Arulkumaran, Biswa Sengupta, and Anil A.Bharath. Generative adversarial networks: An overview. In the Proceedings of IEEE Signal Processing Magazine Special Issue on Deep Learning for Visual Understanding, accepted paper,2017.</li>\n",
        "\n",
        "<li>Martin Renqiang Min Wei Cheng Cristian Lumezanu Daeki Cho Haifeng Chen Bo Zong, Qi Song.Deep autoencoding gaussian mixture model for unsupervised anomaly detection. International Conference on Learning Representations, 2018.</li>\n",
        "\n",
        "<li>Shuangfei Zhai, Yu Cheng, Weining Lu, and Zhongfei Zhang. Deep structured energy based models for anomaly detection. International Conference on Machine Learning, pp. 1100-1109, 2016.</li>\n",
        "</ol>\n",
        "\n"
      ]
    }
  ],
  "metadata": {
    "kernelspec": {
      "display_name": "Python 3 (ipykernel)",
      "language": "python",
      "name": "python3"
    },
    "language_info": {
      "codemirror_mode": {
        "name": "ipython",
        "version": 3
      },
      "file_extension": ".py",
      "mimetype": "text/x-python",
      "name": "python",
      "nbconvert_exporter": "python",
      "pygments_lexer": "ipython3",
      "version": "3.8.10"
    },
    "colab": {
      "provenance": [],
      "include_colab_link": true
    }
  },
  "nbformat": 4,
  "nbformat_minor": 0
}